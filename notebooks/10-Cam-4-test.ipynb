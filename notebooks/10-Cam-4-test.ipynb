{
 "cells": [
  {
   "cell_type": "code",
   "execution_count": 1,
   "metadata": {},
   "outputs": [],
   "source": [
    "using JLD2\n",
    "using FileIO\n",
    "using PyPlot\n",
    "using Statistics\n",
    "using StatsBase \n",
    "using Distributions\n",
    "using LinearAlgebra\n",
    "using HDF5"
   ]
  },
  {
   "cell_type": "code",
   "execution_count": 2,
   "metadata": {},
   "outputs": [],
   "source": [
    "using IntervalSets\n",
    "using Random, ArraysOfArrays\n",
    "using ValueShapes\n",
    "using Measurements"
   ]
  },
  {
   "cell_type": "code",
   "execution_count": 3,
   "metadata": {},
   "outputs": [
    {
     "data": {
      "text/plain": [
       "corner_plots (generic function with 1 method)"
      ]
     },
     "execution_count": 3,
     "metadata": {},
     "output_type": "execute_result"
    }
   ],
   "source": [
    "include(\"../src/utill.jl\")"
   ]
  },
  {
   "cell_type": "code",
   "execution_count": 4,
   "metadata": {},
   "outputs": [],
   "source": [
    "# using Revise\n",
    "using BAT "
   ]
  },
  {
   "cell_type": "code",
   "execution_count": 5,
   "metadata": {},
   "outputs": [
    {
     "data": {
      "text/plain": [
       "(cam_1 = [0.16922280747049184 0.14725876292577664 … 9.804539409837765e-19 9.91744496519356e-19; 0.13698894345024634 0.12178663702930428 … 9.52516847848642e-19 9.559768551032814e-19; … ; 3.392849462608846e-8 3.527635033404157e-8 … 0.06746695270012963 0.06747823881205484; 3.392849462607551e-8 3.527635033402785e-8 … 0.07032651372714573 0.07033882138934304], cam_2 = [0.2489166139447179 0.22131578631138504 … 2.660536939905101e-19 2.416060283321948e-19; 0.19738388190897505 0.1792450446630506 … 2.683303555266501e-19 2.4407251042449397e-19; … ; 6.893366827562823e-5 5.917531632521968e-5 … 0.06742289307540646 0.06743419376894891; 9.06994723790053e-5 7.783372485099013e-5 … 0.07027846175518433 0.0702907845309871], cam_3 = [0.12876476555810015 0.11096323591192903 … 9.114644254616891e-19 8.462095254466114e-19; 0.10510231890436048 0.09253546225811259 … 9.511992741342331e-19 9.04229043901602e-19; … ; 3.3471334001937267e-8 3.44507918466309e-8 … 0.06749057222978075 0.06750185016109878; 3.3471334001928214e-8 3.445079184662149e-8 … 0.07035227528184688 0.07036457444414357], cam_4 = [0.0007087854092550968 0.0005944773170191745 … 2.2751381449196384e-18 2.0500856401497565e-18; 0.001009329872470368 0.0008535275076831216 … 3.211710342236649e-18 3.0690513263712266e-18; … ; 3.3009157803280766e-8 3.301056146396044e-8 … 0.06779964915464018 0.06781088182666632; 3.3009157803306455e-8 3.301056146398905e-8 … 0.07068937423120525 0.07070162957543832])"
      ]
     },
     "execution_count": 5,
     "metadata": {},
     "output_type": "execute_result"
    }
   ],
   "source": [
    "conv_mat = load(\"../data/experiment/dataset_2/m2/conv_matrix.jld2\")\n",
    "\n",
    "conv_matrices = (\n",
    "    cam_1 = conv_mat[\"cam_1\"],\n",
    "    cam_2 = conv_mat[\"cam_2\"],\n",
    "    cam_3 = conv_mat[\"cam_3\"],\n",
    "    cam_4 = conv_mat[\"cam_4\"],\n",
    ")"
   ]
  },
  {
   "cell_type": "code",
   "execution_count": 6,
   "metadata": {},
   "outputs": [],
   "source": [
    "# Experiment Event: \n",
    "\n",
    "images = load(\"../data/experiment/dataset_2/m2/images-satur.jld2\");\n",
    "\n",
    "event_number = 40\n",
    "\n",
    "event = (\n",
    "    cam_1 = images[\"cam_1\"][event_number,:,:],\n",
    "    cam_2 = images[\"cam_2\"][event_number,:,:],\n",
    "    cam_3 = images[\"cam_3\"][event_number,:,:],\n",
    "    cam_4 = images[\"cam_4\"][event_number,:,:],\n",
    "    population = images[\"charge\"][event_number,:][1],\n",
    ")\n",
    "\n",
    "data = event.cam_4;"
   ]
  },
  {
   "cell_type": "code",
   "execution_count": 7,
   "metadata": {},
   "outputs": [
    {
     "data": {
      "image/png": "[encoded data removed]",
      "text/plain": [
       "Figure(PyObject <Figure size 600x600 with 1 Axes>)"
      ]
     },
     "metadata": {},
     "output_type": "display_data"
    },
    {
     "data": {
      "text/plain": [
       "PyObject Text(0.5, 1.0, 'IS2')"
      ]
     },
     "execution_count": 7,
     "metadata": {},
     "output_type": "execute_result"
    }
   ],
   "source": [
    "img, ax = plt.subplots(1,1, figsize=(6,6))\n",
    "\n",
    "ax.imshow(data)\n",
    "\n",
    "ax.set_xlabel(\"x\")\n",
    "ax.set_ylabel(\"y\")\n",
    "ax.set_title(\"IS2\")"
   ]
  },
  {
   "cell_type": "code",
   "execution_count": 8,
   "metadata": {},
   "outputs": [],
   "source": [
    "prior = NamedTupleDist(\n",
    "    μ_x = 20 .. 50,\n",
    "    μ_y = 20 .. 50,\n",
    "    σ_x = 3 .. 20,\n",
    "    σ_y = 3 .. 20,\n",
    "    i = 1 .. 2^20,\n",
    "    b = 0 .. 40,\n",
    "    α = 0.1 .. 10\n",
    "    );"
   ]
  },
  {
   "cell_type": "code",
   "execution_count": 9,
   "metadata": {},
   "outputs": [
    {
     "data": {
      "text/plain": [
       "#11 (generic function with 1 method)"
      ]
     },
     "execution_count": 9,
     "metadata": {},
     "output_type": "execute_result"
    }
   ],
   "source": [
    "log_likelihood_1 = let data = data\n",
    "    \n",
    "    params -> begin\n",
    "    \n",
    "        log_l = 0.0\n",
    "        \n",
    "        for pix_ind in CartesianIndices(data)\n",
    "            \n",
    "            if !isnan(data[pix_ind])\n",
    "                x_edge = pix_ind.I[1] \n",
    "                y_edge = pix_ind.I[2] \n",
    "\n",
    "                pix_prediction::Float64 = cdf(Normal(params.μ_x,params.σ_x), x_edge) - cdf(Normal(params.μ_x,params.σ_x), x_edge - 1)\n",
    "                pix_prediction *= cdf(Normal(params.μ_y,params.σ_y), y_edge) - cdf(Normal(params.μ_y,params.σ_y), y_edge - 1)\n",
    "\n",
    "                pix_prediction = pix_prediction*params.i + params.b\n",
    "\n",
    "    #             log_l += log(pdf(Normal(pix_prediction, 1 + 5*sqrt(pix_prediction)), data[pix_ind]+1))\n",
    "\n",
    "                log_l += log(pdf(truncated(Normal(pix_prediction, params.α*sqrt(pix_prediction)), 0.0, Inf), data[pix_ind]+1))\n",
    "            end\n",
    "        end\n",
    "    \n",
    "        return LogDVal(log_l)\n",
    "        \n",
    "    end\n",
    "end"
   ]
  },
  {
   "cell_type": "code",
   "execution_count": 10,
   "metadata": {},
   "outputs": [
    {
     "name": "stderr",
     "output_type": "stream",
     "text": [
      "┌ Info: Initializing new RNG of type Random123.Philox4x{UInt64,10}\n",
      "└ @ BAT /Users/vhafych/MPP-Server/gitrepos/BAT.jl/src/algotypes/bat_default.jl:44\n",
      "┌ Info: Trying to generate 4 viable MCMC chain(s).\n",
      "└ @ BAT /Users/vhafych/MPP-Server/gitrepos/BAT.jl/src/samplers/mcmc/mcmc_tuner.jl:193\n",
      "┌ Info: Selected 4 MCMC chain(s).\n",
      "└ @ BAT /Users/vhafych/MPP-Server/gitrepos/BAT.jl/src/samplers/mcmc/mcmc_tuner.jl:304\n",
      "┌ Info: Begin tuning of 4 MCMC chain(s).\n",
      "└ @ BAT /Users/vhafych/MPP-Server/gitrepos/BAT.jl/src/samplers/mcmc/mcmc_tuner.jl:65\n",
      "┌ Info: MCMC Tuning cycle 1 finished, 4 chains, 0 tuned, 0 converged.\n",
      "└ @ BAT /Users/vhafych/MPP-Server/gitrepos/BAT.jl/src/samplers/mcmc/mcmc_tuner.jl:98\n",
      "┌ Info: MCMC Tuning cycle 2 finished, 4 chains, 0 tuned, 0 converged.\n",
      "└ @ BAT /Users/vhafych/MPP-Server/gitrepos/BAT.jl/src/samplers/mcmc/mcmc_tuner.jl:98\n",
      "┌ Info: MCMC Tuning cycle 3 finished, 4 chains, 0 tuned, 0 converged.\n",
      "└ @ BAT /Users/vhafych/MPP-Server/gitrepos/BAT.jl/src/samplers/mcmc/mcmc_tuner.jl:98\n",
      "┌ Info: MCMC Tuning cycle 4 finished, 4 chains, 0 tuned, 0 converged.\n",
      "└ @ BAT /Users/vhafych/MPP-Server/gitrepos/BAT.jl/src/samplers/mcmc/mcmc_tuner.jl:98\n",
      "┌ Info: MCMC Tuning cycle 5 finished, 4 chains, 0 tuned, 0 converged.\n",
      "└ @ BAT /Users/vhafych/MPP-Server/gitrepos/BAT.jl/src/samplers/mcmc/mcmc_tuner.jl:98\n",
      "┌ Info: MCMC Tuning cycle 6 finished, 4 chains, 0 tuned, 0 converged.\n",
      "└ @ BAT /Users/vhafych/MPP-Server/gitrepos/BAT.jl/src/samplers/mcmc/mcmc_tuner.jl:98\n",
      "┌ Info: MCMC Tuning cycle 7 finished, 4 chains, 0 tuned, 0 converged.\n",
      "└ @ BAT /Users/vhafych/MPP-Server/gitrepos/BAT.jl/src/samplers/mcmc/mcmc_tuner.jl:98\n",
      "┌ Info: MCMC Tuning cycle 8 finished, 4 chains, 0 tuned, 0 converged.\n",
      "└ @ BAT /Users/vhafych/MPP-Server/gitrepos/BAT.jl/src/samplers/mcmc/mcmc_tuner.jl:98\n",
      "┌ Info: MCMC Tuning cycle 9 finished, 4 chains, 0 tuned, 0 converged.\n",
      "└ @ BAT /Users/vhafych/MPP-Server/gitrepos/BAT.jl/src/samplers/mcmc/mcmc_tuner.jl:98\n",
      "┌ Info: MCMC Tuning cycle 10 finished, 4 chains, 0 tuned, 0 converged.\n",
      "└ @ BAT /Users/vhafych/MPP-Server/gitrepos/BAT.jl/src/samplers/mcmc/mcmc_tuner.jl:98\n",
      "┌ Info: MCMC Tuning cycle 11 finished, 4 chains, 2 tuned, 0 converged.\n",
      "└ @ BAT /Users/vhafych/MPP-Server/gitrepos/BAT.jl/src/samplers/mcmc/mcmc_tuner.jl:98\n",
      "┌ Info: MCMC Tuning cycle 12 finished, 4 chains, 3 tuned, 0 converged.\n",
      "└ @ BAT /Users/vhafych/MPP-Server/gitrepos/BAT.jl/src/samplers/mcmc/mcmc_tuner.jl:98\n",
      "┌ Info: MCMC Tuning cycle 13 finished, 4 chains, 4 tuned, 0 converged.\n",
      "└ @ BAT /Users/vhafych/MPP-Server/gitrepos/BAT.jl/src/samplers/mcmc/mcmc_tuner.jl:98\n",
      "┌ Info: MCMC Tuning cycle 14 finished, 4 chains, 4 tuned, 4 converged.\n",
      "└ @ BAT /Users/vhafych/MPP-Server/gitrepos/BAT.jl/src/samplers/mcmc/mcmc_tuner.jl:98\n",
      "┌ Info: MCMC tuning of 4 chains successful after 14 cycle(s).\n",
      "└ @ BAT /Users/vhafych/MPP-Server/gitrepos/BAT.jl/src/samplers/mcmc/mcmc_tuner.jl:102\n"
     ]
    },
    {
     "name": "stdout",
     "output_type": "stream",
     "text": [
      " 46.278750 seconds (35.88 M allocations: 1.803 GiB, 0.59% gc time)\n"
     ]
    }
   ],
   "source": [
    "posterior = PosteriorDensity(log_likelihood_1, prior);\n",
    "algorithm = MetropolisHastings()\n",
    "\n",
    "nsamples = 10^4\n",
    "nchains = 4\n",
    "\n",
    "@time samples = bat_sample(posterior, (nsamples, nchains), algorithm,\n",
    "        max_nsteps = 10^4, max_time = 15, \n",
    "    ).result;"
   ]
  },
  {
   "cell_type": "code",
   "execution_count": 11,
   "metadata": {},
   "outputs": [
    {
     "data": {
      "image/png": "[encoded data removed]",
      "text/plain": [
       "Figure(PyObject <Figure size 600x600 with 49 Axes>)"
      ]
     },
     "metadata": {},
     "output_type": "display_data"
    }
   ],
   "source": [
    "dims = [1,2,3,4,5,6,7]\n",
    "names = [1,2,3,4,5,6,7]\n",
    "levels = [0.1, 0.8, 0.9, 0.95,  1,]\n",
    "# levels = [0.5, 1,]\n",
    "figsize = (6,6)\n",
    "n_bins = 20\n",
    "\n",
    "corner_plots(samples, dims, names, levels_quantiles = levels, figsize=figsize, N_bins=n_bins)"
   ]
  },
  {
   "cell_type": "code",
   "execution_count": 12,
   "metadata": {},
   "outputs": [
    {
     "data": {
      "text/plain": [
       "(μ_x = 33.988990867880915, μ_y = 35.33324580710159, σ_x = 9.024265833612793, σ_y = 9.497708196593015, i = 809484.7758016229, b = 18.14605997892845, α = 2.812626990778521)"
      ]
     },
     "execution_count": 12,
     "metadata": {},
     "output_type": "execute_result"
    }
   ],
   "source": [
    "mode_params = mode(samples)[1]"
   ]
  },
  {
   "cell_type": "code",
   "execution_count": 13,
   "metadata": {},
   "outputs": [],
   "source": [
    "image_reconstructed = zeros(Float64, size(data)...)\n",
    "\n",
    "for pix_ind in CartesianIndices(image_reconstructed)\n",
    "    \n",
    "    x_edge = pix_ind.I[1] \n",
    "    y_edge = pix_ind.I[2] \n",
    "\n",
    "    pix_prediction::Float64 = cdf(Normal(mode_params.μ_x,mode_params.σ_x), x_edge) - cdf(Normal(mode_params.μ_x,mode_params.σ_x), x_edge - 1)\n",
    "    pix_prediction *= cdf(Normal(mode_params.μ_y,mode_params.σ_y), y_edge) - cdf(Normal(mode_params.μ_y,mode_params.σ_y), y_edge - 1)\n",
    "\n",
    "    pix_prediction = pix_prediction*mode_params.i + mode_params.b\n",
    "    image_reconstructed[pix_ind] = pix_prediction\n",
    "end"
   ]
  },
  {
   "cell_type": "code",
   "execution_count": 14,
   "metadata": {},
   "outputs": [
    {
     "data": {
      "image/png": "[encoded data removed]",
      "text/plain": [
       "Figure(PyObject <Figure size 1200x600 with 2 Axes>)"
      ]
     },
     "metadata": {},
     "output_type": "display_data"
    },
    {
     "data": {
      "text/plain": [
       "PyObject Text(0.5, 1.0, 'Fit Function')"
      ]
     },
     "execution_count": 14,
     "metadata": {},
     "output_type": "execute_result"
    }
   ],
   "source": [
    "img, (ax, ax2) = plt.subplots(1,2, figsize=(12,6))\n",
    "\n",
    "ax.imshow(data)\n",
    "\n",
    "ax.axvline(mode_params.μ_x, linestyle=\"-\", color=\"lightgray\", alpha=0.5)\n",
    "ax.axhline(mode_params.μ_y, linestyle=\"-\", color=\"lightgray\", alpha=0.5)\n",
    "\n",
    "ax2.imshow(image_reconstructed)\n",
    "\n",
    "ax2.axvline(mode_params.μ_x, linestyle=\"-\", color=\"lightgray\", alpha=0.5)\n",
    "ax2.axhline(mode_params.μ_y, linestyle=\"-\", color=\"lightgray\", alpha=0.5)\n",
    "\n",
    "ax.set_xlabel(\"x\")\n",
    "ax.set_ylabel(\"y\")\n",
    "ax.set_title(\"Experimental Image\")\n",
    "\n",
    "ax2.set_xlabel(\"x\")\n",
    "ax2.set_ylabel(\"y\")\n",
    "ax2.set_title(\"Fit Function\")"
   ]
  },
  {
   "cell_type": "code",
   "execution_count": 15,
   "metadata": {},
   "outputs": [
    {
     "data": {
      "image/png": "[encoded data removed]",
      "text/plain": [
       "Figure(PyObject <Figure size 1200x500 with 2 Axes>)"
      ]
     },
     "metadata": {},
     "output_type": "display_data"
    },
    {
     "data": {
      "text/plain": [
       "(0.0, 2000.0)"
      ]
     },
     "execution_count": 15,
     "metadata": {},
     "output_type": "execute_result"
    }
   ],
   "source": [
    "x = round(Int64, mode_params.μ_x)\n",
    "y = round(Int64, mode_params.μ_y)\n",
    "\n",
    "img, ax = plt.subplots(1,2, figsize=(12,5))\n",
    "\n",
    "ax[1].plot(image_reconstructed[x, :], label=\"Fit\")\n",
    "ax[1].plot(data[x, :], label=\"Experimental\")\n",
    "ax[1].legend()\n",
    "\n",
    "ax[1].set_xlabel(\"y\")\n",
    "ax[1].set_title(\"Crossection\")\n",
    "\n",
    "ax[2].set_xlabel(\"x\")\n",
    "ax[2].set_title(\"Crossection\")\n",
    "\n",
    "ax[2].plot(image_reconstructed[:, y])\n",
    "ax[2].plot(event.cam_4[:, y])\n",
    "\n",
    "ax[1].set_ylim(0,2000)\n",
    "ax[2].set_ylim(0,2000)"
   ]
  },
  {
   "cell_type": "code",
   "execution_count": 16,
   "metadata": {},
   "outputs": [
    {
     "data": {
      "image/png": "[encoded data removed]",
      "text/plain": [
       "Figure(PyObject <Figure size 1200x500 with 2 Axes>)"
      ]
     },
     "metadata": {},
     "output_type": "display_data"
    },
    {
     "data": {
      "text/plain": [
       "PyObject Text(0.5, 1.0, 'Integral')"
      ]
     },
     "execution_count": 16,
     "metadata": {},
     "output_type": "execute_result"
    }
   ],
   "source": [
    "img, ax = plt.subplots(1,2, figsize=(12,5))\n",
    "\n",
    "ax[1].plot(sum(image_reconstructed, dims=1)[1,:], label=\"Fit\")\n",
    "ax[1].plot(sum(data, dims=1)[1,:], label=\"Experimental\")\n",
    "\n",
    "ax[1].legend()\n",
    "\n",
    "ax[2].plot(sum(image_reconstructed, dims=2))\n",
    "ax[2].plot(sum(event.cam_4, dims=2))\n",
    "\n",
    "ax[1].set_xlabel(\"y\")\n",
    "ax[1].set_title(\"Integral\")\n",
    "\n",
    "ax[2].set_xlabel(\"x\")\n",
    "ax[2].set_title(\"Integral\")"
   ]
  },
  {
   "cell_type": "code",
   "execution_count": null,
   "metadata": {},
   "outputs": [],
   "source": []
  },
  {
   "cell_type": "code",
   "execution_count": null,
   "metadata": {},
   "outputs": [],
   "source": []
  },
  {
   "cell_type": "code",
   "execution_count": null,
   "metadata": {},
   "outputs": [],
   "source": []
  },
  {
   "cell_type": "code",
   "execution_count": null,
   "metadata": {},
   "outputs": [],
   "source": []
  },
  {
   "cell_type": "code",
   "execution_count": null,
   "metadata": {},
   "outputs": [],
   "source": []
  },
  {
   "cell_type": "code",
   "execution_count": null,
   "metadata": {},
   "outputs": [],
   "source": []
  },
  {
   "cell_type": "code",
   "execution_count": null,
   "metadata": {},
   "outputs": [],
   "source": [
    "# Experiment Event: \n",
    "\n",
    "images = load(\"../data/experiment/dataset_2/m2/images.jld2\");\n",
    "\n",
    "event_number = 2\n",
    "\n",
    "event = (\n",
    "    cam_1 = images[\"cam_1\"][event_number,:,:],\n",
    "    cam_2 = images[\"cam_2\"][event_number,:,:],\n",
    "    cam_3 = images[\"cam_3\"][event_number,:,:],\n",
    "    cam_4 = images[\"cam_4\"][event_number,:,:],\n",
    "    population = images[\"charge\"][event_number,:][1],\n",
    ")\n",
    "\n",
    "data = event.cam_4;"
   ]
  },
  {
   "cell_type": "code",
   "execution_count": null,
   "metadata": {},
   "outputs": [],
   "source": [
    "img, ax = plt.subplots(1,1, figsize=(6,6))\n",
    "\n",
    "ax.imshow(data)\n",
    "\n",
    "ax.set_xlabel(\"x\")\n",
    "ax.set_ylabel(\"y\")\n",
    "ax.set_title(\"IS2\")"
   ]
  },
  {
   "cell_type": "markdown",
   "metadata": {},
   "source": [
    "# Fit 1 (Chi-Squared cost): "
   ]
  },
  {
   "cell_type": "code",
   "execution_count": null,
   "metadata": {},
   "outputs": [],
   "source": [
    "prior = NamedTupleDist(\n",
    "    μ_x = 20 .. 50,\n",
    "    μ_y = 20 .. 50,\n",
    "    σ_x = 3 .. 20,\n",
    "    σ_y = 3 .. 20,\n",
    "    i = 1 .. 2^20\n",
    "    );"
   ]
  },
  {
   "cell_type": "code",
   "execution_count": null,
   "metadata": {},
   "outputs": [],
   "source": [
    "log_likelihood = let data = data\n",
    "    \n",
    "    params -> begin\n",
    "        \n",
    "        image_matrix = zeros(Float64, size(data)...)\n",
    "        \n",
    "        for pix_ind in CartesianIndices(image_matrix)\n",
    "    \n",
    "            x_edge = pix_ind.I[1] \n",
    "            y_edge = pix_ind.I[2] \n",
    "\n",
    "            pix_prediction::Float64 = cdf(Normal(params.μ_x,params.σ_x), x_edge) - cdf(Normal(params.μ_x,params.σ_x), x_edge - 1)\n",
    "            pix_prediction *= cdf(Normal(params.μ_y,params.σ_y), y_edge) - cdf(Normal(params.μ_y,params.σ_y), y_edge - 1)\n",
    "\n",
    "            pix_prediction = pix_prediction*params.i\n",
    "            image_matrix[pix_ind] = pix_prediction\n",
    "        end\n",
    "        \n",
    "        log_sq = sum(-(data - image_matrix).^2)\n",
    "\n",
    "    \n",
    "        return LogDVal(log_sq)\n",
    "        \n",
    "    end\n",
    "end"
   ]
  },
  {
   "cell_type": "code",
   "execution_count": null,
   "metadata": {},
   "outputs": [],
   "source": [
    "posterior = PosteriorDensity(log_likelihood, prior);\n",
    "algorithm = MetropolisHastings()\n",
    "\n",
    "nsamples = 10^4\n",
    "nchains = 4\n",
    "\n",
    "@time samples = bat_sample(posterior, (nsamples, nchains), algorithm,\n",
    "        max_nsteps = 10^4, max_time = 15, \n",
    "    ).result;"
   ]
  },
  {
   "cell_type": "code",
   "execution_count": null,
   "metadata": {},
   "outputs": [],
   "source": [
    "mode_params = mode(samples)[1]"
   ]
  },
  {
   "cell_type": "code",
   "execution_count": null,
   "metadata": {},
   "outputs": [],
   "source": [
    "image_reconstructed = zeros(Float64, size(data)...)\n",
    "\n",
    "for pix_ind in CartesianIndices(image_reconstructed)\n",
    "    \n",
    "    x_edge = pix_ind.I[1] \n",
    "    y_edge = pix_ind.I[2] \n",
    "\n",
    "    pix_prediction::Float64 = cdf(Normal(mode_params.μ_x,mode_params.σ_x), x_edge) - cdf(Normal(mode_params.μ_x,mode_params.σ_x), x_edge - 1)\n",
    "    pix_prediction *= cdf(Normal(mode_params.μ_y,mode_params.σ_y), y_edge) - cdf(Normal(mode_params.μ_y,mode_params.σ_y), y_edge - 1)\n",
    "\n",
    "    pix_prediction = pix_prediction*mode_params.i\n",
    "    image_reconstructed[pix_ind] = pix_prediction\n",
    "end"
   ]
  },
  {
   "cell_type": "code",
   "execution_count": null,
   "metadata": {},
   "outputs": [],
   "source": [
    "img, (ax, ax2) = plt.subplots(1,2, figsize=(12,6))\n",
    "\n",
    "ax.imshow(data)\n",
    "\n",
    "ax.axvline(mode_params.μ_x, linestyle=\"-\", color=\"lightgray\", alpha=0.5)\n",
    "ax.axhline(mode_params.μ_y, linestyle=\"-\", color=\"lightgray\", alpha=0.5)\n",
    "\n",
    "ax2.imshow(image_reconstructed)\n",
    "\n",
    "ax2.axvline(mode_params.μ_x, linestyle=\"-\", color=\"lightgray\", alpha=0.5)\n",
    "ax2.axhline(mode_params.μ_y, linestyle=\"-\", color=\"lightgray\", alpha=0.5)\n",
    "\n",
    "ax.set_xlabel(\"x\")\n",
    "ax.set_ylabel(\"y\")\n",
    "ax.set_title(\"Experimental Image\")\n",
    "\n",
    "ax2.set_xlabel(\"x\")\n",
    "ax2.set_ylabel(\"y\")\n",
    "ax2.set_title(\"Fit Function\")"
   ]
  },
  {
   "cell_type": "code",
   "execution_count": null,
   "metadata": {},
   "outputs": [],
   "source": [
    "x = round(Int64, mode_params.μ_x)\n",
    "y = round(Int64, mode_params.μ_y)\n",
    "\n",
    "img, ax = plt.subplots(1,2, figsize=(12,5))\n",
    "\n",
    "ax[1].plot(image_reconstructed[x, :], label=\"Fit\")\n",
    "ax[1].plot(data[x, :], label=\"Experimental\")\n",
    "ax[1].legend()\n",
    "\n",
    "ax[1].set_xlabel(\"y\")\n",
    "ax[1].set_title(\"Crossection\")\n",
    "\n",
    "ax[2].set_xlabel(\"x\")\n",
    "ax[2].set_title(\"Crossection\")\n",
    "\n",
    "ax[2].plot(image_reconstructed[:, y])\n",
    "ax[2].plot(event.cam_4[:, y])\n",
    "\n",
    "ax[1].set_ylim(0,2000)\n",
    "ax[2].set_ylim(0,2000)"
   ]
  },
  {
   "cell_type": "code",
   "execution_count": null,
   "metadata": {},
   "outputs": [],
   "source": [
    "img, ax = plt.subplots(1,2, figsize=(12,5))\n",
    "\n",
    "ax[1].plot(sum(image_reconstructed, dims=1)[1,:], label=\"Fit\")\n",
    "ax[1].plot(sum(data, dims=1)[1,:], label=\"Experimental\")\n",
    "\n",
    "ax[1].legend()\n",
    "\n",
    "ax[2].plot(sum(image_reconstructed, dims=2))\n",
    "ax[2].plot(sum(event.cam_4, dims=2))\n",
    "\n",
    "ax[1].set_xlabel(\"y\")\n",
    "ax[1].set_title(\"Integral\")\n",
    "\n",
    "ax[2].set_xlabel(\"x\")\n",
    "ax[2].set_title(\"Integral\")"
   ]
  },
  {
   "cell_type": "markdown",
   "metadata": {},
   "source": [
    "# Fit 1-b (Chi-Squared cost + pedestal): "
   ]
  },
  {
   "cell_type": "code",
   "execution_count": null,
   "metadata": {},
   "outputs": [],
   "source": [
    "prior = NamedTupleDist(\n",
    "    μ_x = 20 .. 50,\n",
    "    μ_y = 20 .. 50,\n",
    "    σ_x = 3 .. 20,\n",
    "    σ_y = 3 .. 20,\n",
    "    i = 1 .. 2^20,\n",
    "    b = 0 .. 100\n",
    "    );"
   ]
  },
  {
   "cell_type": "code",
   "execution_count": null,
   "metadata": {},
   "outputs": [],
   "source": [
    "log_likelihood = let data = data\n",
    "    \n",
    "    params -> begin\n",
    "        \n",
    "        image_matrix = zeros(Float64, size(data)...)\n",
    "        \n",
    "        for pix_ind in CartesianIndices(image_matrix)\n",
    "    \n",
    "            x_edge = pix_ind.I[1] \n",
    "            y_edge = pix_ind.I[2] \n",
    "\n",
    "            pix_prediction::Float64 = cdf(Normal(params.μ_x,params.σ_x), x_edge) - cdf(Normal(params.μ_x,params.σ_x), x_edge - 1)\n",
    "            pix_prediction *= cdf(Normal(params.μ_y,params.σ_y), y_edge) - cdf(Normal(params.μ_y,params.σ_y), y_edge - 1)\n",
    "\n",
    "            pix_prediction = pix_prediction*params.i + params.b\n",
    "            image_matrix[pix_ind] = pix_prediction\n",
    "        end\n",
    "        \n",
    "        log_sq = sum(-(data - image_matrix).^2)\n",
    "\n",
    "    \n",
    "        return LogDVal(log_sq)\n",
    "        \n",
    "    end\n",
    "end"
   ]
  },
  {
   "cell_type": "code",
   "execution_count": null,
   "metadata": {},
   "outputs": [],
   "source": [
    "posterior = PosteriorDensity(log_likelihood, prior);\n",
    "algorithm = MetropolisHastings()\n",
    "\n",
    "nsamples = 10^4\n",
    "nchains = 4\n",
    "\n",
    "@time samples = bat_sample(posterior, (nsamples, nchains), algorithm,\n",
    "        max_nsteps = 10^4, max_time = 15, \n",
    "    ).result;"
   ]
  },
  {
   "cell_type": "code",
   "execution_count": null,
   "metadata": {},
   "outputs": [],
   "source": [
    "mode_params = mode(samples)[1]"
   ]
  },
  {
   "cell_type": "code",
   "execution_count": null,
   "metadata": {},
   "outputs": [],
   "source": [
    "image_reconstructed = zeros(Float64, size(data)...)\n",
    "\n",
    "for pix_ind in CartesianIndices(image_reconstructed)\n",
    "    \n",
    "    x_edge = pix_ind.I[1] \n",
    "    y_edge = pix_ind.I[2] \n",
    "\n",
    "    pix_prediction::Float64 = cdf(Normal(mode_params.μ_x,mode_params.σ_x), x_edge) - cdf(Normal(mode_params.μ_x,mode_params.σ_x), x_edge - 1)\n",
    "    pix_prediction *= cdf(Normal(mode_params.μ_y,mode_params.σ_y), y_edge) - cdf(Normal(mode_params.μ_y,mode_params.σ_y), y_edge - 1)\n",
    "\n",
    "    pix_prediction = pix_prediction*mode_params.i + mode_params.b\n",
    "    image_reconstructed[pix_ind] = pix_prediction\n",
    "end"
   ]
  },
  {
   "cell_type": "code",
   "execution_count": null,
   "metadata": {},
   "outputs": [],
   "source": [
    "img, (ax, ax2) = plt.subplots(1,2, figsize=(12,6))\n",
    "\n",
    "ax.imshow(data)\n",
    "\n",
    "ax.axvline(mode_params.μ_x, linestyle=\"-\", color=\"lightgray\", alpha=0.5)\n",
    "ax.axhline(mode_params.μ_y, linestyle=\"-\", color=\"lightgray\", alpha=0.5)\n",
    "\n",
    "ax2.imshow(image_reconstructed)\n",
    "\n",
    "ax2.axvline(mode_params.μ_x, linestyle=\"-\", color=\"lightgray\", alpha=0.5)\n",
    "ax2.axhline(mode_params.μ_y, linestyle=\"-\", color=\"lightgray\", alpha=0.5)\n",
    "\n",
    "ax.set_xlabel(\"x\")\n",
    "ax.set_ylabel(\"y\")\n",
    "ax.set_title(\"Experimental Image\")\n",
    "\n",
    "ax2.set_xlabel(\"x\")\n",
    "ax2.set_ylabel(\"y\")\n",
    "ax2.set_title(\"Fit Function\")"
   ]
  },
  {
   "cell_type": "code",
   "execution_count": null,
   "metadata": {},
   "outputs": [],
   "source": [
    "x = round(Int64, mode_params.μ_x)\n",
    "y = round(Int64, mode_params.μ_y)\n",
    "\n",
    "img, ax = plt.subplots(1,2, figsize=(12,5))\n",
    "\n",
    "ax[1].plot(image_reconstructed[x, :], label=\"Fit\")\n",
    "ax[1].plot(data[x, :], label=\"Experimental\")\n",
    "ax[1].legend()\n",
    "\n",
    "ax[1].set_xlabel(\"y\")\n",
    "ax[1].set_title(\"Crossection\")\n",
    "\n",
    "ax[2].set_xlabel(\"x\")\n",
    "ax[2].set_title(\"Crossection\")\n",
    "\n",
    "ax[2].plot(image_reconstructed[:, y])\n",
    "ax[2].plot(event.cam_4[:, y])\n",
    "\n",
    "ax[1].set_ylim(0,2000)\n",
    "ax[2].set_ylim(0,2000)"
   ]
  },
  {
   "cell_type": "code",
   "execution_count": null,
   "metadata": {},
   "outputs": [],
   "source": [
    "img, ax = plt.subplots(1,2, figsize=(12,5))\n",
    "\n",
    "ax[1].plot(sum(image_reconstructed, dims=1)[1,:], label=\"Fit\")\n",
    "ax[1].plot(sum(data, dims=1)[1,:], label=\"Experimental\")\n",
    "\n",
    "ax[1].legend()\n",
    "\n",
    "ax[2].plot(sum(image_reconstructed, dims=2))\n",
    "ax[2].plot(sum(event.cam_4, dims=2))\n",
    "\n",
    "ax[1].set_xlabel(\"y\")\n",
    "ax[1].set_title(\"Integral\")\n",
    "\n",
    "ax[2].set_xlabel(\"x\")\n",
    "ax[2].set_title(\"Integral\")"
   ]
  },
  {
   "cell_type": "markdown",
   "metadata": {},
   "source": [
    "# Fit 2 (Normal Fluctuations): "
   ]
  },
  {
   "cell_type": "code",
   "execution_count": null,
   "metadata": {},
   "outputs": [],
   "source": [
    "log_likelihood_1 = let data = data\n",
    "    \n",
    "    params -> begin\n",
    "    \n",
    "        log_l = 0.0\n",
    "        \n",
    "        for pix_ind in CartesianIndices(data)\n",
    "    \n",
    "            x_edge = pix_ind.I[1] \n",
    "            y_edge = pix_ind.I[2] \n",
    "\n",
    "            pix_prediction::Float64 = cdf(Normal(params.μ_x,params.σ_x), x_edge) - cdf(Normal(params.μ_x,params.σ_x), x_edge - 1)\n",
    "            pix_prediction *= cdf(Normal(params.μ_y,params.σ_y), y_edge) - cdf(Normal(params.μ_y,params.σ_y), y_edge - 1)\n",
    "\n",
    "            pix_prediction = pix_prediction*params.i\n",
    "            \n",
    "#             log_l += log(pdf(Normal(pix_prediction, 1 + 5*sqrt(pix_prediction)), data[pix_ind]+1))\n",
    "            \n",
    "            log_l += log(pdf(truncated(Normal(pix_prediction, 1 + 5*sqrt(pix_prediction)), 0.0, Inf), data[pix_ind]+1))\n",
    "            \n",
    "        end\n",
    "    \n",
    "        return LogDVal(log_l)\n",
    "        \n",
    "    end\n",
    "end"
   ]
  },
  {
   "cell_type": "code",
   "execution_count": null,
   "metadata": {},
   "outputs": [],
   "source": [
    "prior = NamedTupleDist(\n",
    "    μ_x = 20 .. 50,\n",
    "    μ_y = 20 .. 50,\n",
    "    σ_x = 3 .. 20,\n",
    "    σ_y = 3 .. 20,\n",
    "    i = 280268 .. 1000268\n",
    "    );"
   ]
  },
  {
   "cell_type": "code",
   "execution_count": null,
   "metadata": {},
   "outputs": [],
   "source": [
    "posterior = PosteriorDensity(log_likelihood_1, prior);\n",
    "algorithm = MetropolisHastings()\n",
    "\n",
    "nsamples = 10^4\n",
    "nchains = 4\n",
    "\n",
    "@time samples = bat_sample(posterior, (nsamples, nchains), algorithm,\n",
    "        max_nsteps = 10^4, max_time = 20, \n",
    "    ).result;"
   ]
  },
  {
   "cell_type": "code",
   "execution_count": null,
   "metadata": {},
   "outputs": [],
   "source": [
    "mode_params = mode(samples)[1]"
   ]
  },
  {
   "cell_type": "code",
   "execution_count": null,
   "metadata": {},
   "outputs": [],
   "source": [
    "image_reconstructed = zeros(Float64, size(data)...)\n",
    "\n",
    "for pix_ind in CartesianIndices(image_reconstructed)\n",
    "    \n",
    "    x_edge = pix_ind.I[1] \n",
    "    y_edge = pix_ind.I[2] \n",
    "\n",
    "    pix_prediction::Float64 = cdf(Normal(mode_params.μ_x,mode_params.σ_x), x_edge) - cdf(Normal(mode_params.μ_x,mode_params.σ_x), x_edge - 1)\n",
    "    pix_prediction *= cdf(Normal(mode_params.μ_y,mode_params.σ_y), y_edge) - cdf(Normal(mode_params.μ_y,mode_params.σ_y), y_edge - 1)\n",
    "\n",
    "    pix_prediction = pix_prediction*mode_params.i\n",
    "    image_reconstructed[pix_ind] = pix_prediction\n",
    "end"
   ]
  },
  {
   "cell_type": "code",
   "execution_count": null,
   "metadata": {},
   "outputs": [],
   "source": [
    "img, (ax, ax2) = plt.subplots(1,2, figsize=(12,6))\n",
    "\n",
    "ax.imshow(data)\n",
    "\n",
    "ax.axvline(mode_params.μ_x, linestyle=\"-\", color=\"lightgray\", alpha=0.5)\n",
    "ax.axhline(mode_params.μ_y, linestyle=\"-\", color=\"lightgray\", alpha=0.5)\n",
    "\n",
    "ax2.imshow(image_reconstructed)\n",
    "\n",
    "ax2.axvline(mode_params.μ_x, linestyle=\"-\", color=\"lightgray\", alpha=0.5)\n",
    "ax2.axhline(mode_params.μ_y, linestyle=\"-\", color=\"lightgray\", alpha=0.5)\n",
    "\n",
    "ax.set_xlabel(\"x\")\n",
    "ax.set_ylabel(\"y\")\n",
    "ax.set_title(\"Experimental Image\")\n",
    "\n",
    "ax2.set_xlabel(\"x\")\n",
    "ax2.set_ylabel(\"y\")\n",
    "ax2.set_title(\"Fit Function\")"
   ]
  },
  {
   "cell_type": "code",
   "execution_count": null,
   "metadata": {},
   "outputs": [],
   "source": [
    "x = round(Int64, mode_params.μ_x)\n",
    "y = round(Int64, mode_params.μ_y)\n",
    "\n",
    "img, ax = plt.subplots(1,2, figsize=(12,5))\n",
    "\n",
    "ax[1].plot(image_reconstructed[x, :], label=\"Fit\")\n",
    "ax[1].plot(data[x, :], label=\"Experimental\")\n",
    "ax[1].legend()\n",
    "\n",
    "ax[1].set_xlabel(\"y\")\n",
    "ax[1].set_title(\"Crossection\")\n",
    "\n",
    "ax[2].set_xlabel(\"x\")\n",
    "ax[2].set_title(\"Crossection\")\n",
    "\n",
    "ax[2].plot(image_reconstructed[:, y])\n",
    "ax[2].plot(event.cam_4[:, y])\n",
    "\n",
    "ax[1].set_ylim(0,2000)\n",
    "ax[2].set_ylim(0,2000)"
   ]
  },
  {
   "cell_type": "code",
   "execution_count": null,
   "metadata": {},
   "outputs": [],
   "source": [
    "img, ax = plt.subplots(1,2, figsize=(12,5))\n",
    "\n",
    "ax[1].plot(sum(image_reconstructed, dims=1)[1,:], label=\"Fit\")\n",
    "ax[1].plot(sum(data, dims=1)[1,:], label=\"Experimental\")\n",
    "\n",
    "ax[1].legend()\n",
    "\n",
    "ax[2].plot(sum(image_reconstructed, dims=2))\n",
    "ax[2].plot(sum(event.cam_4, dims=2))\n",
    "\n",
    "ax[1].set_xlabel(\"y\")\n",
    "ax[1].set_title(\"Integral\")\n",
    "\n",
    "ax[2].set_xlabel(\"x\")\n",
    "ax[2].set_title(\"Integral\")"
   ]
  },
  {
   "cell_type": "markdown",
   "metadata": {},
   "source": [
    "# Fit 2-b (Normal Fluctuations + pedestal): "
   ]
  },
  {
   "cell_type": "code",
   "execution_count": null,
   "metadata": {},
   "outputs": [],
   "source": [
    "log_likelihood_1 = let data = data\n",
    "    \n",
    "    params -> begin\n",
    "    \n",
    "        log_l = 0.0\n",
    "        \n",
    "        for pix_ind in CartesianIndices(data)\n",
    "    \n",
    "            x_edge = pix_ind.I[1] \n",
    "            y_edge = pix_ind.I[2] \n",
    "\n",
    "            pix_prediction::Float64 = cdf(Normal(params.μ_x,params.σ_x), x_edge) - cdf(Normal(params.μ_x,params.σ_x), x_edge - 1)\n",
    "            pix_prediction *= cdf(Normal(params.μ_y,params.σ_y), y_edge) - cdf(Normal(params.μ_y,params.σ_y), y_edge - 1)\n",
    "\n",
    "            pix_prediction = pix_prediction*params.i + params.b\n",
    "            \n",
    "#             log_l += log(pdf(Normal(pix_prediction, 1 + 5*sqrt(pix_prediction)), data[pix_ind]+1))\n",
    "            \n",
    "            log_l += log(pdf(truncated(Normal(pix_prediction, 1 + 2*sqrt(pix_prediction)), 0.0, Inf), data[pix_ind]+1))\n",
    "            \n",
    "        end\n",
    "    \n",
    "        return LogDVal(log_l)\n",
    "        \n",
    "    end\n",
    "end"
   ]
  },
  {
   "cell_type": "code",
   "execution_count": null,
   "metadata": {},
   "outputs": [],
   "source": [
    "prior = NamedTupleDist(\n",
    "    μ_x = 20 .. 50,\n",
    "    μ_y = 20 .. 50,\n",
    "    σ_x = 3 .. 20,\n",
    "    σ_y = 3 .. 20,\n",
    "    i = 280268 .. 1000268,\n",
    "    b = 0 .. 100\n",
    "    );"
   ]
  },
  {
   "cell_type": "code",
   "execution_count": null,
   "metadata": {},
   "outputs": [],
   "source": [
    "posterior = PosteriorDensity(log_likelihood_1, prior);\n",
    "algorithm = MetropolisHastings()\n",
    "\n",
    "nsamples = 10^4\n",
    "nchains = 4\n",
    "\n",
    "@time samples = bat_sample(posterior, (nsamples, nchains), algorithm,\n",
    "        max_nsteps = 10^4, max_time = 20, \n",
    "    ).result;"
   ]
  },
  {
   "cell_type": "code",
   "execution_count": null,
   "metadata": {},
   "outputs": [],
   "source": [
    "mode_params = mode(samples)[1]"
   ]
  },
  {
   "cell_type": "code",
   "execution_count": null,
   "metadata": {},
   "outputs": [],
   "source": [
    "image_reconstructed = zeros(Float64, size(data)...)\n",
    "\n",
    "for pix_ind in CartesianIndices(image_reconstructed)\n",
    "    \n",
    "    x_edge = pix_ind.I[1] \n",
    "    y_edge = pix_ind.I[2] \n",
    "\n",
    "    pix_prediction::Float64 = cdf(Normal(mode_params.μ_x,mode_params.σ_x), x_edge) - cdf(Normal(mode_params.μ_x,mode_params.σ_x), x_edge - 1)\n",
    "    pix_prediction *= cdf(Normal(mode_params.μ_y,mode_params.σ_y), y_edge) - cdf(Normal(mode_params.μ_y,mode_params.σ_y), y_edge - 1)\n",
    "\n",
    "    pix_prediction = pix_prediction*mode_params.i + mode_params.b\n",
    "    image_reconstructed[pix_ind] = pix_prediction\n",
    "end"
   ]
  },
  {
   "cell_type": "code",
   "execution_count": null,
   "metadata": {},
   "outputs": [],
   "source": [
    "img, (ax, ax2) = plt.subplots(1,2, figsize=(12,6))\n",
    "\n",
    "ax.imshow(data)\n",
    "\n",
    "ax.axvline(mode_params.μ_x, linestyle=\"-\", color=\"lightgray\", alpha=0.5)\n",
    "ax.axhline(mode_params.μ_y, linestyle=\"-\", color=\"lightgray\", alpha=0.5)\n",
    "\n",
    "ax2.imshow(image_reconstructed)\n",
    "\n",
    "ax2.axvline(mode_params.μ_x, linestyle=\"-\", color=\"lightgray\", alpha=0.5)\n",
    "ax2.axhline(mode_params.μ_y, linestyle=\"-\", color=\"lightgray\", alpha=0.5)\n",
    "\n",
    "ax.set_xlabel(\"x\")\n",
    "ax.set_ylabel(\"y\")\n",
    "ax.set_title(\"Experimental Image\")\n",
    "\n",
    "ax2.set_xlabel(\"x\")\n",
    "ax2.set_ylabel(\"y\")\n",
    "ax2.set_title(\"Fit Function\")"
   ]
  },
  {
   "cell_type": "code",
   "execution_count": null,
   "metadata": {},
   "outputs": [],
   "source": [
    "x = round(Int64, mode_params.μ_x)\n",
    "y = round(Int64, mode_params.μ_y)\n",
    "\n",
    "img, ax = plt.subplots(1,2, figsize=(12,5))\n",
    "\n",
    "ax[1].plot(image_reconstructed[x, :], label=\"Fit\")\n",
    "ax[1].plot(data[x, :], label=\"Experimental\")\n",
    "ax[1].legend()\n",
    "\n",
    "ax[1].set_xlabel(\"y\")\n",
    "ax[1].set_title(\"Crossection\")\n",
    "\n",
    "ax[2].set_xlabel(\"x\")\n",
    "ax[2].set_title(\"Crossection\")\n",
    "\n",
    "ax[2].plot(image_reconstructed[:, y])\n",
    "ax[2].plot(event.cam_4[:, y])\n",
    "\n",
    "ax[1].set_ylim(0,2000)\n",
    "ax[2].set_ylim(0,2000)"
   ]
  },
  {
   "cell_type": "code",
   "execution_count": null,
   "metadata": {},
   "outputs": [],
   "source": [
    "img, ax = plt.subplots(1,2, figsize=(12,5))\n",
    "\n",
    "ax[1].plot(sum(image_reconstructed, dims=1)[1,:], label=\"Fit\")\n",
    "ax[1].plot(sum(data, dims=1)[1,:], label=\"Experimental\")\n",
    "\n",
    "ax[1].legend()\n",
    "\n",
    "ax[2].plot(sum(image_reconstructed, dims=2))\n",
    "ax[2].plot(sum(event.cam_4, dims=2))\n",
    "\n",
    "ax[1].set_xlabel(\"y\")\n",
    "ax[1].set_title(\"Integral\")\n",
    "\n",
    "ax[2].set_xlabel(\"x\")\n",
    "ax[2].set_title(\"Integral\")"
   ]
  },
  {
   "cell_type": "markdown",
   "metadata": {},
   "source": [
    "# Fit 3 (Poisson Fluctuations): "
   ]
  },
  {
   "cell_type": "code",
   "execution_count": null,
   "metadata": {},
   "outputs": [],
   "source": [
    "log_likelihood_2 = let data = data\n",
    "    \n",
    "    params -> begin\n",
    "    \n",
    "        log_l = 0.0\n",
    "        \n",
    "        for pix_ind in CartesianIndices(data)\n",
    "    \n",
    "            x_edge = pix_ind.I[1] \n",
    "            y_edge = pix_ind.I[2] \n",
    "\n",
    "            pix_prediction::Float64 = cdf(Normal(params.μ_x,params.σ_x), x_edge) - cdf(Normal(params.μ_x,params.σ_x), x_edge - 1)\n",
    "            pix_prediction *= cdf(Normal(params.μ_y,params.σ_y), y_edge) - cdf(Normal(params.μ_y,params.σ_y), y_edge - 1)\n",
    "\n",
    "            pix_prediction = pix_prediction*params.i\n",
    "            \n",
    "#             log_l += log(pdf(truncated(Poisson(pix_prediction+1), 0, 5000), data[pix_ind]+1))\n",
    "            log_l += log(pdf(Poisson(pix_prediction+2), data[pix_ind]+1))\n",
    "        end\n",
    "        return LogDVal(log_l)\n",
    "        \n",
    "    end\n",
    "end"
   ]
  },
  {
   "cell_type": "code",
   "execution_count": null,
   "metadata": {},
   "outputs": [],
   "source": [
    "prior = NamedTupleDist(\n",
    "    μ_x = 32 .. 37,\n",
    "    μ_y = 32 .. 37,\n",
    "    σ_x = 3 .. 20,\n",
    "    σ_y = 3 .. 20,\n",
    "    i = 1 .. 2^20\n",
    "    );"
   ]
  },
  {
   "cell_type": "code",
   "execution_count": null,
   "metadata": {},
   "outputs": [],
   "source": [
    "posterior = PosteriorDensity(log_likelihood_2, prior);\n",
    "algorithm = MetropolisHastings()\n",
    "\n",
    "nsamples = 10^4\n",
    "nchains = 4\n",
    "\n",
    "@time samples = bat_sample(posterior, (nsamples, nchains), algorithm,\n",
    "        max_nsteps = 10^4, max_time = 20, \n",
    "    ).result;"
   ]
  },
  {
   "cell_type": "code",
   "execution_count": null,
   "metadata": {},
   "outputs": [],
   "source": [
    "mode_params = mode(samples)[1]"
   ]
  },
  {
   "cell_type": "code",
   "execution_count": null,
   "metadata": {},
   "outputs": [],
   "source": [
    "image_reconstructed = zeros(Float64, size(data)...)\n",
    "\n",
    "for pix_ind in CartesianIndices(image_reconstructed)\n",
    "    \n",
    "    x_edge = pix_ind.I[1] \n",
    "    y_edge = pix_ind.I[2] \n",
    "\n",
    "    pix_prediction::Float64 = cdf(Normal(mode_params.μ_x,mode_params.σ_x), x_edge) - cdf(Normal(mode_params.μ_x,mode_params.σ_x), x_edge - 1)\n",
    "    pix_prediction *= cdf(Normal(mode_params.μ_y,mode_params.σ_y), y_edge) - cdf(Normal(mode_params.μ_y,mode_params.σ_y), y_edge - 1)\n",
    "\n",
    "    pix_prediction = pix_prediction*mode_params.i\n",
    "    image_reconstructed[pix_ind] = pix_prediction\n",
    "end"
   ]
  },
  {
   "cell_type": "code",
   "execution_count": null,
   "metadata": {},
   "outputs": [],
   "source": [
    "img, (ax, ax2) = plt.subplots(1,2, figsize=(12,6))\n",
    "\n",
    "ax.imshow(data)\n",
    "\n",
    "ax.axvline(mode_params.μ_x, linestyle=\"-\", color=\"lightgray\", alpha=0.5)\n",
    "ax.axhline(mode_params.μ_y, linestyle=\"-\", color=\"lightgray\", alpha=0.5)\n",
    "\n",
    "ax2.imshow(image_reconstructed)\n",
    "\n",
    "ax2.axvline(mode_params.μ_x, linestyle=\"-\", color=\"lightgray\", alpha=0.5)\n",
    "ax2.axhline(mode_params.μ_y, linestyle=\"-\", color=\"lightgray\", alpha=0.5)\n",
    "\n",
    "ax.set_xlabel(\"x\")\n",
    "ax.set_ylabel(\"y\")\n",
    "ax.set_title(\"Experimental Image\")\n",
    "\n",
    "ax2.set_xlabel(\"x\")\n",
    "ax2.set_ylabel(\"y\")\n",
    "ax2.set_title(\"Fit Function\")"
   ]
  },
  {
   "cell_type": "code",
   "execution_count": null,
   "metadata": {},
   "outputs": [],
   "source": [
    "x = round(Int64, mode_params.μ_x)\n",
    "y = round(Int64, mode_params.μ_y)\n",
    "\n",
    "img, ax = plt.subplots(1,2, figsize=(12,5))\n",
    "\n",
    "ax[1].plot(image_reconstructed[x, :], label=\"Fit\")\n",
    "ax[1].plot(data[x, :], label=\"Experimental\")\n",
    "ax[1].legend()\n",
    "\n",
    "ax[1].set_xlabel(\"y\")\n",
    "ax[1].set_title(\"Crossection\")\n",
    "\n",
    "ax[2].set_xlabel(\"x\")\n",
    "ax[2].set_title(\"Crossection\")\n",
    "\n",
    "ax[2].plot(image_reconstructed[:, y])\n",
    "ax[2].plot(event.cam_4[:, y])\n",
    "\n",
    "ax[1].set_ylim(0,2000)\n",
    "ax[2].set_ylim(0,2000)"
   ]
  },
  {
   "cell_type": "code",
   "execution_count": null,
   "metadata": {},
   "outputs": [],
   "source": [
    "img, ax = plt.subplots(1,2, figsize=(12,5))\n",
    "\n",
    "ax[1].plot(sum(image_reconstructed, dims=1)[1,:], label=\"Fit\")\n",
    "ax[1].plot(sum(data, dims=1)[1,:], label=\"Experimental\")\n",
    "\n",
    "ax[1].legend()\n",
    "\n",
    "ax[2].plot(sum(image_reconstructed, dims=2))\n",
    "ax[2].plot(sum(event.cam_4, dims=2))\n",
    "\n",
    "ax[1].set_xlabel(\"y\")\n",
    "ax[1].set_title(\"Integral\")\n",
    "\n",
    "ax[2].set_xlabel(\"x\")\n",
    "ax[2].set_title(\"Integral\")"
   ]
  },
  {
   "cell_type": "code",
   "execution_count": null,
   "metadata": {},
   "outputs": [],
   "source": []
  },
  {
   "cell_type": "markdown",
   "metadata": {},
   "source": [
    "# Fit 3-b (Poisson Fluctuations + pedestal): "
   ]
  },
  {
   "cell_type": "code",
   "execution_count": null,
   "metadata": {},
   "outputs": [],
   "source": [
    "log_likelihood_2 = let data = data\n",
    "    \n",
    "    params -> begin\n",
    "    \n",
    "        log_l = 0.0\n",
    "        \n",
    "        for pix_ind in CartesianIndices(data)\n",
    "    \n",
    "            x_edge = pix_ind.I[1] \n",
    "            y_edge = pix_ind.I[2] \n",
    "\n",
    "            pix_prediction::Float64 = cdf(Normal(params.μ_x,params.σ_x), x_edge) - cdf(Normal(params.μ_x,params.σ_x), x_edge - 1)\n",
    "            pix_prediction *= cdf(Normal(params.μ_y,params.σ_y), y_edge) - cdf(Normal(params.μ_y,params.σ_y), y_edge - 1)\n",
    "\n",
    "            pix_prediction = pix_prediction*params.i + params.b\n",
    "            \n",
    "#             log_l += log(pdf(truncated(Poisson(pix_prediction+1), 0, 5000), data[pix_ind]+1))\n",
    "            log_l += log(pdf(Poisson(pix_prediction), data[pix_ind]+1))\n",
    "        end\n",
    "        return LogDVal(log_l)\n",
    "        \n",
    "    end\n",
    "end"
   ]
  },
  {
   "cell_type": "code",
   "execution_count": null,
   "metadata": {},
   "outputs": [],
   "source": [
    "prior = NamedTupleDist(\n",
    "    μ_x = 32 .. 37,\n",
    "    μ_y = 32 .. 37,\n",
    "    σ_x = 3 .. 20,\n",
    "    σ_y = 3 .. 20,\n",
    "    i = 1 .. 2^20,\n",
    "    b = 0 .. 100\n",
    "    );"
   ]
  },
  {
   "cell_type": "code",
   "execution_count": null,
   "metadata": {},
   "outputs": [],
   "source": [
    "posterior = PosteriorDensity(log_likelihood_2, prior);\n",
    "algorithm = MetropolisHastings()\n",
    "\n",
    "nsamples = 10^4\n",
    "nchains = 4\n",
    "\n",
    "@time samples = bat_sample(posterior, (nsamples, nchains), algorithm,\n",
    "        max_nsteps = 10^4, max_time = 20, \n",
    "    ).result;"
   ]
  },
  {
   "cell_type": "code",
   "execution_count": null,
   "metadata": {},
   "outputs": [],
   "source": [
    "mode_params = mode(samples)[1]"
   ]
  },
  {
   "cell_type": "code",
   "execution_count": null,
   "metadata": {},
   "outputs": [],
   "source": [
    "image_reconstructed = zeros(Float64, size(data)...)\n",
    "\n",
    "for pix_ind in CartesianIndices(image_reconstructed)\n",
    "    \n",
    "    x_edge = pix_ind.I[1] \n",
    "    y_edge = pix_ind.I[2] \n",
    "\n",
    "    pix_prediction::Float64 = cdf(Normal(mode_params.μ_x,mode_params.σ_x), x_edge) - cdf(Normal(mode_params.μ_x,mode_params.σ_x), x_edge - 1)\n",
    "    pix_prediction *= cdf(Normal(mode_params.μ_y,mode_params.σ_y), y_edge) - cdf(Normal(mode_params.μ_y,mode_params.σ_y), y_edge - 1)\n",
    "\n",
    "    pix_prediction = pix_prediction*mode_params.i + mode_params.b\n",
    "    image_reconstructed[pix_ind] = pix_prediction\n",
    "end"
   ]
  },
  {
   "cell_type": "code",
   "execution_count": null,
   "metadata": {},
   "outputs": [],
   "source": [
    "img, (ax, ax2) = plt.subplots(1,2, figsize=(12,6))\n",
    "\n",
    "ax.imshow(data)\n",
    "\n",
    "ax.axvline(mode_params.μ_x, linestyle=\"-\", color=\"lightgray\", alpha=0.5)\n",
    "ax.axhline(mode_params.μ_y, linestyle=\"-\", color=\"lightgray\", alpha=0.5)\n",
    "\n",
    "ax2.imshow(image_reconstructed)\n",
    "\n",
    "ax2.axvline(mode_params.μ_x, linestyle=\"-\", color=\"lightgray\", alpha=0.5)\n",
    "ax2.axhline(mode_params.μ_y, linestyle=\"-\", color=\"lightgray\", alpha=0.5)\n",
    "\n",
    "ax.set_xlabel(\"x\")\n",
    "ax.set_ylabel(\"y\")\n",
    "ax.set_title(\"Experimental Image\")\n",
    "\n",
    "ax2.set_xlabel(\"x\")\n",
    "ax2.set_ylabel(\"y\")\n",
    "ax2.set_title(\"Fit Function\")"
   ]
  },
  {
   "cell_type": "code",
   "execution_count": null,
   "metadata": {},
   "outputs": [],
   "source": [
    "x = round(Int64, mode_params.μ_x)\n",
    "y = round(Int64, mode_params.μ_y)\n",
    "\n",
    "img, ax = plt.subplots(1,2, figsize=(12,5))\n",
    "\n",
    "ax[1].plot(image_reconstructed[x, :], label=\"Fit\")\n",
    "ax[1].plot(data[x, :], label=\"Experimental\")\n",
    "ax[1].legend()\n",
    "\n",
    "ax[1].set_xlabel(\"y\")\n",
    "ax[1].set_title(\"Crossection\")\n",
    "\n",
    "ax[2].set_xlabel(\"x\")\n",
    "ax[2].set_title(\"Crossection\")\n",
    "\n",
    "ax[2].plot(image_reconstructed[:, y])\n",
    "ax[2].plot(event.cam_4[:, y])\n",
    "\n",
    "ax[1].set_ylim(0,2000)\n",
    "ax[2].set_ylim(0,2000)"
   ]
  },
  {
   "cell_type": "code",
   "execution_count": null,
   "metadata": {},
   "outputs": [],
   "source": [
    "img, ax = plt.subplots(1,2, figsize=(12,5))\n",
    "\n",
    "ax[1].plot(sum(image_reconstructed, dims=1)[1,:], label=\"Fit\")\n",
    "ax[1].plot(sum(data, dims=1)[1,:], label=\"Experimental\")\n",
    "\n",
    "ax[1].legend()\n",
    "\n",
    "ax[2].plot(sum(image_reconstructed, dims=2))\n",
    "ax[2].plot(sum(event.cam_4, dims=2))\n",
    "\n",
    "ax[1].set_xlabel(\"y\")\n",
    "ax[1].set_title(\"Integral\")\n",
    "\n",
    "ax[2].set_xlabel(\"x\")\n",
    "ax[2].set_title(\"Integral\")"
   ]
  },
  {
   "cell_type": "markdown",
   "metadata": {},
   "source": [
    "# Fit 4 (+ background): "
   ]
  },
  {
   "cell_type": "code",
   "execution_count": null,
   "metadata": {},
   "outputs": [],
   "source": [
    "log_likelihood_3 = let data = data,  c = conv_matrices.cam_4\n",
    "    \n",
    "    params -> begin\n",
    "        \n",
    "        image_matrix = zeros(Float64, size(data)...)\n",
    "        \n",
    "        max_pred_amp::Int64 = size(c)[2]-1\n",
    "        log_l::Float64 = 0.0\n",
    "        \n",
    "        for pix_ind in CartesianIndices(image_matrix)\n",
    "    \n",
    "            x_edge = pix_ind.I[1] \n",
    "            y_edge = pix_ind.I[2] \n",
    "\n",
    "            pix_prediction::Float64 = cdf(Normal(params.μ_x,params.σ_x), x_edge) - cdf(Normal(params.μ_x,params.σ_x), x_edge - 1)\n",
    "            pix_prediction *= cdf(Normal(params.μ_y,params.σ_y), y_edge) - cdf(Normal(params.μ_y,params.σ_y), y_edge - 1)\n",
    "\n",
    "            pix_prediction = pix_prediction*params.i\n",
    "            \n",
    "            cv_index = floor(Int64, pix_prediction)\n",
    "\n",
    "            if cv_index > max_pred_amp\n",
    "                cv_index = max_pred_amp\n",
    "            end\n",
    "\n",
    "            log_l += log(c[data[pix_ind]+1, cv_index+1])\n",
    "            \n",
    "        end\n",
    "\n",
    "    \n",
    "        return LogDVal(log_l)\n",
    "        \n",
    "    end\n",
    "end"
   ]
  },
  {
   "cell_type": "code",
   "execution_count": null,
   "metadata": {},
   "outputs": [],
   "source": [
    "prior = NamedTupleDist(\n",
    "    μ_x = 20 .. 50,\n",
    "    μ_y = 20 .. 50,\n",
    "    σ_x = 3 .. 20,\n",
    "    σ_y = 3 .. 20,\n",
    "    i = 1 .. 2^20\n",
    "    );"
   ]
  },
  {
   "cell_type": "code",
   "execution_count": null,
   "metadata": {},
   "outputs": [],
   "source": [
    "posterior = PosteriorDensity(log_likelihood_3, prior);\n",
    "algorithm = MetropolisHastings()\n",
    "\n",
    "nsamples = 10^4\n",
    "nchains = 4\n",
    "\n",
    "@time samples = bat_sample(posterior, (nsamples, nchains), algorithm,\n",
    "        max_nsteps = 10^4, max_time = 20, \n",
    "    ).result;"
   ]
  },
  {
   "cell_type": "code",
   "execution_count": null,
   "metadata": {},
   "outputs": [],
   "source": [
    "mode_params = mode(samples)[1]"
   ]
  },
  {
   "cell_type": "code",
   "execution_count": null,
   "metadata": {},
   "outputs": [],
   "source": [
    "image_reconstructed = zeros(Float64, size(data)...)\n",
    "\n",
    "for pix_ind in CartesianIndices(image_reconstructed)\n",
    "    \n",
    "    x_edge = pix_ind.I[1] \n",
    "    y_edge = pix_ind.I[2] \n",
    "\n",
    "    pix_prediction::Float64 = cdf(Normal(mode_params.μ_x,mode_params.σ_x), x_edge) - cdf(Normal(mode_params.μ_x,mode_params.σ_x), x_edge - 1)\n",
    "    pix_prediction *= cdf(Normal(mode_params.μ_y,mode_params.σ_y), y_edge) - cdf(Normal(mode_params.μ_y,mode_params.σ_y), y_edge - 1)\n",
    "\n",
    "    pix_prediction = pix_prediction*mode_params.i\n",
    "    image_reconstructed[pix_ind] = pix_prediction\n",
    "end"
   ]
  },
  {
   "cell_type": "code",
   "execution_count": null,
   "metadata": {},
   "outputs": [],
   "source": [
    "img, (ax, ax2) = plt.subplots(1,2, figsize=(12,6))\n",
    "\n",
    "ax.imshow(data)\n",
    "\n",
    "ax.axvline(mode_params.μ_x, linestyle=\"-\", color=\"lightgray\", alpha=0.5)\n",
    "ax.axhline(mode_params.μ_y, linestyle=\"-\", color=\"lightgray\", alpha=0.5)\n",
    "\n",
    "ax2.imshow(image_reconstructed)\n",
    "\n",
    "ax2.axvline(mode_params.μ_x, linestyle=\"-\", color=\"lightgray\", alpha=0.5)\n",
    "ax2.axhline(mode_params.μ_y, linestyle=\"-\", color=\"lightgray\", alpha=0.5)\n",
    "\n",
    "ax.set_xlabel(\"x\")\n",
    "ax.set_ylabel(\"y\")\n",
    "ax.set_title(\"Experimental Image\")\n",
    "\n",
    "ax2.set_xlabel(\"x\")\n",
    "ax2.set_ylabel(\"y\")\n",
    "ax2.set_title(\"Fit Function\")"
   ]
  },
  {
   "cell_type": "code",
   "execution_count": null,
   "metadata": {},
   "outputs": [],
   "source": [
    "x = round(Int64, mode_params.μ_x)\n",
    "y = round(Int64, mode_params.μ_y)\n",
    "\n",
    "img, ax = plt.subplots(1,2, figsize=(12,5))\n",
    "\n",
    "ax[1].plot(image_reconstructed[x, :], label=\"Fit\")\n",
    "ax[1].plot(data[x, :], label=\"Experimental\")\n",
    "ax[1].legend()\n",
    "\n",
    "ax[1].set_xlabel(\"y\")\n",
    "ax[1].set_title(\"Crossection\")\n",
    "\n",
    "ax[2].set_xlabel(\"x\")\n",
    "ax[2].set_title(\"Crossection\")\n",
    "\n",
    "ax[2].plot(image_reconstructed[:, y])\n",
    "ax[2].plot(event.cam_4[:, y])"
   ]
  },
  {
   "cell_type": "code",
   "execution_count": null,
   "metadata": {},
   "outputs": [],
   "source": [
    "img, ax = plt.subplots(1,2, figsize=(12,5))\n",
    "\n",
    "ax[1].plot(sum(image_reconstructed, dims=1)[1,:], label=\"Fit\")\n",
    "ax[1].plot(sum(data, dims=1)[1,:], label=\"Experimental\")\n",
    "\n",
    "ax[1].legend()\n",
    "\n",
    "ax[2].plot(sum(image_reconstructed, dims=2))\n",
    "ax[2].plot(sum(event.cam_4, dims=2))\n",
    "\n",
    "ax[1].set_xlabel(\"y\")\n",
    "ax[1].set_title(\"Integral\")\n",
    "\n",
    "ax[2].set_xlabel(\"x\")\n",
    "ax[2].set_title(\"Integral\")"
   ]
  },
  {
   "cell_type": "code",
   "execution_count": null,
   "metadata": {},
   "outputs": [],
   "source": []
  },
  {
   "cell_type": "markdown",
   "metadata": {},
   "source": [
    "# Fit 4-b (+ background + pedestal): "
   ]
  },
  {
   "cell_type": "code",
   "execution_count": null,
   "metadata": {},
   "outputs": [],
   "source": [
    "log_likelihood_3 = let data = data,  c = conv_matrices.cam_4\n",
    "    \n",
    "    params -> begin\n",
    "        \n",
    "        image_matrix = zeros(Float64, size(data)...)\n",
    "        \n",
    "        max_pred_amp::Int64 = size(c)[2]-1\n",
    "        log_l::Float64 = 0.0\n",
    "        \n",
    "        for pix_ind in CartesianIndices(image_matrix)\n",
    "    \n",
    "            x_edge = pix_ind.I[1] \n",
    "            y_edge = pix_ind.I[2] \n",
    "\n",
    "            pix_prediction::Float64 = cdf(Normal(params.μ_x,params.σ_x), x_edge) - cdf(Normal(params.μ_x,params.σ_x), x_edge - 1)\n",
    "            pix_prediction *= cdf(Normal(params.μ_y,params.σ_y), y_edge) - cdf(Normal(params.μ_y,params.σ_y), y_edge - 1)\n",
    "\n",
    "            pix_prediction = pix_prediction*params.i + params.b\n",
    "            \n",
    "            cv_index = floor(Int64, pix_prediction)\n",
    "\n",
    "            if cv_index > max_pred_amp\n",
    "                cv_index = max_pred_amp\n",
    "            end\n",
    "\n",
    "            log_l += log(c[data[pix_ind]+1, cv_index+1])\n",
    "            \n",
    "        end\n",
    "\n",
    "    \n",
    "        return LogDVal(log_l)\n",
    "        \n",
    "    end\n",
    "end"
   ]
  },
  {
   "cell_type": "code",
   "execution_count": null,
   "metadata": {},
   "outputs": [],
   "source": [
    "prior = NamedTupleDist(\n",
    "    μ_x = 20 .. 50,\n",
    "    μ_y = 20 .. 50,\n",
    "    σ_x = 3 .. 20,\n",
    "    σ_y = 3 .. 20,\n",
    "    i = 1 .. 2^20,\n",
    "    b = 0 .. 100\n",
    "    );"
   ]
  },
  {
   "cell_type": "code",
   "execution_count": null,
   "metadata": {},
   "outputs": [],
   "source": [
    "posterior = PosteriorDensity(log_likelihood_3, prior);\n",
    "algorithm = MetropolisHastings()\n",
    "\n",
    "nsamples = 10^4\n",
    "nchains = 4\n",
    "\n",
    "@time samples = bat_sample(posterior, (nsamples, nchains), algorithm,\n",
    "        max_nsteps = 10^4, max_time = 20, \n",
    "    ).result;"
   ]
  },
  {
   "cell_type": "code",
   "execution_count": null,
   "metadata": {},
   "outputs": [],
   "source": [
    "mode_params = mode(samples)[1]"
   ]
  },
  {
   "cell_type": "code",
   "execution_count": null,
   "metadata": {},
   "outputs": [],
   "source": [
    "image_reconstructed = zeros(Float64, size(data)...)\n",
    "\n",
    "for pix_ind in CartesianIndices(image_reconstructed)\n",
    "    \n",
    "    x_edge = pix_ind.I[1] \n",
    "    y_edge = pix_ind.I[2] \n",
    "\n",
    "    pix_prediction::Float64 = cdf(Normal(mode_params.μ_x,mode_params.σ_x), x_edge) - cdf(Normal(mode_params.μ_x,mode_params.σ_x), x_edge - 1)\n",
    "    pix_prediction *= cdf(Normal(mode_params.μ_y,mode_params.σ_y), y_edge) - cdf(Normal(mode_params.μ_y,mode_params.σ_y), y_edge - 1)\n",
    "\n",
    "    pix_prediction = pix_prediction*mode_params.i + mode_params.b\n",
    "    image_reconstructed[pix_ind] = pix_prediction\n",
    "end"
   ]
  },
  {
   "cell_type": "code",
   "execution_count": null,
   "metadata": {},
   "outputs": [],
   "source": [
    "img, (ax, ax2) = plt.subplots(1,2, figsize=(12,6))\n",
    "\n",
    "ax.imshow(data)\n",
    "\n",
    "ax.axvline(mode_params.μ_x, linestyle=\"-\", color=\"lightgray\", alpha=0.5)\n",
    "ax.axhline(mode_params.μ_y, linestyle=\"-\", color=\"lightgray\", alpha=0.5)\n",
    "\n",
    "ax2.imshow(image_reconstructed)\n",
    "\n",
    "ax2.axvline(mode_params.μ_x, linestyle=\"-\", color=\"lightgray\", alpha=0.5)\n",
    "ax2.axhline(mode_params.μ_y, linestyle=\"-\", color=\"lightgray\", alpha=0.5)\n",
    "\n",
    "ax.set_xlabel(\"x\")\n",
    "ax.set_ylabel(\"y\")\n",
    "ax.set_title(\"Experimental Image\")\n",
    "\n",
    "ax2.set_xlabel(\"x\")\n",
    "ax2.set_ylabel(\"y\")\n",
    "ax2.set_title(\"Fit Function\")"
   ]
  },
  {
   "cell_type": "code",
   "execution_count": null,
   "metadata": {},
   "outputs": [],
   "source": [
    "x = round(Int64, mode_params.μ_x)\n",
    "y = round(Int64, mode_params.μ_y)\n",
    "\n",
    "img, ax = plt.subplots(1,2, figsize=(12,5))\n",
    "\n",
    "ax[1].plot(image_reconstructed[x, :], label=\"Fit\")\n",
    "ax[1].plot(data[x, :], label=\"Experimental\")\n",
    "ax[1].legend()\n",
    "\n",
    "ax[1].set_xlabel(\"y\")\n",
    "ax[1].set_title(\"Crossection\")\n",
    "\n",
    "ax[2].set_xlabel(\"x\")\n",
    "ax[2].set_title(\"Crossection\")\n",
    "\n",
    "ax[2].plot(image_reconstructed[:, y])\n",
    "ax[2].plot(event.cam_4[:, y])"
   ]
  },
  {
   "cell_type": "code",
   "execution_count": null,
   "metadata": {},
   "outputs": [],
   "source": [
    "img, ax = plt.subplots(1,2, figsize=(12,5))\n",
    "\n",
    "ax[1].plot(sum(image_reconstructed, dims=1)[1,:], label=\"Fit\")\n",
    "ax[1].plot(sum(data, dims=1)[1,:], label=\"Experimental\")\n",
    "\n",
    "ax[1].legend()\n",
    "\n",
    "ax[2].plot(sum(image_reconstructed, dims=2))\n",
    "ax[2].plot(sum(event.cam_4, dims=2))\n",
    "\n",
    "ax[1].set_xlabel(\"y\")\n",
    "ax[1].set_title(\"Integral\")\n",
    "\n",
    "ax[2].set_xlabel(\"x\")\n",
    "ax[2].set_title(\"Integral\")"
   ]
  },
  {
   "cell_type": "code",
   "execution_count": null,
   "metadata": {},
   "outputs": [],
   "source": []
  }
 ],
 "metadata": {
  "kernelspec": {
   "display_name": "Julia 1.5.0",
   "language": "julia",
   "name": "julia-1.5"
  },
  "language_info": {
   "file_extension": ".jl",
   "mimetype": "application/julia",
   "name": "julia",
   "version": "1.5.0"
  }
 },
 "nbformat": 4,
 "nbformat_minor": 4
}
