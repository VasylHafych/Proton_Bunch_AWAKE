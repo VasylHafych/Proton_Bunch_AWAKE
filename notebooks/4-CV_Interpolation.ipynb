{
 "cells": [
  {
   "cell_type": "markdown",
   "metadata": {},
   "source": [
    "    # to be deleted "
   ]
  },
  {
   "cell_type": "code",
   "execution_count": null,
   "metadata": {},
   "outputs": [],
   "source": [
    "using JLD2\n",
    "using FileIO\n",
    "using PyPlot\n",
    "using Statistics\n",
    "using StatsBase \n",
    "using Distributions\n",
    "using LinearAlgebra"
   ]
  },
  {
   "cell_type": "code",
   "execution_count": null,
   "metadata": {},
   "outputs": [],
   "source": [
    "using Flux\n",
    "using Flux: logitcrossentropy, normalise, onecold, onehotbatch, crossentropy, throttle\n",
    "using Parameters: @with_kw\n",
    "using Flux: @epochs"
   ]
  },
  {
   "cell_type": "code",
   "execution_count": null,
   "metadata": {},
   "outputs": [],
   "source": [
    "cv_data = load(\"../data/experiment/m1/conv_matrix-1.jld2\")\n",
    "\n",
    "cv_matrix = cv_data[\"cam_1\"];\n",
    "\n",
    "cv_matrix = cv_matrix[1:200, 1:300];"
   ]
  },
  {
   "cell_type": "code",
   "execution_count": null,
   "metadata": {},
   "outputs": [],
   "source": [
    "fig, ax = plt.subplots(1,1, figsize=(5,4))\n",
    "\n",
    "ax.pcolormesh(log.(cv_matrix))\n",
    "\n",
    "ax.set_xlabel(\"Predicted Signal\")\n",
    "ax.set_ylabel(\"Observed Signal\")"
   ]
  },
  {
   "cell_type": "code",
   "execution_count": null,
   "metadata": {},
   "outputs": [],
   "source": [
    "x_data = []\n",
    "y_data = []\n",
    "\n",
    "for ind in CartesianIndices(cv_matrix)\n",
    "    push!(x_data, [ind.I[1], ind.I[2]])\n",
    "    append!(y_data, cv_matrix[ind])\n",
    "end\n",
    "\n",
    "x_data = hcat(x_data...)\n",
    "y_data = y_data'"
   ]
  },
  {
   "cell_type": "code",
   "execution_count": null,
   "metadata": {},
   "outputs": [],
   "source": [
    "train_data = Flux.Data.DataLoader(x_data, y_data, batchsize=256, shuffle=true)"
   ]
  },
  {
   "cell_type": "code",
   "execution_count": null,
   "metadata": {},
   "outputs": [],
   "source": [
    "accuracy(x, y, model) = sum((model(x) .- y).^2)\n",
    "loss(x, y) = crossentropy(model(x), y)  #sum((model(x) .- y).^2)"
   ]
  },
  {
   "cell_type": "code",
   "execution_count": null,
   "metadata": {},
   "outputs": [],
   "source": [
    "model = Chain(Flux.Dense(2, 5, sigmoid), Flux.Dense(5, 1), softmax)"
   ]
  },
  {
   "cell_type": "code",
   "execution_count": null,
   "metadata": {},
   "outputs": [],
   "source": [
    "loss_vector_train = Float64[]\n",
    "\n",
    "evalcb = () -> begin \n",
    "    los_train = loss(x_data, y_data)\n",
    "    push!(loss_vector_train, los_train)\n",
    "    @show los_train\n",
    "end"
   ]
  },
  {
   "cell_type": "code",
   "execution_count": null,
   "metadata": {},
   "outputs": [],
   "source": [
    "# optimiser = Descent(0.5)\n",
    "optimiser = ADAM()"
   ]
  },
  {
   "cell_type": "code",
   "execution_count": null,
   "metadata": {},
   "outputs": [],
   "source": [
    "@time @epochs 200 Flux.train!(loss, Flux.params(model), train_data, optimiser, cb = throttle(evalcb, 80))"
   ]
  },
  {
   "cell_type": "code",
   "execution_count": null,
   "metadata": {},
   "outputs": [],
   "source": []
  }
 ],
 "metadata": {
  "kernelspec": {
   "display_name": "Julia 1.4.2",
   "language": "julia",
   "name": "julia-1.4"
  },
  "language_info": {
   "file_extension": ".jl",
   "mimetype": "application/julia",
   "name": "julia",
   "version": "1.4.2"
  }
 },
 "nbformat": 4,
 "nbformat_minor": 4
}
