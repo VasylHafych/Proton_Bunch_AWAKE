{
 "cells": [
  {
   "cell_type": "code",
   "execution_count": null,
   "metadata": {},
   "outputs": [],
   "source": [
    "using ForwardDiff"
   ]
  },
  {
   "cell_type": "code",
   "execution_count": null,
   "metadata": {},
   "outputs": [],
   "source": [
    "using JLD2\n",
    "using FileIO\n",
    "using PyPlot\n",
    "using Statistics\n",
    "using StatsBase \n",
    "using Distributions\n",
    "using LinearAlgebra\n",
    "using HDF5\n",
    "using BenchmarkTools"
   ]
  },
  {
   "cell_type": "code",
   "execution_count": null,
   "metadata": {},
   "outputs": [],
   "source": [
    "using IntervalSets\n",
    "using Random, ArraysOfArrays\n",
    "using ValueShapes\n",
    "using Measurements"
   ]
  },
  {
   "cell_type": "code",
   "execution_count": null,
   "metadata": {},
   "outputs": [],
   "source": [
    "# using Revise\n",
    "using BAT "
   ]
  },
  {
   "cell_type": "code",
   "execution_count": null,
   "metadata": {},
   "outputs": [],
   "source": [
    "using Plots"
   ]
  },
  {
   "cell_type": "code",
   "execution_count": null,
   "metadata": {},
   "outputs": [],
   "source": [
    "conv_mat = load(\"../data/experiment/dataset_2/m2/conv-matrix-upd-1.jld2\")\n",
    "\n",
    "conv_matrices = (\n",
    "    cam_1 = conv_mat[\"cam_1\"],\n",
    "    cam_2 = conv_mat[\"cam_2\"],\n",
    "    cam_3 = conv_mat[\"cam_3\"],\n",
    "    cam_4 = conv_mat[\"cam_4\"], \n",
    ") \n",
    "\n",
    "images = load(\"../data/experiment/dataset_2/m2/images-satur.jld2\");\n",
    "event_number = 440\n",
    "\n",
    "# Large Charge: Ev_2_2 = 2, Ev_2_1 = 311, Ev_2_3 = 440\n",
    "\n",
    "event = (\n",
    "    cam_1 = images[\"cam_1\"][event_number,:,:],\n",
    "    cam_2 = images[\"cam_2\"][event_number,:,:],\n",
    "    cam_3 = images[\"cam_3\"][event_number,:,:],\n",
    "    cam_4 = images[\"cam_4\"][event_number,:,:],\n",
    "    population = images[\"charge\"][event_number,:][1],\n",
    ");\n"
   ]
  },
  {
   "cell_type": "code",
   "execution_count": null,
   "metadata": {},
   "outputs": [],
   "source": [
    "function likelihood_cam4(\n",
    "        params::T, \n",
    "        image::Array{F,2},\n",
    "        population::AbstractFloat,\n",
    "        cam_ind::Integer;\n",
    "        n_threads::Integer = Threads.nthreads()\n",
    "    ) where {T <: NamedTuple, F <: AbstractFloat}\n",
    "   \n",
    "    VT = eltype(params.tr_size)\n",
    "    \n",
    "    tot_loglik = zeros(VT, n_threads)  \n",
    "    \n",
    "    light_coefficient = params.cam4_light_amp * 10^5\n",
    "    \n",
    "    δ_x = params.cam4_psx * 10^-3\n",
    "    δ_y = params.cam4_psy * 10^-3\n",
    "    \n",
    "    μ_x  = params.algmx[cam_ind] * δ_x\n",
    "    μ_y  = params.algmy[cam_ind] * δ_y\n",
    "    \n",
    "    σ_x = sqrt.(params.tr_size[1]^2 + 10^-4*params.ang_spr[1]^2*(params.waist[1] - params.s_cam[cam_ind])^2) \n",
    "    σ_y = sqrt.(params.tr_size[2]^2 + 10^-4*params.ang_spr[2]^2*(params.waist[1] - params.s_cam[cam_ind])^2) \n",
    "\n",
    "    σ_x = sqrt(σ_x^2 + (params.cam4_resx*δ_x).^2)\n",
    "    σ_y = sqrt(σ_y^2 + (params.cam4_resy*δ_y).^2)\n",
    "    \n",
    "    function pixel_log_lik(cart_ind)\n",
    "        \n",
    "        log_lik = zero(VT)\n",
    "        \n",
    "        if !isnan(image[cart_ind])\n",
    "            \n",
    "            x_edge = cart_ind.I[1] * δ_x\n",
    "            y_edge = cart_ind.I[2] * δ_y\n",
    "\n",
    "            pix_prediction = cdf(Normal(μ_x,σ_x), x_edge) - cdf(Normal(μ_x,σ_x), x_edge - δ_x)\n",
    "            pix_prediction *= cdf(Normal(μ_y,σ_y), y_edge) - cdf(Normal(μ_y,σ_y), y_edge - δ_y)\n",
    "            pix_prediction = pix_prediction*light_coefficient + params.cam4_ped\n",
    "\n",
    "            if pix_prediction > 10^4\n",
    "                pix_prediction = 10^4 \n",
    "            end   \n",
    "\n",
    "            log_lik = logpdf(truncated(Normal(pix_prediction, params.cam4_light_fluct*sqrt(pix_prediction)), 0.0, 4096), image[cart_ind])\n",
    "        end\n",
    "\n",
    "        return log_lik\n",
    "    end\n",
    "    \n",
    "    Threads.@threads for t = 1:n_threads\n",
    "        tot_loglik[t] = sum(broadcast(x -> pixel_log_lik(x), CartesianIndices(image)[t:n_threads:length(image)] ))\n",
    "    end\n",
    "\n",
    "    return sum(tot_loglik)\n",
    "end\n",
    "\n",
    "function background_conv(cv_matrix::Array{Float64,2}, observed::Int64, expected::T) where {T <: Real}\n",
    "    \n",
    "    VT = typeof(expected)\n",
    "    \n",
    "    expected = expected + 1 # convert into matrix index \n",
    "    observed = observed + 1\n",
    "\n",
    "    left_exp, right_exp = floor(Int64, expected), ceil(Int64, expected)\n",
    "    \n",
    "    if left_exp != right_exp\n",
    "        left_prob, right_prob = exp(cv_matrix[observed, left_exp]), exp(cv_matrix[observed, right_exp])\n",
    "        int_prob = log(left_prob + (right_prob - left_prob)*(expected - left_exp))\n",
    "    else \n",
    "       int_prob =  cv_matrix[observed, left_exp]\n",
    "    end\n",
    "    \n",
    "    return int_prob   \n",
    "end\n",
    "\n",
    "function likelihood_cam13(\n",
    "        params::T, \n",
    "        image::Array{Float64,2},\n",
    "        population::Float64,\n",
    "        cv_matrix::Array{Float64,2},\n",
    "        cam_ind::Int64;\n",
    "        n_threads = Threads.nthreads()\n",
    "    ) where {T <: NamedTuple}\n",
    "    \n",
    "    \n",
    "    VT = typeof(params.tr_size[1])\n",
    "    \n",
    "    tot_loglik = zeros(VT, n_threads)\n",
    "    light_coefficient::VT = params.light_amp[cam_ind] * 10^5\n",
    "    \n",
    "    δ_x::VT = params.psx[cam_ind] * 10^-3\n",
    "    δ_y::VT = params.psy[cam_ind] * 10^-3\n",
    "    \n",
    "    μ_x::VT  = params.algmx[cam_ind] * δ_x\n",
    "    μ_y::VT  = params.algmy[cam_ind] * δ_y\n",
    "    \n",
    "    σ_x::VT = sqrt.(params.tr_size[1]^2 + 10^-4*params.ang_spr[1]^2*(params.waist[1] - params.s_cam[cam_ind])^2) \n",
    "    σ_y::VT = sqrt.(params.tr_size[2]^2 + 10^-4*params.ang_spr[2]^2*(params.waist[1] - params.s_cam[cam_ind])^2) \n",
    "    \n",
    "    σ_x = sqrt(σ_x^2 + (params.resx[cam_ind]*δ_x).^2)\n",
    "    σ_y = sqrt(σ_y^2 + (params.resy[cam_ind]*δ_y).^2) # \\sigma x is the same for both\n",
    "    \n",
    "    max_pred_amp::Int64 = size(cv_matrix)[2]-1\n",
    "    \n",
    "    Threads.@threads for t = 1:n_threads\n",
    "        \n",
    "        cum_log_lik = zero(VT)\n",
    "        \n",
    "        for pix_ind in CartesianIndices(image)[t:n_threads:length(image)] \n",
    "            if !isnan(image[pix_ind])\n",
    "                x_edge::VT = pix_ind.I[1] * δ_x\n",
    "                y_edge::VT = pix_ind.I[2] * δ_y\n",
    "\n",
    "                pix_prediction = cdf(Normal(μ_x,σ_x), x_edge) - cdf(Normal(μ_x,σ_x), x_edge - δ_x)\n",
    "                pix_prediction *= cdf(Normal(μ_y,σ_y), y_edge) - cdf(Normal(μ_y,σ_y), y_edge - δ_y)\n",
    "\n",
    "                cv_index = pix_prediction*light_coefficient\n",
    "                \n",
    "                if cv_index > max_pred_amp - 1\n",
    "                    cv_index = max_pred_amp - 1\n",
    "                end\n",
    "                \n",
    "                cum_log_lik += background_conv(cv_matrix, Int64(image[pix_ind]), cv_index) # interpolated convolution \n",
    "            end\n",
    "        end\n",
    "        \n",
    "        tot_loglik[t] = cum_log_lik\n",
    "        \n",
    "    end\n",
    "\n",
    "    return sum(tot_loglik)\n",
    "end"
   ]
  },
  {
   "cell_type": "code",
   "execution_count": null,
   "metadata": {},
   "outputs": [],
   "source": [
    "param_truth = (\n",
    "    tr_size = [0.1407294407925774, 0.137012154400229], \n",
    "    ang_spr = [3.960531197813597, 4.1815937347856025], \n",
    "    waist = [2.921223603216503], \n",
    "    algmx = [33.72219850943121, 34.546617378830824, 20.634013004011102, 35.43220219068294], \n",
    "    algmy = [36.063422948400145, 37.37048076467348, 21.835681202303704, 34.94100216204202], \n",
    "    cam4_ped = 32.754991551558724, \n",
    "    cam4_light_fluct = 2.1913563229061204, \n",
    "    cam4_light_amp = 8.824954442678175, \n",
    "    resx = [0.8051569342140491, 0.540541189498069, 0.7342548245379088], \n",
    "    resy = [3.7794370837087508, 0.6186676377752929, 2.565553468252872], \n",
    "    cam4_resx = 1.339082789468911, \n",
    "    cam4_resy = 1.2429021486346863, \n",
    "    psx = [27.123268870682487, 21.89402537577619, 115.56357977889763], \n",
    "    psy = [29.323407884013157, 23.814076209426148, 124.38805051756697], \n",
    "    cam4_psx = 90.65358820186805, \n",
    "    cam4_psy = 90.67947529363211, \n",
    "    light_amp = [8.738368829879834, 11.950987284247667, 2.7858070849651555], \n",
    "    s_cam = [0.0, 1.478, 15.026, 23.115]\n",
    ")"
   ]
  },
  {
   "cell_type": "markdown",
   "metadata": {},
   "source": [
    "# Gradients Calculation: "
   ]
  },
  {
   "cell_type": "code",
   "execution_count": null,
   "metadata": {},
   "outputs": [],
   "source": [
    "# loglik = likelihood_cam13(param_truth, event.cam_1, event.population, conv_matrices.cam_1, 1)\n",
    "# loglik = likelihood_cam13(param_truth, event.cam_2, event.population, conv_matrices.cam_2, 2)\n",
    "# loglik = likelihood_cam13(param_truth, event.cam_3, event.population, conv_matrices.cam_3, 3)\n",
    "loglik = likelihood_cam4(param_truth, event.cam_4, event.population, 4)"
   ]
  },
  {
   "cell_type": "code",
   "execution_count": null,
   "metadata": {},
   "outputs": [],
   "source": [
    "@benchmark likelihood_cam4($param_truth, $event.cam_4, $event.population, 4)"
   ]
  },
  {
   "cell_type": "code",
   "execution_count": null,
   "metadata": {},
   "outputs": [],
   "source": []
  },
  {
   "cell_type": "code",
   "execution_count": null,
   "metadata": {},
   "outputs": [],
   "source": [
    "# using Revise, Profile, PProf\n",
    "# @profile likelihood_cam4(param_truth, event.cam_4, event.population, 4)\n",
    "# pprof(;webport=58599)"
   ]
  },
  {
   "cell_type": "code",
   "execution_count": null,
   "metadata": {},
   "outputs": [],
   "source": []
  },
  {
   "cell_type": "code",
   "execution_count": null,
   "metadata": {},
   "outputs": [],
   "source": []
  },
  {
   "cell_type": "code",
   "execution_count": null,
   "metadata": {},
   "outputs": [],
   "source": [
    "function logd(x; c1=true, c2=true, c3=true, c4=true)\n",
    "    \n",
    "    param_run = (\n",
    "        tr_size = [x[1], x[2]],\n",
    "        ang_spr = [x[3], x[4]],\n",
    "        waist = [x[5],],\n",
    "        algmx = [x[6], x[7], x[8], x[9]], \n",
    "        algmy = [x[10], x[11], x[12], x[13]], \n",
    "        cam4_ped = x[14], \n",
    "        cam4_light_fluct = x[15], \n",
    "        cam4_light_amp = x[16], \n",
    "        resx = [x[17], x[18], x[19]], \n",
    "        resy = [x[20], x[21], x[22]], \n",
    "        cam4_resx = x[23], \n",
    "        cam4_resy = x[24], \n",
    "        psx = [x[25], x[26], x[27]], \n",
    "        psy = [x[28], x[29], x[30]], \n",
    "        cam4_psx = x[31], \n",
    "        cam4_psy = x[32], \n",
    "        light_amp = [x[33], x[34], x[35]], \n",
    "        s_cam = [0.0, 1.478, 15.026, 23.115]\n",
    "    )\n",
    "    \n",
    "    ll = 0.0\n",
    "    \n",
    "    if c1 \n",
    "        ll += likelihood_cam13(param_run, event.cam_1, event.population, conv_matrices.cam_1, 1)\n",
    "    end\n",
    "    \n",
    "    if c2 \n",
    "        ll += likelihood_cam13(param_run, event.cam_2, event.population, conv_matrices.cam_2, 2)\n",
    "    end\n",
    "    \n",
    "    if c3\n",
    "        ll += likelihood_cam13(param_run, event.cam_3, event.population, conv_matrices.cam_3, 3)\n",
    "    end\n",
    "    \n",
    "    if c4 \n",
    "        ll += likelihood_cam4(param_run, event.cam_4, event.population, 4)\n",
    "    end\n",
    "\n",
    "    \n",
    "    return ll\n",
    "\n",
    "end"
   ]
  },
  {
   "cell_type": "code",
   "execution_count": null,
   "metadata": {},
   "outputs": [],
   "source": [
    "ld1(x) = logd(x; c1=true, c2=false, c3=false, c4=false)\n",
    "grad1(x) = ForwardDiff.gradient(ld1, x)\n",
    "ld2(x) = logd(x; c1=false, c2=true, c3=false, c4=false)\n",
    "grad2(x) = ForwardDiff.gradient(ld2, x)\n",
    "ld3(x) = logd(x; c1=false, c2=false, c3=true, c4=false)\n",
    "grad3(x) = ForwardDiff.gradient(ld3, x)\n",
    "ld4(x) = logd(x; c1=false, c2=false, c3=false, c4=true)\n",
    "grad4(x) = ForwardDiff.gradient(ld4, x)\n",
    "ld_all(x) = logd(x; c1=true, c2=true, c3=true, c4=true)\n",
    "grad_all(x) = ForwardDiff.gradient(ld_all, x)"
   ]
  },
  {
   "cell_type": "code",
   "execution_count": null,
   "metadata": {},
   "outputs": [],
   "source": [
    "x_0 = [\n",
    "    0.1407294407925774, \n",
    "    0.137012154400229, \n",
    "    3.960531197813597, \n",
    "    4.1815937347856025, \n",
    "    2.921223603216503, \n",
    "    33.72219850943121, \n",
    "    34.546617378830824, \n",
    "    20.634013004011102, \n",
    "    35.43220219068294, \n",
    "    36.063422948400145, \n",
    "    37.37048076467348, \n",
    "    21.835681202303704, \n",
    "    34.94100216204202, \n",
    "    32.754991551558724, \n",
    "    2.1913563229061204, \n",
    "    8.824954442678175, \n",
    "    0.8051569342140491, \n",
    "    0.540541189498069, \n",
    "    0.7342548245379088, \n",
    "    3.7794370837087508, \n",
    "    0.6186676377752929, \n",
    "    2.565553468252872, \n",
    "    1.339082789468911, \n",
    "    1.2429021486346863, \n",
    "    27.123268870682487, \n",
    "    21.89402537577619, \n",
    "    115.56357977889763, \n",
    "    29.323407884013157, \n",
    "    23.814076209426148, \n",
    "    124.38805051756697, \n",
    "    90.65358820186805, \n",
    "    90.67947529363211, \n",
    "    8.738368829879834, \n",
    "    11.950987284247667, \n",
    "    2.7858070849651555\n",
    "];"
   ]
  },
  {
   "cell_type": "code",
   "execution_count": null,
   "metadata": {},
   "outputs": [],
   "source": [
    "grad_all(x_0)"
   ]
  },
  {
   "cell_type": "code",
   "execution_count": null,
   "metadata": {},
   "outputs": [],
   "source": [
    "@benchmark ld_all(x_0)"
   ]
  },
  {
   "cell_type": "code",
   "execution_count": null,
   "metadata": {},
   "outputs": [],
   "source": [
    "@benchmark grad_all(x_0)"
   ]
  },
  {
   "cell_type": "code",
   "execution_count": null,
   "metadata": {},
   "outputs": [],
   "source": [
    "# f_t(x) = pdf(Normal(1, 2), x[1])*pdf(Normal(1, 1), x[2])\n",
    "# gg(x) = ForwardDiff.gradient(f_t, x)"
   ]
  },
  {
   "cell_type": "code",
   "execution_count": null,
   "metadata": {},
   "outputs": [],
   "source": [
    "xrange=range(0.0, stop = 0.3, length=25)\n",
    "yrange=range(0.0, stop = 0.35, length=25)\n",
    "\n",
    "x_coor = [x for x in xrange, y in yrange]'\n",
    "y_coor = [y for x in xrange, y in yrange]';\n"
   ]
  },
  {
   "cell_type": "code",
   "execution_count": null,
   "metadata": {},
   "outputs": [],
   "source": [
    "cam1_z =  [ld1([x,y, x_0[3:end]...]) for x in xrange, y in yrange]'\n",
    "cam1_zx = [grad1([x, y, x_0[3:end]...])[1] for x in xrange, y in yrange]'\n",
    "cam1_zy = [grad1([x, y, x_0[3:end]...])[2] for x in xrange, y in yrange]'\n",
    "cam1_speed = sqrt.(cam1_zx.^2 .+ cam1_zy.^2);"
   ]
  },
  {
   "cell_type": "code",
   "execution_count": null,
   "metadata": {},
   "outputs": [],
   "source": [
    "cam2_z =  [ld2([x,y, x_0[3:end]...]) for x in xrange, y in yrange]'\n",
    "cam2_zx = [grad2([x,y, x_0[3:end]...])[1] for x in xrange, y in yrange]'\n",
    "cam2_zy = [grad2([x,y, x_0[3:end]...])[2] for x in xrange, y in yrange]'\n",
    "cam2_speed = sqrt.(cam2_zx.^2 .+ cam2_zy.^2);"
   ]
  },
  {
   "cell_type": "code",
   "execution_count": null,
   "metadata": {},
   "outputs": [],
   "source": [
    "cam3_z =  [ld3([x,y, x_0[3:end]...]) for x in xrange, y in yrange]'\n",
    "cam3_zx = [grad3([x,y, x_0[3:end]...])[1] for x in xrange, y in yrange]'\n",
    "cam3_zy = [grad3([x,y, x_0[3:end]...])[2] for x in xrange, y in yrange]'\n",
    "cam3_speed = sqrt.(cam3_zx.^2 .+ cam3_zy.^2);"
   ]
  },
  {
   "cell_type": "code",
   "execution_count": null,
   "metadata": {},
   "outputs": [],
   "source": [
    "cam4_z =  [ld4([x,y, x_0[3:end]...]) for x in xrange, y in yrange]'\n",
    "cam4_zx = [grad4([x,y, x_0[3:end]...])[1] for x in xrange, y in yrange]'\n",
    "cam4_zy = [grad4([x,y, x_0[3:end]...])[2] for x in xrange, y in yrange]'\n",
    "cam4_speed = sqrt.(cam4_zx.^2 .+ cam4_zy.^2);"
   ]
  },
  {
   "cell_type": "code",
   "execution_count": null,
   "metadata": {},
   "outputs": [],
   "source": [
    "cam5_z =  [ld_all([x,y, x_0[3:end]...]) for x in xrange, y in yrange]'\n",
    "cam5_zx = [grad_all([x,y, x_0[3:end]...])[1] for x in xrange, y in yrange]'\n",
    "cam5_zy = [grad_all([x,y, x_0[3:end]...])[2] for x in xrange, y in yrange]'\n",
    "cam5_speed = sqrt.(cam5_zx.^2 .+ cam5_zy.^2);"
   ]
  },
  {
   "cell_type": "code",
   "execution_count": null,
   "metadata": {},
   "outputs": [],
   "source": [
    "fig, ax = subplots(1,1, figsize=(6,6))\n",
    "\n",
    "lw = 4 .* cam5_speed ./ maximum(cam5_speed) # Line Widths\n",
    "ax.contourf(xrange, yrange, cam5_z, cmap=\"Spectral_r\", levels=20)\n",
    "ax.streamplot(x_coor,y_coor,cam5_zx,cam5_zy, density=0.8,color=\"k\",linewidth=lw)\n",
    "\n",
    "ax.set_xlim(minimum(xrange), maximum(xrange))\n",
    "ax.set_ylim(minimum(yrange), maximum(yrange))\n",
    "\n",
    "ax.set_title(\"Camera (#1-4)\")\n",
    "\n",
    "ax.set_xlabel(L\"\\sigma_x\")\n",
    "ax.set_ylabel(L\"\\sigma_y\")"
   ]
  },
  {
   "cell_type": "code",
   "execution_count": null,
   "metadata": {},
   "outputs": [],
   "source": [
    "# fig, ax = subplots(1,1, figsize=(6,6))\n",
    "\n",
    "# lw = 6 .* cam1_speed ./ maximum(cam1_speed) # Line Widths\n",
    "# ax.contourf(xrange, yrange, cam1_z, cmap=\"Spectral_r\", levels=20)\n",
    "# ax.streamplot(x_coor,y_coor,cam1_zx,cam1_zy, density=0.8,color=\"k\",linewidth=lw)\n",
    "\n",
    "# ax.set_xlim(minimum(xrange), maximum(xrange))\n",
    "# ax.set_ylim(minimum(yrange), maximum(yrange))\n",
    "\n",
    "# ax.set_title(\"Camera #1\")"
   ]
  },
  {
   "cell_type": "code",
   "execution_count": null,
   "metadata": {},
   "outputs": [],
   "source": [
    "fig, ax = subplots(1,1, figsize=(8,8))\n",
    "\n",
    "lw = 2 .* cam5_speed ./ maximum(cam5_speed) # Line Widths\n",
    "ax.contourf(xrange, yrange, cam5_z, cmap=\"Spectral_r\", levels=20, alpha=0.8)\n",
    "ax.contour(xrange, yrange, cam1_z, cmap=\"Blues\", levels=10, alpha=0.5, linestyles=\"--\")\n",
    "ax.contour(xrange, yrange, cam2_z, cmap=\"Oranges\", levels=10, alpha=0.5, linestyles=\"--\")\n",
    "ax.contour(xrange, yrange, cam3_z, cmap=\"Greens\", levels=10, alpha=0.5, linestyles=\"--\")\n",
    "ax.contour(xrange, yrange, cam4_z, cmap=\"Reds\", levels=10, alpha=0.5, linestyles=\"--\")\n",
    "# ax.streamplot(x_coor,y_coor,cam5_zx,cam5_zy, density=0.7,color=\"k\",linewidth=lw)\n",
    "\n",
    "ax.set_xlim(minimum(xrange), maximum(xrange))\n",
    "ax.set_ylim(minimum(yrange), maximum(yrange))\n",
    "\n",
    "ax.set_title(\"Camera All\")"
   ]
  },
  {
   "cell_type": "code",
   "execution_count": null,
   "metadata": {},
   "outputs": [],
   "source": []
  },
  {
   "cell_type": "markdown",
   "metadata": {},
   "source": [
    "# MCMC:"
   ]
  },
  {
   "cell_type": "code",
   "execution_count": null,
   "metadata": {},
   "outputs": [],
   "source": [
    "β = 0.015\n",
    "\n",
    "# prior = NamedTupleDist(\n",
    "#         tr_size = [truncated(Normal(0.2, 0.04), 0.08, 0.25), truncated(Normal(0.2, 0.04), 0.08, 0.25)],\n",
    "#         ang_spr = [truncated(Normal(4.0, 2.0), 2.6, 5.0), truncated(Normal(4.0, 2.0), 2.6, 5.0)], # changed prior range\n",
    "#         waist = [Normal(2.9, 0.03)],\n",
    "#         algmx = [23.0 .. 48, 23.0 .. 48.0, 10.0 .. 30.0, 23.0 .. 48.0],\n",
    "#         algmy = [23.0 .. 48, 23.0 .. 48.0, 10.0 .. 30.0, 23.0 .. 48.0],\n",
    "#         cam4_ped = 4.0 .. 40.0,\n",
    "#         cam4_light_fluct = 1.0 .. 3.0,\n",
    "#         cam4_light_amp = 1.6 .. 9.9, \n",
    "#         resx = [truncated(Normal(1, 0.5), 0, Inf), truncated(Normal(1, 0.5), 0, Inf), truncated(Normal(1, 0.5), 0, Inf)], \n",
    "#         resy = [truncated(Normal(1, 0.5), 0, Inf), truncated(Normal(1, 0.5), 0, Inf), truncated(Normal(1, 0.5), 0, Inf)], \n",
    "#         cam4_resx = truncated(Normal(1, 0.5), 0, Inf),\n",
    "#         cam4_resy = truncated(Normal(1, 0.5), 0, Inf),\n",
    "#         psx = [truncated(Normal(27.1, 27.1*β), 0., Inf), truncated(Normal(21.6, 21.6*β), 0., Inf), truncated(Normal(114.0, 114.0*β), 0., Inf)], # pixels are in microns\n",
    "#         psy = [truncated(Normal(30.5, 30.5*β), 0., Inf), truncated(Normal(23.4, 23.4*β), 0., Inf), truncated(Normal(125.0, 125.0*β), 0., Inf)],\n",
    "#         cam4_psx = truncated(Normal(91.0, 91.0*β), 0., Inf),\n",
    "#         cam4_psy = truncated(Normal(89.4, 89.4*β), 0., Inf),\n",
    "#         light_amp  = [1.0 .. 13.0 , 1.0 .. 17.0, 1.0 .. 5.0], \n",
    "#         s_cam = [0.0, 1.478, 15.026, 23.1150],\n",
    "\n",
    "#     ); \n",
    "\n",
    "prior = NamedTupleDist(\n",
    "        tr_size = [truncated(Normal(0.2, 0.04), 0.08, 0.25), truncated(Normal(0.2, 0.04), 0.08, 0.25)],\n",
    "        ang_spr = [truncated(Normal(4.0, 2.0), 2.6, 5.0), truncated(Normal(4.0, 2.0), 2.6, 5.0)], # changed prior range\n",
    "        waist = [Normal(2.9, 0.03)],\n",
    "        algmx = [33.72219850943121, 34.546617378830824, 20.634013004011102, 35.43220219068294],\n",
    "        algmy = [36.063422948400145, 37.37048076467348, 21.835681202303704, 34.94100216204202],\n",
    "        cam4_ped = 32.754991551558724, \n",
    "        cam4_light_fluct = 2.1913563229061204, \n",
    "        cam4_light_amp = 8.824954442678175, \n",
    "        resx = [0.8051569342140491, 0.540541189498069, 0.7342548245379088], \n",
    "        resy = [3.7794370837087508, 0.6186676377752929, 2.565553468252872], \n",
    "        cam4_resx = 1.339,\n",
    "        cam4_resy = 1.2429,\n",
    "        psx = [27.1, 21.6, 114.0],\n",
    "        psy = [30.5, 23.4, 125.0],\n",
    "        cam4_psx = 91.0,\n",
    "        cam4_psy = 89.4,\n",
    "        light_amp  = [8.738368829879834, 11.950987284247667, 2.7858070849651555], \n",
    "        s_cam = [0.0, 1.478, 15.026, 23.1150],\n",
    "\n",
    "    ); \n",
    "\n",
    "log_likelihood = let e = event, c = conv_matrices\n",
    "    \n",
    "    params -> begin\n",
    "        \n",
    "        ll = 0.0\n",
    "        ll += likelihood_cam13(params, e.cam_1, e.population, c.cam_1, 1)\n",
    "        ll += likelihood_cam13(params, e.cam_2, e.population, c.cam_2, 2)\n",
    "        ll += likelihood_cam13(params, e.cam_3, e.population, c.cam_3, 3)\n",
    "        ll += likelihood_cam4(params, e.cam_4, e.population, 4)\n",
    "        \n",
    "        return LogDVal(ll)\n",
    "        \n",
    "    end\n",
    "end\n",
    "\n",
    "posterior = PosteriorDensity(log_likelihood, prior);"
   ]
  },
  {
   "cell_type": "markdown",
   "metadata": {},
   "source": [
    "## Likelihood Optimization: "
   ]
  },
  {
   "cell_type": "code",
   "execution_count": null,
   "metadata": {},
   "outputs": [],
   "source": [
    "log_likelihood(param_truth)\n",
    "\n",
    "@benchmark log_likelihood(param_truth)"
   ]
  },
  {
   "cell_type": "code",
   "execution_count": null,
   "metadata": {},
   "outputs": [],
   "source": []
  },
  {
   "cell_type": "markdown",
   "metadata": {},
   "source": [
    "## BFGS:"
   ]
  },
  {
   "cell_type": "code",
   "execution_count": null,
   "metadata": {},
   "outputs": [],
   "source": [
    "param_truth"
   ]
  },
  {
   "cell_type": "code",
   "execution_count": null,
   "metadata": {},
   "outputs": [],
   "source": [
    "# findmode_result = bat_findmode(posterior, MaxDensityLBFGS(init = ExplicitInit([param_truth,])), )\n",
    "\n",
    "# fit_par_values = findmode_result.result"
   ]
  },
  {
   "cell_type": "code",
   "execution_count": null,
   "metadata": {},
   "outputs": [],
   "source": [
    "findmode_result.info"
   ]
  },
  {
   "cell_type": "code",
   "execution_count": null,
   "metadata": {},
   "outputs": [],
   "source": []
  },
  {
   "cell_type": "markdown",
   "metadata": {},
   "source": [
    "### MCMC Sampling:"
   ]
  },
  {
   "cell_type": "code",
   "execution_count": null,
   "metadata": {},
   "outputs": [],
   "source": [
    "posterior = PosteriorDensity(log_likelihood, prior)\n",
    "\n",
    "tuning = AdaptiveMHTuning(\n",
    "    λ = 0.5,\n",
    "    α = ClosedInterval(0.15,0.25),\n",
    "    β = 1.5,\n",
    "    c = ClosedInterval(1e-4,1e2),\n",
    "    r = 0.5,\n",
    ")\n",
    "\n",
    "convergence = BrooksGelmanConvergence(\n",
    "    threshold = 1.1,\n",
    "    corrected = false\n",
    ")\n",
    "\n",
    "init = MCMCChainPoolInit(\n",
    "    init_tries_per_chain = ClosedInterval(50,150),\n",
    "    max_nsamples_init = 500,\n",
    "    max_nsteps_init = 500,\n",
    "    max_time_init = Inf\n",
    ")\n",
    "\n",
    "burnin = MCMCMultiCycleBurnin(\n",
    "    max_nsamples_per_cycle = 4000,\n",
    "    max_nsteps_per_cycle = 4000,\n",
    "    max_time_per_cycle = Inf,\n",
    "    max_ncycles = 120\n",
    ")\n",
    "\n",
    "nsamples = 2*10^3\n",
    "nchains = 4\n",
    "\n",
    "sampler = MetropolisHastings(tuning=tuning,)\n",
    "\n",
    "algorithm = MCMCSampling(sampler=sampler, \n",
    "    nchains=nchains, \n",
    "    init=init, \n",
    "    burnin=burnin, \n",
    "    convergence=convergence\n",
    ");"
   ]
  },
  {
   "cell_type": "code",
   "execution_count": null,
   "metadata": {},
   "outputs": [],
   "source": [
    "samples = bat_sample(posterior, nsamples, algorithm, max_neval = nsamples, max_time = Inf).result"
   ]
  },
  {
   "cell_type": "code",
   "execution_count": null,
   "metadata": {},
   "outputs": [],
   "source": []
  },
  {
   "cell_type": "markdown",
   "metadata": {},
   "source": [
    "## HMC Sampling: "
   ]
  },
  {
   "cell_type": "code",
   "execution_count": null,
   "metadata": {},
   "outputs": [],
   "source": [
    "posterior = PosteriorDensity(log_likelihood, prior);"
   ]
  },
  {
   "cell_type": "code",
   "execution_count": null,
   "metadata": {},
   "outputs": [],
   "source": [
    "posterior_is = bat_transform(PriorToGaussian(), posterior, PriorSubstitution()).result;"
   ]
  },
  {
   "cell_type": "code",
   "execution_count": null,
   "metadata": {},
   "outputs": [],
   "source": [
    "iters = 1000\n",
    "iters_warmup = 100\n",
    "chains = 4\n",
    "\n",
    "metric = BAT.DiagEuclideanMetric()\n",
    "integrator = BAT.LeapfrogIntegrator(0.0)\n",
    "proposal = BAT.NUTS(:MultinomialTS, :ClassicNoUTurn)\n",
    "adaptor = BAT.StanHMCAdaptor(0.8, iters_warmup)\n",
    "\n",
    "ahmc_sampler = HamiltonianMC(metric, ForwardDiff, integrator, proposal, adaptor);"
   ]
  },
  {
   "cell_type": "code",
   "execution_count": null,
   "metadata": {},
   "outputs": [],
   "source": [
    "@time samples_is = bat_sample(posterior_is, iters, MCMCSampling(sampler = ahmc_sampler, nchains = chains)).result;"
   ]
  },
  {
   "cell_type": "code",
   "execution_count": null,
   "metadata": {},
   "outputs": [],
   "source": [
    "# 2735.565987 / 1000 samples - 39.70% gc time) - 3 sec per sample"
   ]
  },
  {
   "cell_type": "code",
   "execution_count": null,
   "metadata": {},
   "outputs": [],
   "source": [
    "bat_eff_sample_size(samples_is)"
   ]
  },
  {
   "cell_type": "code",
   "execution_count": null,
   "metadata": {},
   "outputs": [],
   "source": [
    "trafo_is = trafoof(posterior_is.likelihood)\n",
    "samples = inv(trafo_is).(samples_is);"
   ]
  },
  {
   "cell_type": "code",
   "execution_count": null,
   "metadata": {},
   "outputs": [],
   "source": [
    "smpls_flat = flatview(unshaped.(samples.v))\n",
    "\n",
    "plt.plot(smpls_flat[3,:])"
   ]
  },
  {
   "cell_type": "code",
   "execution_count": null,
   "metadata": {},
   "outputs": [],
   "source": [
    "Plots.plot(samples)"
   ]
  },
  {
   "cell_type": "code",
   "execution_count": null,
   "metadata": {},
   "outputs": [],
   "source": [
    "BAT.LeapfrogIntegrator"
   ]
  },
  {
   "cell_type": "code",
   "execution_count": null,
   "metadata": {},
   "outputs": [],
   "source": []
  }
 ],
 "metadata": {
  "kernelspec": {
   "display_name": "Julia 1.5.2",
   "language": "julia",
   "name": "julia-1.5"
  },
  "language_info": {
   "file_extension": ".jl",
   "mimetype": "application/julia",
   "name": "julia",
   "version": "1.5.2"
  }
 },
 "nbformat": 4,
 "nbformat_minor": 4
}
