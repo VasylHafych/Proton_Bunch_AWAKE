{
 "cells": [
  {
   "cell_type": "code",
   "execution_count": 1,
   "metadata": {},
   "outputs": [],
   "source": [
    "using JLD2\n",
    "using FileIO\n",
    "using PyPlot\n",
    "using Statistics\n",
    "using StatsBase \n",
    "using Distributions\n",
    "using LinearAlgebra\n",
    "using DSP\n",
    "\n",
    "using ImageFiltering"
   ]
  },
  {
   "cell_type": "code",
   "execution_count": 4,
   "metadata": {},
   "outputs": [
    {
     "data": {
      "text/plain": [
       "pixel_probability (generic function with 1 method)"
      ]
     },
     "execution_count": 4,
     "metadata": {},
     "output_type": "execute_result"
    }
   ],
   "source": [
    "function cv_constructor(histogram::Histogram; α::Float64=2., n_max::Int64 = 6000)\n",
    "    \n",
    "    background_values = histogram.weights\n",
    "    edges = histogram.edges[1]\n",
    "    cv_matrix = zeros(Float64, 4096, n_max)\n",
    "    \n",
    "    # replace bins with 0 counts\n",
    "    mask_b = iszero.(background_values)\n",
    "    non_zero_min = minimum(background_values[.!mask_b])\n",
    "    background_values[mask_b] .= non_zero_min\n",
    "    \n",
    "#     kern_background = KernelFactors.gaussian(3)\n",
    "#     background_values= imfilter(background_values, kern_background)\n",
    "    # ***\n",
    "\n",
    "    # if the signal prediction == 0, then we use only background distribution\n",
    "    cv_matrix[:,1] .= background_values \n",
    "    \n",
    "    for i in 2:n_max\n",
    "        signal_vals = cdf.(truncated(Normal(i-1, α*sqrt(i-1)), edges[1], edges[end]), edges)\n",
    "        signal_vals = diff(signal_vals)\n",
    "        \n",
    "        # signal_vals = pdf.(Normal(i-1, α*sqrt(i-1)), h_bins)\n",
    "        signal_conv = DSP.conv(signal_vals, background_values)[1:4096]\n",
    "        signal_conv = abs.(signal_conv)\n",
    "        \n",
    "        mask = iszero.(signal_conv) # if convolution returns zero - replace it with minimum value \n",
    "        min_non_zero = minimum(signal_conv[.!mask])\n",
    "        \n",
    "        signal_conv[mask] .= min_non_zero\n",
    "        \n",
    "        if sum(signal_conv) < 0 \n",
    "            signal_conv[end] += 1 - sum(signal_conv)\n",
    "        elseif sum(signal_conv) > 0 \n",
    "            signal_conv = signal_conv ./ sum(signal_conv)\n",
    "        end\n",
    "        \n",
    "        cv_matrix[:,i] .= signal_conv \n",
    "    end\n",
    "    \n",
    "    # Apply convolution filter: \n",
    "    kern = KernelFactors.gaussian((3, 3))\n",
    "    cv_matrix = imfilter(cv_matrix, kern)\n",
    "    \n",
    "    for i in 1:n_max\n",
    "        cv_matrix[:,i] .= cv_matrix[:,i] ./ sum(cv_matrix[:,i]) \n",
    "    end\n",
    "    # Coment out if not needed \n",
    "    \n",
    "    return cv_matrix\n",
    "end\n",
    "\n",
    "function pixel_probability(predicted_value::Int64, observed_value::Int64, conv_matrix::Array{Float64,2})\n",
    "    \n",
    "    predicted_ind::Int64 = predicted_value + 1\n",
    "    observed_ind::Int64 = observed_value + 1\n",
    "    \n",
    "    return conv_matrix[observed_ind, predicted_ind]\n",
    "end"
   ]
  },
  {
   "cell_type": "code",
   "execution_count": null,
   "metadata": {},
   "outputs": [],
   "source": [
    "# used to generate conv-matrix.jld\n",
    "\n",
    "# background_hist_1 = load(\"../data/experiment/dataset_2/m1/background.jld2\")\n",
    "# background_hist_2 = load(\"../data/experiment/dataset_2/m2/background.jld2\")\n",
    "\n",
    "# cv_1_1 = cv_constructor(background_hist_1[\"cam_1\"])\n",
    "# cv_1_2 = cv_constructor(background_hist_1[\"cam_2\"])\n",
    "# cv_1_3 = cv_constructor(background_hist_1[\"cam_3\"])\n",
    "# cv_1_4 = cv_constructor(background_hist_1[\"cam_4\"])\n",
    "\n",
    "# cv_2_1 = cv_constructor(background_hist_2[\"cam_1\"])\n",
    "# cv_2_2 = cv_constructor(background_hist_2[\"cam_2\"])\n",
    "# cv_2_3 = cv_constructor(background_hist_2[\"cam_3\"])\n",
    "# cv_2_4 = cv_constructor(background_hist_2[\"cam_4\"]);"
   ]
  },
  {
   "cell_type": "code",
   "execution_count": 6,
   "metadata": {},
   "outputs": [],
   "source": [
    "#used to generate: conv-matrix-upd-1.jld\n",
    "\n",
    "background_hist_1 = load(\"../data/experiment/dataset_2/m1/background.jld2\")\n",
    "background_hist_2 = load(\"../data/experiment/dataset_2/m2/background.jld2\")\n",
    "\n",
    "cv_1_1 = cv_constructor(background_hist_1[\"cam_1\"])\n",
    "cv_1_2 = cv_constructor(background_hist_1[\"cam_2\"])\n",
    "cv_1_3 = cv_constructor(background_hist_1[\"cam_3\"])\n",
    "cv_1_4 = cv_constructor(background_hist_1[\"cam_4\"], α=5.)\n",
    "\n",
    "cv_2_1 = cv_constructor(background_hist_2[\"cam_1\"])\n",
    "cv_2_2 = cv_constructor(background_hist_2[\"cam_2\"])\n",
    "cv_2_3 = cv_constructor(background_hist_2[\"cam_3\"])\n",
    "cv_2_4 = cv_constructor(background_hist_2[\"cam_4\"], α=5.);"
   ]
  },
  {
   "cell_type": "code",
   "execution_count": 8,
   "metadata": {},
   "outputs": [],
   "source": [
    "# FileIO.save(\"../data/experiment/dataset_2/m1/conv-matrix-upd-1.jld2\", \n",
    "#     Dict(\"cam_1\" => cv_1_1, \n",
    "#         \"cam_2\" => cv_1_2, \n",
    "#         \"cam_3\" => cv_1_3, \n",
    "#         \"cam_4\" => cv_1_4))\n",
    "\n",
    "# FileIO.save(\"../data/experiment/dataset_2/m2/conv-matrix-upd-1.jld2\", \n",
    "#     Dict(\"cam_1\" => cv_2_1, \n",
    "#         \"cam_2\" => cv_2_2, \n",
    "#         \"cam_3\" => cv_2_3, \n",
    "#         \"cam_4\" => cv_2_4))"
   ]
  },
  {
   "cell_type": "markdown",
   "metadata": {},
   "source": [
    "# Example: "
   ]
  },
  {
   "cell_type": "code",
   "execution_count": null,
   "metadata": {},
   "outputs": [],
   "source": [
    "cv  = cv_2_3\n",
    "\n",
    "fig, ax = plt.subplots(1,1, figsize=(5,4))\n",
    "\n",
    "ax.plot(cv[:,1], label=\"Background\")\n",
    "ax.plot(cv[:,80], label=\"Signal\")\n",
    "\n",
    "# ax.set_xlim(0.001, 100)\n",
    "# ax.set_ylim(0.000000001, 0.05)\n",
    "\n",
    "ax.set_yscale(\"log\")\n",
    "ax.set_xscale(\"log\")\n",
    "\n",
    "ax.legend(loc=\"upper right\", ncol=1, framealpha=0.0)"
   ]
  },
  {
   "cell_type": "code",
   "execution_count": null,
   "metadata": {},
   "outputs": [],
   "source": [
    "fig, ax = plt.subplots(1,1, figsize=(5,4))\n",
    "\n",
    "# ax.pcolormesh(log.(cv[500:1400, 3500:4000]))\n",
    "ax.pcolormesh(log.(cv[1:400, 1:600]))\n",
    "\n",
    "ax.set_xlabel(\"Predicted Signal\")\n",
    "ax.set_ylabel(\"Observed Signal\")"
   ]
  },
  {
   "cell_type": "markdown",
   "metadata": {},
   "source": [
    "# Convolution Example: "
   ]
  },
  {
   "cell_type": "code",
   "execution_count": null,
   "metadata": {},
   "outputs": [],
   "source": [
    "# kern = KernelFactors.gaussian((3, 3));"
   ]
  },
  {
   "cell_type": "code",
   "execution_count": null,
   "metadata": {},
   "outputs": [],
   "source": [
    "# smeared_cv = imfilter(cv, kern);"
   ]
  },
  {
   "cell_type": "code",
   "execution_count": null,
   "metadata": {},
   "outputs": [],
   "source": [
    "# fig, ax = plt.subplots(1,1, figsize=(5,4))\n",
    "\n",
    "# ax.plot(smeared_cv[:,1], label=\"Background\")\n",
    "# ax.plot(smeared_cv[:,3060], label=\"Signal\")\n",
    "\n",
    "# # ax.set_xlim(0.001, 100)\n",
    "# # ax.set_ylim(0.0000001, 0.05)\n",
    "\n",
    "# ax.set_yscale(\"log\")\n",
    "# ax.set_xscale(\"log\")\n",
    "\n",
    "# ax.legend(loc=\"upper right\", ncol=1, framealpha=0.0)"
   ]
  },
  {
   "cell_type": "code",
   "execution_count": null,
   "metadata": {},
   "outputs": [],
   "source": [
    "# fig, ax = plt.subplots(1,1, figsize=(5,4))\n",
    "\n",
    "# ax.pcolormesh(log.(smeared_cv[500:1400, 3500:4000]))\n",
    "\n",
    "# ax.set_xlabel(\"Predicted Signal\")\n",
    "# ax.set_ylabel(\"Observed Signal\")"
   ]
  },
  {
   "cell_type": "code",
   "execution_count": null,
   "metadata": {},
   "outputs": [],
   "source": []
  }
 ],
 "metadata": {
  "kernelspec": {
   "display_name": "Julia 1.5.0",
   "language": "julia",
   "name": "julia-1.5"
  },
  "language_info": {
   "file_extension": ".jl",
   "mimetype": "application/julia",
   "name": "julia",
   "version": "1.5.0"
  }
 },
 "nbformat": 4,
 "nbformat_minor": 4
}
