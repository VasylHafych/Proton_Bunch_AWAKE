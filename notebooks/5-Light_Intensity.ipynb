{
 "cells": [
  {
   "cell_type": "code",
   "execution_count": 1,
   "metadata": {},
   "outputs": [],
   "source": [
    "using JLD\n",
    "using PyPlot\n",
    "using Statistics\n",
    "using StatsBase \n",
    "using LinearAlgebra\n",
    "using KernelDensity"
   ]
  },
  {
   "cell_type": "code",
   "execution_count": 2,
   "metadata": {},
   "outputs": [],
   "source": [
    "using MultivariateStats"
   ]
  },
  {
   "cell_type": "code",
   "execution_count": 3,
   "metadata": {},
   "outputs": [],
   "source": [
    "using JLD2\n",
    "using FileIO"
   ]
  },
  {
   "cell_type": "code",
   "execution_count": 4,
   "metadata": {},
   "outputs": [
    {
     "data": {
      "text/plain": [
       "linreg (generic function with 1 method)"
      ]
     },
     "execution_count": 4,
     "metadata": {},
     "output_type": "execute_result"
    }
   ],
   "source": [
    "function linreg(x, y; bias_c=true)\n",
    "    \n",
    "\tX = Array{Float64}(undef, length(x),1)\n",
    "\tY = Vector{Float64}(undef, length(y))\n",
    "\tX[1:length(x),1] .= x\n",
    "\tY[1:length(y)] .= y\n",
    "\tsol = llsq(X, Y)\n",
    "\tcoeff, bias = sol[1], sol[2]\n",
    "    \n",
    "    if bias_c == true\n",
    "        g1(x) = bias + coeff*x \n",
    "        return g1, (coeff, bias)\n",
    "    end\n",
    "    \n",
    "    if bias_c == false\n",
    "        g2(x) = coeff*x\n",
    "        return g2, (coeff, bias)\n",
    "    end\n",
    "    \n",
    "end"
   ]
  },
  {
   "cell_type": "code",
   "execution_count": 5,
   "metadata": {},
   "outputs": [
    {
     "data": {
      "text/plain": [
       "Dict{String,Any} with 5 entries:\n",
       "  \"ImagesIS2\"   => [0 0 … 0 0; 0 0 … 0 0; … ; 43 33 … 35 15; 23 140 … 44 28]…\n",
       "  \"ImagesBTV50\" => [10 3 … 0 0; 3 0 … 0 0; … ; 6 0 … 0 0; 4 0 … 0 0]…\n",
       "  \"charge\"      => [0.1298, 0.1712, 0.095, 0.0433, 0.097, 0.136, 0.1404, 0.1837…\n",
       "  \"ImagesBTV26\" => [81 24 … 14 0; 70 49 … 37 0; … ; 38 54 … 23 3; 69 22 … 23 4]…\n",
       "  \"ImagesBTV53\" => [0 0 … 0 0; 0 0 … 0 0; … ; 0 0 … 21 0; 0 0 … 0 0]…"
      ]
     },
     "execution_count": 5,
     "metadata": {},
     "output_type": "execute_result"
    }
   ],
   "source": [
    "data = load(\"../data/experiment/images.jld\")"
   ]
  },
  {
   "cell_type": "code",
   "execution_count": 6,
   "metadata": {},
   "outputs": [],
   "source": [
    "cam_1 = data[\"ImagesBTV50\"]\n",
    "cam_2 = data[\"ImagesBTV53\"]\n",
    "cam_3  = data[\"ImagesBTV26\"]\n",
    "cam_4 = data[\"ImagesIS2\"]\n",
    "charge  = data[\"charge\"]\n",
    "\n",
    "enumerate_events = collect(1:length(charge));"
   ]
  },
  {
   "cell_type": "code",
   "execution_count": 7,
   "metadata": {},
   "outputs": [],
   "source": [
    "cam_1_frame = (x=(160, 260), y=(140, 220))\n",
    "cam_2_frame = (x=(140, 240), y=(100, 200))\n",
    "cam_3_frame = (x=(200, 250), y=(140, 180))\n",
    "cam_4_frame = (x=(500, 850), y=(360, 600));"
   ]
  },
  {
   "cell_type": "code",
   "execution_count": null,
   "metadata": {},
   "outputs": [],
   "source": []
  },
  {
   "cell_type": "markdown",
   "metadata": {},
   "source": [
    "# 1. Measurements with Small Charge: "
   ]
  },
  {
   "cell_type": "code",
   "execution_count": 8,
   "metadata": {},
   "outputs": [],
   "source": [
    "event_mask = findall(x-> 5 < x < 15, charge);"
   ]
  },
  {
   "cell_type": "code",
   "execution_count": 9,
   "metadata": {},
   "outputs": [
    {
     "data": {
      "text/plain": [
       "(var\"#g1#2\"{Float64,Float64}(33165.11881307128, 26920.526907729978), (33165.11881307128, 26920.526907729978))"
      ]
     },
     "execution_count": 9,
     "metadata": {},
     "output_type": "execute_result"
    }
   ],
   "source": [
    "data_temp = cam_1\n",
    "\n",
    "pixel_mask = trues(size(data_temp[1,:,:]))\n",
    "pixel_mask[1:50,:] .= false\n",
    "pixel_mask[end-50:end,:] .= false\n",
    "pixel_mask[:,1:50] .= false\n",
    "pixel_mask[:,end-50:end] .= false\n",
    "pixel_mask[cam_1_frame.y[1]:cam_1_frame.y[2],cam_1_frame.x[1]:cam_1_frame.x[2]] .= false\n",
    "\n",
    "pixel_mask_2 = falses(size(data_temp[1,:,:]))\n",
    "pixel_mask_2[cam_1_frame.y[1]:cam_1_frame.y[2],cam_1_frame.x[1]:cam_1_frame.x[2]] .= true\n",
    "\n",
    "charge_tmp = []\n",
    "light_center = []\n",
    "\n",
    "for ind in event_mask\n",
    "    ch = charge[ind]\n",
    "    lp = mean(data_temp[ind,:,:][pixel_mask])\n",
    "    lc = sum(data_temp[ind,:,:][pixel_mask_2]) - sum(pixel_mask_2)*lp\n",
    "    \n",
    "    push!(charge_tmp, ch)\n",
    "    push!(light_center, lc)\n",
    "end\n",
    "\n",
    "lin_int, coeff_c1  = linreg(charge_tmp, light_center)"
   ]
  },
  {
   "cell_type": "code",
   "execution_count": 10,
   "metadata": {},
   "outputs": [
    {
     "data": {
      "text/plain": [
       "(var\"#g1#2\"{Float64,Float64}(45464.11338665009, 11587.696504168856), (45464.11338665009, 11587.696504168856))"
      ]
     },
     "execution_count": 10,
     "metadata": {},
     "output_type": "execute_result"
    }
   ],
   "source": [
    "data_temp = cam_2\n",
    "\n",
    "pixel_mask = trues(size(data_temp[1,:,:]))\n",
    "pixel_mask[1:50,:] .= false\n",
    "pixel_mask[end-50:end,:] .= false\n",
    "pixel_mask[:,1:50] .= false\n",
    "pixel_mask[:,end-50:end] .= false\n",
    "pixel_mask[cam_2_frame.y[1]:cam_2_frame.y[2],cam_2_frame.x[1]:cam_2_frame.x[2]] .= false\n",
    "\n",
    "pixel_mask_2 = falses(size(data_temp[1,:,:]))\n",
    "pixel_mask_2[cam_2_frame.y[1]:cam_2_frame.y[2],cam_2_frame.x[1]:cam_2_frame.x[2]] .= true\n",
    "\n",
    "charge_tmp = []\n",
    "light_center = []\n",
    "\n",
    "for ind in event_mask\n",
    "    ch = charge[ind]\n",
    "    lp = mean(data_temp[ind,:,:][pixel_mask])\n",
    "    lc = sum(data_temp[ind,:,:][pixel_mask_2]) - sum(pixel_mask_2)*lp\n",
    "    \n",
    "    push!(charge_tmp, ch)\n",
    "    push!(light_center, lc)\n",
    "end\n",
    "\n",
    "lin_int, coeff_c2  = linreg(charge_tmp, light_center)"
   ]
  },
  {
   "cell_type": "code",
   "execution_count": 11,
   "metadata": {},
   "outputs": [
    {
     "data": {
      "text/plain": [
       "(var\"#g1#2\"{Float64,Float64}(27521.913624961537, 4183.5798839761355), (27521.913624961537, 4183.5798839761355))"
      ]
     },
     "execution_count": 11,
     "metadata": {},
     "output_type": "execute_result"
    }
   ],
   "source": [
    "data_temp = cam_3\n",
    "\n",
    "pixel_mask = trues(size(data_temp[1,:,:]))\n",
    "pixel_mask[1:50,:] .= false\n",
    "pixel_mask[end-50:end,:] .= false\n",
    "pixel_mask[:,1:50] .= false\n",
    "pixel_mask[:,end-50:end] .= false\n",
    "pixel_mask[cam_3_frame.y[1]:cam_3_frame.y[2],cam_3_frame.x[1]:cam_3_frame.x[2]] .= false\n",
    "\n",
    "pixel_mask_2 = falses(size(data_temp[1,:,:]))\n",
    "pixel_mask_2[cam_3_frame.y[1]:cam_3_frame.y[2],cam_3_frame.x[1]:cam_3_frame.x[2]] .= true\n",
    "\n",
    "charge_tmp = []\n",
    "light_center = []\n",
    "\n",
    "for ind in event_mask\n",
    "    ch = charge[ind]\n",
    "    lp = mean(data_temp[ind,:,:][pixel_mask])\n",
    "    lc = sum(data_temp[ind,:,:][pixel_mask_2]) - sum(pixel_mask_2)*lp\n",
    "    \n",
    "    push!(charge_tmp, ch)\n",
    "    push!(light_center, lc)\n",
    "end\n",
    "\n",
    "lin_int, coeff_c3  = linreg(charge_tmp, light_center)"
   ]
  },
  {
   "cell_type": "code",
   "execution_count": 12,
   "metadata": {},
   "outputs": [
    {
     "data": {
      "text/plain": [
       "(var\"#g1#2\"{Float64,Float64}(294501.8346643575, 91040.82639275688), (294501.8346643575, 91040.82639275688))"
      ]
     },
     "execution_count": 12,
     "metadata": {},
     "output_type": "execute_result"
    }
   ],
   "source": [
    "data_temp = cam_4\n",
    "\n",
    "pixel_mask = trues(size(data_temp[1,:,:]))\n",
    "pixel_mask[1:50,:] .= false\n",
    "pixel_mask[end-50:end,:] .= false\n",
    "pixel_mask[:,1:50] .= false\n",
    "pixel_mask[:,end-50:end] .= false\n",
    "pixel_mask[cam_4_frame.y[1]:cam_4_frame.y[2],cam_4_frame.x[1]:cam_4_frame.x[2]] .= false\n",
    "\n",
    "pixel_mask_2 = falses(size(data_temp[1,:,:]))\n",
    "pixel_mask_2[cam_4_frame.y[1]:cam_4_frame.y[2],cam_4_frame.x[1]:cam_4_frame.x[2]] .= true\n",
    "\n",
    "charge_tmp = []\n",
    "light_center = []\n",
    "\n",
    "for ind in event_mask\n",
    "    ch = charge[ind]\n",
    "    lp = mean(data_temp[ind,:,:][pixel_mask])\n",
    "    lc = sum(data_temp[ind,:,:][pixel_mask_2]) - sum(pixel_mask_2)*lp\n",
    "    \n",
    "    push!(charge_tmp, ch)\n",
    "    push!(light_center, lc)\n",
    "end\n",
    "\n",
    "lin_int, coeff_c4  = linreg(charge_tmp, light_center)"
   ]
  },
  {
   "cell_type": "code",
   "execution_count": 13,
   "metadata": {},
   "outputs": [
    {
     "data": {
      "text/plain": [
       "(33165.11881307128, 45464.11338665009, 27521.913624961537, 294501.8346643575)"
      ]
     },
     "execution_count": 13,
     "metadata": {},
     "output_type": "execute_result"
    }
   ],
   "source": [
    "coeff_c1[1], coeff_c2[1], coeff_c3[1], coeff_c4[1]"
   ]
  },
  {
   "cell_type": "code",
   "execution_count": 14,
   "metadata": {},
   "outputs": [],
   "source": [
    "# FileIO.save(\"../data/experiment/m1/light_intensity-1.jld2\", \n",
    "#     Dict(\"cam_1\" => coeff_c1[1], \n",
    "#         \"cam_2\" => coeff_c2[1], \n",
    "#         \"cam_3\" => coeff_c3[1], \n",
    "#         \"cam_4\" => coeff_c4[1]))"
   ]
  },
  {
   "cell_type": "code",
   "execution_count": null,
   "metadata": {},
   "outputs": [],
   "source": []
  },
  {
   "cell_type": "markdown",
   "metadata": {},
   "source": [
    "# 2. Measurements with Large Charge: "
   ]
  },
  {
   "cell_type": "code",
   "execution_count": 15,
   "metadata": {},
   "outputs": [],
   "source": [
    "event_mask = findall(x-> x > 15, charge);"
   ]
  },
  {
   "cell_type": "code",
   "execution_count": 16,
   "metadata": {},
   "outputs": [
    {
     "data": {
      "text/plain": [
       "(var\"#g1#2\"{Float64,Float64}(34896.56036321328, -13542.150346379916), (34896.56036321328, -13542.150346379916))"
      ]
     },
     "execution_count": 16,
     "metadata": {},
     "output_type": "execute_result"
    }
   ],
   "source": [
    "data_temp = cam_1\n",
    "\n",
    "pixel_mask = trues(size(data_temp[1,:,:]))\n",
    "pixel_mask[1:50,:] .= false\n",
    "pixel_mask[end-50:end,:] .= false\n",
    "pixel_mask[:,1:50] .= false\n",
    "pixel_mask[:,end-50:end] .= false\n",
    "pixel_mask[cam_1_frame.y[1]:cam_1_frame.y[2],cam_1_frame.x[1]:cam_1_frame.x[2]] .= false\n",
    "\n",
    "pixel_mask_2 = falses(size(data_temp[1,:,:]))\n",
    "pixel_mask_2[cam_1_frame.y[1]:cam_1_frame.y[2],cam_1_frame.x[1]:cam_1_frame.x[2]] .= true\n",
    "\n",
    "charge_tmp = []\n",
    "light_center = []\n",
    "\n",
    "for ind in event_mask\n",
    "    ch = charge[ind]\n",
    "    lp = mean(data_temp[ind,:,:][pixel_mask])\n",
    "    lc = sum(data_temp[ind,:,:][pixel_mask_2]) - sum(pixel_mask_2)*lp\n",
    "    \n",
    "    push!(charge_tmp, ch)\n",
    "    push!(light_center, lc)\n",
    "end\n",
    "\n",
    "lin_int, coeff_c1  = linreg(charge_tmp, light_center)"
   ]
  },
  {
   "cell_type": "code",
   "execution_count": 17,
   "metadata": {},
   "outputs": [
    {
     "data": {
      "text/plain": [
       "(var\"#g1#2\"{Float64,Float64}(50315.11348329458, -55316.69234661002), (50315.11348329458, -55316.69234661002))"
      ]
     },
     "execution_count": 17,
     "metadata": {},
     "output_type": "execute_result"
    }
   ],
   "source": [
    "data_temp = cam_2\n",
    "\n",
    "pixel_mask = trues(size(data_temp[1,:,:]))\n",
    "pixel_mask[1:50,:] .= false\n",
    "pixel_mask[end-50:end,:] .= false\n",
    "pixel_mask[:,1:50] .= false\n",
    "pixel_mask[:,end-50:end] .= false\n",
    "pixel_mask[cam_2_frame.y[1]:cam_2_frame.y[2],cam_2_frame.x[1]:cam_2_frame.x[2]] .= false\n",
    "\n",
    "pixel_mask_2 = falses(size(data_temp[1,:,:]))\n",
    "pixel_mask_2[cam_2_frame.y[1]:cam_2_frame.y[2],cam_2_frame.x[1]:cam_2_frame.x[2]] .= true\n",
    "\n",
    "charge_tmp = []\n",
    "light_center = []\n",
    "\n",
    "for ind in event_mask\n",
    "    ch = charge[ind]\n",
    "    lp = mean(data_temp[ind,:,:][pixel_mask])\n",
    "    lc = sum(data_temp[ind,:,:][pixel_mask_2]) - sum(pixel_mask_2)*lp\n",
    "    \n",
    "    push!(charge_tmp, ch)\n",
    "    push!(light_center, lc)\n",
    "end\n",
    "\n",
    "lin_int, coeff_c2  = linreg(charge_tmp, light_center)"
   ]
  },
  {
   "cell_type": "code",
   "execution_count": 18,
   "metadata": {},
   "outputs": [
    {
     "data": {
      "image/png": "[encoded data removed]",
      "text/plain": [
       "Figure(PyObject <Figure size 400x400 with 1 Axes>)"
      ]
     },
     "metadata": {},
     "output_type": "display_data"
    },
    {
     "data": {
      "text/plain": [
       "PyObject <matplotlib.legend.Legend object at 0x7fde71317c90>"
      ]
     },
     "execution_count": 18,
     "metadata": {},
     "output_type": "execute_result"
    }
   ],
   "source": [
    "fig, ax = plt.subplots(1,1, figsize=(4,4))\n",
    "\n",
    "ax.scatter(charge_tmp, light_center, label=\"Center\")\n",
    "\n",
    "xx = minimum(charge_tmp)-1:maximum(charge_tmp)+1\n",
    "ax.plot(xx, lin_int.(xx), color=\"gray\")\n",
    "\n",
    "ax.legend(loc=\"upper right\", ncol=3, framealpha=0.0)"
   ]
  },
  {
   "cell_type": "code",
   "execution_count": 19,
   "metadata": {},
   "outputs": [
    {
     "data": {
      "text/plain": [
       "(var\"#g1#2\"{Float64,Float64}(10317.860437330588, 8887.506761805962), (10317.860437330588, 8887.506761805962))"
      ]
     },
     "execution_count": 19,
     "metadata": {},
     "output_type": "execute_result"
    }
   ],
   "source": [
    "data_temp = cam_3\n",
    "\n",
    "pixel_mask = trues(size(data_temp[1,:,:]))\n",
    "pixel_mask[1:50,:] .= false\n",
    "pixel_mask[end-50:end,:] .= false\n",
    "pixel_mask[:,1:50] .= false\n",
    "pixel_mask[:,end-50:end] .= false\n",
    "pixel_mask[cam_3_frame.y[1]:cam_3_frame.y[2],cam_3_frame.x[1]:cam_3_frame.x[2]] .= false\n",
    "\n",
    "pixel_mask_2 = falses(size(data_temp[1,:,:]))\n",
    "pixel_mask_2[cam_3_frame.y[1]:cam_3_frame.y[2],cam_3_frame.x[1]:cam_3_frame.x[2]] .= true\n",
    "\n",
    "charge_tmp = []\n",
    "light_center = []\n",
    "\n",
    "for ind in event_mask\n",
    "    ch = charge[ind]\n",
    "    lp = mean(data_temp[ind,:,:][pixel_mask])\n",
    "    lc = sum(data_temp[ind,:,:][pixel_mask_2]) - sum(pixel_mask_2)*lp\n",
    "    \n",
    "    push!(charge_tmp, ch)\n",
    "    push!(light_center, lc)\n",
    "end\n",
    "\n",
    "lin_int, coeff_c3  = linreg(charge_tmp, light_center)"
   ]
  },
  {
   "cell_type": "code",
   "execution_count": 20,
   "metadata": {},
   "outputs": [
    {
     "data": {
      "text/plain": [
       "(var\"#g1#2\"{Float64,Float64}(310986.9976752911, 485597.88556666416), (310986.9976752911, 485597.88556666416))"
      ]
     },
     "execution_count": 20,
     "metadata": {},
     "output_type": "execute_result"
    }
   ],
   "source": [
    "data_temp = cam_4\n",
    "\n",
    "pixel_mask = trues(size(data_temp[1,:,:]))\n",
    "pixel_mask[1:50,:] .= false\n",
    "pixel_mask[end-50:end,:] .= false\n",
    "pixel_mask[:,1:50] .= false\n",
    "pixel_mask[:,end-50:end] .= false\n",
    "pixel_mask[cam_4_frame.y[1]:cam_4_frame.y[2],cam_4_frame.x[1]:cam_4_frame.x[2]] .= false\n",
    "\n",
    "pixel_mask_2 = falses(size(data_temp[1,:,:]))\n",
    "pixel_mask_2[cam_4_frame.y[1]:cam_4_frame.y[2],cam_4_frame.x[1]:cam_4_frame.x[2]] .= true\n",
    "\n",
    "charge_tmp = []\n",
    "light_center = []\n",
    "\n",
    "for ind in event_mask\n",
    "    ch = charge[ind]\n",
    "    lp = mean(data_temp[ind,:,:][pixel_mask])\n",
    "    lc = sum(data_temp[ind,:,:][pixel_mask_2]) - sum(pixel_mask_2)*lp\n",
    "    \n",
    "    push!(charge_tmp, ch)\n",
    "    push!(light_center, lc)\n",
    "end\n",
    "\n",
    "lin_int, coeff_c4  = linreg(charge_tmp, light_center)"
   ]
  },
  {
   "cell_type": "code",
   "execution_count": 21,
   "metadata": {},
   "outputs": [
    {
     "data": {
      "text/plain": [
       "(34896.56036321328, 50315.11348329458, 10317.860437330588, 310986.9976752911)"
      ]
     },
     "execution_count": 21,
     "metadata": {},
     "output_type": "execute_result"
    }
   ],
   "source": [
    "coeff_c1[1], coeff_c2[1], coeff_c3[1], coeff_c4[1]"
   ]
  },
  {
   "cell_type": "code",
   "execution_count": 22,
   "metadata": {},
   "outputs": [],
   "source": [
    "# FileIO.save(\"../data/experiment/m2/light_intensity-2.jld2\", \n",
    "#     Dict(\"cam_1\" => coeff_c1[1], \n",
    "#         \"cam_2\" => coeff_c2[1], \n",
    "#         \"cam_3\" => coeff_c3[1], \n",
    "#         \"cam_4\" => coeff_c4[1]))"
   ]
  }
 ],
 "metadata": {
  "kernelspec": {
   "display_name": "Julia 1.5.0",
   "language": "julia",
   "name": "julia-1.5"
  },
  "language_info": {
   "file_extension": ".jl",
   "mimetype": "application/julia",
   "name": "julia",
   "version": "1.5.0"
  }
 },
 "nbformat": 4,
 "nbformat_minor": 4
}
