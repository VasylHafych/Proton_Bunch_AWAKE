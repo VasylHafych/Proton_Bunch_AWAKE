{
 "cells": [
  {
   "cell_type": "code",
   "execution_count": 1,
   "metadata": {},
   "outputs": [],
   "source": [
    "using JLD\n",
    "using PyPlot\n",
    "using Statistics\n",
    "using StatsBase \n",
    "using LinearAlgebra\n",
    "using KernelDensity"
   ]
  },
  {
   "cell_type": "code",
   "execution_count": 2,
   "metadata": {},
   "outputs": [],
   "source": [
    "using MultivariateStats\n",
    "using IntervalSets\n",
    "using Random, ArraysOfArrays\n",
    "using ValueShapes\n",
    "using Statistics\n",
    "using StatsBase \n",
    "using Distributions"
   ]
  },
  {
   "cell_type": "code",
   "execution_count": 3,
   "metadata": {},
   "outputs": [],
   "source": [
    "using JLD2\n",
    "using FileIO\n",
    "using BAT"
   ]
  },
  {
   "cell_type": "code",
   "execution_count": 5,
   "metadata": {},
   "outputs": [
    {
     "data": {
      "text/plain": [
       "linreg (generic function with 1 method)"
      ]
     },
     "execution_count": 5,
     "metadata": {},
     "output_type": "execute_result"
    }
   ],
   "source": [
    "function linreg(x, y; bias_c=true)\n",
    "    \n",
    "\tX = Array{Float64}(undef, length(x),1)\n",
    "\tY = Vector{Float64}(undef, length(y))\n",
    "\tX[1:length(x),1] .= x\n",
    "\tY[1:length(y)] .= y\n",
    "\tsol = llsq(X, Y)\n",
    "\tcoeff, bias = sol[1], sol[2]\n",
    "    \n",
    "    if bias_c == true\n",
    "        g1(x) = bias + coeff*x \n",
    "        return g1, (coeff, bias)\n",
    "    end\n",
    "    \n",
    "    if bias_c == false\n",
    "        g2(x) = coeff*x\n",
    "        return g2, (coeff, bias)\n",
    "    end\n",
    "    \n",
    "end"
   ]
  },
  {
   "cell_type": "code",
   "execution_count": 6,
   "metadata": {},
   "outputs": [
    {
     "data": {
      "text/plain": [
       "Dict{String,Any} with 5 entries:\n",
       "  \"ImagesIS2\"   => [0 0 … 0 0; 0 0 … 0 0; … ; 43 33 … 35 15; 23 140 … 44 28]…\n",
       "  \"ImagesBTV50\" => [10 3 … 0 0; 3 0 … 0 0; … ; 6 0 … 0 0; 4 0 … 0 0]…\n",
       "  \"charge\"      => [0.1298, 0.1712, 0.095, 0.0433, 0.097, 0.136, 0.1404, 0.1837…\n",
       "  \"ImagesBTV26\" => [81 24 … 14 0; 70 49 … 37 0; … ; 38 54 … 23 3; 69 22 … 23 4]…\n",
       "  \"ImagesBTV53\" => [0 0 … 0 0; 0 0 … 0 0; … ; 0 0 … 21 0; 0 0 … 0 0]…"
      ]
     },
     "execution_count": 6,
     "metadata": {},
     "output_type": "execute_result"
    }
   ],
   "source": [
    "data = load(\"../data/experiment/images.jld\")"
   ]
  },
  {
   "cell_type": "code",
   "execution_count": 7,
   "metadata": {},
   "outputs": [],
   "source": [
    "cam_1 = data[\"ImagesBTV50\"]\n",
    "cam_2 = data[\"ImagesBTV53\"]\n",
    "cam_3  = data[\"ImagesBTV26\"]\n",
    "cam_4 = data[\"ImagesIS2\"]\n",
    "charge  = data[\"charge\"]\n",
    "\n",
    "enumerate_events = collect(1:length(charge));"
   ]
  },
  {
   "cell_type": "code",
   "execution_count": 8,
   "metadata": {},
   "outputs": [],
   "source": [
    "# Data Set 1\n",
    "\n",
    "# cam_1_frame = (x=(160, 260), y=(140, 220))\n",
    "# cam_2_frame = (x=(140, 240), y=(100, 200))\n",
    "# cam_3_frame = (x=(200, 250), y=(140, 180))\n",
    "# cam_4_frame = (x=(500, 850), y=(360, 600));"
   ]
  },
  {
   "cell_type": "code",
   "execution_count": 9,
   "metadata": {},
   "outputs": [],
   "source": [
    "# Data Set 2: \n",
    "\n",
    "cam_1_frame = (x = (179, 249), y = (145, 215))\n",
    "cam_2_frame = (x = (156, 226), y = (111, 181))\n",
    "cam_3_frame = (x = (204, 244), y = (139, 179))\n",
    "cam_4_frame = (x = (187, 257), y = (123, 193));"
   ]
  },
  {
   "cell_type": "markdown",
   "metadata": {},
   "source": [
    "## MCMC Settings:"
   ]
  },
  {
   "cell_type": "code",
   "execution_count": 10,
   "metadata": {},
   "outputs": [],
   "source": [
    "function log_lik(x,y)\n",
    "    log_likelihood = let x = x, y = y\n",
    "        params -> begin\n",
    "            y_hat = params.a .+ params.b .* x\n",
    "            p = sum(logpdf.(Normal.(y_hat, params.alpha), y))\n",
    "            return LogDVal(p)\n",
    "        end\n",
    "    end\n",
    "end\n",
    "\n",
    "function get_uns(x, y)\n",
    "    \n",
    "    min_tmp = minimum(y)\n",
    "    y_trans = y .- min_tmp\n",
    "    max_tmp = maximum(y_trans)\n",
    "    y_trans = y_trans ./ max_tmp\n",
    "    \n",
    "    posterior = PosteriorDensity(log_lik(x, y_trans), prior)\n",
    "    samples = bat_sample(posterior, (10^5, 4), MetropolisHastings(),).result\n",
    "    \n",
    "    light_int = mean(samples)[1].b * max_tmp \n",
    "    light_std = std(samples)[1].b * max_tmp \n",
    "    \n",
    "    return (light_int=light_int, light_std=light_std)\n",
    "end\n",
    "prior = NamedTupleDist( a =  -100.0 ..  100.0, b  = 0 .. 1, alpha= 0.0 .. 10.0 )\n",
    "# posterior = PosteriorDensity(log_lik(charge_tmp, light_center_transformed), prior)\n",
    "# samples = bat_sample(posterior, (10^5, 4), MetropolisHastings(),).result;"
   ]
  },
  {
   "cell_type": "markdown",
   "metadata": {},
   "source": [
    "# 1. Measurements with Small Charge: "
   ]
  },
  {
   "cell_type": "code",
   "execution_count": 11,
   "metadata": {},
   "outputs": [],
   "source": [
    "event_mask = findall(x-> 5 < x < 15, charge);"
   ]
  },
  {
   "cell_type": "markdown",
   "metadata": {},
   "source": [
    "### Cam-1:"
   ]
  },
  {
   "cell_type": "code",
   "execution_count": 12,
   "metadata": {},
   "outputs": [
    {
     "data": {
      "text/plain": [
       "(var\"#g1#2\"{Float64,Float64}(32908.09311859194, 24816.33341487877), (32908.09311859194, 24816.33341487877))"
      ]
     },
     "execution_count": 12,
     "metadata": {},
     "output_type": "execute_result"
    }
   ],
   "source": [
    "data_temp = cam_1\n",
    "\n",
    "pixel_mask = trues(size(data_temp[1,:,:]))\n",
    "pixel_mask[1:50,:] .= false\n",
    "pixel_mask[end-50:end,:] .= false\n",
    "pixel_mask[:,1:50] .= false\n",
    "pixel_mask[:,end-50:end] .= false\n",
    "pixel_mask[cam_1_frame.y[1]:cam_1_frame.y[2],cam_1_frame.x[1]:cam_1_frame.x[2]] .= false\n",
    "\n",
    "pixel_mask_2 = falses(size(data_temp[1,:,:]))\n",
    "pixel_mask_2[cam_1_frame.y[1]:cam_1_frame.y[2],cam_1_frame.x[1]:cam_1_frame.x[2]] .= true\n",
    "\n",
    "charge_tmp = []\n",
    "light_center = []\n",
    "\n",
    "for ind in event_mask\n",
    "    ch = charge[ind]\n",
    "    lp = mean(data_temp[ind,:,:][pixel_mask])\n",
    "    lc = sum(data_temp[ind,:,:][pixel_mask_2]) - sum(pixel_mask_2)*lp\n",
    "    \n",
    "    push!(charge_tmp, ch)\n",
    "    push!(light_center, lc)\n",
    "end\n",
    "\n",
    "lin_int, coeff_c1  = linreg(charge_tmp, light_center)"
   ]
  },
  {
   "cell_type": "code",
   "execution_count": 13,
   "metadata": {},
   "outputs": [
    {
     "name": "stdout",
     "output_type": "stream",
     "text": [
      "(\"Light Intensity=\", coeff_c1[1]) = (\"Light Intensity=\", 32908.09311859194)\n"
     ]
    }
   ],
   "source": [
    "@show \"Light Intensity=\", coeff_c1[1];"
   ]
  },
  {
   "cell_type": "code",
   "execution_count": 14,
   "metadata": {},
   "outputs": [
    {
     "name": "stderr",
     "output_type": "stream",
     "text": [
      "┌ Info: Initializing new RNG of type Random123.Philox4x{UInt64,10}\n",
      "└ @ BAT /Users/vhafych/MPP-Server/gitrepos/BAT.jl/src/algotypes/bat_default.jl:44\n",
      "┌ Info: Trying to generate 4 viable MCMC chain(s).\n",
      "└ @ BAT /Users/vhafych/MPP-Server/gitrepos/BAT.jl/src/samplers/mcmc/mcmc_tuner.jl:193\n",
      "┌ Info: Selected 4 MCMC chain(s).\n",
      "└ @ BAT /Users/vhafych/MPP-Server/gitrepos/BAT.jl/src/samplers/mcmc/mcmc_tuner.jl:304\n",
      "┌ Info: Begin tuning of 4 MCMC chain(s).\n",
      "└ @ BAT /Users/vhafych/MPP-Server/gitrepos/BAT.jl/src/samplers/mcmc/mcmc_tuner.jl:65\n",
      "┌ Info: MCMC Tuning cycle 1 finished, 4 chains, 0 tuned, 0 converged.\n",
      "└ @ BAT /Users/vhafych/MPP-Server/gitrepos/BAT.jl/src/samplers/mcmc/mcmc_tuner.jl:98\n",
      "┌ Info: MCMC Tuning cycle 2 finished, 4 chains, 0 tuned, 0 converged.\n",
      "└ @ BAT /Users/vhafych/MPP-Server/gitrepos/BAT.jl/src/samplers/mcmc/mcmc_tuner.jl:98\n",
      "┌ Info: MCMC Tuning cycle 3 finished, 4 chains, 0 tuned, 4 converged.\n",
      "└ @ BAT /Users/vhafych/MPP-Server/gitrepos/BAT.jl/src/samplers/mcmc/mcmc_tuner.jl:98\n",
      "┌ Info: MCMC Tuning cycle 4 finished, 4 chains, 0 tuned, 4 converged.\n",
      "└ @ BAT /Users/vhafych/MPP-Server/gitrepos/BAT.jl/src/samplers/mcmc/mcmc_tuner.jl:98\n",
      "┌ Info: MCMC Tuning cycle 5 finished, 4 chains, 0 tuned, 4 converged.\n",
      "└ @ BAT /Users/vhafych/MPP-Server/gitrepos/BAT.jl/src/samplers/mcmc/mcmc_tuner.jl:98\n",
      "┌ Info: MCMC Tuning cycle 6 finished, 4 chains, 0 tuned, 4 converged.\n",
      "└ @ BAT /Users/vhafych/MPP-Server/gitrepos/BAT.jl/src/samplers/mcmc/mcmc_tuner.jl:98\n",
      "┌ Info: MCMC Tuning cycle 7 finished, 4 chains, 0 tuned, 4 converged.\n",
      "└ @ BAT /Users/vhafych/MPP-Server/gitrepos/BAT.jl/src/samplers/mcmc/mcmc_tuner.jl:98\n",
      "┌ Info: MCMC Tuning cycle 8 finished, 4 chains, 0 tuned, 4 converged.\n",
      "└ @ BAT /Users/vhafych/MPP-Server/gitrepos/BAT.jl/src/samplers/mcmc/mcmc_tuner.jl:98\n",
      "┌ Info: MCMC Tuning cycle 9 finished, 4 chains, 0 tuned, 4 converged.\n",
      "└ @ BAT /Users/vhafych/MPP-Server/gitrepos/BAT.jl/src/samplers/mcmc/mcmc_tuner.jl:98\n",
      "┌ Info: MCMC Tuning cycle 10 finished, 4 chains, 0 tuned, 4 converged.\n",
      "└ @ BAT /Users/vhafych/MPP-Server/gitrepos/BAT.jl/src/samplers/mcmc/mcmc_tuner.jl:98\n",
      "┌ Info: MCMC Tuning cycle 11 finished, 4 chains, 1 tuned, 4 converged.\n",
      "└ @ BAT /Users/vhafych/MPP-Server/gitrepos/BAT.jl/src/samplers/mcmc/mcmc_tuner.jl:98\n",
      "┌ Info: MCMC Tuning cycle 12 finished, 4 chains, 2 tuned, 4 converged.\n",
      "└ @ BAT /Users/vhafych/MPP-Server/gitrepos/BAT.jl/src/samplers/mcmc/mcmc_tuner.jl:98\n",
      "┌ Info: MCMC Tuning cycle 13 finished, 4 chains, 3 tuned, 4 converged.\n",
      "└ @ BAT /Users/vhafych/MPP-Server/gitrepos/BAT.jl/src/samplers/mcmc/mcmc_tuner.jl:98\n",
      "┌ Info: MCMC Tuning cycle 14 finished, 4 chains, 4 tuned, 4 converged.\n",
      "└ @ BAT /Users/vhafych/MPP-Server/gitrepos/BAT.jl/src/samplers/mcmc/mcmc_tuner.jl:98\n",
      "┌ Info: MCMC tuning of 4 chains successful after 14 cycle(s).\n",
      "└ @ BAT /Users/vhafych/MPP-Server/gitrepos/BAT.jl/src/samplers/mcmc/mcmc_tuner.jl:102\n"
     ]
    },
    {
     "name": "stdout",
     "output_type": "stream",
     "text": [
      "(\"Light Intensity=\", tmp_uns.light_int) = (\"Light Intensity=\", 32917.7111967063)\n",
      "(\"Light Uns=\", tmp_uns.light_std) = (\"Light Uns=\", 1181.9405756882663)\n"
     ]
    }
   ],
   "source": [
    "tmp_uns = get_uns(charge_tmp, light_center)\n",
    "\n",
    "@show \"Light Intensity=\", tmp_uns.light_int;\n",
    "@show \"Light Uns=\", tmp_uns.light_std;"
   ]
  },
  {
   "cell_type": "markdown",
   "metadata": {},
   "source": [
    "### Cam-2:"
   ]
  },
  {
   "cell_type": "code",
   "execution_count": 15,
   "metadata": {},
   "outputs": [
    {
     "data": {
      "text/plain": [
       "(var\"#g1#2\"{Float64,Float64}(45718.90740715601, 9857.736273525165), (45718.90740715601, 9857.736273525165))"
      ]
     },
     "execution_count": 15,
     "metadata": {},
     "output_type": "execute_result"
    }
   ],
   "source": [
    "data_temp = cam_2\n",
    "\n",
    "pixel_mask = trues(size(data_temp[1,:,:]))\n",
    "pixel_mask[1:50,:] .= false\n",
    "pixel_mask[end-50:end,:] .= false\n",
    "pixel_mask[:,1:50] .= false\n",
    "pixel_mask[:,end-50:end] .= false\n",
    "pixel_mask[cam_2_frame.y[1]:cam_2_frame.y[2],cam_2_frame.x[1]:cam_2_frame.x[2]] .= false\n",
    "\n",
    "pixel_mask_2 = falses(size(data_temp[1,:,:]))\n",
    "pixel_mask_2[cam_2_frame.y[1]:cam_2_frame.y[2],cam_2_frame.x[1]:cam_2_frame.x[2]] .= true\n",
    "\n",
    "charge_tmp = []\n",
    "light_center = []\n",
    "\n",
    "for ind in event_mask\n",
    "    ch = charge[ind]\n",
    "    lp = mean(data_temp[ind,:,:][pixel_mask])\n",
    "    lc = sum(data_temp[ind,:,:][pixel_mask_2]) - sum(pixel_mask_2)*lp\n",
    "    \n",
    "    push!(charge_tmp, ch)\n",
    "    push!(light_center, lc)\n",
    "end\n",
    "\n",
    "lin_int, coeff_c2  = linreg(charge_tmp, light_center)"
   ]
  },
  {
   "cell_type": "code",
   "execution_count": 16,
   "metadata": {},
   "outputs": [
    {
     "name": "stdout",
     "output_type": "stream",
     "text": [
      "(\"Light Intensity=\", coeff_c2[1]) = (\"Light Intensity=\", 45718.90740715601)\n"
     ]
    }
   ],
   "source": [
    "@show \"Light Intensity=\", coeff_c2[1];"
   ]
  },
  {
   "cell_type": "code",
   "execution_count": 17,
   "metadata": {},
   "outputs": [
    {
     "name": "stderr",
     "output_type": "stream",
     "text": [
      "┌ Info: Initializing new RNG of type Random123.Philox4x{UInt64,10}\n",
      "└ @ BAT /Users/vhafych/MPP-Server/gitrepos/BAT.jl/src/algotypes/bat_default.jl:44\n",
      "┌ Info: Trying to generate 4 viable MCMC chain(s).\n",
      "└ @ BAT /Users/vhafych/MPP-Server/gitrepos/BAT.jl/src/samplers/mcmc/mcmc_tuner.jl:193\n",
      "┌ Info: Selected 4 MCMC chain(s).\n",
      "└ @ BAT /Users/vhafych/MPP-Server/gitrepos/BAT.jl/src/samplers/mcmc/mcmc_tuner.jl:304\n",
      "┌ Info: Begin tuning of 4 MCMC chain(s).\n",
      "└ @ BAT /Users/vhafych/MPP-Server/gitrepos/BAT.jl/src/samplers/mcmc/mcmc_tuner.jl:65\n",
      "┌ Info: MCMC Tuning cycle 1 finished, 4 chains, 0 tuned, 0 converged.\n",
      "└ @ BAT /Users/vhafych/MPP-Server/gitrepos/BAT.jl/src/samplers/mcmc/mcmc_tuner.jl:98\n",
      "┌ Info: MCMC Tuning cycle 2 finished, 4 chains, 0 tuned, 0 converged.\n",
      "└ @ BAT /Users/vhafych/MPP-Server/gitrepos/BAT.jl/src/samplers/mcmc/mcmc_tuner.jl:98\n",
      "┌ Info: MCMC Tuning cycle 3 finished, 4 chains, 0 tuned, 0 converged.\n",
      "└ @ BAT /Users/vhafych/MPP-Server/gitrepos/BAT.jl/src/samplers/mcmc/mcmc_tuner.jl:98\n",
      "┌ Info: MCMC Tuning cycle 4 finished, 4 chains, 0 tuned, 0 converged.\n",
      "└ @ BAT /Users/vhafych/MPP-Server/gitrepos/BAT.jl/src/samplers/mcmc/mcmc_tuner.jl:98\n",
      "┌ Info: MCMC Tuning cycle 5 finished, 4 chains, 0 tuned, 4 converged.\n",
      "└ @ BAT /Users/vhafych/MPP-Server/gitrepos/BAT.jl/src/samplers/mcmc/mcmc_tuner.jl:98\n",
      "┌ Info: MCMC Tuning cycle 6 finished, 4 chains, 0 tuned, 4 converged.\n",
      "└ @ BAT /Users/vhafych/MPP-Server/gitrepos/BAT.jl/src/samplers/mcmc/mcmc_tuner.jl:98\n",
      "┌ Info: MCMC Tuning cycle 7 finished, 4 chains, 0 tuned, 4 converged.\n",
      "└ @ BAT /Users/vhafych/MPP-Server/gitrepos/BAT.jl/src/samplers/mcmc/mcmc_tuner.jl:98\n",
      "┌ Info: MCMC Tuning cycle 8 finished, 4 chains, 0 tuned, 4 converged.\n",
      "└ @ BAT /Users/vhafych/MPP-Server/gitrepos/BAT.jl/src/samplers/mcmc/mcmc_tuner.jl:98\n",
      "┌ Info: MCMC Tuning cycle 9 finished, 4 chains, 0 tuned, 4 converged.\n",
      "└ @ BAT /Users/vhafych/MPP-Server/gitrepos/BAT.jl/src/samplers/mcmc/mcmc_tuner.jl:98\n",
      "┌ Info: MCMC Tuning cycle 10 finished, 4 chains, 0 tuned, 4 converged.\n",
      "└ @ BAT /Users/vhafych/MPP-Server/gitrepos/BAT.jl/src/samplers/mcmc/mcmc_tuner.jl:98\n",
      "┌ Info: MCMC Tuning cycle 11 finished, 4 chains, 0 tuned, 4 converged.\n",
      "└ @ BAT /Users/vhafych/MPP-Server/gitrepos/BAT.jl/src/samplers/mcmc/mcmc_tuner.jl:98\n",
      "┌ Info: MCMC Tuning cycle 12 finished, 4 chains, 2 tuned, 4 converged.\n",
      "└ @ BAT /Users/vhafych/MPP-Server/gitrepos/BAT.jl/src/samplers/mcmc/mcmc_tuner.jl:98\n",
      "┌ Info: MCMC Tuning cycle 13 finished, 4 chains, 2 tuned, 4 converged.\n",
      "└ @ BAT /Users/vhafych/MPP-Server/gitrepos/BAT.jl/src/samplers/mcmc/mcmc_tuner.jl:98\n",
      "┌ Info: MCMC Tuning cycle 14 finished, 4 chains, 3 tuned, 4 converged.\n",
      "└ @ BAT /Users/vhafych/MPP-Server/gitrepos/BAT.jl/src/samplers/mcmc/mcmc_tuner.jl:98\n",
      "┌ Info: MCMC Tuning cycle 15 finished, 4 chains, 3 tuned, 4 converged.\n",
      "└ @ BAT /Users/vhafych/MPP-Server/gitrepos/BAT.jl/src/samplers/mcmc/mcmc_tuner.jl:98\n",
      "┌ Info: MCMC Tuning cycle 16 finished, 4 chains, 4 tuned, 4 converged.\n",
      "└ @ BAT /Users/vhafych/MPP-Server/gitrepos/BAT.jl/src/samplers/mcmc/mcmc_tuner.jl:98\n",
      "┌ Info: MCMC tuning of 4 chains successful after 16 cycle(s).\n",
      "└ @ BAT /Users/vhafych/MPP-Server/gitrepos/BAT.jl/src/samplers/mcmc/mcmc_tuner.jl:102\n"
     ]
    },
    {
     "name": "stdout",
     "output_type": "stream",
     "text": [
      "(\"Light Intensity=\", tmp_uns.light_int) = (\"Light Intensity=\", 45742.59138045693)\n",
      "(\"Light Uns=\", tmp_uns.light_std) = (\"Light Uns=\", 1564.955525942637)\n"
     ]
    }
   ],
   "source": [
    "tmp_uns = get_uns(charge_tmp, light_center)\n",
    "\n",
    "@show \"Light Intensity=\", tmp_uns.light_int;\n",
    "@show \"Light Uns=\", tmp_uns.light_std;"
   ]
  },
  {
   "cell_type": "markdown",
   "metadata": {},
   "source": [
    "### Cam-3:"
   ]
  },
  {
   "cell_type": "code",
   "execution_count": 18,
   "metadata": {},
   "outputs": [
    {
     "data": {
      "text/plain": [
       "(var\"#g1#2\"{Float64,Float64}(27751.912802224313, -546.4511626031856), (27751.912802224313, -546.4511626031856))"
      ]
     },
     "execution_count": 18,
     "metadata": {},
     "output_type": "execute_result"
    }
   ],
   "source": [
    "data_temp = cam_3\n",
    "\n",
    "pixel_mask = trues(size(data_temp[1,:,:]))\n",
    "pixel_mask[1:50,:] .= false\n",
    "pixel_mask[end-50:end,:] .= false\n",
    "pixel_mask[:,1:50] .= false\n",
    "pixel_mask[:,end-50:end] .= false\n",
    "pixel_mask[cam_3_frame.y[1]:cam_3_frame.y[2],cam_3_frame.x[1]:cam_3_frame.x[2]] .= false\n",
    "\n",
    "pixel_mask_2 = falses(size(data_temp[1,:,:]))\n",
    "pixel_mask_2[cam_3_frame.y[1]:cam_3_frame.y[2],cam_3_frame.x[1]:cam_3_frame.x[2]] .= true\n",
    "\n",
    "charge_tmp = []\n",
    "light_center = []\n",
    "\n",
    "for ind in event_mask\n",
    "    ch = charge[ind]\n",
    "    lp = mean(data_temp[ind,:,:][pixel_mask])\n",
    "    lc = sum(data_temp[ind,:,:][pixel_mask_2]) - sum(pixel_mask_2)*lp\n",
    "    \n",
    "    push!(charge_tmp, ch)\n",
    "    push!(light_center, lc)\n",
    "end\n",
    "\n",
    "lin_int, coeff_c3  = linreg(charge_tmp, light_center)"
   ]
  },
  {
   "cell_type": "code",
   "execution_count": 19,
   "metadata": {},
   "outputs": [
    {
     "name": "stdout",
     "output_type": "stream",
     "text": [
      "(\"Light Intensity=\", coeff_c3[1]) = (\"Light Intensity=\", 27751.912802224313)\n"
     ]
    }
   ],
   "source": [
    "@show \"Light Intensity=\", coeff_c3[1];"
   ]
  },
  {
   "cell_type": "code",
   "execution_count": 20,
   "metadata": {},
   "outputs": [
    {
     "name": "stderr",
     "output_type": "stream",
     "text": [
      "┌ Info: Initializing new RNG of type Random123.Philox4x{UInt64,10}\n",
      "└ @ BAT /Users/vhafych/MPP-Server/gitrepos/BAT.jl/src/algotypes/bat_default.jl:44\n",
      "┌ Info: Trying to generate 4 viable MCMC chain(s).\n",
      "└ @ BAT /Users/vhafych/MPP-Server/gitrepos/BAT.jl/src/samplers/mcmc/mcmc_tuner.jl:193\n",
      "┌ Info: Selected 4 MCMC chain(s).\n",
      "└ @ BAT /Users/vhafych/MPP-Server/gitrepos/BAT.jl/src/samplers/mcmc/mcmc_tuner.jl:304\n",
      "┌ Info: Begin tuning of 4 MCMC chain(s).\n",
      "└ @ BAT /Users/vhafych/MPP-Server/gitrepos/BAT.jl/src/samplers/mcmc/mcmc_tuner.jl:65\n",
      "┌ Info: MCMC Tuning cycle 1 finished, 4 chains, 0 tuned, 0 converged.\n",
      "└ @ BAT /Users/vhafych/MPP-Server/gitrepos/BAT.jl/src/samplers/mcmc/mcmc_tuner.jl:98\n",
      "┌ Info: MCMC Tuning cycle 2 finished, 4 chains, 0 tuned, 4 converged.\n",
      "└ @ BAT /Users/vhafych/MPP-Server/gitrepos/BAT.jl/src/samplers/mcmc/mcmc_tuner.jl:98\n",
      "┌ Info: MCMC Tuning cycle 3 finished, 4 chains, 0 tuned, 4 converged.\n",
      "└ @ BAT /Users/vhafych/MPP-Server/gitrepos/BAT.jl/src/samplers/mcmc/mcmc_tuner.jl:98\n",
      "┌ Info: MCMC Tuning cycle 4 finished, 4 chains, 0 tuned, 4 converged.\n",
      "└ @ BAT /Users/vhafych/MPP-Server/gitrepos/BAT.jl/src/samplers/mcmc/mcmc_tuner.jl:98\n",
      "┌ Info: MCMC Tuning cycle 5 finished, 4 chains, 0 tuned, 4 converged.\n",
      "└ @ BAT /Users/vhafych/MPP-Server/gitrepos/BAT.jl/src/samplers/mcmc/mcmc_tuner.jl:98\n",
      "┌ Info: MCMC Tuning cycle 6 finished, 4 chains, 0 tuned, 4 converged.\n",
      "└ @ BAT /Users/vhafych/MPP-Server/gitrepos/BAT.jl/src/samplers/mcmc/mcmc_tuner.jl:98\n",
      "┌ Info: MCMC Tuning cycle 7 finished, 4 chains, 0 tuned, 4 converged.\n",
      "└ @ BAT /Users/vhafych/MPP-Server/gitrepos/BAT.jl/src/samplers/mcmc/mcmc_tuner.jl:98\n",
      "┌ Info: MCMC Tuning cycle 8 finished, 4 chains, 0 tuned, 4 converged.\n",
      "└ @ BAT /Users/vhafych/MPP-Server/gitrepos/BAT.jl/src/samplers/mcmc/mcmc_tuner.jl:98\n",
      "┌ Info: MCMC Tuning cycle 9 finished, 4 chains, 0 tuned, 4 converged.\n",
      "└ @ BAT /Users/vhafych/MPP-Server/gitrepos/BAT.jl/src/samplers/mcmc/mcmc_tuner.jl:98\n",
      "┌ Info: MCMC Tuning cycle 10 finished, 4 chains, 0 tuned, 4 converged.\n",
      "└ @ BAT /Users/vhafych/MPP-Server/gitrepos/BAT.jl/src/samplers/mcmc/mcmc_tuner.jl:98\n",
      "┌ Info: MCMC Tuning cycle 11 finished, 4 chains, 1 tuned, 4 converged.\n",
      "└ @ BAT /Users/vhafych/MPP-Server/gitrepos/BAT.jl/src/samplers/mcmc/mcmc_tuner.jl:98\n",
      "┌ Info: MCMC Tuning cycle 12 finished, 4 chains, 3 tuned, 4 converged.\n",
      "└ @ BAT /Users/vhafych/MPP-Server/gitrepos/BAT.jl/src/samplers/mcmc/mcmc_tuner.jl:98\n",
      "┌ Info: MCMC Tuning cycle 13 finished, 4 chains, 4 tuned, 4 converged.\n",
      "└ @ BAT /Users/vhafych/MPP-Server/gitrepos/BAT.jl/src/samplers/mcmc/mcmc_tuner.jl:98\n",
      "┌ Info: MCMC tuning of 4 chains successful after 13 cycle(s).\n",
      "└ @ BAT /Users/vhafych/MPP-Server/gitrepos/BAT.jl/src/samplers/mcmc/mcmc_tuner.jl:102\n"
     ]
    },
    {
     "name": "stdout",
     "output_type": "stream",
     "text": [
      "(\"Light Intensity=\", tmp_uns.light_int) = (\"Light Intensity=\", 27752.90756412129)\n",
      "(\"Light Uns=\", tmp_uns.light_std) = (\"Light Uns=\", 1597.801565373618)\n"
     ]
    }
   ],
   "source": [
    "tmp_uns = get_uns(charge_tmp, light_center)\n",
    "\n",
    "@show \"Light Intensity=\", tmp_uns.light_int;\n",
    "@show \"Light Uns=\", tmp_uns.light_std;"
   ]
  },
  {
   "cell_type": "markdown",
   "metadata": {},
   "source": [
    "### Cam-4:"
   ]
  },
  {
   "cell_type": "code",
   "execution_count": 21,
   "metadata": {},
   "outputs": [],
   "source": [
    "# reduce data step: \n",
    "\n",
    "img_tmp = zeros(Int64, 958, 320, 426)\n",
    "\n",
    "for ind in 1:958, x in 1:320, y in 1:426\n",
    "    img_tmp[ind, x, y] = round(Int64, mean(cam_4[ind, (x-1)*3+1:(x-1)*3+3,(y-1)*3+1:(y-1)*3+3] ))\n",
    "end\n",
    "\n",
    "cam_4 = deepcopy(img_tmp);"
   ]
  },
  {
   "cell_type": "code",
   "execution_count": 22,
   "metadata": {},
   "outputs": [
    {
     "data": {
      "text/plain": [
       "(var\"#g1#2\"{Float64,Float64}(32034.895982716193, 7967.837424664055), (32034.895982716193, 7967.837424664055))"
      ]
     },
     "execution_count": 22,
     "metadata": {},
     "output_type": "execute_result"
    }
   ],
   "source": [
    "data_temp = cam_4\n",
    "\n",
    "pixel_mask = trues(size(data_temp[1,:,:]))\n",
    "pixel_mask[1:50,:] .= false\n",
    "pixel_mask[end-50:end,:] .= false\n",
    "pixel_mask[:,1:50] .= false\n",
    "pixel_mask[:,end-50:end] .= false\n",
    "pixel_mask[cam_4_frame.y[1]:cam_4_frame.y[2],cam_4_frame.x[1]:cam_4_frame.x[2]] .= false\n",
    "\n",
    "pixel_mask_2 = falses(size(data_temp[1,:,:]))\n",
    "pixel_mask_2[cam_4_frame.y[1]:cam_4_frame.y[2],cam_4_frame.x[1]:cam_4_frame.x[2]] .= true\n",
    "\n",
    "charge_tmp = []\n",
    "light_center = []\n",
    "\n",
    "for ind in event_mask\n",
    "    ch = charge[ind]\n",
    "    lp = mean(data_temp[ind,:,:][pixel_mask])\n",
    "    lc = sum(data_temp[ind,:,:][pixel_mask_2]) - sum(pixel_mask_2)*lp\n",
    "    \n",
    "    push!(charge_tmp, ch)\n",
    "    push!(light_center, lc)\n",
    "end\n",
    "\n",
    "lin_int, coeff_c4  = linreg(charge_tmp, light_center)"
   ]
  },
  {
   "cell_type": "code",
   "execution_count": 23,
   "metadata": {},
   "outputs": [
    {
     "data": {
      "text/plain": [
       "(32908.09311859194, 45718.90740715601, 27751.912802224313, 32034.895982716193)"
      ]
     },
     "execution_count": 23,
     "metadata": {},
     "output_type": "execute_result"
    }
   ],
   "source": [
    "coeff_c1[1], coeff_c2[1], coeff_c3[1], coeff_c4[1]"
   ]
  },
  {
   "cell_type": "code",
   "execution_count": 24,
   "metadata": {},
   "outputs": [
    {
     "name": "stdout",
     "output_type": "stream",
     "text": [
      "(\"Light Intensity=\", coeff_c3[1]) = (\"Light Intensity=\", 27751.912802224313)\n"
     ]
    }
   ],
   "source": [
    "@show \"Light Intensity=\", coeff_c3[1];"
   ]
  },
  {
   "cell_type": "code",
   "execution_count": 25,
   "metadata": {},
   "outputs": [
    {
     "name": "stderr",
     "output_type": "stream",
     "text": [
      "┌ Info: Initializing new RNG of type Random123.Philox4x{UInt64,10}\n",
      "└ @ BAT /Users/vhafych/MPP-Server/gitrepos/BAT.jl/src/algotypes/bat_default.jl:44\n",
      "┌ Info: Trying to generate 4 viable MCMC chain(s).\n",
      "└ @ BAT /Users/vhafych/MPP-Server/gitrepos/BAT.jl/src/samplers/mcmc/mcmc_tuner.jl:193\n",
      "┌ Info: Selected 4 MCMC chain(s).\n",
      "└ @ BAT /Users/vhafych/MPP-Server/gitrepos/BAT.jl/src/samplers/mcmc/mcmc_tuner.jl:304\n",
      "┌ Info: Begin tuning of 4 MCMC chain(s).\n",
      "└ @ BAT /Users/vhafych/MPP-Server/gitrepos/BAT.jl/src/samplers/mcmc/mcmc_tuner.jl:65\n",
      "┌ Info: MCMC Tuning cycle 1 finished, 4 chains, 0 tuned, 0 converged.\n",
      "└ @ BAT /Users/vhafych/MPP-Server/gitrepos/BAT.jl/src/samplers/mcmc/mcmc_tuner.jl:98\n",
      "┌ Info: MCMC Tuning cycle 2 finished, 4 chains, 0 tuned, 0 converged.\n",
      "└ @ BAT /Users/vhafych/MPP-Server/gitrepos/BAT.jl/src/samplers/mcmc/mcmc_tuner.jl:98\n",
      "┌ Info: MCMC Tuning cycle 3 finished, 4 chains, 0 tuned, 4 converged.\n",
      "└ @ BAT /Users/vhafych/MPP-Server/gitrepos/BAT.jl/src/samplers/mcmc/mcmc_tuner.jl:98\n",
      "┌ Info: MCMC Tuning cycle 4 finished, 4 chains, 0 tuned, 4 converged.\n",
      "└ @ BAT /Users/vhafych/MPP-Server/gitrepos/BAT.jl/src/samplers/mcmc/mcmc_tuner.jl:98\n",
      "┌ Info: MCMC Tuning cycle 5 finished, 4 chains, 0 tuned, 4 converged.\n",
      "└ @ BAT /Users/vhafych/MPP-Server/gitrepos/BAT.jl/src/samplers/mcmc/mcmc_tuner.jl:98\n",
      "┌ Info: MCMC Tuning cycle 6 finished, 4 chains, 0 tuned, 4 converged.\n",
      "└ @ BAT /Users/vhafych/MPP-Server/gitrepos/BAT.jl/src/samplers/mcmc/mcmc_tuner.jl:98\n",
      "┌ Info: MCMC Tuning cycle 7 finished, 4 chains, 0 tuned, 4 converged.\n",
      "└ @ BAT /Users/vhafych/MPP-Server/gitrepos/BAT.jl/src/samplers/mcmc/mcmc_tuner.jl:98\n",
      "┌ Info: MCMC Tuning cycle 8 finished, 4 chains, 0 tuned, 4 converged.\n",
      "└ @ BAT /Users/vhafych/MPP-Server/gitrepos/BAT.jl/src/samplers/mcmc/mcmc_tuner.jl:98\n",
      "┌ Info: MCMC Tuning cycle 9 finished, 4 chains, 0 tuned, 4 converged.\n",
      "└ @ BAT /Users/vhafych/MPP-Server/gitrepos/BAT.jl/src/samplers/mcmc/mcmc_tuner.jl:98\n",
      "┌ Info: MCMC Tuning cycle 10 finished, 4 chains, 0 tuned, 4 converged.\n",
      "└ @ BAT /Users/vhafych/MPP-Server/gitrepos/BAT.jl/src/samplers/mcmc/mcmc_tuner.jl:98\n",
      "┌ Info: MCMC Tuning cycle 11 finished, 4 chains, 0 tuned, 4 converged.\n",
      "└ @ BAT /Users/vhafych/MPP-Server/gitrepos/BAT.jl/src/samplers/mcmc/mcmc_tuner.jl:98\n",
      "┌ Info: MCMC Tuning cycle 12 finished, 4 chains, 1 tuned, 4 converged.\n",
      "└ @ BAT /Users/vhafych/MPP-Server/gitrepos/BAT.jl/src/samplers/mcmc/mcmc_tuner.jl:98\n",
      "┌ Info: MCMC Tuning cycle 13 finished, 4 chains, 3 tuned, 4 converged.\n",
      "└ @ BAT /Users/vhafych/MPP-Server/gitrepos/BAT.jl/src/samplers/mcmc/mcmc_tuner.jl:98\n",
      "┌ Info: MCMC Tuning cycle 14 finished, 4 chains, 4 tuned, 4 converged.\n",
      "└ @ BAT /Users/vhafych/MPP-Server/gitrepos/BAT.jl/src/samplers/mcmc/mcmc_tuner.jl:98\n",
      "┌ Info: MCMC tuning of 4 chains successful after 14 cycle(s).\n",
      "└ @ BAT /Users/vhafych/MPP-Server/gitrepos/BAT.jl/src/samplers/mcmc/mcmc_tuner.jl:102\n"
     ]
    },
    {
     "name": "stdout",
     "output_type": "stream",
     "text": [
      "(\"Light Intensity=\", tmp_uns.light_int) = (\"Light Intensity=\", 32043.621358214412)\n",
      "(\"Light Uns=\", tmp_uns.light_std) = (\"Light Uns=\", 575.6316274609215)\n"
     ]
    }
   ],
   "source": [
    "tmp_uns = get_uns(charge_tmp, light_center)\n",
    "\n",
    "@show \"Light Intensity=\", tmp_uns.light_int;\n",
    "@show \"Light Uns=\", tmp_uns.light_std;"
   ]
  },
  {
   "cell_type": "code",
   "execution_count": 26,
   "metadata": {},
   "outputs": [],
   "source": [
    "# FileIO.save(\"../data/experiment/dataset_2/m1/light_intensity.jld2\", \n",
    "#     Dict(\"cam_1\" => coeff_c1[1], \n",
    "#         \"cam_2\" => coeff_c2[1], \n",
    "#         \"cam_3\" => coeff_c3[1], \n",
    "#         \"cam_4\" => coeff_c4[1]))"
   ]
  },
  {
   "cell_type": "code",
   "execution_count": null,
   "metadata": {},
   "outputs": [],
   "source": []
  },
  {
   "cell_type": "markdown",
   "metadata": {},
   "source": [
    "# 2. Measurements with Large Charge: "
   ]
  },
  {
   "cell_type": "code",
   "execution_count": 27,
   "metadata": {},
   "outputs": [],
   "source": [
    "event_mask = findall(x-> x > 15, charge);"
   ]
  },
  {
   "cell_type": "markdown",
   "metadata": {},
   "source": [
    "### Cam-1:"
   ]
  },
  {
   "cell_type": "code",
   "execution_count": 28,
   "metadata": {},
   "outputs": [
    {
     "data": {
      "text/plain": [
       "(var\"#g1#2\"{Float64,Float64}(35147.44394156764, -23951.457878388548), (35147.44394156764, -23951.457878388548))"
      ]
     },
     "execution_count": 28,
     "metadata": {},
     "output_type": "execute_result"
    }
   ],
   "source": [
    "data_temp = cam_1\n",
    "\n",
    "pixel_mask = trues(size(data_temp[1,:,:]))\n",
    "pixel_mask[1:50,:] .= false\n",
    "pixel_mask[end-50:end,:] .= false\n",
    "pixel_mask[:,1:50] .= false\n",
    "pixel_mask[:,end-50:end] .= false\n",
    "pixel_mask[cam_1_frame.y[1]:cam_1_frame.y[2],cam_1_frame.x[1]:cam_1_frame.x[2]] .= false\n",
    "\n",
    "pixel_mask_2 = falses(size(data_temp[1,:,:]))\n",
    "pixel_mask_2[cam_1_frame.y[1]:cam_1_frame.y[2],cam_1_frame.x[1]:cam_1_frame.x[2]] .= true\n",
    "\n",
    "charge_tmp = []\n",
    "light_center = []\n",
    "\n",
    "for ind in event_mask\n",
    "    ch = charge[ind]\n",
    "    lp = mean(data_temp[ind,:,:][pixel_mask])\n",
    "    lc = sum(data_temp[ind,:,:][pixel_mask_2]) - sum(pixel_mask_2)*lp\n",
    "    \n",
    "    push!(charge_tmp, ch)\n",
    "    push!(light_center, lc)\n",
    "end\n",
    "\n",
    "\n",
    "# tmp_1 = minimum(light_center)\n",
    "# light_center_transformed = light_center .- tmp_1\n",
    "# tmp_2 = maximum(light_center_transformed)\n",
    "# light_center_transformed = light_center_transformed ./ tmp_2\n",
    "\n",
    "lin_int, coeff_c1  = linreg(charge_tmp, light_center)"
   ]
  },
  {
   "cell_type": "code",
   "execution_count": 29,
   "metadata": {},
   "outputs": [
    {
     "name": "stdout",
     "output_type": "stream",
     "text": [
      "(\"Light Intensity=\", coeff_c1[1]) = (\"Light Intensity=\", 35147.44394156764)\n"
     ]
    }
   ],
   "source": [
    "@show \"Light Intensity=\", coeff_c1[1];"
   ]
  },
  {
   "cell_type": "code",
   "execution_count": 30,
   "metadata": {},
   "outputs": [
    {
     "name": "stderr",
     "output_type": "stream",
     "text": [
      "┌ Info: Initializing new RNG of type Random123.Philox4x{UInt64,10}\n",
      "└ @ BAT /Users/vhafych/MPP-Server/gitrepos/BAT.jl/src/algotypes/bat_default.jl:44\n",
      "┌ Info: Trying to generate 4 viable MCMC chain(s).\n",
      "└ @ BAT /Users/vhafych/MPP-Server/gitrepos/BAT.jl/src/samplers/mcmc/mcmc_tuner.jl:193\n",
      "┌ Info: Selected 4 MCMC chain(s).\n",
      "└ @ BAT /Users/vhafych/MPP-Server/gitrepos/BAT.jl/src/samplers/mcmc/mcmc_tuner.jl:304\n",
      "┌ Info: Begin tuning of 4 MCMC chain(s).\n",
      "└ @ BAT /Users/vhafych/MPP-Server/gitrepos/BAT.jl/src/samplers/mcmc/mcmc_tuner.jl:65\n",
      "┌ Info: MCMC Tuning cycle 1 finished, 4 chains, 0 tuned, 0 converged.\n",
      "└ @ BAT /Users/vhafych/MPP-Server/gitrepos/BAT.jl/src/samplers/mcmc/mcmc_tuner.jl:98\n",
      "┌ Info: MCMC Tuning cycle 2 finished, 4 chains, 0 tuned, 0 converged.\n",
      "└ @ BAT /Users/vhafych/MPP-Server/gitrepos/BAT.jl/src/samplers/mcmc/mcmc_tuner.jl:98\n",
      "┌ Info: MCMC Tuning cycle 3 finished, 4 chains, 0 tuned, 4 converged.\n",
      "└ @ BAT /Users/vhafych/MPP-Server/gitrepos/BAT.jl/src/samplers/mcmc/mcmc_tuner.jl:98\n",
      "┌ Info: MCMC Tuning cycle 4 finished, 4 chains, 0 tuned, 4 converged.\n",
      "└ @ BAT /Users/vhafych/MPP-Server/gitrepos/BAT.jl/src/samplers/mcmc/mcmc_tuner.jl:98\n",
      "┌ Info: MCMC Tuning cycle 5 finished, 4 chains, 0 tuned, 4 converged.\n",
      "└ @ BAT /Users/vhafych/MPP-Server/gitrepos/BAT.jl/src/samplers/mcmc/mcmc_tuner.jl:98\n",
      "┌ Info: MCMC Tuning cycle 6 finished, 4 chains, 0 tuned, 4 converged.\n",
      "└ @ BAT /Users/vhafych/MPP-Server/gitrepos/BAT.jl/src/samplers/mcmc/mcmc_tuner.jl:98\n",
      "┌ Info: MCMC Tuning cycle 7 finished, 4 chains, 0 tuned, 4 converged.\n",
      "└ @ BAT /Users/vhafych/MPP-Server/gitrepos/BAT.jl/src/samplers/mcmc/mcmc_tuner.jl:98\n",
      "┌ Info: MCMC Tuning cycle 8 finished, 4 chains, 0 tuned, 4 converged.\n",
      "└ @ BAT /Users/vhafych/MPP-Server/gitrepos/BAT.jl/src/samplers/mcmc/mcmc_tuner.jl:98\n",
      "┌ Info: MCMC Tuning cycle 9 finished, 4 chains, 0 tuned, 4 converged.\n",
      "└ @ BAT /Users/vhafych/MPP-Server/gitrepos/BAT.jl/src/samplers/mcmc/mcmc_tuner.jl:98\n",
      "┌ Info: MCMC Tuning cycle 10 finished, 4 chains, 0 tuned, 4 converged.\n",
      "└ @ BAT /Users/vhafych/MPP-Server/gitrepos/BAT.jl/src/samplers/mcmc/mcmc_tuner.jl:98\n",
      "┌ Info: MCMC Tuning cycle 11 finished, 4 chains, 1 tuned, 4 converged.\n",
      "└ @ BAT /Users/vhafych/MPP-Server/gitrepos/BAT.jl/src/samplers/mcmc/mcmc_tuner.jl:98\n",
      "┌ Info: MCMC Tuning cycle 12 finished, 4 chains, 2 tuned, 4 converged.\n",
      "└ @ BAT /Users/vhafych/MPP-Server/gitrepos/BAT.jl/src/samplers/mcmc/mcmc_tuner.jl:98\n",
      "┌ Info: MCMC Tuning cycle 13 finished, 4 chains, 4 tuned, 4 converged.\n",
      "└ @ BAT /Users/vhafych/MPP-Server/gitrepos/BAT.jl/src/samplers/mcmc/mcmc_tuner.jl:98\n",
      "┌ Info: MCMC tuning of 4 chains successful after 13 cycle(s).\n",
      "└ @ BAT /Users/vhafych/MPP-Server/gitrepos/BAT.jl/src/samplers/mcmc/mcmc_tuner.jl:102\n"
     ]
    },
    {
     "name": "stdout",
     "output_type": "stream",
     "text": [
      "(\"Light Intensity=\", tmp_uns.light_int) = (\"Light Intensity=\", 35147.64886977112)\n",
      "(\"Light Uns=\", tmp_uns.light_std) = (\"Light Uns=\", 1408.0950869294038)\n"
     ]
    }
   ],
   "source": [
    "tmp_uns = get_uns(charge_tmp, light_center)\n",
    "\n",
    "@show \"Light Intensity=\", tmp_uns.light_int;\n",
    "@show \"Light Uns=\", tmp_uns.light_std;"
   ]
  },
  {
   "cell_type": "code",
   "execution_count": null,
   "metadata": {},
   "outputs": [],
   "source": []
  },
  {
   "cell_type": "code",
   "execution_count": null,
   "metadata": {},
   "outputs": [],
   "source": []
  },
  {
   "cell_type": "markdown",
   "metadata": {},
   "source": [
    "### Cam-2:"
   ]
  },
  {
   "cell_type": "code",
   "execution_count": 31,
   "metadata": {},
   "outputs": [
    {
     "data": {
      "text/plain": [
       "(var\"#g1#2\"{Float64,Float64}(50235.055295897284, -46280.570381109836), (50235.055295897284, -46280.570381109836))"
      ]
     },
     "execution_count": 31,
     "metadata": {},
     "output_type": "execute_result"
    }
   ],
   "source": [
    "data_temp = cam_2\n",
    "\n",
    "pixel_mask = trues(size(data_temp[1,:,:]))\n",
    "pixel_mask[1:50,:] .= false\n",
    "pixel_mask[end-50:end,:] .= false\n",
    "pixel_mask[:,1:50] .= false\n",
    "pixel_mask[:,end-50:end] .= false\n",
    "pixel_mask[cam_2_frame.y[1]:cam_2_frame.y[2],cam_2_frame.x[1]:cam_2_frame.x[2]] .= false\n",
    "\n",
    "pixel_mask_2 = falses(size(data_temp[1,:,:]))\n",
    "pixel_mask_2[cam_2_frame.y[1]:cam_2_frame.y[2],cam_2_frame.x[1]:cam_2_frame.x[2]] .= true\n",
    "\n",
    "charge_tmp = []\n",
    "light_center = []\n",
    "\n",
    "for ind in event_mask\n",
    "    ch = charge[ind]\n",
    "    lp = mean(data_temp[ind,:,:][pixel_mask])\n",
    "    lc = sum(data_temp[ind,:,:][pixel_mask_2]) - sum(pixel_mask_2)*lp\n",
    "    \n",
    "    push!(charge_tmp, ch)\n",
    "    push!(light_center, lc)\n",
    "end\n",
    "\n",
    "lin_int, coeff_c2  = linreg(charge_tmp, light_center)"
   ]
  },
  {
   "cell_type": "code",
   "execution_count": 32,
   "metadata": {},
   "outputs": [
    {
     "name": "stdout",
     "output_type": "stream",
     "text": [
      "(\"Light Intensity=\", coeff_c2[1]) = (\"Light Intensity=\", 50235.055295897284)\n"
     ]
    }
   ],
   "source": [
    "@show \"Light Intensity=\", coeff_c2[1];"
   ]
  },
  {
   "cell_type": "code",
   "execution_count": 33,
   "metadata": {},
   "outputs": [
    {
     "name": "stderr",
     "output_type": "stream",
     "text": [
      "┌ Info: Initializing new RNG of type Random123.Philox4x{UInt64,10}\n",
      "└ @ BAT /Users/vhafych/MPP-Server/gitrepos/BAT.jl/src/algotypes/bat_default.jl:44\n",
      "┌ Info: Trying to generate 4 viable MCMC chain(s).\n",
      "└ @ BAT /Users/vhafych/MPP-Server/gitrepos/BAT.jl/src/samplers/mcmc/mcmc_tuner.jl:193\n",
      "┌ Info: Selected 4 MCMC chain(s).\n",
      "└ @ BAT /Users/vhafych/MPP-Server/gitrepos/BAT.jl/src/samplers/mcmc/mcmc_tuner.jl:304\n",
      "┌ Info: Begin tuning of 4 MCMC chain(s).\n",
      "└ @ BAT /Users/vhafych/MPP-Server/gitrepos/BAT.jl/src/samplers/mcmc/mcmc_tuner.jl:65\n",
      "┌ Info: MCMC Tuning cycle 1 finished, 4 chains, 0 tuned, 0 converged.\n",
      "└ @ BAT /Users/vhafych/MPP-Server/gitrepos/BAT.jl/src/samplers/mcmc/mcmc_tuner.jl:98\n",
      "┌ Info: MCMC Tuning cycle 2 finished, 4 chains, 0 tuned, 0 converged.\n",
      "└ @ BAT /Users/vhafych/MPP-Server/gitrepos/BAT.jl/src/samplers/mcmc/mcmc_tuner.jl:98\n",
      "┌ Info: MCMC Tuning cycle 3 finished, 4 chains, 0 tuned, 4 converged.\n",
      "└ @ BAT /Users/vhafych/MPP-Server/gitrepos/BAT.jl/src/samplers/mcmc/mcmc_tuner.jl:98\n",
      "┌ Info: MCMC Tuning cycle 4 finished, 4 chains, 0 tuned, 4 converged.\n",
      "└ @ BAT /Users/vhafych/MPP-Server/gitrepos/BAT.jl/src/samplers/mcmc/mcmc_tuner.jl:98\n",
      "┌ Info: MCMC Tuning cycle 5 finished, 4 chains, 0 tuned, 4 converged.\n",
      "└ @ BAT /Users/vhafych/MPP-Server/gitrepos/BAT.jl/src/samplers/mcmc/mcmc_tuner.jl:98\n",
      "┌ Info: MCMC Tuning cycle 6 finished, 4 chains, 0 tuned, 4 converged.\n",
      "└ @ BAT /Users/vhafych/MPP-Server/gitrepos/BAT.jl/src/samplers/mcmc/mcmc_tuner.jl:98\n",
      "┌ Info: MCMC Tuning cycle 7 finished, 4 chains, 0 tuned, 4 converged.\n",
      "└ @ BAT /Users/vhafych/MPP-Server/gitrepos/BAT.jl/src/samplers/mcmc/mcmc_tuner.jl:98\n",
      "┌ Info: MCMC Tuning cycle 8 finished, 4 chains, 0 tuned, 4 converged.\n",
      "└ @ BAT /Users/vhafych/MPP-Server/gitrepos/BAT.jl/src/samplers/mcmc/mcmc_tuner.jl:98\n",
      "┌ Info: MCMC Tuning cycle 9 finished, 4 chains, 0 tuned, 4 converged.\n",
      "└ @ BAT /Users/vhafych/MPP-Server/gitrepos/BAT.jl/src/samplers/mcmc/mcmc_tuner.jl:98\n",
      "┌ Info: MCMC Tuning cycle 10 finished, 4 chains, 0 tuned, 4 converged.\n",
      "└ @ BAT /Users/vhafych/MPP-Server/gitrepos/BAT.jl/src/samplers/mcmc/mcmc_tuner.jl:98\n",
      "┌ Info: MCMC Tuning cycle 11 finished, 4 chains, 0 tuned, 4 converged.\n",
      "└ @ BAT /Users/vhafych/MPP-Server/gitrepos/BAT.jl/src/samplers/mcmc/mcmc_tuner.jl:98\n",
      "┌ Info: MCMC Tuning cycle 12 finished, 4 chains, 0 tuned, 4 converged.\n",
      "└ @ BAT /Users/vhafych/MPP-Server/gitrepos/BAT.jl/src/samplers/mcmc/mcmc_tuner.jl:98\n",
      "┌ Info: MCMC Tuning cycle 13 finished, 4 chains, 2 tuned, 4 converged.\n",
      "└ @ BAT /Users/vhafych/MPP-Server/gitrepos/BAT.jl/src/samplers/mcmc/mcmc_tuner.jl:98\n",
      "┌ Info: MCMC Tuning cycle 14 finished, 4 chains, 4 tuned, 4 converged.\n",
      "└ @ BAT /Users/vhafych/MPP-Server/gitrepos/BAT.jl/src/samplers/mcmc/mcmc_tuner.jl:98\n",
      "┌ Info: MCMC tuning of 4 chains successful after 14 cycle(s).\n",
      "└ @ BAT /Users/vhafych/MPP-Server/gitrepos/BAT.jl/src/samplers/mcmc/mcmc_tuner.jl:102\n"
     ]
    },
    {
     "name": "stdout",
     "output_type": "stream",
     "text": [
      "(\"Light Intensity=\", tmp_uns.light_int) = (\"Light Intensity=\", 50219.15213034093)\n",
      "(\"Light Uns=\", tmp_uns.light_std) = (\"Light Uns=\", 1611.9239947063904)\n"
     ]
    }
   ],
   "source": [
    "tmp_uns = get_uns(charge_tmp, light_center)\n",
    "\n",
    "@show \"Light Intensity=\", tmp_uns.light_int;\n",
    "@show \"Light Uns=\", tmp_uns.light_std;"
   ]
  },
  {
   "cell_type": "code",
   "execution_count": 34,
   "metadata": {},
   "outputs": [
    {
     "data": {
      "image/png": "[encoded data removed]",
      "text/plain": [
       "Figure(PyObject <Figure size 400x400 with 1 Axes>)"
      ]
     },
     "metadata": {},
     "output_type": "display_data"
    },
    {
     "data": {
      "text/plain": [
       "PyObject <matplotlib.legend.Legend object at 0x7fed2e179ee0>"
      ]
     },
     "execution_count": 34,
     "metadata": {},
     "output_type": "execute_result"
    }
   ],
   "source": [
    "fig, ax = plt.subplots(1,1, figsize=(4,4))\n",
    "\n",
    "ax.scatter(charge_tmp, light_center, label=\"Center\")\n",
    " \n",
    "xx = minimum(charge_tmp)-1:maximum(charge_tmp)+1\n",
    "ax.plot(xx, lin_int.(xx), color=\"gray\")\n",
    "\n",
    "ax.legend(loc=\"upper right\", ncol=3, framealpha=0.0)"
   ]
  },
  {
   "cell_type": "markdown",
   "metadata": {},
   "source": [
    "### Cam-3:"
   ]
  },
  {
   "cell_type": "code",
   "execution_count": 35,
   "metadata": {},
   "outputs": [
    {
     "data": {
      "text/plain": [
       "(var\"#g1#2\"{Float64,Float64}(10096.643089585976, 14416.584214083412), (10096.643089585976, 14416.584214083412))"
      ]
     },
     "execution_count": 35,
     "metadata": {},
     "output_type": "execute_result"
    }
   ],
   "source": [
    "data_temp = cam_3\n",
    "\n",
    "pixel_mask = trues(size(data_temp[1,:,:]))\n",
    "pixel_mask[1:50,:] .= false\n",
    "pixel_mask[end-50:end,:] .= false\n",
    "pixel_mask[:,1:50] .= false\n",
    "pixel_mask[:,end-50:end] .= false\n",
    "pixel_mask[cam_3_frame.y[1]:cam_3_frame.y[2],cam_3_frame.x[1]:cam_3_frame.x[2]] .= false\n",
    "\n",
    "pixel_mask_2 = falses(size(data_temp[1,:,:]))\n",
    "pixel_mask_2[cam_3_frame.y[1]:cam_3_frame.y[2],cam_3_frame.x[1]:cam_3_frame.x[2]] .= true\n",
    "\n",
    "charge_tmp = []\n",
    "light_center = []\n",
    "\n",
    "for ind in event_mask\n",
    "    ch = charge[ind]\n",
    "    lp = mean(data_temp[ind,:,:][pixel_mask])\n",
    "    lc = sum(data_temp[ind,:,:][pixel_mask_2]) - sum(pixel_mask_2)*lp\n",
    "    \n",
    "    push!(charge_tmp, ch)\n",
    "    push!(light_center, lc)\n",
    "end\n",
    "\n",
    "lin_int, coeff_c3  = linreg(charge_tmp, light_center)"
   ]
  },
  {
   "cell_type": "code",
   "execution_count": 36,
   "metadata": {},
   "outputs": [
    {
     "name": "stdout",
     "output_type": "stream",
     "text": [
      "(\"Light Intensity=\", coeff_c3[1]) = (\"Light Intensity=\", 10096.643089585976)\n"
     ]
    }
   ],
   "source": [
    "@show \"Light Intensity=\", coeff_c3[1];"
   ]
  },
  {
   "cell_type": "code",
   "execution_count": 37,
   "metadata": {},
   "outputs": [
    {
     "name": "stderr",
     "output_type": "stream",
     "text": [
      "┌ Info: Initializing new RNG of type Random123.Philox4x{UInt64,10}\n",
      "└ @ BAT /Users/vhafych/MPP-Server/gitrepos/BAT.jl/src/algotypes/bat_default.jl:44\n",
      "┌ Info: Trying to generate 4 viable MCMC chain(s).\n",
      "└ @ BAT /Users/vhafych/MPP-Server/gitrepos/BAT.jl/src/samplers/mcmc/mcmc_tuner.jl:193\n",
      "┌ Info: Selected 4 MCMC chain(s).\n",
      "└ @ BAT /Users/vhafych/MPP-Server/gitrepos/BAT.jl/src/samplers/mcmc/mcmc_tuner.jl:304\n",
      "┌ Info: Begin tuning of 4 MCMC chain(s).\n",
      "└ @ BAT /Users/vhafych/MPP-Server/gitrepos/BAT.jl/src/samplers/mcmc/mcmc_tuner.jl:65\n",
      "┌ Info: MCMC Tuning cycle 1 finished, 4 chains, 0 tuned, 0 converged.\n",
      "└ @ BAT /Users/vhafych/MPP-Server/gitrepos/BAT.jl/src/samplers/mcmc/mcmc_tuner.jl:98\n",
      "┌ Info: MCMC Tuning cycle 2 finished, 4 chains, 0 tuned, 4 converged.\n",
      "└ @ BAT /Users/vhafych/MPP-Server/gitrepos/BAT.jl/src/samplers/mcmc/mcmc_tuner.jl:98\n",
      "┌ Info: MCMC Tuning cycle 3 finished, 4 chains, 0 tuned, 4 converged.\n",
      "└ @ BAT /Users/vhafych/MPP-Server/gitrepos/BAT.jl/src/samplers/mcmc/mcmc_tuner.jl:98\n",
      "┌ Info: MCMC Tuning cycle 4 finished, 4 chains, 0 tuned, 4 converged.\n",
      "└ @ BAT /Users/vhafych/MPP-Server/gitrepos/BAT.jl/src/samplers/mcmc/mcmc_tuner.jl:98\n",
      "┌ Info: MCMC Tuning cycle 5 finished, 4 chains, 0 tuned, 4 converged.\n",
      "└ @ BAT /Users/vhafych/MPP-Server/gitrepos/BAT.jl/src/samplers/mcmc/mcmc_tuner.jl:98\n",
      "┌ Info: MCMC Tuning cycle 6 finished, 4 chains, 0 tuned, 4 converged.\n",
      "└ @ BAT /Users/vhafych/MPP-Server/gitrepos/BAT.jl/src/samplers/mcmc/mcmc_tuner.jl:98\n",
      "┌ Info: MCMC Tuning cycle 7 finished, 4 chains, 0 tuned, 4 converged.\n",
      "└ @ BAT /Users/vhafych/MPP-Server/gitrepos/BAT.jl/src/samplers/mcmc/mcmc_tuner.jl:98\n",
      "┌ Info: MCMC Tuning cycle 8 finished, 4 chains, 0 tuned, 4 converged.\n",
      "└ @ BAT /Users/vhafych/MPP-Server/gitrepos/BAT.jl/src/samplers/mcmc/mcmc_tuner.jl:98\n",
      "┌ Info: MCMC Tuning cycle 9 finished, 4 chains, 0 tuned, 4 converged.\n",
      "└ @ BAT /Users/vhafych/MPP-Server/gitrepos/BAT.jl/src/samplers/mcmc/mcmc_tuner.jl:98\n",
      "┌ Info: MCMC Tuning cycle 10 finished, 4 chains, 0 tuned, 4 converged.\n",
      "└ @ BAT /Users/vhafych/MPP-Server/gitrepos/BAT.jl/src/samplers/mcmc/mcmc_tuner.jl:98\n",
      "┌ Info: MCMC Tuning cycle 11 finished, 4 chains, 2 tuned, 4 converged.\n",
      "└ @ BAT /Users/vhafych/MPP-Server/gitrepos/BAT.jl/src/samplers/mcmc/mcmc_tuner.jl:98\n",
      "┌ Info: MCMC Tuning cycle 12 finished, 4 chains, 4 tuned, 4 converged.\n",
      "└ @ BAT /Users/vhafych/MPP-Server/gitrepos/BAT.jl/src/samplers/mcmc/mcmc_tuner.jl:98\n",
      "┌ Info: MCMC tuning of 4 chains successful after 12 cycle(s).\n",
      "└ @ BAT /Users/vhafych/MPP-Server/gitrepos/BAT.jl/src/samplers/mcmc/mcmc_tuner.jl:102\n"
     ]
    },
    {
     "name": "stdout",
     "output_type": "stream",
     "text": [
      "(\"Light Intensity=\", tmp_uns.light_int) = (\"Light Intensity=\", 10102.747148510527)\n",
      "(\"Light Uns=\", tmp_uns.light_std) = (\"Light Uns=\", 657.7783539111172)\n"
     ]
    }
   ],
   "source": [
    "tmp_uns = get_uns(charge_tmp, light_center)\n",
    "\n",
    "@show \"Light Intensity=\", tmp_uns.light_int;\n",
    "@show \"Light Uns=\", tmp_uns.light_std;"
   ]
  },
  {
   "cell_type": "markdown",
   "metadata": {},
   "source": [
    "### Cam-4:"
   ]
  },
  {
   "cell_type": "code",
   "execution_count": 38,
   "metadata": {},
   "outputs": [
    {
     "ename": "LoadError",
     "evalue": "BoundsError: attempt to access 958×320×426 Array{Int64,3} at index [1, 1:3, 427:429]",
     "output_type": "error",
     "traceback": [
      "BoundsError: attempt to access 958×320×426 Array{Int64,3} at index [1, 1:3, 427:429]",
      "",
      "Stacktrace:",
      " [1] throw_boundserror(::Array{Int64,3}, ::Tuple{Int64,UnitRange{Int64},UnitRange{Int64}}) at ./abstractarray.jl:541",
      " [2] checkbounds at ./abstractarray.jl:506 [inlined]",
      " [3] _getindex at ./multidimensional.jl:742 [inlined]",
      " [4] getindex(::Array{Int64,3}, ::Int64, ::UnitRange{Int64}, ::UnitRange{Int64}) at ./abstractarray.jl:1060",
      " [5] top-level scope at ./In[38]:6",
      " [6] include_string(::Function, ::Module, ::String, ::String) at ./loading.jl:1091"
     ]
    }
   ],
   "source": [
    "# reduce data step: \n",
    "\n",
    "img_tmp = zeros(Int64, 958, 320, 426)\n",
    "\n",
    "for ind in 1:958, x in 1:320, y in 1:426\n",
    "    img_tmp[ind, x, y] = round(Int64, mean(cam_4[ind, (x-1)*3+1:(x-1)*3+3,(y-1)*3+1:(y-1)*3+3] ))\n",
    "end\n",
    "\n",
    "cam_4 = deepcopy(img_tmp);"
   ]
  },
  {
   "cell_type": "code",
   "execution_count": 39,
   "metadata": {},
   "outputs": [
    {
     "data": {
      "text/plain": [
       "(var\"#g1#2\"{Float64,Float64}(33406.896659621576, 55027.265357188306), (33406.896659621576, 55027.265357188306))"
      ]
     },
     "execution_count": 39,
     "metadata": {},
     "output_type": "execute_result"
    }
   ],
   "source": [
    "data_temp = cam_4\n",
    "\n",
    "pixel_mask = trues(size(data_temp[1,:,:]))\n",
    "pixel_mask[1:50,:] .= false\n",
    "pixel_mask[end-50:end,:] .= false\n",
    "pixel_mask[:,1:50] .= false\n",
    "pixel_mask[:,end-50:end] .= false\n",
    "pixel_mask[cam_4_frame.y[1]:cam_4_frame.y[2],cam_4_frame.x[1]:cam_4_frame.x[2]] .= false\n",
    "\n",
    "pixel_mask_2 = falses(size(data_temp[1,:,:]))\n",
    "pixel_mask_2[cam_4_frame.y[1]:cam_4_frame.y[2],cam_4_frame.x[1]:cam_4_frame.x[2]] .= true\n",
    "\n",
    "charge_tmp = []\n",
    "light_center = []\n",
    "\n",
    "for ind in event_mask\n",
    "    ch = charge[ind]\n",
    "    lp = mean(data_temp[ind,:,:][pixel_mask])\n",
    "    lc = sum(data_temp[ind,:,:][pixel_mask_2]) - sum(pixel_mask_2)*lp\n",
    "    \n",
    "    push!(charge_tmp, ch)\n",
    "    push!(light_center, lc)\n",
    "end\n",
    "\n",
    "lin_int, coeff_c4  = linreg(charge_tmp, light_center)"
   ]
  },
  {
   "cell_type": "code",
   "execution_count": 40,
   "metadata": {},
   "outputs": [
    {
     "data": {
      "text/plain": [
       "(35147.44394156764, 50235.055295897284, 10096.643089585976, 33406.896659621576)"
      ]
     },
     "execution_count": 40,
     "metadata": {},
     "output_type": "execute_result"
    }
   ],
   "source": [
    "coeff_c1[1], coeff_c2[1], coeff_c3[1], coeff_c4[1]"
   ]
  },
  {
   "cell_type": "code",
   "execution_count": 41,
   "metadata": {},
   "outputs": [
    {
     "name": "stdout",
     "output_type": "stream",
     "text": [
      "(\"Light Intensity=\", coeff_c4[1]) = (\"Light Intensity=\", 33406.896659621576)\n"
     ]
    }
   ],
   "source": [
    "@show \"Light Intensity=\", coeff_c4[1];"
   ]
  },
  {
   "cell_type": "code",
   "execution_count": 42,
   "metadata": {},
   "outputs": [
    {
     "name": "stderr",
     "output_type": "stream",
     "text": [
      "┌ Info: Initializing new RNG of type Random123.Philox4x{UInt64,10}\n",
      "└ @ BAT /Users/vhafych/MPP-Server/gitrepos/BAT.jl/src/algotypes/bat_default.jl:44\n",
      "┌ Info: Trying to generate 4 viable MCMC chain(s).\n",
      "└ @ BAT /Users/vhafych/MPP-Server/gitrepos/BAT.jl/src/samplers/mcmc/mcmc_tuner.jl:193\n",
      "┌ Info: Selected 4 MCMC chain(s).\n",
      "└ @ BAT /Users/vhafych/MPP-Server/gitrepos/BAT.jl/src/samplers/mcmc/mcmc_tuner.jl:304\n",
      "┌ Info: Begin tuning of 4 MCMC chain(s).\n",
      "└ @ BAT /Users/vhafych/MPP-Server/gitrepos/BAT.jl/src/samplers/mcmc/mcmc_tuner.jl:65\n",
      "┌ Info: MCMC Tuning cycle 1 finished, 4 chains, 0 tuned, 0 converged.\n",
      "└ @ BAT /Users/vhafych/MPP-Server/gitrepos/BAT.jl/src/samplers/mcmc/mcmc_tuner.jl:98\n",
      "┌ Info: MCMC Tuning cycle 2 finished, 4 chains, 0 tuned, 0 converged.\n",
      "└ @ BAT /Users/vhafych/MPP-Server/gitrepos/BAT.jl/src/samplers/mcmc/mcmc_tuner.jl:98\n",
      "┌ Info: MCMC Tuning cycle 3 finished, 4 chains, 0 tuned, 4 converged.\n",
      "└ @ BAT /Users/vhafych/MPP-Server/gitrepos/BAT.jl/src/samplers/mcmc/mcmc_tuner.jl:98\n",
      "┌ Info: MCMC Tuning cycle 4 finished, 4 chains, 0 tuned, 4 converged.\n",
      "└ @ BAT /Users/vhafych/MPP-Server/gitrepos/BAT.jl/src/samplers/mcmc/mcmc_tuner.jl:98\n",
      "┌ Info: MCMC Tuning cycle 5 finished, 4 chains, 0 tuned, 4 converged.\n",
      "└ @ BAT /Users/vhafych/MPP-Server/gitrepos/BAT.jl/src/samplers/mcmc/mcmc_tuner.jl:98\n",
      "┌ Info: MCMC Tuning cycle 6 finished, 4 chains, 0 tuned, 4 converged.\n",
      "└ @ BAT /Users/vhafych/MPP-Server/gitrepos/BAT.jl/src/samplers/mcmc/mcmc_tuner.jl:98\n",
      "┌ Info: MCMC Tuning cycle 7 finished, 4 chains, 0 tuned, 4 converged.\n",
      "└ @ BAT /Users/vhafych/MPP-Server/gitrepos/BAT.jl/src/samplers/mcmc/mcmc_tuner.jl:98\n",
      "┌ Info: MCMC Tuning cycle 8 finished, 4 chains, 0 tuned, 4 converged.\n",
      "└ @ BAT /Users/vhafych/MPP-Server/gitrepos/BAT.jl/src/samplers/mcmc/mcmc_tuner.jl:98\n",
      "┌ Info: MCMC Tuning cycle 9 finished, 4 chains, 0 tuned, 4 converged.\n",
      "└ @ BAT /Users/vhafych/MPP-Server/gitrepos/BAT.jl/src/samplers/mcmc/mcmc_tuner.jl:98\n",
      "┌ Info: MCMC Tuning cycle 10 finished, 4 chains, 0 tuned, 4 converged.\n",
      "└ @ BAT /Users/vhafych/MPP-Server/gitrepos/BAT.jl/src/samplers/mcmc/mcmc_tuner.jl:98\n",
      "┌ Info: MCMC Tuning cycle 11 finished, 4 chains, 0 tuned, 4 converged.\n",
      "└ @ BAT /Users/vhafych/MPP-Server/gitrepos/BAT.jl/src/samplers/mcmc/mcmc_tuner.jl:98\n",
      "┌ Info: MCMC Tuning cycle 12 finished, 4 chains, 0 tuned, 4 converged.\n",
      "└ @ BAT /Users/vhafych/MPP-Server/gitrepos/BAT.jl/src/samplers/mcmc/mcmc_tuner.jl:98\n",
      "┌ Info: MCMC Tuning cycle 13 finished, 4 chains, 0 tuned, 4 converged.\n",
      "└ @ BAT /Users/vhafych/MPP-Server/gitrepos/BAT.jl/src/samplers/mcmc/mcmc_tuner.jl:98\n",
      "┌ Info: MCMC Tuning cycle 14 finished, 4 chains, 2 tuned, 4 converged.\n",
      "└ @ BAT /Users/vhafych/MPP-Server/gitrepos/BAT.jl/src/samplers/mcmc/mcmc_tuner.jl:98\n",
      "┌ Info: MCMC Tuning cycle 15 finished, 4 chains, 4 tuned, 4 converged.\n",
      "└ @ BAT /Users/vhafych/MPP-Server/gitrepos/BAT.jl/src/samplers/mcmc/mcmc_tuner.jl:98\n",
      "┌ Info: MCMC tuning of 4 chains successful after 15 cycle(s).\n",
      "└ @ BAT /Users/vhafych/MPP-Server/gitrepos/BAT.jl/src/samplers/mcmc/mcmc_tuner.jl:102\n"
     ]
    },
    {
     "name": "stdout",
     "output_type": "stream",
     "text": [
      "(\"Light Intensity=\", tmp_uns.light_int) = (\"Light Intensity=\", 33405.863821185034)\n",
      "(\"Light Uns=\", tmp_uns.light_std) = (\"Light Uns=\", 517.6687961255278)\n"
     ]
    }
   ],
   "source": [
    "tmp_uns = get_uns(charge_tmp, light_center)\n",
    "\n",
    "@show \"Light Intensity=\", tmp_uns.light_int;\n",
    "@show \"Light Uns=\", tmp_uns.light_std;"
   ]
  },
  {
   "cell_type": "code",
   "execution_count": 43,
   "metadata": {},
   "outputs": [],
   "source": [
    "# FileIO.save(\"../data/experiment/dataset_2/m2/light_intensity.jld2\", \n",
    "#     Dict(\"cam_1\" => coeff_c1[1], \n",
    "#         \"cam_2\" => coeff_c2[1], \n",
    "#         \"cam_3\" => coeff_c3[1], \n",
    "#         \"cam_4\" => coeff_c4[1]))"
   ]
  },
  {
   "cell_type": "code",
   "execution_count": null,
   "metadata": {},
   "outputs": [],
   "source": []
  }
 ],
 "metadata": {
  "kernelspec": {
   "display_name": "Julia 1.5.0",
   "language": "julia",
   "name": "julia-1.5"
  },
  "language_info": {
   "file_extension": ".jl",
   "mimetype": "application/julia",
   "name": "julia",
   "version": "1.5.0"
  }
 },
 "nbformat": 4,
 "nbformat_minor": 4
}
