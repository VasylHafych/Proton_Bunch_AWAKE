{
 "cells": [
  {
   "cell_type": "code",
   "execution_count": null,
   "metadata": {},
   "outputs": [],
   "source": [
    "using JLD2\n",
    "using FileIO\n",
    "using PyPlot\n",
    "using Statistics\n",
    "using StatsBase \n",
    "using Distributions\n",
    "using LinearAlgebra\n",
    "using HDF5\n",
    "using BenchmarkTools"
   ]
  },
  {
   "cell_type": "code",
   "execution_count": null,
   "metadata": {},
   "outputs": [],
   "source": [
    "# ENV[\"JULIA_DEBUG\"] = \"BAT\""
   ]
  },
  {
   "cell_type": "code",
   "execution_count": null,
   "metadata": {},
   "outputs": [],
   "source": [
    "using IntervalSets\n",
    "using Random, ArraysOfArrays\n",
    "using ValueShapes\n",
    "using Measurements\n",
    "using BenchmarkTools\n",
    "using ForwardDiff"
   ]
  },
  {
   "cell_type": "code",
   "execution_count": null,
   "metadata": {},
   "outputs": [],
   "source": [
    "# using Revise\n",
    "using BAT "
   ]
  },
  {
   "cell_type": "markdown",
   "metadata": {},
   "source": [
    "# High `p` Population: "
   ]
  },
  {
   "cell_type": "code",
   "execution_count": null,
   "metadata": {},
   "outputs": [],
   "source": [
    "conv_mat = load(\"../data/experiment/dataset_2/m2/conv-matrix-upd-1.jld2\")\n",
    "\n",
    "conv_matrices = (\n",
    "    cam_1 = conv_mat[\"cam_1\"],\n",
    "    cam_2 = conv_mat[\"cam_2\"],\n",
    "    cam_3 = conv_mat[\"cam_3\"],\n",
    "    cam_4 = conv_mat[\"cam_4\"], \n",
    ") \n",
    "\n",
    "images = load(\"../data/experiment/dataset_2/m2/images-satur.jld2\");\n",
    "event_number = 2\n",
    "\n",
    "# Large Charge: Ev_2_2 = 2, Ev_2_1 = 311, Ev_2_3 = 440\n",
    "\n",
    "event = (\n",
    "    cam_1 = images[\"cam_1\"][event_number,:,:],\n",
    "    cam_2 = images[\"cam_2\"][event_number,:,:],\n",
    "    cam_3 = images[\"cam_3\"][event_number,:,:],\n",
    "    cam_4 = images[\"cam_4\"][event_number,:,:],\n",
    "    population = images[\"charge\"][event_number,:][1],\n",
    ");\n"
   ]
  },
  {
   "cell_type": "code",
   "execution_count": null,
   "metadata": {},
   "outputs": [],
   "source": [
    "fig, ax = plt.subplots(2,2, figsize=(7,7))\n",
    "fig.subplots_adjust(hspace=0.2, wspace=0.2)\n",
    "\n",
    "ax[1,1].pcolormesh(event.cam_1, cmap=\"RdYlBu_r\")\n",
    "ax[1,2].pcolormesh(event.cam_2, cmap=\"RdYlBu_r\")\n",
    "ax[2,1].pcolormesh(event.cam_3, cmap=\"RdYlBu_r\")\n",
    "ax[2,2].pcolormesh(event.cam_4, cmap=\"RdYlBu_r\")"
   ]
  },
  {
   "cell_type": "code",
   "execution_count": null,
   "metadata": {},
   "outputs": [],
   "source": [
    "include(\"../src/likelihood.jl\")\n",
    "include(\"../src/utill.jl\")"
   ]
  },
  {
   "cell_type": "code",
   "execution_count": null,
   "metadata": {},
   "outputs": [],
   "source": [
    "function log_lik_diff(;  \n",
    "    e = event,\n",
    "    cv_mat = conv_matrices,\n",
    "    func = conv_tabl_cont,\n",
    "    cv_1 = exp.(cv_mat.cam_1),\n",
    "    cv_2 = exp.(cv_mat.cam_2),\n",
    "    cv_3 = exp.(cv_mat.cam_3),\n",
    "    n_threads = Threads.nthreads(),\n",
    "    )\n",
    "    \n",
    "    return params -> begin \n",
    "        ll = 0.0\n",
    "        ll += likelihood_cam13(params, e.cam_1, e.population, cv_1, func, 1, n_threads=n_threads)\n",
    "        ll += likelihood_cam13(params, e.cam_2, e.population, cv_2, func, 2, n_threads=n_threads)\n",
    "        ll += likelihood_cam13(params, e.cam_3, e.population, cv_3, func, 3, n_threads=n_threads)\n",
    "        ll += likelihood_cam4(params, e.cam_4, e.population, 4, n_threads=n_threads)\n",
    "        \n",
    "        return LogDVal(ll)\n",
    "    end\n",
    "    \n",
    "end\n",
    "\n",
    "log_likelihood = log_lik_diff()"
   ]
  },
  {
   "cell_type": "code",
   "execution_count": null,
   "metadata": {},
   "outputs": [],
   "source": [
    "param_truth = (\n",
    "        tr_size = [0.2, 0.2],\n",
    "        ang_spr = [4.0, 4.0],\n",
    "        waist = [2.9,],\n",
    "        algmx = [35,35,20,35], \n",
    "        algmy = [35,35,20,35], \n",
    "        cam4_ped = 34.3,\n",
    "        cam4_light_fluct = 2.15,\n",
    "        cam4_light_amp = event.population*32.16870*10^-2,\n",
    "        resx = [0, 0, 0], \n",
    "        resy = [0, 0, 0], \n",
    "        cam4_resx = 0,\n",
    "        cam4_resy = 0,\n",
    "        psx = [27.1,21.6,114.], \n",
    "        psy = [30.5,23.4,125.],\n",
    "        cam4_psx = 90.9, #3*0.0303*10^3,\n",
    "        cam4_psy = 89.4, #3*0.0298*10^3,\n",
    "        light_amp  = [event.population*35.14744*10^-2, event.population*50.23506*10^-2, event.population*10.09664*10^-2],\n",
    "        s_cam = [0.0, 1.478, 15.026, 23.1150], \n",
    "    );"
   ]
  },
  {
   "cell_type": "code",
   "execution_count": null,
   "metadata": {},
   "outputs": [],
   "source": [
    "β = 0.015\n",
    "\n",
    "# prior = NamedTupleDist(\n",
    "#         tr_size = [truncated(Normal(0.2, 0.04), 0.08, 0.25), truncated(Normal(0.2, 0.04), 0.08, 0.25)],\n",
    "#         ang_spr = [truncated(Normal(4.0, 2.0), 2.0, 6.0), truncated(Normal(4.0, 2.0), 2.0, 6.0)],\n",
    "#         waist = [Normal(2.9, 0.03)],\n",
    "#         algmx = [23.0 .. 48, 23.0 .. 48.0, 10.0 .. 30.0, 23.0 .. 48.0],\n",
    "#         algmy = [23.0 .. 48, 23.0 .. 48.0, 10.0 .. 30.0, 23.0 .. 48.0],\n",
    "#         cam4_ped = 33.7914,\n",
    "#         cam4_light_fluct = 2.00394,\n",
    "#         cam4_light_amp = 8.404358, \n",
    "#         resx = [1.1998094548655378, 0.7983585581689502, 0.6158196092854202], \n",
    "#         resy = [4.031291261325691, 1.0055385516461688, 2.5354209315874026], \n",
    "#         cam4_resx = 1.6070,\n",
    "#         cam4_resy = 0.497,\n",
    "#         psx = [26.808728066267335, 21.835931348807947, 114.8753763348248], \n",
    "#         psy = [29.7740495677418, 24.018982271482713, 124.60874789371218],\n",
    "#         cam4_psx = 90.752349,\n",
    "#         cam4_psy = 90.349734743698,\n",
    "#         light_amp  = [8.167544129278339, 11.485445396088979, 2.5881219633410923], # 1.0 .. 5.0\n",
    "#         s_cam = [0.0, 1.478, 15.026, 23.1150],\n",
    "#     ); \n",
    "\n",
    "\n",
    "prior = NamedTupleDist(\n",
    "        tr_size = [truncated(Normal(0.2, 0.04), 0.08, 0.25), truncated(Normal(0.2, 0.04), 0.08, 0.25)],\n",
    "        ang_spr = [truncated(Normal(4.0, 2.0), 2.0, 6.0), truncated(Normal(4.0, 2.0), 2.0, 6.0)],\n",
    "        waist = [Normal(2.9, 0.03)],\n",
    "        algmx = [23.0 .. 48, 23.0 .. 48.0, 10.0 .. 30.0, 23.0 .. 48.0],\n",
    "        algmy = [23.0 .. 48, 23.0 .. 48.0, 10.0 .. 30.0, 23.0 .. 48.0],\n",
    "        cam4_ped = 4.0 .. 40.0,\n",
    "        cam4_light_fluct = 1.0 .. 3.0,\n",
    "        cam4_light_amp = 6.6 .. 9.9, \n",
    "        resx = [truncated(Normal(1, 0.5), 0, Inf), truncated(Normal(1, 0.5), 0, Inf), truncated(Normal(1, 0.5), 0, Inf)], \n",
    "        resy = [truncated(Normal(1, 0.5), 0, Inf), truncated(Normal(1, 0.5), 0, Inf), truncated(Normal(1, 0.5), 0, Inf)], \n",
    "        cam4_resx = truncated(Normal(1, 0.5), 0, Inf),\n",
    "        cam4_resy = truncated(Normal(1, 0.5), 0, Inf),\n",
    "        psx = [truncated(Normal(27.1, 27.1*β), 0., Inf), truncated(Normal(21.6, 21.6*β), 0., Inf), truncated(Normal(114.0, 114.0*β), 0., Inf)], # pixels are in microns\n",
    "        psy = [truncated(Normal(30.5, 30.5*β), 0., Inf), truncated(Normal(23.4, 23.4*β), 0., Inf), truncated(Normal(125.0, 125.0*β), 0., Inf)],\n",
    "        cam4_psx = truncated(Normal(121.2, 121.2*β), 0., Inf), # original Pixel size (smaller) 91.0; Updated Pixel size (larger) 121.2\n",
    "        cam4_psy = truncated(Normal(120.6, 120.6*β), 0., Inf), # original Pixel size (smaller) 89.4; Updated Pixel size (larger) 120.6\n",
    "        light_amp  = [5.0 .. 13.0 , 8.0 .. 17.0, 1.25 .. 4.2], # 1.0 .. 5.0\n",
    "        s_cam = [0.0, 1.478, 15.026, 23.1150],\n",
    "    ); # Large Charge\n",
    "\n",
    "\n",
    "\n"
   ]
  },
  {
   "cell_type": "code",
   "execution_count": null,
   "metadata": {},
   "outputs": [],
   "source": [
    "posterior = PosteriorDensity(log_likelihood, prior)\n",
    "posterior_is = bat_transform(PriorToGaussian(), posterior, PriorSubstitution()).result\n",
    "\n",
    "iters = 4000\n",
    "iters_warmup = 500\n",
    "chains = 4\n",
    "\n",
    "metric = BAT.DiagEuclideanMetric()\n",
    "integrator = BAT.LeapfrogIntegrator(0.0)\n",
    "\n",
    "proposal = BAT.NUTS(:MultinomialTS, :ClassicNoUTurn)\n",
    "# proposal = BAT.FixedTrajectoryLength()\n",
    "\n",
    "adaptor = BAT.StanHMCAdaptor(0.8, iters_warmup)\n",
    "# adaptor = BAT.StepSizeAdaptor()\n",
    "\n",
    "ahmc_sampler = HamiltonianMC(metric, ForwardDiff, integrator, proposal, adaptor);"
   ]
  },
  {
   "cell_type": "code",
   "execution_count": null,
   "metadata": {},
   "outputs": [],
   "source": [
    "@time samples_is = bat_sample(posterior_is, iters, MCMCSampling(sampler = ahmc_sampler, nchains = chains)).result;"
   ]
  },
  {
   "cell_type": "markdown",
   "metadata": {},
   "source": [
    "    set 1: 3781.11165 sec\n",
    "    set 2: 5041.542256 "
   ]
  },
  {
   "cell_type": "code",
   "execution_count": null,
   "metadata": {},
   "outputs": [],
   "source": [
    "trafo_is = trafoof(posterior_is.likelihood)\n",
    "samples = inv(trafo_is).(samples_is);"
   ]
  },
  {
   "cell_type": "code",
   "execution_count": null,
   "metadata": {},
   "outputs": [],
   "source": [
    "# BAT.bat_write(\"hmc-samples-2hdf5\", unshaped.(samples))"
   ]
  },
  {
   "cell_type": "code",
   "execution_count": null,
   "metadata": {},
   "outputs": [],
   "source": [
    "# samples = bat_read(\"../data/sampling_results/Resolution_Effects/wc_resolution.hdf5\") \n",
    "# samples = varshape(prior).(samples)"
   ]
  },
  {
   "cell_type": "code",
   "execution_count": null,
   "metadata": {},
   "outputs": [],
   "source": [
    "dims = [1,2,3,4,5,]\n",
    "names = [L\"\\sigma_x\", L\"\\sigma_y\", L\"\\sigma'_x\", L\"\\sigma'_y\", \"s\", \"6\", \"7\", \"8\", \"9\"]\n",
    "levels = [0.1, 0.8, 0.9, 0.95,  1,]\n",
    "# levels = [0.5, 1,]\n",
    "figsize = (6,6)\n",
    "n_bins = 20\n",
    "\n",
    "corner_plots(samples, dims, names, levels_quantiles = levels, figsize=figsize, N_bins=n_bins)"
   ]
  },
  {
   "cell_type": "code",
   "execution_count": null,
   "metadata": {},
   "outputs": [],
   "source": [
    "dims = [6,7,8,9,10,12,13]\n",
    "names = [L\"\\sigma_x\", L\"\\sigma_y\", L\"\\sigma'_x\", L\"\\sigma'_y\", \"s\", \"6\", \"7\", \"8\", \"9\"]\n",
    "levels = [0.1, 0.8, 0.9, 0.95,  1,]\n",
    "# levels = [0.5, 1,]\n",
    "figsize = (6,6)\n",
    "n_bins = 20\n",
    "\n",
    "corner_plots(samples, dims, names, levels_quantiles = levels, figsize=figsize, N_bins=n_bins)"
   ]
  },
  {
   "cell_type": "code",
   "execution_count": null,
   "metadata": {},
   "outputs": [],
   "source": [
    "dims = [1,2,3,4,5,]\n",
    "names = [L\"\\sigma_x\", L\"\\sigma_y\", L\"\\sigma'_x\", L\"\\sigma'_y\", \"s\", \"6\", \"7\", \"8\", \"9\"]\n",
    "levels = [0.1, 0.8, 0.9, 0.95,  1,]\n",
    "# levels = [0.5, 1,]\n",
    "figsize = (8,8)\n",
    "n_bins = 20\n",
    "\n",
    "corner_plots(samples, dims, names, levels_quantiles = levels, figsize=figsize, N_bins=n_bins)"
   ]
  },
  {
   "cell_type": "code",
   "execution_count": null,
   "metadata": {},
   "outputs": [],
   "source": [
    "dims = [6,7,8,9,10,11,12, 13]\n",
    "names = [\"6\", \"7\", \"8\", \"9\", \"10\", \"11\", \"12\", \"13\"]\n",
    "levels = [0.1, 0.8, 0.9, 0.95,  1,]\n",
    "# levels = [0.1, 0.5, 1,]\n",
    "figsize = (6,6)\n",
    "n_bins = 20\n",
    "\n",
    "corner_plots(samples, dims, names, levels_quantiles = levels, figsize=figsize, N_bins=n_bins)"
   ]
  },
  {
   "cell_type": "code",
   "execution_count": null,
   "metadata": {},
   "outputs": [],
   "source": [
    "dims = [14,15,16,]\n",
    "names = [14,15,16,]\n",
    "levels = [0.1, 0.8, 0.9, 0.95,  1,]\n",
    "# levels = [0.1, 0.5, 1,]\n",
    "figsize = (6,6)\n",
    "n_bins = 20\n",
    "\n",
    "corner_plots(samples, dims, names, levels_quantiles = levels, figsize=figsize, N_bins=n_bins)"
   ]
  },
  {
   "cell_type": "code",
   "execution_count": null,
   "metadata": {},
   "outputs": [],
   "source": [
    "dims = [17,18,19,20,21,22,23,24]\n",
    "names = [17,18,19,20,21, 22, 23, 24]\n",
    "levels = [0.1, 0.8, 0.9, 0.95,  1,]\n",
    "# levels = [0.1, 0.5, 1,]\n",
    "figsize = (6,6)\n",
    "n_bins = 20\n",
    "\n",
    "corner_plots(samples, dims, names, levels_quantiles = levels, figsize=figsize, N_bins=n_bins)"
   ]
  },
  {
   "cell_type": "code",
   "execution_count": null,
   "metadata": {},
   "outputs": [],
   "source": [
    "dims = [25,26,27,28,29, 30, 31, 32]\n",
    "names = [25,26,27,28,29, 30, 31, 32]\n",
    "levels = [0.1, 0.8, 0.9, 0.95, 1,]\n",
    "# levels = [0.1, 0.5, 1,]\n",
    "figsize = (6,6)\n",
    "n_bins = 20\n",
    "\n",
    "corner_plots(samples, dims, names, levels_quantiles = levels, figsize=figsize, N_bins=n_bins)"
   ]
  },
  {
   "cell_type": "code",
   "execution_count": null,
   "metadata": {},
   "outputs": [],
   "source": [
    "dims = [33, 34, 35]\n",
    "names = [33, 34, 35]\n",
    "levels = [0.1, 0.8, 0.9, 0.95, 1,]\n",
    "# levels = [0.1, 0.5, 1,]\n",
    "figsize = (6,6)\n",
    "n_bins = 20\n",
    "\n",
    "corner_plots(samples, dims, names, levels_quantiles = levels, figsize=figsize, N_bins=n_bins)"
   ]
  },
  {
   "cell_type": "code",
   "execution_count": null,
   "metadata": {},
   "outputs": [],
   "source": [
    "colors_array = [\"C0\", \"C1\"]\n",
    "labels_array = [\"Mode\", \"Mean\"]\n",
    "params_array = [mode(samples)[1], mean(samples)[1]]\n",
    "\n",
    "plot_cam_crossections(params_array, event, conv_matrices, colors = colors_array, labels=labels_array)"
   ]
  },
  {
   "cell_type": "code",
   "execution_count": null,
   "metadata": {},
   "outputs": [],
   "source": [
    "colors_array = [\"C0\", \"C1\"]\n",
    "labels_array = [\"Mode\", \"Mean\"]\n",
    "params_array = [mode(samples)[1], mean(samples)[1]]\n",
    "\n",
    "plot_cam_integral(params_array, event, conv_matrices, colors = colors_array, labels=labels_array)"
   ]
  },
  {
   "cell_type": "code",
   "execution_count": null,
   "metadata": {},
   "outputs": [],
   "source": [
    "params_array = [param_truth, mode(samples)[1], mean(samples)[1]]\n",
    "colors_array = [\"gray\", \"C0\", \"C1\"]\n",
    "labels_array = [\"Truth\", \"Mode\", \"Mean\"]\n",
    "\n",
    "plot_envelop_trajectory(params_array,  labels = labels_array, colors=colors_array)"
   ]
  },
  {
   "cell_type": "code",
   "execution_count": null,
   "metadata": {},
   "outputs": [],
   "source": [
    "smpls_flat = flatview(unshaped.(samples.v))\n",
    "\n",
    "plt.plot(smpls_flat[1,1:200])"
   ]
  },
  {
   "cell_type": "code",
   "execution_count": null,
   "metadata": {},
   "outputs": [],
   "source": [
    "bat_eff_sample_size(unshaped.(samples))"
   ]
  },
  {
   "cell_type": "code",
   "execution_count": null,
   "metadata": {},
   "outputs": [],
   "source": [
    "maximum(samples.weight)"
   ]
  },
  {
   "cell_type": "code",
   "execution_count": null,
   "metadata": {},
   "outputs": [],
   "source": []
  }
 ],
 "metadata": {
  "kernelspec": {
   "display_name": "Julia 1.5.0",
   "language": "julia",
   "name": "julia-1.5"
  },
  "language_info": {
   "file_extension": ".jl",
   "mimetype": "application/julia",
   "name": "julia",
   "version": "1.5.0"
  }
 },
 "nbformat": 4,
 "nbformat_minor": 4
}
