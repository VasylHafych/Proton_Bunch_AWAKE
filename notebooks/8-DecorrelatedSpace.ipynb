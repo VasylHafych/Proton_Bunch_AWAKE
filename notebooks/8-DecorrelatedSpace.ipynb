{
 "cells": [
  {
   "cell_type": "code",
   "execution_count": 1,
   "metadata": {},
   "outputs": [],
   "source": [
    "using JLD2\n",
    "using FileIO\n",
    "using PyPlot\n",
    "using Statistics\n",
    "using StatsBase \n",
    "using Distributions\n",
    "using LinearAlgebra\n",
    "using BAT\n",
    "using HDF5\n",
    "using IntervalSets\n",
    "using Random, ArraysOfArrays\n",
    "using ValueShapes\n",
    "using Measurements"
   ]
  },
  {
   "cell_type": "code",
   "execution_count": 2,
   "metadata": {},
   "outputs": [],
   "source": [
    "# ENV[\"JULIA_DEBUG\"] = \"BAT\""
   ]
  },
  {
   "cell_type": "code",
   "execution_count": 3,
   "metadata": {},
   "outputs": [
    {
     "data": {
      "text/plain": [
       "corner_plots (generic function with 1 method)"
      ]
     },
     "execution_count": 3,
     "metadata": {},
     "output_type": "execute_result"
    }
   ],
   "source": [
    "include(\"../src/utill.jl\")"
   ]
  },
  {
   "cell_type": "code",
   "execution_count": 51,
   "metadata": {},
   "outputs": [],
   "source": [
    "images = load(\"../data/experiment/dataset_2/m2/simulated_events.jld2\")[\"array\"];\n",
    "conv_mat = load(\"../data/experiment/dataset_2/m2/conv_matrix.jld2\")\n",
    "\n",
    "conv_matrices = (\n",
    "    cam_1 = conv_mat[\"cam_1\"],\n",
    "    cam_2 = conv_mat[\"cam_2\"],\n",
    "    cam_3 = conv_mat[\"cam_3\"],\n",
    "    cam_4 = conv_mat[\"cam_3\"],\n",
    ")\n",
    "\n",
    "event = images[2];"
   ]
  },
  {
   "cell_type": "code",
   "execution_count": 52,
   "metadata": {},
   "outputs": [],
   "source": [
    "w_matrix = [2796.6687504333886 -2157.5584907640136 1277.487896352061 -782.1950963201589 3675.114844314016; \n",
    "    0.0 3947.455327674194 -452.35767604742233 1480.4663772813328 4844.110449919116; \n",
    "    0.0 0.0 118.32696991007101 -21.241230488109675 27.92291236159994; \n",
    "    0.0 0.0 0.0 111.38691346524664 37.04564358056138; \n",
    "    0.0 0.0 0.0 0.0 176.63935161792628]\n",
    "\n",
    "w_mean = [0.15142985755310626, 0.15144247124687812, 4.024489411714067, 4.02273292616291, 2.872765633156484]\n",
    "\n",
    "param_truth = (\n",
    "        tr_size = [-3.9988379363434317, -2.6090895042184394],\n",
    "        ang_spr = [-4.071870659603584, -3.0290678553053123],\n",
    "        s_waist = [-8.957691435675567,],\n",
    "        μ_x = [35,35,20,35], \n",
    "        μ_y = [35,35,20,35], \n",
    "        σ_x = [0,0,0,0], \n",
    "        σ_y = [0,0,0,0], \n",
    "        δ_x = [0.0271,0.0216,0.114,3*0.0303], \n",
    "        δ_y = [0.0305,0.0234,0.125,3*0.0298],\n",
    "        int_coeff  = [35147.44, 50235.06, 10096.64, 33406.9],\n",
    "        s_cam = [0.0, 1.478, 15.026, 23.1150], \n",
    "    );\n"
   ]
  },
  {
   "cell_type": "code",
   "execution_count": 53,
   "metadata": {},
   "outputs": [],
   "source": [
    "β_min = 0.8\n",
    "β_max = 1.2\n",
    "\n",
    "# tr_size = [-129.84404628805703..121.8402210460719, -275.4372053117127..268.06683020020364],\n",
    "# ang_spr = [-207.87553248588253..211.7747403160637, -545.3175460315578..227.1797153898545],\n",
    "# s_waist = [-633.7789367899003..496.9872316290606,],\n",
    "\n",
    "# tr_size = [β_max*param_truth.tr_size[1]..β_min*param_truth.tr_size[1], β_max*param_truth.tr_size[2]..β_min*param_truth.tr_size[2]],\n",
    "# ang_spr = [β_max*param_truth.ang_spr[1]..β_min*param_truth.ang_spr[1], β_max*param_truth.ang_spr[2]..β_min*param_truth.ang_spr[2]],\n",
    "# s_waist = [β_max*param_truth.s_waist[1]..β_min*param_truth.s_waist[1],],\n",
    "\n",
    "prior = NamedTupleDist(\n",
    "        tr_size = [-129.84404628805703..121.8402210460719, -275.4372053117127..268.06683020020364],\n",
    "        ang_spr = [-207.87553248588253..211.7747403160637, -545.3175460315578..227.1797153898545],\n",
    "        s_waist = [-633.7789367899003..496.9872316290606,],\n",
    "        μ_x = [35,35,20,35], \n",
    "        μ_y = [35,35,20,35], \n",
    "        σ_x = [0,0,0,0], \n",
    "        σ_y = [0,0,0,0], \n",
    "        δ_x = [0.0271,0.0216,0.114,3*0.0303], \n",
    "        δ_y = [0.0305,0.0234,0.125,3*0.0298],\n",
    "        int_coeff  = [35147.44, 50235.06, 10096.64, 33406.9],\n",
    "        s_cam = [0.0, 1.478, 15.026, 23.1150], \n",
    "    );\n",
    "\n",
    "# prior = NamedTupleDist(\n",
    "#         tr_size = [-129.84404628805703..121.8402210460719, -275.4372053117127..268.06683020020364],\n",
    "#         ang_spr = [-207.87553248588253..211.7747403160637, -545.3175460315578..227.1797153898545],\n",
    "#         s_waist = [-633.7789367899003..496.9872316290606,],\n",
    "#         μ_x = [ β_min*param_truth.μ_x[1]..β_max*param_truth.μ_x[1],\n",
    "#                 β_min*param_truth.μ_x[2]..β_max*param_truth.μ_x[2],\n",
    "#                 β_min*param_truth.μ_x[3]..β_max*param_truth.μ_x[3],\n",
    "#                 β_min*param_truth.μ_x[4]..β_max*param_truth.μ_x[4]], \n",
    "#         μ_y = [ β_min*param_truth.μ_y[1]..β_max*param_truth.μ_y[1],\n",
    "#                 β_min*param_truth.μ_y[2]..β_max*param_truth.μ_y[2],\n",
    "#                 β_min*param_truth.μ_y[3]..β_max*param_truth.μ_y[3],\n",
    "#                 β_min*param_truth.μ_y[4]..β_max*param_truth.μ_y[4]], \n",
    "#         σ_x = [0,0,0,0], \n",
    "#         σ_y = [0,0,0,0], \n",
    "#         δ_x = [0.0271,0.0216,0.114,3*0.0303], \n",
    "#         δ_y = [0.0305,0.0234,0.125,3*0.0298],\n",
    "#         int_coeff  = [35147.44, 50235.06, 10096.64, 33406.9],\n",
    "#         s_cam = [0.0, 1.478, 15.026, 23.1150], \n",
    "#     );\n",
    "\n",
    "\n",
    "# prior = NamedTupleDist(\n",
    "#         tr_size = [-88.0..80.0, -180.0..180.0],\n",
    "#         ang_spr = [-140.0..130.0, -500.0..150.0],\n",
    "#         s_waist = [-490.0..350.0,],\n",
    "#         μ_x = [ β_min*param_truth.μ_x[1]..β_max*param_truth.μ_x[1],\n",
    "#                 β_min*param_truth.μ_x[2]..β_max*param_truth.μ_x[2],\n",
    "#                 β_min*param_truth.μ_x[3]..β_max*param_truth.μ_x[3],\n",
    "#                 β_min*param_truth.μ_x[4]..β_max*param_truth.μ_x[4]], \n",
    "    \n",
    "#         μ_y = [ β_min*param_truth.μ_y[1]..β_max*param_truth.μ_y[1],\n",
    "#                 β_min*param_truth.μ_y[2]..β_max*param_truth.μ_y[2],\n",
    "#                 β_min*param_truth.μ_y[3]..β_max*param_truth.μ_y[3],\n",
    "#                 β_min*param_truth.μ_y[4]..β_max*param_truth.μ_y[4]],\n",
    "#         σ_x = [0,0,0,0], \n",
    "#         σ_y = [0,0,0,0], \n",
    "#         δ_x = [0.0271,0.0216,0.114,3*0.0303], \n",
    "#         δ_y = [0.0305,0.0234,0.125,3*0.0298],\n",
    "    \n",
    "#         int_coeff  = [ β_min*param_truth.int_coeff[1]..β_max*param_truth.int_coeff[1],\n",
    "#                 β_min*param_truth.int_coeff[2]..β_max*param_truth.int_coeff[2],\n",
    "#                 β_min*param_truth.int_coeff[3]..β_max*param_truth.int_coeff[3],\n",
    "#                 β_min*param_truth.int_coeff[4]..β_max*param_truth.int_coeff[4]], \n",
    "    \n",
    "#         s_cam = [0.0, 1.478, 15.026, 23.1150], \n",
    "#     );"
   ]
  },
  {
   "cell_type": "code",
   "execution_count": 54,
   "metadata": {},
   "outputs": [
    {
     "data": {
      "text/plain": [
       "cam_likelihood (generic function with 1 method)"
      ]
     },
     "execution_count": 54,
     "metadata": {},
     "output_type": "execute_result"
    }
   ],
   "source": [
    "function cam_likelihood(\n",
    "        params::T, \n",
    "        image::Array{Int64,2},\n",
    "        population::Float64,\n",
    "        cv_matrix::Array{Float64,2},\n",
    "        cam_ind::Int64;\n",
    "        n_threads = Threads.nthreads(),\n",
    "        w = w_matrix,\n",
    "        m = w_mean\n",
    "    ) where {T <: NamedTuple}\n",
    "    \n",
    "    tr_size_1, tr_size_2, ang_spr_1, ang_spr_2, s_waist = inv(w') * [params.tr_size[1], params.tr_size[2], params.ang_spr[1], params.ang_spr[2], params.s_waist[1]] .+ m\n",
    "    \n",
    "    tot_loglik = zeros(Float64, n_threads)\n",
    "    light_coefficient::Float64 = population*params.int_coeff[cam_ind]\n",
    "    \n",
    "    δ_x::Float64 = params.δ_x[cam_ind]\n",
    "    δ_y::Float64 = params.δ_y[cam_ind]\n",
    "    \n",
    "    μ_x::Float64  = params.μ_x[cam_ind] * δ_x\n",
    "    μ_y::Float64  = params.μ_y[cam_ind] * δ_y\n",
    "    \n",
    "    σ_x::Float64 = sqrt.(tr_size_1^2 + 10^-4*ang_spr_1^2*(s_waist - params.s_cam[cam_ind])^2) \n",
    "    σ_y::Float64 = sqrt.(tr_size_2^2 + 10^-4*ang_spr_2^2*(s_waist - params.s_cam[cam_ind])^2) \n",
    "    \n",
    "    σ_x = sqrt(σ_x^2 + (params.σ_x[cam_ind]*δ_x).^2)\n",
    "    σ_y = sqrt(σ_y^2 + (params.σ_y[cam_ind]*δ_y).^2)\n",
    "    \n",
    "    max_pred_amp::Int64 = size(cv_matrix)[2]-1\n",
    "    \n",
    "    Threads.@threads for t = 1:n_threads\n",
    "        \n",
    "        cum_log_lik = zero(Float64)\n",
    "        \n",
    "        for pix_ind in CartesianIndices(image)[t:n_threads:length(image)] \n",
    "\n",
    "            x_edge::Float64 = pix_ind.I[1] * δ_x\n",
    "            y_edge::Float64 = pix_ind.I[2] * δ_y\n",
    "\n",
    "            pix_prediction::Float64 = cdf(Normal(μ_x,σ_x), x_edge) - cdf(Normal(μ_x,σ_x), x_edge - δ_x)\n",
    "            pix_prediction *= cdf(Normal(μ_y,σ_y), y_edge) - cdf(Normal(μ_y,σ_y), y_edge - δ_y)\n",
    "\n",
    "            pix_prediction = pix_prediction*light_coefficient\n",
    "\n",
    "            cv_index = floor(Int64, pix_prediction)\n",
    "\n",
    "            if cv_index > max_pred_amp\n",
    "                cv_index = max_pred_amp\n",
    "            end\n",
    "\n",
    "            cum_log_lik += log(cv_matrix[image[pix_ind]+1, cv_index+1])\n",
    "        end\n",
    "        \n",
    "        tot_loglik[t] = cum_log_lik\n",
    "        \n",
    "    end\n",
    "\n",
    "    return sum(tot_loglik)\n",
    "end\n"
   ]
  },
  {
   "cell_type": "code",
   "execution_count": 55,
   "metadata": {},
   "outputs": [
    {
     "data": {
      "text/plain": [
       "#25 (generic function with 1 method)"
      ]
     },
     "execution_count": 55,
     "metadata": {},
     "output_type": "execute_result"
    }
   ],
   "source": [
    "log_likelihood = let e = event, c = conv_matrices\n",
    "    \n",
    "    params -> begin\n",
    "        \n",
    "        ll = zero(Float64)\n",
    "        ll += cam_likelihood(params, e.cam_1, e.population, c.cam_1, 1)\n",
    "        ll += cam_likelihood(params, e.cam_2, e.population, c.cam_2, 2)\n",
    "        ll += cam_likelihood(params, e.cam_3, e.population, c.cam_3, 3)\n",
    "        ll += cam_likelihood(params, e.cam_4, e.population, c.cam_4, 4)\n",
    "    \n",
    "        return LogDVal(ll)\n",
    "        \n",
    "    end\n",
    "end"
   ]
  },
  {
   "cell_type": "code",
   "execution_count": 56,
   "metadata": {},
   "outputs": [],
   "source": [
    "posterior = PosteriorDensity(log_likelihood, prior);"
   ]
  },
  {
   "cell_type": "markdown",
   "metadata": {},
   "source": [
    "# MCMC Sampler: "
   ]
  },
  {
   "cell_type": "code",
   "execution_count": 57,
   "metadata": {},
   "outputs": [
    {
     "data": {
      "text/plain": [
       "MetropolisHastings(BAT.MvTDistProposal(1.0), RepetitionWeighting{Int64}())\n"
      ]
     },
     "execution_count": 57,
     "metadata": {},
     "output_type": "execute_result"
    }
   ],
   "source": [
    "tuning = AdaptiveMetropolisTuning(\n",
    "    λ = 0.5,\n",
    "    α = 0.2..0.3,\n",
    "    β = 1.5,\n",
    "    c = 1e-4..1e2,\n",
    "    r = 0.5,\n",
    ")\n",
    "\n",
    "convergence = BrooksGelmanConvergence(\n",
    "    threshold = 1.1,\n",
    "    corrected = false\n",
    ")\n",
    "\n",
    "init = MCMCInitStrategy(\n",
    "    init_tries_per_chain = 50..150,\n",
    "    max_nsamples_init = 600,\n",
    "    max_nsteps_init = 600,\n",
    "    max_time_init = Inf\n",
    ")\n",
    "\n",
    "burnin = MCMCBurninStrategy(\n",
    "    max_nsamples_per_cycle = 500,\n",
    "    max_nsteps_per_cycle = 500,\n",
    "    max_time_per_cycle = Inf,\n",
    "    max_ncycles = 60\n",
    ");\n",
    "\n",
    "algorithm = MetropolisHastings()"
   ]
  },
  {
   "cell_type": "code",
   "execution_count": 58,
   "metadata": {},
   "outputs": [],
   "source": [
    "nsamples = 3*10^4\n",
    "nchains = 4;"
   ]
  },
  {
   "cell_type": "code",
   "execution_count": 59,
   "metadata": {},
   "outputs": [
    {
     "name": "stderr",
     "output_type": "stream",
     "text": [
      "┌ Info: Initializing new RNG of type Random123.Philox4x{UInt64,10}\n",
      "└ @ BAT /Users/vhafych/.julia/packages/BAT/X0Kig/src/algotypes/bat_default.jl:44\n",
      "┌ Info: Trying to generate 4 viable MCMC chain(s).\n",
      "└ @ BAT /Users/vhafych/.julia/packages/BAT/X0Kig/src/samplers/mcmc/mcmc_tuner.jl:193\n",
      "┌ Info: Selected 4 MCMC chain(s).\n",
      "└ @ BAT /Users/vhafych/.julia/packages/BAT/X0Kig/src/samplers/mcmc/mcmc_tuner.jl:304\n",
      "┌ Info: Begin tuning of 4 MCMC chain(s).\n",
      "└ @ BAT /Users/vhafych/.julia/packages/BAT/X0Kig/src/samplers/mcmc/mcmc_tuner.jl:65\n",
      "┌ Info: MCMC Tuning cycle 1 finished, 4 chains, 0 tuned, 0 converged.\n",
      "└ @ BAT /Users/vhafych/.julia/packages/BAT/X0Kig/src/samplers/mcmc/mcmc_tuner.jl:98\n",
      "┌ Info: MCMC Tuning cycle 2 finished, 4 chains, 0 tuned, 0 converged.\n",
      "└ @ BAT /Users/vhafych/.julia/packages/BAT/X0Kig/src/samplers/mcmc/mcmc_tuner.jl:98\n",
      "┌ Info: MCMC Tuning cycle 3 finished, 4 chains, 0 tuned, 0 converged.\n",
      "└ @ BAT /Users/vhafych/.julia/packages/BAT/X0Kig/src/samplers/mcmc/mcmc_tuner.jl:98\n",
      "┌ Info: MCMC Tuning cycle 4 finished, 4 chains, 0 tuned, 0 converged.\n",
      "└ @ BAT /Users/vhafych/.julia/packages/BAT/X0Kig/src/samplers/mcmc/mcmc_tuner.jl:98\n",
      "┌ Info: MCMC Tuning cycle 5 finished, 4 chains, 0 tuned, 0 converged.\n",
      "└ @ BAT /Users/vhafych/.julia/packages/BAT/X0Kig/src/samplers/mcmc/mcmc_tuner.jl:98\n",
      "┌ Info: MCMC Tuning cycle 6 finished, 4 chains, 0 tuned, 0 converged.\n",
      "└ @ BAT /Users/vhafych/.julia/packages/BAT/X0Kig/src/samplers/mcmc/mcmc_tuner.jl:98\n",
      "┌ Info: MCMC Tuning cycle 7 finished, 4 chains, 0 tuned, 0 converged.\n",
      "└ @ BAT /Users/vhafych/.julia/packages/BAT/X0Kig/src/samplers/mcmc/mcmc_tuner.jl:98\n",
      "┌ Info: MCMC Tuning cycle 8 finished, 4 chains, 0 tuned, 4 converged.\n",
      "└ @ BAT /Users/vhafych/.julia/packages/BAT/X0Kig/src/samplers/mcmc/mcmc_tuner.jl:98\n",
      "┌ Info: MCMC Tuning cycle 9 finished, 4 chains, 0 tuned, 4 converged.\n",
      "└ @ BAT /Users/vhafych/.julia/packages/BAT/X0Kig/src/samplers/mcmc/mcmc_tuner.jl:98\n",
      "┌ Info: MCMC Tuning cycle 10 finished, 4 chains, 0 tuned, 4 converged.\n",
      "└ @ BAT /Users/vhafych/.julia/packages/BAT/X0Kig/src/samplers/mcmc/mcmc_tuner.jl:98\n",
      "┌ Info: MCMC Tuning cycle 11 finished, 4 chains, 0 tuned, 0 converged.\n",
      "└ @ BAT /Users/vhafych/.julia/packages/BAT/X0Kig/src/samplers/mcmc/mcmc_tuner.jl:98\n",
      "┌ Info: MCMC Tuning cycle 12 finished, 4 chains, 0 tuned, 0 converged.\n",
      "└ @ BAT /Users/vhafych/.julia/packages/BAT/X0Kig/src/samplers/mcmc/mcmc_tuner.jl:98\n",
      "┌ Info: MCMC Tuning cycle 13 finished, 4 chains, 0 tuned, 4 converged.\n",
      "└ @ BAT /Users/vhafych/.julia/packages/BAT/X0Kig/src/samplers/mcmc/mcmc_tuner.jl:98\n",
      "┌ Info: MCMC Tuning cycle 14 finished, 4 chains, 2 tuned, 4 converged.\n",
      "└ @ BAT /Users/vhafych/.julia/packages/BAT/X0Kig/src/samplers/mcmc/mcmc_tuner.jl:98\n",
      "┌ Info: MCMC Tuning cycle 15 finished, 4 chains, 3 tuned, 0 converged.\n",
      "└ @ BAT /Users/vhafych/.julia/packages/BAT/X0Kig/src/samplers/mcmc/mcmc_tuner.jl:98\n",
      "┌ Info: MCMC Tuning cycle 16 finished, 4 chains, 4 tuned, 0 converged.\n",
      "└ @ BAT /Users/vhafych/.julia/packages/BAT/X0Kig/src/samplers/mcmc/mcmc_tuner.jl:98\n",
      "┌ Info: MCMC Tuning cycle 17 finished, 4 chains, 1 tuned, 0 converged.\n",
      "└ @ BAT /Users/vhafych/.julia/packages/BAT/X0Kig/src/samplers/mcmc/mcmc_tuner.jl:98\n",
      "┌ Info: MCMC Tuning cycle 18 finished, 4 chains, 1 tuned, 0 converged.\n",
      "└ @ BAT /Users/vhafych/.julia/packages/BAT/X0Kig/src/samplers/mcmc/mcmc_tuner.jl:98\n",
      "┌ Info: MCMC Tuning cycle 19 finished, 4 chains, 1 tuned, 0 converged.\n",
      "└ @ BAT /Users/vhafych/.julia/packages/BAT/X0Kig/src/samplers/mcmc/mcmc_tuner.jl:98\n",
      "┌ Info: MCMC Tuning cycle 20 finished, 4 chains, 3 tuned, 4 converged.\n",
      "└ @ BAT /Users/vhafych/.julia/packages/BAT/X0Kig/src/samplers/mcmc/mcmc_tuner.jl:98\n",
      "┌ Info: MCMC Tuning cycle 21 finished, 4 chains, 1 tuned, 4 converged.\n",
      "└ @ BAT /Users/vhafych/.julia/packages/BAT/X0Kig/src/samplers/mcmc/mcmc_tuner.jl:98\n",
      "┌ Info: MCMC Tuning cycle 22 finished, 4 chains, 3 tuned, 4 converged.\n",
      "└ @ BAT /Users/vhafych/.julia/packages/BAT/X0Kig/src/samplers/mcmc/mcmc_tuner.jl:98\n",
      "┌ Info: MCMC Tuning cycle 23 finished, 4 chains, 2 tuned, 4 converged.\n",
      "└ @ BAT /Users/vhafych/.julia/packages/BAT/X0Kig/src/samplers/mcmc/mcmc_tuner.jl:98\n",
      "┌ Info: MCMC Tuning cycle 24 finished, 4 chains, 1 tuned, 0 converged.\n",
      "└ @ BAT /Users/vhafych/.julia/packages/BAT/X0Kig/src/samplers/mcmc/mcmc_tuner.jl:98\n",
      "┌ Info: MCMC Tuning cycle 25 finished, 4 chains, 4 tuned, 0 converged.\n",
      "└ @ BAT /Users/vhafych/.julia/packages/BAT/X0Kig/src/samplers/mcmc/mcmc_tuner.jl:98\n",
      "┌ Info: MCMC Tuning cycle 26 finished, 4 chains, 1 tuned, 0 converged.\n",
      "└ @ BAT /Users/vhafych/.julia/packages/BAT/X0Kig/src/samplers/mcmc/mcmc_tuner.jl:98\n",
      "┌ Info: MCMC Tuning cycle 27 finished, 4 chains, 2 tuned, 4 converged.\n",
      "└ @ BAT /Users/vhafych/.julia/packages/BAT/X0Kig/src/samplers/mcmc/mcmc_tuner.jl:98\n",
      "┌ Info: MCMC Tuning cycle 28 finished, 4 chains, 3 tuned, 4 converged.\n",
      "└ @ BAT /Users/vhafych/.julia/packages/BAT/X0Kig/src/samplers/mcmc/mcmc_tuner.jl:98\n",
      "┌ Info: MCMC Tuning cycle 29 finished, 4 chains, 3 tuned, 4 converged.\n",
      "└ @ BAT /Users/vhafych/.julia/packages/BAT/X0Kig/src/samplers/mcmc/mcmc_tuner.jl:98\n",
      "┌ Info: MCMC Tuning cycle 30 finished, 4 chains, 2 tuned, 0 converged.\n",
      "└ @ BAT /Users/vhafych/.julia/packages/BAT/X0Kig/src/samplers/mcmc/mcmc_tuner.jl:98\n",
      "┌ Info: MCMC Tuning cycle 31 finished, 4 chains, 4 tuned, 0 converged.\n",
      "└ @ BAT /Users/vhafych/.julia/packages/BAT/X0Kig/src/samplers/mcmc/mcmc_tuner.jl:98\n",
      "┌ Info: MCMC Tuning cycle 32 finished, 4 chains, 3 tuned, 0 converged.\n",
      "└ @ BAT /Users/vhafych/.julia/packages/BAT/X0Kig/src/samplers/mcmc/mcmc_tuner.jl:98\n",
      "┌ Info: MCMC Tuning cycle 33 finished, 4 chains, 3 tuned, 4 converged.\n",
      "└ @ BAT /Users/vhafych/.julia/packages/BAT/X0Kig/src/samplers/mcmc/mcmc_tuner.jl:98\n",
      "┌ Info: MCMC Tuning cycle 34 finished, 4 chains, 2 tuned, 4 converged.\n",
      "└ @ BAT /Users/vhafych/.julia/packages/BAT/X0Kig/src/samplers/mcmc/mcmc_tuner.jl:98\n",
      "┌ Info: MCMC Tuning cycle 35 finished, 4 chains, 2 tuned, 4 converged.\n",
      "└ @ BAT /Users/vhafych/.julia/packages/BAT/X0Kig/src/samplers/mcmc/mcmc_tuner.jl:98\n",
      "┌ Info: MCMC Tuning cycle 36 finished, 4 chains, 4 tuned, 0 converged.\n",
      "└ @ BAT /Users/vhafych/.julia/packages/BAT/X0Kig/src/samplers/mcmc/mcmc_tuner.jl:98\n",
      "┌ Info: MCMC Tuning cycle 37 finished, 4 chains, 4 tuned, 4 converged.\n",
      "└ @ BAT /Users/vhafych/.julia/packages/BAT/X0Kig/src/samplers/mcmc/mcmc_tuner.jl:98\n",
      "┌ Info: MCMC tuning of 4 chains successful after 37 cycle(s).\n",
      "└ @ BAT /Users/vhafych/.julia/packages/BAT/X0Kig/src/samplers/mcmc/mcmc_tuner.jl:102\n"
     ]
    },
    {
     "name": "stdout",
     "output_type": "stream",
     "text": [
      "460.852789 seconds (54.72 M allocations: 71.251 GiB, 6.03% gc time)\n"
     ]
    }
   ],
   "source": [
    "@time samples = bat_sample(\n",
    "    posterior, (nsamples, nchains), algorithm,\n",
    "    max_nsteps = nsamples,\n",
    "    max_time = Inf,\n",
    "    tuning = tuning,\n",
    "    init = init,\n",
    "    burnin = burnin,\n",
    "    convergence = convergence,\n",
    "    strict = true,\n",
    "    filter = true\n",
    ").result;"
   ]
  },
  {
   "cell_type": "code",
   "execution_count": 60,
   "metadata": {},
   "outputs": [
    {
     "data": {
      "text/plain": [
       "32120"
      ]
     },
     "execution_count": 60,
     "metadata": {},
     "output_type": "execute_result"
    }
   ],
   "source": [
    "length(samples)"
   ]
  },
  {
   "cell_type": "code",
   "execution_count": 66,
   "metadata": {},
   "outputs": [
    {
     "data": {
      "image/png": "[encoded data removed]",
      "text/plain": [
       "Figure(PyObject <Figure size 600x600 with 25 Axes>)"
      ]
     },
     "metadata": {},
     "output_type": "display_data"
    }
   ],
   "source": [
    "dims = [1,2,3,4,5,]\n",
    "names = [L\"\\sigma_x\", L\"\\sigma_y\", L\"\\sigma'_x\", L\"\\sigma'_y\", \"s\", \"6\", \"7\", \"8\", \"9\"]\n",
    "levels = [0.1, 0.8, 0.9, 0.95,  1,]\n",
    "# levels = [0.01, 0.9, 1,]\n",
    "figsize = (6,6)\n",
    "n_bins = 20\n",
    "\n",
    "corner_plots(samples, dims, names, levels_quantiles = levels, figsize=figsize, N_bins=n_bins)"
   ]
  },
  {
   "cell_type": "code",
   "execution_count": 63,
   "metadata": {},
   "outputs": [
    {
     "data": {
      "text/plain": [
       "5×32120 Array{Float64,2}:\n",
       " 0.151937  0.151907  0.151541  0.151593  …  0.151847  0.151561  0.151063\n",
       " 0.151601  0.151637  0.151113  0.151166     0.151364  0.151214  0.151107\n",
       " 4.01541   4.01754   4.01519   4.0173       4.02503   4.02975   4.0374\n",
       " 4.02022   4.01972   4.03337   4.03371      4.01373   4.01675   4.01415\n",
       " 2.86441   2.8645    2.88003   2.87592      2.87281   2.88121   2.90053"
      ]
     },
     "execution_count": 63,
     "metadata": {},
     "output_type": "execute_result"
    }
   ],
   "source": [
    "flat_samples = collect(flatview(unshaped.(samples.v)))[1:5,:]\n",
    "\n",
    "flat_samples = inv(w_matrix') * flat_samples .+ w_mean"
   ]
  },
  {
   "cell_type": "code",
   "execution_count": 64,
   "metadata": {},
   "outputs": [
    {
     "data": {
      "image/png": "[encoded data removed]",
      "text/plain": [
       "Figure(PyObject <Figure size 1000x300 with 5 Axes>)"
      ]
     },
     "metadata": {},
     "output_type": "display_data"
    }
   ],
   "source": [
    "fig, ax = plt.subplots(1,5, figsize=(10,3))\n",
    "\n",
    "fig.subplots_adjust(hspace=0.0, wspace=0.05)\n",
    "\n",
    "ax[1].hist(flat_samples[1,:], bins=40, weights=samples.weight,  density=true)\n",
    "ax[2].hist(flat_samples[2,:], bins=40, weights=samples.weight,  density=true)\n",
    "ax[3].hist(flat_samples[3,:], bins=40, weights=samples.weight,  density=true)\n",
    "ax[4].hist(flat_samples[4,:], bins=40, weights=samples.weight,  density=true)\n",
    "ax[5].hist(flat_samples[5,:], bins=40, weights=samples.weight,  density=true)\n",
    "\n",
    "for i in 1:5\n",
    "   ax[i].set_yticklabels([])\n",
    "end"
   ]
  },
  {
   "cell_type": "code",
   "execution_count": 65,
   "metadata": {},
   "outputs": [
    {
     "data": {
      "image/png": "[encoded data removed]",
      "text/plain": [
       "Figure(PyObject <Figure size 800x300 with 2 Axes>)"
      ]
     },
     "metadata": {},
     "output_type": "display_data"
    }
   ],
   "source": [
    "fig, ax = plt.subplots(1,2, figsize=(8,3))\n",
    "\n",
    "fig.subplots_adjust(hspace=0.0, wspace=0.2)\n",
    "\n",
    "ax[1].hist2d(flat_samples[1,:], flat_samples[2,:], bins=30, weights=samples.weight,  density=true)\n",
    "ax[2].hist2d(flat_samples[1,:], flat_samples[5,:], bins=30, weights=samples.weight,  density=true);"
   ]
  },
  {
   "cell_type": "code",
   "execution_count": null,
   "metadata": {},
   "outputs": [],
   "source": []
  },
  {
   "cell_type": "code",
   "execution_count": null,
   "metadata": {},
   "outputs": [],
   "source": []
  },
  {
   "cell_type": "code",
   "execution_count": null,
   "metadata": {},
   "outputs": [],
   "source": []
  },
  {
   "cell_type": "markdown",
   "metadata": {},
   "source": [
    "# Partitioned Sampling"
   ]
  },
  {
   "cell_type": "code",
   "execution_count": null,
   "metadata": {},
   "outputs": [],
   "source": [
    "tuning = AdaptiveMetropolisTuning(\n",
    "    λ = 0.5,\n",
    "    α = 0.2..0.3,\n",
    "    β = 1.5,\n",
    "    c = 1e-2..1e2,\n",
    "    r = 0.5,\n",
    ")\n",
    "\n",
    "convergence = BrooksGelmanConvergence(\n",
    "    threshold = 1.1,\n",
    "    corrected = false\n",
    ")\n",
    "\n",
    "init = MCMCInitStrategy(\n",
    "    init_tries_per_chain = 10..100,\n",
    "    max_nsamples_init = 600,\n",
    "    max_nsteps_init = 600,\n",
    "    max_time_init = Inf\n",
    ")\n",
    "\n",
    "burnin = MCMCBurninStrategy(\n",
    "    max_nsamples_per_cycle = 2000,\n",
    "    max_nsteps_per_cycle = 2000,\n",
    "    max_time_per_cycle = Inf,\n",
    "    max_ncycles = 60\n",
    ");\n",
    "\n",
    "sampler = MetropolisHastings()\n",
    "\n",
    "nsamples = 3*10^4\n",
    "nchains = 4\n",
    "\n",
    "sampling_kwargs = (burnin = burnin, init=init, convergence=convergence, tuning=tuning, max_nsteps=nsamples, max_time=Inf);"
   ]
  },
  {
   "cell_type": "code",
   "execution_count": null,
   "metadata": {},
   "outputs": [],
   "source": [
    "# Exploration Samples: \n",
    "\n",
    "exploration_sampler = MetropolisHastings()\n",
    "\n",
    "init_2 = MCMCInitStrategy(\n",
    "    init_tries_per_chain = 10..200,\n",
    "    max_nsamples_init = 600,\n",
    "    max_nsteps_init = 600,\n",
    "    max_time_init = Inf\n",
    ")\n",
    "\n",
    "burnin_2 = MCMCBurninStrategy(\n",
    "        max_nsamples_per_cycle = 1000,\n",
    "        max_nsteps_per_cycle = 1000,\n",
    "        max_time_per_cycle = Inf,\n",
    "        max_ncycles = 10\n",
    "    )\n",
    "exploration_kwargs = (burnin = burnin_2, init=init_2)\n",
    "n_exploration = (10^2, 40);\n"
   ]
  },
  {
   "cell_type": "code",
   "execution_count": null,
   "metadata": {},
   "outputs": [],
   "source": [
    "partitioner = BAT.KDTreePartitioning(\n",
    "        partition_dims = [1,2,3,4,5], # dimension indices that are considered for partition\n",
    "        extend_bounds=false # \"false\" is appropriate for debugging, very fast tuning /convergence \n",
    "    );"
   ]
  },
  {
   "cell_type": "code",
   "execution_count": null,
   "metadata": {},
   "outputs": [],
   "source": [
    "integrator = AHMIntegration(  \n",
    "        whitening= CholeskyPartialWhitening(),\n",
    "        autocorlen= GeyerAutocorLen(),\n",
    "        volumetype = :HyperRectangle,\n",
    "        max_startingIDs = 10000,\n",
    "        max_startingIDs_fraction = 2.5,\n",
    "        rect_increase = 0.1,\n",
    "        warning_minstartingids = 16,\n",
    "        dotrimming = true,\n",
    "        uncertainty= [:cov]\n",
    "    );"
   ]
  },
  {
   "cell_type": "code",
   "execution_count": null,
   "metadata": {},
   "outputs": [],
   "source": [
    "algorithm = PartitionedSampling(\n",
    "        sampler = sampler,\n",
    "        exploration_sampler = exploration_sampler,\n",
    "        partitioner = partitioner,\n",
    "        integrator = integrator,\n",
    "        exploration_kwargs = exploration_kwargs,\n",
    "        sampling_kwargs = sampling_kwargs,\n",
    "        n_exploration = n_exploration\n",
    "    );"
   ]
  },
  {
   "cell_type": "code",
   "execution_count": null,
   "metadata": {},
   "outputs": [],
   "source": [
    "output_sp_ms = bat_sample(posterior, (nsamples, nchains, 10), algorithm);"
   ]
  },
  {
   "cell_type": "code",
   "execution_count": null,
   "metadata": {},
   "outputs": [],
   "source": [
    "\n",
    "samples_3 = output_sp_ms.result;"
   ]
  }
 ],
 "metadata": {
  "kernelspec": {
   "display_name": "Julia 1.5.0",
   "language": "julia",
   "name": "julia-1.5"
  },
  "language_info": {
   "file_extension": ".jl",
   "mimetype": "application/julia",
   "name": "julia",
   "version": "1.5.0"
  }
 },
 "nbformat": 4,
 "nbformat_minor": 4
}
