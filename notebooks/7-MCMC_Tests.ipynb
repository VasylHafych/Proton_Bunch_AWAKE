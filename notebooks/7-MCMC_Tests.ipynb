{
 "cells": [
  {
   "cell_type": "code",
   "execution_count": 1,
   "metadata": {},
   "outputs": [],
   "source": [
    "using JLD2\n",
    "using FileIO\n",
    "using PyPlot\n",
    "using Statistics\n",
    "using StatsBase \n",
    "using Distributions\n",
    "using LinearAlgebra\n",
    "using BAT"
   ]
  },
  {
   "cell_type": "code",
   "execution_count": 2,
   "metadata": {},
   "outputs": [],
   "source": [
    "using IntervalSets\n",
    "using Random, ArraysOfArrays\n",
    "using ValueShapes\n",
    "using Measurements"
   ]
  },
  {
   "cell_type": "code",
   "execution_count": 3,
   "metadata": {},
   "outputs": [],
   "source": [
    "images = load(\"../data/experiment/m2/simulated_events.jld2\")[\"array\"];\n",
    "conv_mat = load(\"../data/experiment/m2/conv_matrix-2.jld2\")\n",
    "\n",
    "conv_matrices = (\n",
    "    cam_1 = conv_mat[\"cam_1\"],\n",
    "    cam_2 = conv_mat[\"cam_2\"],\n",
    "    cam_3 = conv_mat[\"cam_3\"],\n",
    "    cam_4 = conv_mat[\"cam_3\"],\n",
    ")\n",
    "\n",
    "event = images[1];"
   ]
  },
  {
   "cell_type": "code",
   "execution_count": 4,
   "metadata": {},
   "outputs": [
    {
     "data": {
      "text/plain": [
       "corner_plots (generic function with 1 method)"
      ]
     },
     "execution_count": 4,
     "metadata": {},
     "output_type": "execute_result"
    }
   ],
   "source": [
    "include(\"../src/likelihood.jl\")\n",
    "include(\"../src/utill.jl\")"
   ]
  },
  {
   "cell_type": "code",
   "execution_count": 5,
   "metadata": {},
   "outputs": [],
   "source": [
    "param_truth = (\n",
    "        tr_size = [0.15, 0.15],\n",
    "        ang_spr = [4.0, 4.0],\n",
    "        s_waist = [2.9,],\n",
    "        μ_x = [46,50,20,115], # alignment X\n",
    "        μ_y = [48,50,25,160], # alignment Y\n",
    "        σ_x = [1,3,6,10], # resolution X\n",
    "        σ_y = [1,3,6,10], # resolution Y\n",
    "        δ_x = [0.0271,0.0216,0.114,0.0303], # pixel size X\n",
    "        δ_y = [0.0305,0.0234,0.125,0.0298], # pixel size Y\n",
    "        int_coeff  = [34896.560, 50315.113, 10317.860, 310986.998], # light intensity coefficient\n",
    "        s_cam = [0.0, 1.478, 15.026, 23.1150], # camera position\n",
    "    );\n"
   ]
  },
  {
   "cell_type": "code",
   "execution_count": 21,
   "metadata": {},
   "outputs": [
    {
     "data": {
      "text/plain": [
       "#16 (generic function with 1 method)"
      ]
     },
     "execution_count": 21,
     "metadata": {},
     "output_type": "execute_result"
    }
   ],
   "source": [
    "log_likelihood = let e = event, c = conv_matrices\n",
    "    \n",
    "    params -> begin\n",
    "        \n",
    "        ll = zero(Float64)\n",
    "        ll += cam_likelihood(params, e.cam_1, e.population, c.cam_1, 1)\n",
    "        ll += cam_likelihood(params, e.cam_2, e.population, c.cam_2, 2)\n",
    "        ll += cam_likelihood(params, e.cam_3, e.population, c.cam_3, 3)\n",
    "        ll += cam_likelihood(params, e.cam_4, e.population, c.cam_4, 4)\n",
    "    \n",
    "        return LogDVal(ll)\n",
    "        \n",
    "    end\n",
    "end"
   ]
  },
  {
   "cell_type": "code",
   "execution_count": 22,
   "metadata": {},
   "outputs": [],
   "source": [
    "β_min = 0.7\n",
    "β_max = 1.3\n",
    "\n",
    "prior = NamedTupleDist(\n",
    "        tr_size = [β_min*param_truth.tr_size[1]..β_max*param_truth.tr_size[1], β_min*param_truth.tr_size[2]..β_max*param_truth.tr_size[2]],\n",
    "        ang_spr = [β_min*param_truth.ang_spr[1]..β_max*param_truth.ang_spr[1], β_min*param_truth.ang_spr[2]..β_max*param_truth.ang_spr[2]],\n",
    "        s_waist = [β_min*param_truth.s_waist[1]..β_max*param_truth.s_waist[1],],\n",
    "        μ_x = [46,50,20,115], \n",
    "        μ_y = [48,50,25,160], \n",
    "        σ_x = [1,3,6,10], \n",
    "        σ_y = [1,3,6,10], \n",
    "        δ_x = [0.0271,0.0216,0.114,0.0303], \n",
    "        δ_y = [0.0305,0.0234,0.125,0.0298], \n",
    "        int_coeff  = [34896.560, 50315.113, 10317.860, 310986.998], \n",
    "        s_cam = [0.0, 1.478, 15.026, 23.1150],\n",
    "    );"
   ]
  },
  {
   "cell_type": "code",
   "execution_count": 23,
   "metadata": {},
   "outputs": [],
   "source": [
    "# β_min = 0.8\n",
    "# β_max = 1.2\n",
    "\n",
    "# prior = NamedTupleDist(\n",
    "#         tr_size = [β_min*param_truth.tr_size[1]..β_max*param_truth.tr_size[1], β_min*param_truth.tr_size[2]..β_max*param_truth.tr_size[2]],\n",
    "#         ang_spr = [β_min*param_truth.ang_spr[1]..β_max*param_truth.ang_spr[1], β_min*param_truth.ang_spr[2]..β_max*param_truth.ang_spr[2]],\n",
    "#         s_waist = [β_min*param_truth.s_waist[1]..β_max*param_truth.s_waist[1],],\n",
    "#         μ_x = [ β_min*param_truth.μ_x[1]..β_max*param_truth.μ_x[1],\n",
    "#                 β_min*param_truth.μ_x[2]..β_max*param_truth.μ_x[2],\n",
    "#                 β_min*param_truth.μ_x[3]..β_max*param_truth.μ_x[3]], \n",
    "#         μ_y = [ β_min*param_truth.μ_y[1]..β_max*param_truth.μ_y[1],\n",
    "#                 β_min*param_truth.μ_y[2]..β_max*param_truth.μ_y[2],\n",
    "#                 β_min*param_truth.μ_y[3]..β_max*param_truth.μ_y[3]], \n",
    "#         σ_x = [1,3,6,10], \n",
    "#         σ_y = [1,3,6,10], \n",
    "#         δ_x = [0.0271,0.0216,0.114,0.0303], \n",
    "#         δ_y = [0.0305,0.0234,0.125,0.0298], \n",
    "#         int_coeff  = [34896.560, 50315.113, 10317.860, 310986.998], \n",
    "#         s_cam = [0.0, 1.478, 15.026, 23.1150],\n",
    "#     );"
   ]
  },
  {
   "cell_type": "code",
   "execution_count": 24,
   "metadata": {},
   "outputs": [],
   "source": [
    "# β_min = 0.7\n",
    "# β_max = 1.3\n",
    "\n",
    "# prior = NamedTupleDist(\n",
    "#         tr_size = [β_min*param_truth.tr_size[1]..β_max*param_truth.tr_size[1], β_min*param_truth.tr_size[2]..β_max*param_truth.tr_size[2]],\n",
    "    \n",
    "#         ang_spr = [β_min*param_truth.ang_spr[1]..β_max*param_truth.ang_spr[1], β_min*param_truth.ang_spr[2]..β_max*param_truth.ang_spr[2]],\n",
    "    \n",
    "#         s_waist = [β_min*param_truth.s_waist[1]..β_max*param_truth.s_waist[1],],\n",
    "    \n",
    "#         μ_x = [ β_min*param_truth.μ_x[1]..β_max*param_truth.μ_x[1],\n",
    "#                 β_min*param_truth.μ_x[2]..β_max*param_truth.μ_x[2],\n",
    "#                 β_min*param_truth.μ_x[3]..β_max*param_truth.μ_x[3],\n",
    "#                 β_min*param_truth.μ_x[4]..β_max*param_truth.μ_x[4]], \n",
    "    \n",
    "#         μ_y = [ β_min*param_truth.μ_y[1]..β_max*param_truth.μ_y[1],\n",
    "#                 β_min*param_truth.μ_y[2]..β_max*param_truth.μ_y[2],\n",
    "#                 β_min*param_truth.μ_y[3]..β_max*param_truth.μ_y[3],\n",
    "#                 β_min*param_truth.μ_y[4]..β_max*param_truth.μ_y[4]],\n",
    "    \n",
    "#         σ_x = [ β_min*param_truth.σ_x[1]..β_max*param_truth.σ_x[1],\n",
    "#                 β_min*param_truth.σ_x[2]..β_max*param_truth.σ_x[2],\n",
    "#                 β_min*param_truth.σ_x[3]..β_max*param_truth.σ_x[3],\n",
    "#                 β_min*param_truth.σ_x[4]..β_max*param_truth.σ_x[4]],\n",
    "    \n",
    "#         σ_y = [ β_min*param_truth.σ_y[1]..β_max*param_truth.σ_y[1],\n",
    "#                 β_min*param_truth.σ_y[2]..β_max*param_truth.σ_y[2],\n",
    "#                 β_min*param_truth.σ_y[3]..β_max*param_truth.σ_y[3],\n",
    "#                 β_min*param_truth.σ_y[4]..β_max*param_truth.σ_y[4]],\n",
    "    \n",
    "#         δ_x = [ β_min*param_truth.δ_x[1]..β_max*param_truth.δ_x[1],\n",
    "#                 β_min*param_truth.δ_x[2]..β_max*param_truth.δ_x[2],\n",
    "#                 β_min*param_truth.δ_x[3]..β_max*param_truth.δ_x[3],\n",
    "#                 β_min*param_truth.δ_x[4]..β_max*param_truth.δ_x[4]],\n",
    "    \n",
    "#         δ_y = [ β_min*param_truth.δ_y[1]..β_max*param_truth.δ_y[1],\n",
    "#                 β_min*param_truth.δ_y[2]..β_max*param_truth.δ_y[2],\n",
    "#                 β_min*param_truth.δ_y[3]..β_max*param_truth.δ_y[3],\n",
    "#                 β_min*param_truth.δ_y[4]..β_max*param_truth.δ_y[4]],\n",
    "    \n",
    "#         int_coeff  = [ β_min*param_truth.int_coeff[1]..β_max*param_truth.int_coeff[1],\n",
    "#                 β_min*param_truth.int_coeff[2]..β_max*param_truth.int_coeff[2],\n",
    "#                 β_min*param_truth.int_coeff[3]..β_max*param_truth.int_coeff[3],\n",
    "#                 β_min*param_truth.int_coeff[4]..β_max*param_truth.int_coeff[4]], \n",
    "    \n",
    "#         s_cam = [0.0, 1.478, 15.026, 23.1150],\n",
    "#     );"
   ]
  },
  {
   "cell_type": "code",
   "execution_count": 25,
   "metadata": {},
   "outputs": [],
   "source": [
    "posterior = PosteriorDensity(log_likelihood, prior);"
   ]
  },
  {
   "cell_type": "code",
   "execution_count": 26,
   "metadata": {},
   "outputs": [
    {
     "data": {
      "text/plain": [
       "MetropolisHastings(BAT.MvTDistProposal(1.0), RepetitionWeighting{Int64}())\n"
      ]
     },
     "execution_count": 26,
     "metadata": {},
     "output_type": "execute_result"
    }
   ],
   "source": [
    "tuning = AdaptiveMetropolisTuning(\n",
    "    λ = 0.5,\n",
    "    α = 0.15..0.25,\n",
    "    β = 1.5,\n",
    "    c = 1e-4..1e2\n",
    ")\n",
    "\n",
    "convergence = BrooksGelmanConvergence(\n",
    "    threshold = 1.1,\n",
    "    corrected = false\n",
    ")\n",
    "\n",
    "init = MCMCInitStrategy(\n",
    "    init_tries_per_chain = 8..128,\n",
    "    max_nsamples_init = 25,\n",
    "    max_nsteps_init = 250,\n",
    "    max_time_init = Inf\n",
    ")\n",
    "\n",
    "burnin = MCMCBurninStrategy(\n",
    "    max_nsamples_per_cycle = 400,\n",
    "    max_nsteps_per_cycle = 400,\n",
    "    max_time_per_cycle = 10,\n",
    "    max_ncycles = 30\n",
    ");\n",
    "\n",
    "algorithm = MetropolisHastings()"
   ]
  },
  {
   "cell_type": "code",
   "execution_count": 27,
   "metadata": {},
   "outputs": [],
   "source": [
    "nsamples = 2*10^4\n",
    "nchains = 4;"
   ]
  },
  {
   "cell_type": "code",
   "execution_count": 28,
   "metadata": {},
   "outputs": [
    {
     "name": "stderr",
     "output_type": "stream",
     "text": [
      "┌ Info: Initializing new RNG of type Random123.Philox4x{UInt64,10}\n",
      "└ @ BAT /Users/vhafych/MPP-Server/gitrepos/BAT.jl/src/algotypes/bat_default.jl:44\n",
      "┌ Info: Trying to generate 4 viable MCMC chain(s).\n",
      "└ @ BAT /Users/vhafych/MPP-Server/gitrepos/BAT.jl/src/samplers/mcmc/mcmc_tuner.jl:193\n",
      "┌ Info: Selected 4 MCMC chain(s).\n",
      "└ @ BAT /Users/vhafych/MPP-Server/gitrepos/BAT.jl/src/samplers/mcmc/mcmc_tuner.jl:304\n",
      "┌ Info: Begin tuning of 4 MCMC chain(s).\n",
      "└ @ BAT /Users/vhafych/MPP-Server/gitrepos/BAT.jl/src/samplers/mcmc/mcmc_tuner.jl:65\n",
      "┌ Info: MCMC Tuning cycle 1 finished, 4 chains, 0 tuned, 0 converged.\n",
      "└ @ BAT /Users/vhafych/MPP-Server/gitrepos/BAT.jl/src/samplers/mcmc/mcmc_tuner.jl:98\n",
      "┌ Info: MCMC Tuning cycle 2 finished, 4 chains, 0 tuned, 0 converged.\n",
      "└ @ BAT /Users/vhafych/MPP-Server/gitrepos/BAT.jl/src/samplers/mcmc/mcmc_tuner.jl:98\n",
      "┌ Info: MCMC Tuning cycle 3 finished, 4 chains, 0 tuned, 0 converged.\n",
      "└ @ BAT /Users/vhafych/MPP-Server/gitrepos/BAT.jl/src/samplers/mcmc/mcmc_tuner.jl:98\n",
      "┌ Info: MCMC Tuning cycle 4 finished, 4 chains, 0 tuned, 0 converged.\n",
      "└ @ BAT /Users/vhafych/MPP-Server/gitrepos/BAT.jl/src/samplers/mcmc/mcmc_tuner.jl:98\n",
      "┌ Info: MCMC Tuning cycle 5 finished, 4 chains, 0 tuned, 4 converged.\n",
      "└ @ BAT /Users/vhafych/MPP-Server/gitrepos/BAT.jl/src/samplers/mcmc/mcmc_tuner.jl:98\n",
      "┌ Info: MCMC Tuning cycle 6 finished, 4 chains, 0 tuned, 4 converged.\n",
      "└ @ BAT /Users/vhafych/MPP-Server/gitrepos/BAT.jl/src/samplers/mcmc/mcmc_tuner.jl:98\n",
      "┌ Info: MCMC Tuning cycle 7 finished, 4 chains, 0 tuned, 4 converged.\n",
      "└ @ BAT /Users/vhafych/MPP-Server/gitrepos/BAT.jl/src/samplers/mcmc/mcmc_tuner.jl:98\n",
      "┌ Info: MCMC Tuning cycle 8 finished, 4 chains, 0 tuned, 0 converged.\n",
      "└ @ BAT /Users/vhafych/MPP-Server/gitrepos/BAT.jl/src/samplers/mcmc/mcmc_tuner.jl:98\n",
      "┌ Info: MCMC Tuning cycle 9 finished, 4 chains, 0 tuned, 0 converged.\n",
      "└ @ BAT /Users/vhafych/MPP-Server/gitrepos/BAT.jl/src/samplers/mcmc/mcmc_tuner.jl:98\n",
      "┌ Info: MCMC Tuning cycle 10 finished, 4 chains, 0 tuned, 0 converged.\n",
      "└ @ BAT /Users/vhafych/MPP-Server/gitrepos/BAT.jl/src/samplers/mcmc/mcmc_tuner.jl:98\n",
      "┌ Info: MCMC Tuning cycle 11 finished, 4 chains, 0 tuned, 0 converged.\n",
      "└ @ BAT /Users/vhafych/MPP-Server/gitrepos/BAT.jl/src/samplers/mcmc/mcmc_tuner.jl:98\n",
      "┌ Info: MCMC Tuning cycle 12 finished, 4 chains, 2 tuned, 0 converged.\n",
      "└ @ BAT /Users/vhafych/MPP-Server/gitrepos/BAT.jl/src/samplers/mcmc/mcmc_tuner.jl:98\n",
      "┌ Info: MCMC Tuning cycle 13 finished, 4 chains, 4 tuned, 0 converged.\n",
      "└ @ BAT /Users/vhafych/MPP-Server/gitrepos/BAT.jl/src/samplers/mcmc/mcmc_tuner.jl:98\n",
      "┌ Info: MCMC Tuning cycle 14 finished, 4 chains, 3 tuned, 0 converged.\n",
      "└ @ BAT /Users/vhafych/MPP-Server/gitrepos/BAT.jl/src/samplers/mcmc/mcmc_tuner.jl:98\n",
      "┌ Info: MCMC Tuning cycle 15 finished, 4 chains, 3 tuned, 0 converged.\n",
      "└ @ BAT /Users/vhafych/MPP-Server/gitrepos/BAT.jl/src/samplers/mcmc/mcmc_tuner.jl:98\n",
      "┌ Info: MCMC Tuning cycle 16 finished, 4 chains, 2 tuned, 0 converged.\n",
      "└ @ BAT /Users/vhafych/MPP-Server/gitrepos/BAT.jl/src/samplers/mcmc/mcmc_tuner.jl:98\n",
      "┌ Info: MCMC Tuning cycle 17 finished, 4 chains, 2 tuned, 0 converged.\n",
      "└ @ BAT /Users/vhafych/MPP-Server/gitrepos/BAT.jl/src/samplers/mcmc/mcmc_tuner.jl:98\n",
      "┌ Info: MCMC Tuning cycle 18 finished, 4 chains, 2 tuned, 0 converged.\n",
      "└ @ BAT /Users/vhafych/MPP-Server/gitrepos/BAT.jl/src/samplers/mcmc/mcmc_tuner.jl:98\n",
      "┌ Info: MCMC Tuning cycle 19 finished, 4 chains, 0 tuned, 0 converged.\n",
      "└ @ BAT /Users/vhafych/MPP-Server/gitrepos/BAT.jl/src/samplers/mcmc/mcmc_tuner.jl:98\n",
      "┌ Info: MCMC Tuning cycle 20 finished, 4 chains, 1 tuned, 0 converged.\n",
      "└ @ BAT /Users/vhafych/MPP-Server/gitrepos/BAT.jl/src/samplers/mcmc/mcmc_tuner.jl:98\n",
      "┌ Info: MCMC Tuning cycle 21 finished, 4 chains, 3 tuned, 0 converged.\n",
      "└ @ BAT /Users/vhafych/MPP-Server/gitrepos/BAT.jl/src/samplers/mcmc/mcmc_tuner.jl:98\n",
      "┌ Info: MCMC Tuning cycle 22 finished, 4 chains, 1 tuned, 0 converged.\n",
      "└ @ BAT /Users/vhafych/MPP-Server/gitrepos/BAT.jl/src/samplers/mcmc/mcmc_tuner.jl:98\n",
      "┌ Info: MCMC Tuning cycle 23 finished, 4 chains, 2 tuned, 0 converged.\n",
      "└ @ BAT /Users/vhafych/MPP-Server/gitrepos/BAT.jl/src/samplers/mcmc/mcmc_tuner.jl:98\n",
      "┌ Info: MCMC Tuning cycle 24 finished, 4 chains, 3 tuned, 0 converged.\n",
      "└ @ BAT /Users/vhafych/MPP-Server/gitrepos/BAT.jl/src/samplers/mcmc/mcmc_tuner.jl:98\n",
      "┌ Info: MCMC Tuning cycle 25 finished, 4 chains, 4 tuned, 4 converged.\n",
      "└ @ BAT /Users/vhafych/MPP-Server/gitrepos/BAT.jl/src/samplers/mcmc/mcmc_tuner.jl:98\n",
      "┌ Info: MCMC tuning of 4 chains successful after 25 cycle(s).\n",
      "└ @ BAT /Users/vhafych/MPP-Server/gitrepos/BAT.jl/src/samplers/mcmc/mcmc_tuner.jl:102\n"
     ]
    },
    {
     "name": "stdout",
     "output_type": "stream",
     "text": [
      "775.049460 seconds (26.71 M allocations: 192.520 GiB, 3.24% gc time)\n"
     ]
    }
   ],
   "source": [
    "@time samples = bat_sample(\n",
    "    posterior, (nsamples, nchains), algorithm,\n",
    "    max_nsteps = nsamples,\n",
    "    max_time = Inf,\n",
    "    tuning = tuning,\n",
    "    init = init,\n",
    "    burnin = burnin,\n",
    "    convergence = convergence,\n",
    "    strict = false,\n",
    "    filter = true\n",
    ").result;"
   ]
  },
  {
   "cell_type": "code",
   "execution_count": 29,
   "metadata": {},
   "outputs": [
    {
     "data": {
      "text/plain": [
       "18746"
      ]
     },
     "execution_count": 29,
     "metadata": {},
     "output_type": "execute_result"
    }
   ],
   "source": [
    "length(samples)"
   ]
  },
  {
   "cell_type": "code",
   "execution_count": 30,
   "metadata": {},
   "outputs": [
    {
     "data": {
      "image/png": "[encoded data removed]",
      "text/plain": [
       "Figure(PyObject <Figure size 600x600 with 25 Axes>)"
      ]
     },
     "metadata": {},
     "output_type": "display_data"
    }
   ],
   "source": [
    "dims = [1,2,3,4,5,]\n",
    "names = [\"1\", \"2\", \"3\", \"4\", \"5\", \"6\", \"7\", \"8\", \"9\"]\n",
    "levels = [ 0.4, 0.7, 0.8, 0.95, 1,]\n",
    "figsize = (6,6)\n",
    "n_bins = 20\n",
    "\n",
    "corner_plots(samples, dims, names, levels_quantiles = levels, figsize=figsize, N_bins=n_bins)"
   ]
  },
  {
   "cell_type": "code",
   "execution_count": 14,
   "metadata": {},
   "outputs": [
    {
     "data": {
      "text/plain": [
       "5-element Array{Float64,1}:\n",
       " 1345.0129782030758\n",
       " 1504.144012037229\n",
       " 1466.8646860707825\n",
       " 1374.883302888082\n",
       " 1457.518506837024"
      ]
     },
     "execution_count": 14,
     "metadata": {},
     "output_type": "execute_result"
    }
   ],
   "source": [
    "bat_eff_sample_size(unshaped.(samples.v)).result"
   ]
  },
  {
   "cell_type": "code",
   "execution_count": 15,
   "metadata": {},
   "outputs": [
    {
     "data": {
      "text/plain": [
       "(tr_size = [0.15346375613086297, 0.15266119717959617], ang_spr = [4.081467333341355, 4.115655098705353], s_waist = [2.774425904740598], μ_x = [46, 50, 20, 115], μ_y = [48, 50, 25, 160], σ_x = [1, 3, 6, 10], σ_y = [1, 3, 6, 10], δ_x = [0.0271, 0.0216, 0.114, 0.0303], δ_y = [0.0305, 0.0234, 0.125, 0.0298], int_coeff = [34896.56, 50315.113, 10317.86, 310986.998], s_cam = [0.0, 1.478, 15.026, 23.115])"
      ]
     },
     "execution_count": 15,
     "metadata": {},
     "output_type": "execute_result"
    }
   ],
   "source": [
    "mode(samples)[1]"
   ]
  },
  {
   "cell_type": "code",
   "execution_count": 16,
   "metadata": {},
   "outputs": [
    {
     "data": {
      "text/plain": [
       "(tr_size = [0.0006431464095209087, 0.0005277259260257816], ang_spr = [0.04125111690488575, 0.04395322153045931], s_waist = [0.03844969452427057], μ_x = [0, 0, 0, 0], μ_y = [0, 0, 0, 0], σ_x = [0, 0, 0, 0], σ_y = [0, 0, 0, 0], δ_x = [0.0, 0.0, 0.0, 0.0], δ_y = [0.0, 0.0, 0.0, 0.0], int_coeff = [0.0, 0.0, 0.0, 0.0], s_cam = [0.0, 0.0, 0.0, 0.0])"
      ]
     },
     "execution_count": 16,
     "metadata": {},
     "output_type": "execute_result"
    }
   ],
   "source": [
    "std(samples)[1]"
   ]
  },
  {
   "cell_type": "code",
   "execution_count": null,
   "metadata": {},
   "outputs": [],
   "source": [
    "# 1) Decorelate parameters `"
   ]
  },
  {
   "cell_type": "code",
   "execution_count": null,
   "metadata": {},
   "outputs": [],
   "source": []
  }
 ],
 "metadata": {
  "kernelspec": {
   "display_name": "Julia 1.5.0",
   "language": "julia",
   "name": "julia-1.5"
  },
  "language_info": {
   "file_extension": ".jl",
   "mimetype": "application/julia",
   "name": "julia",
   "version": "1.5.0"
  }
 },
 "nbformat": 4,
 "nbformat_minor": 4
}
