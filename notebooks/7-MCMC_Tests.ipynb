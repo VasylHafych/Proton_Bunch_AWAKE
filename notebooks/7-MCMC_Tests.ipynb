{
 "cells": [
  {
   "cell_type": "markdown",
   "metadata": {},
   "source": [
    "# Example of MCMC run"
   ]
  },
  {
   "cell_type": "code",
   "execution_count": null,
   "metadata": {},
   "outputs": [],
   "source": [
    "using JLD2\n",
    "using FileIO\n",
    "using PyPlot\n",
    "using Statistics\n",
    "using StatsBase \n",
    "using Distributions\n",
    "using LinearAlgebra\n",
    "import HDF5\n",
    "using BenchmarkTools"
   ]
  },
  {
   "cell_type": "code",
   "execution_count": null,
   "metadata": {},
   "outputs": [],
   "source": [
    "using IntervalSets\n",
    "using Random, ArraysOfArrays\n",
    "using ValueShapes\n",
    "using Measurements\n",
    "using BenchmarkTools\n",
    "using DSP"
   ]
  },
  {
   "cell_type": "code",
   "execution_count": null,
   "metadata": {},
   "outputs": [],
   "source": [
    "# using Revise\n",
    "using Random123\n",
    "using BAT "
   ]
  },
  {
   "cell_type": "code",
   "execution_count": null,
   "metadata": {},
   "outputs": [],
   "source": []
  },
  {
   "cell_type": "markdown",
   "metadata": {},
   "source": [
    "# Load Data"
   ]
  },
  {
   "cell_type": "code",
   "execution_count": null,
   "metadata": {},
   "outputs": [],
   "source": [
    "function trunc_norm(m, sgm; alpha=2)\n",
    "    return truncated(Normal(m, sgm), m - alpha*sgm, m + alpha*sgm)\n",
    "end"
   ]
  },
  {
   "cell_type": "markdown",
   "metadata": {},
   "source": [
    "## 1.1 Low `p` Population: "
   ]
  },
  {
   "cell_type": "code",
   "execution_count": null,
   "metadata": {},
   "outputs": [],
   "source": [
    "# conv_mat = load(\"../data/experiment/dataset_2/m1/conv-matrix-upd-2.jld2\")\n",
    "\n",
    "# conv_matrices = (\n",
    "#     cam_1 = conv_mat[\"cam_1\"],\n",
    "#     cam_2 = conv_mat[\"cam_2\"],\n",
    "#     cam_3 = conv_mat[\"cam_3\"],\n",
    "#     cam_4 = conv_mat[\"cam_4\"], \n",
    "# )\n",
    "\n",
    "# images = load(\"../data/experiment/dataset_2/m1/images-satur.jld2\");\n",
    "# event_number = 343\n",
    "\n",
    "# # Small Charge: Ev_1_3 = 343, Ev_1_1 = 137, Ev_1_2 = 9\n",
    "\n",
    "# event = (\n",
    "#     cam_1 = images[\"cam_1\"][event_number,:,:],\n",
    "#     cam_2 = images[\"cam_2\"][event_number,:,:],\n",
    "#     cam_3 = images[\"cam_3\"][event_number,:,:],\n",
    "#     cam_4 = images[\"cam_4\"][event_number,:,:],\n",
    "#     population = images[\"charge\"][event_number,:][1],\n",
    "# );"
   ]
  },
  {
   "cell_type": "markdown",
   "metadata": {},
   "source": [
    "## 1.2 High `p` Population: "
   ]
  },
  {
   "cell_type": "code",
   "execution_count": null,
   "metadata": {},
   "outputs": [],
   "source": [
    "conv_mat = load(\"../data/experiment/dataset_2/m2/conv-matrix-upd-2.jld2\") \n",
    "\n",
    "conv_matrices = (\n",
    "    cam_1 = conv_mat[\"cam_1\"],\n",
    "    cam_2 = conv_mat[\"cam_2\"],\n",
    "    cam_3 = conv_mat[\"cam_3\"],\n",
    "    cam_4 = conv_mat[\"cam_4\"], \n",
    ") \n",
    "\n",
    "images = load(\"../data/experiment/dataset_2/m2/images-satur.jld2\"); # removed saturated pixels\n",
    "# images = load(\"../data/experiment/dataset_2/m2/images.jld2\"); # included saturated pixels\n",
    "event_number = 2\n",
    "\n",
    "# Large Charge: Ev_2_2 = 2, Ev_2_1 = 311, Ev_2_3 = 440\n",
    "\n",
    "event = (\n",
    "    cam_1 = images[\"cam_1\"][event_number,:,:],\n",
    "    cam_2 = images[\"cam_2\"][event_number,:,:],\n",
    "    cam_3 = images[\"cam_3\"][event_number,:,:],\n",
    "    cam_4 = images[\"cam_4\"][event_number,:,:],\n",
    "    population = images[\"charge\"][event_number,:][1],\n",
    ");\n"
   ]
  },
  {
   "cell_type": "code",
   "execution_count": null,
   "metadata": {},
   "outputs": [],
   "source": [
    "fig, ax = plt.subplots(2,2, figsize=(7,7))\n",
    "fig.subplots_adjust(hspace=0.2, wspace=0.2)\n",
    "\n",
    "ax[1,1].pcolormesh(event.cam_1, cmap=\"RdYlBu_r\")\n",
    "ax[1,2].pcolormesh(event.cam_2, cmap=\"RdYlBu_r\")\n",
    "ax[2,1].pcolormesh(event.cam_3, cmap=\"RdYlBu_r\")\n",
    "ax[2,2].pcolormesh(event.cam_4, cmap=\"RdYlBu_r\")"
   ]
  },
  {
   "cell_type": "markdown",
   "metadata": {},
   "source": [
    "# Load Model"
   ]
  },
  {
   "cell_type": "markdown",
   "metadata": {},
   "source": [
    "## Model 35: "
   ]
  },
  {
   "cell_type": "code",
   "execution_count": null,
   "metadata": {},
   "outputs": [],
   "source": [
    "include(\"../src/model-35/likelihood.jl\")\n",
    "include(\"../src/model-35/utill_model.jl\")\n",
    "include(\"../src/utill.jl\")"
   ]
  },
  {
   "cell_type": "code",
   "execution_count": null,
   "metadata": {},
   "outputs": [],
   "source": [
    "β1= 0.015\n",
    "β2 = 0.0077\n",
    "β3 = 0.0058 \n",
    "\n",
    "prior = NamedTupleDist(\n",
    "    tr_size = [truncated(Normal(0.2, 0.04), 0.05, 0.20), truncated(Normal(0.2, 0.04), 0.05, 0.20)],\n",
    "    ang_spr = [truncated(Normal(4.0, 2.0), 3.0, 6.0), truncated(Normal(4.0, 2.0), 3.0, 6.0)],\n",
    "    waist = [truncated(Normal(2.9, 0.03), 2.65, 3.3)],\n",
    "    algmx = [23.0 .. 48, 23.0 .. 48.0, 10.0 .. 30.0, 23.0 .. 48.0],\n",
    "    algmy = [23.0 .. 48, 23.0 .. 48.0, 10.0 .. 30.0, 23.0 .. 48.0],\n",
    "    cam4_ped = 4.0 .. 40.0,\n",
    "    cam4_light_fluct = 1.0 .. 3.0,\n",
    "    cam4_light_amp = 1.6 .. 9.9, \n",
    "    resx = [1.0, 1.0, 1.0], \n",
    "    resy = [1.0, 1.0, 1.0], \n",
    "    cam4_resx = truncated(Normal(3, 1.5), 0, Inf),\n",
    "    cam4_resy = truncated(Normal(3, 1.5), 0, Inf),\n",
    "    psx = [27.1, 21.6, 114.0], # 31, 32, 33\n",
    "    psy = [30.5, 23.4, 125.0], # 34, 35, 36\n",
    "    cam4_psx = 121.8, # 37\n",
    "    cam4_psy = 120.0, # 38\n",
    "    light_amp  = [1.0 .. 13.0 , 1.0 .. 17.0, 1.0 .. 5.0], # 1.0 .. 5.0\n",
    "    s_cam = [0.0, 1.478, 15.026, 23.1150],\n",
    "); \n"
   ]
  },
  {
   "cell_type": "markdown",
   "metadata": {},
   "source": [
    "## Model 38: "
   ]
  },
  {
   "cell_type": "code",
   "execution_count": null,
   "metadata": {},
   "outputs": [],
   "source": [
    "# include(\"../src/model-38/likelihood.jl\")\n",
    "# include(\"../src/model-38/utill_model.jl\")\n",
    "# include(\"../src/utill.jl\")"
   ]
  },
  {
   "cell_type": "code",
   "execution_count": null,
   "metadata": {},
   "outputs": [],
   "source": [
    "# β1= 0.015\n",
    "# β2 = 0.0077\n",
    "# β3 = 0.0058 \n",
    "\n",
    "# prior = NamedTupleDist(\n",
    "#     tr_size = [truncated(Normal(0.2, 0.04), 0.08, 0.25), truncated(Normal(0.2, 0.04), 0.08, 0.25)],\n",
    "#     ang_spr = [truncated(Normal(4.0, 2.0), 4.0, 7.0), truncated(Normal(4.0, 2.0), 4.0, 7.0)],\n",
    "#     ang_spr_2 = [truncated(Normal(4.0, 2.0), 1.0, 3.5), truncated(Normal(4.0, 2.0), 1.0, 3.5)],\n",
    "#     mixt_pow =  0.50 .. 1.0 ,\n",
    "#     waist = [truncated(Normal(2.9, 0.03), 2.65, 3.3)],\n",
    "#     algmx = [23.0 .. 48, 23.0 .. 48.0, 10.0 .. 30.0, 23.0 .. 48.0],\n",
    "#     algmy = [23.0 .. 48, 23.0 .. 48.0, 10.0 .. 30.0, 23.0 .. 48.0],\n",
    "#     cam4_ped = 4.0 .. 40.0,\n",
    "#     cam4_light_fluct = 1.0 .. 3.0,\n",
    "#     cam4_light_amp = 1.6 .. 9.9, \n",
    "#     resx = [trunc_norm(1, 0.5), trunc_norm(2, 1), trunc_norm(1, 0.5)], # 23, 24, 25, \n",
    "#     resy = [trunc_norm(1, 0.5), trunc_norm(2, 1), trunc_norm(1, 0.5)], # 26,27, 28, \n",
    "#     cam4_resx = trunc_norm(3, 1.5), # 29, \n",
    "#     cam4_resy = trunc_norm(3, 1.5), # 30\n",
    "#     psx = [trunc_norm(27.1, 27.1*β1), trunc_norm(21.6, 21.6*β1), trunc_norm(114.0, 114.0*β2)], # 31, 32, 33\n",
    "#     psy = [trunc_norm(30.5, 30.5*β1), trunc_norm(23.4, 23.4*β1), trunc_norm(125.0, 125.0*β2)], # 34, 35, 36\n",
    "#     cam4_psx = trunc_norm(121.8, 121.8*β3), # 37\n",
    "#     cam4_psy = trunc_norm(120.0, 120.0*β3), # 38\n",
    "#     light_amp  = [1.0 .. 13.0 , 1.0 .. 17.0, 1.0 .. 5.0], # 1.0 .. 5.0\n",
    "#     s_cam = [0.0, 1.478, 15.026, 23.1150],\n",
    "# ) ;\n",
    "\n",
    "# prior = NamedTupleDist(\n",
    "#     tr_size = [truncated(Normal(0.2, 0.04), 0.06, 0.20), truncated(Normal(0.2, 0.04), 0.06, 0.20)],\n",
    "#     ang_spr = [truncated(Normal(4.0, 2.0), 4.0, 7.0), truncated(Normal(4.0, 2.0), 4.0, 7.0)],\n",
    "#     ang_spr_2 = [truncated(Normal(4.0, 2.0), 1.0, 3.5), truncated(Normal(4.0, 2.0), 1.0, 3.5)],\n",
    "#     mixt_pow =  0.50 .. 1.0 ,\n",
    "#     waist = [truncated(Normal(2.9, 0.03), 2.65, 3.3)],\n",
    "#     algmx = [23.0 .. 48, 23.0 .. 48.0, 10.0 .. 30.0, 23.0 .. 48.0],\n",
    "#     algmy = [23.0 .. 48, 23.0 .. 48.0, 10.0 .. 30.0, 23.0 .. 48.0],\n",
    "#     cam4_ped = 4.0 .. 40.0,\n",
    "#     cam4_light_fluct = 2.0,\n",
    "#     cam4_light_amp = 1.6 .. 9.9, \n",
    "#     resx = [1, 1, 1], # 23, 24, 25, \n",
    "#     resy = [1, 1, 1], # 26,27, 28, \n",
    "#     cam4_resx = truncated(Normal(3, 1.5), 0, Inf),\n",
    "#     cam4_resy = truncated(Normal(3, 1.5), 0, Inf), \n",
    "#     psx = [27.1, 21.6, 114.0], # 31, 32, 33\n",
    "#     psy = [30.5, 23.4, 125.0], # 34, 35, 36\n",
    "#     cam4_psx = 121.8, # 37\n",
    "#     cam4_psy = 120.0, # 38\n",
    "#     light_amp  = [1.0 .. 13.0 , 1.0 .. 17.0, 1.0 .. 5.0], # 1.0 .. 5.0\n",
    "#     s_cam = [0.0, 1.478, 15.026, 23.1150],\n",
    "# ) ;"
   ]
  },
  {
   "cell_type": "markdown",
   "metadata": {},
   "source": [
    "## Model 41: "
   ]
  },
  {
   "cell_type": "code",
   "execution_count": null,
   "metadata": {},
   "outputs": [],
   "source": [
    "# include(\"../src/model-41/likelihood.jl\")\n",
    "# include(\"../src/model-41/utill_model.jl\")\n",
    "# include(\"../src/utill.jl\")"
   ]
  },
  {
   "cell_type": "code",
   "execution_count": null,
   "metadata": {},
   "outputs": [],
   "source": [
    "# β1= 0.015\n",
    "# β2 = 0.0077\n",
    "# β3 = 0.0058 \n",
    "\n",
    "# prior = NamedTupleDist(\n",
    "#         tr_size = [truncated(Normal(0.2, 0.04), 0.03, 0.16), truncated(Normal(0.2, 0.04), 0.03, 0.16)],\n",
    "#         tr_size_2 = [truncated(Normal(0.2, 0.04), 0.03, 0.16), truncated(Normal(0.2, 0.04), 0.03, 0.16)],\n",
    "#         ang_spr = [truncated(Normal(4.0, 2.0), 4.0, 7.0), truncated(Normal(4.0, 2.0), 4.0, 7.0)],\n",
    "#         ang_spr_2 = [truncated(Normal(4.0, 2.0), 1.0, 4.0), truncated(Normal(4.0, 2.0), 1.0, 4.0)],\n",
    "#         mixt_pow =  0.30 .. 1.0 ,\n",
    "#         waist = [truncated(Normal(2.9, 0.03), 2.65, 3.5)],\n",
    "#         waist_2 = [truncated(Normal(2.9, 0.03), 2.65, 3.5)], # 11\n",
    "#         algmx = [23.0 .. 48, 23.0 .. 48.0, 10.0 .. 30.0, 23.0 .. 48.0],\n",
    "#         algmy = [23.0 .. 48, 23.0 .. 48.0, 10.0 .. 30.0, 23.0 .. 48.0],\n",
    "#         cam4_ped = 4.0 .. 40.0,\n",
    "#         cam4_light_fluct =  1.0 .. 3.0,\n",
    "#         cam4_light_amp = 1.6 .. 9.9, \n",
    "#         resx = [1, 1, 1], # 23, 24, 25, \n",
    "#         resy = [1, 1, 1], # 26,27, 28, \n",
    "#         cam4_resx = truncated(Normal(3, 1.5), 0, Inf),\n",
    "#         cam4_resy = truncated(Normal(3, 1.5), 0, Inf), \n",
    "#         psx = [27.1, 21.6, 114.0], # 31, 32, 33\n",
    "#         psy = [30.5, 23.4, 125.0], # 34, 35, 36\n",
    "#         cam4_psx = 121.8, # 37\n",
    "#         cam4_psy = 120.0, # 38\n",
    "#         light_amp  = [1.0 .. 13.0 , 1.0 .. 17.0, 1.0 .. 5.0], # 1.0 .. 5.0\n",
    "#         s_cam = [0.0, 1.478, 15.026, 23.1150],\n",
    "#     );\n",
    "\n"
   ]
  },
  {
   "cell_type": "markdown",
   "metadata": {},
   "source": [
    "# MCMC settings: "
   ]
  },
  {
   "cell_type": "code",
   "execution_count": null,
   "metadata": {},
   "outputs": [],
   "source": [
    "\"\"\"\n",
    "    Log-Likelihood of the beamline (4 cameras included)\n",
    "\"\"\"\n",
    "function log_lik_ndiff(;  \n",
    "    e = event,\n",
    "    cv_mat = conv_matrices,\n",
    "    func = conv_tabl_discrete,\n",
    "    cv_1 = cv_mat.cam_1,\n",
    "    cv_2 = cv_mat.cam_2,\n",
    "    cv_3 = cv_mat.cam_3,\n",
    "    n_threads = Threads.nthreads(),\n",
    "    )\n",
    "    \n",
    "    return params -> begin \n",
    "        ll = 0.0\n",
    "        ll += likelihood_cam13(params, e.cam_1, e.population, cv_1, func, 1, n_threads=n_threads)\n",
    "        ll += likelihood_cam13(params, e.cam_2, e.population, cv_2, func, 2, n_threads=n_threads)\n",
    "        ll += likelihood_cam13(params, e.cam_3, e.population, cv_3, func, 3, n_threads=n_threads)\n",
    "        ll += likelihood_cam4(params, e.cam_4, e.population, 4, n_threads=n_threads)\n",
    "        return LogDVal(ll)\n",
    "    end\n",
    "        \n",
    "end\n",
    "\n",
    "function log_lik_diff(;  \n",
    "    e = event,\n",
    "    cv_mat = conv_matrices,\n",
    "    func = conv_tabl_cont,\n",
    "    cv_1 = exp.(cv_mat.cam_1),\n",
    "    cv_2 = exp.(cv_mat.cam_2),\n",
    "    cv_3 = exp.(cv_mat.cam_3),\n",
    "    n_threads = Threads.nthreads(),\n",
    "    )\n",
    "    \n",
    "    return params -> begin \n",
    "        ll = 0.0\n",
    "        ll += likelihood_cam13(params, e.cam_1, e.population, cv_1, func, 1, n_threads=n_threads)\n",
    "        ll += likelihood_cam13(params, e.cam_2, e.population, cv_2, func, 2, n_threads=n_threads)\n",
    "        ll += likelihood_cam13(params, e.cam_3, e.population, cv_3, func, 3, n_threads=n_threads)\n",
    "        ll += likelihood_cam4(params, e.cam_4, e.population, 4, n_threads=n_threads)\n",
    "        \n",
    "        return LogDVal(ll)\n",
    "    end\n",
    "    \n",
    "end\n",
    "\n",
    "# log_likelihood = log_lik_diff()\n",
    "\n",
    "log_likelihood = log_lik_ndiff()"
   ]
  },
  {
   "cell_type": "code",
   "execution_count": null,
   "metadata": {},
   "outputs": [],
   "source": [
    "# posterior = PosteriorDensity(log_likelihood, prior)\n",
    "\n",
    "# tuning = AdaptiveMHTuning(\n",
    "#     λ = 0.5,\n",
    "#     α = ClosedInterval(0.15,0.25),\n",
    "#     β = 1.5,\n",
    "#     c = ClosedInterval(1e-4,1e2),\n",
    "#     r = 0.5,\n",
    "# )\n",
    "\n",
    "# convergence = BrooksGelmanConvergence(\n",
    "#     threshold = 1.1,\n",
    "#     corrected = false\n",
    "# )\n",
    "\n",
    "# init = MCMCChainPoolInit(\n",
    "#     init_tries_per_chain = ClosedInterval(50,150),\n",
    "#     max_nsamples_init = 500,\n",
    "#     max_nsteps_init = 500,\n",
    "#     max_time_init = Inf\n",
    "# )\n",
    "\n",
    "# burnin = MCMCMultiCycleBurnin(\n",
    "#     max_nsamples_per_cycle = 10000,\n",
    "#     max_nsteps_per_cycle = 10000,\n",
    "#     max_time_per_cycle = Inf,\n",
    "#     max_ncycles = 130\n",
    "# )\n",
    "\n",
    "# nsamples = 1*10^5\n",
    "# nchains = 4\n",
    "\n",
    "# sampler = MetropolisHastings(tuning=tuning,)\n",
    "\n",
    "# algorithm = MCMCSampling(sampler=sampler, \n",
    "#     nchains=nchains, \n",
    "#     init=init, \n",
    "#     burnin=burnin, \n",
    "#     convergence=convergence\n",
    "# );"
   ]
  },
  {
   "cell_type": "code",
   "execution_count": null,
   "metadata": {
    "jupyter": {
     "source_hidden": true
    }
   },
   "outputs": [],
   "source": [
    "# log_likelihood(param_truth)\n",
    "# @benchmark log_likelihood(param_truth)"
   ]
  },
  {
   "cell_type": "code",
   "execution_count": null,
   "metadata": {},
   "outputs": [],
   "source": [
    "posterior = PosteriorDensity(log_likelihood, prior)\n",
    "\n",
    "tuning = AdaptiveMHTuning(\n",
    "    λ = 0.5,\n",
    "    α = ClosedInterval(0.15,0.25),\n",
    "    β = 1.5,\n",
    "    c = ClosedInterval(1e-4,1e2),\n",
    "    r = 0.5,\n",
    ")\n",
    "\n",
    "mcmcalgo = MetropolisHastings(\n",
    "    weighting = RepetitionWeighting(),\n",
    "    tuning = tuning\n",
    ")\n",
    "\n",
    "rng = Philox4x()\n",
    "\n",
    "init = MCMCChainPoolInit(\n",
    "    init_tries_per_chain = 50 .. 150,\n",
    "    nsteps_init = 1000\n",
    ")\n",
    "\n",
    "burnin = MCMCMultiCycleBurnin(\n",
    "    max_ncycles = 100,\n",
    "    nsteps_per_cycle = 10000\n",
    ")\n",
    "\n",
    "nsamples = 1*10^5\n",
    "nchains = 4\n",
    "\n",
    "convergence = BrooksGelmanConvergence();"
   ]
  },
  {
   "cell_type": "code",
   "execution_count": null,
   "metadata": {},
   "outputs": [],
   "source": [
    "@time samples_tot = bat_sample(\n",
    "    rng, posterior,\n",
    "    MCMCSampling(\n",
    "        mcalg = mcmcalgo,\n",
    "        trafo = NoDensityTransform(),\n",
    "        nchains = nchains,\n",
    "        nsteps = nsamples,\n",
    "        init = init,\n",
    "        burnin = burnin,\n",
    "        convergence = convergence,\n",
    "        strict = false,\n",
    "#         store_burnin = false,\n",
    "#         nonzero_weights = true,\n",
    "    )\n",
    ");"
   ]
  },
  {
   "cell_type": "code",
   "execution_count": null,
   "metadata": {},
   "outputs": [],
   "source": [
    "samples = samples_tot.result;"
   ]
  },
  {
   "cell_type": "code",
   "execution_count": null,
   "metadata": {},
   "outputs": [],
   "source": [
    "bat_write(\"results.h5\", samples)"
   ]
  },
  {
   "cell_type": "code",
   "execution_count": null,
   "metadata": {},
   "outputs": [],
   "source": []
  },
  {
   "cell_type": "code",
   "execution_count": null,
   "metadata": {},
   "outputs": [],
   "source": [
    "minimum(bat_eff_sample_size(unshaped.(samples)).result)"
   ]
  },
  {
   "cell_type": "code",
   "execution_count": null,
   "metadata": {},
   "outputs": [],
   "source": [
    "iter = 10^4\n",
    "iter_warmup = 300\n",
    "chains = 4;\n",
    "\n",
    "metric = BAT.DiagEuclideanMetric()\n",
    "integrator = BAT.LeapfrogIntegrator()\n",
    "proposal = BAT.NUTS(:MultinomialTS, :ClassicNoUTurn)\n",
    "adaptor = BAT.StanHMCAdaptor(0.8, iter_warmup)\n",
    "mcmcalgo = HamiltonianMC(metric, ForwardDiff, integrator, proposal, adaptor)\n",
    "\n"
   ]
  },
  {
   "cell_type": "code",
   "execution_count": null,
   "metadata": {},
   "outputs": [],
   "source": [
    "size(flatview(unshaped.(samples.v)))"
   ]
  },
  {
   "cell_type": "code",
   "execution_count": null,
   "metadata": {},
   "outputs": [],
   "source": [
    "plot(flatview(unshaped.(samples.v))[3,:])"
   ]
  },
  {
   "cell_type": "code",
   "execution_count": null,
   "metadata": {},
   "outputs": [],
   "source": [
    "plt.imshow(log.(abs.(cov(flatview(unshaped.(samples.v))'))), cmap=\"Blues\")"
   ]
  },
  {
   "cell_type": "code",
   "execution_count": null,
   "metadata": {},
   "outputs": [],
   "source": [
    "# BAT.bat_write(\"../data/sampling_results/Tmp-Mixture-Model-38-2/mm-38-hc-2-fixed-lf.hdf5\", unshaped.(samples))\n",
    "\n",
    "# BAT.bat_write(\"../data/sampling_results/Benchmark-8/samples-41.hdf5\", unshaped.(samples))"
   ]
  },
  {
   "cell_type": "code",
   "execution_count": null,
   "metadata": {},
   "outputs": [],
   "source": [
    "#  27.1, 21.6, 114.0, 30.5, 23.4, 125.0, 121.8, 120.0"
   ]
  },
  {
   "cell_type": "code",
   "execution_count": null,
   "metadata": {},
   "outputs": [],
   "source": [
    "mode(samples)[1]"
   ]
  },
  {
   "cell_type": "code",
   "execution_count": null,
   "metadata": {},
   "outputs": [],
   "source": [
    "bat_marginalmode(samples).result"
   ]
  },
  {
   "cell_type": "code",
   "execution_count": null,
   "metadata": {},
   "outputs": [],
   "source": [
    "mean(samples)[1]"
   ]
  },
  {
   "cell_type": "code",
   "execution_count": null,
   "metadata": {},
   "outputs": [],
   "source": [
    "std(samples)[1]"
   ]
  },
  {
   "cell_type": "code",
   "execution_count": null,
   "metadata": {},
   "outputs": [],
   "source": []
  },
  {
   "cell_type": "code",
   "execution_count": null,
   "metadata": {},
   "outputs": [],
   "source": [
    "dims = [1,2,3,4,5,6,7,8,9,10,11]\n",
    "# dims = [1,2,3,4,5,]\n",
    "names = [1,2,3,4,5,6,7,8,9,10, 11]\n",
    "levels = [0.01, 0.55, 0.9, 0.95,  1,]\n",
    "levels = [0.001, 0.98, 1,]\n",
    "figsize = (10,10)\n",
    "n_bins = 20\n",
    "\n",
    "corner_plots(samples, dims, names, levels_quantiles = levels, figsize=figsize, N_bins=n_bins)"
   ]
  },
  {
   "cell_type": "code",
   "execution_count": null,
   "metadata": {},
   "outputs": [],
   "source": [
    "dims = [10,11,]\n",
    "names = [10,11,]\n",
    "levels = [0.1, 0.8, 0.9, 0.95,  1,]\n",
    "levels = [0.1,  1,]\n",
    "figsize = (6,6)\n",
    "n_bins = 20\n",
    "\n",
    "corner_plots(samples, dims, names, levels_quantiles = levels, figsize=figsize, N_bins=n_bins)"
   ]
  },
  {
   "cell_type": "code",
   "execution_count": null,
   "metadata": {},
   "outputs": [],
   "source": [
    "dims = [14,15,16,]\n",
    "names = [14,15,16,]\n",
    "levels = [0.1, 0.8, 0.9, 0.95,  1,]\n",
    "# levels = [0.1, 0.5, 1,]\n",
    "figsize = (6,6)\n",
    "n_bins = 20\n",
    "\n",
    "corner_plots(samples, dims, names, levels_quantiles = levels, figsize=figsize, N_bins=n_bins)"
   ]
  },
  {
   "cell_type": "code",
   "execution_count": null,
   "metadata": {},
   "outputs": [],
   "source": [
    "# res\n",
    "\n",
    "dims = [17,18,19,20,21,22,23,24]\n",
    "names = [17,18,19,20,21, 22, 23, 24]\n",
    "levels = [0.1, 0.5, 0.9, 0.95,  1,]\n",
    "levels = [0.1, 0.9, 1,]\n",
    "figsize = (6,6)\n",
    "n_bins = 20\n",
    "\n",
    "corner_plots(samples, dims, names, levels_quantiles = levels, figsize=figsize, N_bins=n_bins)"
   ]
  },
  {
   "cell_type": "code",
   "execution_count": null,
   "metadata": {},
   "outputs": [],
   "source": [
    "#pix\n",
    "\n",
    "dims = [25,26,27,28,29, 30, 31, 32]\n",
    "names = [25,26,27,28,29, 30, 31, 32]\n",
    "levels = [0.1, 0.8, 0.9, 0.95, 1,]\n",
    "levels = [0.1, 0.5, 1,]\n",
    "figsize = (8,8)\n",
    "n_bins = 20\n",
    "\n",
    "corner_plots(samples, dims, names, levels_quantiles = levels, figsize=figsize, N_bins=n_bins)"
   ]
  },
  {
   "cell_type": "code",
   "execution_count": null,
   "metadata": {},
   "outputs": [],
   "source": [
    "dims = [33, 34, 35]\n",
    "names = [33, 34, 35]\n",
    "levels = [0.1, 0.8, 0.9, 0.95, 1,]\n",
    "# levels = [0.1, 0.5, 1,]\n",
    "figsize = (6,6)\n",
    "n_bins = 20\n",
    "\n",
    "corner_plots(samples, dims, names, levels_quantiles = levels, figsize=figsize, N_bins=n_bins)"
   ]
  },
  {
   "cell_type": "code",
   "execution_count": null,
   "metadata": {},
   "outputs": [],
   "source": [
    "colors_array = [\"C0\", \"C1\"]\n",
    "labels_array = [\"Mode\", \"Mean\"]\n",
    "params_array = [mode(samples)[1], mean(samples)[1]]\n",
    "\n",
    "plot_cam_crossections(params_array, event, conv_matrices, colors = colors_array, labels=labels_array)"
   ]
  },
  {
   "cell_type": "code",
   "execution_count": null,
   "metadata": {},
   "outputs": [],
   "source": [
    "colors_array = [\"C0\", \"C1\"]\n",
    "labels_array = [\"Mode\", \"Mean\"]\n",
    "params_array = [mode(samples)[1], mean(samples)[1]]\n",
    "\n",
    "plot_cam_integral(params_array, event, conv_matrices, colors = colors_array, labels=labels_array)"
   ]
  },
  {
   "cell_type": "code",
   "execution_count": null,
   "metadata": {},
   "outputs": [],
   "source": [
    "params_array = [mode(samples)[1], mean(samples)[1]]\n",
    "colors_array = [\"gray\", \"C0\", \"C1\"]\n",
    "labels_array = [\"Truth\", \"Mode\", \"Mean\"]\n",
    "\n",
    "plot_envelop_trajectory(params_array,  labels = labels_array, colors=colors_array)"
   ]
  },
  {
   "cell_type": "code",
   "execution_count": null,
   "metadata": {},
   "outputs": [],
   "source": [
    "images = load(\"../data/experiment/dataset_2/m1/images.jld2\")\n",
    "event_ns = (\n",
    "    cam_1 = images[\"cam_1\"][event_number,:,:],\n",
    "    cam_2 = images[\"cam_2\"][event_number,:,:],\n",
    "    cam_3 = images[\"cam_3\"][event_number,:,:],\n",
    "    cam_4 = images[\"cam_4\"][event_number,:,:],\n",
    "    population = images[\"charge\"][event_number,:][1],\n",
    ");"
   ]
  },
  {
   "cell_type": "code",
   "execution_count": null,
   "metadata": {},
   "outputs": [],
   "source": [
    "plot_projections(conv_matrices, event_ns, event, params_array[1], isnontr = true)"
   ]
  },
  {
   "cell_type": "code",
   "execution_count": null,
   "metadata": {},
   "outputs": [],
   "source": [
    "# try model 38 with light fluctuations constant on the IS2\n",
    "# fixe resolution in the IS2 amera"
   ]
  },
  {
   "cell_type": "code",
   "execution_count": null,
   "metadata": {},
   "outputs": [],
   "source": []
  },
  {
   "cell_type": "code",
   "execution_count": null,
   "metadata": {},
   "outputs": [],
   "source": []
  },
  {
   "cell_type": "code",
   "execution_count": null,
   "metadata": {},
   "outputs": [],
   "source": []
  },
  {
   "cell_type": "code",
   "execution_count": null,
   "metadata": {},
   "outputs": [],
   "source": []
  },
  {
   "cell_type": "code",
   "execution_count": null,
   "metadata": {},
   "outputs": [],
   "source": []
  }
 ],
 "metadata": {
  "kernelspec": {
   "display_name": "Julia 1.5.3",
   "language": "julia",
   "name": "julia-1.5"
  },
  "language_info": {
   "file_extension": ".jl",
   "mimetype": "application/julia",
   "name": "julia",
   "version": "1.5.3"
  }
 },
 "nbformat": 4,
 "nbformat_minor": 4
}
