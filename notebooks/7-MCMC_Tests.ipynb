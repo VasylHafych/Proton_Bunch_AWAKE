{
 "cells": [
  {
   "cell_type": "code",
   "execution_count": 1,
   "metadata": {},
   "outputs": [],
   "source": [
    "using JLD2\n",
    "using FileIO\n",
    "using PyPlot\n",
    "using Statistics\n",
    "using StatsBase \n",
    "using Distributions\n",
    "using LinearAlgebra\n",
    "using HDF5\n",
    "using BenchmarkTools"
   ]
  },
  {
   "cell_type": "code",
   "execution_count": 2,
   "metadata": {},
   "outputs": [],
   "source": [
    "# ENV[\"JULIA_DEBUG\"] = \"BAT\""
   ]
  },
  {
   "cell_type": "code",
   "execution_count": 3,
   "metadata": {},
   "outputs": [],
   "source": [
    "using IntervalSets\n",
    "using Random, ArraysOfArrays\n",
    "using ValueShapes\n",
    "using Measurements\n",
    "using BenchmarkTools"
   ]
  },
  {
   "cell_type": "code",
   "execution_count": 4,
   "metadata": {},
   "outputs": [],
   "source": [
    "# using Revise\n",
    "using BAT "
   ]
  },
  {
   "cell_type": "markdown",
   "metadata": {},
   "source": [
    "# Low `p` Population: "
   ]
  },
  {
   "cell_type": "code",
   "execution_count": 5,
   "metadata": {},
   "outputs": [],
   "source": [
    "conv_mat = load(\"../data/experiment/dataset_2/m1/conv-matrix-upd-1.jld2\")\n",
    "\n",
    "conv_matrices = (\n",
    "    cam_1 = conv_mat[\"cam_1\"],\n",
    "    cam_2 = conv_mat[\"cam_2\"],\n",
    "    cam_3 = conv_mat[\"cam_3\"],\n",
    "    cam_4 = conv_mat[\"cam_4\"], \n",
    ")\n",
    "\n",
    "images = load(\"../data/experiment/dataset_2/m1/images-satur.jld2\");\n",
    "event_number = 343\n",
    "\n",
    "# Small Charge: Ev_1_3 = 343, Ev_1_1 = 137, Ev_1_2 = 9\n",
    "\n",
    "event = (\n",
    "    cam_1 = images[\"cam_1\"][event_number,:,:],\n",
    "    cam_2 = images[\"cam_2\"][event_number,:,:],\n",
    "    cam_3 = images[\"cam_3\"][event_number,:,:],\n",
    "    cam_4 = images[\"cam_4\"][event_number,:,:],\n",
    "    population = images[\"charge\"][event_number,:][1],\n",
    ");"
   ]
  },
  {
   "cell_type": "markdown",
   "metadata": {},
   "source": [
    "# High `p` Population: "
   ]
  },
  {
   "cell_type": "code",
   "execution_count": null,
   "metadata": {},
   "outputs": [],
   "source": [
    "conv_mat = load(\"../data/experiment/dataset_2/m2/conv-matrix-upd-1.jld2\")\n",
    "\n",
    "conv_matrices = (\n",
    "    cam_1 = conv_mat[\"cam_1\"],\n",
    "    cam_2 = conv_mat[\"cam_2\"],\n",
    "    cam_3 = conv_mat[\"cam_3\"],\n",
    "    cam_4 = conv_mat[\"cam_4\"], \n",
    ") \n",
    "\n",
    "images = load(\"../data/experiment/dataset_2/m2/images-satur.jld2\");\n",
    "event_number = 2\n",
    "\n",
    "# Large Charge: Ev_2_2 = 2, Ev_2_1 = 311, Ev_2_3 = 440\n",
    "\n",
    "event = (\n",
    "    cam_1 = images[\"cam_1\"][event_number,:,:],\n",
    "    cam_2 = images[\"cam_2\"][event_number,:,:],\n",
    "    cam_3 = images[\"cam_3\"][event_number,:,:],\n",
    "    cam_4 = images[\"cam_4\"][event_number,:,:],\n",
    "    population = images[\"charge\"][event_number,:][1],\n",
    ");\n"
   ]
  },
  {
   "cell_type": "code",
   "execution_count": null,
   "metadata": {},
   "outputs": [],
   "source": [
    "fig, ax = plt.subplots(2,2, figsize=(7,7))\n",
    "fig.subplots_adjust(hspace=0.2, wspace=0.2)\n",
    "\n",
    "ax[1,1].pcolormesh(event.cam_1, cmap=\"RdYlBu_r\")\n",
    "ax[1,2].pcolormesh(event.cam_2, cmap=\"RdYlBu_r\")\n",
    "ax[2,1].pcolormesh(event.cam_3, cmap=\"RdYlBu_r\")\n",
    "ax[2,2].pcolormesh(event.cam_4, cmap=\"RdYlBu_r\")"
   ]
  },
  {
   "cell_type": "code",
   "execution_count": null,
   "metadata": {},
   "outputs": [],
   "source": [
    "include(\"../src/likelihood.jl\")\n",
    "include(\"../src/utill.jl\")"
   ]
  },
  {
   "cell_type": "code",
   "execution_count": null,
   "metadata": {},
   "outputs": [],
   "source": [
    "\"\"\"\n",
    "    Log-Likelihood of the beamline (4 cameras included)\n",
    "\"\"\"\n",
    "function log_lik_ndiff(;  \n",
    "    e = event,\n",
    "    cv_mat = conv_matrices,\n",
    "    func = conv_tabl_discrete,\n",
    "    cv_1 = cv_mat.cam_1,\n",
    "    cv_2 = cv_mat.cam_2,\n",
    "    cv_3 = cv_mat.cam_3,\n",
    "    n_threads = Threads.nthreads(),\n",
    "    )\n",
    "    \n",
    "    return params -> begin \n",
    "        ll = 0.0\n",
    "        ll += likelihood_cam13(params, e.cam_1, e.population, cv_1, func, 1, n_threads=n_threads)\n",
    "        ll += likelihood_cam13(params, e.cam_2, e.population, cv_2, func, 2, n_threads=n_threads)\n",
    "        ll += likelihood_cam13(params, e.cam_3, e.population, cv_3, func, 3, n_threads=n_threads)\n",
    "        ll += likelihood_cam4(params, e.cam_4, e.population, 4, n_threads=n_threads)\n",
    "        return LogDVal(ll)\n",
    "    end\n",
    "        \n",
    "end\n",
    "\n",
    "function log_lik_diff(;  \n",
    "    e = event,\n",
    "    cv_mat = conv_matrices,\n",
    "    func = conv_tabl_cont,\n",
    "    cv_1 = exp.(cv_mat.cam_1),\n",
    "    cv_2 = exp.(cv_mat.cam_2),\n",
    "    cv_3 = exp.(cv_mat.cam_3),\n",
    "    n_threads = Threads.nthreads(),\n",
    "    )\n",
    "    \n",
    "    return params -> begin \n",
    "        ll = 0.0\n",
    "        ll += likelihood_cam13(params, e.cam_1, e.population, cv_1, func, 1, n_threads=n_threads)\n",
    "        ll += likelihood_cam13(params, e.cam_2, e.population, cv_2, func, 2, n_threads=n_threads)\n",
    "        ll += likelihood_cam13(params, e.cam_3, e.population, cv_3, func, 3, n_threads=n_threads)\n",
    "        ll += likelihood_cam4(params, e.cam_4, e.population, 4, n_threads=n_threads)\n",
    "        \n",
    "        return LogDVal(ll)\n",
    "    end\n",
    "    \n",
    "end\n",
    "\n",
    "# log_likelihood = log_lik_diff()\n",
    "\n",
    "log_likelihood = log_lik_ndiff()"
   ]
  },
  {
   "cell_type": "code",
   "execution_count": null,
   "metadata": {},
   "outputs": [],
   "source": [
    "param_truth = (\n",
    "        tr_size = [0.2, 0.2],\n",
    "        ang_spr = [4.0, 4.0],\n",
    "        waist = [2.9,],\n",
    "        algmx = [35,35,20,35], \n",
    "        algmy = [35,35,20,35], \n",
    "        cam4_ped = 34.3,\n",
    "        cam4_light_fluct = 2.15,\n",
    "        cam4_light_amp = event.population*32.16870*10^-2,\n",
    "        resx = [0, 0, 0], \n",
    "        resy = [0, 0, 0], \n",
    "        cam4_resx = 0,\n",
    "        cam4_resy = 0,\n",
    "        psx = [27.1,21.6,114.], \n",
    "        psy = [30.5,23.4,125.],\n",
    "        cam4_psx = 90.9, #3*0.0303*10^3,\n",
    "        cam4_psy = 89.4, #3*0.0298*10^3,\n",
    "        light_amp  = [event.population*35.14744*10^-2, event.population*50.23506*10^-2, event.population*10.09664*10^-2],\n",
    "        s_cam = [0.0, 1.478, 15.026, 23.1150], \n",
    "    );"
   ]
  },
  {
   "cell_type": "code",
   "execution_count": null,
   "metadata": {},
   "outputs": [],
   "source": [
    "# β = 0.015\n",
    "\n",
    "β1 = 0.015\n",
    "β2 = 0.008\n",
    "β3 = 0.006\n",
    "\n",
    "# flat prior for the pixel size\n",
    "prior = NamedTupleDist(\n",
    "        tr_size = [truncated(Normal(0.2, 0.04), 0.08, 0.25), truncated(Normal(0.2, 0.04), 0.08, 0.25)],\n",
    "        ang_spr = [truncated(Normal(4.0, 2.0), 2.0, 6.0), truncated(Normal(4.0, 2.0), 2.0, 6.0)],\n",
    "        waist = [Normal(2.9, 0.03)],\n",
    "        algmx = [23.0 .. 48, 23.0 .. 48.0, 10.0 .. 30.0, 23.0 .. 48.0],\n",
    "        algmy = [23.0 .. 48, 23.0 .. 48.0, 10.0 .. 30.0, 23.0 .. 48.0],\n",
    "        cam4_ped = 4.0 .. 40.0,\n",
    "        cam4_light_fluct = 1.0 .. 3.0,\n",
    "        cam4_light_amp = 1.6 .. 9.9, \n",
    "        resx = [truncated(Normal(1, 0.5), 0, Inf), truncated(Normal(2, 1), 0, Inf), truncated(Normal(1, 0.5), 0, Inf)], \n",
    "        resy = [truncated(Normal(1, 0.5), 0, Inf), truncated(Normal(2, 1), 0, Inf), truncated(Normal(1, 0.5), 0, Inf)], \n",
    "        cam4_resx = truncated(Normal(3, 1.5), 0, Inf),\n",
    "        cam4_resy = truncated(Normal(3, 1.5), 0, Inf),\n",
    "        psx = [truncated(Normal(27.1, 27.1*β1), 0., Inf), truncated(Normal(21.6, 21.6*β1), 0., Inf), truncated(Normal(114.0, 114.0*β2), 0., Inf)], # pixels are in microns\n",
    "        psy = [truncated(Normal(30.5, 30.5*β1), 0., Inf), truncated(Normal(23.4, 23.4*β1), 0., Inf), truncated(Normal(125.0, 125.0*β2), 0., Inf)],\n",
    "        cam4_psx = truncated(Normal(121.8, 3*121.8*β3), 0., Inf), # original Pixel size (smaller) 91.0; Updated Pixel size (larger) 121.2\n",
    "        cam4_psy = truncated(Normal(120.0, 3*120.0*β3), 0., Inf), # original Pixel size (smaller) 89.4; Updated Pixel size (larger) 120.6\n",
    "        light_amp  = [1.0 .. 13.0 , 1.0 .. 17.0, 1.0 .. 5.0], # 1.0 .. 5.0\n",
    "        s_cam = [0.0, 1.478, 15.026, 23.1150],\n",
    "    ); # Large Charge\n",
    "\n",
    "# prior = NamedTupleDist(\n",
    "#         tr_size = [truncated(Normal(0.2, 0.04), 0.08, 0.25), truncated(Normal(0.2, 0.04), 0.08, 0.25)],\n",
    "#         ang_spr = [truncated(Normal(4.0, 2.0), 2.0, 6.0), truncated(Normal(4.0, 2.0), 2.0, 6.0)],\n",
    "#         waist = [Normal(2.9, 0.03)],\n",
    "#         algmx = [23.0 .. 48, 23.0 .. 48.0, 10.0 .. 30.0, 23.0 .. 48.0],\n",
    "#         algmy = [23.0 .. 48, 23.0 .. 48.0, 10.0 .. 30.0, 23.0 .. 48.0],\n",
    "#         cam4_ped = 4.0 .. 40.0,\n",
    "#         cam4_light_fluct = 1.0 .. 3.0,\n",
    "#         cam4_light_amp = 6.6 .. 9.9, \n",
    "#         resx = [truncated(Normal(1, 0.5), 0, Inf), truncated(Normal(1, 0.5), 0, Inf), truncated(Normal(1, 0.5), 0, Inf)], \n",
    "#         resy = [truncated(Normal(1, 0.5), 0, Inf), truncated(Normal(1, 0.5), 0, Inf), truncated(Normal(1, 0.5), 0, Inf)], \n",
    "#         cam4_resx = truncated(Normal(1, 0.5), 0, Inf),\n",
    "#         cam4_resy = truncated(Normal(1, 0.5), 0, Inf),\n",
    "#         psx = [truncated(Normal(27.1, 27.1*β), 0., Inf), truncated(Normal(21.6, 21.6*β), 0., Inf), truncated(Normal(114.0, 114.0*β), 0., Inf)], # pixels are in microns\n",
    "#         psy = [truncated(Normal(30.5, 30.5*β), 0., Inf), truncated(Normal(23.4, 23.4*β), 0., Inf), truncated(Normal(125.0, 125.0*β), 0., Inf)],\n",
    "#         cam4_psx = truncated(Normal(91.0, 91.0*β), 0., Inf), # original Pixel size (smaller) 91.0; Updated Pixel size (larger) 121.2\n",
    "#         cam4_psy = truncated(Normal(89.4, 89.4*β), 0., Inf), # original Pixel size (smaller) 89.4; Updated Pixel size (larger) 120.6\n",
    "#         light_amp  = [5.0 .. 13.0 , 8.0 .. 17.0, 1.25 .. 4.2], # 1.0 .. 5.0\n",
    "#         s_cam = [0.0, 1.478, 15.026, 23.1150],\n",
    "#     ); # Large Charge\n",
    "\n",
    "\n",
    "# prior = NamedTupleDist(\n",
    "#         tr_size = [truncated(Normal(0.2, 0.04), 0.08, 0.25), truncated(Normal(0.2, 0.04), 0.08, 0.25)],\n",
    "#         ang_spr = [truncated(Normal(4.0, 2.0), 2.6, 5.0), truncated(Normal(4.0, 2.0), 2.6, 5.0)], # changed prior range\n",
    "#         waist = [Normal(2.9, 0.03)],\n",
    "#         algmx = [23.0 .. 48, 23.0 .. 48.0, 10.0 .. 30.0, 23.0 .. 48.0],\n",
    "#         algmy = [23.0 .. 48, 23.0 .. 48.0, 10.0 .. 30.0, 23.0 .. 48.0],\n",
    "#         cam4_ped = 4.0 .. 40.0,\n",
    "#         cam4_light_fluct = 1.0 .. 3.0,\n",
    "#         cam4_light_amp = 1.6 .. 9.9, \n",
    "#         resx = [truncated(Normal(1, 0.5), 0, Inf), truncated(Normal(1, 0.5), 0, Inf), truncated(Normal(1, 0.5), 0, Inf)], \n",
    "#         resy = [truncated(Normal(1, 0.5), 0, Inf), truncated(Normal(1, 0.5), 0, Inf), truncated(Normal(1, 0.5), 0, Inf)], \n",
    "#         cam4_resx = truncated(Normal(1, 0.5), 0, Inf),\n",
    "#         cam4_resy = truncated(Normal(1, 0.5), 0, Inf),\n",
    "#         psx = [truncated(Normal(27.1, 27.1*β), 0., Inf), truncated(Normal(21.6, 21.6*β), 0., Inf), truncated(Normal(114.0, 114.0*β), 0., Inf)], # pixels are in microns\n",
    "#         psy = [truncated(Normal(30.5, 30.5*β), 0., Inf), truncated(Normal(23.4, 23.4*β), 0., Inf), truncated(Normal(125.0, 125.0*β), 0., Inf)],\n",
    "#         cam4_psx = truncated(Normal(91.0, 91.0*β), 0., Inf),\n",
    "#         cam4_psy = truncated(Normal(89.4, 89.4*β), 0., Inf),\n",
    "#         light_amp  = [1.0 .. 13.0 , 1.0 .. 17.0, 1.0 .. 5.0], # 1.0 .. 5.0\n",
    "#         s_cam = [0.0, 1.478, 15.026, 23.1150],\n",
    "#     ); # Small Charge\n",
    "\n",
    "\n"
   ]
  },
  {
   "cell_type": "code",
   "execution_count": null,
   "metadata": {},
   "outputs": [],
   "source": [
    "posterior = PosteriorDensity(log_likelihood, prior)\n",
    "\n",
    "tuning = AdaptiveMHTuning(\n",
    "    λ = 0.5,\n",
    "    α = ClosedInterval(0.15,0.25),\n",
    "    β = 1.5,\n",
    "    c = ClosedInterval(1e-4,1e2),\n",
    "    r = 0.5,\n",
    ")\n",
    "\n",
    "convergence = BrooksGelmanConvergence(\n",
    "    threshold = 1.1,\n",
    "    corrected = false\n",
    ")\n",
    "\n",
    "init = MCMCChainPoolInit(\n",
    "    init_tries_per_chain = ClosedInterval(50,150),\n",
    "    max_nsamples_init = 500,\n",
    "    max_nsteps_init = 500,\n",
    "    max_time_init = Inf\n",
    ")\n",
    "\n",
    "burnin = MCMCMultiCycleBurnin(\n",
    "    max_nsamples_per_cycle = 6000,\n",
    "    max_nsteps_per_cycle = 6000,\n",
    "    max_time_per_cycle = Inf,\n",
    "    max_ncycles = 130\n",
    ")\n",
    "\n",
    "nsamples = 3*10^5\n",
    "nchains = 4\n",
    "\n",
    "sampler = MetropolisHastings(tuning=tuning,)\n",
    "\n",
    "algorithm = MCMCSampling(sampler=sampler, \n",
    "    nchains=nchains, \n",
    "    init=init, \n",
    "    burnin=burnin, \n",
    "    convergence=convergence\n",
    ");"
   ]
  },
  {
   "cell_type": "code",
   "execution_count": null,
   "metadata": {},
   "outputs": [],
   "source": [
    "# log_likelihood(param_truth)\n",
    "# @benchmark log_likelihood(param_truth)"
   ]
  },
  {
   "cell_type": "code",
   "execution_count": null,
   "metadata": {},
   "outputs": [],
   "source": [
    "@time samples_tot = bat_sample(\n",
    "    posterior, nchains*nsamples, algorithm,\n",
    "    max_neval = nchains*nsamples,\n",
    "    max_time = Inf,\n",
    ");"
   ]
  },
  {
   "cell_type": "code",
   "execution_count": null,
   "metadata": {},
   "outputs": [],
   "source": [
    "samples = samples_tot.result;"
   ]
  },
  {
   "cell_type": "code",
   "execution_count": null,
   "metadata": {},
   "outputs": [],
   "source": [
    "minimum(bat_eff_sample_size(unshaped.(samples)).result)"
   ]
  },
  {
   "cell_type": "code",
   "execution_count": null,
   "metadata": {},
   "outputs": [],
   "source": [
    "2788 / 60"
   ]
  },
  {
   "cell_type": "code",
   "execution_count": null,
   "metadata": {},
   "outputs": [],
   "source": [
    "size(flatview(unshaped.(samples.v)))"
   ]
  },
  {
   "cell_type": "code",
   "execution_count": null,
   "metadata": {},
   "outputs": [],
   "source": [
    "plot(flatview(unshaped.(samples.v))[1,:])"
   ]
  },
  {
   "cell_type": "code",
   "execution_count": null,
   "metadata": {},
   "outputs": [],
   "source": [
    "plt.imshow(log.(abs.(cov(flatview(unshaped.(samples.v))'))), cmap=\"Blues\")"
   ]
  },
  {
   "cell_type": "code",
   "execution_count": null,
   "metadata": {},
   "outputs": [],
   "source": [
    "# BAT.bat_write(\"../data/sampling_results/MultipleEvents-2/mcmc-samples-1-3.hdf5\", unshaped.(samples))\n",
    "\n",
    "BAT.bat_write(\"tmp.hdf5\", unshaped.(samples))"
   ]
  },
  {
   "cell_type": "code",
   "execution_count": null,
   "metadata": {},
   "outputs": [],
   "source": [
    "mode(samples)[1]"
   ]
  },
  {
   "cell_type": "code",
   "execution_count": null,
   "metadata": {},
   "outputs": [],
   "source": [
    "bat_marginalmode(samples).result"
   ]
  },
  {
   "cell_type": "code",
   "execution_count": null,
   "metadata": {},
   "outputs": [],
   "source": [
    "mean(samples)[1]"
   ]
  },
  {
   "cell_type": "code",
   "execution_count": null,
   "metadata": {},
   "outputs": [],
   "source": [
    "std(samples)[1]"
   ]
  },
  {
   "cell_type": "code",
   "execution_count": null,
   "metadata": {},
   "outputs": [],
   "source": [
    "dims = [1,2,3,4,5,]\n",
    "names = [L\"\\sigma_x\", L\"\\sigma_y\", L\"\\sigma'_x\", L\"\\sigma'_y\", \"s\", \"6\", \"7\", \"8\", \"9\"]\n",
    "levels = [0.01, 0.55, 0.9, 0.95,  1,]\n",
    "# levels = [0.5, 1,]\n",
    "figsize = (8,8)\n",
    "n_bins = 20\n",
    "\n",
    "corner_plots(samples, dims, names, levels_quantiles = levels, figsize=figsize, N_bins=n_bins)"
   ]
  },
  {
   "cell_type": "code",
   "execution_count": null,
   "metadata": {},
   "outputs": [],
   "source": [
    "dims = [6,7,8,9,10,11,12, 13]\n",
    "names = [\"6\", \"7\", \"8\", \"9\", \"10\", \"11\", \"12\", \"13\"]\n",
    "levels = [0.1, 0.8, 0.9, 0.95,  1,]\n",
    "# levels = [0.1, 0.5, 1,]\n",
    "figsize = (6,6)\n",
    "n_bins = 20\n",
    "\n",
    "corner_plots(samples, dims, names, levels_quantiles = levels, figsize=figsize, N_bins=n_bins)"
   ]
  },
  {
   "cell_type": "code",
   "execution_count": null,
   "metadata": {},
   "outputs": [],
   "source": [
    "dims = [14,15,16,]\n",
    "names = [14,15,16,]\n",
    "levels = [0.1, 0.8, 0.9, 0.95,  1,]\n",
    "# levels = [0.1, 0.5, 1,]\n",
    "figsize = (6,6)\n",
    "n_bins = 20\n",
    "\n",
    "corner_plots(samples, dims, names, levels_quantiles = levels, figsize=figsize, N_bins=n_bins)"
   ]
  },
  {
   "cell_type": "code",
   "execution_count": null,
   "metadata": {},
   "outputs": [],
   "source": [
    "# res\n",
    "\n",
    "dims = [17,18,19,20,21,22,23,24]\n",
    "names = [17,18,19,20,21, 22, 23, 24]\n",
    "levels = [0.1, 0.5, 0.9, 0.95,  1,]\n",
    "# levels = [0.1, 0.5, 1,]\n",
    "figsize = (6,6)\n",
    "n_bins = 20\n",
    "\n",
    "corner_plots(samples, dims, names, levels_quantiles = levels, figsize=figsize, N_bins=n_bins)"
   ]
  },
  {
   "cell_type": "code",
   "execution_count": null,
   "metadata": {},
   "outputs": [],
   "source": [
    "#pix\n",
    "\n",
    "dims = [25,26,27,28,29, 30, 31, 32]\n",
    "names = [25,26,27,28,29, 30, 31, 32]\n",
    "levels = [0.1, 0.8, 0.9, 0.95, 1,]\n",
    "# levels = [0.1, 0.5, 1,]\n",
    "figsize = (8,8)\n",
    "n_bins = 20\n",
    "\n",
    "corner_plots(samples, dims, names, levels_quantiles = levels, figsize=figsize, N_bins=n_bins)"
   ]
  },
  {
   "cell_type": "code",
   "execution_count": null,
   "metadata": {},
   "outputs": [],
   "source": [
    "dims = [33, 34, 35]\n",
    "names = [33, 34, 35]\n",
    "levels = [0.1, 0.8, 0.9, 0.95, 1,]\n",
    "# levels = [0.1, 0.5, 1,]\n",
    "figsize = (6,6)\n",
    "n_bins = 20\n",
    "\n",
    "corner_plots(samples, dims, names, levels_quantiles = levels, figsize=figsize, N_bins=n_bins)"
   ]
  },
  {
   "cell_type": "code",
   "execution_count": null,
   "metadata": {},
   "outputs": [],
   "source": [
    "colors_array = [\"C0\", \"C1\"]\n",
    "labels_array = [\"Mode\", \"Mean\"]\n",
    "params_array = [mode(samples)[1], mean(samples)[1]]\n",
    "\n",
    "plot_cam_crossections(params_array, event, conv_matrices, colors = colors_array, labels=labels_array)"
   ]
  },
  {
   "cell_type": "code",
   "execution_count": null,
   "metadata": {},
   "outputs": [],
   "source": [
    "colors_array = [\"C0\", \"C1\"]\n",
    "labels_array = [\"Mode\", \"Mean\"]\n",
    "params_array = [mode(samples)[1], mean(samples)[1]]\n",
    "\n",
    "plot_cam_integral(params_array, event, conv_matrices, colors = colors_array, labels=labels_array)"
   ]
  },
  {
   "cell_type": "code",
   "execution_count": null,
   "metadata": {},
   "outputs": [],
   "source": [
    "params_array = [param_truth, mode(samples)[1], mean(samples)[1]]\n",
    "colors_array = [\"gray\", \"C0\", \"C1\"]\n",
    "labels_array = [\"Truth\", \"Mode\", \"Mean\"]\n",
    "\n",
    "plot_envelop_trajectory(params_array,  labels = labels_array, colors=colors_array)"
   ]
  },
  {
   "cell_type": "code",
   "execution_count": null,
   "metadata": {},
   "outputs": [],
   "source": []
  },
  {
   "cell_type": "code",
   "execution_count": null,
   "metadata": {},
   "outputs": [],
   "source": []
  },
  {
   "cell_type": "code",
   "execution_count": null,
   "metadata": {},
   "outputs": [],
   "source": []
  },
  {
   "cell_type": "code",
   "execution_count": null,
   "metadata": {},
   "outputs": [],
   "source": []
  },
  {
   "cell_type": "code",
   "execution_count": null,
   "metadata": {},
   "outputs": [],
   "source": []
  },
  {
   "cell_type": "code",
   "execution_count": null,
   "metadata": {},
   "outputs": [],
   "source": []
  },
  {
   "cell_type": "code",
   "execution_count": null,
   "metadata": {},
   "outputs": [],
   "source": [
    "β = 0.015\n",
    "\n",
    "# prior = NamedTupleDist(\n",
    "#         tr_size = [truncated(Normal(0.2, 0.04), 0.08, 0.25), truncated(Normal(0.2, 0.04), 0.08, 0.25)],\n",
    "#         ang_spr = [truncated(Normal(4, 2), 2, 6), truncated(Normal(4, 2), 2, 6)], # change prior range\n",
    "#         s_waist = [Normal(2.9, 0.03)],\n",
    "#         μ_x = [20 .. 40, 20 .. 40, 10 .. 30, 20 .. 40],\n",
    "#         μ_y = [20 .. 40, 20 .. 40, 10 .. 30, 20 .. 40],\n",
    "#         σ_x = [truncated(Normal(1, 0.5), 0, Inf), truncated(Normal(1, 0.5), 0, Inf), truncated(Normal(1, 0.5), 0, Inf), truncated(Normal(1, 0.5), 0, Inf)], \n",
    "#         σ_y = [truncated(Normal(1, 0.5), 0, Inf), truncated(Normal(1, 0.5), 0, Inf), truncated(Normal(1, 0.5), 0, Inf), truncated(Normal(1, 0.5), 0, Inf)], \n",
    "#         δ_x = [truncated(Normal(0.0271, 0.0271*β), 0, Inf), truncated(Normal(0.0216, 0.0216*β), 0, Inf), truncated(Normal(0.114, 0.114*β), 0, Inf), truncated(Normal(0.091, 0.091*β), 0, Inf)], \n",
    "#         δ_y = [truncated(Normal(0.0305, 0.0305*β), 0, Inf), truncated(Normal(0.0234, 0.0234*β), 0, Inf), truncated(Normal(0.125, 0.125*β), 0, Inf), truncated(Normal(0.0894, 0.0894*β), 0, Inf)], \n",
    "#         int_coeff  = [35147.44, 50235.06, 10096.64, 33406.9],\n",
    "#         is_ped = [29 .. 35],\n",
    "#         is_light_f = [1.9 .. 2.3,],\n",
    "#         s_cam = [0.0, 1.478, 15.026, 23.1150], \n",
    "#     );\n"
   ]
  },
  {
   "cell_type": "code",
   "execution_count": null,
   "metadata": {},
   "outputs": [],
   "source": [
    "prior = NamedTupleDist(\n",
    "        tr_size = [truncated(Normal(0.2, 0.04), 0.08, 0.25), truncated(Normal(0.2, 0.04), 0.08, 0.25)],\n",
    "        ang_spr = [truncated(Normal(4, 2), 2, 6), truncated(Normal(4, 2), 2, 6)], # change prior range\n",
    "        s_waist = [Normal(2.9, 0.03)],\n",
    "        μ_x = [20 .. 40, 20 .. 40, 10 .. 30, 20 .. 40],\n",
    "        μ_y = [20 .. 40, 20 .. 40, 10 .. 30, 20 .. 40],\n",
    "        σ_x = [truncated(Normal(1, 0.5), 0, Inf), truncated(Normal(1, 0.5), 0, Inf), truncated(Normal(1, 0.5), 0, Inf), truncated(Normal(1, 0.5), 0, Inf)], \n",
    "        σ_y = [truncated(Normal(1, 0.5), 0, Inf), truncated(Normal(1, 0.5), 0, Inf), truncated(Normal(1, 0.5), 0, Inf), truncated(Normal(1, 0.5), 0, Inf)], \n",
    "        δ_x = [0.0271,0.0216,0.114,3*0.0303], \n",
    "        δ_y = [0.0305,0.0234,0.125,3*0.0298], \n",
    "        int_coeff  = [35147.44, 50235.06, 10096.64, 33406.9],\n",
    "        is_ped = [29 .. 35],\n",
    "        is_light_f = [1.9 .. 2.3,],\n",
    "        s_cam = [0.0, 1.478, 15.026, 23.1150], \n",
    "    );\n"
   ]
  },
  {
   "cell_type": "code",
   "execution_count": null,
   "metadata": {},
   "outputs": [],
   "source": []
  },
  {
   "cell_type": "code",
   "execution_count": null,
   "metadata": {},
   "outputs": [],
   "source": [
    "posterior = PosteriorDensity(log_likelihood, prior)\n",
    "\n",
    "tuning = AdaptiveMetropolisTuning(\n",
    "    λ = 0.5,\n",
    "    α = 0.15..0.25,\n",
    "    β = 1.5,\n",
    "    c = 1e-4..1e2,\n",
    "    r = 0.5,\n",
    ")\n",
    "\n",
    "convergence = BrooksGelmanConvergence(\n",
    "    threshold = 1.1,\n",
    "    corrected = false\n",
    ")\n",
    "\n",
    "init = MCMCInitStrategy(\n",
    "    init_tries_per_chain = 50..150,\n",
    "    max_nsamples_init = 800,\n",
    "    max_nsteps_init = 800,\n",
    "    max_time_init = Inf\n",
    ")\n",
    "\n",
    "burnin = MCMCBurninStrategy(\n",
    "    max_nsamples_per_cycle = 4000,\n",
    "    max_nsteps_per_cycle = 4000,\n",
    "    max_time_per_cycle = Inf,\n",
    "    max_ncycles = 120\n",
    ");\n",
    "\n",
    "algorithm = MetropolisHastings();"
   ]
  },
  {
   "cell_type": "code",
   "execution_count": null,
   "metadata": {},
   "outputs": [],
   "source": [
    "nsamples = 6*10^4\n",
    "nchains = 4"
   ]
  },
  {
   "cell_type": "code",
   "execution_count": null,
   "metadata": {},
   "outputs": [],
   "source": [
    "@time samples = bat_sample(\n",
    "    posterior, (nsamples, nchains), algorithm,\n",
    "    max_nsteps = nsamples,\n",
    "    max_time = Inf,\n",
    "    tuning = tuning,\n",
    "    init = init,\n",
    "    burnin = burnin,\n",
    "    convergence = convergence,\n",
    "    strict = false,\n",
    "    filter = true\n",
    ").result;"
   ]
  },
  {
   "cell_type": "code",
   "execution_count": null,
   "metadata": {},
   "outputs": [],
   "source": [
    "mode(samples)[1]\n",
    " \n",
    "#2.11452269382"
   ]
  },
  {
   "cell_type": "code",
   "execution_count": null,
   "metadata": {},
   "outputs": [],
   "source": [
    "dims = [1,2,3,4,5,]\n",
    "names = [L\"\\sigma_x\", L\"\\sigma_y\", L\"\\sigma'_x\", L\"\\sigma'_y\", \"s\", \"6\", \"7\", \"8\", \"9\"]\n",
    "levels = [0.1, 0.8, 0.9, 0.95,  1,]\n",
    "# levels = [0.5, 1,]\n",
    "figsize = (6,6)\n",
    "n_bins = 20\n",
    "\n",
    "corner_plots(samples, dims, names, levels_quantiles = levels, figsize=figsize, N_bins=n_bins)"
   ]
  },
  {
   "cell_type": "code",
   "execution_count": null,
   "metadata": {},
   "outputs": [],
   "source": [
    "dims = [6,7,8,9,10,11,12, 13]\n",
    "names = [\"6\", \"7\", \"8\", \"9\", \"10\", \"11\", \"12\", \"13\"]\n",
    "levels = [0.1, 0.8, 0.9, 0.95,  1,]\n",
    "# levels = [0.1, 0.9, 1,]\n",
    "figsize = (6,6)\n",
    "n_bins = 20\n",
    "\n",
    "corner_plots(samples, dims, names, levels_quantiles = levels, figsize=figsize, N_bins=n_bins)"
   ]
  },
  {
   "cell_type": "code",
   "execution_count": null,
   "metadata": {},
   "outputs": [],
   "source": [
    "dims = [14,15,16,17,18,19,20,21]\n",
    "names = dims\n",
    "levels = [0.1, 0.8, 0.9, 0.95,  1,]\n",
    "# levels = [0.1, 0.9, 1,]\n",
    "figsize = (6,6)\n",
    "n_bins = 20\n",
    "\n",
    "corner_plots(samples, dims, names, levels_quantiles = levels, figsize=figsize, N_bins=n_bins)"
   ]
  },
  {
   "cell_type": "code",
   "execution_count": null,
   "metadata": {},
   "outputs": [],
   "source": [
    "dims = [22,23,]\n",
    "names = dims\n",
    "# levels = [0.1, 0.8, 0.9, 0.95,  1,]\n",
    "levels = [0.5, 1,]\n",
    "figsize = (6,6)\n",
    "n_bins = 20\n",
    "\n",
    "corner_plots(samples, dims, names, levels_quantiles = levels, figsize=figsize, N_bins=n_bins)"
   ]
  },
  {
   "cell_type": "code",
   "execution_count": null,
   "metadata": {},
   "outputs": [],
   "source": [
    "# Experiment Event: \n",
    "\n",
    "images = load(\"../data/experiment/dataset_2/m2/images.jld2\");\n",
    "\n",
    "event_number = 2\n",
    "\n",
    "event = (\n",
    "    cam_1 = images[\"cam_1\"][event_number,:,:],\n",
    "    cam_2 = images[\"cam_2\"][event_number,:,:],\n",
    "    cam_3 = images[\"cam_3\"][event_number,:,:],\n",
    "    cam_4 = images[\"cam_4\"][event_number,:,:],\n",
    "    population = images[\"charge\"][event_number,:][1],\n",
    ")\n"
   ]
  },
  {
   "cell_type": "code",
   "execution_count": null,
   "metadata": {},
   "outputs": [],
   "source": [
    "plot_cam_crossections([mode(samples)[1],], event, conv_matrices)"
   ]
  },
  {
   "cell_type": "code",
   "execution_count": null,
   "metadata": {},
   "outputs": [],
   "source": [
    "plot_cam_integral([mode(samples)[1],], event, conv_matrices)"
   ]
  },
  {
   "cell_type": "code",
   "execution_count": null,
   "metadata": {},
   "outputs": [],
   "source": [
    "plot_vector = [param_truth, mode(samples)[1],]\n",
    "\n",
    "plot_envelop_trajectory(plot_vector,  labels = [\"Truth\", \"MCMC Mode\"])"
   ]
  },
  {
   "cell_type": "code",
   "execution_count": null,
   "metadata": {},
   "outputs": [],
   "source": []
  },
  {
   "cell_type": "code",
   "execution_count": null,
   "metadata": {},
   "outputs": [],
   "source": [
    "β_min = 0.7\n",
    "β_max = 1.3\n",
    "\n",
    "prior = NamedTupleDist(\n",
    "        tr_size = [β_min*param_truth.tr_size[1]..β_max*param_truth.tr_size[1], β_min*param_truth.tr_size[2]..β_max*param_truth.tr_size[2]],\n",
    "        ang_spr = [β_min*param_truth.ang_spr[1]..β_max*param_truth.ang_spr[1], β_min*param_truth.ang_spr[2]..β_max*param_truth.ang_spr[2]],\n",
    "        s_waist = [β_min*param_truth.s_waist[1]..β_max*param_truth.s_waist[1],],\n",
    "        μ_x = [35,35,20,35], \n",
    "        μ_y = [35,35,20,35], \n",
    "        σ_x = [0,0,0,0], \n",
    "        σ_y = [0,0,0,0], \n",
    "        δ_x = [0.0271,0.0216,0.114,3*0.0303], \n",
    "        δ_y = [0.0305,0.0234,0.125,3*0.0298],\n",
    "        int_coeff  = [35147.44, 50235.06, 10096.64, 33406.9],\n",
    "        s_cam = [0.0, 1.478, 15.026, 23.1150], \n",
    "    );\n",
    "\n",
    "# 30 iterationsfro convergence "
   ]
  },
  {
   "cell_type": "code",
   "execution_count": null,
   "metadata": {},
   "outputs": [],
   "source": [
    "β_min = 0.7\n",
    "β_max = 1.3\n",
    "\n",
    "prior = NamedTupleDist(\n",
    "        tr_size = [β_min*param_truth.tr_size[1]..β_max*param_truth.tr_size[1], β_min*param_truth.tr_size[2]..β_max*param_truth.tr_size[2]],\n",
    "        ang_spr = [β_min*param_truth.ang_spr[1]..β_max*param_truth.ang_spr[1], β_min*param_truth.ang_spr[2]..β_max*param_truth.ang_spr[2]],\n",
    "        s_waist = [β_min*param_truth.s_waist[1]..β_max*param_truth.s_waist[1],],\n",
    "        μ_x = [ β_min*param_truth.μ_x[1]..β_max*param_truth.μ_x[1],\n",
    "                β_min*param_truth.μ_x[2]..β_max*param_truth.μ_x[2],\n",
    "                β_min*param_truth.μ_x[3]..β_max*param_truth.μ_x[3],\n",
    "                β_min*param_truth.μ_x[4]..β_max*param_truth.μ_x[4]], \n",
    "        μ_y = [ β_min*param_truth.μ_y[1]..β_max*param_truth.μ_y[1],\n",
    "                β_min*param_truth.μ_y[2]..β_max*param_truth.μ_y[2],\n",
    "                β_min*param_truth.μ_y[3]..β_max*param_truth.μ_y[3],\n",
    "                β_min*param_truth.μ_y[4]..β_max*param_truth.μ_y[4]], \n",
    "        σ_x = [0,0,0,0], \n",
    "        σ_y = [0,0,0,0], \n",
    "        δ_x = [0.0271,0.0216,0.114,3*0.0303], \n",
    "        δ_y = [0.0305,0.0234,0.125,3*0.0298],\n",
    "        int_coeff  = [35147.44, 50235.06, 10096.64, 33406.9],\n",
    "        s_cam = [0.0, 1.478, 15.026, 23.1150], \n",
    "    );\n",
    "\n",
    "# #40 iterations for convergence "
   ]
  },
  {
   "cell_type": "code",
   "execution_count": null,
   "metadata": {},
   "outputs": [],
   "source": [
    "β_min = 0.6\n",
    "β_max = 1.4\n",
    "\n",
    "prior = NamedTupleDist(\n",
    "        tr_size = [β_min*param_truth.tr_size[1]..β_max*param_truth.tr_size[1], β_min*param_truth.tr_size[2]..β_max*param_truth.tr_size[2]],\n",
    "    \n",
    "        ang_spr = [β_min*param_truth.ang_spr[1]..β_max*param_truth.ang_spr[1], β_min*param_truth.ang_spr[2]..β_max*param_truth.ang_spr[2]],\n",
    "    \n",
    "        s_waist = [β_min*param_truth.s_waist[1]..β_max*param_truth.s_waist[1],],\n",
    "    \n",
    "        μ_x = [ β_min*param_truth.μ_x[1]..β_max*param_truth.μ_x[1],\n",
    "                β_min*param_truth.μ_x[2]..β_max*param_truth.μ_x[2],\n",
    "                β_min*param_truth.μ_x[3]..β_max*param_truth.μ_x[3],\n",
    "                β_min*param_truth.μ_x[4]..β_max*param_truth.μ_x[4]], \n",
    "    \n",
    "        μ_y = [ β_min*param_truth.μ_y[1]..β_max*param_truth.μ_y[1],\n",
    "                β_min*param_truth.μ_y[2]..β_max*param_truth.μ_y[2],\n",
    "                β_min*param_truth.μ_y[3]..β_max*param_truth.μ_y[3],\n",
    "                β_min*param_truth.μ_y[4]..β_max*param_truth.μ_y[4]],\n",
    "    \n",
    "        σ_x = [0,0,0,0], \n",
    "        σ_y = [0,0,0,0], \n",
    "        δ_x = [0.0271,0.0216,0.114,3*0.0303], \n",
    "        δ_y = [0.0305,0.0234,0.125,3*0.0298],\n",
    "    \n",
    "        int_coeff  = [ β_min*param_truth.int_coeff[1]..β_max*param_truth.int_coeff[1],\n",
    "                β_min*param_truth.int_coeff[2]..β_max*param_truth.int_coeff[2],\n",
    "                β_min*param_truth.int_coeff[3]..β_max*param_truth.int_coeff[3],\n",
    "                β_min*param_truth.int_coeff[4]..β_max*param_truth.int_coeff[4]], \n",
    "    \n",
    "        s_cam = [0.0, 1.478, 15.026, 23.1150],\n",
    "    );\n",
    "\n",
    "# 43 chains for convergence \n",
    "\n",
    "# init = MCMCInitStrategy(\n",
    "#     init_tries_per_chain = 100..208,\n",
    "#     max_nsamples_init = 600,\n",
    "#     max_nsteps_init = 600,\n",
    "#     max_time_init = Inf\n",
    "# )\n",
    "\n",
    "# burnin = MCMCBurninStrategy(\n",
    "#     max_nsamples_per_cycle = 1700,\n",
    "#     max_nsteps_per_cycle = 1700,\n",
    "#     max_time_per_cycle = Inf,\n",
    "#     max_ncycles = 60\n",
    "# );\n",
    "\n",
    "# nsamples = 6*10^4\n",
    "# nchains = 4;"
   ]
  },
  {
   "cell_type": "code",
   "execution_count": null,
   "metadata": {},
   "outputs": [],
   "source": [
    "# resolution + prior AWAKE \n",
    "\n",
    "β_min = 0.7\n",
    "β_max = 1.3\n",
    "\n",
    "# prior = NamedTupleDist(\n",
    "#         tr_size = [truncated(Normal(0.2, 0.04), 0.08, 0.25), truncated(Normal(0.2, 0.04), 0.08, 0.25)],\n",
    "#         ang_spr = [truncated(Normal(4, 2), 2, 6), truncated(Normal(4, 2), 2, 6)], # change prior range\n",
    "#         s_waist = [Normal(2.9, 0.03)],\n",
    "#         μ_x = [20 .. 40, 20 .. 40, 10 .. 30, 20 .. 40],\n",
    "#         μ_y = [20 .. 40, 20 .. 40, 10 .. 30, 20 .. 40],\n",
    "#         σ_x = [truncated(Normal(1, 0.5), 0, Inf), truncated(Normal(1, 0.5), 0, Inf), truncated(Normal(1, 0.5), 0, Inf), truncated(Normal(1, 0.5), 0, Inf)], \n",
    "#         σ_y = [truncated(Normal(1, 0.5), 0, Inf), truncated(Normal(1, 0.5), 0, Inf), truncated(Normal(1, 0.5), 0, Inf), truncated(Normal(1, 0.5), 0, Inf)], \n",
    "#         δ_x = [0.0271,0.0216,0.114,3*0.0303], \n",
    "#         δ_y = [0.0305,0.0234,0.125,3*0.0298],\n",
    "#         int_coeff  = [35147.44, 50235.06, 10096.64, 33406.9],\n",
    "#         s_cam = [0.0, 1.478, 15.026, 23.1150], \n",
    "#     );\n",
    "\n",
    "# prior = NamedTupleDist(\n",
    "#         tr_size = [truncated(Normal(0.2, 0.04), 0.08, 0.25), truncated(Normal(0.2, 0.04), 0.08, 0.25)],\n",
    "#         ang_spr = [truncated(Normal(4, 2), 2, 6), truncated(Normal(4, 2), 2, 6)], # change prior range\n",
    "#         s_waist = [Normal(2.9, 0.03)],\n",
    "#         μ_x = [20 .. 40, 20 .. 40, 10 .. 30, 20 .. 40],\n",
    "#         μ_y = [20 .. 40, 20 .. 40, 10 .. 30, 20 .. 40],\n",
    "#         σ_x = [truncated(Normal(3.07, 0.5), 0, 5), truncated(Normal(3.95, 0.5), 0, 5), truncated(Normal(2.13, 0.5), 0, 5), truncated(Normal(2.16, 0.5), 0, 5)], \n",
    "#         σ_y = [0 , 0 , 0 , 0 ], \n",
    "#         δ_x = [0.0271,0.0216,0.114,3*0.0303], \n",
    "#         δ_y = [0.0305,0.0234,0.125,3*0.0298],\n",
    "#         int_coeff  = [35147.44, 50235.06, 10096.64, 33406.9],\n",
    "#         s_cam = [0.0, 1.478, 15.026, 23.1150], \n",
    "#     );\n",
    "\n",
    "prior = NamedTupleDist(\n",
    "        tr_size = [truncated(Normal(0.2, 0.04), 0.08, 0.25), truncated(Normal(0.2, 0.04), 0.08, 0.25)],\n",
    "        ang_spr = [truncated(Normal(4, 2), 2, 6), truncated(Normal(4, 2), 2, 6)], \n",
    "        s_waist = [Normal(2.9, 0.03)],\n",
    "        μ_x = [20 .. 40, 20 .. 40, 10 .. 30, 20 .. 40],\n",
    "        μ_y = [20 .. 40, 20 .. 40, 10 .. 30, 20 .. 40],\n",
    "        σ_x = [3.07, 3.95, 2.13, 2.16],\n",
    "        σ_y = [3.07 , 3.95, 2.13, 2.16], \n",
    "        δ_x = [0.0271,0.0216,0.114,3*0.0303], \n",
    "        δ_y = [0.0305,0.0234,0.125,3*0.0298],\n",
    "        int_coeff  = [35147.44, 50235.06, 10096.64, 33406.9],\n",
    "        s_cam = [0.0, 1.478, 15.026, 23.1150], \n",
    "    );\n",
    "\n",
    "# prior = NamedTupleDist(\n",
    "#         tr_size = [truncated(Normal(0.2, 0.04), 0.08, 0.25), truncated(Normal(0.2, 0.04), 0.08, 0.25)],\n",
    "#         ang_spr = [truncated(Normal(4, 2), 2, 6), truncated(Normal(4, 2), 2, 6)], \n",
    "#         s_waist = [Normal(2.9, 0.03)],\n",
    "#         μ_x = [20 .. 40, 20 .. 40, 10 .. 30, 20 .. 40],\n",
    "#         μ_y = [20 .. 40, 20 .. 40, 10 .. 30, 20 .. 40],\n",
    "#         σ_x = [0, 0, 0, 0],\n",
    "#         σ_y = [0 , 0 , 0 , 0 ], \n",
    "#         δ_x = [0.0271,0.0216,0.114,3*0.0303], \n",
    "#         δ_y = [0.0305,0.0234,0.125,3*0.0298],\n",
    "#         int_coeff  = [35147.44, 50235.06, 10096.64, 33406.9],\n",
    "#         s_cam = [0.0, 1.478, 15.026, 23.1150], \n",
    "#     );\n",
    "\n",
    "\n",
    "# #40 iterations for convergence \n",
    "# res 1: mean([0.0874, 0.0895] ./ [0.0270999, 0.03049999999999997])\n",
    "#res2: [0.021599999999999397, 0.023400000000000087] ./ [0.0861, 0.0918]\n",
    "# res 3: mean([0.303, 0.201] ./ [0.11400000000000077, 0.125])\n",
    "# res4: mean([0.202, 0.189] ./ [0.030303030303030304, 0.02981267596704524] ) / 3"
   ]
  },
  {
   "cell_type": "code",
   "execution_count": null,
   "metadata": {},
   "outputs": [],
   "source": [
    "β = 0.015\n",
    "\n",
    "prior = NamedTupleDist(\n",
    "        tr_size = [truncated(Normal(0.2, 0.04), 0.08, 0.25), truncated(Normal(0.2, 0.04), 0.08, 0.25)],\n",
    "        ang_spr = [truncated(Normal(4, 2), 2, 6), truncated(Normal(4, 2), 2, 6)], # change prior range\n",
    "        s_waist = [Normal(2.9, 0.03)],\n",
    "        μ_x = [20 .. 40, 20 .. 40, 10 .. 30, 20 .. 40],\n",
    "        μ_y = [20 .. 40, 20 .. 40, 10 .. 30, 20 .. 40],\n",
    "        σ_x = [truncated(Normal(1, 0.5), 0, Inf), truncated(Normal(1, 0.5), 0, Inf), truncated(Normal(1, 0.5), 0, Inf), truncated(Normal(1, 0.5), 0, Inf)], \n",
    "        σ_y = [truncated(Normal(1, 0.5), 0, Inf), truncated(Normal(1, 0.5), 0, Inf), truncated(Normal(1, 0.5), 0, Inf), truncated(Normal(1, 0.5), 0, Inf)], \n",
    "        δ_x = [truncated(Normal(0.0271, 0.0271*β), 0, Inf), truncated(Normal(0.0216, 0.0216*β), 0, Inf), truncated(Normal(0.114, 0.114*β), 0, Inf), truncated(Normal(0.091, 0.091*β), 0, Inf)], \n",
    "        δ_y = [truncated(Normal(0.0305, 0.0305*β), 0, Inf), truncated(Normal(0.0234, 0.0234*β), 0, Inf), truncated(Normal(0.125, 0.125*β), 0, Inf), truncated(Normal(0.0894, 0.0894*β), 0, Inf)], \n",
    "        int_coeff  = [35147.44, 50235.06, 10096.64, 33406.9],\n",
    "        s_cam = [0.0, 1.478, 15.026, 23.1150], \n",
    "    );"
   ]
  },
  {
   "cell_type": "code",
   "execution_count": null,
   "metadata": {},
   "outputs": [],
   "source": [
    "β = 0.015\n",
    "\n",
    "prior = NamedTupleDist(\n",
    "        tr_size = [truncated(Normal(0.2, 0.04), 0.08, 0.25), truncated(Normal(0.2, 0.04), 0.08, 0.25)],\n",
    "        ang_spr = [truncated(Normal(4, 2), 2, 6), truncated(Normal(4, 2), 2, 6)], # change prior range\n",
    "        s_waist = [Normal(2.9, 0.03)],\n",
    "        μ_x = [20 .. 40, 20 .. 40, 10 .. 30, 20 .. 40],\n",
    "        μ_y = [20 .. 40, 20 .. 40, 10 .. 30, 20 .. 40],\n",
    "        σ_x = [truncated(Normal(1, 0.5), 0, Inf), truncated(Normal(1, 0.5), 0, Inf), truncated(Normal(1, 0.5), 0, Inf), truncated(Normal(1, 0.5), 0, Inf)], \n",
    "        σ_y = [truncated(Normal(1, 0.5), 0, Inf), truncated(Normal(1, 0.5), 0, Inf), truncated(Normal(1, 0.5), 0, Inf), truncated(Normal(1, 0.5), 0, Inf)], \n",
    "        δ_x = [truncated(Normal(0.0271, 0.0271*β), 0, Inf), truncated(Normal(0.0216, 0.0216*β), 0, Inf), truncated(Normal(0.114, 0.114*β), 0, Inf), truncated(Normal(0.091, 0.091*β), 0, Inf)], \n",
    "        δ_y = [truncated(Normal(0.0305, 0.0305*β), 0, Inf), truncated(Normal(0.0234, 0.0234*β), 0, Inf), truncated(Normal(0.125, 0.125*β), 0, Inf), truncated(Normal(0.0894, 0.0894*β), 0, Inf)], \n",
    "        int_coeff  = [Normal(35147.44, β*35147.44), Normal(50235.06, β*50235.06), Normal(10096.64, β*10096.64), Normal(33406.9, β*33406.9)],\n",
    "        s_cam = [0.0, 1.478, 15.026, 23.1150], \n",
    "    );\n",
    "\n"
   ]
  },
  {
   "cell_type": "code",
   "execution_count": null,
   "metadata": {},
   "outputs": [],
   "source": [
    "# β_min = 0.9\n",
    "# β_max = 1.1\n",
    "\n",
    "# prior = NamedTupleDist(\n",
    "#         tr_size = [β_min*param_truth.tr_size[1]..β_max*param_truth.tr_size[1], β_min*param_truth.tr_size[2]..β_max*param_truth.tr_size[2]],\n",
    "    \n",
    "#         ang_spr = [β_min*param_truth.ang_spr[1]..β_max*param_truth.ang_spr[1], β_min*param_truth.ang_spr[2]..β_max*param_truth.ang_spr[2]],\n",
    "    \n",
    "#         s_waist = [β_min*param_truth.s_waist[1]..β_max*param_truth.s_waist[1],],\n",
    "    \n",
    "#         μ_x = [ β_min*param_truth.μ_x[1]..β_max*param_truth.μ_x[1],\n",
    "#                 β_min*param_truth.μ_x[2]..β_max*param_truth.μ_x[2],\n",
    "#                 β_min*param_truth.μ_x[3]..β_max*param_truth.μ_x[3],\n",
    "#                 β_min*param_truth.μ_x[4]..β_max*param_truth.μ_x[4]], \n",
    "    \n",
    "#         μ_y = [ β_min*param_truth.μ_y[1]..β_max*param_truth.μ_y[1],\n",
    "#                 β_min*param_truth.μ_y[2]..β_max*param_truth.μ_y[2],\n",
    "#                 β_min*param_truth.μ_y[3]..β_max*param_truth.μ_y[3],\n",
    "#                 β_min*param_truth.μ_y[4]..β_max*param_truth.μ_y[4]],\n",
    "    \n",
    "#         σ_x = [0,0,0,0], \n",
    "#         σ_y = [0,0,0,0], \n",
    "#         δ_x = [ β_min*param_truth.δ_x[1]..β_max*param_truth.δ_x[1],\n",
    "#                 β_min*param_truth.δ_x[2]..β_max*param_truth.δ_x[2],\n",
    "#                 β_min*param_truth.δ_x[3]..β_max*param_truth.δ_x[3],\n",
    "#                 β_min*param_truth.δ_x[4]..β_max*param_truth.δ_x[4]],\n",
    "    \n",
    "#         δ_y = [ β_min*param_truth.δ_y[1]..β_max*param_truth.δ_y[1],\n",
    "#                 β_min*param_truth.δ_y[2]..β_max*param_truth.δ_y[2],\n",
    "#                 β_min*param_truth.δ_y[3]..β_max*param_truth.δ_y[3],\n",
    "#                 β_min*param_truth.δ_y[4]..β_max*param_truth.δ_y[4]],\n",
    "    \n",
    "#         int_coeff  = [ β_min*param_truth.int_coeff[1]..β_max*param_truth.int_coeff[1],\n",
    "#                 β_min*param_truth.int_coeff[2]..β_max*param_truth.int_coeff[2],\n",
    "#                 β_min*param_truth.int_coeff[3]..β_max*param_truth.int_coeff[3],\n",
    "#                 β_min*param_truth.int_coeff[4]..β_max*param_truth.int_coeff[4]], \n",
    "    \n",
    "#         s_cam = [0.0, 1.478, 15.026, 23.1150],\n",
    "#     );\n",
    "\n",
    "# init = MCMCInitStrategy(\n",
    "#     init_tries_per_chain = 100..200,\n",
    "#     max_nsamples_init = 2000,\n",
    "#     max_nsteps_init = 2000,\n",
    "#     max_time_init = Inf\n",
    "# )\n",
    "\n",
    "# burnin = MCMCBurninStrategy(\n",
    "#     max_nsamples_per_cycle = 5000,\n",
    "#     max_nsteps_per_cycle = 5000,\n",
    "#     max_time_per_cycle = Inf,\n",
    "#     max_ncycles = 45\n",
    "# );\n",
    "\n",
    "# algorithm = MetropolisHastings()\n"
   ]
  },
  {
   "cell_type": "code",
   "execution_count": null,
   "metadata": {},
   "outputs": [],
   "source": [
    "posterior = PosteriorDensity(log_likelihood, prior);"
   ]
  },
  {
   "cell_type": "code",
   "execution_count": null,
   "metadata": {},
   "outputs": [],
   "source": [
    "tuning = AdaptiveMetropolisTuning(\n",
    "    λ = 0.5,\n",
    "    α = 0.15..0.25,\n",
    "    β = 1.5,\n",
    "    c = 1e-4..1e2,\n",
    "    r = 0.5,\n",
    ")\n",
    "\n",
    "convergence = BrooksGelmanConvergence(\n",
    "    threshold = 1.1,\n",
    "    corrected = false\n",
    ")\n",
    "\n",
    "init = MCMCInitStrategy(\n",
    "    init_tries_per_chain = 120..220,\n",
    "    max_nsamples_init = 800,\n",
    "    max_nsteps_init = 800,\n",
    "    max_time_init = Inf\n",
    ")\n",
    "\n",
    "burnin = MCMCBurninStrategy(\n",
    "    max_nsamples_per_cycle = 4000,\n",
    "    max_nsteps_per_cycle = 4000,\n",
    "    max_time_per_cycle = Inf,\n",
    "    max_ncycles = 200\n",
    ");\n",
    "\n",
    "algorithm = MetropolisHastings()"
   ]
  },
  {
   "cell_type": "code",
   "execution_count": null,
   "metadata": {},
   "outputs": [],
   "source": [
    "nsamples = 6*10^4\n",
    "nchains = 4"
   ]
  },
  {
   "cell_type": "code",
   "execution_count": null,
   "metadata": {},
   "outputs": [],
   "source": [
    "@time samples = bat_sample(\n",
    "    posterior, (nsamples, nchains), algorithm,\n",
    "    max_nsteps = nsamples,\n",
    "    max_time = Inf,\n",
    "    tuning = tuning,\n",
    "    init = init,\n",
    "    burnin = burnin,\n",
    "    convergence = convergence,\n",
    "    strict = false,\n",
    "    filter = true\n",
    ").result;"
   ]
  },
  {
   "cell_type": "code",
   "execution_count": null,
   "metadata": {},
   "outputs": [],
   "source": [
    "# BAT.bat_write(\"test.hdf5\", unshaped.(samples))\n",
    "# CSV.write(SAVE_PATH*file_name_*\".csv\", output_sp_ms.info)"
   ]
  },
  {
   "cell_type": "code",
   "execution_count": null,
   "metadata": {},
   "outputs": [],
   "source": [
    "# samples = bat_read(\"../data/sampling_results/Resolution_Effects/wc_resolution.hdf5\") \n",
    "# samples = varshape(prior).(samples)\n",
    "# # wcr_samples_uw = bat_sample(wcr_samples, length(wcr_samples)).result;"
   ]
  },
  {
   "cell_type": "code",
   "execution_count": null,
   "metadata": {},
   "outputs": [],
   "source": [
    "# int = bat_integrate(samples)"
   ]
  },
  {
   "cell_type": "code",
   "execution_count": null,
   "metadata": {},
   "outputs": [],
   "source": [
    "mode(samples)[1]"
   ]
  },
  {
   "cell_type": "code",
   "execution_count": null,
   "metadata": {},
   "outputs": [],
   "source": [
    "bat_integrate(samples)"
   ]
  },
  {
   "cell_type": "code",
   "execution_count": null,
   "metadata": {},
   "outputs": [],
   "source": [
    "# BAT.bat_write(\"../data/sampling_results/Resolution_Effects/wr_px_resolution.hdf5\", unshaped.(samples))"
   ]
  },
  {
   "cell_type": "code",
   "execution_count": null,
   "metadata": {},
   "outputs": [],
   "source": [
    "dims = [1,2,3,4,5,]\n",
    "names = [L\"\\sigma_x\", L\"\\sigma_y\", L\"\\sigma'_x\", L\"\\sigma'_y\", \"s\", \"6\", \"7\", \"8\", \"9\"]\n",
    "levels = [0.1, 0.8, 0.9, 0.95,  1,]\n",
    "# levels = [0.5, 1,]\n",
    "figsize = (6,6)\n",
    "n_bins = 20\n",
    "\n",
    "corner_plots(samples, dims, names, levels_quantiles = levels, figsize=figsize, N_bins=n_bins)"
   ]
  },
  {
   "cell_type": "code",
   "execution_count": null,
   "metadata": {},
   "outputs": [],
   "source": [
    "dims = [6,7,8,9,10,11,12, 13]\n",
    "names = [\"6\", \"7\", \"8\", \"9\", \"10\", \"11\", \"12\", \"13\"]\n",
    "levels = [0.1, 0.8, 0.9, 0.95,  1,]\n",
    "# levels = [0.1, 0.9, 1,]\n",
    "figsize = (6,6)\n",
    "n_bins = 20\n",
    "\n",
    "corner_plots(samples, dims, names, levels_quantiles = levels, figsize=figsize, N_bins=n_bins)"
   ]
  },
  {
   "cell_type": "code",
   "execution_count": null,
   "metadata": {},
   "outputs": [],
   "source": [
    "dims = [14,15,16,17, 18, 19, 20, 21]\n",
    "names = [\"14\", \"15\", \"16\", \"17\", \"18\", \"19\", \"20\", \"21\"]\n",
    "levels = [0.1, 0.8, 0.9, 0.95,  1,]\n",
    "# levels = [0.1, 0.9, 1,]\n",
    "figsize = (6,6)\n",
    "n_bins = 20\n",
    "\n",
    "corner_plots(samples, dims, names, levels_quantiles = levels, figsize=figsize, N_bins=n_bins)"
   ]
  },
  {
   "cell_type": "code",
   "execution_count": null,
   "metadata": {},
   "outputs": [],
   "source": [
    "dims = [22, 23, 24, 25, 26, 27, 28, 29]\n",
    "names = [22, 23, 24, 25, 26, 27, 28, 29]\n",
    "levels = [0.1, 0.8, 0.9, 0.95,  1,]\n",
    "# levels = [0.1, 0.9, 1,]\n",
    "figsize = (6,6)\n",
    "n_bins = 20\n",
    "\n",
    "corner_plots(samples, dims, names, levels_quantiles = levels, figsize=figsize, N_bins=n_bins)"
   ]
  },
  {
   "cell_type": "code",
   "execution_count": null,
   "metadata": {},
   "outputs": [],
   "source": [
    "bat_eff_sample_size(unshaped.(samples.v)).result"
   ]
  },
  {
   "cell_type": "code",
   "execution_count": null,
   "metadata": {},
   "outputs": [],
   "source": [
    "bat_eff_sample_size(unshaped.(samples.v)).result ./ length(samples)"
   ]
  },
  {
   "cell_type": "code",
   "execution_count": null,
   "metadata": {},
   "outputs": [],
   "source": [
    "plot_cam_crossections([mode(samples)[1],], event, conv_matrices)"
   ]
  },
  {
   "cell_type": "code",
   "execution_count": null,
   "metadata": {},
   "outputs": [],
   "source": [
    "plot_vector = [param_truth, mode(samples)[1],]\n",
    "\n",
    "plot_envelop_trajectory(plot_vector,  labels = [\"Truth\", \"MCMC Mode\"])"
   ]
  },
  {
   "cell_type": "code",
   "execution_count": null,
   "metadata": {},
   "outputs": [],
   "source": [
    "@show round.(unshaped(std(samples)), sigdigits=3)"
   ]
  },
  {
   "cell_type": "code",
   "execution_count": null,
   "metadata": {},
   "outputs": [],
   "source": [
    "unshaped(std(samples))"
   ]
  },
  {
   "cell_type": "code",
   "execution_count": null,
   "metadata": {},
   "outputs": [],
   "source": [
    "# BAT.bat_write(\"../data/sampling_results/Resolution_Effects/w-34d-tmp_resolution.hdf5\", unshaped.(samples))"
   ]
  },
  {
   "cell_type": "code",
   "execution_count": null,
   "metadata": {},
   "outputs": [],
   "source": []
  },
  {
   "cell_type": "markdown",
   "metadata": {},
   "source": [
    "# Whitenig: "
   ]
  },
  {
   "cell_type": "code",
   "execution_count": null,
   "metadata": {},
   "outputs": [],
   "source": [
    "using MultivariateStats"
   ]
  },
  {
   "cell_type": "code",
   "execution_count": null,
   "metadata": {},
   "outputs": [],
   "source": [
    "resamples = bat_sample(samples, length(samples)).result\n",
    "flat_samples = collect(flatview(unshaped.(resamples.v)))\n",
    "\n",
    "W = fit(Whitening, flat_samples)\n",
    "\n",
    "plt.scatter(flat_samples[1,:], flat_samples[2,:])\n"
   ]
  },
  {
   "cell_type": "code",
   "execution_count": null,
   "metadata": {},
   "outputs": [],
   "source": [
    "smpl_tr = W.W' * (flat_samples .- W.mean) # white samples\n",
    "plt.scatter(smpl_tr[1,:], smpl_tr[2,:])\n"
   ]
  },
  {
   "cell_type": "code",
   "execution_count": null,
   "metadata": {},
   "outputs": [],
   "source": [
    "# min_s = minimum(smpl_tr, dims=2)\n",
    "# max_s = maximum(smpl_tr, dims=2)\n",
    "\n",
    "# @show min_s, max_s;"
   ]
  },
  {
   "cell_type": "code",
   "execution_count": null,
   "metadata": {},
   "outputs": [],
   "source": [
    "smpl_tr = inv(W.W')*smpl_tr .+ W.mean # back to original space\n",
    "plt.scatter(smpl_tr[1,:], smpl_tr[2,:])"
   ]
  },
  {
   "cell_type": "code",
   "execution_count": null,
   "metadata": {},
   "outputs": [],
   "source": [
    "β_min = 0.8\n",
    "β_max = 1.2\n",
    "\n",
    "minv = [β_min*param_truth.tr_size[1], β_min*param_truth.tr_size[2], β_min*param_truth.ang_spr[1], β_min*param_truth.tr_size[2], β_min*param_truth.s_waist[1]]\n",
    "maxv = [β_max*param_truth.tr_size[1], β_max*param_truth.tr_size[2], β_max*param_truth.ang_spr[1], β_max*param_truth.ang_spr[2], β_max*param_truth.s_waist[1]]\n",
    "\n",
    "prior_samples = rand(Product(Uniform.(minv, maxv)), 10^4)\n",
    "\n",
    "prior_samples = W.W' * (prior_samples .- W.mean)\n",
    "\n",
    "min_s = minimum(prior_samples, dims=2)\n",
    "max_s = maximum(prior_samples, dims=2)\n",
    "\n",
    "@show round.(min_s, sigdigits=2), round.(max_s, sigdigits=2);\n"
   ]
  },
  {
   "cell_type": "code",
   "execution_count": null,
   "metadata": {},
   "outputs": [],
   "source": [
    "@show W.W"
   ]
  },
  {
   "cell_type": "code",
   "execution_count": null,
   "metadata": {},
   "outputs": [],
   "source": [
    "@show W.mean"
   ]
  },
  {
   "cell_type": "code",
   "execution_count": null,
   "metadata": {},
   "outputs": [],
   "source": [
    "W.W' * ([param_truth.tr_size[1], param_truth.tr_size[2], param_truth.ang_spr[1], param_truth.ang_spr[2], param_truth.s_waist[1]] .- W.mean)"
   ]
  },
  {
   "cell_type": "code",
   "execution_count": null,
   "metadata": {},
   "outputs": [],
   "source": [
    "a1, a2, a3, a4, a5 = W.W' * ([param_truth.tr_size[1], param_truth.tr_size[2], param_truth.ang_spr[1], param_truth.ang_spr[2], param_truth.s_waist[1]] .- W.mean)\n",
    "\n"
   ]
  },
  {
   "cell_type": "code",
   "execution_count": null,
   "metadata": {},
   "outputs": [],
   "source": [
    "inv(W.W') * [a1, a2, a3, a4, a5] .+ W.mean"
   ]
  },
  {
   "cell_type": "code",
   "execution_count": null,
   "metadata": {},
   "outputs": [],
   "source": []
  }
 ],
 "metadata": {
  "kernelspec": {
   "display_name": "Julia 1.5.0",
   "language": "julia",
   "name": "julia-1.5"
  },
  "language_info": {
   "file_extension": ".jl",
   "mimetype": "application/julia",
   "name": "julia",
   "version": "1.5.0"
  }
 },
 "nbformat": 4,
 "nbformat_minor": 4
}
