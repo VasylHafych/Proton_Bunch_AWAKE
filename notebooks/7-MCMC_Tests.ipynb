{
 "cells": [
  {
   "cell_type": "markdown",
   "metadata": {},
   "source": [
    "# Example of MCMC run"
   ]
  },
  {
   "cell_type": "code",
   "execution_count": 1,
   "metadata": {},
   "outputs": [],
   "source": [
    "import Pkg"
   ]
  },
  {
   "cell_type": "code",
   "execution_count": 2,
   "metadata": {},
   "outputs": [
    {
     "name": "stdout",
     "output_type": "stream",
     "text": [
      "\u001b[32m\u001b[1mStatus\u001b[22m\u001b[39m `~/MPP-Project/gitrepos/Proton_Bunch_AWAKE/Project.toml`\n",
      " \u001b[90m [65a8f2f4] \u001b[39m\u001b[37mArraysOfArrays v0.5.0\u001b[39m\n",
      " \u001b[90m [c0cd4b16] \u001b[39m\u001b[37mBAT v2.0.0-DEV `https://github.com/bat/BAT.jl.git#aac99c2`\u001b[39m\n",
      " \u001b[90m [6e4b80f9] \u001b[39m\u001b[37mBenchmarkTools v0.5.0\u001b[39m\n",
      " \u001b[90m [aaaa29a8] \u001b[39m\u001b[37mClustering v0.14.2\u001b[39m\n",
      " \u001b[90m [717857b8] \u001b[39m\u001b[37mDSP v0.6.10\u001b[39m\n",
      " \u001b[90m [31c24e10] \u001b[39m\u001b[37mDistributions v0.23.12\u001b[39m\n",
      " \u001b[90m [5789e2e9] \u001b[39m\u001b[37mFileIO v1.4.5\u001b[39m\n",
      " \u001b[90m [f6369f11] \u001b[39m\u001b[37mForwardDiff v0.10.14\u001b[39m\n",
      " \u001b[90m [f67ccb44] \u001b[39m\u001b[37mHDF5 v0.15.1\u001b[39m\n",
      " \u001b[90m [7073ff75] \u001b[39m\u001b[37mIJulia v1.23.1\u001b[39m\n",
      " \u001b[90m [8197267c] \u001b[39m\u001b[37mIntervalSets v0.5.2\u001b[39m\n",
      " \u001b[90m [033835bb] \u001b[39m\u001b[37mJLD2 v0.3.1\u001b[39m\n",
      " \u001b[90m [eff96d63] \u001b[39m\u001b[37mMeasurements v2.3.0\u001b[39m\n",
      " \u001b[90m [6f286f6a] \u001b[39m\u001b[37mMultivariateStats v0.8.0\u001b[39m\n",
      " \u001b[90m [d96e819e] \u001b[39m\u001b[37mParameters v0.12.1\u001b[39m\n",
      " \u001b[90m [91a5bcdd] \u001b[39m\u001b[37mPlots v1.10.1\u001b[39m\n",
      " \u001b[90m [d330b81b] \u001b[39m\u001b[37mPyPlot v2.9.0\u001b[39m\n",
      " \u001b[90m [74087812] \u001b[39m\u001b[37mRandom123 v1.2.0\u001b[39m\n",
      " \u001b[90m [276daf66] \u001b[39m\u001b[37mSpecialFunctions v0.10.3\u001b[39m\n",
      " \u001b[90m [2913bbd2] \u001b[39m\u001b[37mStatsBase v0.33.2\u001b[39m\n",
      " \u001b[90m [4c63d2b9] \u001b[39m\u001b[37mStatsFuns v0.9.6\u001b[39m\n",
      " \u001b[90m [136a8f8c] \u001b[39m\u001b[37mValueShapes v0.7.6\u001b[39m\n",
      " \u001b[90m [37e2e46d] \u001b[39m\u001b[37mLinearAlgebra\u001b[39m\n",
      " \u001b[90m [9a3f8284] \u001b[39m\u001b[37mRandom\u001b[39m\n",
      " \u001b[90m [10745b16] \u001b[39m\u001b[37mStatistics\u001b[39m\n"
     ]
    }
   ],
   "source": [
    "Pkg.status()"
   ]
  },
  {
   "cell_type": "code",
   "execution_count": 3,
   "metadata": {},
   "outputs": [],
   "source": [
    "using JLD2\n",
    "using FileIO\n",
    "using PyPlot\n",
    "using Statistics\n",
    "using StatsBase \n",
    "using Distributions\n",
    "using LinearAlgebra\n",
    "import HDF5\n",
    "using BenchmarkTools"
   ]
  },
  {
   "cell_type": "code",
   "execution_count": 4,
   "metadata": {},
   "outputs": [],
   "source": [
    "using IntervalSets\n",
    "using Random, ArraysOfArrays\n",
    "using ValueShapes\n",
    "using Measurements\n",
    "using BenchmarkTools\n",
    "using DSP"
   ]
  },
  {
   "cell_type": "code",
   "execution_count": 5,
   "metadata": {},
   "outputs": [
    {
     "name": "stderr",
     "output_type": "stream",
     "text": [
      "┌ Warning: Error requiring `HDF5` from `BAT`\n",
      "│   exception = (LoadError(\"/user/.julia/packages/BAT/U7RyT/src/io/hdf5_specific.jl\", 4, UndefVarError(:DataFile)), Union{Ptr{Nothing}, Base.InterpreterIP}[Ptr{Nothing} @0x00007f14ccb4073f, Ptr{Nothing} @0x00007f14ccbd2944, Ptr{Nothing} @0x00007f14be16bef2, Ptr{Nothing} @0x00007f14ccbb82f2, Ptr{Nothing} @0x00007f14ccbd15f5, Ptr{Nothing} @0x00007f14ccbd123f, Ptr{Nothing} @0x00007f14ccbd1c43, Ptr{Nothing} @0x00007f14ccbd2ea7, Base.InterpreterIP in top-level CodeInfo for BAT at statement 3, Ptr{Nothing} @0x00007f14ccbf0129, Ptr{Nothing} @0x00007f14ccbc2905, Ptr{Nothing} @0x00007f14ccbf16d1, Ptr{Nothing} @0x00007f14be6674ed, Ptr{Nothing} @0x00007f1454e431ee, Ptr{Nothing} @0x00007f14ccbb7e27, Ptr{Nothing} @0x00007f14ccbd15f5, Ptr{Nothing} @0x00007f14ccbd123f, Ptr{Nothing} @0x00007f14ccbd1c43, Ptr{Nothing} @0x00007f14ccbd2ea7, Base.InterpreterIP in top-level CodeInfo for BAT at statement 12, Ptr{Nothing} @0x00007f14ccbf0129, Ptr{Nothing} @0x00007f14ccbf13a0, Ptr{Nothing} @0x00007f1454e35391, Ptr{Nothing} @0x00007f1454e353bc, Ptr{Nothing} @0x00007f14ccbb7e27, Ptr{Nothing} @0x00007f1454de26f4, Ptr{Nothing} @0x00007f1454e352fd, Ptr{Nothing} @0x00007f1454e3531c, Ptr{Nothing} @0x00007f14ccbb7e27, Ptr{Nothing} @0x00007f14b412ccab, Ptr{Nothing} @0x00007f1454e35285, Ptr{Nothing} @0x00007f1454e352ac, Ptr{Nothing} @0x00007f14ccbb7e27, Ptr{Nothing} @0x00007f1454de204c, Ptr{Nothing} @0x00007f1454e350f5, Ptr{Nothing} @0x00007f1454e351ac, Ptr{Nothing} @0x00007f14ccbb7e27, Ptr{Nothing} @0x00007f14ccbef0d5, Ptr{Nothing} @0x00007f14ccbe4acc, Ptr{Nothing} @0x00007f1454dd5b8b, Ptr{Nothing} @0x00007f1454dd6dac, Ptr{Nothing} @0x00007f1454dde789, Ptr{Nothing} @0x00007f1454de0a28, Ptr{Nothing} @0x00007f1454de18f2, Ptr{Nothing} @0x00007f14ccbb82f2, Ptr{Nothing} @0x00007f14ccbeea8a, Ptr{Nothing} @0x00007f14ccbefea9, Ptr{Nothing} @0x00007f14ccbc2905, Ptr{Nothing} @0x00007f14bde086f3, Ptr{Nothing} @0x00007f14b40ddd59, Ptr{Nothing} @0x00007f14ccbb82f2, Ptr{Nothing} @0x00007f1454dc8558, Ptr{Nothing} @0x00007f14ccbb7e27, Ptr{Nothing} @0x00007f14ccbc80d3, Ptr{Nothing} @0x00007f14ccbc89b1, Ptr{Nothing} @0x00007f14b40cc78f, Ptr{Nothing} @0x00007f14b40cc9ce, Ptr{Nothing} @0x00007f14b40cc9ec, Ptr{Nothing} @0x00007f14ccbb7e27, Ptr{Nothing} @0x00007f14ccbd696e, Ptr{Nothing} @0x0000000000000000])\n",
      "└ @ Requires /user/.julia/packages/Requires/035xH/src/require.jl:44\n"
     ]
    }
   ],
   "source": [
    "# using Revise\n",
    "using Random123\n",
    "using BAT "
   ]
  },
  {
   "cell_type": "markdown",
   "metadata": {},
   "source": [
    "# Load Data"
   ]
  },
  {
   "cell_type": "code",
   "execution_count": 6,
   "metadata": {},
   "outputs": [
    {
     "data": {
      "text/plain": [
       "trunc_norm (generic function with 1 method)"
      ]
     },
     "execution_count": 6,
     "metadata": {},
     "output_type": "execute_result"
    }
   ],
   "source": [
    "function trunc_norm(m, sgm; alpha=2)\n",
    "    return truncated(Normal(m, sgm), m - alpha*sgm, m + alpha*sgm)\n",
    "end"
   ]
  },
  {
   "cell_type": "markdown",
   "metadata": {},
   "source": [
    "## 1.1 Low `p` Population: "
   ]
  },
  {
   "cell_type": "code",
   "execution_count": 7,
   "metadata": {},
   "outputs": [],
   "source": [
    "# conv_mat = load(\"../data/experiment/dataset_2/m1/conv-matrix-upd-2.jld2\")\n",
    "\n",
    "# conv_matrices = (\n",
    "#     cam_1 = conv_mat[\"cam_1\"],\n",
    "#     cam_2 = conv_mat[\"cam_2\"],\n",
    "#     cam_3 = conv_mat[\"cam_3\"],\n",
    "#     cam_4 = conv_mat[\"cam_4\"], \n",
    "# )\n",
    "\n",
    "# images = load(\"../data/experiment/dataset_2/m1/images-satur.jld2\");\n",
    "# event_number = 343\n",
    "\n",
    "# # Small Charge: Ev_1_3 = 343, Ev_1_1 = 137, Ev_1_2 = 9\n",
    "\n",
    "# event = (\n",
    "#     cam_1 = images[\"cam_1\"][event_number,:,:],\n",
    "#     cam_2 = images[\"cam_2\"][event_number,:,:],\n",
    "#     cam_3 = images[\"cam_3\"][event_number,:,:],\n",
    "#     cam_4 = images[\"cam_4\"][event_number,:,:],\n",
    "#     population = images[\"charge\"][event_number,:][1],\n",
    "# );"
   ]
  },
  {
   "cell_type": "markdown",
   "metadata": {},
   "source": [
    "## 1.2 High `p` Population: "
   ]
  },
  {
   "cell_type": "code",
   "execution_count": 8,
   "metadata": {},
   "outputs": [],
   "source": [
    "conv_mat = load(\"../data/experiment/dataset_2/m2/conv-matrix-upd-2.jld2\") \n",
    "\n",
    "conv_matrices = (\n",
    "    cam_1 = conv_mat[\"cam_1\"],\n",
    "    cam_2 = conv_mat[\"cam_2\"],\n",
    "    cam_3 = conv_mat[\"cam_3\"],\n",
    "    cam_4 = conv_mat[\"cam_4\"], \n",
    ") \n",
    "\n",
    "images = load(\"../data/experiment/dataset_2/m2/images-satur.jld2\"); # removed saturated pixels\n",
    "# images = load(\"../data/experiment/dataset_2/m2/images.jld2\"); # included saturated pixels\n",
    "event_number = 2\n",
    "\n",
    "# Large Charge: Ev_2_2 = 2, Ev_2_1 = 311, Ev_2_3 = 440\n",
    "\n",
    "event = (\n",
    "    cam_1 = images[\"cam_1\"][event_number,:,:],\n",
    "    cam_2 = images[\"cam_2\"][event_number,:,:],\n",
    "    cam_3 = images[\"cam_3\"][event_number,:,:],\n",
    "    cam_4 = images[\"cam_4\"][event_number,:,:],\n",
    "    population = images[\"charge\"][event_number,:][1],\n",
    ");\n"
   ]
  },
  {
   "cell_type": "code",
   "execution_count": 9,
   "metadata": {},
   "outputs": [
    {
     "data": {
      "image/png": "[encoded data removed]",
      "text/plain": [
       "Figure(PyObject <Figure size 700x700 with 4 Axes>)"
      ]
     },
     "metadata": {},
     "output_type": "display_data"
    },
    {
     "data": {
      "text/plain": [
       "PyObject <matplotlib.collections.QuadMesh object at 0x7f144866dc70>"
      ]
     },
     "execution_count": 9,
     "metadata": {},
     "output_type": "execute_result"
    }
   ],
   "source": [
    "fig, ax = plt.subplots(2,2, figsize=(7,7))\n",
    "fig.subplots_adjust(hspace=0.2, wspace=0.2)\n",
    "\n",
    "ax[1,1].pcolormesh(event.cam_1, cmap=\"RdYlBu_r\")\n",
    "ax[1,2].pcolormesh(event.cam_2, cmap=\"RdYlBu_r\")\n",
    "ax[2,1].pcolormesh(event.cam_3, cmap=\"RdYlBu_r\")\n",
    "ax[2,2].pcolormesh(event.cam_4, cmap=\"RdYlBu_r\")"
   ]
  },
  {
   "cell_type": "markdown",
   "metadata": {},
   "source": [
    "# Load Model"
   ]
  },
  {
   "cell_type": "markdown",
   "metadata": {},
   "source": [
    "## Model 35: "
   ]
  },
  {
   "cell_type": "code",
   "execution_count": 10,
   "metadata": {},
   "outputs": [
    {
     "data": {
      "text/plain": [
       "plot_projections (generic function with 1 method)"
      ]
     },
     "execution_count": 10,
     "metadata": {},
     "output_type": "execute_result"
    }
   ],
   "source": [
    "include(\"../src/model-35/likelihood.jl\")\n",
    "include(\"../src/model-35/utill_model.jl\")\n",
    "include(\"../src/utill.jl\")"
   ]
  },
  {
   "cell_type": "code",
   "execution_count": 11,
   "metadata": {},
   "outputs": [],
   "source": [
    "β1= 0.015\n",
    "β2 = 0.0077\n",
    "β3 = 0.0058 \n",
    "\n",
    "prior = NamedTupleDist(\n",
    "    tr_size = [truncated(Normal(0.2, 0.04), 0.05, 0.20), truncated(Normal(0.2, 0.04), 0.05, 0.20)],\n",
    "    ang_spr = [truncated(Normal(4.0, 2.0), 3.0, 6.0), truncated(Normal(4.0, 2.0), 3.0, 6.0)],\n",
    "    waist = [truncated(Normal(2.9, 0.03), 2.65, 3.3)],\n",
    "    algmx = [23.0 .. 48, 23.0 .. 48.0, 10.0 .. 30.0, 23.0 .. 48.0],\n",
    "    algmy = [23.0 .. 48, 23.0 .. 48.0, 10.0 .. 30.0, 23.0 .. 48.0],\n",
    "    cam4_ped = 4.0 .. 40.0,\n",
    "    cam4_light_fluct = 1.0 .. 3.0,\n",
    "    cam4_light_amp = 1.6 .. 9.9, \n",
    "    resx = [1.0, 1.0, 1.0], \n",
    "    resy = [1.0, 1.0, 1.0], \n",
    "    cam4_resx = truncated(Normal(3, 1.5), 0, Inf),\n",
    "    cam4_resy = truncated(Normal(3, 1.5), 0, Inf),\n",
    "    psx = [27.1, 21.6, 114.0], # 31, 32, 33\n",
    "    psy = [30.5, 23.4, 125.0], # 34, 35, 36\n",
    "    cam4_psx = 121.8, # 37\n",
    "    cam4_psy = 120.0, # 38\n",
    "    light_amp  = [1.0 .. 13.0 , 1.0 .. 17.0, 1.0 .. 5.0], # 1.0 .. 5.0\n",
    "    s_cam = [0.0, 1.478, 15.026, 23.1150],\n",
    "); \n"
   ]
  },
  {
   "cell_type": "markdown",
   "metadata": {},
   "source": [
    "## Model 38: "
   ]
  },
  {
   "cell_type": "code",
   "execution_count": 12,
   "metadata": {},
   "outputs": [],
   "source": [
    "# include(\"../src/model-38/likelihood.jl\")\n",
    "# include(\"../src/model-38/utill_model.jl\")\n",
    "# include(\"../src/utill.jl\")"
   ]
  },
  {
   "cell_type": "code",
   "execution_count": 13,
   "metadata": {},
   "outputs": [],
   "source": [
    "# β1= 0.015\n",
    "# β2 = 0.0077\n",
    "# β3 = 0.0058 \n",
    "\n",
    "# prior = NamedTupleDist(\n",
    "#     tr_size = [truncated(Normal(0.2, 0.04), 0.08, 0.25), truncated(Normal(0.2, 0.04), 0.08, 0.25)],\n",
    "#     ang_spr = [truncated(Normal(4.0, 2.0), 4.0, 7.0), truncated(Normal(4.0, 2.0), 4.0, 7.0)],\n",
    "#     ang_spr_2 = [truncated(Normal(4.0, 2.0), 1.0, 3.5), truncated(Normal(4.0, 2.0), 1.0, 3.5)],\n",
    "#     mixt_pow =  0.50 .. 1.0 ,\n",
    "#     waist = [truncated(Normal(2.9, 0.03), 2.65, 3.3)],\n",
    "#     algmx = [23.0 .. 48, 23.0 .. 48.0, 10.0 .. 30.0, 23.0 .. 48.0],\n",
    "#     algmy = [23.0 .. 48, 23.0 .. 48.0, 10.0 .. 30.0, 23.0 .. 48.0],\n",
    "#     cam4_ped = 4.0 .. 40.0,\n",
    "#     cam4_light_fluct = 1.0 .. 3.0,\n",
    "#     cam4_light_amp = 1.6 .. 9.9, \n",
    "#     resx = [trunc_norm(1, 0.5), trunc_norm(2, 1), trunc_norm(1, 0.5)], # 23, 24, 25, \n",
    "#     resy = [trunc_norm(1, 0.5), trunc_norm(2, 1), trunc_norm(1, 0.5)], # 26,27, 28, \n",
    "#     cam4_resx = trunc_norm(3, 1.5), # 29, \n",
    "#     cam4_resy = trunc_norm(3, 1.5), # 30\n",
    "#     psx = [trunc_norm(27.1, 27.1*β1), trunc_norm(21.6, 21.6*β1), trunc_norm(114.0, 114.0*β2)], # 31, 32, 33\n",
    "#     psy = [trunc_norm(30.5, 30.5*β1), trunc_norm(23.4, 23.4*β1), trunc_norm(125.0, 125.0*β2)], # 34, 35, 36\n",
    "#     cam4_psx = trunc_norm(121.8, 121.8*β3), # 37\n",
    "#     cam4_psy = trunc_norm(120.0, 120.0*β3), # 38\n",
    "#     light_amp  = [1.0 .. 13.0 , 1.0 .. 17.0, 1.0 .. 5.0], # 1.0 .. 5.0\n",
    "#     s_cam = [0.0, 1.478, 15.026, 23.1150],\n",
    "# ) ;\n",
    "\n",
    "# prior = NamedTupleDist(\n",
    "#     tr_size = [truncated(Normal(0.2, 0.04), 0.06, 0.20), truncated(Normal(0.2, 0.04), 0.06, 0.20)],\n",
    "#     ang_spr = [truncated(Normal(4.0, 2.0), 4.0, 7.0), truncated(Normal(4.0, 2.0), 4.0, 7.0)],\n",
    "#     ang_spr_2 = [truncated(Normal(4.0, 2.0), 1.0, 3.5), truncated(Normal(4.0, 2.0), 1.0, 3.5)],\n",
    "#     mixt_pow =  0.50 .. 1.0 ,\n",
    "#     waist = [truncated(Normal(2.9, 0.03), 2.65, 3.3)],\n",
    "#     algmx = [23.0 .. 48, 23.0 .. 48.0, 10.0 .. 30.0, 23.0 .. 48.0],\n",
    "#     algmy = [23.0 .. 48, 23.0 .. 48.0, 10.0 .. 30.0, 23.0 .. 48.0],\n",
    "#     cam4_ped = 4.0 .. 40.0,\n",
    "#     cam4_light_fluct = 2.0,\n",
    "#     cam4_light_amp = 1.6 .. 9.9, \n",
    "#     resx = [1, 1, 1], # 23, 24, 25, \n",
    "#     resy = [1, 1, 1], # 26,27, 28, \n",
    "#     cam4_resx = truncated(Normal(3, 1.5), 0, Inf),\n",
    "#     cam4_resy = truncated(Normal(3, 1.5), 0, Inf), \n",
    "#     psx = [27.1, 21.6, 114.0], # 31, 32, 33\n",
    "#     psy = [30.5, 23.4, 125.0], # 34, 35, 36\n",
    "#     cam4_psx = 121.8, # 37\n",
    "#     cam4_psy = 120.0, # 38\n",
    "#     light_amp  = [1.0 .. 13.0 , 1.0 .. 17.0, 1.0 .. 5.0], # 1.0 .. 5.0\n",
    "#     s_cam = [0.0, 1.478, 15.026, 23.1150],\n",
    "# ) ;"
   ]
  },
  {
   "cell_type": "markdown",
   "metadata": {},
   "source": [
    "## Model 41: "
   ]
  },
  {
   "cell_type": "code",
   "execution_count": 14,
   "metadata": {},
   "outputs": [],
   "source": [
    "# include(\"../src/model-41/likelihood.jl\")\n",
    "# include(\"../src/model-41/utill_model.jl\")\n",
    "# include(\"../src/utill.jl\")"
   ]
  },
  {
   "cell_type": "code",
   "execution_count": 15,
   "metadata": {},
   "outputs": [],
   "source": [
    "# β1= 0.015\n",
    "# β2 = 0.0077\n",
    "# β3 = 0.0058 \n",
    "\n",
    "# prior = NamedTupleDist(\n",
    "#         tr_size = [truncated(Normal(0.2, 0.04), 0.03, 0.16), truncated(Normal(0.2, 0.04), 0.03, 0.16)],\n",
    "#         tr_size_2 = [truncated(Normal(0.2, 0.04), 0.03, 0.16), truncated(Normal(0.2, 0.04), 0.03, 0.16)],\n",
    "#         ang_spr = [truncated(Normal(4.0, 2.0), 4.0, 7.0), truncated(Normal(4.0, 2.0), 4.0, 7.0)],\n",
    "#         ang_spr_2 = [truncated(Normal(4.0, 2.0), 1.0, 4.0), truncated(Normal(4.0, 2.0), 1.0, 4.0)],\n",
    "#         mixt_pow =  0.30 .. 1.0 ,\n",
    "#         waist = [truncated(Normal(2.9, 0.03), 2.65, 3.5)],\n",
    "#         waist_2 = [truncated(Normal(2.9, 0.03), 2.65, 3.5)], # 11\n",
    "#         algmx = [23.0 .. 48, 23.0 .. 48.0, 10.0 .. 30.0, 23.0 .. 48.0],\n",
    "#         algmy = [23.0 .. 48, 23.0 .. 48.0, 10.0 .. 30.0, 23.0 .. 48.0],\n",
    "#         cam4_ped = 4.0 .. 40.0,\n",
    "#         cam4_light_fluct =  1.0 .. 3.0,\n",
    "#         cam4_light_amp = 1.6 .. 9.9, \n",
    "#         resx = [1, 1, 1], # 23, 24, 25, \n",
    "#         resy = [1, 1, 1], # 26,27, 28, \n",
    "#         cam4_resx = truncated(Normal(3, 1.5), 0, Inf),\n",
    "#         cam4_resy = truncated(Normal(3, 1.5), 0, Inf), \n",
    "#         psx = [27.1, 21.6, 114.0], # 31, 32, 33\n",
    "#         psy = [30.5, 23.4, 125.0], # 34, 35, 36\n",
    "#         cam4_psx = 121.8, # 37\n",
    "#         cam4_psy = 120.0, # 38\n",
    "#         light_amp  = [1.0 .. 13.0 , 1.0 .. 17.0, 1.0 .. 5.0], # 1.0 .. 5.0\n",
    "#         s_cam = [0.0, 1.478, 15.026, 23.1150],\n",
    "#     );\n",
    "\n"
   ]
  },
  {
   "cell_type": "markdown",
   "metadata": {},
   "source": [
    "# MCMC settings: "
   ]
  },
  {
   "cell_type": "code",
   "execution_count": 16,
   "metadata": {},
   "outputs": [
    {
     "data": {
      "text/plain": [
       "#50 (generic function with 1 method)"
      ]
     },
     "execution_count": 16,
     "metadata": {},
     "output_type": "execute_result"
    }
   ],
   "source": [
    "\"\"\"\n",
    "    Log-Likelihood of the beamline (4 cameras included)\n",
    "\"\"\"\n",
    "function log_lik_ndiff(;  \n",
    "    e = event,\n",
    "    cv_mat = conv_matrices,\n",
    "    func = conv_tabl_discrete,\n",
    "    cv_1 = cv_mat.cam_1,\n",
    "    cv_2 = cv_mat.cam_2,\n",
    "    cv_3 = cv_mat.cam_3,\n",
    "    n_threads = Threads.nthreads(),\n",
    "    )\n",
    "    \n",
    "    return params -> begin \n",
    "        ll = 0.0\n",
    "        ll += likelihood_cam13(params, e.cam_1, e.population, cv_1, func, 1, n_threads=n_threads)\n",
    "        ll += likelihood_cam13(params, e.cam_2, e.population, cv_2, func, 2, n_threads=n_threads)\n",
    "        ll += likelihood_cam13(params, e.cam_3, e.population, cv_3, func, 3, n_threads=n_threads)\n",
    "        ll += likelihood_cam4(params, e.cam_4, e.population, 4, n_threads=n_threads)\n",
    "        return LogDVal(ll)\n",
    "    end\n",
    "        \n",
    "end\n",
    "\n",
    "function log_lik_diff(;  \n",
    "    e = event,\n",
    "    cv_mat = conv_matrices,\n",
    "    func = conv_tabl_cont,\n",
    "    cv_1 = exp.(cv_mat.cam_1),\n",
    "    cv_2 = exp.(cv_mat.cam_2),\n",
    "    cv_3 = exp.(cv_mat.cam_3),\n",
    "    n_threads = Threads.nthreads(),\n",
    "    )\n",
    "    \n",
    "    return params -> begin \n",
    "        ll = 0.0\n",
    "        ll += likelihood_cam13(params, e.cam_1, e.population, cv_1, func, 1, n_threads=n_threads)\n",
    "        ll += likelihood_cam13(params, e.cam_2, e.population, cv_2, func, 2, n_threads=n_threads)\n",
    "        ll += likelihood_cam13(params, e.cam_3, e.population, cv_3, func, 3, n_threads=n_threads)\n",
    "        ll += likelihood_cam4(params, e.cam_4, e.population, 4, n_threads=n_threads)\n",
    "        \n",
    "        return LogDVal(ll)\n",
    "    end\n",
    "    \n",
    "end\n",
    "\n",
    "# log_likelihood = log_lik_diff()\n",
    "\n",
    "log_likelihood = log_lik_ndiff()"
   ]
  },
  {
   "cell_type": "code",
   "execution_count": 17,
   "metadata": {},
   "outputs": [],
   "source": [
    "# posterior = PosteriorDensity(log_likelihood, prior)\n",
    "\n",
    "# tuning = AdaptiveMHTuning(\n",
    "#     λ = 0.5,\n",
    "#     α = ClosedInterval(0.15,0.25),\n",
    "#     β = 1.5,\n",
    "#     c = ClosedInterval(1e-4,1e2),\n",
    "#     r = 0.5,\n",
    "# )\n",
    "\n",
    "# convergence = BrooksGelmanConvergence(\n",
    "#     threshold = 1.1,\n",
    "#     corrected = false\n",
    "# )\n",
    "\n",
    "# init = MCMCChainPoolInit(\n",
    "#     init_tries_per_chain = ClosedInterval(50,150),\n",
    "#     max_nsamples_init = 500,\n",
    "#     max_nsteps_init = 500,\n",
    "#     max_time_init = Inf\n",
    "# )\n",
    "\n",
    "# burnin = MCMCMultiCycleBurnin(\n",
    "#     max_nsamples_per_cycle = 10000,\n",
    "#     max_nsteps_per_cycle = 10000,\n",
    "#     max_time_per_cycle = Inf,\n",
    "#     max_ncycles = 130\n",
    "# )\n",
    "\n",
    "# nsamples = 1*10^5\n",
    "# nchains = 4\n",
    "\n",
    "# sampler = MetropolisHastings(tuning=tuning,)\n",
    "\n",
    "# algorithm = MCMCSampling(sampler=sampler, \n",
    "#     nchains=nchains, \n",
    "#     init=init, \n",
    "#     burnin=burnin, \n",
    "#     convergence=convergence\n",
    "# );"
   ]
  },
  {
   "cell_type": "code",
   "execution_count": 18,
   "metadata": {
    "jupyter": {
     "source_hidden": true
    }
   },
   "outputs": [],
   "source": [
    "# log_likelihood(param_truth)\n",
    "# @benchmark log_likelihood(param_truth)"
   ]
  },
  {
   "cell_type": "code",
   "execution_count": 19,
   "metadata": {},
   "outputs": [],
   "source": [
    "posterior = PosteriorDensity(log_likelihood, prior)\n",
    "\n",
    "tuning = AdaptiveMHTuning(\n",
    "    λ = 0.5,\n",
    "    α = ClosedInterval(0.15,0.25),\n",
    "    β = 1.5,\n",
    "    c = ClosedInterval(1e-4,1e2),\n",
    "    r = 0.5,\n",
    ")\n",
    "\n",
    "mcmcalgo = MetropolisHastings(\n",
    "    weighting = RepetitionWeighting(),\n",
    "    tuning = tuning\n",
    ")\n",
    "\n",
    "rng = Philox4x()\n",
    "\n",
    "init = MCMCChainPoolInit(\n",
    "    init_tries_per_chain = 50 .. 150,\n",
    "    nsteps_init = 1000\n",
    ")\n",
    "\n",
    "burnin = MCMCMultiCycleBurnin(\n",
    "    max_ncycles = 100,\n",
    "    nsteps_per_cycle = 10000\n",
    ")\n",
    "\n",
    "nsamples = 1*10^5\n",
    "nchains = 4\n",
    "\n",
    "convergence = BrooksGelmanConvergence();"
   ]
  },
  {
   "cell_type": "code",
   "execution_count": 20,
   "metadata": {},
   "outputs": [
    {
     "name": "stderr",
     "output_type": "stream",
     "text": [
      "┌ Info: Using tranform algorithm PriorSubstitution()\n",
      "└ @ BAT /user/.julia/packages/BAT/U7RyT/src/algotypes/bat_default.jl:44\n",
      "┌ Info: Trying to generate 4 viable MCMC chain(s).\n",
      "└ @ BAT /user/.julia/packages/BAT/U7RyT/src/samplers/mcmc/chain_pool_init.jl:48\n",
      "┌ Info: Selected 4 MCMC chain(s).\n",
      "└ @ BAT /user/.julia/packages/BAT/U7RyT/src/samplers/mcmc/chain_pool_init.jl:166\n",
      "┌ Info: Begin tuning of 4 MCMC chain(s).\n",
      "└ @ BAT /user/.julia/packages/BAT/U7RyT/src/samplers/mcmc/multi_cycle_burnin.jl:27\n",
      "┌ Info: MCMC Tuning cycle 1 finished, 4 chains, 0 tuned, 0 converged.\n",
      "└ @ BAT /user/.julia/packages/BAT/U7RyT/src/samplers/mcmc/multi_cycle_burnin.jl:57\n",
      "┌ Info: MCMC Tuning cycle 2 finished, 4 chains, 0 tuned, 0 converged.\n",
      "└ @ BAT /user/.julia/packages/BAT/U7RyT/src/samplers/mcmc/multi_cycle_burnin.jl:57\n",
      "┌ Info: MCMC Tuning cycle 3 finished, 4 chains, 0 tuned, 0 converged.\n",
      "└ @ BAT /user/.julia/packages/BAT/U7RyT/src/samplers/mcmc/multi_cycle_burnin.jl:57\n",
      "┌ Info: MCMC Tuning cycle 4 finished, 4 chains, 0 tuned, 0 converged.\n",
      "└ @ BAT /user/.julia/packages/BAT/U7RyT/src/samplers/mcmc/multi_cycle_burnin.jl:57\n",
      "┌ Info: MCMC Tuning cycle 5 finished, 4 chains, 0 tuned, 0 converged.\n",
      "└ @ BAT /user/.julia/packages/BAT/U7RyT/src/samplers/mcmc/multi_cycle_burnin.jl:57\n",
      "┌ Info: MCMC Tuning cycle 6 finished, 4 chains, 0 tuned, 0 converged.\n",
      "└ @ BAT /user/.julia/packages/BAT/U7RyT/src/samplers/mcmc/multi_cycle_burnin.jl:57\n",
      "┌ Info: MCMC Tuning cycle 7 finished, 4 chains, 0 tuned, 0 converged.\n",
      "└ @ BAT /user/.julia/packages/BAT/U7RyT/src/samplers/mcmc/multi_cycle_burnin.jl:57\n",
      "┌ Info: MCMC Tuning cycle 8 finished, 4 chains, 0 tuned, 0 converged.\n",
      "└ @ BAT /user/.julia/packages/BAT/U7RyT/src/samplers/mcmc/multi_cycle_burnin.jl:57\n",
      "┌ Info: MCMC Tuning cycle 9 finished, 4 chains, 0 tuned, 0 converged.\n",
      "└ @ BAT /user/.julia/packages/BAT/U7RyT/src/samplers/mcmc/multi_cycle_burnin.jl:57\n",
      "┌ Info: MCMC Tuning cycle 10 finished, 4 chains, 0 tuned, 0 converged.\n",
      "└ @ BAT /user/.julia/packages/BAT/U7RyT/src/samplers/mcmc/multi_cycle_burnin.jl:57\n",
      "┌ Info: MCMC Tuning cycle 11 finished, 4 chains, 0 tuned, 0 converged.\n",
      "└ @ BAT /user/.julia/packages/BAT/U7RyT/src/samplers/mcmc/multi_cycle_burnin.jl:57\n",
      "┌ Info: MCMC Tuning cycle 12 finished, 4 chains, 0 tuned, 0 converged.\n",
      "└ @ BAT /user/.julia/packages/BAT/U7RyT/src/samplers/mcmc/multi_cycle_burnin.jl:57\n",
      "┌ Info: MCMC Tuning cycle 13 finished, 4 chains, 0 tuned, 0 converged.\n",
      "└ @ BAT /user/.julia/packages/BAT/U7RyT/src/samplers/mcmc/multi_cycle_burnin.jl:57\n",
      "┌ Info: MCMC Tuning cycle 14 finished, 4 chains, 0 tuned, 0 converged.\n",
      "└ @ BAT /user/.julia/packages/BAT/U7RyT/src/samplers/mcmc/multi_cycle_burnin.jl:57\n",
      "┌ Info: MCMC Tuning cycle 15 finished, 4 chains, 0 tuned, 0 converged.\n",
      "└ @ BAT /user/.julia/packages/BAT/U7RyT/src/samplers/mcmc/multi_cycle_burnin.jl:57\n",
      "┌ Info: MCMC Tuning cycle 16 finished, 4 chains, 0 tuned, 0 converged.\n",
      "└ @ BAT /user/.julia/packages/BAT/U7RyT/src/samplers/mcmc/multi_cycle_burnin.jl:57\n",
      "┌ Info: MCMC Tuning cycle 17 finished, 4 chains, 1 tuned, 0 converged.\n",
      "└ @ BAT /user/.julia/packages/BAT/U7RyT/src/samplers/mcmc/multi_cycle_burnin.jl:57\n",
      "┌ Info: MCMC Tuning cycle 18 finished, 4 chains, 0 tuned, 0 converged.\n",
      "└ @ BAT /user/.julia/packages/BAT/U7RyT/src/samplers/mcmc/multi_cycle_burnin.jl:57\n",
      "┌ Info: MCMC Tuning cycle 19 finished, 4 chains, 1 tuned, 0 converged.\n",
      "└ @ BAT /user/.julia/packages/BAT/U7RyT/src/samplers/mcmc/multi_cycle_burnin.jl:57\n",
      "┌ Info: MCMC Tuning cycle 20 finished, 4 chains, 1 tuned, 0 converged.\n",
      "└ @ BAT /user/.julia/packages/BAT/U7RyT/src/samplers/mcmc/multi_cycle_burnin.jl:57\n",
      "┌ Info: MCMC Tuning cycle 21 finished, 4 chains, 3 tuned, 0 converged.\n",
      "└ @ BAT /user/.julia/packages/BAT/U7RyT/src/samplers/mcmc/multi_cycle_burnin.jl:57\n",
      "┌ Info: MCMC Tuning cycle 22 finished, 4 chains, 4 tuned, 0 converged.\n",
      "└ @ BAT /user/.julia/packages/BAT/U7RyT/src/samplers/mcmc/multi_cycle_burnin.jl:57\n",
      "┌ Info: MCMC Tuning cycle 23 finished, 4 chains, 3 tuned, 0 converged.\n",
      "└ @ BAT /user/.julia/packages/BAT/U7RyT/src/samplers/mcmc/multi_cycle_burnin.jl:57\n",
      "┌ Info: MCMC Tuning cycle 24 finished, 4 chains, 3 tuned, 0 converged.\n",
      "└ @ BAT /user/.julia/packages/BAT/U7RyT/src/samplers/mcmc/multi_cycle_burnin.jl:57\n",
      "┌ Info: MCMC Tuning cycle 25 finished, 4 chains, 2 tuned, 0 converged.\n",
      "└ @ BAT /user/.julia/packages/BAT/U7RyT/src/samplers/mcmc/multi_cycle_burnin.jl:57\n",
      "┌ Info: MCMC Tuning cycle 26 finished, 4 chains, 1 tuned, 0 converged.\n",
      "└ @ BAT /user/.julia/packages/BAT/U7RyT/src/samplers/mcmc/multi_cycle_burnin.jl:57\n",
      "┌ Info: MCMC Tuning cycle 27 finished, 4 chains, 1 tuned, 0 converged.\n",
      "└ @ BAT /user/.julia/packages/BAT/U7RyT/src/samplers/mcmc/multi_cycle_burnin.jl:57\n",
      "┌ Info: MCMC Tuning cycle 28 finished, 4 chains, 2 tuned, 0 converged.\n",
      "└ @ BAT /user/.julia/packages/BAT/U7RyT/src/samplers/mcmc/multi_cycle_burnin.jl:57\n",
      "┌ Info: MCMC Tuning cycle 29 finished, 4 chains, 3 tuned, 0 converged.\n",
      "└ @ BAT /user/.julia/packages/BAT/U7RyT/src/samplers/mcmc/multi_cycle_burnin.jl:57\n",
      "┌ Info: MCMC Tuning cycle 30 finished, 4 chains, 2 tuned, 0 converged.\n",
      "└ @ BAT /user/.julia/packages/BAT/U7RyT/src/samplers/mcmc/multi_cycle_burnin.jl:57\n",
      "┌ Info: MCMC Tuning cycle 31 finished, 4 chains, 3 tuned, 0 converged.\n",
      "└ @ BAT /user/.julia/packages/BAT/U7RyT/src/samplers/mcmc/multi_cycle_burnin.jl:57\n",
      "┌ Info: MCMC Tuning cycle 32 finished, 4 chains, 3 tuned, 0 converged.\n",
      "└ @ BAT /user/.julia/packages/BAT/U7RyT/src/samplers/mcmc/multi_cycle_burnin.jl:57\n",
      "┌ Info: MCMC Tuning cycle 33 finished, 4 chains, 3 tuned, 0 converged.\n",
      "└ @ BAT /user/.julia/packages/BAT/U7RyT/src/samplers/mcmc/multi_cycle_burnin.jl:57\n",
      "┌ Info: MCMC Tuning cycle 34 finished, 4 chains, 3 tuned, 0 converged.\n",
      "└ @ BAT /user/.julia/packages/BAT/U7RyT/src/samplers/mcmc/multi_cycle_burnin.jl:57\n",
      "┌ Info: MCMC Tuning cycle 35 finished, 4 chains, 3 tuned, 0 converged.\n",
      "└ @ BAT /user/.julia/packages/BAT/U7RyT/src/samplers/mcmc/multi_cycle_burnin.jl:57\n",
      "┌ Info: MCMC Tuning cycle 36 finished, 4 chains, 3 tuned, 0 converged.\n",
      "└ @ BAT /user/.julia/packages/BAT/U7RyT/src/samplers/mcmc/multi_cycle_burnin.jl:57\n",
      "┌ Info: MCMC Tuning cycle 37 finished, 4 chains, 3 tuned, 0 converged.\n",
      "└ @ BAT /user/.julia/packages/BAT/U7RyT/src/samplers/mcmc/multi_cycle_burnin.jl:57\n",
      "┌ Info: MCMC Tuning cycle 38 finished, 4 chains, 3 tuned, 0 converged.\n",
      "└ @ BAT /user/.julia/packages/BAT/U7RyT/src/samplers/mcmc/multi_cycle_burnin.jl:57\n",
      "┌ Info: MCMC Tuning cycle 39 finished, 4 chains, 2 tuned, 0 converged.\n",
      "└ @ BAT /user/.julia/packages/BAT/U7RyT/src/samplers/mcmc/multi_cycle_burnin.jl:57\n",
      "┌ Info: MCMC Tuning cycle 40 finished, 4 chains, 4 tuned, 0 converged.\n",
      "└ @ BAT /user/.julia/packages/BAT/U7RyT/src/samplers/mcmc/multi_cycle_burnin.jl:57\n",
      "┌ Info: MCMC Tuning cycle 41 finished, 4 chains, 3 tuned, 0 converged.\n",
      "└ @ BAT /user/.julia/packages/BAT/U7RyT/src/samplers/mcmc/multi_cycle_burnin.jl:57\n",
      "┌ Info: MCMC Tuning cycle 42 finished, 4 chains, 4 tuned, 0 converged.\n",
      "└ @ BAT /user/.julia/packages/BAT/U7RyT/src/samplers/mcmc/multi_cycle_burnin.jl:57\n",
      "┌ Info: MCMC Tuning cycle 43 finished, 4 chains, 2 tuned, 0 converged.\n",
      "└ @ BAT /user/.julia/packages/BAT/U7RyT/src/samplers/mcmc/multi_cycle_burnin.jl:57\n",
      "┌ Info: MCMC Tuning cycle 44 finished, 4 chains, 3 tuned, 0 converged.\n",
      "└ @ BAT /user/.julia/packages/BAT/U7RyT/src/samplers/mcmc/multi_cycle_burnin.jl:57\n",
      "┌ Info: MCMC Tuning cycle 45 finished, 4 chains, 4 tuned, 0 converged.\n",
      "└ @ BAT /user/.julia/packages/BAT/U7RyT/src/samplers/mcmc/multi_cycle_burnin.jl:57\n",
      "┌ Info: MCMC Tuning cycle 46 finished, 4 chains, 3 tuned, 0 converged.\n",
      "└ @ BAT /user/.julia/packages/BAT/U7RyT/src/samplers/mcmc/multi_cycle_burnin.jl:57\n",
      "┌ Info: MCMC Tuning cycle 47 finished, 4 chains, 2 tuned, 0 converged.\n",
      "└ @ BAT /user/.julia/packages/BAT/U7RyT/src/samplers/mcmc/multi_cycle_burnin.jl:57\n",
      "┌ Info: MCMC Tuning cycle 48 finished, 4 chains, 2 tuned, 0 converged.\n",
      "└ @ BAT /user/.julia/packages/BAT/U7RyT/src/samplers/mcmc/multi_cycle_burnin.jl:57\n",
      "┌ Info: MCMC Tuning cycle 49 finished, 4 chains, 3 tuned, 0 converged.\n",
      "└ @ BAT /user/.julia/packages/BAT/U7RyT/src/samplers/mcmc/multi_cycle_burnin.jl:57\n",
      "┌ Info: MCMC Tuning cycle 50 finished, 4 chains, 3 tuned, 0 converged.\n",
      "└ @ BAT /user/.julia/packages/BAT/U7RyT/src/samplers/mcmc/multi_cycle_burnin.jl:57\n",
      "┌ Info: MCMC Tuning cycle 51 finished, 4 chains, 2 tuned, 0 converged.\n",
      "└ @ BAT /user/.julia/packages/BAT/U7RyT/src/samplers/mcmc/multi_cycle_burnin.jl:57\n",
      "┌ Info: MCMC Tuning cycle 52 finished, 4 chains, 3 tuned, 0 converged.\n",
      "└ @ BAT /user/.julia/packages/BAT/U7RyT/src/samplers/mcmc/multi_cycle_burnin.jl:57\n",
      "┌ Info: MCMC Tuning cycle 53 finished, 4 chains, 3 tuned, 0 converged.\n",
      "└ @ BAT /user/.julia/packages/BAT/U7RyT/src/samplers/mcmc/multi_cycle_burnin.jl:57\n",
      "┌ Info: MCMC Tuning cycle 54 finished, 4 chains, 1 tuned, 0 converged.\n",
      "└ @ BAT /user/.julia/packages/BAT/U7RyT/src/samplers/mcmc/multi_cycle_burnin.jl:57\n",
      "┌ Info: MCMC Tuning cycle 55 finished, 4 chains, 4 tuned, 0 converged.\n",
      "└ @ BAT /user/.julia/packages/BAT/U7RyT/src/samplers/mcmc/multi_cycle_burnin.jl:57\n",
      "┌ Info: MCMC Tuning cycle 56 finished, 4 chains, 2 tuned, 0 converged.\n",
      "└ @ BAT /user/.julia/packages/BAT/U7RyT/src/samplers/mcmc/multi_cycle_burnin.jl:57\n",
      "┌ Info: MCMC Tuning cycle 57 finished, 4 chains, 2 tuned, 0 converged.\n",
      "└ @ BAT /user/.julia/packages/BAT/U7RyT/src/samplers/mcmc/multi_cycle_burnin.jl:57\n",
      "┌ Info: MCMC Tuning cycle 58 finished, 4 chains, 2 tuned, 0 converged.\n",
      "└ @ BAT /user/.julia/packages/BAT/U7RyT/src/samplers/mcmc/multi_cycle_burnin.jl:57\n",
      "┌ Info: MCMC Tuning cycle 59 finished, 4 chains, 2 tuned, 0 converged.\n",
      "└ @ BAT /user/.julia/packages/BAT/U7RyT/src/samplers/mcmc/multi_cycle_burnin.jl:57\n",
      "┌ Info: MCMC Tuning cycle 60 finished, 4 chains, 1 tuned, 0 converged.\n",
      "└ @ BAT /user/.julia/packages/BAT/U7RyT/src/samplers/mcmc/multi_cycle_burnin.jl:57\n",
      "┌ Info: MCMC Tuning cycle 61 finished, 4 chains, 2 tuned, 0 converged.\n",
      "└ @ BAT /user/.julia/packages/BAT/U7RyT/src/samplers/mcmc/multi_cycle_burnin.jl:57\n",
      "┌ Info: MCMC Tuning cycle 62 finished, 4 chains, 3 tuned, 0 converged.\n",
      "└ @ BAT /user/.julia/packages/BAT/U7RyT/src/samplers/mcmc/multi_cycle_burnin.jl:57\n",
      "┌ Info: MCMC Tuning cycle 63 finished, 4 chains, 2 tuned, 0 converged.\n",
      "└ @ BAT /user/.julia/packages/BAT/U7RyT/src/samplers/mcmc/multi_cycle_burnin.jl:57\n",
      "┌ Info: MCMC Tuning cycle 64 finished, 4 chains, 3 tuned, 0 converged.\n",
      "└ @ BAT /user/.julia/packages/BAT/U7RyT/src/samplers/mcmc/multi_cycle_burnin.jl:57\n",
      "┌ Info: MCMC Tuning cycle 65 finished, 4 chains, 3 tuned, 0 converged.\n",
      "└ @ BAT /user/.julia/packages/BAT/U7RyT/src/samplers/mcmc/multi_cycle_burnin.jl:57\n",
      "┌ Info: MCMC Tuning cycle 66 finished, 4 chains, 3 tuned, 0 converged.\n",
      "└ @ BAT /user/.julia/packages/BAT/U7RyT/src/samplers/mcmc/multi_cycle_burnin.jl:57\n",
      "┌ Info: MCMC Tuning cycle 67 finished, 4 chains, 4 tuned, 0 converged.\n",
      "└ @ BAT /user/.julia/packages/BAT/U7RyT/src/samplers/mcmc/multi_cycle_burnin.jl:57\n",
      "┌ Info: MCMC Tuning cycle 68 finished, 4 chains, 4 tuned, 0 converged.\n",
      "└ @ BAT /user/.julia/packages/BAT/U7RyT/src/samplers/mcmc/multi_cycle_burnin.jl:57\n",
      "┌ Info: MCMC Tuning cycle 69 finished, 4 chains, 4 tuned, 0 converged.\n",
      "└ @ BAT /user/.julia/packages/BAT/U7RyT/src/samplers/mcmc/multi_cycle_burnin.jl:57\n",
      "┌ Info: MCMC Tuning cycle 70 finished, 4 chains, 4 tuned, 0 converged.\n",
      "└ @ BAT /user/.julia/packages/BAT/U7RyT/src/samplers/mcmc/multi_cycle_burnin.jl:57\n",
      "┌ Info: MCMC Tuning cycle 71 finished, 4 chains, 3 tuned, 0 converged.\n",
      "└ @ BAT /user/.julia/packages/BAT/U7RyT/src/samplers/mcmc/multi_cycle_burnin.jl:57\n",
      "┌ Info: MCMC Tuning cycle 72 finished, 4 chains, 2 tuned, 0 converged.\n",
      "└ @ BAT /user/.julia/packages/BAT/U7RyT/src/samplers/mcmc/multi_cycle_burnin.jl:57\n",
      "┌ Info: MCMC Tuning cycle 73 finished, 4 chains, 3 tuned, 0 converged.\n",
      "└ @ BAT /user/.julia/packages/BAT/U7RyT/src/samplers/mcmc/multi_cycle_burnin.jl:57\n",
      "┌ Info: MCMC Tuning cycle 74 finished, 4 chains, 3 tuned, 0 converged.\n",
      "└ @ BAT /user/.julia/packages/BAT/U7RyT/src/samplers/mcmc/multi_cycle_burnin.jl:57\n",
      "┌ Info: MCMC Tuning cycle 75 finished, 4 chains, 3 tuned, 0 converged.\n",
      "└ @ BAT /user/.julia/packages/BAT/U7RyT/src/samplers/mcmc/multi_cycle_burnin.jl:57\n",
      "┌ Info: MCMC Tuning cycle 76 finished, 4 chains, 1 tuned, 0 converged.\n",
      "└ @ BAT /user/.julia/packages/BAT/U7RyT/src/samplers/mcmc/multi_cycle_burnin.jl:57\n",
      "┌ Info: MCMC Tuning cycle 77 finished, 4 chains, 3 tuned, 0 converged.\n",
      "└ @ BAT /user/.julia/packages/BAT/U7RyT/src/samplers/mcmc/multi_cycle_burnin.jl:57\n",
      "┌ Info: MCMC Tuning cycle 78 finished, 4 chains, 1 tuned, 0 converged.\n",
      "└ @ BAT /user/.julia/packages/BAT/U7RyT/src/samplers/mcmc/multi_cycle_burnin.jl:57\n",
      "┌ Info: MCMC Tuning cycle 79 finished, 4 chains, 1 tuned, 0 converged.\n",
      "└ @ BAT /user/.julia/packages/BAT/U7RyT/src/samplers/mcmc/multi_cycle_burnin.jl:57\n",
      "┌ Info: MCMC Tuning cycle 80 finished, 4 chains, 3 tuned, 0 converged.\n",
      "└ @ BAT /user/.julia/packages/BAT/U7RyT/src/samplers/mcmc/multi_cycle_burnin.jl:57\n",
      "┌ Info: MCMC Tuning cycle 81 finished, 4 chains, 4 tuned, 0 converged.\n",
      "└ @ BAT /user/.julia/packages/BAT/U7RyT/src/samplers/mcmc/multi_cycle_burnin.jl:57\n",
      "┌ Info: MCMC Tuning cycle 82 finished, 4 chains, 3 tuned, 0 converged.\n",
      "└ @ BAT /user/.julia/packages/BAT/U7RyT/src/samplers/mcmc/multi_cycle_burnin.jl:57\n",
      "┌ Info: MCMC Tuning cycle 83 finished, 4 chains, 3 tuned, 0 converged.\n",
      "└ @ BAT /user/.julia/packages/BAT/U7RyT/src/samplers/mcmc/multi_cycle_burnin.jl:57\n",
      "┌ Info: MCMC Tuning cycle 84 finished, 4 chains, 3 tuned, 0 converged.\n",
      "└ @ BAT /user/.julia/packages/BAT/U7RyT/src/samplers/mcmc/multi_cycle_burnin.jl:57\n",
      "┌ Info: MCMC Tuning cycle 85 finished, 4 chains, 3 tuned, 0 converged.\n",
      "└ @ BAT /user/.julia/packages/BAT/U7RyT/src/samplers/mcmc/multi_cycle_burnin.jl:57\n",
      "┌ Info: MCMC Tuning cycle 86 finished, 4 chains, 2 tuned, 0 converged.\n",
      "└ @ BAT /user/.julia/packages/BAT/U7RyT/src/samplers/mcmc/multi_cycle_burnin.jl:57\n",
      "┌ Info: MCMC Tuning cycle 87 finished, 4 chains, 1 tuned, 0 converged.\n",
      "└ @ BAT /user/.julia/packages/BAT/U7RyT/src/samplers/mcmc/multi_cycle_burnin.jl:57\n",
      "┌ Info: MCMC Tuning cycle 88 finished, 4 chains, 3 tuned, 0 converged.\n",
      "└ @ BAT /user/.julia/packages/BAT/U7RyT/src/samplers/mcmc/multi_cycle_burnin.jl:57\n",
      "┌ Info: MCMC Tuning cycle 89 finished, 4 chains, 2 tuned, 0 converged.\n",
      "└ @ BAT /user/.julia/packages/BAT/U7RyT/src/samplers/mcmc/multi_cycle_burnin.jl:57\n",
      "┌ Info: MCMC Tuning cycle 90 finished, 4 chains, 3 tuned, 0 converged.\n",
      "└ @ BAT /user/.julia/packages/BAT/U7RyT/src/samplers/mcmc/multi_cycle_burnin.jl:57\n",
      "┌ Info: MCMC Tuning cycle 91 finished, 4 chains, 2 tuned, 0 converged.\n",
      "└ @ BAT /user/.julia/packages/BAT/U7RyT/src/samplers/mcmc/multi_cycle_burnin.jl:57\n",
      "┌ Info: MCMC Tuning cycle 92 finished, 4 chains, 3 tuned, 0 converged.\n",
      "└ @ BAT /user/.julia/packages/BAT/U7RyT/src/samplers/mcmc/multi_cycle_burnin.jl:57\n",
      "┌ Info: MCMC Tuning cycle 93 finished, 4 chains, 3 tuned, 0 converged.\n",
      "└ @ BAT /user/.julia/packages/BAT/U7RyT/src/samplers/mcmc/multi_cycle_burnin.jl:57\n",
      "┌ Info: MCMC Tuning cycle 94 finished, 4 chains, 3 tuned, 0 converged.\n",
      "└ @ BAT /user/.julia/packages/BAT/U7RyT/src/samplers/mcmc/multi_cycle_burnin.jl:57\n",
      "┌ Info: MCMC Tuning cycle 95 finished, 4 chains, 3 tuned, 0 converged.\n",
      "└ @ BAT /user/.julia/packages/BAT/U7RyT/src/samplers/mcmc/multi_cycle_burnin.jl:57\n",
      "┌ Info: MCMC Tuning cycle 96 finished, 4 chains, 3 tuned, 0 converged.\n",
      "└ @ BAT /user/.julia/packages/BAT/U7RyT/src/samplers/mcmc/multi_cycle_burnin.jl:57\n",
      "┌ Info: MCMC Tuning cycle 97 finished, 4 chains, 4 tuned, 0 converged.\n",
      "└ @ BAT /user/.julia/packages/BAT/U7RyT/src/samplers/mcmc/multi_cycle_burnin.jl:57\n",
      "┌ Info: MCMC Tuning cycle 98 finished, 4 chains, 4 tuned, 0 converged.\n",
      "└ @ BAT /user/.julia/packages/BAT/U7RyT/src/samplers/mcmc/multi_cycle_burnin.jl:57\n",
      "┌ Info: MCMC Tuning cycle 99 finished, 4 chains, 3 tuned, 0 converged.\n",
      "└ @ BAT /user/.julia/packages/BAT/U7RyT/src/samplers/mcmc/multi_cycle_burnin.jl:57\n",
      "┌ Info: MCMC Tuning cycle 100 finished, 4 chains, 4 tuned, 0 converged.\n",
      "└ @ BAT /user/.julia/packages/BAT/U7RyT/src/samplers/mcmc/multi_cycle_burnin.jl:57\n",
      "┌ Error: MCMC tuning of 4 chains aborted after 100 cycle(s).\n",
      "└ @ BAT /user/.julia/packages/BAT/U7RyT/src/samplers/mcmc/multi_cycle_burnin.jl:67\n"
     ]
    },
    {
     "name": "stdout",
     "output_type": "stream",
     "text": [
      "1492.151503 seconds (2.36 G allocations: 2.018 TiB, 8.12% gc time)\n"
     ]
    }
   ],
   "source": [
    "@time samples_tot = bat_sample(\n",
    "    rng, posterior,\n",
    "    MCMCSampling(\n",
    "        sampler = mcmcalgo,\n",
    "        nchains = nchains,\n",
    "        nsteps = nsamples,\n",
    "        init = init,\n",
    "        burnin = burnin,\n",
    "        convergence = convergence,\n",
    "#         strict = false,\n",
    "#         store_burnin = false,\n",
    "#         nonzero_weights = true,\n",
    "    )\n",
    ");"
   ]
  },
  {
   "cell_type": "code",
   "execution_count": 21,
   "metadata": {},
   "outputs": [],
   "source": [
    "samples = samples_tot.result;"
   ]
  },
  {
   "cell_type": "code",
   "execution_count": 22,
   "metadata": {},
   "outputs": [
    {
     "data": {
      "text/plain": [
       "3.440631376785492"
      ]
     },
     "execution_count": 22,
     "metadata": {},
     "output_type": "execute_result"
    }
   ],
   "source": [
    "minimum(bat_eff_sample_size(unshaped.(samples)).result)"
   ]
  },
  {
   "cell_type": "code",
   "execution_count": 23,
   "metadata": {},
   "outputs": [
    {
     "data": {
      "text/plain": [
       "(21, 85859)"
      ]
     },
     "execution_count": 23,
     "metadata": {},
     "output_type": "execute_result"
    }
   ],
   "source": [
    "size(flatview(unshaped.(samples.v)))"
   ]
  },
  {
   "cell_type": "code",
   "execution_count": 24,
   "metadata": {},
   "outputs": [
    {
     "data": {
      "image/png": "[encoded data removed]",
      "text/plain": [
       "Figure(PyObject <Figure size 640x480 with 1 Axes>)"
      ]
     },
     "metadata": {},
     "output_type": "display_data"
    },
    {
     "data": {
      "text/plain": [
       "1-element Array{PyCall.PyObject,1}:\n",
       " PyObject <matplotlib.lines.Line2D object at 0x7f1448f35ca0>"
      ]
     },
     "execution_count": 24,
     "metadata": {},
     "output_type": "execute_result"
    }
   ],
   "source": [
    "plot(flatview(unshaped.(samples.v))[3,:])"
   ]
  },
  {
   "cell_type": "code",
   "execution_count": 25,
   "metadata": {},
   "outputs": [
    {
     "data": {
      "image/png": "[encoded data removed]",
      "text/plain": [
       "Figure(PyObject <Figure size 640x480 with 1 Axes>)"
      ]
     },
     "metadata": {},
     "output_type": "display_data"
    },
    {
     "data": {
      "text/plain": [
       "PyObject <matplotlib.image.AxesImage object at 0x7f1448f07a90>"
      ]
     },
     "execution_count": 25,
     "metadata": {},
     "output_type": "execute_result"
    }
   ],
   "source": [
    "plt.imshow(log.(abs.(cov(flatview(unshaped.(samples.v))'))), cmap=\"Blues\")"
   ]
  },
  {
   "cell_type": "code",
   "execution_count": null,
   "metadata": {},
   "outputs": [],
   "source": [
    "# BAT.bat_write(\"../data/sampling_results/Tmp-Mixture-Model-38-2/mm-38-hc-2-fixed-lf.hdf5\", unshaped.(samples))\n",
    "\n",
    "# BAT.bat_write(\"../data/sampling_results/Benchmark-8/samples-41.hdf5\", unshaped.(samples))"
   ]
  },
  {
   "cell_type": "code",
   "execution_count": null,
   "metadata": {},
   "outputs": [],
   "source": [
    "#  27.1, 21.6, 114.0, 30.5, 23.4, 125.0, 121.8, 120.0"
   ]
  },
  {
   "cell_type": "code",
   "execution_count": null,
   "metadata": {},
   "outputs": [],
   "source": [
    "mode(samples)[1]"
   ]
  },
  {
   "cell_type": "code",
   "execution_count": null,
   "metadata": {},
   "outputs": [],
   "source": [
    "bat_marginalmode(samples).result"
   ]
  },
  {
   "cell_type": "code",
   "execution_count": null,
   "metadata": {},
   "outputs": [],
   "source": [
    "mean(samples)[1]"
   ]
  },
  {
   "cell_type": "code",
   "execution_count": null,
   "metadata": {},
   "outputs": [],
   "source": [
    "std(samples)[1]"
   ]
  },
  {
   "cell_type": "code",
   "execution_count": null,
   "metadata": {},
   "outputs": [],
   "source": []
  },
  {
   "cell_type": "code",
   "execution_count": null,
   "metadata": {},
   "outputs": [],
   "source": [
    "dims = [1,2,3,4,5,6,7,8,9,10,11]\n",
    "# dims = [1,2,3,4,5,]\n",
    "names = [1,2,3,4,5,6,7,8,9,10, 11]\n",
    "levels = [0.01, 0.55, 0.9, 0.95,  1,]\n",
    "levels = [0.001, 0.98, 1,]\n",
    "figsize = (10,10)\n",
    "n_bins = 20\n",
    "\n",
    "corner_plots(samples, dims, names, levels_quantiles = levels, figsize=figsize, N_bins=n_bins)"
   ]
  },
  {
   "cell_type": "code",
   "execution_count": null,
   "metadata": {},
   "outputs": [],
   "source": [
    "dims = [10,11,]\n",
    "names = [10,11,]\n",
    "levels = [0.1, 0.8, 0.9, 0.95,  1,]\n",
    "levels = [0.1,  1,]\n",
    "figsize = (6,6)\n",
    "n_bins = 20\n",
    "\n",
    "corner_plots(samples, dims, names, levels_quantiles = levels, figsize=figsize, N_bins=n_bins)"
   ]
  },
  {
   "cell_type": "code",
   "execution_count": null,
   "metadata": {},
   "outputs": [],
   "source": [
    "dims = [14,15,16,]\n",
    "names = [14,15,16,]\n",
    "levels = [0.1, 0.8, 0.9, 0.95,  1,]\n",
    "# levels = [0.1, 0.5, 1,]\n",
    "figsize = (6,6)\n",
    "n_bins = 20\n",
    "\n",
    "corner_plots(samples, dims, names, levels_quantiles = levels, figsize=figsize, N_bins=n_bins)"
   ]
  },
  {
   "cell_type": "code",
   "execution_count": null,
   "metadata": {},
   "outputs": [],
   "source": [
    "# res\n",
    "\n",
    "dims = [17,18,19,20,21,22,23,24]\n",
    "names = [17,18,19,20,21, 22, 23, 24]\n",
    "levels = [0.1, 0.5, 0.9, 0.95,  1,]\n",
    "levels = [0.1, 0.9, 1,]\n",
    "figsize = (6,6)\n",
    "n_bins = 20\n",
    "\n",
    "corner_plots(samples, dims, names, levels_quantiles = levels, figsize=figsize, N_bins=n_bins)"
   ]
  },
  {
   "cell_type": "code",
   "execution_count": null,
   "metadata": {},
   "outputs": [],
   "source": [
    "#pix\n",
    "\n",
    "dims = [25,26,27,28,29, 30, 31, 32]\n",
    "names = [25,26,27,28,29, 30, 31, 32]\n",
    "levels = [0.1, 0.8, 0.9, 0.95, 1,]\n",
    "levels = [0.1, 0.5, 1,]\n",
    "figsize = (8,8)\n",
    "n_bins = 20\n",
    "\n",
    "corner_plots(samples, dims, names, levels_quantiles = levels, figsize=figsize, N_bins=n_bins)"
   ]
  },
  {
   "cell_type": "code",
   "execution_count": null,
   "metadata": {},
   "outputs": [],
   "source": [
    "dims = [33, 34, 35]\n",
    "names = [33, 34, 35]\n",
    "levels = [0.1, 0.8, 0.9, 0.95, 1,]\n",
    "# levels = [0.1, 0.5, 1,]\n",
    "figsize = (6,6)\n",
    "n_bins = 20\n",
    "\n",
    "corner_plots(samples, dims, names, levels_quantiles = levels, figsize=figsize, N_bins=n_bins)"
   ]
  },
  {
   "cell_type": "code",
   "execution_count": null,
   "metadata": {},
   "outputs": [],
   "source": [
    "colors_array = [\"C0\", \"C1\"]\n",
    "labels_array = [\"Mode\", \"Mean\"]\n",
    "params_array = [mode(samples)[1], mean(samples)[1]]\n",
    "\n",
    "plot_cam_crossections(params_array, event, conv_matrices, colors = colors_array, labels=labels_array)"
   ]
  },
  {
   "cell_type": "code",
   "execution_count": null,
   "metadata": {},
   "outputs": [],
   "source": [
    "colors_array = [\"C0\", \"C1\"]\n",
    "labels_array = [\"Mode\", \"Mean\"]\n",
    "params_array = [mode(samples)[1], mean(samples)[1]]\n",
    "\n",
    "plot_cam_integral(params_array, event, conv_matrices, colors = colors_array, labels=labels_array)"
   ]
  },
  {
   "cell_type": "code",
   "execution_count": null,
   "metadata": {},
   "outputs": [],
   "source": [
    "params_array = [mode(samples)[1], mean(samples)[1]]\n",
    "colors_array = [\"gray\", \"C0\", \"C1\"]\n",
    "labels_array = [\"Truth\", \"Mode\", \"Mean\"]\n",
    "\n",
    "plot_envelop_trajectory(params_array,  labels = labels_array, colors=colors_array)"
   ]
  },
  {
   "cell_type": "code",
   "execution_count": null,
   "metadata": {},
   "outputs": [],
   "source": [
    "images = load(\"../data/experiment/dataset_2/m1/images.jld2\")\n",
    "event_ns = (\n",
    "    cam_1 = images[\"cam_1\"][event_number,:,:],\n",
    "    cam_2 = images[\"cam_2\"][event_number,:,:],\n",
    "    cam_3 = images[\"cam_3\"][event_number,:,:],\n",
    "    cam_4 = images[\"cam_4\"][event_number,:,:],\n",
    "    population = images[\"charge\"][event_number,:][1],\n",
    ");"
   ]
  },
  {
   "cell_type": "code",
   "execution_count": null,
   "metadata": {},
   "outputs": [],
   "source": [
    "plot_projections(conv_matrices, event_ns, event, params_array[1], isnontr = true)"
   ]
  },
  {
   "cell_type": "code",
   "execution_count": null,
   "metadata": {},
   "outputs": [],
   "source": [
    "# try model 38 with light fluctuations constant on the IS2\n",
    "# fixe resolution in the IS2 amera"
   ]
  },
  {
   "cell_type": "code",
   "execution_count": null,
   "metadata": {},
   "outputs": [],
   "source": []
  },
  {
   "cell_type": "code",
   "execution_count": null,
   "metadata": {},
   "outputs": [],
   "source": []
  },
  {
   "cell_type": "code",
   "execution_count": null,
   "metadata": {},
   "outputs": [],
   "source": []
  },
  {
   "cell_type": "code",
   "execution_count": null,
   "metadata": {},
   "outputs": [],
   "source": []
  },
  {
   "cell_type": "code",
   "execution_count": null,
   "metadata": {},
   "outputs": [],
   "source": []
  }
 ],
 "metadata": {
  "kernelspec": {
   "display_name": "Julia 1.5.3",
   "language": "julia",
   "name": "julia-1.5"
  },
  "language_info": {
   "file_extension": ".jl",
   "mimetype": "application/julia",
   "name": "julia",
   "version": "1.5.3"
  }
 },
 "nbformat": 4,
 "nbformat_minor": 4
}
