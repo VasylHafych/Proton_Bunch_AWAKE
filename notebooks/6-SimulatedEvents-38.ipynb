{
 "cells": [
  {
   "cell_type": "code",
   "execution_count": null,
   "metadata": {},
   "outputs": [],
   "source": [
    "using JLD2\n",
    "using FileIO\n",
    "using PyPlot\n",
    "using Statistics\n",
    "using StatsBase \n",
    "using Distributions\n",
    "using LinearAlgebra\n",
    "using DSP"
   ]
  },
  {
   "cell_type": "code",
   "execution_count": null,
   "metadata": {},
   "outputs": [],
   "source": [
    "using IntervalSets\n",
    "using Random, ArraysOfArrays\n",
    "using ValueShapes\n",
    "using Measurements\n",
    "using BAT"
   ]
  },
  {
   "cell_type": "code",
   "execution_count": null,
   "metadata": {},
   "outputs": [],
   "source": [
    "include(\"../src/model-41/likelihood.jl\")\n",
    "include(\"../src/model-41/utill_model.jl\")\n",
    "include(\"../src/utill.jl\")"
   ]
  },
  {
   "cell_type": "code",
   "execution_count": null,
   "metadata": {},
   "outputs": [],
   "source": [
    "conv_mat = load(\"../data/experiment/dataset_2/m2/conv-matrix-upd-2.jld2\")\n",
    "\n",
    "conv_matrices = (\n",
    "    cam_1 = conv_mat[\"cam_1\"],\n",
    "    cam_2 = conv_mat[\"cam_2\"],\n",
    "    cam_3 = conv_mat[\"cam_3\"],\n",
    "    cam_4 = conv_mat[\"cam_4\"],\n",
    ");\n"
   ]
  },
  {
   "cell_type": "code",
   "execution_count": null,
   "metadata": {},
   "outputs": [],
   "source": [
    "param_truth = (\n",
    "    tr_size = [0.11724079324690752, 0.10446872256040367], \n",
    "    tr_size_2 = [0.13630640279044073, 0.14549663484213138], \n",
    "    ang_spr = [5.397274414313642, 6.528127604183876], \n",
    "    ang_spr_2 = [1.4157120257716762, 3.2679351152119036], \n",
    "    mixt_pow = 0.7070115563071502, \n",
    "    waist = [3.119983894686216], \n",
    "    waist_2 = [2.899451404646074], \n",
    "    algmx = [36.88502772777521, 37.40701041378727, 19.966993904337286, 33.77074180422043], \n",
    "    algmy = [33.44305300220863, 34.181496465565395, 21.246755513569575, 35.47131065852915], \n",
    "    cam4_ped = 26.752468993399273, \n",
    "    cam4_light_fluct = 1.3437565724474658, \n",
    "    cam4_light_amp = 8.944085887267018, \n",
    "    resx = [1, 1, 1], resy = [1, 1, 1], \n",
    "    cam4_resx = 5.8116797409487635, \n",
    "    cam4_resy = 2.820829332831582, \n",
    "    psx = [27.1, 21.6, 114.0], \n",
    "    psy = [30.5, 23.4, 125.0], \n",
    "    cam4_psx = 121.8, \n",
    "    cam4_psy = 120.0, \n",
    "    light_amp = [8.48381275056509, 11.159480294528969, 2.5932859795858954], \n",
    "    s_cam = [0.0, 1.478, 15.026, 23.115]\n",
    ");"
   ]
  },
  {
   "cell_type": "code",
   "execution_count": null,
   "metadata": {},
   "outputs": [],
   "source": [
    "event = generate_event(param_truth, 26.8, conv_matrices)"
   ]
  },
  {
   "cell_type": "code",
   "execution_count": null,
   "metadata": {},
   "outputs": [],
   "source": [
    "fig, ax = plt.subplots(2,2, figsize=(7,7))\n",
    "fig.subplots_adjust(hspace=0.2, wspace=0.2)\n",
    "\n",
    "ax[1,1].pcolormesh(event.cam_1, cmap=\"RdYlBu_r\")\n",
    "ax[1,2].pcolormesh(event.cam_2, cmap=\"RdYlBu_r\")\n",
    "ax[2,1].pcolormesh(event.cam_3, cmap=\"RdYlBu_r\")\n",
    "ax[2,2].pcolormesh(event.cam_4, cmap=\"RdYlBu_r\")"
   ]
  },
  {
   "cell_type": "code",
   "execution_count": null,
   "metadata": {},
   "outputs": [],
   "source": []
  },
  {
   "cell_type": "code",
   "execution_count": null,
   "metadata": {},
   "outputs": [],
   "source": []
  },
  {
   "cell_type": "code",
   "execution_count": null,
   "metadata": {},
   "outputs": [],
   "source": []
  }
 ],
 "metadata": {
  "kernelspec": {
   "display_name": "Julia 1.5.2",
   "language": "julia",
   "name": "julia-1.5"
  },
  "language_info": {
   "file_extension": ".jl",
   "mimetype": "application/julia",
   "name": "julia",
   "version": "1.5.2"
  }
 },
 "nbformat": 4,
 "nbformat_minor": 4
}
