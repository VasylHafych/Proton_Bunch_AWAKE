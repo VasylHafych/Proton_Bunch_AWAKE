{
 "cells": [
  {
   "cell_type": "code",
   "execution_count": 1,
   "metadata": {},
   "outputs": [],
   "source": [
    "using JLD2\n",
    "using FileIO\n",
    "using PyPlot\n",
    "using Statistics\n",
    "using StatsBase \n",
    "using Distributions\n",
    "using LinearAlgebra\n",
    "using HDF5\n",
    "using IntervalSets\n",
    "using Random, ArraysOfArrays\n",
    "using ValueShapes\n",
    "using Measurements\n",
    "using BAT\n",
    "using DSP\n",
    "using ForwardDiff"
   ]
  },
  {
   "cell_type": "code",
   "execution_count": 2,
   "metadata": {},
   "outputs": [
    {
     "data": {
      "text/plain": [
       "marg_std_shaped (generic function with 1 method)"
      ]
     },
     "execution_count": 2,
     "metadata": {},
     "output_type": "execute_result"
    }
   ],
   "source": [
    "FPATH = \"../../data/sampling_results/Benchmark-5/\"\n",
    "\n",
    "function marg_mean_shaped(name)\n",
    "    smpl_tmp = bat_read(FPATH*name)\n",
    "    smpl_tmp = varshape(prior).(smpl_tmp)\n",
    "    smpl_tmp = mean(smpl_tmp)\n",
    "    return smpl_tmp\n",
    "end\n",
    "\n",
    "function marg_std_shaped(name)\n",
    "    smpl_tmp = bat_read(FPATH*name)\n",
    "    smpl_tmp = varshape(prior).(smpl_tmp)\n",
    "    smpl_tmp = std(smpl_tmp)\n",
    "    return smpl_tmp\n",
    "end\n"
   ]
  },
  {
   "cell_type": "code",
   "execution_count": 3,
   "metadata": {},
   "outputs": [],
   "source": [
    "β1 = 0.015\n",
    "β2 = 0.0077 # (0.8/30/sqrt(12))\n",
    "β3 = 0.0058 # (0.8/40/sqrt(12))\n",
    "\n",
    "# flat prior for the pixel size\n",
    "prior = NamedTupleDist(\n",
    "        tr_size = [truncated(Normal(0.2, 0.04), 0.06, 0.19), truncated(Normal(0.2, 0.04), 0.06, 0.19)],\n",
    "        tr_size_2 = [truncated(Normal(0.2, 0.04), 0.06, 0.19), truncated(Normal(0.2, 0.04), 0.06, 0.19)],\n",
    "        ang_spr = [truncated(Normal(4.0, 2.0), 4.0, 7.0), truncated(Normal(4.0, 2.0), 4.0, 7.0)],\n",
    "        ang_spr_2 = [truncated(Normal(4.0, 2.0), 1.0, 4.0), truncated(Normal(4.0, 2.0), 1.0, 4.0)],\n",
    "        mixt_pow =  0.50 .. 1.0 ,\n",
    "        waist = [truncated(Normal(2.9, 0.03), 2.65, 3.5)],\n",
    "        waist_2 = [truncated(Normal(2.9, 0.03), 2.65, 3.5)], # 11\n",
    "        algmx = [23.0 .. 48, 23.0 .. 48.0, 10.0 .. 30.0, 23.0 .. 48.0],\n",
    "        algmy = [23.0 .. 48, 23.0 .. 48.0, 10.0 .. 30.0, 23.0 .. 48.0],\n",
    "        cam4_ped = 4.0 .. 40.0,\n",
    "        cam4_light_fluct = 1.0 .. 3.0,\n",
    "        cam4_light_amp = 1.6 .. 9.9, \n",
    "        resx = [1, 1, 1], # 23, 24, 25, \n",
    "        resy = [1, 1, 1], # 26,27, 28, \n",
    "        cam4_resx = truncated(Normal(3, 1.5), 0, Inf),\n",
    "        cam4_resy = truncated(Normal(3, 1.5), 0, Inf), \n",
    "        psx = [27.1, 21.6, 114.0], # 31, 32, 33\n",
    "        psy = [30.5, 23.4, 125.0], # 34, 35, 36\n",
    "        cam4_psx = 121.8, # 37\n",
    "        cam4_psy = 120.0, # 38\n",
    "        light_amp  = [1.0 .. 13.0 , 1.0 .. 17.0, 1.0 .. 5.0], # 1.0 .. 5.0\n",
    "        s_cam = [0.0, 1.478, 15.026, 23.1150],\n",
    "    )\n",
    "\n",
    "\n",
    "labels = [L\"\\sigma_x\", L\"\\sigma_y\", L\"\\sigma_x\", L\"\\sigma_y\", L\"\\sigma'_x\", L\"\\sigma'_y\", L\"\\sigma'_x\", L\"\\sigma'_y\", L\"\\alpha\", L\"s\", L\"s\", \n",
    "    L\"\\mu_x\", L\"\\mu_x\", L\"\\mu_x\", L\"\\mu_x\", L\"\\mu_y\", L\"\\mu_y\", L\"\\mu_y\", L\"\\mu_y\", \n",
    "    \"ped\", \"lf\", \"a\", \"res x\", \"res y\", \"la\", \"la\", \"la\"];"
   ]
  },
  {
   "cell_type": "code",
   "execution_count": 4,
   "metadata": {},
   "outputs": [],
   "source": [
    "smpl_tmp = bat_read(FPATH*\"hc-2.hdf5\")\n",
    "smpl_tmp = varshape(prior).(smpl_tmp);"
   ]
  },
  {
   "cell_type": "code",
   "execution_count": 5,
   "metadata": {},
   "outputs": [],
   "source": [
    "filenames = readdir(\"../../data/sampling_results/Benchmark-5/\")\n",
    "images = load(\"../../data/experiment/dataset_2/m2/images-satur.jld2\")\n",
    "hc_mask = [i[1:3] == \"hc-\" for i in filenames]\n",
    "hc_fnames = filenames[hc_mask]\n",
    "hc_eind = parse.(Int64, [i[4:end-5] for i in hc_fnames])\n",
    "hc_charge = images[\"charge\"][hc_eind]\n",
    "hc_runind = images[\"ev_ind\"][hc_eind];"
   ]
  },
  {
   "cell_type": "code",
   "execution_count": 6,
   "metadata": {},
   "outputs": [],
   "source": [
    "filenames = readdir(\"../../data/sampling_results/Benchmark-5/\")\n",
    "images = load(\"../../data/experiment/dataset_2/m1/images-satur.jld2\")\n",
    "lc_mask = [i[1:3] == \"lc-\" for i in filenames]\n",
    "lc_fnames = filenames[lc_mask]\n",
    "lc_eind = parse.(Int64, [i[4:end-5] for i in lc_fnames])\n",
    "lc_charge = images[\"charge\"][lc_eind]\n",
    "lc_runind = images[\"ev_ind\"][lc_eind];"
   ]
  },
  {
   "cell_type": "code",
   "execution_count": 7,
   "metadata": {},
   "outputs": [],
   "source": [
    "fnames = [lc_fnames; hc_fnames]\n",
    "charges = Float64[lc_charge; hc_charge]\n",
    "runind = Int64[lc_runind ; hc_runind]\n",
    "charges_n = charges ./ maximum(charges)\n",
    "runind_n = runind ./ maximum(runind);"
   ]
  },
  {
   "cell_type": "code",
   "execution_count": 8,
   "metadata": {},
   "outputs": [],
   "source": [
    "mean_params =  [marg_mean_shaped(i) for i in fnames];\n",
    "std_params =  [marg_std_shaped(i) for i in fnames];"
   ]
  },
  {
   "cell_type": "code",
   "execution_count": 9,
   "metadata": {},
   "outputs": [],
   "source": [
    "zc_x = [minimum([i.algmx[j] for i in mean_params]) for j in 1:4]; # find min position at each camera \n",
    "zc_y = [minimum([i.algmy[j] for i in mean_params]) for j in 1:4]; # find min position at each camera "
   ]
  },
  {
   "cell_type": "code",
   "execution_count": 10,
   "metadata": {},
   "outputs": [],
   "source": [
    "x_event = Array{Float64,1}[]\n",
    "y_event = Array{Float64,1}[]\n",
    "x_event_std = Array{Float64,1}[]\n",
    "y_event_std = Array{Float64,1}[]\n",
    "\n",
    "for i in eachindex(mean_params) \n",
    "    push!(x_event, (mean_params[i].algmx .- zc_x) .* [mean_params[i].psx ; mean_params[i].cam4_psx] .+ 1.0 )\n",
    "    push!(y_event, (mean_params[i].algmy .- zc_y) .* [mean_params[i].psy ; mean_params[i].cam4_psy] .+ 1.0 )\n",
    "    \n",
    "    push!(x_event_std, std_params[i].algmx .* [mean_params[i].psx ; mean_params[i].cam4_psx])\n",
    "    push!(y_event_std, std_params[i].algmy .* [mean_params[i].psy ; mean_params[i].cam4_psy])\n",
    "     \n",
    "end"
   ]
  },
  {
   "cell_type": "code",
   "execution_count": 11,
   "metadata": {},
   "outputs": [],
   "source": [
    "summary_data = (\n",
    "    \n",
    "    ev_index = runind,\n",
    "    ev_charge = charges,\n",
    "    fnames = fnames,\n",
    "    \n",
    "    μx_trsz_halo = Float64[i.tr_size[1] for i in mean_params],\n",
    "    μy_trsz_halo = Float64[i.tr_size[2] for i in mean_params],\n",
    "    \n",
    "    μx_trsz_core = Float64[i.tr_size_2[1] for i in mean_params],\n",
    "    μy_trsz_core = Float64[i.tr_size_2[2] for i in mean_params],\n",
    "    \n",
    "    μx_angspr_halo = Float64[i.ang_spr[1] for i in mean_params],\n",
    "    μy_angspr_halo = Float64[i.ang_spr[2] for i in mean_params],\n",
    "    \n",
    "    μx_angspr_core = Float64[i.ang_spr_2[1] for i in mean_params],\n",
    "    μy_angspr_core = Float64[i.ang_spr_2[2] for i in mean_params],\n",
    "    \n",
    "    μ_waist_halo = Float64[i.waist[1] for i in mean_params],\n",
    "    μ_waist_core = Float64[i.waist_2[1] for i in mean_params],\n",
    "    \n",
    "    μx_align = x_event,\n",
    "    μy_align = y_event,\n",
    "    \n",
    "    σx_trsz_halo = Float64[i.tr_size[1] for i in std_params],\n",
    "    σy_trsz_halo = Float64[i.tr_size[2] for i in std_params],\n",
    "    \n",
    "    σx_trsz_core = Float64[i.tr_size_2[1] for i in std_params],\n",
    "    σy_trsz_core = Float64[i.tr_size_2[2] for i in std_params],\n",
    "    \n",
    "    σx_angspr_halo = Float64[i.ang_spr[1] for i in std_params],\n",
    "    σy_angspr_halo = Float64[i.ang_spr[2] for i in std_params],\n",
    "    \n",
    "    σx_angspr_core = Float64[i.ang_spr_2[1] for i in std_params],\n",
    "    σy_angspr_core = Float64[i.ang_spr_2[2] for i in std_params],\n",
    "        \n",
    "    σ_waist_halo = Float64[i.waist[1] for i in std_params],\n",
    "    σ_waist_core = Float64[i.waist_2[1] for i in std_params],\n",
    "    \n",
    "    σx_align = x_event_std,\n",
    "    σy_align = y_event_std,\n",
    ");\n",
    "\n"
   ]
  },
  {
   "cell_type": "code",
   "execution_count": 12,
   "metadata": {},
   "outputs": [],
   "source": [
    "# @save \"../../data/sampling_results/Benchmark-9/mcmc-summary-data.jld\" summary_data"
   ]
  },
  {
   "cell_type": "code",
   "execution_count": null,
   "metadata": {},
   "outputs": [],
   "source": []
  }
 ],
 "metadata": {
  "kernelspec": {
   "display_name": "Julia 1.5.3",
   "language": "julia",
   "name": "julia-1.5"
  },
  "language_info": {
   "file_extension": ".jl",
   "mimetype": "application/julia",
   "name": "julia",
   "version": "1.5.3"
  }
 },
 "nbformat": 4,
 "nbformat_minor": 4
}
