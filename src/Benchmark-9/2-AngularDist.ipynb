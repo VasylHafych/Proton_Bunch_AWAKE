{
 "cells": [
  {
   "cell_type": "code",
   "execution_count": 2,
   "metadata": {},
   "outputs": [],
   "source": [
    "using JLD2\n",
    "using FileIO\n",
    "using PyPlot\n",
    "using Statistics\n",
    "using StatsBase \n",
    "using Distributions\n",
    "using LinearAlgebra\n",
    "using HDF5\n",
    "using IntervalSets\n",
    "using Random, ArraysOfArrays\n",
    "using ValueShapes\n",
    "using Measurements\n",
    "using BAT\n",
    "using ForwardDiff\n",
    "using BenchmarkTools"
   ]
  },
  {
   "cell_type": "code",
   "execution_count": 3,
   "metadata": {},
   "outputs": [
    {
     "data": {
      "text/plain": [
       "plot_projections (generic function with 1 method)"
      ]
     },
     "execution_count": 3,
     "metadata": {},
     "output_type": "execute_result"
    }
   ],
   "source": [
    "include(\"../utill.jl\")"
   ]
  },
  {
   "cell_type": "code",
   "execution_count": 4,
   "metadata": {},
   "outputs": [
    {
     "data": {
      "text/plain": [
       "cov_matr (generic function with 1 method)"
      ]
     },
     "execution_count": 4,
     "metadata": {},
     "output_type": "execute_result"
    }
   ],
   "source": [
    "function cov_matr(smpl_tmp)\n",
    "    smp_fl, w = flatview(unshaped.(smpl_tmp.v)), smpl_tmp.weight\n",
    "    smp_fl = smp_fl ./ std(smp_fl, FrequencyWeights(w), 2)\n",
    "    smp_fl = smp_fl .- mean(smp_fl, FrequencyWeights(w), dims=2)\n",
    "    cov_m = cov(smp_fl, FrequencyWeights(w), 2)\n",
    "    return cov_m\n",
    "end"
   ]
  },
  {
   "cell_type": "code",
   "execution_count": 5,
   "metadata": {},
   "outputs": [
    {
     "data": {
      "text/plain": [
       "1-element Array{Symbol,1}:\n",
       " :summary_data"
      ]
     },
     "execution_count": 5,
     "metadata": {},
     "output_type": "execute_result"
    }
   ],
   "source": [
    "@load \"../../data/sampling_results/Benchmark-9/mcmc-summary-data.jld\" summary_data"
   ]
  },
  {
   "cell_type": "code",
   "execution_count": 6,
   "metadata": {},
   "outputs": [
    {
     "data": {
      "image/png": "[encoded data removed]",
      "text/plain": [
       "Figure(PyObject <Figure size 1500x400 with 4 Axes>)"
      ]
     },
     "metadata": {},
     "output_type": "display_data"
    },
    {
     "data": {
      "text/plain": [
       "PyObject <matplotlib.patches.Rectangle object at 0x7fcb704598b0>"
      ]
     },
     "execution_count": 6,
     "metadata": {},
     "output_type": "execute_result"
    }
   ],
   "source": [
    "fig, ax = plt.subplots(1,4, figsize=(15,4), sharex=true, sharey=true)\n",
    "\n",
    "fig.subplots_adjust(hspace=0.0, wspace=0.0)\n",
    "\n",
    "x_tmp = [i[1] for i in summary_data.μx_align]\n",
    "y_tmp = [i[1] for i in summary_data.μy_align]\n",
    "x_std = [i[1] for i in summary_data.σx_align]\n",
    "y_std = [i[1] for i in summary_data.σy_align]\n",
    "ax[1].errorbar(x_tmp, y_tmp, xerr = x_std, yerr=y_std, capsize=2,  fmt = \".\", color=\"gray\")\n",
    "\n",
    "x_tmp = [i[2] for i in summary_data.μx_align]\n",
    "y_tmp = [i[2] for i in summary_data.μy_align]\n",
    "x_std = [i[2] for i in summary_data.σx_align]\n",
    "y_std = [i[2] for i in summary_data.σy_align]\n",
    "ax[2].errorbar(x_tmp, y_tmp, xerr = x_std, yerr=y_std, capsize=2,  fmt = \".\", color=\"gray\")\n",
    "\n",
    "x_tmp = [i[3] for i in summary_data.μx_align]\n",
    "y_tmp = [i[3] for i in summary_data.μy_align]\n",
    "x_std = [i[3] for i in summary_data.σx_align]\n",
    "y_std = [i[3] for i in summary_data.σy_align]\n",
    "ax[3].errorbar(x_tmp, y_tmp, xerr = x_std, yerr=y_std, capsize=2,  fmt = \".\", color=\"gray\")\n",
    "\n",
    "x_tmp = [i[4] for i in summary_data.μx_align]\n",
    "y_tmp = [i[4] for i in summary_data.μy_align]\n",
    "x_std = [i[4] for i in summary_data.σx_align]\n",
    "y_std = [i[4] for i in summary_data.σy_align]\n",
    "ax[4].errorbar(x_tmp, y_tmp, xerr = x_std, yerr=y_std, capsize=2,  fmt = \".\", color=\"gray\")\n",
    "\n",
    "rect = matplotlib.patches.Rectangle([0,0,], 27.1,30.5,linewidth=1,edgecolor=\"r\",facecolor=\"none\")\n",
    "ax[1].add_patch(rect)\n",
    "\n",
    "rect = matplotlib.patches.Rectangle([0,0,],  21.6, 23.4,linewidth=1,edgecolor=\"r\",facecolor=\"none\")\n",
    "ax[2].add_patch(rect)\n",
    "\n",
    "rect = matplotlib.patches.Rectangle([0,0,],  114.0, 125.0,linewidth=1,edgecolor=\"r\",facecolor=\"none\")\n",
    "ax[3].add_patch(rect)\n",
    "\n",
    "rect = matplotlib.patches.Rectangle([0,0,],  121.8, 120.0,linewidth=1,edgecolor=\"r\",facecolor=\"none\")\n",
    "ax[4].add_patch(rect)\n"
   ]
  },
  {
   "cell_type": "code",
   "execution_count": null,
   "metadata": {},
   "outputs": [],
   "source": [
    "n_events = 16\n",
    "n_cameras = 4\n",
    "\n",
    "prior_ang = NamedTupleDist(\n",
    "    θ = [10^-15 .. 10^-4 for i in 1:n_events],\n",
    "    α = [0 .. 2*pi  for i in 1:n_events],\n",
    "    x_alignm = [-300 .. 300 for i in 1:3],\n",
    "    y_alignm = [-300 .. 300 for i in 1:3],\n",
    "#     σ_x = [0 .. 0.8, 0 .. 0.8, 0 .. 0.8],\n",
    "#     σ_y = [0 .. 0.8, 0 .. 0.8, 0 .. 0.8],\n",
    "    σ = [0 .. 0.8],\n",
    ");"
   ]
  },
  {
   "cell_type": "code",
   "execution_count": null,
   "metadata": {},
   "outputs": [],
   "source": [
    "# @show summary_data.ev_index[1:16]"
   ]
  },
  {
   "cell_type": "code",
   "execution_count": null,
   "metadata": {},
   "outputs": [],
   "source": [
    "function log_lik(; data = summary_data, nevents = n_events)\n",
    "    \n",
    "    nevents = n_events\n",
    "    s_cam = Float64[1.478, 15.026, 23.1150]\n",
    "    data_ind = 17:32\n",
    "    return params -> begin   \n",
    "        \n",
    "        ll = 0.0\n",
    "    \n",
    "        for (ind, val) in enumerate(data_ind)\n",
    "            \n",
    "            x_expected = cos(params.α[ind]).*params.θ[ind]*s_cam.*10^6\n",
    "            y_expected = sin(params.α[ind]).*params.θ[ind]*s_cam.*10^6\n",
    "            \n",
    "            x_expected += data.μx_align[val][1] .+ params.x_alignm \n",
    "            y_expected += data.μy_align[val][1] .+ params.y_alignm\n",
    "            \n",
    "#             ll += sum(logpdf.(Normal.(1, params.σ_x), x_expected./data.μx_align[val][2:end] ))\n",
    "#             ll += sum(logpdf.(Normal.(1, params.σ_y), y_expected./data.μy_align[val][2:end] ))\n",
    "            \n",
    "            ll += sum(logpdf.(Normal(1, params.σ[1]), x_expected./data.μx_align[val][2:end] ))\n",
    "            ll += sum(logpdf.(Normal(1, params.σ[1]), y_expected./data.μy_align[val][2:end] ))\n",
    "            \n",
    "        end\n",
    "        return LogDVal(ll)\n",
    "    end\n",
    "        \n",
    "end\n",
    "\n",
    "log_likelihood = log_lik()"
   ]
  },
  {
   "cell_type": "code",
   "execution_count": null,
   "metadata": {},
   "outputs": [],
   "source": [
    "posterior = PosteriorDensity(log_likelihood, prior_ang);"
   ]
  },
  {
   "cell_type": "code",
   "execution_count": null,
   "metadata": {},
   "outputs": [],
   "source": [
    "posterior_is = bat_transform(PriorToGaussian(), posterior, PriorSubstitution()).result;"
   ]
  },
  {
   "cell_type": "code",
   "execution_count": null,
   "metadata": {},
   "outputs": [],
   "source": [
    "iter = 80000\n",
    "iter_warmup = 700\n",
    "chains = 4;\n"
   ]
  },
  {
   "cell_type": "code",
   "execution_count": null,
   "metadata": {},
   "outputs": [],
   "source": [
    "metric = BAT.DiagEuclideanMetric()\n",
    "integrator = BAT.LeapfrogIntegrator()\n",
    "proposal = BAT.NUTS(:MultinomialTS, :ClassicNoUTurn)\n",
    "adaptor = BAT.StanHMCAdaptor(0.8, iter_warmup)\n",
    "\n",
    "hmc_sampler = HamiltonianMC(metric, ForwardDiff, integrator, proposal, adaptor);"
   ]
  },
  {
   "cell_type": "code",
   "execution_count": null,
   "metadata": {},
   "outputs": [],
   "source": [
    "# par_test = rand(prior_ang)\n",
    "# @time log_likelihood(par_test)\n",
    "#@benchmark log_likelihood(par_test)"
   ]
  },
  {
   "cell_type": "code",
   "execution_count": null,
   "metadata": {},
   "outputs": [],
   "source": [
    "@time samples_is = bat_sample(posterior_is, iter, MCMCSampling(sampler = hmc_sampler, nchains = chains));"
   ]
  },
  {
   "cell_type": "code",
   "execution_count": null,
   "metadata": {},
   "outputs": [],
   "source": [
    "samples = samples_is.result;"
   ]
  },
  {
   "cell_type": "code",
   "execution_count": null,
   "metadata": {},
   "outputs": [],
   "source": [
    "trafo_is = trafoof(posterior_is.likelihood)\n",
    "samples = inv(trafo_is).(samples);"
   ]
  },
  {
   "cell_type": "code",
   "execution_count": null,
   "metadata": {},
   "outputs": [],
   "source": [
    "sz = size(flatview(unshaped.(samples.v)))"
   ]
  },
  {
   "cell_type": "code",
   "execution_count": null,
   "metadata": {},
   "outputs": [],
   "source": [
    "# BAT.bat_write(\"../../data/sampling_results/Benchmark-5/alignment/samples-batch-1.hdf5\", unshaped.(samples))"
   ]
  },
  {
   "cell_type": "code",
   "execution_count": null,
   "metadata": {},
   "outputs": [],
   "source": [
    "plot(flatview(unshaped.(samples.v))[3,:])"
   ]
  },
  {
   "cell_type": "code",
   "execution_count": null,
   "metadata": {},
   "outputs": [],
   "source": [
    "covm = cov_matr(samples);\n",
    "\n",
    "fig, (ax, ax2) = plt.subplots(1,2, figsize=(7,7), gridspec_kw=Dict(\"width_ratios\"=>[15,1]))\n",
    "\n",
    "max_tmp = maximum(abs.(covm))\n",
    "\n",
    "cb = ax.imshow(covm,  origin=\"upper\", cmap=\"seismic\", vmin=-max_tmp, vmax=max_tmp, aspect=\"equal\") \n",
    "fig.colorbar(cb, spacing=\"proportional\", label=\"Covariance\", cax=ax2)\n",
    "\n",
    "# ax.set_yticks(0:26)\n",
    "# ax.set_yticklabels(labels)\n",
    "\n",
    "# ax.set_xticks(0:26)\n",
    "# ax.set_xticklabels(labels, rotation = 90);"
   ]
  },
  {
   "cell_type": "code",
   "execution_count": null,
   "metadata": {},
   "outputs": [],
   "source": [
    "param_mode = mode(samples)"
   ]
  },
  {
   "cell_type": "code",
   "execution_count": null,
   "metadata": {},
   "outputs": [],
   "source": [
    "bat_marginalmode(samples).result"
   ]
  },
  {
   "cell_type": "code",
   "execution_count": null,
   "metadata": {},
   "outputs": [],
   "source": [
    "mean(samples)[1]"
   ]
  },
  {
   "cell_type": "code",
   "execution_count": null,
   "metadata": {},
   "outputs": [],
   "source": [
    "std(samples)[1]"
   ]
  },
  {
   "cell_type": "code",
   "execution_count": null,
   "metadata": {},
   "outputs": [],
   "source": [
    "#  findmode_result = bat_findmode(posterior, MaxDensityLBFGS(init = InitFromTarget()), )\n",
    "\n",
    "findmode_result = bat_findmode(\n",
    "    posterior, \n",
    "    MaxDensityLBFGS(init = ExplicitInit([param_mode],)), \n",
    ")\n",
    "\n",
    "fit_par_values = findmode_result.result[1]"
   ]
  },
  {
   "cell_type": "code",
   "execution_count": null,
   "metadata": {},
   "outputs": [],
   "source": []
  },
  {
   "cell_type": "code",
   "execution_count": null,
   "metadata": {},
   "outputs": [],
   "source": [
    "# @save \"../../data/sampling_results/Benchmark-5/alignment/hc-data.jld2\" data fit_par_values"
   ]
  },
  {
   "cell_type": "code",
   "execution_count": null,
   "metadata": {},
   "outputs": [],
   "source": [
    "dims = 1:n_events\n",
    "# dims = [1,2,3,4,5,]\n",
    "names = dims\n",
    "levels = [0.01, 0.55, 0.9, 0.95,  1,]\n",
    "levels = [0.001, 0.98, 1,]\n",
    "figsize = (10,10)\n",
    "n_bins = 30\n",
    "\n",
    "corner_plots(samples, dims, names, levels_quantiles = levels, figsize=figsize, N_bins=n_bins)"
   ]
  },
  {
   "cell_type": "code",
   "execution_count": null,
   "metadata": {},
   "outputs": [],
   "source": [
    "dims = n_events+1:2*n_events\n",
    "# dims = [1,2,3,4,5,]\n",
    "names = dims\n",
    "levels = [0.01, 0.55, 0.9, 0.95,  1,]\n",
    "levels = [0.001, 0.98, 1,]\n",
    "figsize = (10,10)\n",
    "n_bins = 25\n",
    "\n",
    "corner_plots(samples, dims, names, levels_quantiles = levels, figsize=figsize, N_bins=n_bins)"
   ]
  },
  {
   "cell_type": "code",
   "execution_count": null,
   "metadata": {},
   "outputs": [],
   "source": [
    "dims = collect(sz[1]-11:sz[1]-6)\n",
    "names = dims\n",
    "levels = [0.01, 0.55, 0.9, 0.95,  1,]\n",
    "levels = [0.001, 0.95, 1,]\n",
    "figsize = (10,10)\n",
    "n_bins = 25\n",
    "\n",
    "corner_plots(samples, dims, names, levels_quantiles = levels, figsize=figsize, N_bins=n_bins)"
   ]
  },
  {
   "cell_type": "code",
   "execution_count": null,
   "metadata": {},
   "outputs": [],
   "source": [
    "dims = collect(sz[1]-5:sz[1])\n",
    "names = dims\n",
    "levels = [0.01, 0.55, 0.9, 0.95,  1,]\n",
    "levels = [0.001, 0.98, 1,]\n",
    "figsize = (10,10)\n",
    "n_bins = 25\n",
    "\n",
    "corner_plots(samples, dims, names, levels_quantiles = levels, figsize=figsize, N_bins=n_bins)"
   ]
  },
  {
   "cell_type": "code",
   "execution_count": null,
   "metadata": {},
   "outputs": [],
   "source": []
  },
  {
   "cell_type": "code",
   "execution_count": null,
   "metadata": {},
   "outputs": [],
   "source": []
  },
  {
   "cell_type": "code",
   "execution_count": null,
   "metadata": {},
   "outputs": [],
   "source": [
    "function predict_position(x0, y0, θ, α; s = Float64[1.478, 15.026, 23.1150])\n",
    "    x_expected = x0 .+ cos(α).*θ.*s.*10^6\n",
    "    y_expected = y0 .+ sin(α).*θ.*s.*10^6\n",
    "    return (x_expected, y_expected)\n",
    "end"
   ]
  },
  {
   "cell_type": "code",
   "execution_count": null,
   "metadata": {},
   "outputs": [],
   "source": [
    "\n",
    "event_ind = 10\n",
    "\n",
    "fig, ax = plt.subplots(1,4, figsize=(15,4), sharex=true, sharey=true)\n",
    "\n",
    "fig.subplots_adjust(hspace=0.0, wspace=0.0)\n",
    "\n",
    "x_tmp = [i[2] for i in summary_data.μx_align]\n",
    "y_tmp = [i[2] for i in summary_data.μy_align]\n",
    "x_std = [i[2] for i in summary_data.σx_align]\n",
    "y_std = [i[2] for i in summary_data.σy_align]\n",
    "ax[2].errorbar(x_tmp, y_tmp, xerr = x_std, yerr=y_std, capsize=2,  fmt = \".\", color=\"gray\")\n",
    "ax[2].scatter(x_tmp[event_ind], y_tmp[event_ind], color=\"gold\", s=100)\n",
    "\n",
    "x_tmp = [i[3] for i in summary_data.μx_align]\n",
    "y_tmp = [i[3] for i in summary_data.μy_align]\n",
    "x_std = [i[3] for i in summary_data.σx_align]\n",
    "y_std = [i[3] for i in summary_data.σy_align]\n",
    "ax[3].errorbar(x_tmp, y_tmp, xerr = x_std, yerr=y_std, capsize=2,  fmt = \".\", color=\"gray\")\n",
    "ax[3].scatter(x_tmp[event_ind], y_tmp[event_ind], color=\"gold\", s=100)\n",
    "\n",
    "x_tmp = [i[4] for i in summary_data.μx_align]\n",
    "y_tmp = [i[4] for i in summary_data.μy_align]\n",
    "x_std = [i[4] for i in summary_data.σx_align]\n",
    "y_std = [i[4] for i in summary_data.σy_align]\n",
    "ax[4].errorbar(x_tmp, y_tmp, xerr = x_std, yerr=y_std, capsize=2,  fmt = \".\", color=\"gray\")\n",
    "ax[4].scatter(x_tmp[event_ind], y_tmp[event_ind], color=\"gold\", s=100)\n",
    "\n",
    "x_tmp = [i[1] for i in summary_data.μx_align]\n",
    "y_tmp = [i[1] for i in summary_data.μy_align]\n",
    "x_std = [i[1] for i in summary_data.σx_align]\n",
    "y_std = [i[1] for i in summary_data.σy_align]\n",
    "ax[1].errorbar(x_tmp, y_tmp, xerr = x_std, yerr=y_std, capsize=2,  fmt = \".\", color=\"gray\")\n",
    "ax[1].scatter(x_tmp[event_ind], y_tmp[event_ind], color=\"gold\", s=100)\n",
    "\n",
    "rect = matplotlib.patches.Rectangle([0,0,], 27.1,30.5,linewidth=1,edgecolor=\"lightblue\",facecolor=\"none\")\n",
    "ax[1].add_patch(rect)\n",
    "\n",
    "rect = matplotlib.patches.Rectangle([0,0,],  21.6, 23.4,linewidth=1,edgecolor=\"lightblue\",facecolor=\"none\")\n",
    "ax[2].add_patch(rect)\n",
    "\n",
    "rect = matplotlib.patches.Rectangle([0,0,],  114.0, 125.0,linewidth=1,edgecolor=\"lightblue\",facecolor=\"none\")\n",
    "ax[3].add_patch(rect)\n",
    "\n",
    "rect = matplotlib.patches.Rectangle([0,0,],  121.8, 120.0,linewidth=1,edgecolor=\"lightblue\",facecolor=\"none\")\n",
    "ax[4].add_patch(rect)\n",
    "\n",
    "v1 = Float64[]\n",
    "v2 = Float64[]\n",
    "v3 = Float64[]\n",
    "v4 = Float64[]\n",
    "v5 = Float64[]\n",
    "v6 = Float64[]\n",
    " \n",
    "for i in samples.v\n",
    "    pred_x, pred_y = predict_position(x_tmp[event_ind], y_tmp[event_ind], i.θ[event_ind], i.α[event_ind])\n",
    "    pred_x += i.x_alignm\n",
    "    pred_y += i.y_alignm\n",
    "    \n",
    "    push!(v1, pred_x[1])\n",
    "    push!(v2, pred_y[1])\n",
    "    \n",
    "    push!(v3, pred_x[2])\n",
    "    push!(v4, pred_y[2])\n",
    "    \n",
    "    push!(v5, pred_x[3])\n",
    "    push!(v6, pred_y[3])\n",
    "end\n",
    "\n",
    "hist_tmp_1 = fit(Histogram, (v1, v2), FrequencyWeights(samples.weight), nbins=50)\n",
    "hist_tmp_2 = fit(Histogram, (v3, v4), FrequencyWeights(samples.weight), nbins=50)\n",
    "hist_tmp_3 = fit(Histogram, (v5, v6), FrequencyWeights(samples.weight), nbins=50)\n",
    "\n",
    "ax[2].contour(midpoints(hist_tmp_1.edges[1]), midpoints(hist_tmp_1.edges[2]), broadcast(x-> x>1 ? x : NaN, hist_tmp_1.weights)', \n",
    "    colors=\"darkred\", alpha=1, antialiased=true) \n",
    "\n",
    "ax[3].contour(midpoints(hist_tmp_2.edges[1]), midpoints(hist_tmp_2.edges[2]), broadcast(x-> x>1 ? x : NaN, hist_tmp_2.weights)', \n",
    "    colors=\"darkred\", alpha=1, antialiased=true)\n",
    "\n",
    "ax[4].contour(midpoints(hist_tmp_3.edges[1]), midpoints(hist_tmp_3.edges[2]), broadcast(x-> x>1 ? x : NaN, hist_tmp_3.weights)', \n",
    "    colors=\"darkred\", alpha=1, antialiased=true)\n",
    "\n",
    "ax[1].set_xlim(0, 300)\n",
    "ax[1].set_ylim(0, 250)"
   ]
  },
  {
   "cell_type": "code",
   "execution_count": null,
   "metadata": {},
   "outputs": [],
   "source": [
    "dt = Float64[i[event_ind] for i in samples.v.α]\n",
    "hist_v = fit(Histogram, dt, FrequencyWeights(round.(Int64, samples.weight)), nbins=100)\n",
    "hist_v = normalize(hist_v, mode=:pdf)\n",
    "\n",
    "fig = figure(figsize=(7,7))\n",
    "\n",
    "ax = PyPlot.axes(polar=\"true\") # Create a polar axis\n",
    "\n",
    "ax.plot(midpoints(hist_v.edges[1]), \n",
    "        hist_v.weights, \n",
    "        lw=1.2,  \"o-\", \n",
    "        color= \"red\", \n",
    "        alpha=0.8, \n",
    "        marker=\"None\") \n",
    "\n",
    "\n",
    "ax.grid(alpha=0.2)\n",
    "# ax.set_yticklabels([])\n",
    "ax.set_title(\"Azimuthal Angle Probability φ\")"
   ]
  },
  {
   "cell_type": "code",
   "execution_count": null,
   "metadata": {},
   "outputs": [],
   "source": []
  },
  {
   "cell_type": "code",
   "execution_count": null,
   "metadata": {},
   "outputs": [],
   "source": []
  }
 ],
 "metadata": {
  "kernelspec": {
   "display_name": "Julia 1.5.3",
   "language": "julia",
   "name": "julia-1.5"
  },
  "language_info": {
   "file_extension": ".jl",
   "mimetype": "application/julia",
   "name": "julia",
   "version": "1.5.3"
  }
 },
 "nbformat": 4,
 "nbformat_minor": 4
}
