{
 "cells": [
  {
   "cell_type": "code",
   "execution_count": null,
   "metadata": {},
   "outputs": [],
   "source": [
    "using JLD2\n",
    "using FileIO\n",
    "using PyPlot\n",
    "using Statistics\n",
    "using StatsBase \n",
    "using Distributions\n",
    "using LinearAlgebra\n",
    "using HDF5\n",
    "using IntervalSets\n",
    "using Random, ArraysOfArrays\n",
    "using ValueShapes\n",
    "using Measurements\n",
    "using BAT\n",
    "using ForwardDiff\n",
    "using BenchmarkTools"
   ]
  },
  {
   "cell_type": "code",
   "execution_count": null,
   "metadata": {},
   "outputs": [],
   "source": [
    "include(\"../utill.jl\")"
   ]
  },
  {
   "cell_type": "code",
   "execution_count": null,
   "metadata": {},
   "outputs": [],
   "source": [
    "function cov_matr(smpl_tmp)\n",
    "    smp_fl, w = flatview(unshaped.(smpl_tmp.v)), smpl_tmp.weight\n",
    "    smp_fl = smp_fl ./ std(smp_fl, FrequencyWeights(w), 2)\n",
    "    smp_fl = smp_fl .- mean(smp_fl, FrequencyWeights(w), dims=2)\n",
    "    cov_m = cov(smp_fl, FrequencyWeights(w), 2)\n",
    "    return cov_m\n",
    "end"
   ]
  },
  {
   "cell_type": "markdown",
   "metadata": {},
   "source": [
    "# Generate Toy data:"
   ]
  },
  {
   "cell_type": "code",
   "execution_count": null,
   "metadata": {},
   "outputs": [],
   "source": [
    "n_ev = 5\n",
    "truth = (\n",
    "    θ = rand(Uniform(10^-6,10^-5), n_ev),\n",
    "    α = rand(Uniform(0,2*pi), n_ev),\n",
    ");"
   ]
  },
  {
   "cell_type": "code",
   "execution_count": null,
   "metadata": {},
   "outputs": [],
   "source": [
    "function predict_position(x0, y0, θ, α; s = Float64[1.478, 15.026, 23.1150])\n",
    "    x_expected = x0 .+ cos(α).*θ.*s.*10^6\n",
    "    y_expected = y0 .+ sin(α).*θ.*s.*10^6\n",
    "    return (x_expected, y_expected)\n",
    "end\n",
    "\n",
    "x_sim = Array{Float64}[]\n",
    "y_sim = Array{Float64}[]\n",
    "\n",
    "for i in 1:n_ev\n",
    "    x_0, y_0 = rand(Uniform(50,250), 2)\n",
    "    x_expected, y_expected = predict_position(x_0, y_0, truth.θ[i], truth.α[i])\n",
    "    x_expected = rand.(Normal.(x_expected, 0.2))\n",
    "    y_expected = rand.(Normal.(y_expected, 0.2))\n",
    "#     x_expected = x_expected .+ truth.x_alignm\n",
    "#     y_expected = y_expected .+ truth.y_alignm # shift cameras\n",
    "    \n",
    "    push!(x_sim, [x_0 ; x_expected])\n",
    "    push!(y_sim, [y_0 ; y_expected])\n",
    "end\n",
    "\n",
    "# zc_x = [minimum([i[j] for i in x_sim]) for j in 1:4]; # find min position at each camera \n",
    "# zc_y = [minimum([i[j] for i in y_sim]) for j in 1:4]; # find min position at each camera \n",
    "\n",
    "# x_sim = [i.- zc_x .+ 2 for i in x_sim] \n",
    "# y_sim = [i.- zc_y .+ 2 for i in y_sim] \n",
    "\n",
    "simulated_data = (μx_align = x_sim, μy_align=y_sim);"
   ]
  },
  {
   "cell_type": "code",
   "execution_count": null,
   "metadata": {},
   "outputs": [],
   "source": [
    "fig, ax = plt.subplots(1,4, figsize=(15,4), sharex=true, sharey=true)\n",
    "\n",
    "fig.subplots_adjust(hspace=0.0, wspace=0.0)\n",
    "\n",
    "x_tmp = [i[1] for i in simulated_data.μx_align]\n",
    "y_tmp = [i[1] for i in simulated_data.μy_align]\n",
    "ax[1].errorbar(x_tmp, y_tmp, capsize=2,  fmt = \".\", color=\"gray\")\n",
    "\n",
    "x_tmp = [i[2] for i in simulated_data.μx_align]\n",
    "y_tmp = [i[2] for i in simulated_data.μy_align]\n",
    "ax[2].errorbar(x_tmp, y_tmp, capsize=2,  fmt = \".\", color=\"gray\")\n",
    "\n",
    "x_tmp = [i[3] for i in simulated_data.μx_align]\n",
    "y_tmp = [i[3] for i in simulated_data.μy_align]\n",
    "ax[3].errorbar(x_tmp, y_tmp, capsize=2,  fmt = \".\", color=\"gray\")\n",
    "\n",
    "x_tmp = [i[4] for i in simulated_data.μx_align]\n",
    "y_tmp = [i[4] for i in simulated_data.μy_align]\n",
    "ax[4].errorbar(x_tmp, y_tmp, capsize=2,  fmt = \".\", color=\"gray\")"
   ]
  },
  {
   "cell_type": "markdown",
   "metadata": {},
   "source": [
    "# Sampling: "
   ]
  },
  {
   "cell_type": "code",
   "execution_count": null,
   "metadata": {},
   "outputs": [],
   "source": [
    "sampling_ind = 1:5\n",
    "n_events = length(sampling_ind)\n",
    "\n",
    "prior_ang = NamedTupleDist(\n",
    "    θ = [10^-8 .. 10^-4 for i in 1:n_events],\n",
    "    α = [0 .. 2*pi  for i in 1:n_events],\n",
    "    x_alignm = [-300 .. 300 for i in 1:3],\n",
    "    y_alignm = [-300 .. 300 for i in 1:3],\n",
    "    σ = [6.23, 32.9, 35.1],\n",
    ");"
   ]
  },
  {
   "cell_type": "code",
   "execution_count": null,
   "metadata": {},
   "outputs": [],
   "source": [
    "function log_lik(; data = simulated_data, event_ind = sampling_ind)\n",
    "    \n",
    "    s_cam = Float64[1.478, 15.026, 23.1150]\n",
    "    \n",
    "    return params -> begin   \n",
    "        \n",
    "        ll = 0.0\n",
    "    \n",
    "        for (ind, val) in enumerate(event_ind)\n",
    "            \n",
    "            x_expected = cos(params.α[ind]).*params.θ[ind]*s_cam.*10^6\n",
    "            y_expected = sin(params.α[ind]).*params.θ[ind]*s_cam.*10^6\n",
    "            \n",
    "            x_expected += data.μx_align[val][1] .+ params.x_alignm \n",
    "            y_expected += data.μy_align[val][1] .+ params.y_alignm\n",
    "            \n",
    "            ll += sum(logpdf.(Normal.(x_expected, params.σ), data.μx_align[val][2:end] ))\n",
    "            ll += sum(logpdf.(Normal.(y_expected, params.σ), data.μy_align[val][2:end] ))\n",
    "            \n",
    "            \n",
    "        end\n",
    "        return LogDVal(ll)\n",
    "    end\n",
    "        \n",
    "end\n",
    "\n",
    "log_likelihood = log_lik()"
   ]
  },
  {
   "cell_type": "code",
   "execution_count": null,
   "metadata": {},
   "outputs": [],
   "source": [
    "posterior = PosteriorDensity(log_likelihood, prior_ang);"
   ]
  },
  {
   "cell_type": "code",
   "execution_count": null,
   "metadata": {},
   "outputs": [],
   "source": [
    "posterior_is = bat_transform(PriorToGaussian(), posterior, PriorSubstitution()).result;"
   ]
  },
  {
   "cell_type": "code",
   "execution_count": null,
   "metadata": {},
   "outputs": [],
   "source": [
    "iter = 40000\n",
    "iter_warmup = 500\n",
    "chains = 4;\n"
   ]
  },
  {
   "cell_type": "code",
   "execution_count": null,
   "metadata": {},
   "outputs": [],
   "source": [
    "metric = BAT.DiagEuclideanMetric()\n",
    "integrator = BAT.LeapfrogIntegrator()\n",
    "proposal = BAT.NUTS(:MultinomialTS, :ClassicNoUTurn)\n",
    "adaptor = BAT.StanHMCAdaptor(0.8, iter_warmup)\n",
    "\n",
    "hmc_sampler = HamiltonianMC(metric, ForwardDiff, integrator, proposal, adaptor);"
   ]
  },
  {
   "cell_type": "code",
   "execution_count": null,
   "metadata": {},
   "outputs": [],
   "source": [
    "# par_test = rand(prior_ang)\n",
    "# @time log_likelihood(par_test)\n",
    "#@benchmark log_likelihood(par_test)"
   ]
  },
  {
   "cell_type": "code",
   "execution_count": null,
   "metadata": {},
   "outputs": [],
   "source": [
    "@time samples_is = bat_sample(posterior_is, iter, MCMCSampling(sampler = hmc_sampler, nchains = chains));"
   ]
  },
  {
   "cell_type": "code",
   "execution_count": null,
   "metadata": {},
   "outputs": [],
   "source": [
    "# @time samples_is = bat_sample(posterior, 10^6, MCMCSampling(sampler = MetropolisHastings(), nchains = 4));"
   ]
  },
  {
   "cell_type": "code",
   "execution_count": null,
   "metadata": {},
   "outputs": [],
   "source": [
    "samples = samples_is.result;"
   ]
  },
  {
   "cell_type": "code",
   "execution_count": null,
   "metadata": {},
   "outputs": [],
   "source": [
    "trafo_is = trafoof(posterior_is.likelihood)\n",
    "samples = inv(trafo_is).(samples);"
   ]
  },
  {
   "cell_type": "code",
   "execution_count": null,
   "metadata": {},
   "outputs": [],
   "source": [
    "sz = size(flatview(unshaped.(samples.v)))"
   ]
  },
  {
   "cell_type": "code",
   "execution_count": null,
   "metadata": {},
   "outputs": [],
   "source": [
    "# BAT.bat_write(\"../../data/sampling_results/Benchmark-5/alignment/samples-batch-1.hdf5\", unshaped.(samples))"
   ]
  },
  {
   "cell_type": "code",
   "execution_count": null,
   "metadata": {},
   "outputs": [],
   "source": [
    "plot(flatview(unshaped.(samples.v))[1,:])"
   ]
  },
  {
   "cell_type": "code",
   "execution_count": null,
   "metadata": {},
   "outputs": [],
   "source": [
    "covm = cov_matr(samples);\n",
    "\n",
    "fig, (ax, ax2) = plt.subplots(1,2, figsize=(7,7), gridspec_kw=Dict(\"width_ratios\"=>[15,1]))\n",
    "\n",
    "max_tmp = maximum(abs.(covm))\n",
    "\n",
    "cb = ax.imshow(covm,  origin=\"upper\", cmap=\"seismic\", vmin=-max_tmp, vmax=max_tmp, aspect=\"equal\") \n",
    "fig.colorbar(cb, spacing=\"proportional\", label=\"Covariance\", cax=ax2)\n",
    "\n",
    "# ax.set_yticks(0:26)\n",
    "# ax.set_yticklabels(labels)\n",
    "\n",
    "# ax.set_xticks(0:26)\n",
    "# ax.set_xticklabels(labels, rotation = 90);"
   ]
  },
  {
   "cell_type": "code",
   "execution_count": null,
   "metadata": {},
   "outputs": [],
   "source": [
    "param_mode = mode(samples)"
   ]
  },
  {
   "cell_type": "code",
   "execution_count": null,
   "metadata": {},
   "outputs": [],
   "source": [
    "bat_marginalmode(samples).result"
   ]
  },
  {
   "cell_type": "code",
   "execution_count": null,
   "metadata": {},
   "outputs": [],
   "source": [
    "mean(samples)[1]"
   ]
  },
  {
   "cell_type": "code",
   "execution_count": null,
   "metadata": {},
   "outputs": [],
   "source": [
    "std(samples)[1]"
   ]
  },
  {
   "cell_type": "code",
   "execution_count": null,
   "metadata": {},
   "outputs": [],
   "source": [
    "#  findmode_result = bat_findmode(posterior, MaxDensityLBFGS(init = InitFromTarget()), )\n",
    "\n",
    "findmode_result = bat_findmode(\n",
    "    posterior, \n",
    "    MaxDensityLBFGS(init = ExplicitInit([param_mode],)), \n",
    ")\n",
    "\n",
    "fit_par_values = findmode_result.result[1]"
   ]
  },
  {
   "cell_type": "code",
   "execution_count": null,
   "metadata": {},
   "outputs": [],
   "source": []
  },
  {
   "cell_type": "code",
   "execution_count": null,
   "metadata": {},
   "outputs": [],
   "source": [
    "# @save \"../../data/sampling_results/Benchmark-5/alignment/hc-data.jld2\" data fit_par_values"
   ]
  },
  {
   "cell_type": "code",
   "execution_count": null,
   "metadata": {},
   "outputs": [],
   "source": [
    "dims = 1:n_events\n",
    "# dims = [1,2,3,4,5,]\n",
    "names = dims\n",
    "levels = [0.01, 0.55, 0.9, 0.95,  1,]\n",
    "levels = [0.001, 0.98, 1,]\n",
    "figsize = (10,10)\n",
    "n_bins = 30\n",
    "\n",
    "corner_plots(samples, dims, names, levels_quantiles = levels, figsize=figsize, N_bins=n_bins)"
   ]
  },
  {
   "cell_type": "code",
   "execution_count": null,
   "metadata": {},
   "outputs": [],
   "source": [
    "dims = n_events+1:2*n_events\n",
    "# dims = [1,2,3,4,5,]\n",
    "names = dims\n",
    "levels = [0.01, 0.55, 0.9, 0.95,  1,]\n",
    "levels = [0.001, 0.98, 1,]\n",
    "figsize = (10,10)\n",
    "n_bins = 25\n",
    "\n",
    "corner_plots(samples, dims, names, levels_quantiles = levels, figsize=figsize, N_bins=n_bins)"
   ]
  },
  {
   "cell_type": "code",
   "execution_count": null,
   "metadata": {},
   "outputs": [],
   "source": [
    "dims = collect(sz[1]-11:sz[1]-6)\n",
    "names = dims\n",
    "levels = [0.01, 0.55, 0.9, 0.95,  1,]\n",
    "levels = [0.001, 0.95, 1,]\n",
    "figsize = (10,10)\n",
    "n_bins = 25\n",
    "\n",
    "corner_plots(samples, dims, names, levels_quantiles = levels, figsize=figsize, N_bins=n_bins)"
   ]
  },
  {
   "cell_type": "code",
   "execution_count": null,
   "metadata": {},
   "outputs": [],
   "source": [
    "dims = collect(sz[1]-5:sz[1])\n",
    "names = dims\n",
    "levels = [0.01, 0.55, 0.9, 0.95,  1,]\n",
    "levels = [0.001, 0.98, 1,]\n",
    "figsize = (10,10)\n",
    "n_bins = 25\n",
    "\n",
    "corner_plots(samples, dims, names, levels_quantiles = levels, figsize=figsize, N_bins=n_bins)"
   ]
  },
  {
   "cell_type": "code",
   "execution_count": null,
   "metadata": {},
   "outputs": [],
   "source": []
  },
  {
   "cell_type": "code",
   "execution_count": null,
   "metadata": {},
   "outputs": [],
   "source": []
  },
  {
   "cell_type": "code",
   "execution_count": null,
   "metadata": {},
   "outputs": [],
   "source": [
    "function predict_position(x0, y0, θ, α; s = Float64[1.478, 15.026, 23.1150])\n",
    "    x_expected = x0 .+ cos(α).*θ.*s.*10^6\n",
    "    y_expected = y0 .+ sin(α).*θ.*s.*10^6\n",
    "    return (x_expected, y_expected)\n",
    "end"
   ]
  },
  {
   "cell_type": "code",
   "execution_count": null,
   "metadata": {},
   "outputs": [],
   "source": [
    "\n",
    "event_ind = 1\n",
    "\n",
    "fig, ax = plt.subplots(1,4, figsize=(15,4), sharex=true, sharey=true)\n",
    "\n",
    "fig.subplots_adjust(hspace=0.0, wspace=0.0)\n",
    "\n",
    "x_tmp = [i[2] for i in simulated_data.μx_align]\n",
    "y_tmp = [i[2] for i in simulated_data.μy_align]\n",
    "ax[2].errorbar(x_tmp, y_tmp,  capsize=2,  fmt = \".\", color=\"gray\")\n",
    "ax[2].scatter(x_tmp[event_ind], y_tmp[event_ind], color=\"gold\", s=100)\n",
    "\n",
    "x_tmp = [i[3] for i in simulated_data.μx_align]\n",
    "y_tmp = [i[3] for i in simulated_data.μy_align]\n",
    "ax[3].errorbar(x_tmp, y_tmp,  capsize=2,  fmt = \".\", color=\"gray\")\n",
    "ax[3].scatter(x_tmp[event_ind], y_tmp[event_ind], color=\"gold\", s=100)\n",
    "\n",
    "x_tmp = [i[4] for i in simulated_data.μx_align]\n",
    "y_tmp = [i[4] for i in simulated_data.μy_align]\n",
    "ax[4].errorbar(x_tmp, y_tmp,  capsize=2,  fmt = \".\", color=\"gray\")\n",
    "ax[4].scatter(x_tmp[event_ind], y_tmp[event_ind], color=\"gold\", s=100)\n",
    "\n",
    "x_tmp = [i[1] for i in simulated_data.μx_align]\n",
    "y_tmp = [i[1] for i in simulated_data.μy_align]\n",
    "ax[1].errorbar(x_tmp, y_tmp, capsize=2,  fmt = \".\", color=\"gray\")\n",
    "ax[1].scatter(x_tmp[event_ind], y_tmp[event_ind], color=\"gold\", s=100)\n",
    "\n",
    "rect = matplotlib.patches.Rectangle([0,0,], 27.1,30.5,linewidth=1,edgecolor=\"lightblue\",facecolor=\"none\")\n",
    "ax[1].add_patch(rect)\n",
    "\n",
    "rect = matplotlib.patches.Rectangle([0,0,],  21.6, 23.4,linewidth=1,edgecolor=\"lightblue\",facecolor=\"none\")\n",
    "ax[2].add_patch(rect)\n",
    "\n",
    "rect = matplotlib.patches.Rectangle([0,0,],  114.0, 125.0,linewidth=1,edgecolor=\"lightblue\",facecolor=\"none\")\n",
    "ax[3].add_patch(rect)\n",
    "\n",
    "rect = matplotlib.patches.Rectangle([0,0,],  121.8, 120.0,linewidth=1,edgecolor=\"lightblue\",facecolor=\"none\")\n",
    "ax[4].add_patch(rect)\n",
    "\n",
    "v1 = Float64[]\n",
    "v2 = Float64[]\n",
    "v3 = Float64[]\n",
    "v4 = Float64[]\n",
    "v5 = Float64[]\n",
    "v6 = Float64[]\n",
    " \n",
    "for i in samples.v\n",
    "    pred_x, pred_y = predict_position(x_tmp[event_ind], y_tmp[event_ind], i.θ[event_ind], i.α[event_ind])\n",
    "    pred_x += i.x_alignm\n",
    "    pred_y += i.y_alignm\n",
    "    \n",
    "    push!(v1, pred_x[1])\n",
    "    push!(v2, pred_y[1])\n",
    "    \n",
    "    push!(v3, pred_x[2])\n",
    "    push!(v4, pred_y[2])\n",
    "    \n",
    "    push!(v5, pred_x[3])\n",
    "    push!(v6, pred_y[3])\n",
    "end\n",
    "\n",
    "hist_tmp_1 = fit(Histogram, (v1, v2), FrequencyWeights(samples.weight), nbins=10)\n",
    "hist_tmp_2 = fit(Histogram, (v3, v4), FrequencyWeights(samples.weight), nbins=10)\n",
    "hist_tmp_3 = fit(Histogram, (v5, v6), FrequencyWeights(samples.weight), nbins=10)\n",
    "\n",
    "ax[2].contour(midpoints(hist_tmp_1.edges[1]), midpoints(hist_tmp_1.edges[2]), hist_tmp_1.weights', \n",
    "    colors=\"darkred\", alpha=1, antialiased=true) \n",
    "\n",
    "ax[3].contour(midpoints(hist_tmp_2.edges[1]), midpoints(hist_tmp_2.edges[2]), hist_tmp_2.weights', \n",
    "    colors=\"darkred\", alpha=1, antialiased=true)\n",
    "\n",
    "ax[4].contour(midpoints(hist_tmp_3.edges[1]), midpoints(hist_tmp_3.edges[2]), hist_tmp_3.weights', \n",
    "    colors=\"darkred\", alpha=1, antialiased=true)\n",
    "\n",
    "# ax[1].set_xlim(0, 50)\n",
    "# ax[1].set_ylim(0, 50)"
   ]
  },
  {
   "cell_type": "code",
   "execution_count": null,
   "metadata": {},
   "outputs": [],
   "source": [
    "dt = Float64[i[event_ind] for i in samples.v.α]\n",
    "hist_v = fit(Histogram, dt, FrequencyWeights(round.(Int64, samples.weight)), nbins=100)\n",
    "hist_v = normalize(hist_v, mode=:pdf)\n",
    "\n",
    "fig = figure(figsize=(7,7))\n",
    "\n",
    "ax = PyPlot.axes(polar=\"true\") # Create a polar axis\n",
    "\n",
    "ax.plot(midpoints(hist_v.edges[1]), \n",
    "        hist_v.weights, \n",
    "        lw=1.2,  \"o-\", \n",
    "        color= \"red\", \n",
    "        alpha=0.8, \n",
    "        marker=\"None\") \n",
    "\n",
    "\n",
    "ax.grid(alpha=0.2)\n",
    "# ax.set_yticklabels([])\n",
    "ax.set_title(\"Azimuthal Angle Probability φ\")"
   ]
  },
  {
   "cell_type": "code",
   "execution_count": null,
   "metadata": {},
   "outputs": [],
   "source": []
  },
  {
   "cell_type": "code",
   "execution_count": null,
   "metadata": {},
   "outputs": [],
   "source": []
  }
 ],
 "metadata": {
  "kernelspec": {
   "display_name": "Julia 1.5.3",
   "language": "julia",
   "name": "julia-1.5"
  },
  "language_info": {
   "file_extension": ".jl",
   "mimetype": "application/julia",
   "name": "julia",
   "version": "1.5.3"
  }
 },
 "nbformat": 4,
 "nbformat_minor": 4
}
