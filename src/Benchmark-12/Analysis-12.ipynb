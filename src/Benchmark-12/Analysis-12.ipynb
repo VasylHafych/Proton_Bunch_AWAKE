{
 "cells": [
  {
   "cell_type": "code",
   "execution_count": 1,
   "metadata": {},
   "outputs": [],
   "source": [
    "using JLD2\n",
    "using FileIO\n",
    "using PyPlot\n",
    "using Statistics\n",
    "using StatsBase \n",
    "using Distributions\n",
    "using LinearAlgebra\n",
    "using IntervalSets\n",
    "using Random, ArraysOfArrays\n",
    "using ValueShapes\n",
    "using Measurements\n",
    "using BAT\n",
    "using DSP\n",
    "import HDF5"
   ]
  },
  {
   "cell_type": "code",
   "execution_count": 2,
   "metadata": {},
   "outputs": [
    {
     "data": {
      "text/plain": [
       "plot_projections (generic function with 1 method)"
      ]
     },
     "execution_count": 2,
     "metadata": {},
     "output_type": "execute_result"
    }
   ],
   "source": [
    "include(\"../model-41/likelihood.jl\")\n",
    "include(\"../model-41/utill_model.jl\")\n",
    "include(\"../utill.jl\")"
   ]
  },
  {
   "cell_type": "code",
   "execution_count": 3,
   "metadata": {},
   "outputs": [
    {
     "data": {
      "text/plain": [
       "hist_2d (generic function with 1 method)"
      ]
     },
     "execution_count": 3,
     "metadata": {},
     "output_type": "execute_result"
    }
   ],
   "source": [
    "function hist_2d(smpls, dim_1, dim_2; nbins=40, axmin = true, axmax=true)\n",
    "    smpl_tmp, smpl_w = flatview(unshaped.(smpls.v)), smpls.weight\n",
    "    if axmin == true\n",
    "        hist_tmp = fit(Histogram, (smpl_tmp[dim_1,:],smpl_tmp[dim_2,:]), FrequencyWeights(smpl_w), nbins=nbins)\n",
    "    else\n",
    "       hist_tmp = fit(Histogram, (smpl_tmp[dim_1,:],smpl_tmp[dim_2,:]), FrequencyWeights(smpl_w), (range(axmin[1], stop=axmax[1], length=nbins), range(axmin[2], stop=axmax[2], length=nbins))) \n",
    "    end\n",
    "    hist_tmp = normalize(hist_tmp, mode=:pdf) \n",
    "    return hist_tmp\n",
    "end"
   ]
  },
  {
   "cell_type": "code",
   "execution_count": 45,
   "metadata": {},
   "outputs": [],
   "source": [
    "β1= 0.015\n",
    "β2 = 0.0077\n",
    "β3 = 0.0058 \n",
    "\n",
    "function trunc_norm(m, sgm; alpha=2)\n",
    "    return truncated(Normal(m, sgm), m - alpha*sgm, m + alpha*sgm)\n",
    "end\n",
    "\n",
    "prior_1 = NamedTupleDist(\n",
    "        tr_size = [truncated(Normal(0.2, 0.04), 0.06, 0.19), truncated(Normal(0.2, 0.04), 0.06, 0.19)],\n",
    "        tr_size_2 = [truncated(Normal(0.2, 0.04), 0.06, 0.19), truncated(Normal(0.2, 0.04), 0.06, 0.19)],\n",
    "        ang_spr = [truncated(Normal(4.0, 2.0), 4.0, 7.0), truncated(Normal(4.0, 2.0), 4.0, 7.0)],\n",
    "        ang_spr_2 = [truncated(Normal(4.0, 2.0), 1.0, 4.0), truncated(Normal(4.0, 2.0), 1.0, 4.0)],\n",
    "        mixt_pow =  0.50 .. 1.0 ,\n",
    "        waist = [truncated(Normal(2.9, 0.03), 2.65, 3.5)],\n",
    "        waist_2 = [truncated(Normal(2.9, 0.03), 2.65, 3.5)], # 11\n",
    "        algmx = [23.0 .. 48, 23.0 .. 48.0, 10.0 .. 30.0, 23.0 .. 48.0],\n",
    "        algmy = [23.0 .. 48, 23.0 .. 48.0, 10.0 .. 30.0, 23.0 .. 48.0],\n",
    "        cam4_ped = 4.0 .. 40.0,\n",
    "        cam4_light_fluct = 1.0 .. 3.0,\n",
    "        cam4_light_amp = 1.6 .. 9.9, \n",
    "        resx = [1, 1, 1], # 23, 24, 25, \n",
    "        resy = [1, 1, 1], # 26,27, 28, \n",
    "        cam4_resx = truncated(Normal(3, 1.5), 0, Inf),\n",
    "        cam4_resy = truncated(Normal(3, 1.5), 0, Inf), \n",
    "        psx = [27.1, 21.6, 114.0], # 31, 32, 33\n",
    "        psy = [30.5, 23.4, 125.0], # 34, 35, 36\n",
    "        cam4_psx = 121.8, # 37\n",
    "        cam4_psy = 120.0, # 38\n",
    "        light_amp  = [1.0 .. 13.0 , 1.0 .. 17.0, 1.0 .. 5.0], # 1.0 .. 5.0\n",
    "        s_cam = [0.0, 1.478, 15.026, 23.1150],\n",
    "    )\n",
    "\n",
    "prior_2 = NamedTupleDist(\n",
    "        tr_size = [truncated(Normal(0.2, 0.04), 0.06, 0.19), truncated(Normal(0.2, 0.04), 0.06, 0.19)],\n",
    "        tr_size_2 = [truncated(Normal(0.2, 0.04), 0.06, 0.19), truncated(Normal(0.2, 0.04), 0.06, 0.19)],\n",
    "        ang_spr = [truncated(Normal(4.0, 2.0), 4.0, 7.0), truncated(Normal(4.0, 2.0), 4.0, 7.0)],\n",
    "        ang_spr_2 = [truncated(Normal(4.0, 2.0), 1.0, 4.0), truncated(Normal(4.0, 2.0), 1.0, 4.0)],\n",
    "        mixt_pow =  0.5 .. 1.0 , # should be from 0.3\n",
    "        waist = [truncated(Normal(2.9, 0.03), 2.65, 3.5)],\n",
    "        waist_2 = [truncated(Normal(2.9, 0.03), 2.65, 3.5)], # 11\n",
    "        algmx = [23.0 .. 48, 23.0 .. 48.0, 10.0 .. 30.0, 23.0 .. 48.0],\n",
    "        algmy = [23.0 .. 48, 23.0 .. 48.0, 10.0 .. 30.0, 23.0 .. 48.0],\n",
    "        cam4_ped = 4.0 .. 40.0,\n",
    "        cam4_light_fluct = 1.0 .. 3.0,\n",
    "        cam4_light_amp = 1.6 .. 9.9, \n",
    "        resx = [1, 1, 1], # 23, 24, 25, \n",
    "        resy = [1, 1, 1], # 26,27, 28, \n",
    "        cam4_resx = truncated(Normal(3, 1.5), 0, Inf),\n",
    "        cam4_resy = truncated(Normal(3, 1.5), 0, Inf), \n",
    "        psx = [trunc_norm(27.1, 27.1*β1), trunc_norm(21.6, 21.6*β1), trunc_norm(114.0, 114.0*β2)], # 31, 32, 33\n",
    "        psy = [trunc_norm(30.5, 30.5*β1), trunc_norm(23.4, 23.4*β1), trunc_norm(125.0, 125.0*β2)], # 34, 35, 36\n",
    "        cam4_psx = trunc_norm(121.8, 121.8*β3), # 37\n",
    "        cam4_psy = trunc_norm(120.0, 120.0*β3), # 38\n",
    "        light_amp  = [1.0 .. 13.0 , 1.0 .. 17.0, 1.0 .. 5.0], # 1.0 .. 5.0\n",
    "        s_cam = [0.0, 1.478, 15.026, 23.1150],\n",
    ");\n",
    "\n",
    "prior_3 = NamedTupleDist(\n",
    "        tr_size = [truncated(Normal(0.2, 0.04), 0.06, 0.19), truncated(Normal(0.2, 0.04), 0.06, 0.19)],\n",
    "        tr_size_2 = [truncated(Normal(0.2, 0.04), 0.06, 0.19), truncated(Normal(0.2, 0.04), 0.06, 0.19)],\n",
    "        ang_spr = [truncated(Normal(4.0, 2.0), 4.0, 7.0), truncated(Normal(4.0, 2.0), 4.0, 7.0)],\n",
    "        ang_spr_2 = [truncated(Normal(4.0, 2.0), 1.0, 4.0), truncated(Normal(4.0, 2.0), 1.0, 4.0)],\n",
    "        mixt_pow =  0.5 .. 1.0 , # should be from 0.3\n",
    "        waist = [truncated(Normal(2.9, 0.03), 2.65, 3.5)],\n",
    "        waist_2 = [truncated(Normal(2.9, 0.03), 2.65, 3.5)], # 11\n",
    "        algmx = [23.0 .. 48, 23.0 .. 48.0, 10.0 .. 30.0, 23.0 .. 48.0],\n",
    "        algmy = [23.0 .. 48, 23.0 .. 48.0, 10.0 .. 30.0, 23.0 .. 48.0],\n",
    "        cam4_ped = 4.0 .. 40.0,\n",
    "        cam4_light_fluct = 1.0 .. 3.0,\n",
    "        cam4_light_amp = 1.6 .. 9.9, \n",
    "        resx = [trunc_norm(1, 0.5), trunc_norm(1, 1), trunc_norm(1, 0.5)], # 23, 24, 25, \n",
    "        resy = [trunc_norm(1, 0.5), trunc_norm(1, 1), trunc_norm(1, 0.5)], # 26,27, 28, \n",
    "        cam4_resx = truncated(Normal(3, 1.5), 0, Inf),\n",
    "        cam4_resy = truncated(Normal(3, 1.5), 0, Inf), \n",
    "        psx = [trunc_norm(27.1, 27.1*β1), trunc_norm(21.6, 21.6*β1), trunc_norm(114.0, 114.0*β2)], # 31, 32, 33\n",
    "        psy = [trunc_norm(30.5, 30.5*β1), trunc_norm(23.4, 23.4*β1), trunc_norm(125.0, 125.0*β2)], # 34, 35, 36\n",
    "        cam4_psx = trunc_norm(121.8, 121.8*β3), # 37\n",
    "        cam4_psy = trunc_norm(120.0, 120.0*β3), # 38\n",
    "        light_amp  = [1.0 .. 13.0 , 1.0 .. 17.0, 1.0 .. 5.0], # 1.0 .. 5.0\n",
    "        s_cam = [0.0, 1.478, 15.026, 23.1150],\n",
    ");"
   ]
  },
  {
   "cell_type": "code",
   "execution_count": 46,
   "metadata": {},
   "outputs": [
    {
     "data": {
      "text/plain": [
       "\"../../data/sampling_results/Benchmark-12/\""
      ]
     },
     "execution_count": 46,
     "metadata": {},
     "output_type": "execute_result"
    }
   ],
   "source": [
    "FPATH = \"../../data/sampling_results/Benchmark-12/\""
   ]
  },
  {
   "cell_type": "code",
   "execution_count": 47,
   "metadata": {},
   "outputs": [],
   "source": [
    "smpl_tmp = bat_read(FPATH*\"samples-41-wopx.hdf5\").result\n",
    "samples_1 = varshape(prior_1).(smpl_tmp);\n",
    "\n",
    "smpl_tmp = bat_read(FPATH*\"samples-41-wpx.hdf5\").result\n",
    "samples_2 = varshape(prior_2).(smpl_tmp);\n",
    "\n",
    "smpl_tmp = bat_read(FPATH*\"samples-41-wpx-wre.hdf5\").result\n",
    "samples_3 = varshape(prior_3).(smpl_tmp);"
   ]
  },
  {
   "cell_type": "code",
   "execution_count": 48,
   "metadata": {},
   "outputs": [
    {
     "data": {
      "text/plain": [
       "891858"
      ]
     },
     "execution_count": 48,
     "metadata": {},
     "output_type": "execute_result"
    }
   ],
   "source": [
    "length(samples_1)"
   ]
  },
  {
   "cell_type": "code",
   "execution_count": 49,
   "metadata": {},
   "outputs": [
    {
     "data": {
      "text/plain": [
       "445999"
      ]
     },
     "execution_count": 49,
     "metadata": {},
     "output_type": "execute_result"
    }
   ],
   "source": [
    "length(samples_2)"
   ]
  },
  {
   "cell_type": "code",
   "execution_count": 51,
   "metadata": {},
   "outputs": [
    {
     "data": {
      "text/plain": [
       "807296"
      ]
     },
     "execution_count": 51,
     "metadata": {},
     "output_type": "execute_result"
    }
   ],
   "source": [
    "length(samples_3)"
   ]
  },
  {
   "cell_type": "code",
   "execution_count": 52,
   "metadata": {},
   "outputs": [
    {
     "data": {
      "text/plain": [
       "(tr_size = [0.09022016247626924, 0.13278027377370621], tr_size_2 = [0.13087542193714233, 0.15158061149510935], ang_spr = [6.227488514589307, 5.755259786375036], ang_spr_2 = [2.6057915179686617, 2.397589287133589], mixt_pow = 0.666006673110822, waist = [3.1425423563421417], waist_2 = [2.8738232953734717], algmx = [31.741703234746318, 32.22277650028469, 21.291812547178893, 35.2540699308112], algmy = [36.930260443041675, 37.40757355716955, 20.25845816811686, 33.90824607487838], cam4_ped = 27.57169693775633, cam4_light_fluct = 1.365633716171961, cam4_light_amp = 8.846914204881422, resx = [1, 1, 1], resy = [1, 1, 1], cam4_resx = 4.827560766404559, cam4_resy = 4.7854307298949275, psx = [27.1, 21.6, 114.0], psy = [30.5, 23.4, 125.0], cam4_psx = 121.8, cam4_psy = 120.0, light_amp = [8.532172007081927, 11.430580961050259, 2.6946677414758087], s_cam = [0.0, 1.478, 15.026, 23.115])"
      ]
     },
     "execution_count": 52,
     "metadata": {},
     "output_type": "execute_result"
    }
   ],
   "source": [
    "mode(samples_1)[1]"
   ]
  },
  {
   "cell_type": "code",
   "execution_count": 53,
   "metadata": {},
   "outputs": [
    {
     "data": {
      "text/plain": [
       "(tr_size = [0.0878519961539076, 0.12866022233571744], tr_size_2 = [0.12902210242712175, 0.15079362011069766], ang_spr = [6.19024477773182, 5.857650477620992], ang_spr_2 = [2.588849789593126, 2.562888564761092], mixt_pow = 0.6637996669015424, waist = [3.1432584577998495], waist_2 = [2.8452911119799555], algmx = [31.746138368290342, 32.212858589140744, 21.306006253104623, 35.23878081807115], algmy = [36.9366503085647, 37.42832463953376, 20.20877073636263, 33.90756814170225], cam4_ped = 27.241110112069173, cam4_light_fluct = 1.3546372961708204, cam4_light_amp = 8.86361829027101, resx = [1, 1, 1], resy = [1, 1, 1], cam4_resx = 4.7950133563577655, cam4_resy = 4.376420465340611, psx = [26.591733178081864, 21.376506600855908, 115.6945153580543], psy = [30.75605991888799, 23.00978240863821, 126.80768052269605], cam4_psx = 120.45927938902344, cam4_psy = 118.73315756117424, light_amp = [8.540774256501175, 11.414773421628986, 2.6862654997714475], s_cam = [0.0, 1.478, 15.026, 23.115])"
      ]
     },
     "execution_count": 53,
     "metadata": {},
     "output_type": "execute_result"
    }
   ],
   "source": [
    "mean(samples_2)[1]"
   ]
  },
  {
   "cell_type": "code",
   "execution_count": 54,
   "metadata": {},
   "outputs": [
    {
     "data": {
      "text/plain": [
       "(tr_size = [0.08230176446021915, 0.11876077855806214], tr_size_2 = [0.12628660622774754, 0.1443577988369611], ang_spr = [6.21688429579282, 5.886382646443409], ang_spr_2 = [2.6448462820478067, 2.61758300854103], mixt_pow = 0.6678287196629644, waist = [3.1614324163546916], waist_2 = [2.8463248239057446], algmx = [31.746161171131536, 32.2139486930608, 21.308271801273108, 35.23870273823629], algmy = [36.93905891664611, 37.42747476915398, 20.207823530762035, 33.907962914576586], cam4_ped = 27.296430547883826, cam4_light_fluct = 1.354958449655269, cam4_light_amp = 8.862152544904148, resx = [0.7529073905888063, 1.6054292307587186, 0.7186912888880602], resy = [0.6952603302489732, 2.3795065633706423, 0.8111597769627247], cam4_resx = 4.672347839477518, cam4_resy = 4.245207709555047, psx = [26.495866313272668, 21.521784674027757, 115.69255770079164], psy = [30.103938801898295, 23.272873867441106, 126.81765617804656], cam4_psx = 120.46433920760217, cam4_psy = 118.73827775438441, light_amp = [8.553567301155267, 11.423442057625094, 2.686396256283951], s_cam = [0.0, 1.478, 15.026, 23.115])"
      ]
     },
     "execution_count": 54,
     "metadata": {},
     "output_type": "execute_result"
    }
   ],
   "source": [
    "mean(samples_3)[1]"
   ]
  },
  {
   "cell_type": "code",
   "execution_count": 55,
   "metadata": {},
   "outputs": [
    {
     "data": {
      "text/plain": [
       "plot_contourf (generic function with 1 method)"
      ]
     },
     "execution_count": 55,
     "metadata": {},
     "output_type": "execute_result"
    }
   ],
   "source": [
    "function plot_contour(ax, hist; kwargs...)\n",
    "    ax.contour(midpoints(hist.edges[1]), midpoints(hist.edges[2]), hist.weights', \n",
    "        levels=range(minimum(hist.weights'), maximum(hist.weights'), length=8)[2:end]; #corner_mask= true,\n",
    "        kwargs..., antialiased=true) \n",
    "end\n",
    "\n",
    "function plot_contourf(ax, hist; kwargs...)\n",
    "    ax.contourf(midpoints(hist.edges[1]), midpoints(hist.edges[2]), hist.weights', \n",
    "        levels=range(minimum(hist.weights'), maximum(hist.weights'), length=8)[2:end]; #corner_mask= true,\n",
    "        kwargs..., antialiased=true) \n",
    "end"
   ]
  },
  {
   "cell_type": "code",
   "execution_count": 56,
   "metadata": {},
   "outputs": [],
   "source": [
    "hist_1_1 = hist_2d(samples_1, 1,2)\n",
    "hist_1_2 = hist_2d(samples_1, 3,4)\n",
    "\n",
    "hist_2_1 = hist_2d(samples_2, 1,2)\n",
    "hist_2_2 = hist_2d(samples_2, 3,4)\n",
    "\n",
    "hist_3_1 = hist_2d(samples_3, 1,2)\n",
    "hist_3_2 = hist_2d(samples_3, 3,4);"
   ]
  },
  {
   "cell_type": "code",
   "execution_count": 57,
   "metadata": {},
   "outputs": [
    {
     "data": {
      "image/png": "[encoded data removed]",
      "text/plain": [
       "Figure(PyObject <Figure size 600x600 with 1 Axes>)"
      ]
     },
     "metadata": {},
     "output_type": "display_data"
    },
    {
     "data": {
      "text/plain": [
       "PyObject <matplotlib.contour.QuadContourSet object at 0x7f2bb755f040>"
      ]
     },
     "execution_count": 57,
     "metadata": {},
     "output_type": "execute_result"
    }
   ],
   "source": [
    "fig, ax = plt.subplots(1,1, figsize=(6,6))\n",
    "fig.subplots_adjust(hspace=0.2, wspace=0.2)\n",
    "\n",
    "plot_contourf(ax, hist_1_1, cmap=:Blues)\n",
    "plot_contourf(ax, hist_1_2, cmap=:Blues)\n",
    "plot_contour(ax, hist_2_1, colors=:red, linewidths=0.8, alpha=0.5, linestyles=:dashed)\n",
    "plot_contour(ax, hist_2_2, colors=:red, linewidths=0.8, alpha=0.5, linestyles=:dashed)\n",
    "\n",
    "plot_contour(ax, hist_3_1, colors=:orange, linewidths=0.8, alpha=0.5, linestyles=:dashed)\n",
    "plot_contour(ax, hist_3_2, colors=:orange, linewidths=0.8, alpha=0.5, linestyles=:dashed)"
   ]
  },
  {
   "cell_type": "code",
   "execution_count": null,
   "metadata": {},
   "outputs": [],
   "source": []
  },
  {
   "cell_type": "code",
   "execution_count": 40,
   "metadata": {},
   "outputs": [
    {
     "data": {
      "text/plain": [
       "def_datasets (generic function with 1 method)"
      ]
     },
     "execution_count": 40,
     "metadata": {},
     "output_type": "execute_result"
    }
   ],
   "source": [
    "function def_datasets(samples_init, samples_ext, indid; nsampls=200)\n",
    "    samples_init = bat_sample(samples_init, OrderedResampling(nsamples=nsampls)).result\n",
    "    samples_init = flatview(unshaped.(samples_init.v))\n",
    "    samples_ext = bat_sample(samples_ext, OrderedResampling(nsamples=nsampls)).result\n",
    "    samples_ext = flatview(unshaped.(samples_ext.v))\n",
    "    \n",
    "    samples_init = samples_init[indid,:] \n",
    "    samples_ext = samples_ext[indid,:] \n",
    "    \n",
    "    return samples_init, samples_ext\n",
    "end"
   ]
  },
  {
   "cell_type": "code",
   "execution_count": 41,
   "metadata": {},
   "outputs": [
    {
     "name": "stderr",
     "output_type": "stream",
     "text": [
      "┌ Info: Initializing new RNG of type Random123.Philox4x{UInt64,10}\n",
      "└ @ BAT /user/.julia/packages/BAT/KbWVg/src/algotypes/bat_default.jl:44\n",
      "┌ Info: Initializing new RNG of type Random123.Philox4x{UInt64,10}\n",
      "└ @ BAT /user/.julia/packages/BAT/KbWVg/src/algotypes/bat_default.jl:44\n"
     ]
    }
   ],
   "source": [
    "tmp_1 = def_datasets(samples_1, samples_2, [1,2,3]);"
   ]
  },
  {
   "cell_type": "code",
   "execution_count": 44,
   "metadata": {},
   "outputs": [
    {
     "data": {
      "text/plain": [
       "3×185 Array{Float64,2}:\n",
       " 0.082695  0.0884963  0.0895411  …  0.0913205  0.0921276  0.0926366\n",
       " 0.127381  0.129349   0.126673      0.12627    0.131407   0.133929\n",
       " 0.126583  0.126814   0.128936      0.132971   0.131834   0.130985"
      ]
     },
     "execution_count": 44,
     "metadata": {},
     "output_type": "execute_result"
    }
   ],
   "source": [
    "tmp_1[2]"
   ]
  },
  {
   "cell_type": "code",
   "execution_count": null,
   "metadata": {},
   "outputs": [],
   "source": []
  },
  {
   "cell_type": "code",
   "execution_count": 18,
   "metadata": {},
   "outputs": [
    {
     "data": {
      "text/latex": [
       "\\begin{verbatim}\n",
       "struct OrderedResampling <: AbstractSamplingAlgorithm\n",
       "\\end{verbatim}\n",
       "Efficiently resamples from a given series of samples, keeping the order of samples.\n",
       "\n",
       "Can be used to efficiently convert weighted samples into samples with unity weights.\n",
       "\n",
       "Constructors:\n",
       "\n",
       "\\begin{itemize}\n",
       "\\item \\texttt{OrderedResampling(; fields...)}\n",
       "\n",
       "\\end{itemize}\n",
       "Fields:\n",
       "\n",
       "\\begin{itemize}\n",
       "\\item \\texttt{nsamples::Int64}\n",
       "\n",
       "Default: 10 \\^{} 5\n",
       "\n",
       "\\end{itemize}\n"
      ],
      "text/markdown": [
       "```\n",
       "struct OrderedResampling <: AbstractSamplingAlgorithm\n",
       "```\n",
       "\n",
       "Efficiently resamples from a given series of samples, keeping the order of samples.\n",
       "\n",
       "Can be used to efficiently convert weighted samples into samples with unity weights.\n",
       "\n",
       "Constructors:\n",
       "\n",
       "  * `OrderedResampling(; fields...)`\n",
       "\n",
       "Fields:\n",
       "\n",
       "  * `nsamples::Int64`\n",
       "\n",
       "    Default: 10 ^ 5\n"
      ],
      "text/plain": [
       "\u001b[36m  struct OrderedResampling <: AbstractSamplingAlgorithm\u001b[39m\n",
       "\n",
       "  Efficiently resamples from a given series of samples, keeping the order of\n",
       "  samples.\n",
       "\n",
       "  Can be used to efficiently convert weighted samples into samples with unity\n",
       "  weights.\n",
       "\n",
       "  Constructors:\n",
       "\n",
       "    •    \u001b[36mOrderedResampling(; fields...)\u001b[39m\n",
       "\n",
       "  Fields:\n",
       "\n",
       "    •    \u001b[36mnsamples::Int64\u001b[39m\n",
       "      \n",
       "        Default: 10 ^ 5"
      ]
     },
     "execution_count": 18,
     "metadata": {},
     "output_type": "execute_result"
    }
   ],
   "source": [
    "? BAT.OrderedResampling"
   ]
  },
  {
   "cell_type": "code",
   "execution_count": null,
   "metadata": {},
   "outputs": [],
   "source": []
  },
  {
   "cell_type": "code",
   "execution_count": null,
   "metadata": {},
   "outputs": [],
   "source": []
  },
  {
   "cell_type": "code",
   "execution_count": null,
   "metadata": {},
   "outputs": [],
   "source": [
    "dims = [1,2,3,4,5,6,]\n",
    "names = dims\n",
    "levels = [0.0001, 0.65, 0.9, 0.95,  1,]\n",
    "levels = [0.01, 0.95, 1,]\n",
    "figsize = (12,12)\n",
    "n_bins = 20\n",
    "\n",
    "corner_plots(samples_2, dims, names, levels_quantiles = levels, figsize=figsize, N_bins=n_bins)"
   ]
  },
  {
   "cell_type": "code",
   "execution_count": null,
   "metadata": {},
   "outputs": [],
   "source": [
    "dims = 7:14\n",
    "names = dims\n",
    "levels = [0.0001, 0.65, 0.9, 0.95,  1,]\n",
    "levels = [0.01, 0.95, 1,]\n",
    "figsize = (12,12)\n",
    "n_bins = 20\n",
    "\n",
    "corner_plots(samples_2, dims, names, levels_quantiles = levels, figsize=figsize, N_bins=n_bins)"
   ]
  },
  {
   "cell_type": "code",
   "execution_count": null,
   "metadata": {},
   "outputs": [],
   "source": [
    "dims = 7:22\n",
    "names = dims\n",
    "levels = [0.01, 0.55, 0.9, 0.95,  1,]\n",
    "levels = [0.01,  0.95, 1,]\n",
    "figsize = (8,8)\n",
    "n_bins = 20\n",
    "\n",
    "corner_plots(samples_4, dims, names, levels_quantiles = levels, figsize=figsize, N_bins=n_bins)"
   ]
  },
  {
   "cell_type": "code",
   "execution_count": null,
   "metadata": {},
   "outputs": [],
   "source": [
    "dims = 20:27\n",
    "names = dims\n",
    "levels = [0.01, 0.55, 0.9, 0.95,  1,]\n",
    "# levels = [0.01, 0.65, 0.95, 1,]\n",
    "figsize = (8,8)\n",
    "n_bins = 20\n",
    "\n",
    "corner_plots(samples, dims, names, levels_quantiles = levels, figsize=figsize, N_bins=n_bins)"
   ]
  },
  {
   "cell_type": "code",
   "execution_count": null,
   "metadata": {},
   "outputs": [],
   "source": [
    "plt.imshow(log.(abs.(cov(flatview(unshaped.(samples_4.v))'))), cmap=\"Blues\")"
   ]
  },
  {
   "cell_type": "code",
   "execution_count": null,
   "metadata": {},
   "outputs": [],
   "source": [
    "dt_reg = flatview(unshaped.(samples_4.v)) ./ std(flatview(unshaped.(samples_4.v)), dims=2)\n",
    "dt_reg = dt_reg .- mean(dt_reg, dims=2)\n",
    "dt_reg = cov(dt_reg')\n",
    "max = maximum(abs.(dt_reg))\n",
    "\n",
    "plt.imshow(dt_reg, cmap=\"seismic\", vmin=-max, vmax=max)"
   ]
  },
  {
   "cell_type": "code",
   "execution_count": null,
   "metadata": {},
   "outputs": [],
   "source": [
    "if true\n",
    "    \n",
    "    conv_mat = load(\"../../data/experiment/dataset_2/m2/conv-matrix-upd-2.jld2\") \n",
    "\n",
    "    global conv_matrices = (\n",
    "        cam_1 = conv_mat[\"cam_1\"],\n",
    "        cam_2 = conv_mat[\"cam_2\"],\n",
    "        cam_3 = conv_mat[\"cam_3\"],\n",
    "        cam_4 = conv_mat[\"cam_4\"], \n",
    "    ) \n",
    "\n",
    "    images = load(\"../../data/experiment/dataset_2/m2/images-satur.jld2\")\n",
    "    event_number = 2\n",
    "\n",
    "    global event = (\n",
    "        cam_1 = images[\"cam_1\"][event_number,:,:],\n",
    "        cam_2 = images[\"cam_2\"][event_number,:,:],\n",
    "        cam_3 = images[\"cam_3\"][event_number,:,:],\n",
    "        cam_4 = images[\"cam_4\"][event_number,:,:],\n",
    "        population = images[\"charge\"][event_number,:][1],\n",
    "    );\n",
    "    \n",
    "    images = load(\"../../data/experiment/dataset_2/m2/images.jld2\")\n",
    "\n",
    "    global event_nt = (\n",
    "        cam_1 = images[\"cam_1\"][event_number,:,:],\n",
    "        cam_2 = images[\"cam_2\"][event_number,:,:],\n",
    "        cam_3 = images[\"cam_3\"][event_number,:,:],\n",
    "        cam_4 = images[\"cam_4\"][event_number,:,:],\n",
    "        population = images[\"charge\"][event_number,:][1],\n",
    "    );\n",
    "end"
   ]
  },
  {
   "cell_type": "code",
   "execution_count": null,
   "metadata": {},
   "outputs": [],
   "source": [
    "fig, ax = plt.subplots(2,2, figsize=(7,7))\n",
    "fig.subplots_adjust(hspace=0.2, wspace=0.2)\n",
    "\n",
    "ax[1,1].pcolormesh(event.cam_1, cmap=\"RdYlBu_r\")\n",
    "ax[1,2].pcolormesh(event.cam_2, cmap=\"RdYlBu_r\")\n",
    "ax[2,1].pcolormesh(event.cam_3, cmap=\"RdYlBu_r\")\n",
    "ax[2,2].pcolormesh(event.cam_4, cmap=\"RdYlBu_r\")"
   ]
  },
  {
   "cell_type": "code",
   "execution_count": null,
   "metadata": {},
   "outputs": [],
   "source": [
    "colors_array = [\"C0\", \"C1\"]\n",
    "labels_array = [\"Mode\", \"Mean\"]\n",
    "params_array = [mode(samples_4)[1], mean(samples_2)[1]]\n",
    "\n",
    "plot_cam_crossections(params_array, event, conv_matrices, colors = colors_array, labels=labels_array)"
   ]
  },
  {
   "cell_type": "code",
   "execution_count": null,
   "metadata": {},
   "outputs": [],
   "source": [
    "# include(\"../model-35-rot/likelihood.jl\")\n",
    "# include(\"../model-35-rot/utill_model.jl\")\n",
    "# include(\"../utill.jl\")\n",
    "\n",
    "include(\"../model-35/likelihood.jl\")\n",
    "include(\"../model-35/utill_model.jl\")\n",
    "include(\"../utill.jl\")"
   ]
  },
  {
   "cell_type": "code",
   "execution_count": null,
   "metadata": {},
   "outputs": [],
   "source": [
    "colors_array = [\"C0\", \"C1\"]\n",
    "labels_array = [\"samples_1\", \"samples_2\"]\n",
    "params_array = [mode(samples_1)[1], mode(samples_2)[1]]\n",
    "\n",
    "plot_cam_integral(params_array, event, conv_matrices, colors = colors_array, labels=labels_array)"
   ]
  },
  {
   "cell_type": "code",
   "execution_count": null,
   "metadata": {},
   "outputs": [],
   "source": [
    "params_array = [mode(samples_2)[1],]\n",
    "colors_array = [\"gray\",]\n",
    "labels_array = [\"Truth\", ]\n",
    "\n",
    "plot_envelop_trajectory(params_array,  labels = labels_array, colors=colors_array)"
   ]
  },
  {
   "cell_type": "code",
   "execution_count": null,
   "metadata": {},
   "outputs": [],
   "source": [
    "plot_projections(conv_matrices, event_nt, event_nt, params_array[1], isnontr = true)"
   ]
  },
  {
   "cell_type": "code",
   "execution_count": null,
   "metadata": {},
   "outputs": [],
   "source": []
  },
  {
   "cell_type": "code",
   "execution_count": null,
   "metadata": {},
   "outputs": [],
   "source": []
  },
  {
   "cell_type": "code",
   "execution_count": null,
   "metadata": {},
   "outputs": [],
   "source": []
  },
  {
   "cell_type": "code",
   "execution_count": null,
   "metadata": {},
   "outputs": [],
   "source": []
  },
  {
   "cell_type": "code",
   "execution_count": null,
   "metadata": {},
   "outputs": [],
   "source": []
  }
 ],
 "metadata": {
  "kernelspec": {
   "display_name": "Julia 1.5.3",
   "language": "julia",
   "name": "julia-1.5"
  },
  "language_info": {
   "file_extension": ".jl",
   "mimetype": "application/julia",
   "name": "julia",
   "version": "1.5.3"
  }
 },
 "nbformat": 4,
 "nbformat_minor": 4
}
