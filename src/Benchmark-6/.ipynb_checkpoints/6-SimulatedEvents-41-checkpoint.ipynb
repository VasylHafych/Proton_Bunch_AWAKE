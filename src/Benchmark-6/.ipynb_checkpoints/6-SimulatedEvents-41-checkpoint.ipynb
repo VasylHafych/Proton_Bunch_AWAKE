{
 "cells": [
  {
   "cell_type": "code",
   "execution_count": null,
   "metadata": {},
   "outputs": [],
   "source": [
    "using JLD2\n",
    "using FileIO\n",
    "using PyPlot\n",
    "using Statistics\n",
    "using StatsBase \n",
    "using Distributions\n",
    "using LinearAlgebra\n",
    "using DSP\n",
    "using HDF5"
   ]
  },
  {
   "cell_type": "code",
   "execution_count": null,
   "metadata": {},
   "outputs": [],
   "source": [
    "using IntervalSets\n",
    "using Random, ArraysOfArrays\n",
    "using ValueShapes\n",
    "using Measurements\n",
    "using BAT"
   ]
  },
  {
   "cell_type": "code",
   "execution_count": null,
   "metadata": {},
   "outputs": [],
   "source": [
    "include(\"../model-41/likelihood.jl\")\n",
    "include(\"../model-41/utill_model.jl\")\n",
    "include(\"../utill.jl\")"
   ]
  },
  {
   "cell_type": "code",
   "execution_count": null,
   "metadata": {},
   "outputs": [],
   "source": [
    "conv_mat = load(\"../../data/experiment/dataset_2/m2/conv-matrix-upd-2.jld2\")\n",
    "\n",
    "conv_matrices = (\n",
    "    cam_1 = conv_mat[\"cam_1\"],\n",
    "    cam_2 = conv_mat[\"cam_2\"],\n",
    "    cam_3 = conv_mat[\"cam_3\"],\n",
    "    cam_4 = conv_mat[\"cam_4\"],\n",
    ");\n"
   ]
  },
  {
   "cell_type": "code",
   "execution_count": null,
   "metadata": {},
   "outputs": [],
   "source": [
    "param_truth = (\n",
    "    tr_size = [0.145, 0.145], \n",
    "    tr_size_2 = [0.10, 0.10], \n",
    "    ang_spr = [6, 6], \n",
    "    ang_spr_2 = [3, 3], \n",
    "    mixt_pow = 0.7, \n",
    "    waist = [3.15], \n",
    "    waist_2 = [2.9], \n",
    "    algmx = [36.0, 37.0, 19.0, 33.0], \n",
    "    algmy = [33.0, 34.0, 21.0, 35.0], \n",
    "    cam4_ped = 26.0, \n",
    "    cam4_light_fluct = 1.50, \n",
    "    cam4_light_amp = 8.90, \n",
    "    resx = [1, 1, 1], \n",
    "    resy = [1, 1, 1], \n",
    "    cam4_resx = 3.0, \n",
    "    cam4_resy = 3.0, \n",
    "    psx = [27.1, 21.6, 114.0], \n",
    "    psy = [30.5, 23.4, 125.0], \n",
    "    cam4_psx = 121.8, \n",
    "    cam4_psy = 120.0, \n",
    "    light_amp = [8.5, 11.1, 2.5], \n",
    "    s_cam = [0.0, 1.478, 15.026, 23.115]\n",
    ");"
   ]
  },
  {
   "cell_type": "code",
   "execution_count": null,
   "metadata": {},
   "outputs": [],
   "source": [
    "event = generate_event(param_truth, 27.0, conv_matrices)"
   ]
  },
  {
   "cell_type": "code",
   "execution_count": null,
   "metadata": {},
   "outputs": [],
   "source": [
    "fig, ax = plt.subplots(2,2, figsize=(7,7))\n",
    "fig.subplots_adjust(hspace=0.2, wspace=0.2)\n",
    "\n",
    "ax[1,1].pcolormesh(event.cam_1, cmap=\"RdYlBu_r\")\n",
    "ax[1,2].pcolormesh(event.cam_2, cmap=\"RdYlBu_r\")\n",
    "ax[2,1].pcolormesh(event.cam_3, cmap=\"RdYlBu_r\")\n",
    "ax[2,2].pcolormesh(event.cam_4, cmap=\"RdYlBu_r\")"
   ]
  },
  {
   "cell_type": "code",
   "execution_count": null,
   "metadata": {},
   "outputs": [],
   "source": [
    "# @save \"../../data/sampling_results/Benchmark-6/event-41.jld\" event"
   ]
  },
  {
   "cell_type": "code",
   "execution_count": null,
   "metadata": {},
   "outputs": [],
   "source": [
    "β1= 0.015\n",
    "β2 = 0.0077\n",
    "β3 = 0.0058 \n",
    "\n",
    "# prior = NamedTupleDist(\n",
    "#         tr_size = [truncated(Normal(0.145, 0.04), 0.06, 0.19), truncated(Normal(0.145, 0.04), 0.06, 0.19)],\n",
    "#         tr_size_2 = [truncated(Normal(0.145, 0.04), 0.06, 0.19), truncated(Normal(0.145, 0.04), 0.06, 0.19)],\n",
    "#         ang_spr = [truncated(Normal(6, 2.0), 4.0, 7.0), truncated(Normal(6.0, 2.0), 4.0, 7.0)],\n",
    "#         ang_spr_2 = [truncated(Normal(3.0, 2.0), 1.0, 4.0), truncated(Normal(3.0, 2.0), 1.0, 4.0)],\n",
    "#         mixt_pow =  0.50 .. 1.0 ,\n",
    "#         waist = [truncated(Normal(3.15, 0.03), 2.65, 3.5)],\n",
    "#         waist_2 = [truncated(Normal(2.9, 0.03), 2.65, 3.5)], # 11\n",
    "#         algmx = [23.0 .. 48, 23.0 .. 48.0, 10.0 .. 30.0, 23.0 .. 48.0],\n",
    "#         algmy = [23.0 .. 48, 23.0 .. 48.0, 10.0 .. 30.0, 23.0 .. 48.0],\n",
    "#         cam4_ped = 4.0 .. 40.0,\n",
    "#         cam4_light_fluct = 1.0 .. 3.0,\n",
    "#         cam4_light_amp = 1.6 .. 9.9, \n",
    "#         resx = [1, 1, 1], # 23, 24, 25, \n",
    "#         resy = [1, 1, 1], # 26,27, 28, \n",
    "#         cam4_resx = truncated(Normal(3, 1.5), 0, Inf),\n",
    "#         cam4_resy = truncated(Normal(3, 1.5), 0, Inf), \n",
    "#         psx = [27.1, 21.6, 114.0], # 31, 32, 33\n",
    "#         psy = [30.5, 23.4, 125.0], # 34, 35, 36\n",
    "#         cam4_psx = 121.8, # 37\n",
    "#         cam4_psy = 120.0, # 38\n",
    "#         light_amp  = [1.0 .. 13.0 , 1.0 .. 17.0, 1.0 .. 5.0], # 1.0 .. 5.0\n",
    "#         s_cam = [0.0, 1.478, 15.026, 23.1150],\n",
    "#     );\n",
    "\n",
    "prior = NamedTupleDist(\n",
    "        tr_size = [0.05 .. 0.2, 0.05 .. 0.2],\n",
    "        tr_size_2 = [0.05 .. 0.2, 0.05 .. 0.2],\n",
    "        ang_spr = [5 .. 7, 5 .. 7],\n",
    "        ang_spr_2 = [1 .. 4, 1 .. 4],\n",
    "        mixt_pow =  0.50 .. 1.0 ,\n",
    "        waist = [3.0 .. 3.3],\n",
    "        waist_2 = [2.8 .. 3.0], # 11\n",
    "        algmx = [36.0, 37.0, 19.0, 33.0], \n",
    "        algmy = [33.0, 34.0, 21.0, 35.0], \n",
    "        cam4_ped = 26.0, \n",
    "        cam4_light_fluct = 1.50, \n",
    "        cam4_light_amp = 8.90, \n",
    "        resx = [1, 1, 1], \n",
    "        resy = [1, 1, 1], \n",
    "        cam4_resx = 3.0, \n",
    "        cam4_resy = 3.0, \n",
    "        psx = [27.1, 21.6, 114.0], \n",
    "        psy = [30.5, 23.4, 125.0], \n",
    "        cam4_psx = 121.8, \n",
    "        cam4_psy = 120.0, \n",
    "        light_amp = [8.5, 11.1, 2.5], \n",
    "        s_cam = [0.0, 1.478, 15.026, 23.115]\n",
    "    );"
   ]
  },
  {
   "cell_type": "code",
   "execution_count": null,
   "metadata": {},
   "outputs": [],
   "source": [
    "\"\"\"\n",
    "    Log-Likelihood of the beamline (4 cameras included)\n",
    "\"\"\"\n",
    "function log_lik_ndiff(;  \n",
    "    e = event,\n",
    "    cv_mat = conv_matrices,\n",
    "    func = conv_tabl_discrete,\n",
    "    cv_1 = cv_mat.cam_1,\n",
    "    cv_2 = cv_mat.cam_2,\n",
    "    cv_3 = cv_mat.cam_3,\n",
    "    n_threads = Threads.nthreads(),\n",
    "    )\n",
    "    \n",
    "    return params -> begin \n",
    "        ll = 0.0\n",
    "        ll += likelihood_cam13(params, e.cam_1, e.population, cv_1, func, 1, n_threads=n_threads)\n",
    "        ll += likelihood_cam13(params, e.cam_2, e.population, cv_2, func, 2, n_threads=n_threads)\n",
    "        ll += likelihood_cam13(params, e.cam_3, e.population, cv_3, func, 3, n_threads=n_threads)\n",
    "        ll += likelihood_cam4(params, e.cam_4, e.population, 4, n_threads=n_threads)\n",
    "        return LogDVal(ll)\n",
    "    end\n",
    "        \n",
    "end\n",
    "\n",
    "log_likelihood = log_lik_ndiff()"
   ]
  },
  {
   "cell_type": "code",
   "execution_count": null,
   "metadata": {},
   "outputs": [],
   "source": [
    "posterior = PosteriorDensity(log_likelihood, prior)\n",
    "\n",
    "tuning = AdaptiveMHTuning(\n",
    "    λ = 0.5,\n",
    "    α = ClosedInterval(0.15,0.25),\n",
    "    β = 1.5,\n",
    "    c = ClosedInterval(1e-4,1e2),\n",
    "    r = 0.5,\n",
    ")\n",
    "\n",
    "convergence = BrooksGelmanConvergence(\n",
    "    threshold = 1.1,\n",
    "    corrected = false\n",
    ")\n",
    "\n",
    "init = MCMCChainPoolInit(\n",
    "    init_tries_per_chain = ClosedInterval(50,150),\n",
    "    max_nsamples_init = 500,\n",
    "    max_nsteps_init = 500,\n",
    "    max_time_init = Inf\n",
    ")\n",
    "\n",
    "burnin = MCMCMultiCycleBurnin(\n",
    "    max_nsamples_per_cycle = 10000,\n",
    "    max_nsteps_per_cycle = 10000,\n",
    "    max_time_per_cycle = Inf,\n",
    "    max_ncycles = 130\n",
    ")\n",
    "\n",
    "nsamples = 4*10^5\n",
    "nchains = 4\n",
    "\n",
    "sampler = MetropolisHastings(tuning=tuning,)\n",
    "\n",
    "algorithm = MCMCSampling(sampler=sampler, \n",
    "    nchains=nchains, \n",
    "    init=init, \n",
    "    burnin=burnin, \n",
    "    convergence=convergence\n",
    ");"
   ]
  },
  {
   "cell_type": "code",
   "execution_count": null,
   "metadata": {},
   "outputs": [],
   "source": [
    "@time samples_tot = bat_sample(\n",
    "    posterior, nchains*nsamples, algorithm,\n",
    "    max_neval = nchains*nsamples,\n",
    "    max_time = Inf,\n",
    ");"
   ]
  },
  {
   "cell_type": "code",
   "execution_count": null,
   "metadata": {},
   "outputs": [],
   "source": [
    "samples = samples_tot.result;"
   ]
  },
  {
   "cell_type": "code",
   "execution_count": null,
   "metadata": {},
   "outputs": [],
   "source": [
    "minimum(bat_eff_sample_size(unshaped.(samples)).result)"
   ]
  },
  {
   "cell_type": "code",
   "execution_count": null,
   "metadata": {},
   "outputs": [],
   "source": [
    "size(flatview(unshaped.(samples.v)))"
   ]
  },
  {
   "cell_type": "code",
   "execution_count": null,
   "metadata": {},
   "outputs": [],
   "source": [
    "plot(flatview(unshaped.(samples.v))[3,:])"
   ]
  },
  {
   "cell_type": "code",
   "execution_count": null,
   "metadata": {},
   "outputs": [],
   "source": [
    "plt.imshow(log.(abs.(cov(flatview(unshaped.(samples.v))'))), cmap=\"Blues\")"
   ]
  },
  {
   "cell_type": "code",
   "execution_count": null,
   "metadata": {},
   "outputs": [],
   "source": [
    "# BAT.bat_write(\"../../data/sampling_results/Benchmark-6/samples-41.hdf5\", unshaped.(samples))"
   ]
  },
  {
   "cell_type": "code",
   "execution_count": null,
   "metadata": {},
   "outputs": [],
   "source": [
    "flat_truth = vcat([i for i in param_truth]...)\n",
    "flat_mode = vcat([i for i in mode(samples)[1]]...) ./flat_truth\n",
    "flat_std = vcat([i for i in std(samples)[1]]...)./flat_truth;"
   ]
  },
  {
   "cell_type": "code",
   "execution_count": null,
   "metadata": {},
   "outputs": [],
   "source": [
    "plt.errorbar(1:length(flat_mode), flat_mode, yerr=flat_std )"
   ]
  },
  {
   "cell_type": "code",
   "execution_count": null,
   "metadata": {},
   "outputs": [],
   "source": [
    "bat_marginalmode(samples).result"
   ]
  },
  {
   "cell_type": "code",
   "execution_count": null,
   "metadata": {},
   "outputs": [],
   "source": [
    "mean(samples)[1]"
   ]
  },
  {
   "cell_type": "code",
   "execution_count": null,
   "metadata": {},
   "outputs": [],
   "source": [
    "std(samples)[1]"
   ]
  },
  {
   "cell_type": "code",
   "execution_count": null,
   "metadata": {},
   "outputs": [],
   "source": []
  },
  {
   "cell_type": "code",
   "execution_count": null,
   "metadata": {},
   "outputs": [],
   "source": [
    "dims = [1,2,3,4,5,6,7,8,9,10,11]\n",
    "# dims = [1,2,3,4,5,]\n",
    "names = [1,2,3,4,5,6,7,8,9,10, 11]\n",
    "# levels = [0.01, 0.55, 0.9, 0.95,  1,]\n",
    "levels = [0.001, 0.90, 1,]\n",
    "figsize = (10,10)\n",
    "n_bins = 20\n",
    "\n",
    "corner_plots(samples, dims, names, levels_quantiles = levels, figsize=figsize, N_bins=n_bins)"
   ]
  },
  {
   "cell_type": "code",
   "execution_count": null,
   "metadata": {},
   "outputs": [],
   "source": [
    "dims = [10,11,]\n",
    "names = [10,11,]\n",
    "levels = [0.1, 0.8, 0.9, 0.95,  1,]\n",
    "figsize = (6,6)\n",
    "n_bins = 20\n",
    "\n",
    "corner_plots(samples, dims, names, levels_quantiles = levels, figsize=figsize, N_bins=n_bins)"
   ]
  },
  {
   "cell_type": "code",
   "execution_count": null,
   "metadata": {},
   "outputs": [],
   "source": []
  },
  {
   "cell_type": "code",
   "execution_count": null,
   "metadata": {},
   "outputs": [],
   "source": [
    "data = [sort(randn(500)) for i in 1:5];\n",
    "quant = [(0.1, 0.9) for i in 1:5]"
   ]
  },
  {
   "cell_type": "code",
   "execution_count": null,
   "metadata": {},
   "outputs": [],
   "source": [
    "fig, ax = plt.subplots(1,1, figsize=(7,7))\n",
    "\n",
    "parts = ax.violinplot(data, widths = 0.9, vert=true, showmeans=true, showextrema=true, quantiles=quant)\n",
    "\n",
    "for pc in parts[\"bodies\"]\n",
    "    pc.set_facecolor(\"gray\")\n",
    "    pc.set_edgecolor(\"black\")\n",
    "    pc.set_alpha(0.5)\n",
    "    pc.set_linewidth(2)\n",
    "end"
   ]
  },
  {
   "cell_type": "code",
   "execution_count": null,
   "metadata": {},
   "outputs": [],
   "source": [
    "? plt.violinplot"
   ]
  },
  {
   "cell_type": "code",
   "execution_count": null,
   "metadata": {},
   "outputs": [],
   "source": [
    "? plt.collections.PolyCollection"
   ]
  },
  {
   "cell_type": "code",
   "execution_count": null,
   "metadata": {},
   "outputs": [],
   "source": []
  }
 ],
 "metadata": {
  "kernelspec": {
   "display_name": "Julia 1.5.2",
   "language": "julia",
   "name": "julia-1.5"
  },
  "language_info": {
   "file_extension": ".jl",
   "mimetype": "application/julia",
   "name": "julia",
   "version": "1.5.2"
  }
 },
 "nbformat": 4,
 "nbformat_minor": 4
}
