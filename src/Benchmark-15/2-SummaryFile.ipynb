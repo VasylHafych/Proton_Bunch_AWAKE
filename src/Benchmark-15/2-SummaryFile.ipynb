{
 "cells": [
  {
   "cell_type": "code",
   "execution_count": 1,
   "metadata": {},
   "outputs": [],
   "source": [
    "using JLD2\n",
    "using FileIO\n",
    "using PyPlot\n",
    "using Statistics\n",
    "using StatsBase \n",
    "using Distributions\n",
    "using LinearAlgebra\n",
    "using HDF5\n",
    "using IntervalSets\n",
    "using Random, ArraysOfArrays\n",
    "using ValueShapes\n",
    "using Measurements\n",
    "using BAT\n",
    "using DSP\n",
    "using ForwardDiff"
   ]
  },
  {
   "cell_type": "code",
   "execution_count": 2,
   "metadata": {},
   "outputs": [
    {
     "data": {
      "text/plain": [
       "get_emmitance_core (generic function with 1 method)"
      ]
     },
     "execution_count": 2,
     "metadata": {},
     "output_type": "execute_result"
    }
   ],
   "source": [
    "FPATH = \"../../data/sampling_results/Benchmark-15/\"\n",
    "\n",
    "function marg_mean_shaped(name)\n",
    "    smpl_tmp = bat_read(FPATH*name).result\n",
    "    smpl_tmp = varshape(prior).(smpl_tmp)\n",
    "    smpl_tmp = mean(smpl_tmp)\n",
    "    return smpl_tmp\n",
    "end\n",
    "\n",
    "function marg_std_shaped(name)\n",
    "    smpl_tmp = bat_read(FPATH*name).result\n",
    "    smpl_tmp = varshape(prior).(smpl_tmp)\n",
    "    smpl_tmp = std(smpl_tmp)\n",
    "    return smpl_tmp\n",
    "end\n",
    "\n",
    "function get_emmitance_halo(name, proj)\n",
    "    # proj  1 / 2 \n",
    "    smpl_tmp = bat_read(FPATH*name).result\n",
    "    smpl_tmp = varshape(prior).(smpl_tmp)\n",
    "    smpl_tmp, smpl_w = flatview(unshaped.(smpl_tmp.v)), smpl_tmp.weight\n",
    "    emm = smpl_tmp[proj,:].*smpl_tmp[2+proj,:].*10^-5 .* 1000 .* 426.0\n",
    "    μ = mean(emm, FrequencyWeights(smpl_w))\n",
    "    σ = std(emm, FrequencyWeights(smpl_w)) \n",
    "    return (mean = μ, std = σ)\n",
    "end\n",
    "\n",
    "function get_emmitance_core(name, proj)\n",
    "    # proj  1 / 2 \n",
    "    smpl_tmp = bat_read(FPATH*name).result\n",
    "    smpl_tmp = varshape(prior).(smpl_tmp)\n",
    "    smpl_tmp, smpl_w = flatview(unshaped.(smpl_tmp.v)), smpl_tmp.weight\n",
    "    emm = smpl_tmp[1+proj,:].*smpl_tmp[3+proj,:].*10^-5 .* 1000 .* 426.0\n",
    "    μ = mean(emm, FrequencyWeights(smpl_w))\n",
    "    σ = std(emm, FrequencyWeights(smpl_w)) \n",
    "    return (mean = μ, std = σ)\n",
    "end"
   ]
  },
  {
   "cell_type": "code",
   "execution_count": 3,
   "metadata": {},
   "outputs": [],
   "source": [
    "β1 = 0.015\n",
    "β2 = 0.0077\n",
    "β3 = 0.0058\n",
    "\n",
    "# flat prior for the pixel size\n",
    "prior = NamedTupleDist(\n",
    "        tr_size = [truncated(Normal(0.2, 0.04), 0.03, 0.19), ],\n",
    "        tr_size_2 = [truncated(Normal(0.2, 0.04), 0.03, 0.19), ],\n",
    "        ang_spr = [truncated(Normal(4.0, 2.0), 1.0, 8.0), ],\n",
    "        ang_spr_2 = [truncated(Normal(4.0, 2.0), 1.0, 4.0), ],\n",
    "        mixt_pow =  0.35 .. 1.0, \n",
    "        waist = [truncated(Normal(2.774, 0.03), 2.5, 3.6)],\n",
    "        waist_2 = [truncated(Normal(2.774, 0.03), 2.5, 3.6)],\n",
    "        algmx = [23.0 .. 48, 23.0 .. 48.0, 10.0 .. 30.0, 23.0 .. 48.0],\n",
    "        algmy = [23.0 .. 48, 23.0 .. 48.0, 10.0 .. 30.0, 23.0 .. 48.0],\n",
    "        cam4_ped = 4.0 .. 40.0,\n",
    "        cam4_light_fluct = 1.0 .. 3.0,\n",
    "        cam4_light_amp = 1.6 .. 9.9, \n",
    "        resx = [1, 1, 1], # 23, 24, 25, \n",
    "        resy = [1, 1, 1], # 26,27, 28, \n",
    "        cam4_resx = truncated(Normal(3, 1.5), 0, Inf),\n",
    "        cam4_resy = truncated(Normal(3, 1.5), 0, Inf), \n",
    "        psx = [27.1, 21.6, 114.0], # 31, 32, 33\n",
    "        psy = [30.5, 23.4, 125.0], # 34, 35, 36\n",
    "        cam4_psx = 121.8, # 37\n",
    "        cam4_psy = 120.0, # 38\n",
    "        light_amp  = [1.0 .. 13.0 , 1.0 .. 17.0, 1.0 .. 5.0], # 1.0 .. 5.0\n",
    "        s_cam = [0.0, 1.47799, 15.025999, 23.1644],\n",
    ");\n",
    "\n",
    "\n",
    "labels = [L\"\\sigma_x\", L\"\\sigma_y\", L\"\\sigma_x\", L\"\\sigma_y\", L\"\\sigma'_x\", L\"\\sigma'_y\", L\"\\sigma'_x\", L\"\\sigma'_y\", L\"\\alpha\", L\"s\", L\"s\", \n",
    "    L\"\\mu_x\", L\"\\mu_x\", L\"\\mu_x\", L\"\\mu_x\", L\"\\mu_y\", L\"\\mu_y\", L\"\\mu_y\", L\"\\mu_y\", \n",
    "    \"ped\", \"lf\", \"a\", \"res x\", \"res y\", \"la\", \"la\", \"la\"];"
   ]
  },
  {
   "cell_type": "code",
   "execution_count": 4,
   "metadata": {},
   "outputs": [],
   "source": [
    "smpl_tmp = bat_read(FPATH*\"hc-167.hdf5\").result\n",
    "smpl_tmp = varshape(prior).(smpl_tmp);"
   ]
  },
  {
   "cell_type": "code",
   "execution_count": 5,
   "metadata": {},
   "outputs": [],
   "source": [
    "filenames = readdir(\"../../data/sampling_results/Benchmark-15/\")\n",
    "images = load(\"../../data/experiment/dataset_2/m2/images-satur.jld2\")\n",
    "hc_mask = [i[1:3] == \"hc-\" for i in filenames]\n",
    "hc_fnames = filenames[hc_mask]\n",
    "hc_eind = parse.(Int64, [i[4:end-5] for i in hc_fnames])\n",
    "hc_charge = images[\"charge\"][hc_eind]\n",
    "hc_runind = images[\"ev_ind\"][hc_eind];"
   ]
  },
  {
   "cell_type": "code",
   "execution_count": 6,
   "metadata": {},
   "outputs": [],
   "source": [
    "filenames = readdir(\"../../data/sampling_results/Benchmark-15/\")\n",
    "images = load(\"../../data/experiment/dataset_2/m1/images-satur.jld2\")\n",
    "lc_mask = [i[1:3] == \"lc-\" for i in filenames]\n",
    "lc_fnames = filenames[lc_mask]\n",
    "lc_eind = parse.(Int64, [i[4:end-5] for i in lc_fnames])\n",
    "lc_charge = images[\"charge\"][lc_eind]\n",
    "lc_runind = images[\"ev_ind\"][lc_eind];"
   ]
  },
  {
   "cell_type": "code",
   "execution_count": 7,
   "metadata": {},
   "outputs": [],
   "source": [
    "fnames = [lc_fnames; hc_fnames]\n",
    "charges = Float64[lc_charge; hc_charge]\n",
    "runind = Int64[lc_runind ; hc_runind]\n",
    "charges_n = charges ./ maximum(charges)\n",
    "runind_n = runind ./ maximum(runind);"
   ]
  },
  {
   "cell_type": "code",
   "execution_count": 8,
   "metadata": {},
   "outputs": [
    {
     "data": {
      "text/plain": [
       "48"
      ]
     },
     "execution_count": 8,
     "metadata": {},
     "output_type": "execute_result"
    }
   ],
   "source": [
    "length(fnames)"
   ]
  },
  {
   "cell_type": "code",
   "execution_count": 9,
   "metadata": {},
   "outputs": [],
   "source": [
    "mean_params =  [marg_mean_shaped(i) for i in fnames];\n",
    "std_params =  [marg_std_shaped(i) for i in fnames];"
   ]
  },
  {
   "cell_type": "code",
   "execution_count": null,
   "metadata": {},
   "outputs": [],
   "source": []
  },
  {
   "cell_type": "code",
   "execution_count": 10,
   "metadata": {},
   "outputs": [],
   "source": [
    "tr_size = [i.tr_size[1] for i in mean_params]\n",
    "ang_spread = [i.ang_spr[1] for i in mean_params]\n",
    "waist = [i.waist[1] for i in mean_params]\n",
    "cam4_resx = [i.cam4_resx[1] for i in mean_params]\n",
    "cam4_resy = [i.cam4_resy[1] for i in mean_params];"
   ]
  },
  {
   "cell_type": "code",
   "execution_count": 17,
   "metadata": {},
   "outputs": [
    {
     "data": {
      "text/plain": [
       "48-element Vector{Float64}:\n",
       " 0.7370789496713758\n",
       " 0.7573350183328764\n",
       " 0.6367273508178242\n",
       " 0.7199425578218237\n",
       " 0.7389841605729941\n",
       " 0.7025967180439074\n",
       " 0.626897347203698\n",
       " 0.7359667321374825\n",
       " 0.6739390795197897\n",
       " 0.649109419947717\n",
       " 0.7204851430543588\n",
       " 0.7142436125557154\n",
       " 0.7206172744324795\n",
       " ⋮\n",
       " 0.6965041945989134\n",
       " 0.6344507484783048\n",
       " 0.6785662634899454\n",
       " 0.5937742691790472\n",
       " 0.6268274042173905\n",
       " 0.7360915980432693\n",
       " 0.728161061025752\n",
       " 0.5865942571991454\n",
       " 0.6263991298890927\n",
       " 0.6882500770860709\n",
       " 0.656096374583077\n",
       " 0.7326269131074749"
      ]
     },
     "execution_count": 17,
     "metadata": {},
     "output_type": "execute_result"
    }
   ],
   "source": [
    "tr_size_2 = [i.tr_size_2[1] for i in mean_params]\n",
    "ang_spread_2 = [i.ang_spr_2[1] for i in mean_params]\n",
    "waist_2 = [i.waist_2[1] for i in mean_params]\n",
    "mixt_pow = [i.mixt_pow[1] for i in mean_params]"
   ]
  },
  {
   "cell_type": "code",
   "execution_count": 12,
   "metadata": {},
   "outputs": [
    {
     "name": "stdout",
     "output_type": "stream",
     "text": [
      "(mean(tr_size), mean(ang_spread), mean(waist), mean(cam4_resx), mean(tr_size_2), mean(ang_spread_2), mean(waist_2)) = (0.08853616252446339, 5.8680827745070365, 3.2617433014619084, 4.979667623211525, 0.12934944668351597, 2.380523895895156, 2.7509477898197403)\n"
     ]
    },
    {
     "data": {
      "text/plain": [
       "(0.08853616252446339, 5.8680827745070365, 3.2617433014619084, 4.979667623211525, 0.12934944668351597, 2.380523895895156, 2.7509477898197403)"
      ]
     },
     "execution_count": 12,
     "metadata": {},
     "output_type": "execute_result"
    }
   ],
   "source": [
    "@show mean(tr_size),  mean(ang_spread),  mean(waist),  mean(cam4_resx), mean(tr_size_2),  mean(ang_spread_2),  mean(waist_2)"
   ]
  },
  {
   "cell_type": "code",
   "execution_count": 18,
   "metadata": {},
   "outputs": [
    {
     "data": {
      "text/plain": [
       "0.6887016851438134"
      ]
     },
     "execution_count": 18,
     "metadata": {},
     "output_type": "execute_result"
    }
   ],
   "source": [
    "mean(mixt_pow)"
   ]
  },
  {
   "cell_type": "code",
   "execution_count": 13,
   "metadata": {},
   "outputs": [
    {
     "data": {
      "text/plain": [
       "25.885435541470844"
      ]
     },
     "execution_count": 13,
     "metadata": {},
     "output_type": "execute_result"
    }
   ],
   "source": [
    "mean(charges)"
   ]
  },
  {
   "cell_type": "code",
   "execution_count": 14,
   "metadata": {},
   "outputs": [
    {
     "data": {
      "text/plain": [
       "2.206705116798681"
      ]
     },
     "execution_count": 14,
     "metadata": {},
     "output_type": "execute_result"
    }
   ],
   "source": [
    "emm_tmp_1 = [get_emmitance_halo(i, 1).mean for i in fnames]\n",
    "\n",
    "mean(emm_tmp_1)"
   ]
  },
  {
   "cell_type": "code",
   "execution_count": 15,
   "metadata": {},
   "outputs": [
    {
     "data": {
      "text/plain": [
       "1.3120224214298208"
      ]
     },
     "execution_count": 15,
     "metadata": {},
     "output_type": "execute_result"
    }
   ],
   "source": [
    "emm_tmp_2 = [get_emmitance_core(i, 1).mean for i in fnames]\n",
    "\n",
    "mean(emm_tmp_2)"
   ]
  },
  {
   "cell_type": "code",
   "execution_count": 16,
   "metadata": {},
   "outputs": [
    {
     "data": {
      "image/png": "[encoded data removed]",
      "text/plain": [
       "Figure(PyObject <Figure size 1500x500 with 4 Axes>)"
      ]
     },
     "metadata": {},
     "output_type": "display_data"
    },
    {
     "data": {
      "text/plain": [
       "PyObject <matplotlib.collections.PathCollection object at 0x7fe94c097310>"
      ]
     },
     "execution_count": 16,
     "metadata": {},
     "output_type": "execute_result"
    }
   ],
   "source": [
    "fig, ax= plt.subplots(1,4, figsize=(15,5))\n",
    "\n",
    "ax[1].scatter(tr_size, tr_size_2)\n",
    "ax[2].scatter(ang_spread, ang_spread_2)\n",
    "ax[3].scatter(waist, waist_2)\n",
    "ax[4].scatter(cam4_resx, cam4_resy)"
   ]
  },
  {
   "cell_type": "code",
   "execution_count": null,
   "metadata": {},
   "outputs": [],
   "source": []
  },
  {
   "cell_type": "code",
   "execution_count": null,
   "metadata": {},
   "outputs": [],
   "source": []
  }
 ],
 "metadata": {
  "kernelspec": {
   "display_name": "Julia 1.6.0-rc1",
   "language": "julia",
   "name": "julia-1.6"
  },
  "language_info": {
   "file_extension": ".jl",
   "mimetype": "application/julia",
   "name": "julia",
   "version": "1.6.0"
  }
 },
 "nbformat": 4,
 "nbformat_minor": 4
}
