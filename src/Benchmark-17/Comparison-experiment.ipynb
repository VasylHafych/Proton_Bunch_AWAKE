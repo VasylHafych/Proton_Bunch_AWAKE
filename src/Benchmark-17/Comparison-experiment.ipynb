{
 "cells": [
  {
   "cell_type": "code",
   "execution_count": 1,
   "metadata": {},
   "outputs": [],
   "source": [
    "using JLD2\n",
    "using FileIO\n",
    "using PyPlot\n",
    "using Statistics\n",
    "using StatsBase \n",
    "using Distributions\n",
    "using LinearAlgebra\n",
    "using DSP\n",
    "using HDF5\n",
    "using Random123"
   ]
  },
  {
   "cell_type": "code",
   "execution_count": 2,
   "metadata": {},
   "outputs": [],
   "source": [
    "using IntervalSets\n",
    "using Random, ArraysOfArrays\n",
    "using ValueShapes\n",
    "using Measurements\n",
    "using BAT"
   ]
  },
  {
   "cell_type": "code",
   "execution_count": 3,
   "metadata": {},
   "outputs": [],
   "source": [
    "# Thesis: \n",
    "\n",
    "SMALL_SIZE = 10\n",
    "MEDIUM_SIZE = 10\n",
    "BIGGER_SIZE = 10\n",
    "\n",
    "# plt.rc(\"font\", family=\"serif\",) #serif=\"Times\"\n",
    "# plt.rc(\"font\", family= \"Times New Roman\")\n",
    "plt.rc(\"font\", family=\"serif\", serif=\"Computer Modern\")\n",
    "plt.rc(\"font\", size=SMALL_SIZE)          # controls default text sizes\n",
    "plt.rc(\"axes\", titlesize=MEDIUM_SIZE)     # fontsize of the axes title\n",
    "plt.rc(\"axes\", labelsize=MEDIUM_SIZE)    # fontsize of the x and y labels\n",
    "plt.rc(\"xtick\", labelsize=SMALL_SIZE)    # fontsize of the tick labels\n",
    "plt.rc(\"ytick\", labelsize=SMALL_SIZE)    # fontsize of the tick labels\n",
    "plt.rc(\"legend\", fontsize=SMALL_SIZE)    # legend fontsize\n",
    "plt.rc(\"figure\", titlesize=BIGGER_SIZE)  # fontsize of the figure title\n",
    "plt.rc(\"text\", usetex=true)"
   ]
  },
  {
   "cell_type": "code",
   "execution_count": 4,
   "metadata": {},
   "outputs": [
    {
     "data": {
      "text/plain": [
       "plot_projections_prl (generic function with 1 method)"
      ]
     },
     "execution_count": 4,
     "metadata": {},
     "output_type": "execute_result"
    }
   ],
   "source": [
    "include(\"../model-41/likelihood.jl\")\n",
    "include(\"../model-41/utill_model.jl\")\n",
    "include(\"../utill.jl\")"
   ]
  },
  {
   "cell_type": "code",
   "execution_count": 5,
   "metadata": {},
   "outputs": [
    {
     "data": {
      "text/plain": [
       "get_quantiles (generic function with 1 method)"
      ]
     },
     "execution_count": 5,
     "metadata": {},
     "output_type": "execute_result"
    }
   ],
   "source": [
    "function get_quantiles(data, qvals)\n",
    "    \n",
    "    qvals = sort(qvals)\n",
    "    ampvals = sort([data...], rev=true)\n",
    "    cumsumvals = cumsum(ampvals)\n",
    "    \n",
    "    levels_array = []\n",
    "    \n",
    "    levels_array = [ampvals[argmin(abs.(cumsumvals .- q))] for q in qvals]\n",
    "    quantiles_labels = [\"$(x*100)\\\\%\" for x in qvals]\n",
    "    \n",
    "    sort_ind = sortperm(levels_array)\n",
    "    \n",
    "    return levels_array[sort_ind], quantiles_labels[sort_ind]\n",
    "end"
   ]
  },
  {
   "cell_type": "code",
   "execution_count": 6,
   "metadata": {},
   "outputs": [],
   "source": [
    "β1= 0.015\n",
    "β2 = 0.0077\n",
    "β3 = 0.0058 \n",
    "\n",
    "prior = NamedTupleDist(\n",
    "        tr_size = [truncated(Normal(0.2, 0.04), 0.03, 0.19), truncated(Normal(0.2, 0.04), 0.03, 0.19)],\n",
    "        tr_size_2 = [truncated(Normal(0.2, 0.04), 0.03, 0.19), truncated(Normal(0.2, 0.04), 0.03, 0.19)],\n",
    "        ang_spr = [truncated(Normal(4.0, 2.0), 1.0, 8.0), truncated(Normal(4.0, 2.0), 1.0, 8.0)],\n",
    "        ang_spr_2 = [truncated(Normal(4.0, 2.0), 1.0, 4.0), truncated(Normal(4.0, 2.0), 1.0, 4.0)],\n",
    "        mixt_pow =  0.35 .. 1.0, \n",
    "        waist = [truncated(Normal(2.774, 0.03), 2.5, 3.6)],\n",
    "        waist_2 = [truncated(Normal(2.774, 0.03), 2.5, 3.6)],\n",
    "        algmx = [23.0 .. 48, 23.0 .. 48.0, 10.0 .. 30.0, 23.0 .. 48.0],\n",
    "        algmy = [23.0 .. 48, 23.0 .. 48.0, 10.0 .. 30.0, 23.0 .. 48.0],\n",
    "        cam4_ped = 4.0 .. 40.0,\n",
    "        cam4_light_fluct = 1.0 .. 3.0,\n",
    "        cam4_light_amp = 1.6 .. 9.9, \n",
    "        resx = [1, 1, 1], # 23, 24, 25, \n",
    "        resy = [1, 1, 1], # 26,27, 28, \n",
    "        cam4_resx = truncated(Normal(3, 1.5), 0, Inf),\n",
    "        cam4_resy = truncated(Normal(3, 1.5), 0, Inf), \n",
    "        psx = [27.1, 21.6, 114.0], # 31, 32, 33\n",
    "        psy = [30.5, 23.4, 125.0], # 34, 35, 36\n",
    "        cam4_psx = 121.8, # 37\n",
    "        cam4_psy = 120.0, # 38\n",
    "        light_amp  = [1.0 .. 13.0 , 1.0 .. 17.0, 1.0 .. 5.0], # 1.0 .. 5.0\n",
    "        s_cam = [0.0, 1.47799, 15.025999, 23.1644],\n",
    ");\n"
   ]
  },
  {
   "cell_type": "code",
   "execution_count": 7,
   "metadata": {},
   "outputs": [],
   "source": [
    "samples_nt = bat_read(\"../../data/sampling_results/Benchmark-17/samples-hc-90-without-bckgr.hdf5\").result\n",
    "samples_nt = varshape(prior).(samples_nt);"
   ]
  },
  {
   "cell_type": "code",
   "execution_count": 8,
   "metadata": {},
   "outputs": [],
   "source": [
    "samples_t = bat_read(\"../../data/sampling_results/Benchmark-17/samples-hc-90-with-bckgr.hdf5\").result\n",
    "samples_t = varshape(prior).(samples_t);"
   ]
  },
  {
   "cell_type": "code",
   "execution_count": 9,
   "metadata": {},
   "outputs": [
    {
     "name": "stderr",
     "output_type": "stream",
     "text": [
      "┌ Info: Initializing new RNG of type Philox4x{UInt64, 10}\n",
      "└ @ BAT /user/.julia/packages/BAT/8MnfJ/src/algotypes/bat_default.jl:44\n"
     ]
    }
   ],
   "source": [
    "samples_nt = bat_sample(samples_nt, OrderedResampling(nsamples=10^4)).result;"
   ]
  },
  {
   "cell_type": "code",
   "execution_count": 10,
   "metadata": {},
   "outputs": [
    {
     "name": "stderr",
     "output_type": "stream",
     "text": [
      "┌ Info: Initializing new RNG of type Philox4x{UInt64, 10}\n",
      "└ @ BAT /user/.julia/packages/BAT/8MnfJ/src/algotypes/bat_default.jl:44\n"
     ]
    }
   ],
   "source": [
    "samples_t = bat_sample(samples_t, OrderedResampling(nsamples=10^4)).result;"
   ]
  },
  {
   "cell_type": "code",
   "execution_count": 11,
   "metadata": {},
   "outputs": [],
   "source": [
    "mean_nt = unshaped(mean(samples_nt));"
   ]
  },
  {
   "cell_type": "code",
   "execution_count": 12,
   "metadata": {},
   "outputs": [],
   "source": [
    "labels = [\n",
    "    L\"\\sigma_{c,x}\", \n",
    "    L\"\\sigma_{c,y}\", \n",
    "    L\"\\sigma_{h,x}\", \n",
    "    L\"\\sigma_{h,y}\", \n",
    "    L\"\\sigma'_{c,x}\", \n",
    "    L\"\\sigma'_{c,y}\", \n",
    "    L\"\\sigma'_{h,x}\", \n",
    "    L\"\\sigma'_{h,y}\", \n",
    "    L\"\\alpha\",\n",
    "    L\"s_{w,c}\",\n",
    "    L\"s_{w,h}\",\n",
    "    L\"\\mu_{1,x}\", \n",
    "    L\"\\mu_{2,x}\",\n",
    "    L\"\\mu_{3,x}\", \n",
    "    L\"\\mu_{4,x}\",\n",
    "    L\"\\mu_{1,y}\", \n",
    "    L\"\\mu_{2,y}\",\n",
    "    L\"\\mu_{3,y}\", \n",
    "    L\"\\mu_{4,y}\",\n",
    "    L\"p_4\", \n",
    "    L\"f_4\", \n",
    "    L\"i_4\", \n",
    "    L\"\\tilde{\\sigma}_{4,x}\", \n",
    "    L\"\\tilde{\\sigma}_{4,y}\",\n",
    "    L\"i_1\", \n",
    "    L\"i_2\", \n",
    "    L\"i_3\"\n",
    "];\n",
    "\n",
    "ind_sorted = [3,4,1,2,7,8,5,6,9,11,10,12,13,14,15,16,17,18,18,20,21,22,23,24,25,26,27,];"
   ]
  },
  {
   "cell_type": "code",
   "execution_count": 13,
   "metadata": {},
   "outputs": [],
   "source": [
    "samples_flat_nt = flatview(unshaped.(samples_nt.v)) ./mean_nt\n",
    "samples_flat_t = flatview(unshaped.(samples_t.v)) ./mean_nt;"
   ]
  },
  {
   "cell_type": "code",
   "execution_count": 14,
   "metadata": {},
   "outputs": [],
   "source": [
    "data_nt = [i for i in eachrow(samples_flat_nt)];\n",
    "quant_nt = [(0.05, 0.95) for i in eachrow(samples_flat_nt)];"
   ]
  },
  {
   "cell_type": "code",
   "execution_count": 15,
   "metadata": {},
   "outputs": [],
   "source": [
    "data_t = [i for i in eachrow(samples_flat_t)];\n",
    "quant_t = [(0.05, 0.95) for i in eachrow(samples_flat_t)];"
   ]
  },
  {
   "cell_type": "code",
   "execution_count": 16,
   "metadata": {},
   "outputs": [
    {
     "data": {
      "image/png": "[encoded data removed]",
      "text/plain": [
       "Figure(PyObject <Figure size 442.922x273.741 with 1 Axes>)"
      ]
     },
     "metadata": {},
     "output_type": "display_data"
    },
    {
     "name": "stderr",
     "output_type": "stream",
     "text": [
      "findfont: Font family ['serif'] not found. Falling back to DejaVu Sans.\n"
     ]
    },
    {
     "data": {
      "text/plain": [
       "(0.9, 1.1)"
      ]
     },
     "execution_count": 16,
     "metadata": {},
     "output_type": "execute_result"
    }
   ],
   "source": [
    "fig, ax = plt.subplots(1,1, figsize=(4.429223744292238, 2.737410817750676))\n",
    "\n",
    "ax.axhline(1.0, linestyle=\"-\", lw=0.8, color=\"red\", alpha=1.0, zorder=0)\n",
    "\n",
    "parts = ax.violinplot(data_nt[ind_sorted], widths = 1.0, vert=true, showmeans=true, showextrema=false, quantiles=quant_nt[ind_sorted])\n",
    "\n",
    "parts = ax.violinplot(data_t[ind_sorted], widths = 1.0, vert=true, showmeans=true, showextrema=false, quantiles=quant_t[ind_sorted],)\n",
    "\n",
    "ax.plot([-10, -20], color=:C0, label=\"w/o truncation (90\\\\%)\")\n",
    "ax.plot([-10, -20], color=:C1, label=\"w/  truncation (90\\\\%)\")\n",
    "\n",
    "ax.set_xlim(0.0, length(data_nt)+1)\n",
    "\n",
    "ax.set_xticks(collect(Base.OneTo(length(data_nt))))\n",
    "ax.set_xticklabels(labels, rotation = 90, ha=\"center\")\n",
    "# ax.legend(loc=\"upper left\")\n",
    "ax.set_ylabel(\"Ratio to Reference\")\n",
    "\n",
    "ax.legend(framealpha=0.0, loc=\"lower right\")\n",
    "# ax.set_title(\"Experimental Event\")\n",
    "ax.set_ylim(0.9, 1.10)\n",
    "\n",
    "# fig.savefig(\"../../plots-prl/toy-violin-truncation-hc.pdf\", bbox_inches = \"tight\")\n",
    "\n",
    "# fig.savefig(\"../../plots/experiment-violin-truncation-hc.pdf\", bbox_inches = \"tight\")"
   ]
  },
  {
   "cell_type": "code",
   "execution_count": null,
   "metadata": {},
   "outputs": [],
   "source": []
  },
  {
   "cell_type": "code",
   "execution_count": null,
   "metadata": {},
   "outputs": [],
   "source": []
  },
  {
   "cell_type": "code",
   "execution_count": null,
   "metadata": {},
   "outputs": [],
   "source": []
  },
  {
   "cell_type": "code",
   "execution_count": 17,
   "metadata": {},
   "outputs": [],
   "source": [
    "samples_nt = bat_read(\"../../data/sampling_results/Benchmark-16/samples-hc-90-nontruncated.hdf5\").result\n",
    "samples_nt = varshape(prior).(samples_nt);"
   ]
  },
  {
   "cell_type": "code",
   "execution_count": 18,
   "metadata": {},
   "outputs": [],
   "source": [
    "samples_t = bat_read(\"../../data/sampling_results/Benchmark-16/samples-hc-90-truncated.hdf5\").result\n",
    "samples_t = varshape(prior).(samples_t);"
   ]
  },
  {
   "cell_type": "code",
   "execution_count": 19,
   "metadata": {},
   "outputs": [],
   "source": [
    "samples_flat_nt = flatview(unshaped.(samples_nt.v)) \n",
    "samples_flat_t = flatview(unshaped.(samples_t.v));"
   ]
  },
  {
   "cell_type": "code",
   "execution_count": 20,
   "metadata": {},
   "outputs": [
    {
     "data": {
      "text/plain": [
       "make_hist (generic function with 1 method)"
      ]
     },
     "execution_count": 20,
     "metadata": {},
     "output_type": "execute_result"
    }
   ],
   "source": [
    "function make_hist(xs, ys, w; nbins=50)\n",
    "    hst = fit(Histogram, (xs,ys), weights(w), nbins=nbins)\n",
    "    hst = normalize(hst, mode=:probability)\n",
    "end"
   ]
  },
  {
   "cell_type": "code",
   "execution_count": 21,
   "metadata": {},
   "outputs": [],
   "source": [
    "hist_nt_1 = make_hist(samples_flat_nt[1,:], samples_flat_nt[2,:], samples_nt.weight);\n",
    "hist_t_1 = make_hist(samples_flat_t[1,:], samples_flat_t[2,:], samples_t.weight);\n",
    "\n",
    "hist_nt_2 = make_hist(samples_flat_nt[3,:], samples_flat_nt[4,:], samples_nt.weight);\n",
    "hist_t_2 = make_hist(samples_flat_t[3,:], samples_flat_t[4,:], samples_t.weight);"
   ]
  },
  {
   "cell_type": "code",
   "execution_count": 22,
   "metadata": {},
   "outputs": [],
   "source": [
    "xmin, xmax = 0.03, 0.19\n",
    "xrange=range(xmin, stop = xmax,length=100)\n",
    "yrange=range(xmin, stop = xmax,length=100)\n",
    "xvals = diff(cdf.(truncated(Normal(0.2, 0.04), 0.03, 0.19), xrange))\n",
    "yvals = diff(cdf.(truncated(Normal(0.2, 0.04), 0.03, 0.19), yrange))\n",
    "z = xvals*yvals';"
   ]
  },
  {
   "cell_type": "code",
   "execution_count": 23,
   "metadata": {},
   "outputs": [],
   "source": [
    "# quantiles_array = [0.0, 0.80, 0.9, 0.95, 0.985, 0.999, 1]\n",
    "quantiles_array = [0.0, 0.9, 0.95, 0.999, 1]\n",
    "\n",
    "levels, level_labels = get_quantiles(z./sum(z), quantiles_array);"
   ]
  },
  {
   "cell_type": "code",
   "execution_count": 24,
   "metadata": {},
   "outputs": [
    {
     "data": {
      "image/png": "[encoded data removed]",
      "text/plain": [
       "Figure(PyObject <Figure size 400x400 with 1 Axes>)"
      ]
     },
     "metadata": {},
     "output_type": "display_data"
    },
    {
     "data": {
      "text/plain": [
       "PyObject Text(24.336632052546015, 0.5, '$\\\\sigma_y \\\\; (\\\\mathrm{mm})$')"
      ]
     },
     "execution_count": 24,
     "metadata": {},
     "output_type": "execute_result"
    }
   ],
   "source": [
    "fig, ax = plt.subplots(1,1, figsize=(4.0, 4.0))\n",
    "\n",
    "colors_tmp = [plt.cm.bone_r(i) for i in range(0.1, stop=0.6, length=length(levels))[2:end]]\n",
    "cs = ax.contour(midpoints(xrange), midpoints(yrange), z./sum(z), levels=levels, colors=colors_tmp, alpha=0.7, antialiased=true, linewidths=1.0, linestyles=\"dashed\") \n",
    "\n",
    "ax.contour(midpoints(hist_nt_1.edges[1]), midpoints(hist_nt_1.edges[2]), hist_nt_1.weights', levels=5, linewidths=1, colors=:C0)\n",
    "ax.contour(midpoints(hist_t_1.edges[1]), midpoints(hist_t_1.edges[2]), hist_t_1.weights', levels=5,   linewidths=1,  colors=:C1)\n",
    "\n",
    "ax.contour(midpoints(hist_nt_2.edges[1]), midpoints(hist_nt_2.edges[2]), hist_nt_2.weights', levels=5,  linewidths=1, colors=:C2)\n",
    "ax.contour(midpoints(hist_t_2.edges[1]), midpoints(hist_t_2.edges[2]), hist_t_2.weights', levels=5,  linewidths=1,  colors=:C3)\n",
    "\n",
    "ax.set_xlim(0.04, 0.17)\n",
    "ax.set_ylim(0.04, 0.17)\n",
    "\n",
    "ax.plot([-1, -2], [-1, -2], color=:C0, label=\"w/o truncation, core\")\n",
    "ax.plot([-1, -2], [-1, -2], color=:C1, label=\"w/ truncation, core\")\n",
    "\n",
    "ax.plot([-1, -2], [-1, -2], color=:C2, label=\"w/o truncation, halo\")\n",
    "ax.plot([-1, -2], [-1, -2], color=:C3, label=\"w/ truncation, halo\")\n",
    "\n",
    "ax.clabel(cs, fmt = Dict(zip(levels, level_labels)), inline = 1);\n",
    "\n",
    "ax.legend(loc=\"lower left\")\n",
    "ax.set_title(\"Experimental Data\")\n",
    "\n",
    "ax.set_xlabel(L\"\\sigma_x \\; (\\mathrm{mm})\")\n",
    "ax.set_ylabel(L\"\\sigma_y \\; (\\mathrm{mm})\")\n",
    "\n",
    "# fig.savefig(\"../../plots-prl/contours-truncation-1.pdf\", bbox_inches = \"tight\")"
   ]
  },
  {
   "cell_type": "code",
   "execution_count": null,
   "metadata": {},
   "outputs": [],
   "source": []
  },
  {
   "cell_type": "code",
   "execution_count": null,
   "metadata": {},
   "outputs": [],
   "source": []
  },
  {
   "cell_type": "code",
   "execution_count": 25,
   "metadata": {},
   "outputs": [],
   "source": [
    "hist_nt_1 = make_hist(samples_flat_nt[5,:], samples_flat_nt[6,:], samples_nt.weight);\n",
    "hist_t_1 = make_hist(samples_flat_t[5,:], samples_flat_t[6,:], samples_t.weight);\n",
    "\n",
    "hist_nt_2 = make_hist(samples_flat_nt[7,:], samples_flat_nt[8,:], samples_nt.weight);\n",
    "hist_t_2 = make_hist(samples_flat_t[7,:], samples_flat_t[8,:], samples_t.weight);"
   ]
  },
  {
   "cell_type": "code",
   "execution_count": 26,
   "metadata": {},
   "outputs": [],
   "source": [
    "xmin, xmax = 1., 8.\n",
    "xrange=range(xmin, stop = xmax,length=100)\n",
    "yrange=range(xmin, stop = xmax,length=100)\n",
    "xvals = diff([cdf(truncated(Normal(4.0, 2.0), 1.0, 8.0), x) for x in xrange])\n",
    "yvals = diff([cdf(truncated(Normal(4.0, 2.0), 1.0, 8.0), y)  for y in yrange])\n",
    "z = xvals*yvals';"
   ]
  },
  {
   "cell_type": "code",
   "execution_count": 27,
   "metadata": {},
   "outputs": [],
   "source": [
    "# quantiles_array = [0.0, 0.80, 0.9, 0.95, 0.985, 0.999, 1]\n",
    "quantiles_array = [0.0, 0.9, 0.95, 0.999, 1]\n",
    "\n",
    "levels, level_labels = get_quantiles(z./sum(z), quantiles_array);"
   ]
  },
  {
   "cell_type": "code",
   "execution_count": 28,
   "metadata": {},
   "outputs": [
    {
     "data": {
      "image/png": "[encoded data removed]",
      "text/plain": [
       "Figure(PyObject <Figure size 400x400 with 1 Axes>)"
      ]
     },
     "metadata": {},
     "output_type": "display_data"
    },
    {
     "data": {
      "text/plain": [
       "PyObject Text(26.567451389429394, 0.5, \"$\\\\sigma'_y \\\\; (\\\\mathrm{10^{-5} \\\\cdot rad})$\")"
      ]
     },
     "execution_count": 28,
     "metadata": {},
     "output_type": "execute_result"
    }
   ],
   "source": [
    "fig, ax = plt.subplots(1,1, figsize=(4.0, 4.0))\n",
    "\n",
    "colors_tmp = [plt.cm.bone_r(i) for i in range(0.1, stop=0.6, length=length(levels))[2:end]]\n",
    "cs = ax.contour(midpoints(xrange), midpoints(yrange), z./sum(z), levels=levels, colors=colors_tmp, alpha=0.7, antialiased=true, linewidths=1.0, linestyles=\"dashed\") \n",
    "\n",
    "ax.contour(midpoints(hist_nt_1.edges[1]), midpoints(hist_nt_1.edges[2]), hist_nt_1.weights', levels=5, linewidths=1, colors=:C0)\n",
    "ax.contour(midpoints(hist_t_1.edges[1]), midpoints(hist_t_1.edges[2]), hist_t_1.weights', levels=5,   linewidths=1,  colors=:C1)\n",
    "\n",
    "ax.contour(midpoints(hist_nt_2.edges[1]), midpoints(hist_nt_2.edges[2]), hist_nt_2.weights', levels=5,  linewidths=1, colors=:C2)\n",
    "ax.contour(midpoints(hist_t_2.edges[1]), midpoints(hist_t_2.edges[2]), hist_t_2.weights', levels=5,  linewidths=1,  colors=:C3)\n",
    "\n",
    "ax.set_xlim(0.8, 8.2)\n",
    "ax.set_ylim(0.8, 8.2)\n",
    "\n",
    "ax.plot([-1, -2], [-1, -2], color=:C0, label=\"w/o truncation, core\")\n",
    "ax.plot([-1, -2], [-1, -2], color=:C1, label=\"w/ truncation, core\")\n",
    "\n",
    "ax.plot([-1, -2], [-1, -2], color=:C2, label=\"w/o truncation, halo\")\n",
    "ax.plot([-1, -2], [-1, -2], color=:C3, label=\"w/ truncation, halo\")\n",
    "\n",
    "ax.clabel(cs, fmt = Dict(zip(levels, level_labels)), inline = 1);\n",
    "\n",
    "ax.legend(loc=\"upper left\", framealpha=0.0)\n",
    "\n",
    "ax.set_title(\"Experimental Data\")\n",
    "\n",
    "ax.set_xlabel(L\"\\sigma'_x \\; (\\mathrm{10^{-5} \\cdot rad})\")\n",
    "ax.set_ylabel(L\"\\sigma'_y \\; (\\mathrm{10^{-5} \\cdot rad})\")\n",
    "\n",
    "# fig.savefig(\"../../plots-prl/contours-truncation-2.pdf\", bbox_inches = \"tight\")"
   ]
  },
  {
   "cell_type": "code",
   "execution_count": null,
   "metadata": {},
   "outputs": [],
   "source": []
  },
  {
   "cell_type": "code",
   "execution_count": null,
   "metadata": {},
   "outputs": [],
   "source": []
  },
  {
   "cell_type": "code",
   "execution_count": null,
   "metadata": {},
   "outputs": [],
   "source": []
  },
  {
   "cell_type": "code",
   "execution_count": null,
   "metadata": {},
   "outputs": [],
   "source": []
  },
  {
   "cell_type": "code",
   "execution_count": null,
   "metadata": {},
   "outputs": [],
   "source": []
  },
  {
   "cell_type": "code",
   "execution_count": null,
   "metadata": {},
   "outputs": [],
   "source": [
    "counts,ybins,xbins,image = ax.hist2d(samples_flat_nt[1,:], samples_flat_nt[2,:], weights=samples_nt.weight);\n",
    "counts2,ybins2,xbins2,image2 = ax.hist2d(samples_flat_t[1,:], samples_flat_t[2,:], weights=samples_t.weight);"
   ]
  },
  {
   "cell_type": "code",
   "execution_count": null,
   "metadata": {},
   "outputs": [],
   "source": [
    "fig, ax = plt.subplots(1,1, figsize=(5.905631659056317, 5.905631659056317))\n",
    "\n",
    "ax.contour(counts,extent=[minimum(xbins),maximum(xbins),minimum(ybins),maximum(ybins)],linewidths=3)\n",
    "ax.contour(counts2,extent=[minimum(xbins2),maximum(xbins2),minimum(ybins2),maximum(ybins2)],linewidths=3, linestyles=:dashed)"
   ]
  },
  {
   "cell_type": "code",
   "execution_count": null,
   "metadata": {},
   "outputs": [],
   "source": [
    "xbins"
   ]
  },
  {
   "cell_type": "code",
   "execution_count": null,
   "metadata": {},
   "outputs": [],
   "source": []
  }
 ],
 "metadata": {
  "kernelspec": {
   "display_name": "Julia 1.6.0-rc1",
   "language": "julia",
   "name": "julia-1.6"
  },
  "language_info": {
   "file_extension": ".jl",
   "mimetype": "application/julia",
   "name": "julia",
   "version": "1.6.1"
  }
 },
 "nbformat": 4,
 "nbformat_minor": 4
}
