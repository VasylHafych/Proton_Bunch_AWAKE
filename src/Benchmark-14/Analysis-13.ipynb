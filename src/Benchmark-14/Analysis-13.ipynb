{
 "cells": [
  {
   "cell_type": "code",
   "execution_count": 1,
   "metadata": {},
   "outputs": [],
   "source": [
    "using JLD2\n",
    "using FileIO\n",
    "using PyPlot\n",
    "using Statistics\n",
    "using StatsBase \n",
    "using Distributions\n",
    "using LinearAlgebra\n",
    "using IntervalSets\n",
    "using Random, ArraysOfArrays\n",
    "using ValueShapes\n",
    "using Measurements\n",
    "using BAT\n",
    "using DSP\n",
    "import HDF5\n",
    "using Optim"
   ]
  },
  {
   "cell_type": "code",
   "execution_count": 2,
   "metadata": {},
   "outputs": [
    {
     "data": {
      "text/plain": [
       "plot_projections (generic function with 1 method)"
      ]
     },
     "execution_count": 2,
     "metadata": {},
     "output_type": "execute_result"
    }
   ],
   "source": [
    "include(\"../model-41/likelihood.jl\")\n",
    "include(\"../model-41/utill_model.jl\")\n",
    "include(\"../utill.jl\")"
   ]
  },
  {
   "cell_type": "code",
   "execution_count": 3,
   "metadata": {},
   "outputs": [
    {
     "data": {
      "text/plain": [
       "hist_2d (generic function with 1 method)"
      ]
     },
     "execution_count": 3,
     "metadata": {},
     "output_type": "execute_result"
    }
   ],
   "source": [
    "function hist_2d(smpls, dim_1, dim_2; nbins=35, axmin = true, axmax=true)\n",
    "    smpl_tmp, smpl_w = flatview(unshaped.(smpls.v)), smpls.weight\n",
    "    if axmin == true\n",
    "        hist_tmp = fit(Histogram, (smpl_tmp[dim_1,:],smpl_tmp[dim_2,:]), FrequencyWeights(smpl_w), nbins=nbins)\n",
    "    else\n",
    "       hist_tmp = fit(Histogram, (smpl_tmp[dim_1,:],smpl_tmp[dim_2,:]), FrequencyWeights(smpl_w), (range(axmin[1], stop=axmax[1], length=nbins), range(axmin[2], stop=axmax[2], length=nbins))) \n",
    "    end\n",
    "    hist_tmp = normalize(hist_tmp, mode=:pdf) \n",
    "    return hist_tmp\n",
    "end"
   ]
  },
  {
   "cell_type": "code",
   "execution_count": 4,
   "metadata": {},
   "outputs": [],
   "source": [
    "β1= 0.015\n",
    "β2 = 0.0077\n",
    "β3 = 0.0058 \n",
    "\n",
    "function trunc_norm(m, sgm; alpha=2)\n",
    "    return truncated(Normal(m, sgm), m - alpha*sgm, m + alpha*sgm)\n",
    "end\n",
    "\n",
    "prior = NamedTupleDist(\n",
    "        tr_size = [truncated(Normal(0.2, 0.04), 0.03, 0.19), truncated(Normal(0.2, 0.04), 0.03, 0.19)],\n",
    "        tr_size_2 = [truncated(Normal(0.2, 0.04), 0.03, 0.19), truncated(Normal(0.2, 0.04), 0.03, 0.19)],\n",
    "        ang_spr = [truncated(Normal(4.0, 2.0), 1.0, 8.0), truncated(Normal(4.0, 2.0), 1.0, 8.0)],\n",
    "        ang_spr_2 = [truncated(Normal(4.0, 2.0), 1.0, 4.0), truncated(Normal(4.0, 2.0), 1.0, 4.0)],\n",
    "        mixt_pow =  0.35 .. 1.0, \n",
    "        waist = [truncated(Normal(2.774, 0.03), 2.5, 3.6)],\n",
    "        waist_2 = [truncated(Normal(2.774, 0.03), 2.5, 3.6)],\n",
    "        algmx = [23.0 .. 48, 23.0 .. 48.0, 10.0 .. 30.0, 23.0 .. 48.0],\n",
    "        algmy = [23.0 .. 48, 23.0 .. 48.0, 10.0 .. 30.0, 23.0 .. 48.0],\n",
    "        cam4_ped = 4.0 .. 40.0,\n",
    "        cam4_light_fluct = 1.0 .. 3.0,\n",
    "        cam4_light_amp = 1.6 .. 9.9, \n",
    "        resx = [1, 1, 1], # 23, 24, 25, \n",
    "        resy = [1, 1, 1], # 26,27, 28, \n",
    "        cam4_resx = truncated(Normal(3, 1.5), 0, Inf),\n",
    "        cam4_resy = truncated(Normal(3, 1.5), 0, Inf), \n",
    "        psx = [27.1, 21.6, 114.0], # 31, 32, 33\n",
    "        psy = [30.5, 23.4, 125.0], # 34, 35, 36\n",
    "        cam4_psx = 121.8, # 37\n",
    "        cam4_psy = 120.0, # 38\n",
    "        light_amp  = [1.0 .. 13.0 , 1.0 .. 17.0, 1.0 .. 5.0], # 1.0 .. 5.0\n",
    "        s_cam = [0.0, 1.47799, 15.025999, 23.1644],\n",
    ");"
   ]
  },
  {
   "cell_type": "code",
   "execution_count": 5,
   "metadata": {},
   "outputs": [
    {
     "data": {
      "text/plain": [
       "\"../../data/sampling_results/Benchmark-14/\""
      ]
     },
     "execution_count": 5,
     "metadata": {},
     "output_type": "execute_result"
    }
   ],
   "source": [
    "FPATH = \"../../data/sampling_results/Benchmark-14/\""
   ]
  },
  {
   "cell_type": "code",
   "execution_count": 10,
   "metadata": {},
   "outputs": [],
   "source": [
    "smpl_tmp = bat_read(FPATH*\"hc-2.hdf5\").result\n",
    "samples_1 = varshape(prior).(smpl_tmp)\n",
    "\n",
    "smpl_tmp = bat_read(FPATH*\"samples-res-upd.hdf5\").result\n",
    "samples_2 = varshape(prior).(smpl_tmp);"
   ]
  },
  {
   "cell_type": "code",
   "execution_count": 11,
   "metadata": {},
   "outputs": [
    {
     "data": {
      "text/plain": [
       "2-element Array{Tuple{Int64,Int64},1}:\n",
       " (27, 891858)\n",
       " (27, 478481)"
      ]
     },
     "execution_count": 11,
     "metadata": {},
     "output_type": "execute_result"
    }
   ],
   "source": [
    "[size(flatview(unshaped.(samples_1.v))), size(flatview(unshaped.(samples_2.v)))]"
   ]
  },
  {
   "cell_type": "code",
   "execution_count": 12,
   "metadata": {},
   "outputs": [
    {
     "data": {
      "text/plain": [
       "ShapedAsNT((tr_size = [0.08956822528586582, 0.13275281305073433], tr_size_2 = [0.13173349647825933, 0.15261802067827052], ang_spr = [6.223620558501847, 5.760101521511307], ang_spr_2 = [2.6005802825653643, 2.3797173739273787], mixt_pow = 0.6649887288333448, waist = [3.141768863892509], waist_2 = [2.849763621968413], algmx = [31.73659547945029, 32.21977346250108, 21.29892276130136, 35.238609467199474], algmy = [36.94017165700674, 37.427832371833674, 20.231404360010867, 33.90491599229758], cam4_ped = 27.54910505950699, cam4_light_fluct = 1.3620851829111829, cam4_light_amp = 8.844040134598133, resx = [1, 1, 1], resy = [1, 1, 1], cam4_resx = 4.830374458085265, cam4_resy = 4.773195237368268, psx = [27.1, 21.6, 114.0], psy = [30.5, 23.4, 125.0], cam4_psx = 121.8, cam4_psy = 120.0, light_amp = [8.529232366922555, 11.423430701808462, 2.6881295808552914], s_cam = [0.0, 1.47799, 15.025999, 23.1644]))"
      ]
     },
     "execution_count": 12,
     "metadata": {},
     "output_type": "execute_result"
    }
   ],
   "source": [
    "mean(samples_1)"
   ]
  },
  {
   "cell_type": "code",
   "execution_count": 13,
   "metadata": {},
   "outputs": [
    {
     "data": {
      "text/plain": [
       "ShapedAsNT((tr_size = [0.09354498751938464, 0.13550638241259064], tr_size_2 = [0.1330832338965382, 0.15329729259099828], ang_spr = [6.193347246006623, 5.733824408116304], ang_spr_2 = [2.575086909949203, 2.3571702365130096], mixt_pow = 0.6686030757608743, waist = [3.0896181294630094], waist_2 = [2.7324170614532037], algmx = [31.742042547614606, 32.21871076022414, 21.298605573610228, 35.238590944272794], algmy = [36.93743049779322, 37.43065433447367, 20.231651307026024, 33.90561012224081], cam4_ped = 27.53239932521748, cam4_light_fluct = 1.360658983908174, cam4_light_amp = 8.846352657444351, resx = [1, 1, 1], resy = [1, 1, 1], cam4_resx = 4.7949625117178245, cam4_resy = 4.738493209352981, psx = [27.1, 21.6, 114.0], psy = [30.5, 23.4, 125.0], cam4_psx = 121.8, cam4_psy = 120.0, light_amp = [8.519296467013813, 11.427023907592785, 2.6914508469227654], s_cam = [0.0, 1.47799, 15.025999, 23.1644]))"
      ]
     },
     "execution_count": 13,
     "metadata": {},
     "output_type": "execute_result"
    }
   ],
   "source": [
    "mean(samples_2)"
   ]
  },
  {
   "cell_type": "code",
   "execution_count": 14,
   "metadata": {},
   "outputs": [
    {
     "data": {
      "image/png": "[encoded data removed]",
      "text/plain": [
       "Figure(PyObject <Figure size 800x600 with 2 Axes>)"
      ]
     },
     "metadata": {},
     "output_type": "display_data"
    },
    {
     "data": {
      "text/plain": [
       "PyObject Text(0.5, 26.28125, '$s, [m]$')"
      ]
     },
     "execution_count": 14,
     "metadata": {},
     "output_type": "execute_result"
    }
   ],
   "source": [
    "params_array = [mode(samples_1)[1], mode(samples_2)[1]]\n",
    "colors_array = [\"C0\", \"C1\"]\n",
    "labels_array = [\" nuisance\", \" res=1px\", \"Mean\"]\n",
    "\n",
    "plot_envelop_trajectory(params_array,  labels = labels_array, colors=colors_array)"
   ]
  },
  {
   "cell_type": "code",
   "execution_count": 15,
   "metadata": {},
   "outputs": [
    {
     "data": {
      "text/plain": [
       "plot_contourf (generic function with 1 method)"
      ]
     },
     "execution_count": 15,
     "metadata": {},
     "output_type": "execute_result"
    }
   ],
   "source": [
    "function plot_contour(ax, hist; kwargs...)\n",
    "    ax.contour(midpoints(hist.edges[1]), midpoints(hist.edges[2]), hist.weights', \n",
    "        levels=range(minimum(hist.weights'), maximum(hist.weights'), length=8)[2:end]; #corner_mask= true,\n",
    "        kwargs..., antialiased=true) \n",
    "end\n",
    "\n",
    "function plot_contourf(ax, hist; kwargs...)\n",
    "    ax.contourf(midpoints(hist.edges[1]), midpoints(hist.edges[2]), hist.weights', \n",
    "        levels=range(minimum(hist.weights'), maximum(hist.weights'), length=8)[2:end]; #corner_mask= true,\n",
    "        kwargs..., antialiased=true) \n",
    "end"
   ]
  },
  {
   "cell_type": "code",
   "execution_count": 16,
   "metadata": {},
   "outputs": [],
   "source": [
    "hist_211 = hist_2d(samples_1, 1,2)\n",
    "hist_212 = hist_2d(samples_1, 3,4)\n",
    "\n",
    "hist_221 = hist_2d(samples_2, 1,2)\n",
    "hist_222 = hist_2d(samples_2, 3,4);"
   ]
  },
  {
   "cell_type": "code",
   "execution_count": 17,
   "metadata": {},
   "outputs": [
    {
     "data": {
      "text/plain": [
       "\"#7570b3\""
      ]
     },
     "execution_count": 17,
     "metadata": {},
     "output_type": "execute_result"
    }
   ],
   "source": [
    "# custom_cmaps: \n",
    "\n",
    "clist = [(0,\"white\"), (1, \"#1b9e77\")] #green\n",
    "cmap_3 = matplotlib.colors.LinearSegmentedColormap.from_list(\"my_cmap\", clist)\n",
    "col_3 = \"#1b9e77\"\n",
    "\n",
    "clist = [(0,\"white\"), (1, \"#d95f02\")] #orange\n",
    "cmap_1 = matplotlib.colors.LinearSegmentedColormap.from_list(\"my_cmap\", clist)\n",
    "col_1 = \"#d95f02\"\n",
    "\n",
    "clist = [(0,\"white\"), (1, \"#7570b3\")] # violet\n",
    "cmap_2 = matplotlib.colors.LinearSegmentedColormap.from_list(\"my_cmap\", clist)\n",
    "col_2 = \"#7570b3\""
   ]
  },
  {
   "cell_type": "code",
   "execution_count": 18,
   "metadata": {},
   "outputs": [
    {
     "data": {
      "image/png": "[encoded data removed]",
      "text/plain": [
       "Figure(PyObject <Figure size 600x400 with 1 Axes>)"
      ]
     },
     "metadata": {},
     "output_type": "display_data"
    },
    {
     "data": {
      "text/plain": [
       "PyObject <matplotlib.contour.QuadContourSet object at 0x7fa31db533a0>"
      ]
     },
     "execution_count": 18,
     "metadata": {},
     "output_type": "execute_result"
    }
   ],
   "source": [
    "fig, (ax) = plt.subplots(1,1, figsize=(6,4))\n",
    "\n",
    "plot_contourf(ax, hist_211, cmap=cmap_1, alpha=0.8, )\n",
    "plot_contourf(ax, hist_212, cmap=cmap_1, alpha=0.8,)\n",
    "\n",
    "plot_contourf(ax, hist_221, cmap=cmap_2, alpha=0.8, )\n",
    "plot_contourf(ax, hist_222, cmap=cmap_2, alpha=0.8,)"
   ]
  },
  {
   "cell_type": "code",
   "execution_count": null,
   "metadata": {},
   "outputs": [],
   "source": []
  },
  {
   "cell_type": "code",
   "execution_count": null,
   "metadata": {},
   "outputs": [],
   "source": []
  },
  {
   "cell_type": "code",
   "execution_count": null,
   "metadata": {},
   "outputs": [],
   "source": []
  },
  {
   "cell_type": "code",
   "execution_count": null,
   "metadata": {},
   "outputs": [],
   "source": [
    "min_vals = -73700.38088631934\n",
    "\n",
    "i_11 = [-73649.38088631934, -73651.6982440232] .- min_vals\n",
    "i_12 = [-73538.94357576006, -73541.2350409309] .- min_vals\n",
    "i_13 = [-73491.52053144189, -73494.37750708264] .- min_vals\n",
    "i_21 = [-71980.00078991472, -71983.18498602472] .- min_vals\n",
    "i_22 = [-71885.77803492927, -71887.9727737773] .- min_vals\n",
    "i_23 = [-71880.08336777825, -71880.45707944027] .- min_vals"
   ]
  },
  {
   "cell_type": "code",
   "execution_count": null,
   "metadata": {},
   "outputs": [],
   "source": [
    "labels = [\"S1\", \"S2\", \"S3\", \"S1\", \"S2\", \"S3\"]\n",
    "lab_ind = 1:6\n",
    "\n",
    "fig, (ax, ax2) = plt.subplots(1,2, figsize=(6,4), gridspec_kw=Dict(\"width_ratios\"=>[2, 1]))\n",
    "fig.subplots_adjust(hspace=0.0, wspace=0.05)\n",
    "\n",
    "plot_contour(ax, hist_11, colors=col_1, linewidths=0.7, alpha=0.6, linestyles=:dotted)\n",
    "plot_contour(ax, hist_12, colors=col_2, linewidths=0.7, alpha=0.6, linestyles=:dotted)\n",
    "plot_contour(ax, hist_13, colors=col_3, linewidths=0.7, alpha=0.6, linestyles=:dotted)\n",
    "\n",
    "# plot_contourf(ax, hist_11, cmap=:Blues, linewidths=0.8, alpha=0.5, )\n",
    "# plot_contourf(ax, hist_12, cmap=:Oranges, linewidths=0.8, alpha=0.5,)\n",
    "# plot_contourf(ax, hist_13, cmap=:Greens, linewidths=0.8, alpha=0.5,)\n",
    "\n",
    "# 2G Model:\n",
    "\n",
    "plot_contourf(ax, hist_231, cmap=cmap_3, alpha=0.8, )\n",
    "plot_contourf(ax, hist_232, cmap=cmap_3, alpha=0.8,)\n",
    "plot_contour(ax, hist_231, colors=col_3, linewidths=0.8, alpha=0.4, )\n",
    "plot_contour(ax, hist_232, colors=col_3, linewidths=0.8, alpha=0.4, )\n",
    "\n",
    "plot_contourf(ax, hist_221, cmap=cmap_2, alpha=0.8, )\n",
    "plot_contourf(ax, hist_222, cmap=cmap_2, alpha=0.8,)\n",
    "plot_contour(ax, hist_221, colors=col_2, linewidths=0.6, alpha=0.4, )\n",
    "plot_contour(ax, hist_222, colors=col_2, linewidths=0.6, alpha=0.4, )\n",
    "\n",
    "plot_contourf(ax, hist_211, cmap=cmap_1, alpha=0.8, )\n",
    "plot_contourf(ax, hist_212, cmap=cmap_1, alpha=0.8,)\n",
    "plot_contour(ax, hist_211, colors=col_1, linewidths=0.8, alpha=0.4, )\n",
    "plot_contour(ax, hist_212, colors=col_1, linewidths=0.8, alpha=0.4,)\n",
    "\n",
    "ax2.axhline(i_11[1], zorder=-100, linewidth=0.5, color=col_1, )\n",
    "ax2.axhline(i_12[1], zorder=-100, linewidth=0.5, color=col_2, )\n",
    "ax2.axhline(i_13[1], zorder=-100, linewidth=0.5, color=col_3, )\n",
    "\n",
    "ax2.axhline(i_21[1], zorder=-100, linewidth=0.5, color=col_1, )\n",
    "ax2.axhline(i_22[1], zorder=-100, linewidth=0.5, color=col_2, )\n",
    "ax2.axhline(i_23[1], zorder=-100, linewidth=0.5, color=col_3, linestyle=\"--\")\n",
    "\n",
    "ax2.bar(1, i_11[1], width=0.7, color=:white, edgecolor=col_1, linestyle=\":\")\n",
    "ax2.bar(2, i_12[1], width=0.7, color=:white, edgecolor=col_2, linestyle=\":\")\n",
    "ax2.bar(3, i_13[1], width=0.7, color=:white, edgecolor=col_3, linestyle=\":\")\n",
    "\n",
    "ax2.bar(1, i_11[1], width=0.7, color=col_1, edgecolor=col_1, alpha=0.1)\n",
    "ax2.bar(2, i_12[1], width=0.7, color=col_2, edgecolor=col_2, alpha=0.1)\n",
    "ax2.bar(3, i_13[1], width=0.7, color=col_3, edgecolor=col_3, alpha=0.1)\n",
    "\n",
    "ax2.bar(4, i_21[1], width=0.7, color=:white, edgecolor=col_1,)\n",
    "ax2.bar(5, i_22[1], width=0.7, color=:white, edgecolor=col_2,)\n",
    "ax2.bar(6, i_23[1], width=0.7, color=:white, edgecolor=col_3,)\n",
    "\n",
    "ax2.bar(4, i_21[1], width=0.7, color=col_1, edgecolor=col_1, alpha=0.6)\n",
    "ax2.bar(5, i_22[1], width=0.7, color=col_2, edgecolor=col_2, alpha=0.6)\n",
    "ax2.bar(6, i_23[1], width=0.7, color=col_3, edgecolor=col_3, alpha=0.6)\n",
    "\n",
    "ax.plot(-10, 10, linestyle=\":\", color=col_1, label=\"1G, S1\")\n",
    "ax.plot(-10, 10, linestyle=\":\", color=col_2, label=\"1G, S2\")\n",
    "ax.plot(-10, 10, linestyle=\":\", color=col_3, label=\"1G, S3\")\n",
    "ax.plot(-10, 10, linestyle=\"-\", color=col_1, label=\"2G, S1\")\n",
    "ax.plot(-10, 10, linestyle=\"-\", color=col_2, label=\"2G, S2\")\n",
    "ax.plot(-10, 10, linestyle=\"-\", color=col_3, label=\"2G, S3\")\n",
    "ax.legend(loc=\"lower right\", framealpha=0.0)\n",
    "\n",
    "ax2.yaxis.tick_right()\n",
    "ax2.yaxis.set_label_position(\"right\")\n",
    "\n",
    "ax2.set_xticks(lab_ind)\n",
    "ax2.set_xticklabels(labels)\n",
    "\n",
    "ax.set_xlim(0.067, 0.137)\n",
    "ax.set_ylim(0.105, 0.16)\n",
    "\n",
    "ax.set_xlabel(L\"\\sigma_x \\; (\\mathrm{mm})\")\n",
    "ax.set_ylabel(L\"\\sigma_y \\; (\\mathrm{mm})\")\n",
    "ax2.set_ylabel(L\"\\log(Z/Z_{ref})\")\n",
    "\n",
    "fig.text(0.71, 0.01, \"1G Model\", ha=\"center\")\n",
    "fig.text(0.835, 0.01, \"2G Model\", ha=\"center\")"
   ]
  },
  {
   "cell_type": "code",
   "execution_count": null,
   "metadata": {},
   "outputs": [],
   "source": [
    "labels = [\"S1\", \"S2\", \"S3\", \"S1\", \"S2\", \"S3\"]\n",
    "lab_ind = 1:6\n",
    "\n",
    "fig, (ax, ax2) = plt.subplots(1,2, figsize=(6,4), gridspec_kw=Dict(\"width_ratios\"=>[2, 1]))\n",
    "fig.subplots_adjust(hspace=0.0, wspace=0.05)\n",
    "\n",
    "plot_contour(ax, hist_11, colors=:C3, linewidths=0.7, alpha=0.6, linestyles=:dotted)\n",
    "plot_contour(ax, hist_12, colors=:C0, linewidths=0.7, alpha=0.6, linestyles=:dotted)\n",
    "plot_contour(ax, hist_13, colors=:C2, linewidths=0.7, alpha=0.6, linestyles=:dotted)\n",
    "\n",
    "# plot_contourf(ax, hist_11, cmap=:Blues, linewidths=0.8, alpha=0.5, )\n",
    "# plot_contourf(ax, hist_12, cmap=:Oranges, linewidths=0.8, alpha=0.5,)\n",
    "# plot_contourf(ax, hist_13, cmap=:Greens, linewidths=0.8, alpha=0.5,)\n",
    "\n",
    "# 2G Model:\n",
    "\n",
    "plot_contourf(ax, hist_231, cmap=:BuGn, alpha=0.8, )\n",
    "plot_contourf(ax, hist_232, cmap=:BuGn, alpha=0.8,)\n",
    "plot_contour(ax, hist_231, colors=:C2, linewidths=0.8, alpha=0.4, )\n",
    "plot_contour(ax, hist_232, colors=:C2, linewidths=0.8, alpha=0.4, )\n",
    "\n",
    "plot_contourf(ax, hist_221, cmap=:PuBu, alpha=0.8, )\n",
    "plot_contourf(ax, hist_222, cmap=:PuBu, alpha=0.8,)\n",
    "plot_contour(ax, hist_221, colors=:C0, linewidths=0.6, alpha=0.4, )\n",
    "plot_contour(ax, hist_222, colors=:C0, linewidths=0.6, alpha=0.4, )\n",
    "\n",
    "plot_contourf(ax, hist_211, cmap=:OrRd, alpha=0.8, )\n",
    "plot_contourf(ax, hist_212, cmap=:OrRd, alpha=0.8,)\n",
    "plot_contour(ax, hist_211, colors=:Red, linewidths=0.8, alpha=0.4, )\n",
    "plot_contour(ax, hist_212, colors=:Red, linewidths=0.8, alpha=0.4,)\n",
    "\n",
    "ax2.axhline(i_11[1], zorder=-100, linewidth=0.5, color=:C3, )\n",
    "ax2.axhline(i_12[1], zorder=-100, linewidth=0.5, color=:C0, )\n",
    "ax2.axhline(i_13[1], zorder=-100, linewidth=0.5, color=:C2, )\n",
    "\n",
    "ax2.axhline(i_21[1], zorder=-100, linewidth=0.5, color=:C3, )\n",
    "ax2.axhline(i_22[1], zorder=-100, linewidth=0.5, color=:C0, )\n",
    "ax2.axhline(i_23[1], zorder=-100, linewidth=0.5, color=:C2, linestyle=\"--\")\n",
    "\n",
    "ax2.bar(1, i_11[1], width=0.7, color=:white, edgecolor=:C3, linestyle=\":\")\n",
    "ax2.bar(2, i_12[1], width=0.7, color=:white, edgecolor=:C0, linestyle=\":\")\n",
    "ax2.bar(3, i_13[1], width=0.7, color=:white, edgecolor=:C2, linestyle=\":\")\n",
    "\n",
    "ax2.bar(1, i_11[1], width=0.7, color=:C3, edgecolor=:C3, alpha=0.1)\n",
    "ax2.bar(2, i_12[1], width=0.7, color=:C0, edgecolor=:C0, alpha=0.1)\n",
    "ax2.bar(3, i_13[1], width=0.7, color=:C2, edgecolor=:C2, alpha=0.1)\n",
    "\n",
    "ax2.bar(4, i_21[1], width=0.7, color=:white, edgecolor=:C3,)\n",
    "ax2.bar(5, i_22[1], width=0.7, color=:white, edgecolor=:C0,)\n",
    "ax2.bar(6, i_23[1], width=0.7, color=:white, edgecolor=:C2,)\n",
    "\n",
    "ax2.bar(4, i_21[1], width=0.7, color=:C3, edgecolor=:C3, alpha=0.6)\n",
    "ax2.bar(5, i_22[1], width=0.7, color=:C0, edgecolor=:C0, alpha=0.6)\n",
    "ax2.bar(6, i_23[1], width=0.7, color=:C2, edgecolor=:C2, alpha=0.6)\n",
    "\n",
    "ax.plot(-10, 10, linestyle=\":\", color=:C3, label=\"1G, S1\")\n",
    "ax.plot(-10, 10, linestyle=\"-\", color=:C3, label=\"2G, S1\")\n",
    "ax.plot(-10, 10, linestyle=\":\", color=:C0, label=\"1G, S2\")\n",
    "ax.plot(-10, 10, linestyle=\"-\", color=:C0, label=\"2G, S2\")\n",
    "ax.plot(-10, 10, linestyle=\":\", color=:C2, label=\"1G, S3\")\n",
    "ax.plot(-10, 10, linestyle=\"-\", color=:C2, label=\"2G, S3\")\n",
    "ax.legend(loc=\"lower right\", framealpha=0.0)\n",
    "\n",
    "ax2.yaxis.tick_right()\n",
    "ax2.yaxis.set_label_position(\"right\")\n",
    "\n",
    "ax2.set_xticks(lab_ind)\n",
    "ax2.set_xticklabels(labels)\n",
    "\n",
    "ax.set_xlim(0.067, 0.137)\n",
    "ax.set_ylim(0.105, 0.16)\n",
    "\n",
    "ax.set_xlabel(L\"\\sigma_x \\; (\\mathrm{mm})\")\n",
    "ax.set_ylabel(L\"\\sigma_y \\; (\\mathrm{mm})\")\n",
    "ax2.set_ylabel(L\"\\log(Z/Z_{ref})\")\n",
    "\n",
    "fig.text(0.71, 0.01, \"1G Model\", ha=\"center\")\n",
    "fig.text(0.835, 0.01, \"2G Model\", ha=\"center\")"
   ]
  },
  {
   "cell_type": "code",
   "execution_count": null,
   "metadata": {},
   "outputs": [],
   "source": []
  },
  {
   "cell_type": "markdown",
   "metadata": {},
   "source": [
    "# Uncertainty Check: "
   ]
  },
  {
   "cell_type": "code",
   "execution_count": null,
   "metadata": {},
   "outputs": [],
   "source": [
    "function def_datasets(samples_init, samples_ext, indid; nsampls=60)\n",
    "    samples_init = bat_sample(samples_init, OrderedResampling(nsamples=nsampls)).result\n",
    "    samples_init = flatview(unshaped.(samples_init.v))\n",
    "    samples_ext = bat_sample(samples_ext, OrderedResampling(nsamples=nsampls)).result\n",
    "    samples_ext = flatview(unshaped.(samples_ext.v))\n",
    "    \n",
    "    samples_init = samples_init[indid,:] \n",
    "    samples_ext = samples_ext[indid,:] \n",
    "    \n",
    "    return samples_init, samples_ext\n",
    "end"
   ]
  },
  {
   "cell_type": "code",
   "execution_count": null,
   "metadata": {},
   "outputs": [],
   "source": [
    "tmp_1 = def_datasets(samples_21, samples_23, [1,2,3,4,5,6,7,8,9,10,11]);"
   ]
  },
  {
   "cell_type": "code",
   "execution_count": null,
   "metadata": {},
   "outputs": [],
   "source": [
    "function cost_func(params, samples_init, samples_ext)\n",
    "    \n",
    "    cost_total = 0.0\n",
    "    npars = Int(length(params)/2)\n",
    "    mean = params[1:npars]\n",
    "    cv_mat = Diagonal(params[npars+1:end].^2) \n",
    "    \n",
    "    for i in eachcol(samples_ext)\n",
    "        ll_tmp = 0.0\n",
    "        for j in eachcol(samples_init)\n",
    "            ll_tmp += logpdf(MvNormal(j.-mean, cv_mat), i) \n",
    "        end\n",
    "        cost_total += ll_tmp\n",
    "    end\n",
    "    return -cost_total\n",
    "end\n",
    "\n",
    "eval_cost(x) = cost_func(x, tmp_1[1], tmp_1[2])"
   ]
  },
  {
   "cell_type": "code",
   "execution_count": null,
   "metadata": {},
   "outputs": [],
   "source": [
    "@time eval_cost(rand(22))"
   ]
  },
  {
   "cell_type": "code",
   "execution_count": null,
   "metadata": {},
   "outputs": [],
   "source": [
    "lower = [repeat([-10.,], 11); repeat([0.,], 11)]\n",
    "upper = [repeat([10.,], 11); repeat([10.,], 11)]\n",
    "initial_x = repeat([0.1,], 22)\n",
    "inner_optimizer = GradientDescent()\n",
    "\n",
    "@time result = optimize(eval_cost, lower, upper, initial_x)\n",
    "\n",
    "min_vals = Optim.minimizer(result)"
   ]
  },
  {
   "cell_type": "code",
   "execution_count": null,
   "metadata": {},
   "outputs": [],
   "source": [
    "Optim.f_calls(result)"
   ]
  },
  {
   "cell_type": "code",
   "execution_count": null,
   "metadata": {},
   "outputs": [],
   "source": [
    "npars_tmp = Int(length(min_vals)/2)\n",
    "mean_tmp = min_vals[1:npars_tmp] #* 0.0\n",
    "minimized_cv = Diagonal(min_vals[npars_tmp+1:end].^2) \n",
    "\n",
    "tmp_2 = def_datasets(samples_21, samples_23, [1,2,3,4,5,6,7,8,9,10,11], nsampls=10^4);\n",
    "\n",
    "samples_corrected = [rand(MvNormal(i .- mean_tmp , minimized_cv)) for i in eachcol(tmp_2[1])];\n",
    "samples_corrected = hcat(samples_corrected...);"
   ]
  },
  {
   "cell_type": "code",
   "execution_count": null,
   "metadata": {},
   "outputs": [],
   "source": [
    "hist_new_1 = fit(Histogram, (samples_corrected[1,:],samples_corrected[2,:]), nbins=20)\n",
    "hist_new_1 = normalize(hist_new_1, mode=:pdf) \n",
    "\n",
    "hist_new_2 = fit(Histogram, (samples_corrected[3,:],samples_corrected[4,:]), nbins=20)\n",
    "hist_new_2 = normalize(hist_new_2, mode=:pdf) ;"
   ]
  },
  {
   "cell_type": "code",
   "execution_count": null,
   "metadata": {},
   "outputs": [],
   "source": [
    "fig, ax = plt.subplots(1,1, figsize=(6,6))\n",
    "fig.subplots_adjust(hspace=0.2, wspace=0.2)\n",
    "\n",
    "\n",
    "plot_contour(ax, hist_new_1, colors=:red, linewidths=0.8, alpha=0.5, linestyles=:dashed)\n",
    "plot_contour(ax, hist_new_2, colors=:red, linewidths=0.8, alpha=0.5, linestyles=:dashed)\n",
    "\n",
    "plot_contour(ax, hist_211, colors=:C0, linewidths=0.8, alpha=0.5, linestyles=:dashed)\n",
    "plot_contour(ax, hist_212, colors=:C0, linewidths=0.8, alpha=0.5, linestyles=:dashed)\n",
    "\n",
    "plot_contour(ax, hist_231, colors=:gray, linewidths=0.8, alpha=0.5, linestyles=:dashed)\n",
    "plot_contour(ax, hist_232, colors=:gray, linewidths=0.8, alpha=0.5, linestyles=:dashed)\n",
    "\n",
    "# ax.set_xlim(0.02, 0.2)\n",
    "# ax.set_ylim(0.02, 0.2)"
   ]
  },
  {
   "cell_type": "code",
   "execution_count": null,
   "metadata": {},
   "outputs": [],
   "source": []
  },
  {
   "cell_type": "markdown",
   "metadata": {},
   "source": [
    "### Tst Data:"
   ]
  },
  {
   "cell_type": "code",
   "execution_count": null,
   "metadata": {},
   "outputs": [],
   "source": [
    "smpl_tmp = bat_read(FPATH*\"samples-21-test.hdf5\").result\n",
    "samples_test_21 = varshape(prior_21).(smpl_tmp)\n",
    "\n",
    "smpl_tmp = bat_read(FPATH*\"samples-23-test.hdf5\").result\n",
    "samples_test_23 = varshape(prior_23).(smpl_tmp);"
   ]
  },
  {
   "cell_type": "code",
   "execution_count": null,
   "metadata": {},
   "outputs": [],
   "source": [
    "hist_test_211 = hist_2d(samples_test_21, 1,2)\n",
    "hist_test_212 = hist_2d(samples_test_21, 3,4)\n",
    "\n",
    "hist_test_231 = hist_2d(samples_test_23, 1,2)\n",
    "hist_test_232 = hist_2d(samples_test_23, 3,4);"
   ]
  },
  {
   "cell_type": "code",
   "execution_count": null,
   "metadata": {},
   "outputs": [],
   "source": [
    "npars_tmp = Int(length(min_vals)/2)\n",
    "mean_tmp = min_vals[1:npars_tmp] #* 0.0\n",
    "minimized_cv = Diagonal(min_vals[npars_tmp+1:end].^2) \n",
    "\n",
    "tmp_3 = def_datasets(samples_test_21, samples_test_23, [1,2,3,4,5,6,7,8,9,10,11], nsampls=10^4);\n",
    "\n",
    "samples_corrected = [rand(MvNormal(i .- mean_tmp , minimized_cv)) for i in eachcol(tmp_3[1])];\n",
    "samples_corrected = hcat(samples_corrected...);"
   ]
  },
  {
   "cell_type": "code",
   "execution_count": null,
   "metadata": {},
   "outputs": [],
   "source": [
    "hist_new_12 = fit(Histogram, (samples_corrected[1,:],samples_corrected[2,:]), nbins=20)\n",
    "hist_new_12 = normalize(hist_new_12, mode=:pdf) \n",
    "\n",
    "hist_new_22 = fit(Histogram, (samples_corrected[3,:],samples_corrected[4,:]), nbins=20)\n",
    "hist_new_22 = normalize(hist_new_22, mode=:pdf) ;"
   ]
  },
  {
   "cell_type": "code",
   "execution_count": null,
   "metadata": {},
   "outputs": [],
   "source": [
    "fig, ax = plt.subplots(1,1, figsize=(6,6))\n",
    "fig.subplots_adjust(hspace=0.2, wspace=0.2)\n",
    "\n",
    "plot_contour(ax, hist_new_12, colors=:red, linewidths=0.8, alpha=0.5, linestyles=:dashed)\n",
    "plot_contour(ax, hist_new_22, colors=:red, linewidths=0.8, alpha=0.5, linestyles=:dashed)\n",
    "\n",
    "plot_contour(ax, hist_test_211, colors=:C0, linewidths=0.8, alpha=0.5, linestyles=:dashed)\n",
    "plot_contour(ax, hist_test_212, colors=:C0, linewidths=0.8, alpha=0.5, linestyles=:dashed)\n",
    "\n",
    "plot_contour(ax, hist_test_231, colors=:gray, linewidths=0.8, alpha=0.5, linestyles=:dashed)\n",
    "plot_contour(ax, hist_test_232, colors=:gray, linewidths=0.8, alpha=0.5, linestyles=:dashed)\n",
    "\n",
    "# ax.set_xlim(0.02, 0.2)\n",
    "# ax.set_ylim(0.02, 0.2)"
   ]
  },
  {
   "cell_type": "code",
   "execution_count": null,
   "metadata": {},
   "outputs": [],
   "source": []
  }
 ],
 "metadata": {
  "kernelspec": {
   "display_name": "Julia 1.5.3",
   "language": "julia",
   "name": "julia-1.5"
  },
  "language_info": {
   "file_extension": ".jl",
   "mimetype": "application/julia",
   "name": "julia",
   "version": "1.5.3"
  }
 },
 "nbformat": 4,
 "nbformat_minor": 4
}
