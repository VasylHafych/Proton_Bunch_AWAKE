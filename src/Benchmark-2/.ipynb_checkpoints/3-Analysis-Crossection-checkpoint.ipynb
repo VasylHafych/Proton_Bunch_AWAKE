{
 "cells": [
  {
   "cell_type": "code",
   "execution_count": 8,
   "metadata": {},
   "outputs": [],
   "source": [
    "using JLD2\n",
    "using FileIO\n",
    "using PyPlot\n",
    "using Statistics\n",
    "using StatsBase \n",
    "using Distributions\n",
    "using LinearAlgebra\n",
    "using HDF5\n",
    "using KernelDensity"
   ]
  },
  {
   "cell_type": "code",
   "execution_count": 9,
   "metadata": {},
   "outputs": [],
   "source": [
    "using IntervalSets\n",
    "using Random, ArraysOfArrays\n",
    "using ValueShapes\n",
    "using Measurements\n",
    "using BAT\n",
    "using DSP"
   ]
  },
  {
   "cell_type": "code",
   "execution_count": 10,
   "metadata": {},
   "outputs": [],
   "source": [
    "β1 = 0.015\n",
    "β2 = 0.008\n",
    "β3 = 0.006 \n",
    "    \n",
    "\n",
    "prior = NamedTupleDist(\n",
    "    tr_size = [truncated(Normal(0.2, 0.04), 0.08, 0.25), truncated(Normal(0.2, 0.04), 0.08, 0.25)],\n",
    "    ang_spr = [truncated(Normal(4.0, 2.0), 2.0, 6.0), truncated(Normal(4.0, 2.0), 2.0, 6.0)],\n",
    "    waist = [Normal(2.9, 0.03)],\n",
    "    algmx = [23.0 .. 48, 23.0 .. 48.0, 10.0 .. 30.0, 23.0 .. 48.0],\n",
    "    algmy = [23.0 .. 48, 23.0 .. 48.0, 10.0 .. 30.0, 23.0 .. 48.0],\n",
    "    cam4_ped = 4.0 .. 40.0,\n",
    "    cam4_light_fluct = 1.0 .. 3.0,\n",
    "    cam4_light_amp = 1.6 .. 9.9, \n",
    "    resx = [truncated(Normal(1, 0.5), 0, Inf), truncated(Normal(2, 1), 0, Inf), truncated(Normal(1, 0.5), 0, Inf)], \n",
    "    resy = [truncated(Normal(1, 0.5), 0, Inf), truncated(Normal(2, 1), 0, Inf), truncated(Normal(1, 0.5), 0, Inf)], \n",
    "    cam4_resx = truncated(Normal(3, 1.5), 0, Inf),\n",
    "    cam4_resy = truncated(Normal(3, 1.5), 0, Inf),\n",
    "    psx = [truncated(Normal(27.1, 27.1*β1), 0., Inf), truncated(Normal(21.6, 21.6*β1), 0., Inf), truncated(Normal(114.0, 114.0*β2), 0., Inf)],\n",
    "    psy = [truncated(Normal(30.5, 30.5*β1), 0., Inf), truncated(Normal(23.4, 23.4*β1), 0., Inf), truncated(Normal(125.0, 125.0*β2), 0., Inf)],\n",
    "    cam4_psx = truncated(Normal(121.8, 3*121.8*β3), 0., Inf), \n",
    "    cam4_psy = truncated(Normal(120.0, 3*120.0*β3), 0., Inf), \n",
    "    light_amp  = [1.0 .. 13.0 , 1.0 .. 17.0, 1.0 .. 5.0], # 1.0 .. 5.0\n",
    "    s_cam = [0.0, 1.478, 15.026, 23.1150],\n",
    ");\n",
    "\n",
    "labels = [L\"\\sigma_x\", L\"\\sigma_y\", L\"\\sigma'_x\", L\"\\sigma'_y\", L\"s\", \n",
    "    L\"\\mu_x\", L\"\\mu_x\", L\"\\mu_x\", L\"\\mu_x\", L\"\\mu_y\", L\"\\mu_y\", L\"\\mu_y\", L\"\\mu_y\", \n",
    "    \"ped\", \"lf\", \"a\", \n",
    "    \"res x\", \"res x\", \"res x\", \"res y\", \"res y\", \"res y\", \"res x\", \"res y\", \n",
    "    \"ps x\", \"ps x\", \"ps x\", \"ps y\", \"ps y\", \"ps y\", \"ps x\", \"ps y\", \n",
    "    \"la\", \"la\", \"la\"\n",
    "    ];"
   ]
  },
  {
   "cell_type": "code",
   "execution_count": 12,
   "metadata": {},
   "outputs": [
    {
     "data": {
      "text/plain": [
       "plot_envelop_trajectory"
      ]
     },
     "execution_count": 12,
     "metadata": {},
     "output_type": "execute_result"
    }
   ],
   "source": [
    "include(\"../model-35/likelihood.jl\")\n",
    "include(\"../model-35/utill_model.jl\")"
   ]
  },
  {
   "cell_type": "code",
   "execution_count": 13,
   "metadata": {},
   "outputs": [
    {
     "data": {
      "text/plain": [
       "113"
      ]
     },
     "execution_count": 13,
     "metadata": {},
     "output_type": "execute_result"
    }
   ],
   "source": [
    "FPATH = \"../../data/sampling_results/LongRun/\"\n",
    "eventp = \"hc-113.hdf5\"\n",
    "event_number = 113"
   ]
  },
  {
   "cell_type": "code",
   "execution_count": 14,
   "metadata": {},
   "outputs": [
    {
     "name": "stderr",
     "output_type": "stream",
     "text": [
      "┌ Info: Initializing new RNG of type Random123.Philox4x{UInt64,10}\n",
      "└ @ BAT /user/.julia/packages/BAT/kyKKZ/src/algotypes/bat_default.jl:44\n",
      "┌ Info: Using sampling algorithm OrderedResampling()\n",
      "└ @ BAT /user/.julia/packages/BAT/kyKKZ/src/algotypes/bat_default.jl:44\n"
     ]
    }
   ],
   "source": [
    "outp_tmp = bat_read(FPATH*eventp) \n",
    "smpl_2_3 = varshape(prior).(outp_tmp)\n",
    "smpl_flat_2_3 = bat_sample(smpl_2_3, length(smpl_2_3)).result\n",
    "smpl_flat_2_3 = flatview(unshaped.(smpl_flat_2_3.v));"
   ]
  },
  {
   "cell_type": "code",
   "execution_count": null,
   "metadata": {},
   "outputs": [],
   "source": [
    "conv_mat = load(\"../../data/experiment/dataset_2/m2/conv-matrix-upd-1.jld2\")\n",
    "\n",
    "conv_matrices = (\n",
    "    cam_1 = conv_mat[\"cam_1\"],\n",
    "    cam_2 = conv_mat[\"cam_2\"],\n",
    "    cam_3 = conv_mat[\"cam_3\"],\n",
    "    cam_4 = conv_mat[\"cam_4\"], \n",
    ") \n",
    "\n",
    "images = load(\"../../data/experiment/dataset_2/m2/images-satur.jld2\");\n",
    "\n",
    "event = (\n",
    "    cam_1 = images[\"cam_1\"][event_number,:,:],\n",
    "    cam_2 = images[\"cam_2\"][event_number,:,:],\n",
    "    cam_3 = images[\"cam_3\"][event_number,:,:],\n",
    "    cam_4 = images[\"cam_4\"][event_number,:,:],\n",
    "    population = images[\"charge\"][event_number,:][1],\n",
    ");\n"
   ]
  },
  {
   "cell_type": "code",
   "execution_count": null,
   "metadata": {},
   "outputs": [],
   "source": [
    "images = load(\"../../data/experiment/dataset_2/m2/images.jld2\");\n",
    "\n",
    "event_nt = (\n",
    "    cam_1 = images[\"cam_1\"][event_number,:,:],\n",
    "    cam_2 = images[\"cam_2\"][event_number,:,:],\n",
    "    cam_3 = images[\"cam_3\"][event_number,:,:],\n",
    "    cam_4 = images[\"cam_4\"][event_number,:,:],\n",
    "    population = images[\"charge\"][event_number,:][1],\n",
    ");"
   ]
  },
  {
   "cell_type": "code",
   "execution_count": null,
   "metadata": {},
   "outputs": [],
   "source": [
    "function eval_conv(conv_matrix, ind)\n",
    "    ind = convert.(Int64, ind)\n",
    "    y_tmp = exp.(conv_matrix[:, ind[1]+1])\n",
    "    for ind_tmp in ind[2:end]\n",
    "        y_tmp = conv(y_tmp, exp.(conv_matrix[:, ind_tmp+1]))\n",
    "    end\n",
    "    \n",
    "    prepend!(y_tmp, repeat([0], length(ind)-1))\n",
    "    \n",
    "    y_tmp = y_tmp .- minimum(y_tmp)\n",
    "    y_tmp = y_tmp ./ sum(y_tmp)\n",
    "end\n",
    "\n",
    "function eval_conv_is(ind)\n",
    "    \n",
    "    mue = sum(ind)\n",
    "    \n",
    "    sigma = sqrt(sum((2.0 .* sqrt.(ind)).^2))\n",
    "\n",
    "    return truncated(Normal(mue, sigma), 0, Inf)\n",
    "end"
   ]
  },
  {
   "cell_type": "code",
   "execution_count": null,
   "metadata": {},
   "outputs": [],
   "source": [
    "amp_coeff = 1.15\n",
    "\n",
    "median_params = median(smpl_2_3)[1]\n",
    "median_event = generate_event(median_params, \n",
    "    event_nt.population, conv_matrices; \n",
    "    inc_noise=false, \n",
    "    size=[size(event_nt.cam_1), size(event_nt.cam_2), size(event_nt.cam_3), size(event_nt.cam_4)], \n",
    "    include_satur=false)\n",
    "\n",
    "\n",
    "fig, ax = plt.subplots(4,2, figsize=(12,8))\n",
    "fig.subplots_adjust(hspace=0.23, wspace=0.05)\n",
    "\n",
    "\n",
    "for i in 1:4 \n",
    "    ycounts_nt = [sum(event_nt[i], dims=1)...]\n",
    "    ycounts_tr = [sum(event[i], dims=1)...]\n",
    "    median_sum = [sum(median_event[i], dims=1)...]\n",
    "    \n",
    "#     fluct = [[sum(j[i], dims=1)...] for j in multiple_events]\n",
    "#     fluct = hcat(fluct...)\n",
    "#     fluct_up = [quantile(a, FrequencyWeights(weights_tmp), 0.999, ) for a in eachrow(fluct)] .- median_sum\n",
    "#     fluct_down = median_sum .- [quantile(a, 0.001) for a in eachrow(fluct)] \n",
    "    \n",
    "    xedges = 1:length(ycounts_tr)\n",
    "\n",
    "    ax[i,1].step(xedges, ycounts_nt, color=\"darkgray\", where=\"mid\", zorder=0)\n",
    "    ax[i,1].fill_between(xedges, ycounts_tr, step=\"mid\", color=\"darkgray\", alpha=1)\n",
    "    \n",
    "    ax[i,1].scatter(xedges, median_sum, marker = \"_\", color=\"red\", s=20)\n",
    "#     ax[i,1].errorbar(xedges, median_sum, yerr=[fluct_down, fluct_up], fmt=\"_\", color=\"red\", ecolor=\"red\",  capthick=1, capsize=0, linewidth=1)\n",
    "    \n",
    "    ax[i,1].set_ylim(0, amp_coeff*maximum(ycounts_nt))\n",
    "    ax[i,1].set_xlim(minimum(xedges), maximum(xedges))\n",
    "    \n",
    "    ycounts_nt = [sum(event_nt[i], dims=2)...]\n",
    "    ycounts_tr = [sum(event[i], dims=2)...]\n",
    "    median_sum = [sum(median_event[i], dims=2)...]\n",
    "    \n",
    "#     fluct = [[sum(j[i], dims=2)...] for j in multiple_events]\n",
    "#     fluct = hcat(fluct...)\n",
    "#     fluct_up = [quantile(a, FrequencyWeights(weights_tmp), 0.999, ) for a in eachrow(fluct)] .- median_sum\n",
    "#     fluct_down = median_sum .- [quantile(a, 0.001) for a in eachrow(fluct)] \n",
    "    \n",
    "    xedges = 1:length(ycounts_tr)\n",
    "\n",
    "    ax[i,2].step(xedges, ycounts_nt, color=\"darkgray\", where=\"mid\", zorder=0)\n",
    "    ax[i,2].fill_between(xedges, ycounts_tr, step=\"mid\", color=\"darkgray\", alpha=1)\n",
    "    \n",
    "    ax[i,2].scatter(xedges, median_sum, marker = \"_\", color=\"red\", s=20)\n",
    "#     ax[i,2].errorbar(xedges, median_sum, yerr=[fluct_down, fluct_up], fmt=\"_\", color=\"red\", ecolor=\"red\",  capthick=1, capsize=0, linewidth=1)\n",
    "    \n",
    "    ax[i,2].set_ylim(0, amp_coeff*maximum(ycounts_nt))\n",
    "    ax[i,2].set_xlim(minimum(xedges), maximum(xedges))\n",
    "    \n",
    "    ax[i,1].set_yticks([])\n",
    "    ax[i,2].set_yticks([])\n",
    "end\n",
    "\n",
    "ax[4,1].set_xlabel(\"x [pixel index]\")\n",
    "ax[4,2].set_xlabel(\"y [pixel index]\")\n",
    "\n",
    "ax[1,1].set_ylabel(\"Cam. #1\")\n",
    "ax[2,1].set_ylabel(\"Cam. #2\")\n",
    "ax[3,1].set_ylabel(\"Cam. #3\")\n",
    "ax[4,1].set_ylabel(\"Cam. #4\")\n",
    "\n",
    "fig.text(0.08, 0.5, \"Integrated Light Intensity [a.u.]\", va=\"center\", rotation=\"vertical\")"
   ]
  },
  {
   "cell_type": "code",
   "execution_count": null,
   "metadata": {},
   "outputs": [],
   "source": [
    "amp_coeff = 1.15\n",
    "alpha_1 = 0.005\n",
    "alpha_2 = 0.995\n",
    "\n",
    "median_params = median(smpl_2_3)[1]\n",
    "median_event = generate_event(median_params, \n",
    "    event_nt.population, conv_matrices; \n",
    "    inc_noise=false, \n",
    "    size=[size(event_nt.cam_1), size(event_nt.cam_2), size(event_nt.cam_3), size(event_nt.cam_4)], \n",
    "    include_satur=false)\n",
    "\n",
    "\n",
    "fig, ax = plt.subplots(4,2, figsize=(12,8))\n",
    "fig.subplots_adjust(hspace=0.23, wspace=0.05)\n",
    "\n",
    "\n",
    "for i in 1:4 \n",
    "    ycounts_nt = [sum(event_nt[i], dims=1)...]\n",
    "    ycounts_tr = [sum(event[i], dims=1)...]\n",
    "    median_sum = [sum(median_event[i], dims=1)...]\n",
    "    \n",
    "    xedges = 1:length(ycounts_tr)\n",
    "\n",
    "    ax[i,1].step(xedges, ycounts_nt, color=\"darkgray\", where=\"mid\", zorder=0)\n",
    "    ax[i,1].fill_between(xedges, ycounts_tr, step=\"mid\", color=\"darkgray\", alpha=1)\n",
    "    \n",
    "    if i != 4\n",
    "        fluct = [eval_conv(conv_matrices[i], j) for j in eachcol(median_event[i]) ]\n",
    "        fluct_up = [argmin(abs.(cumsum(j) .- alpha_2)) for j in fluct] .- median_sum\n",
    "        fluct_down = median_sum .- [argmin(abs.(cumsum(j) .- alpha_1)) for j in fluct] \n",
    "    else\n",
    "        fluct = [eval_conv_is(j) for j in eachcol(median_event[i]) ]\n",
    "        fluct_up = [quantile(j, alpha_2) for j in fluct] .- median_sum\n",
    "        fluct_down = median_sum .- [quantile(j, alpha_1) for j in fluct]\n",
    "    end\n",
    "    \n",
    "    ax[i,1].errorbar(xedges, median_sum, yerr=[fluct_down, fluct_up], ms=2.2, fmt=\".\", color=\"darkblue\", ecolor=\"red\",  capthick=0.5, capsize=1.5, linewidth=0.5)\n",
    "    \n",
    "    ax[i,1].set_ylim(0, amp_coeff*maximum(ycounts_nt))\n",
    "    ax[i,1].set_xlim(minimum(xedges), maximum(xedges))\n",
    "    \n",
    "    ycounts_nt = [sum(event_nt[i], dims=2)...]\n",
    "    ycounts_tr = [sum(event[i], dims=2)...]\n",
    "    median_sum = [sum(median_event[i], dims=2)...]\n",
    "    \n",
    "    xedges = 1:length(ycounts_tr)\n",
    "\n",
    "    ax[i,2].step(xedges, ycounts_nt, color=\"darkgray\", where=\"mid\", zorder=0)\n",
    "    ax[i,2].fill_between(xedges, ycounts_tr, step=\"mid\", color=\"darkgray\", alpha=1)\n",
    "    \n",
    "    if i != 4\n",
    "        fluct = [eval_conv(conv_matrices[i], j) for j in eachrow(median_event[i]) ]\n",
    "        fluct_up = [argmin(abs.(cumsum(j) .- alpha_2)) for j in fluct] .- median_sum\n",
    "        fluct_down = median_sum .- [argmin(abs.(cumsum(j) .- alpha_1)) for j in fluct] \n",
    "    else\n",
    "        fluct = [eval_conv_is(j) for j in eachrow(median_event[i]) ]\n",
    "        fluct_up = [quantile(j, alpha_2) for j in fluct] .- median_sum\n",
    "        fluct_down = median_sum .- [quantile(j, alpha_1) for j in fluct]\n",
    "    end\n",
    "    \n",
    "    ax[i,2].errorbar(xedges, median_sum, yerr=[fluct_down, fluct_up], ms=2.2, fmt=\".\", color=\"darkblue\", ecolor=\"red\",  capthick=0.5, capsize=1.5, linewidth=0.5)\n",
    "    \n",
    "    ax[i,2].set_ylim(0, amp_coeff*maximum(ycounts_nt))\n",
    "    ax[i,2].set_xlim(minimum(xedges), maximum(xedges))\n",
    "    \n",
    "    ax[i,1].set_yticks([])\n",
    "    ax[i,2].set_yticks([])\n",
    "end\n",
    "\n",
    "ax[4,1].set_xlabel(\"x [pixel index]\")\n",
    "ax[4,2].set_xlabel(\"y [pixel index]\")\n",
    "\n",
    "ax[1,1].set_ylabel(\"Cam. #1\")\n",
    "ax[2,1].set_ylabel(\"Cam. #2\")\n",
    "ax[3,1].set_ylabel(\"Cam. #3\")\n",
    "ax[4,1].set_ylabel(\"Cam. #4\")\n",
    "\n",
    "fig.text(0.08, 0.5, \"Integrated Light Intensity [a.u.]\", va=\"center\", rotation=\"vertical\")"
   ]
  },
  {
   "cell_type": "code",
   "execution_count": null,
   "metadata": {},
   "outputs": [],
   "source": []
  }
 ],
 "metadata": {
  "kernelspec": {
   "display_name": "Julia 1.5.2",
   "language": "julia",
   "name": "julia-1.5"
  },
  "language_info": {
   "file_extension": ".jl",
   "mimetype": "application/julia",
   "name": "julia",
   "version": "1.5.2"
  }
 },
 "nbformat": 4,
 "nbformat_minor": 4
}
