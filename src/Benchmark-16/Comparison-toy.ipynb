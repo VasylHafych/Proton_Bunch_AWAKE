{
 "cells": [
  {
   "cell_type": "code",
   "execution_count": 2,
   "metadata": {},
   "outputs": [],
   "source": [
    "using JLD2\n",
    "using FileIO\n",
    "using PyPlot\n",
    "using Statistics\n",
    "using StatsBase \n",
    "using Distributions\n",
    "using LinearAlgebra\n",
    "import HDF5\n",
    "using BenchmarkTools"
   ]
  },
  {
   "cell_type": "code",
   "execution_count": 3,
   "metadata": {},
   "outputs": [],
   "source": [
    "using IntervalSets\n",
    "using Random, ArraysOfArrays\n",
    "using ValueShapes\n",
    "using Measurements\n",
    "using BenchmarkTools\n",
    "using DSP"
   ]
  },
  {
   "cell_type": "code",
   "execution_count": 4,
   "metadata": {},
   "outputs": [],
   "source": [
    "# using Revise\n",
    "using Random123\n",
    "using BAT "
   ]
  },
  {
   "cell_type": "code",
   "execution_count": 51,
   "metadata": {},
   "outputs": [],
   "source": [
    "# PRL\n",
    "\n",
    "SMALL_SIZE = 7\n",
    "MEDIUM_SIZE = 8\n",
    "BIGGER_SIZE = 9\n",
    "\n",
    "# plt.rc(\"font\", family=\"serif\",) #serif=\"Times\"\n",
    "# plt.rc(\"font\", family= \"Times New Roman\")\n",
    "plt.rc(\"font\", family=\"serif\", serif=\"Computer Modern\")\n",
    "plt.rc(\"font\", size=SMALL_SIZE)          # controls default text sizes\n",
    "plt.rc(\"axes\", titlesize=MEDIUM_SIZE)     # fontsize of the axes title\n",
    "plt.rc(\"axes\", labelsize=MEDIUM_SIZE)    # fontsize of the x and y labels\n",
    "plt.rc(\"xtick\", labelsize=SMALL_SIZE)    # fontsize of the tick labels\n",
    "plt.rc(\"ytick\", labelsize=SMALL_SIZE)    # fontsize of the tick labels\n",
    "plt.rc(\"legend\", fontsize=SMALL_SIZE)    # legend fontsize\n",
    "plt.rc(\"figure\", titlesize=BIGGER_SIZE)  # fontsize of the figure title\n",
    "plt.rc(\"text\", usetex=true)"
   ]
  },
  {
   "cell_type": "code",
   "execution_count": 68,
   "metadata": {},
   "outputs": [],
   "source": [
    "# Thesis: \n",
    "\n",
    "SMALL_SIZE = 10\n",
    "MEDIUM_SIZE = 10\n",
    "BIGGER_SIZE = 10\n",
    "\n",
    "# plt.rc(\"font\", family=\"serif\",) #serif=\"Times\"\n",
    "# plt.rc(\"font\", family= \"Times New Roman\")\n",
    "plt.rc(\"font\", family=\"serif\", serif=\"Computer Modern\")\n",
    "plt.rc(\"font\", size=SMALL_SIZE)          # controls default text sizes\n",
    "plt.rc(\"axes\", titlesize=MEDIUM_SIZE)     # fontsize of the axes title\n",
    "plt.rc(\"axes\", labelsize=MEDIUM_SIZE)    # fontsize of the x and y labels\n",
    "plt.rc(\"xtick\", labelsize=SMALL_SIZE)    # fontsize of the tick labels\n",
    "plt.rc(\"ytick\", labelsize=SMALL_SIZE)    # fontsize of the tick labels\n",
    "plt.rc(\"legend\", fontsize=SMALL_SIZE)    # legend fontsize\n",
    "plt.rc(\"figure\", titlesize=BIGGER_SIZE)  # fontsize of the figure title\n",
    "plt.rc(\"text\", usetex=true)"
   ]
  },
  {
   "cell_type": "code",
   "execution_count": 5,
   "metadata": {},
   "outputs": [],
   "source": [
    "β1= 0.015\n",
    "β2 = 0.0077\n",
    "β3 = 0.0058 \n",
    "\n",
    "prior = NamedTupleDist(\n",
    "        tr_size = [0.13 .. 0.17, 0.13 .. 0.17],\n",
    "        tr_size_2 = [0.08 .. 0.11, 0.08 .. 0.11],\n",
    "        ang_spr = [5 .. 7, 5 .. 7],\n",
    "        ang_spr_2 = [2 .. 4, 2 .. 4],\n",
    "        mixt_pow =  0.60 .. 1.0 ,\n",
    "        waist = [2.8 .. 3.3],\n",
    "        waist_2 = [2.8 .. 3.3], # 11\n",
    "        algmx = [23.0 .. 48, 23.0 .. 48.0, 10.0 .. 30.0, 23.0 .. 48.0],\n",
    "        algmy = [23.0 .. 48, 23.0 .. 48.0, 10.0 .. 30.0, 23.0 .. 48.0],\n",
    "        cam4_ped = 4.0 .. 40.0,\n",
    "        cam4_light_fluct = 1.0 .. 3.0,\n",
    "        cam4_light_amp = 1.6 .. 9.9,\n",
    "        resx = [1, 1, 1], \n",
    "        resy = [1, 1, 1], \n",
    "        cam4_resx = 2.0 .. 4.00, \n",
    "        cam4_resy = 2.0 .. 4.00, \n",
    "        psx = [27.1, 21.6, 114.0], \n",
    "        psy = [30.5, 23.4, 125.0], \n",
    "        cam4_psx = 121.8, \n",
    "        cam4_psy = 120.0, \n",
    "        light_amp  = [1.0 .. 13.0 , 1.0 .. 17.0, 1.0 .. 5.0], # 1.0 .. 5.0\n",
    "        s_cam = [0.0, 1.478, 15.026, 23.115]\n",
    "    );"
   ]
  },
  {
   "cell_type": "code",
   "execution_count": 7,
   "metadata": {},
   "outputs": [],
   "source": [
    "samples_nt = bat_read(\"../../data/sampling_results/Benchmark-16/samples-simulated-nontruncated.hdf5\").result\n",
    "samples_nt = varshape(prior).(samples_nt);"
   ]
  },
  {
   "cell_type": "code",
   "execution_count": 8,
   "metadata": {},
   "outputs": [],
   "source": [
    "samples_t = bat_read(\"../../data/sampling_results/Benchmark-16/samples-simulated-truncated.hdf5\").result\n",
    "samples_t = varshape(prior).(samples_t);"
   ]
  },
  {
   "cell_type": "code",
   "execution_count": 9,
   "metadata": {},
   "outputs": [
    {
     "name": "stderr",
     "output_type": "stream",
     "text": [
      "┌ Info: Initializing new RNG of type Philox4x{UInt64, 10}\n",
      "└ @ BAT /user/.julia/packages/BAT/8MnfJ/src/algotypes/bat_default.jl:44\n"
     ]
    }
   ],
   "source": [
    "samples_nt = bat_sample(samples_nt, OrderedResampling(nsamples=10^4)).result;"
   ]
  },
  {
   "cell_type": "code",
   "execution_count": 10,
   "metadata": {},
   "outputs": [
    {
     "name": "stderr",
     "output_type": "stream",
     "text": [
      "┌ Info: Initializing new RNG of type Philox4x{UInt64, 10}\n",
      "└ @ BAT /user/.julia/packages/BAT/8MnfJ/src/algotypes/bat_default.jl:44\n"
     ]
    }
   ],
   "source": [
    "samples_t = bat_sample(samples_t, OrderedResampling(nsamples=10^4)).result;"
   ]
  },
  {
   "cell_type": "code",
   "execution_count": 20,
   "metadata": {},
   "outputs": [],
   "source": [
    "labels = [\n",
    "    L\"\\sigma_{c,x}\", \n",
    "    L\"\\sigma_{c,y}\", \n",
    "    L\"\\sigma_{h,x}\", \n",
    "    L\"\\sigma_{h,y}\", \n",
    "    L\"\\sigma'_{c,x}\", \n",
    "    L\"\\sigma'_{c,y}\", \n",
    "    L\"\\sigma'_{h,x}\", \n",
    "    L\"\\sigma'_{h,y}\", \n",
    "    L\"\\alpha\",\n",
    "    L\"s_{w,c}\",\n",
    "    L\"s_{w,h}\",\n",
    "    L\"\\mu_{1,x}\", \n",
    "    L\"\\mu_{2,x}\",\n",
    "    L\"\\mu_{3,x}\", \n",
    "    L\"\\mu_{4,x}\",\n",
    "    L\"\\mu_{1,y}\", \n",
    "    L\"\\mu_{2,y}\",\n",
    "    L\"\\mu_{3,y}\", \n",
    "    L\"\\mu_{4,y}\",\n",
    "    L\"p_4\", \n",
    "    L\"f_4\", \n",
    "    L\"i_4\", \n",
    "    L\"\\tilde{\\sigma}_{4,x}\", \n",
    "    L\"\\tilde{\\sigma}_{4,y}\",\n",
    "    L\"i_1\", \n",
    "    L\"i_2\", \n",
    "    L\"i_3\"\n",
    "];\n",
    "\n",
    "ind_sorted = [3,4,1,2,7,8,5,6,9,11,10,12,13,14,15,16,17,18,18,20,21,22,23,24,25,26,27,];\n",
    "\n",
    "truth = [0.15, 0.15, 0.10, 0.10, 6.0, 6.0, 3.0, 3.0, 0.7, 3.15, 2.9, 36.0, 37.0, 19.0, 33.0, 33.0, 34.0, 21.0, 35.0, 26.0, 1.5, 8.9, 3, 3, 8.5, 11.1, 2.5];\n",
    "\n",
    "ind_sorted = [3,4,1,2,7,8,5,6,9,11,10,12,13,14,15,16,17,18,18,20,21,22,23,24,25,26,27,];"
   ]
  },
  {
   "cell_type": "code",
   "execution_count": 29,
   "metadata": {},
   "outputs": [],
   "source": [
    "samples_flat_nt = flatview(unshaped.(samples_nt.v)) ./ truth;\n",
    "samples_flat_t = flatview(unshaped.(samples_t.v)) ./ truth;"
   ]
  },
  {
   "cell_type": "code",
   "execution_count": 48,
   "metadata": {},
   "outputs": [],
   "source": [
    "data_nt = [i for i in eachrow(samples_flat_nt)];\n",
    "quant_nt = [(0.05, 0.95) for i in eachrow(samples_flat_nt)];"
   ]
  },
  {
   "cell_type": "code",
   "execution_count": 49,
   "metadata": {},
   "outputs": [],
   "source": [
    "data_t = [i for i in eachrow(samples_flat_t)];\n",
    "quant_t = [(0.05, 0.95) for i in eachrow(samples_flat_t)];"
   ]
  },
  {
   "cell_type": "code",
   "execution_count": 71,
   "metadata": {},
   "outputs": [
    {
     "data": {
      "image/png": "[encoded data removed]",
      "text/plain": [
       "Figure(PyObject <Figure size 442.922x273.741 with 1 Axes>)"
      ]
     },
     "metadata": {},
     "output_type": "display_data"
    }
   ],
   "source": [
    "fig, ax = plt.subplots(1,1, figsize=(4.429223744292238, 2.737410817750676))\n",
    "\n",
    "ax.axhline(1.0, linestyle=\"-\", lw=0.8, color=\"red\", alpha=1.0, zorder=0)\n",
    "\n",
    "parts = ax.violinplot(data_nt[ind_sorted], widths = 1.0, vert=true, showmeans=true, showextrema=false, quantiles=quant_nt[ind_sorted])\n",
    "\n",
    "parts = ax.violinplot(data_t[ind_sorted], widths = 1.0, vert=true, showmeans=true, showextrema=false, quantiles=quant_t[ind_sorted],)\n",
    "\n",
    "ax.plot([-10, -20], color=:C0, label=\"w/o truncation (90\\\\%)\")\n",
    "ax.plot([-10, -20], color=:C1, label=\"w/  truncation (90\\\\%)\")\n",
    "\n",
    "ax.set_xlim(0.0, length(data)+1)\n",
    "\n",
    "ax.set_xticks(collect(Base.OneTo(length(data))))\n",
    "ax.set_xticklabels(labels, rotation = 90, ha=\"center\")\n",
    "# ax.legend(loc=\"upper left\")\n",
    "ax.set_ylabel(\"Ratio to Truth\")\n",
    "\n",
    "ax.legend(framealpha=0.0, loc=\"lower left\")\n",
    "# ax.set_title(\"Simulated Event\")\n",
    "ax.set_ylim(0.9, 1.10)\n",
    "\n",
    "# fig.savefig(\"../../plots-prl/toy-violin-truncation.pdf\", bbox_inches = \"tight\")\n",
    "\n",
    "# fig.savefig(\"../../plots/toy-violin-truncation.pdf\", bbox_inches = \"tight\")"
   ]
  },
  {
   "cell_type": "code",
   "execution_count": null,
   "metadata": {},
   "outputs": [],
   "source": []
  },
  {
   "cell_type": "code",
   "execution_count": null,
   "metadata": {},
   "outputs": [],
   "source": []
  }
 ],
 "metadata": {
  "kernelspec": {
   "display_name": "Julia 1.6.0-rc1",
   "language": "julia",
   "name": "julia-1.6"
  },
  "language_info": {
   "file_extension": ".jl",
   "mimetype": "application/julia",
   "name": "julia",
   "version": "1.6.1"
  }
 },
 "nbformat": 4,
 "nbformat_minor": 4
}
