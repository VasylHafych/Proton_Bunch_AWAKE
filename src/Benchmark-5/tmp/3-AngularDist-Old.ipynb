{
 "cells": [
  {
   "cell_type": "code",
   "execution_count": 1,
   "metadata": {},
   "outputs": [],
   "source": [
    "using JLD2\n",
    "using FileIO\n",
    "using PyPlot\n",
    "using Statistics\n",
    "using StatsBase \n",
    "using Distributions\n",
    "using LinearAlgebra\n",
    "using HDF5\n",
    "using KernelDensity\n",
    "using IntervalSets\n",
    "using Random, ArraysOfArrays\n",
    "using ValueShapes\n",
    "using Measurements\n",
    "using BAT\n",
    "using DSP\n",
    "using ForwardDiff"
   ]
  },
  {
   "cell_type": "code",
   "execution_count": 2,
   "metadata": {},
   "outputs": [
    {
     "data": {
      "text/plain": [
       "plot_projections (generic function with 1 method)"
      ]
     },
     "execution_count": 2,
     "metadata": {},
     "output_type": "execute_result"
    }
   ],
   "source": [
    "include(\"../utill.jl\")"
   ]
  },
  {
   "cell_type": "code",
   "execution_count": 3,
   "metadata": {},
   "outputs": [
    {
     "data": {
      "text/plain": [
       "cov_matr (generic function with 1 method)"
      ]
     },
     "execution_count": 3,
     "metadata": {},
     "output_type": "execute_result"
    }
   ],
   "source": [
    "FPATH = \"../../data/sampling_results/Benchmark-5/\"\n",
    "\n",
    "function marg_mean(name)\n",
    "    smpl_tmp = bat_read(FPATH*name)\n",
    "    smpl_tmp = varshape(prior).(smpl_tmp)\n",
    "    smpl_tmp = unshaped(mean(smpl_tmp))\n",
    "    return smpl_tmp\n",
    "end\n",
    "\n",
    "function marg_mean_shaped(name)\n",
    "    smpl_tmp = bat_read(FPATH*name)\n",
    "    smpl_tmp = varshape(prior).(smpl_tmp)\n",
    "    smpl_tmp = mean(smpl_tmp)\n",
    "    return smpl_tmp\n",
    "end\n",
    "\n",
    "function marg_std(name)\n",
    "    smpl_tmp = bat_read(FPATH*name)\n",
    "    smpl_tmp = varshape(prior).(smpl_tmp)\n",
    "    smpl_tmp = unshaped(std(smpl_tmp))\n",
    "    return smpl_tmp\n",
    "end\n",
    "\n",
    "function cov_matr(name)\n",
    "    smpl_tmp = bat_read(FPATH*name)\n",
    "    smp_fl, w = flatview(unshaped.(smpl_tmp.v)), smpl_tmp.weight\n",
    "    smp_fl = smp_fl ./ std(smp_fl, FrequencyWeights(w), 2)\n",
    "    smp_fl = smp_fl .- mean(smp_fl, FrequencyWeights(w), dims=2)\n",
    "    cov_m = cov(smp_fl, FrequencyWeights(w), 2)\n",
    "    return cov_m\n",
    "end"
   ]
  },
  {
   "cell_type": "code",
   "execution_count": 4,
   "metadata": {},
   "outputs": [],
   "source": [
    "β1 = 0.015\n",
    "β2 = 0.0077 # (0.8/30/sqrt(12))\n",
    "β3 = 0.0058 # (0.8/40/sqrt(12))\n",
    "\n",
    "# flat prior for the pixel size\n",
    "prior = NamedTupleDist(\n",
    "        tr_size = [truncated(Normal(0.2, 0.04), 0.06, 0.19), truncated(Normal(0.2, 0.04), 0.06, 0.19)],\n",
    "        tr_size_2 = [truncated(Normal(0.2, 0.04), 0.06, 0.19), truncated(Normal(0.2, 0.04), 0.06, 0.19)],\n",
    "        ang_spr = [truncated(Normal(4.0, 2.0), 4.0, 7.0), truncated(Normal(4.0, 2.0), 4.0, 7.0)],\n",
    "        ang_spr_2 = [truncated(Normal(4.0, 2.0), 1.0, 4.0), truncated(Normal(4.0, 2.0), 1.0, 4.0)],\n",
    "        mixt_pow =  0.50 .. 1.0 ,\n",
    "        waist = [truncated(Normal(2.9, 0.03), 2.65, 3.5)],\n",
    "        waist_2 = [truncated(Normal(2.9, 0.03), 2.65, 3.5)], # 11\n",
    "        algmx = [23.0 .. 48, 23.0 .. 48.0, 10.0 .. 30.0, 23.0 .. 48.0],\n",
    "        algmy = [23.0 .. 48, 23.0 .. 48.0, 10.0 .. 30.0, 23.0 .. 48.0],\n",
    "        cam4_ped = 4.0 .. 40.0,\n",
    "        cam4_light_fluct = 1.0 .. 3.0,\n",
    "        cam4_light_amp = 1.6 .. 9.9, \n",
    "        resx = [1, 1, 1], # 23, 24, 25, \n",
    "        resy = [1, 1, 1], # 26,27, 28, \n",
    "        cam4_resx = truncated(Normal(3, 1.5), 0, Inf),\n",
    "        cam4_resy = truncated(Normal(3, 1.5), 0, Inf), \n",
    "        psx = [27.1, 21.6, 114.0], # 31, 32, 33\n",
    "        psy = [30.5, 23.4, 125.0], # 34, 35, 36\n",
    "        cam4_psx = 121.8, # 37\n",
    "        cam4_psy = 120.0, # 38\n",
    "        light_amp  = [1.0 .. 13.0 , 1.0 .. 17.0, 1.0 .. 5.0], # 1.0 .. 5.0\n",
    "        s_cam = [0.0, 1.478, 15.026, 23.1150],\n",
    "    )\n",
    "\n",
    "\n",
    "labels = [L\"\\sigma_x\", L\"\\sigma_y\", L\"\\sigma_x\", L\"\\sigma_y\", L\"\\sigma'_x\", L\"\\sigma'_y\", L\"\\sigma'_x\", L\"\\sigma'_y\", L\"\\alpha\", L\"s\", L\"s\", \n",
    "    L\"\\mu_x\", L\"\\mu_x\", L\"\\mu_x\", L\"\\mu_x\", L\"\\mu_y\", L\"\\mu_y\", L\"\\mu_y\", L\"\\mu_y\", \n",
    "    \"ped\", \"lf\", \"a\", \"res x\", \"res y\", \"la\", \"la\", \"la\"];"
   ]
  },
  {
   "cell_type": "code",
   "execution_count": 6,
   "metadata": {},
   "outputs": [
    {
     "name": "stdout",
     "output_type": "stream",
     "text": [
      "(mode(smpl_tmp))[1] = (tr_size = [0.09022016247626924, 0.13278027377370621], tr_size_2 = [0.13087542193714233, 0.15158061149510935], ang_spr = [6.227488514589307, 5.755259786375036], ang_spr_2 = [2.6057915179686617, 2.397589287133589], mixt_pow = 0.666006673110822, waist = [3.1425423563421417], waist_2 = [2.8738232953734717], algmx = [31.741703234746318, 32.22277650028469, 21.291812547178893, 35.2540699308112], algmy = [36.930260443041675, 37.40757355716955, 20.25845816811686, 33.90824607487838], cam4_ped = 27.57169693775633, cam4_light_fluct = 1.365633716171961, cam4_light_amp = 8.846914204881422, resx = [1, 1, 1], resy = [1, 1, 1], cam4_resx = 4.827560766404559, cam4_resy = 4.7854307298949275, psx = [27.1, 21.6, 114.0], psy = [30.5, 23.4, 125.0], cam4_psx = 121.8, cam4_psy = 120.0, light_amp = [8.532172007081927, 11.430580961050259, 2.6946677414758087], s_cam = [0.0, 1.478, 15.026, 23.115])\n"
     ]
    },
    {
     "data": {
      "text/plain": [
       "(tr_size = [0.09022016247626924, 0.13278027377370621], tr_size_2 = [0.13087542193714233, 0.15158061149510935], ang_spr = [6.227488514589307, 5.755259786375036], ang_spr_2 = [2.6057915179686617, 2.397589287133589], mixt_pow = 0.666006673110822, waist = [3.1425423563421417], waist_2 = [2.8738232953734717], algmx = [31.741703234746318, 32.22277650028469, 21.291812547178893, 35.2540699308112], algmy = [36.930260443041675, 37.40757355716955, 20.25845816811686, 33.90824607487838], cam4_ped = 27.57169693775633, cam4_light_fluct = 1.365633716171961, cam4_light_amp = 8.846914204881422, resx = [1, 1, 1], resy = [1, 1, 1], cam4_resx = 4.827560766404559, cam4_resy = 4.7854307298949275, psx = [27.1, 21.6, 114.0], psy = [30.5, 23.4, 125.0], cam4_psx = 121.8, cam4_psy = 120.0, light_amp = [8.532172007081927, 11.430580961050259, 2.6946677414758087], s_cam = [0.0, 1.478, 15.026, 23.115])"
      ]
     },
     "execution_count": 6,
     "metadata": {},
     "output_type": "execute_result"
    }
   ],
   "source": [
    "smpl_tmp = bat_read(FPATH*\"hc-2.hdf5\")\n",
    "smpl_tmp = varshape(prior).(smpl_tmp)\n",
    "@show mode(smpl_tmp)[1]"
   ]
  },
  {
   "cell_type": "code",
   "execution_count": 7,
   "metadata": {},
   "outputs": [],
   "source": [
    "filenames = readdir(\"../../data/sampling_results/Benchmark-5/\")\n",
    "images = load(\"../../data/experiment/dataset_2/m2/images-satur.jld2\")\n",
    "hc_mask = [i[1:3] == \"hc-\" for i in filenames]\n",
    "hc_fnames = filenames[hc_mask]\n",
    "hc_eind = parse.(Int64, [i[4:end-5] for i in hc_fnames])\n",
    "hc_charge = images[\"charge\"][hc_eind]\n",
    "hc_runind = images[\"ev_ind\"][hc_eind];"
   ]
  },
  {
   "cell_type": "code",
   "execution_count": 8,
   "metadata": {},
   "outputs": [],
   "source": [
    "filenames = readdir(\"../../data/sampling_results/Benchmark-5/\")\n",
    "images = load(\"../../data/experiment/dataset_2/m1/images-satur.jld2\")\n",
    "lc_mask = [i[1:3] == \"lc-\" for i in filenames]\n",
    "lc_fnames = filenames[lc_mask]\n",
    "lc_eind = parse.(Int64, [i[4:end-5] for i in lc_fnames])\n",
    "lc_charge = images[\"charge\"][lc_eind]\n",
    "lc_runind = images[\"ev_ind\"][lc_eind];"
   ]
  },
  {
   "cell_type": "code",
   "execution_count": 9,
   "metadata": {},
   "outputs": [],
   "source": [
    "fnames = [lc_fnames; hc_fnames]\n",
    "charges = [lc_charge; hc_charge]\n",
    "runind = [lc_runind ; hc_runind]\n",
    "charges_n = charges ./ maximum(charges)\n",
    "runind_n = runind ./ maximum(runind);"
   ]
  },
  {
   "cell_type": "code",
   "execution_count": 10,
   "metadata": {},
   "outputs": [],
   "source": [
    "msklc = 1:length(lc_fnames)\n",
    "mskhc = length(lc_fnames)+1:length(lc_fnames)+length(hc_fnames);"
   ]
  },
  {
   "cell_type": "code",
   "execution_count": 11,
   "metadata": {},
   "outputs": [],
   "source": [
    "charges_n[sortperm(charges_n)] .= 1:length(charges_n)\n",
    "charges_n = charges_n ./ maximum(charges_n);"
   ]
  },
  {
   "cell_type": "code",
   "execution_count": null,
   "metadata": {},
   "outputs": [],
   "source": [
    "# mean_params =  [marg_mean(i) for i in fnames[mskhc]]\n",
    "# mean_matr = hcat(mean_params...);"
   ]
  },
  {
   "cell_type": "code",
   "execution_count": 12,
   "metadata": {},
   "outputs": [],
   "source": [
    "mean_params =  [marg_mean_shaped(i) for i in fnames];"
   ]
  },
  {
   "cell_type": "code",
   "execution_count": 27,
   "metadata": {},
   "outputs": [],
   "source": [
    "# using JLD2\n",
    "\n",
    "# tr_1_x = [i.tr_size[1] for i in mean_params]\n",
    "# tr_1_y = [i.tr_size[2] for i in mean_params]\n",
    "# tr_2_x = [i.tr_size_2[1] for i in mean_params]\n",
    "# tr_2_y = [i.tr_size_2[2] for i in mean_params]\n",
    "# as_1_x = [i.ang_spr[1] for i in mean_params]\n",
    "# as_1_y = [i.ang_spr[2] for i in mean_params]\n",
    "# as_2_x = [i.ang_spr_2[1] for i in mean_params]\n",
    "# as_2_y = [i.ang_spr_2[2] for i in mean_params]\n",
    "# w_1 = [i.waist[1] for i in mean_params]\n",
    "# w_2 = [i.waist_2[1] for i in mean_params]\n",
    "\n",
    "# summary_data = (\n",
    "#     tr_1_x=tr_1_x, \n",
    "#     tr_1_y=tr_1_y, \n",
    "#     tr_2_x=tr_2_x, \n",
    "#     tr_2_y=tr_2_y, \n",
    "#     as_1_x=as_1_x, \n",
    "#     as_1_y=as_1_y, \n",
    "#     as_2_x=as_2_x, \n",
    "#     as_2_y=as_2_y, \n",
    "#     w_1=w_1, \n",
    "#     w_2=w_2, \n",
    "#     μ_x = data.x_event, \n",
    "#     μ_y = data.y_event,\n",
    "#     charge = charges,\n",
    "#     run_id = runind\n",
    "# );\n",
    "\n",
    "# @save \"../../data/sampling_results/Benchmark-5/alignment/mean-params-mcmc.jld\" summary_data"
   ]
  },
  {
   "cell_type": "code",
   "execution_count": 28,
   "metadata": {},
   "outputs": [],
   "source": []
  },
  {
   "cell_type": "code",
   "execution_count": 23,
   "metadata": {},
   "outputs": [],
   "source": [
    "x_event = Array{Float64,1}[]\n",
    "y_event = Array{Float64,1}[]\n",
    "\n",
    "n_events = 5 #length(mskhc)\n",
    "n_cameras = 4\n",
    "\n",
    "for i in eachindex(mean_params) #[mskhc]\n",
    "    push!(x_event, mean_params[i].algmx .* [mean_params[i].psx ; mean_params[i].cam4_psx] .* 10^-3)\n",
    "    push!(y_event, mean_params[i].algmy .* [mean_params[i].psy ; mean_params[i].cam4_psy] .* 10^-3)\n",
    "end\n",
    "\n",
    "data = (x_event = x_event, y_event = y_event, s_cam = mean_params[1].s_cam[1:4]);"
   ]
  },
  {
   "cell_type": "code",
   "execution_count": 24,
   "metadata": {},
   "outputs": [
    {
     "data": {
      "text/plain": [
       "66-element Array{Array{Float64,1},1}:\n",
       " [0.9082688603006076, 0.7373587740758002, 2.471069430467353, 4.340306979548877]\n",
       " [0.9791934233017083, 0.8028534071066775, 2.4116016496464585, 4.39326021558258]\n",
       " [0.8896746934461729, 0.7165939842039926, 2.3770187418827318, 4.428408711620615]\n",
       " [0.9048437809761471, 0.7411438732658683, 2.4326259313675007, 4.324289193397275]\n",
       " [0.9015534297206127, 0.7366067643303007, 2.4169165155408843, 4.387306854178396]\n",
       " [0.9552558022440436, 0.7856064521869628, 2.4649984739032216, 4.319950560416011]\n",
       " [0.9816945344800468, 0.8129904768856774, 2.4819890671440112, 4.278147579844197]\n",
       " [0.9714995964981143, 0.8031554386043136, 2.45130819599804, 4.327435954134791]\n",
       " [0.9738391566217356, 0.8036159599535283, 2.4784325781451506, 4.279547198271023]\n",
       " [0.8764057869276578, 0.7099204921465885, 2.4016152665177617, 4.360528574708276]\n",
       " [0.9015676452196713, 0.7243741007447652, 2.3953287157267975, 4.389414076184244]\n",
       " [0.9020488277779724, 0.7261307542548107, 2.3859462401638707, 4.382461842452983]\n",
       " [0.9067250995426688, 0.7364299266502582, 2.405354389449622, 4.345229557514736]\n",
       " ⋮\n",
       " [0.9160604320827461, 0.7484033210267903, 2.4478357390003374, 4.254205721064283]\n",
       " [0.9106064821374046, 0.737979351175188, 2.3941989726047286, 4.313957885336776]\n",
       " [0.9910916644683309, 0.8176382338823674, 2.4855826471353764, 4.268916835866652]\n",
       " [0.977010444578292, 0.8069418999021334, 2.4905660250019914, 4.25188146796615]\n",
       " [0.9413769978207293, 0.7805643963742195, 2.4437221464933327, 4.2464081600993735]\n",
       " [0.9490781704056908, 0.7857038758269965, 2.4778200308051592, 4.231708565092596]\n",
       " [0.91093618756545, 0.7459733097573089, 2.479986790090796, 4.264275746840081]\n",
       " [0.8816100959739954, 0.7138475383062332, 2.3739342057505297, 4.325123059122583]\n",
       " [0.9427644897249955, 0.7743594817046964, 2.410976606535522, 4.337555137113552]\n",
       " [0.9107971560128354, 0.7441831576656986, 2.436061505213887, 4.3018136192967775]\n",
       " [0.9655889679348669, 0.785723125590709, 2.350036160263774, 4.448319141511146]\n",
       " [0.9107716982391013, 0.7440944816871503, 2.425617717697811, 4.308306952541506]"
      ]
     },
     "execution_count": 24,
     "metadata": {},
     "output_type": "execute_result"
    }
   ],
   "source": [
    "data.x_event"
   ]
  },
  {
   "cell_type": "code",
   "execution_count": 18,
   "metadata": {},
   "outputs": [],
   "source": [
    "prior_ang = NamedTupleDist(\n",
    "    θ = [10^-20 .. 10^-4 for i in 1:n_events],\n",
    "    α = [0 .. 2*pi  for i in 1:n_events],\n",
    "    x_center = [-5 .. 5 for i in 1:n_events],\n",
    "    y_center = [-5 .. 5 for i in 1:n_events],\n",
    "    x0 = [-5 .. 5 for i in 1:n_cameras],\n",
    "    y0 = [-5 .. 5 for i in 1:n_cameras],\n",
    "    σ_x = [10^-11 .. 0.2 for i in 1:n_cameras],\n",
    "    σ_y = [10^-11 .. 0.2 for i in 1:n_cameras],\n",
    ");"
   ]
  },
  {
   "cell_type": "code",
   "execution_count": null,
   "metadata": {},
   "outputs": [],
   "source": [
    "function log_lik(; data = data, nevents = n_events)\n",
    "    \n",
    "    return params -> begin   \n",
    "        ll = 0.0\n",
    "        \n",
    "        for i in 1:nevents\n",
    "            x_expected = cos(params.α[i]).*tan(params.θ[i]).*(data.s_cam - 2.9).*10^3\n",
    "            y_expected = sin(params.α[i]).*tan(params.θ[i]).*(data.s_cam - 2.9).*10^3\n",
    "            \n",
    "            ll += sum(logpdf.(Normal.(data.x_event[i][1] .+ params.x0 .+ x_expected, params.σ_x), data.x_event[i][2:4]))\n",
    "            ll += sum(logpdf.(Normal.(data.y_event[i][1] .+ params.y0  .+ y_expected, params.σ_y), data.y_event[i][2:4]))\n",
    "        end\n",
    "        return LogDVal(ll)\n",
    "    end\n",
    "        \n",
    "end\n",
    "\n",
    "log_likelihood = log_lik()"
   ]
  },
  {
   "cell_type": "code",
   "execution_count": null,
   "metadata": {},
   "outputs": [],
   "source": [
    "posterior = PosteriorDensity(log_likelihood, prior_ang);"
   ]
  },
  {
   "cell_type": "code",
   "execution_count": null,
   "metadata": {},
   "outputs": [],
   "source": [
    "posterior_is = bat_transform(PriorToGaussian(), posterior, PriorSubstitution()).result\n",
    "\n",
    "iters = 60000\n",
    "iters_warmup = 1200\n",
    "chains = 5\n",
    "\n",
    "metric = BAT.DiagEuclideanMetric()\n",
    "integrator = BAT.LeapfrogIntegrator(0.0)\n",
    "\n",
    "proposal = BAT.NUTS(:MultinomialTS, :ClassicNoUTurn)\n",
    "# proposal = BAT.FixedTrajectoryLength()\n",
    "\n",
    "adaptor = BAT.StanHMCAdaptor(0.8, iters_warmup)\n",
    "# adaptor = BAT.StepSizeAdaptor()\n",
    "\n",
    "ahmc_sampler = HamiltonianMC(metric, ForwardDiff, integrator, proposal, adaptor);"
   ]
  },
  {
   "cell_type": "code",
   "execution_count": null,
   "metadata": {},
   "outputs": [],
   "source": [
    "@time samples_is = bat_sample(posterior_is, iters, MCMCSampling(sampler = ahmc_sampler, nchains = chains));"
   ]
  },
  {
   "cell_type": "code",
   "execution_count": null,
   "metadata": {},
   "outputs": [],
   "source": [
    "samples = samples_is.result;"
   ]
  },
  {
   "cell_type": "code",
   "execution_count": null,
   "metadata": {},
   "outputs": [],
   "source": [
    "trafo_is = trafoof(posterior_is.likelihood)\n",
    "samples = inv(trafo_is).(samples);"
   ]
  },
  {
   "cell_type": "code",
   "execution_count": null,
   "metadata": {},
   "outputs": [],
   "source": [
    "# BAT.bat_write(\"../../data/sampling_results/Benchmark-5/alignment/hc-samples.hdf5\", unshaped.(samples))"
   ]
  },
  {
   "cell_type": "code",
   "execution_count": null,
   "metadata": {},
   "outputs": [],
   "source": [
    "# @save \"../../data/sampling_results/Benchmark-5/alignment/hc-data.hdf5\" data"
   ]
  },
  {
   "cell_type": "code",
   "execution_count": null,
   "metadata": {},
   "outputs": [],
   "source": [
    "# samples = samples_tot.result;"
   ]
  },
  {
   "cell_type": "code",
   "execution_count": null,
   "metadata": {},
   "outputs": [],
   "source": [
    "# minimum(bat_eff_sample_size(unshaped.(samples)).result)"
   ]
  },
  {
   "cell_type": "code",
   "execution_count": null,
   "metadata": {},
   "outputs": [],
   "source": [
    "samples = bat_read(\"../../data/sampling_results/Benchmark-5/alignment/hc-samples.hdf5\")\n",
    "samples = varshape(prior_ang).(samples);"
   ]
  },
  {
   "cell_type": "code",
   "execution_count": null,
   "metadata": {},
   "outputs": [],
   "source": [
    "sz = size(flatview(unshaped.(samples.v)))"
   ]
  },
  {
   "cell_type": "code",
   "execution_count": null,
   "metadata": {},
   "outputs": [],
   "source": [
    "plot(flatview(unshaped.(samples.v))[3,:])"
   ]
  },
  {
   "cell_type": "code",
   "execution_count": null,
   "metadata": {},
   "outputs": [],
   "source": [
    "function cov_matr(smpl_tmp)\n",
    "    smp_fl, w = flatview(unshaped.(smpl_tmp.v)), smpl_tmp.weight\n",
    "    smp_fl = smp_fl ./ std(smp_fl, FrequencyWeights(w), 2)\n",
    "    smp_fl = smp_fl .- mean(smp_fl, FrequencyWeights(w), dims=2)\n",
    "    cov_m = cov(smp_fl, FrequencyWeights(w), 2)\n",
    "    return cov_m\n",
    "end"
   ]
  },
  {
   "cell_type": "code",
   "execution_count": null,
   "metadata": {},
   "outputs": [],
   "source": [
    "covm = cov_matr(samples);\n",
    "\n",
    "fig, (ax, ax2) = plt.subplots(1,2, figsize=(7,7), gridspec_kw=Dict(\"width_ratios\"=>[15,1]))\n",
    "\n",
    "max = maximum(abs.(covm))\n",
    "\n",
    "cb = ax.imshow(covm,  origin=\"upper\", cmap=\"seismic\", vmin=-max, vmax=max, aspect=\"equal\") \n",
    "fig.colorbar(cb, spacing=\"proportional\", label=\"Covariance\", cax=ax2)\n",
    "\n",
    "# ax.set_yticks(0:26)\n",
    "# ax.set_yticklabels(labels)\n",
    "\n",
    "# ax.set_xticks(0:26)\n",
    "# ax.set_xticklabels(labels, rotation = 90);"
   ]
  },
  {
   "cell_type": "code",
   "execution_count": null,
   "metadata": {},
   "outputs": [],
   "source": [
    "x = flatview(unshaped.(samples.v))'\n",
    "\n",
    "plt.imshow(log.(abs.(cov(flatview(unshaped.(samples.v))'))), cmap=\"Blues\")"
   ]
  },
  {
   "cell_type": "code",
   "execution_count": null,
   "metadata": {},
   "outputs": [],
   "source": [
    "#  27.1, 21.6, 114.0, 30.5, 23.4, 125.0, 121.8, 120.0"
   ]
  },
  {
   "cell_type": "code",
   "execution_count": null,
   "metadata": {},
   "outputs": [],
   "source": [
    "param_mode = mode(samples)"
   ]
  },
  {
   "cell_type": "code",
   "execution_count": null,
   "metadata": {},
   "outputs": [],
   "source": [
    "bat_marginalmode(samples).result"
   ]
  },
  {
   "cell_type": "code",
   "execution_count": null,
   "metadata": {},
   "outputs": [],
   "source": [
    "mean(samples)[1]"
   ]
  },
  {
   "cell_type": "code",
   "execution_count": null,
   "metadata": {},
   "outputs": [],
   "source": [
    "std(samples)[1]"
   ]
  },
  {
   "cell_type": "code",
   "execution_count": null,
   "metadata": {},
   "outputs": [],
   "source": [
    "#  findmode_result = bat_findmode(posterior, MaxDensityLBFGS(init = InitFromTarget()), )\n",
    "\n",
    "findmode_result = bat_findmode(\n",
    "    posterior, \n",
    "    MaxDensityLBFGS(init = ExplicitInit([param_mode],)), \n",
    ")\n",
    "\n",
    "fit_par_values = findmode_result.result"
   ]
  },
  {
   "cell_type": "code",
   "execution_count": null,
   "metadata": {},
   "outputs": [],
   "source": []
  },
  {
   "cell_type": "code",
   "execution_count": null,
   "metadata": {},
   "outputs": [],
   "source": [
    "# @save \"../../data/sampling_results/Benchmark-5/alignment/hc-data.jld2\" data fit_par_values"
   ]
  },
  {
   "cell_type": "code",
   "execution_count": null,
   "metadata": {},
   "outputs": [],
   "source": [
    "dims = 9:14\n",
    "# dims = [1,2,3,4,5,]\n",
    "names = dims\n",
    "levels = [0.01, 0.55, 0.9, 0.95,  1,]\n",
    "# levels = [0.001, 0.98, 1,]\n",
    "figsize = (10,10)\n",
    "n_bins = 30\n",
    "\n",
    "corner_plots(samples, dims, names, levels_quantiles = levels, figsize=figsize, N_bins=n_bins)"
   ]
  },
  {
   "cell_type": "code",
   "execution_count": null,
   "metadata": {},
   "outputs": [],
   "source": [
    "dims = 1:n_events\n",
    "# dims = [1,2,3,4,5,]\n",
    "names = dims\n",
    "levels = [0.01, 0.55, 0.9, 0.95,  1,]\n",
    "# levels = [0.001, 0.98, 1,]\n",
    "figsize = (10,10)\n",
    "n_bins = 30\n",
    "\n",
    "corner_plots(samples, dims, names, levels_quantiles = levels, figsize=figsize, N_bins=n_bins)"
   ]
  },
  {
   "cell_type": "code",
   "execution_count": null,
   "metadata": {},
   "outputs": [],
   "source": [
    "dims = n_events+1:2*n_events\n",
    "# dims = [1,2,3,4,5,]\n",
    "names = dims\n",
    "levels = [0.01, 0.55, 0.9, 0.95,  1,]\n",
    "levels = [0.001, 0.98, 1,]\n",
    "figsize = (10,10)\n",
    "n_bins = 25\n",
    "\n",
    "corner_plots(samples, dims, names, levels_quantiles = levels, figsize=figsize, N_bins=n_bins)"
   ]
  },
  {
   "cell_type": "code",
   "execution_count": null,
   "metadata": {},
   "outputs": [],
   "source": [
    "dims = 50:59\n",
    "# dims = [1,2,3,4,5,]\n",
    "names = dims\n",
    "levels = [0.01, 0.55, 0.9, 0.95,  1,]\n",
    "# levels = [0.001, 0.98, 1,]\n",
    "figsize = (10,10)\n",
    "n_bins = 25\n",
    "\n",
    "corner_plots(samples, dims, names, levels_quantiles = levels, figsize=figsize, N_bins=n_bins)"
   ]
  },
  {
   "cell_type": "code",
   "execution_count": null,
   "metadata": {},
   "outputs": [],
   "source": [
    "dims = collect(sz[1]-11:sz[1]-6)\n",
    "names = dims\n",
    "levels = [0.01, 0.55, 0.9, 0.95,  1,]\n",
    "levels = [0.001, 0.95, 1,]\n",
    "figsize = (10,10)\n",
    "n_bins = 25\n",
    "\n",
    "corner_plots(samples, dims, names, levels_quantiles = levels, figsize=figsize, N_bins=n_bins)"
   ]
  },
  {
   "cell_type": "code",
   "execution_count": null,
   "metadata": {},
   "outputs": [],
   "source": [
    "dims = collect(sz[1]-5:sz[1])\n",
    "names = dims\n",
    "levels = [0.01, 0.55, 0.9, 0.95,  1,]\n",
    "levels = [0.001, 0.98, 1,]\n",
    "figsize = (10,10)\n",
    "n_bins = 25\n",
    "\n",
    "corner_plots(samples, dims, names, levels_quantiles = levels, figsize=figsize, N_bins=n_bins)"
   ]
  },
  {
   "cell_type": "code",
   "execution_count": null,
   "metadata": {},
   "outputs": [],
   "source": []
  },
  {
   "cell_type": "code",
   "execution_count": null,
   "metadata": {},
   "outputs": [],
   "source": []
  },
  {
   "cell_type": "code",
   "execution_count": null,
   "metadata": {},
   "outputs": [],
   "source": []
  },
  {
   "cell_type": "code",
   "execution_count": null,
   "metadata": {},
   "outputs": [],
   "source": []
  },
  {
   "cell_type": "code",
   "execution_count": null,
   "metadata": {},
   "outputs": [],
   "source": []
  },
  {
   "cell_type": "code",
   "execution_count": null,
   "metadata": {},
   "outputs": [],
   "source": []
  }
 ],
 "metadata": {
  "kernelspec": {
   "display_name": "Julia 1.5.2",
   "language": "julia",
   "name": "julia-1.5"
  },
  "language_info": {
   "file_extension": ".jl",
   "mimetype": "application/julia",
   "name": "julia",
   "version": "1.5.2"
  }
 },
 "nbformat": 4,
 "nbformat_minor": 4
}
