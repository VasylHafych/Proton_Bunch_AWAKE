{
 "cells": [
  {
   "cell_type": "code",
   "execution_count": 1,
   "metadata": {},
   "outputs": [],
   "source": [
    "using JLD2\n",
    "using FileIO\n",
    "using PyPlot\n",
    "using Statistics\n",
    "using StatsBase \n",
    "using Distributions\n",
    "using LinearAlgebra\n",
    "using HDF5\n",
    "using KernelDensity\n",
    "using IntervalSets\n",
    "using Random, ArraysOfArrays\n",
    "using ValueShapes\n",
    "using Measurements\n",
    "using BAT\n",
    "using DSP"
   ]
  },
  {
   "cell_type": "code",
   "execution_count": 2,
   "metadata": {},
   "outputs": [
    {
     "data": {
      "text/plain": [
       "marg_std (generic function with 1 method)"
      ]
     },
     "execution_count": 2,
     "metadata": {},
     "output_type": "execute_result"
    }
   ],
   "source": [
    "FPATH = \"../../data/sampling_results/Benchmark-5-2/\"\n",
    "\n",
    "function hist_2d(name, dim_1, dim_2; nbins=40, axmin = true, axmax=true)\n",
    "    smpl_tmp = bat_read(FPATH*name)\n",
    "    smpl_tmp = varshape(prior).(smpl_tmp)\n",
    "    smpl_tmp, smpl_w = flatview(unshaped.(smpl_tmp.v)), smpl_tmp.weight\n",
    "    if axmin == true\n",
    "        hist_tmp = fit(Histogram, (smpl_tmp[dim_1,:],smpl_tmp[dim_2,:]), FrequencyWeights(smpl_w), nbins=nbins)\n",
    "    else\n",
    "       hist_tmp = fit(Histogram, (smpl_tmp[dim_1,:],smpl_tmp[dim_2,:]), FrequencyWeights(smpl_w), (range(axmin[1], stop=axmax[1], length=nbins), range(axmin[2], stop=axmax[2], length=nbins))) \n",
    "    end\n",
    "    hist_tmp = normalize(hist_tmp, mode=:pdf) \n",
    "    return hist_tmp\n",
    "end\n",
    "\n",
    "function hist_1d(name, dim_1; nbins=40)\n",
    "    smpl_tmp = bat_read(FPATH*name)\n",
    "    smpl_tmp = varshape(prior).(smpl_tmp)\n",
    "    smpl_tmp, smpl_w = flatview(unshaped.(smpl_tmp.v)), smpl_tmp.weight\n",
    "    hist_tmp = fit(Histogram, smpl_tmp[dim_1,:], FrequencyWeights(smpl_w), nbins=nbins)\n",
    "    hist_tmp = normalize(hist_tmp, mode=:pdf)\n",
    "    return hist_tmp\n",
    "end\n",
    "\n",
    "function marg_mean(name, dim_1, dim_2)\n",
    "    smpl_tmp = bat_read(FPATH*name)\n",
    "    smpl_tmp = varshape(prior).(smpl_tmp)\n",
    "    smpl_tmp = unshaped(mode(smpl_tmp))\n",
    "    return smpl_tmp[dim_1], smpl_tmp[dim_2]\n",
    "end\n",
    "\n",
    "function marg_std(name, dim_1, dim_2)\n",
    "    smpl_tmp = bat_read(FPATH*name)\n",
    "    smpl_tmp = varshape(prior).(smpl_tmp)\n",
    "    smpl_tmp = unshaped(std(smpl_tmp))\n",
    "    return smpl_tmp[dim_1], smpl_tmp[dim_2]\n",
    "end"
   ]
  },
  {
   "cell_type": "code",
   "execution_count": 3,
   "metadata": {},
   "outputs": [],
   "source": [
    "β1 = 0.015\n",
    "β2 = 0.0077\n",
    "β3 = 0.0058 \n",
    "\n",
    "prior = NamedTupleDist(\n",
    "        tr_size = [truncated(Normal(0.2, 0.04), 0.06, 0.19), truncated(Normal(0.2, 0.04), 0.06, 0.19)],\n",
    "        tr_size_2 = [truncated(Normal(0.2, 0.04), 0.06, 0.19), truncated(Normal(0.2, 0.04), 0.06, 0.19)],\n",
    "        ang_spr = [truncated(Normal(4.0, 2.0), 4.0, 7.0), truncated(Normal(4.0, 2.0), 4.0, 7.0)],\n",
    "        ang_spr_2 = [truncated(Normal(4.0, 2.0), 1.0, 4.0), truncated(Normal(4.0, 2.0), 1.0, 4.0)],\n",
    "        mixt_pow =  0.50 .. 1.0 ,\n",
    "        waist = [truncated(Normal(2.9, 0.03), 2.65, 3.5)],\n",
    "        waist_2 = [truncated(Normal(2.9, 0.03), 2.65, 3.5)], # 11\n",
    "        algmx = [23.0 .. 48, 23.0 .. 48.0, 10.0 .. 30.0, 23.0 .. 48.0],\n",
    "        algmy = [23.0 .. 48, 23.0 .. 48.0, 10.0 .. 30.0, 23.0 .. 48.0],\n",
    "        cam4_ped = 4.0 .. 40.0,\n",
    "        cam4_light_fluct = 1.0 .. 3.0,\n",
    "        cam4_light_amp = 1.6 .. 9.9, \n",
    "        resx = [1, 1, 1], # 23, 24, 25, \n",
    "        resy = [1, 1, 1], # 26,27, 28, \n",
    "        cam4_resx = truncated(Normal(3, 1.5), 0, Inf),\n",
    "        cam4_resy = truncated(Normal(3, 1.5), 0, Inf), \n",
    "        psx = [27.1, 21.6, 114.0], # 31, 32, 33\n",
    "        psy = [30.5, 23.4, 125.0], # 34, 35, 36\n",
    "        cam4_psx = 121.8, # 37\n",
    "        cam4_psy = 120.0, # 38\n",
    "        light_amp  = [1.0 .. 13.0 , 1.0 .. 17.0, 1.0 .. 5.0], # 1.0 .. 5.0\n",
    "        s_cam = [0.0, 1.478, 15.026, 23.1150],\n",
    "    )\n",
    "\n",
    "labels = [L\"\\sigma_x\", L\"\\sigma_y\", L\"\\sigma_x\", L\"\\sigma_y\", L\"\\sigma'_x\", L\"\\sigma'_y\", L\"\\sigma'_x\", L\"\\sigma'_y\", L\"\\alpha\", L\"s\", L\"s\", \n",
    "    L\"\\mu_x\", L\"\\mu_x\", L\"\\mu_x\", L\"\\mu_x\", L\"\\mu_y\", L\"\\mu_y\", L\"\\mu_y\", L\"\\mu_y\", \n",
    "    \"ped\", \"lf\", \"a\", \n",
    "    \"res x\", \"res x\", \"res x\", \"res y\", \"res y\", \"res y\", \"res x\", \"res y\", \n",
    "    \"ps x\", \"ps x\", \"ps x\", \"ps y\", \"ps y\", \"ps y\", \"ps x\", \"ps y\", \n",
    "    \"la\", \"la\", \"la\"\n",
    "    ];"
   ]
  },
  {
   "cell_type": "code",
   "execution_count": 4,
   "metadata": {},
   "outputs": [],
   "source": [
    "filenames = readdir(\"../../data/sampling_results/Benchmark-5-2/\")\n",
    "images = load(\"../../data/experiment/dataset_2/m2/images-satur.jld2\");\n",
    "hc_mask = [i[1:3] == \"hc-\" for i in filenames]\n",
    "hc_fnames = filenames[hc_mask]\n",
    "hc_eind = parse.(Int64, [i[4:end-5] for i in hc_fnames])\n",
    "hc_charge = images[\"charge\"][hc_eind]\n",
    "hc_runind = images[\"ev_ind\"][hc_eind];"
   ]
  },
  {
   "cell_type": "code",
   "execution_count": 5,
   "metadata": {},
   "outputs": [],
   "source": [
    "filenames = readdir(\"../../data/sampling_results/Benchmark-5-2/\")\n",
    "images = load(\"../../data/experiment/dataset_2/m1/images-satur.jld2\");\n",
    "lc_mask = [i[1:3] == \"lc-\" for i in filenames]\n",
    "lc_fnames = filenames[lc_mask]\n",
    "lc_eind = parse.(Int64, [i[4:end-5] for i in lc_fnames])\n",
    "lc_charge = images[\"charge\"][lc_eind]\n",
    "lc_runind = images[\"ev_ind\"][lc_eind];"
   ]
  },
  {
   "cell_type": "code",
   "execution_count": 6,
   "metadata": {},
   "outputs": [],
   "source": [
    "fnames = [lc_fnames; hc_fnames]\n",
    "charges = [lc_charge; hc_charge]\n",
    "runind = [lc_runind ; hc_runind]\n",
    "charges_n = charges ./ maximum(charges)\n",
    "runind_n = runind ./ maximum(runind);"
   ]
  },
  {
   "cell_type": "code",
   "execution_count": 7,
   "metadata": {},
   "outputs": [
    {
     "data": {
      "text/plain": [
       "67-element Array{String,1}:\n",
       " \"lc-1.hdf5\"\n",
       " \"lc-10.hdf5\"\n",
       " \"lc-11.hdf5\"\n",
       " \"lc-12.hdf5\"\n",
       " \"lc-13.hdf5\"\n",
       " \"lc-137.hdf5\"\n",
       " \"lc-14.hdf5\"\n",
       " \"lc-15.hdf5\"\n",
       " \"lc-151.hdf5\"\n",
       " \"lc-16.hdf5\"\n",
       " \"lc-169.hdf5\"\n",
       " \"lc-17.hdf5\"\n",
       " \"lc-18.hdf5\"\n",
       " ⋮\n",
       " \"hc-357.hdf5\"\n",
       " \"hc-4.hdf5\"\n",
       " \"hc-435.hdf5\"\n",
       " \"hc-440.hdf5\"\n",
       " \"hc-442.hdf5\"\n",
       " \"hc-5.hdf5\"\n",
       " \"hc-6.hdf5\"\n",
       " \"hc-7.hdf5\"\n",
       " \"hc-72.hdf5\"\n",
       " \"hc-8.hdf5\"\n",
       " \"hc-9.hdf5\"\n",
       " \"hc-95.hdf5\""
      ]
     },
     "execution_count": 7,
     "metadata": {},
     "output_type": "execute_result"
    }
   ],
   "source": [
    "fnames"
   ]
  },
  {
   "cell_type": "code",
   "execution_count": 8,
   "metadata": {},
   "outputs": [],
   "source": [
    "msklc = 1:length(lc_fnames)\n",
    "mskhc = length(lc_fnames)+1:length(lc_fnames)+length(hc_fnames);"
   ]
  },
  {
   "cell_type": "code",
   "execution_count": 9,
   "metadata": {},
   "outputs": [],
   "source": [
    "charges_n[sortperm(charges_n)] .= 1:length(charges_n)\n",
    "charges_n = charges_n ./ maximum(charges_n);"
   ]
  },
  {
   "cell_type": "markdown",
   "metadata": {},
   "source": [
    "## Plot 1: "
   ]
  },
  {
   "cell_type": "code",
   "execution_count": 10,
   "metadata": {},
   "outputs": [],
   "source": [
    "hists = [hist_2d(i, 1,2) for i in fnames]\n",
    "hists_2 = [hist_2d(i, 3,4) for i in fnames]\n",
    "mean_vals = [marg_mean(i, 1,2) for i in fnames]\n",
    "mean_vals_2 = [marg_mean(i, 3,4) for i in fnames]\n",
    "std_vals = [marg_std(i, 1,2) for i in fnames]\n",
    "std_vals_2 = [marg_std(i, 3,4) for i in fnames]\n",
    "hist1d_1 = [hist_1d(i, 1) for i in fnames]\n",
    "hist1d_2 = [hist_1d(i, 2) for i in fnames];"
   ]
  },
  {
   "cell_type": "code",
   "execution_count": 11,
   "metadata": {},
   "outputs": [],
   "source": [
    "xmin, xmax = 0.03, 0.24\n",
    "xrange=range(xmin, stop = xmax,length=100)\n",
    "yrange=range(xmin, stop = xmax,length=100)\n",
    "xvals = [pdf(truncated(Normal(0.2, 0.04), 0.03, 0.25), x) for x in xrange]\n",
    "yvals = [pdf(truncated(Normal(0.2, 0.04), 0.03, 0.25), y)  for y in yrange]\n",
    "z = xvals*yvals';"
   ]
  },
  {
   "cell_type": "code",
   "execution_count": 12,
   "metadata": {},
   "outputs": [],
   "source": [
    "hists = [hist_2d(i, 1,2, axmin=[0.03,0.03], axmax=[0.18,0.18], nbins=100,) for i in fnames];\n",
    "hists_2 = [hist_2d(i, 3,4, axmin=[0.03,0.03], axmax=[0.18,0.18], nbins=100,) for i in fnames];"
   ]
  },
  {
   "cell_type": "code",
   "execution_count": 13,
   "metadata": {},
   "outputs": [
    {
     "data": {
      "image/png": "[encoded data removed]",
      "text/plain": [
       "Figure(PyObject <Figure size 600x600 with 5 Axes>)"
      ]
     },
     "metadata": {},
     "output_type": "display_data"
    },
    {
     "data": {
      "text/plain": [
       "PyObject Text(42.55, 0.5, '$\\\\mathrm{\\\\# Events}$')"
      ]
     },
     "execution_count": 13,
     "metadata": {},
     "output_type": "execute_result"
    }
   ],
   "source": [
    "fig, ax= plt.subplots(2,2, figsize=(6,6), gridspec_kw=Dict(\"width_ratios\"=>[6,1], \"height_ratios\"=>[1,6]))\n",
    "fig.subplots_adjust(hspace=0.0, wspace=0.0)\n",
    "\n",
    "ax[2,1].contourf(xrange, yrange, z, levels=range(0.1*minimum(z), maximum(z), length=25)[1:end], cmap=\"bone_r\", alpha=0.7, antialiased=true) \n",
    "\n",
    "sum_weights = zeros(size(hists[1].weights'))\n",
    "sum_weights_2 = zeros(size(hists_2[1].weights'))\n",
    "for i in eachindex(hists)\n",
    "    sum_weights = sum_weights .+ hists[i].weights'\n",
    "    sum_weights_2 = sum_weights_2 .+ hists_2[i].weights'\n",
    "end\n",
    "\n",
    "label_1 = \"Data (Halo)\"\n",
    "label_2 = \"Data (Core)\"\n",
    "for i in eachindex(hists)    \n",
    "    ax[2,1].errorbar(mean_vals[i][1], mean_vals[i][2], xerr=std_vals[i][1], yerr=std_vals[i][2], \n",
    "        color=\"k\", \n",
    "        fmt=\"s\", markersize=4, \n",
    "        mfc=plt.cm.OrRd(charges_n[i]), #red\n",
    "        markeredgecolor = \"k\", markeredgewidth=0.5,\n",
    "        capsize=2, ecolor=\"k\", elinewidth=0.5, label=label_1)\n",
    "    label_1 = \"\"\n",
    "    ax[2,1].errorbar(mean_vals_2[i][1], mean_vals_2[i][2], xerr=std_vals_2[i][1], yerr=std_vals_2[i][2], \n",
    "        color=\"k\", \n",
    "        fmt=\"o\", markersize=4,\n",
    "        mfc=plt.cm.OrRd(charges_n[i]), #red\n",
    "        markeredgecolor = \"k\", markeredgewidth=0.5,\n",
    "        capsize=2, ecolor=\"k\", elinewidth=0.5, label=label_2)\n",
    "    label_2 = \"\"\n",
    "end\n",
    "\n",
    "cb = ax[2,1].scatter(charges_n, charges_n, s=0.0, c=charges, cmap=\"OrRd\")\n",
    "ax_ins_3 = fig.add_axes([0.15,0.55,0.02,0.2])\n",
    "fig.colorbar(cb, spacing=\"proportional\", label=\"Population\", cax=ax_ins_3)\n",
    "\n",
    "proxy = plt.Rectangle((10, 10), 1, 1, fc=plt.cm.bone_r(0.17), label=\"Prior\")\n",
    "# proxy2 = plt.Rectangle((10, 10), 1, 1, fc=plt.cm.Blues(0.57), label=\"Posterior\")\n",
    "ax[2,1].add_patch(proxy)\n",
    "# ax[2,1].add_patch(proxy2)\n",
    "ax[2,1].legend(loc=\"lower right\")\n",
    "\n",
    "ax[1,1].hist([i[1] for i in mean_vals], bins=20, color=\"lightblue\", alpha=0.4)\n",
    "ax[2,2].hist([i[2] for i in mean_vals], bins=20, orientation=\"horizontal\", color=\"lightblue\", alpha=0.4)\n",
    "ax[1,1].hist([i[1] for i in mean_vals_2], bins=20, color=\"rosybrown\", alpha=0.4)\n",
    "ax[2,2].hist([i[2] for i in mean_vals_2], bins=20, orientation=\"horizontal\", color=\"rosybrown\", alpha=0.4)\n",
    "\n",
    "cnt = ax[2,1].contourf(midpoints(hists[1].edges[1]), midpoints(hists[1].edges[2]), broadcast(x-> x>1 ? x : NaN, sum_weights), \n",
    "    levels=range(minimum(sum_weights), maximum(sum_weights), length=11)[2:end], #corner_mask= true,\n",
    "    cmap=\"Blues\", alpha=0.8, antialiased=true) \n",
    "\n",
    "cnt = ax[2,1].contourf(midpoints(hists_2[1].edges[1]), midpoints(hists_2[1].edges[2]), broadcast(x-> x>1 ? x : NaN, sum_weights_2), \n",
    "    levels=range(minimum(sum_weights_2), maximum(sum_weights_2), length=11)[2:end], #corner_mask= true,\n",
    "    cmap=\"Reds\", alpha=0.8, antialiased=true) \n",
    "\n",
    "ax[1,1].set_ylim(bottom=0.0)\n",
    "ax[2,2].set_xlim(left=0.0)\n",
    "\n",
    "ax[1,2].set_visible(false)\n",
    "\n",
    "ax[1,1].set_xticks([])\n",
    "# ax[1,1].set_yticks([])\n",
    "# ax[2,2].set_xticks([])\n",
    "ax[2,2].set_yticks([])\n",
    "\n",
    "ax[2,1].set_xlim(0.04, 0.155)\n",
    "ax[1,1].set_xlim(0.04, 0.155)\n",
    "ax[2,1].set_ylim(0.03, 0.155)\n",
    "ax[2,2].set_ylim(0.03, 0.155)\n",
    "\n",
    "ax[2,1].set_xlabel(L\"\\sigma_x \\; (\\mathrm{mm})\")\n",
    "ax[2,2].set_xlabel(L\"\\mathrm{\\# Events}\")\n",
    "ax[2,1].set_ylabel(L\"\\sigma_y \\; (\\mathrm{mm})\")\n",
    "ax[1,1].set_ylabel(L\"\\mathrm{\\# Events}\")"
   ]
  },
  {
   "cell_type": "code",
   "execution_count": null,
   "metadata": {},
   "outputs": [],
   "source": []
  },
  {
   "cell_type": "code",
   "execution_count": null,
   "metadata": {},
   "outputs": [],
   "source": []
  },
  {
   "cell_type": "markdown",
   "metadata": {},
   "source": [
    "## Plot 2: "
   ]
  },
  {
   "cell_type": "code",
   "execution_count": 14,
   "metadata": {},
   "outputs": [],
   "source": [
    "hists = [hist_2d(i, 5,6) for i in fnames]\n",
    "mean_vals = [marg_mean(i, 5,6) for i in fnames]\n",
    "mean_vals_2 = [marg_mean(i, 7,8) for i in fnames]\n",
    "std_vals = [marg_std(i, 5,6) for i in fnames]\n",
    "std_vals_2 = [marg_std(i, 7,8) for i in fnames];"
   ]
  },
  {
   "cell_type": "code",
   "execution_count": 15,
   "metadata": {},
   "outputs": [],
   "source": [
    "xmin, xmax = 1, 7\n",
    "xrange=range(xmin, stop = xmax,length=300)\n",
    "yrange=range(xmin, stop = xmax,length=300)\n",
    "xvals = [pdf(truncated(Normal(4, 2), 1, 7), x) for x in xrange]\n",
    "yvals = [pdf(truncated(Normal(4, 2), 1, 7), y)  for y in yrange]\n",
    "z = xvals*yvals';"
   ]
  },
  {
   "cell_type": "code",
   "execution_count": null,
   "metadata": {},
   "outputs": [],
   "source": [
    "hists = [hist_2d(i, 5,6, axmin=[4,4], axmax=[8,8]) for i in fnames];\n",
    "hists_2 = [hist_2d(i, 7,8, axmin=[1.0,1.0], axmax=[3.5,3.5]) for i in fnames];"
   ]
  },
  {
   "cell_type": "code",
   "execution_count": null,
   "metadata": {},
   "outputs": [],
   "source": [
    "fig, ax= plt.subplots(2,2, figsize=(6,6), gridspec_kw=Dict(\"width_ratios\"=>[6,1], \"height_ratios\"=>[1,6]))\n",
    "fig.subplots_adjust(hspace=0.0, wspace=0.0)\n",
    "\n",
    "ax[2,1].contourf(xrange, yrange, z, levels=range(0.6*maximum(z), 1.4*maximum(z), length=50)[1:end], cmap=\"bone_r\", alpha=0.7, antialiased=true) \n",
    "\n",
    "sum_weights = zeros(size(hists[1].weights'))\n",
    "sum_weights_2 = zeros(size(hists_2[1].weights'))\n",
    "\n",
    "for i in eachindex(hists)\n",
    "    sum_weights = sum_weights .+ hists[i].weights'\n",
    "    sum_weights_2 = sum_weights_2 .+ hists_2[i].weights'\n",
    "end\n",
    "\n",
    "label_1 = \"Data (Halo)\"\n",
    "label_2 = \"Data (Core)\"\n",
    "for i in eachindex(hists)    \n",
    "    ax[2,1].errorbar(mean_vals[i][1], mean_vals[i][2], xerr=std_vals[i][1], yerr=std_vals[i][2], \n",
    "        color=\"k\", \n",
    "        fmt=\"o\", markersize=4, \n",
    "        mfc=plt.cm.OrRd(charges_n[i]), #red\n",
    "        markeredgecolor = \"k\", markeredgewidth=0.5,\n",
    "        capsize=2, ecolor=\"k\", elinewidth=0.5, label=label_1)\n",
    "    label_1 = \"\"\n",
    "    ax[2,1].errorbar(mean_vals_2[i][1], mean_vals_2[i][2], xerr=std_vals_2[i][1], yerr=std_vals_2[i][2], \n",
    "        color=\"k\", \n",
    "        fmt=\"s\", markersize=4, \n",
    "        mfc=plt.cm.OrRd(charges_n[i]), #red\n",
    "        markeredgecolor = \"k\", markeredgewidth=0.5,\n",
    "        capsize=2, ecolor=\"k\", elinewidth=0.5, label=label_2)\n",
    "    label_2 = \"\"\n",
    "end\n",
    "\n",
    "cb = ax[2,1].scatter(charges_n, charges_n, s=0.0, c=charges, cmap=\"OrRd\")\n",
    "ax_ins_3 = fig.add_axes([0.15,0.55,0.02,0.2])\n",
    "fig.colorbar(cb, spacing=\"proportional\", label=\"Population\", cax=ax_ins_3)\n",
    "\n",
    "proxy = plt.Rectangle((10, 10), 1, 1, fc=plt.cm.bone_r(0.17), label=\"Prior\")\n",
    "# proxy2 = plt.Rectangle((10, 10), 1, 1, fc=plt.cm.Blues(0.57), label=\"Posterior LC\")\n",
    "# proxy3 = plt.Rectangle((10, 10), 1, 1, fc=plt.cm.Greens(0.57), label=\"Posterior SC\")\n",
    "ax[2,1].add_patch(proxy)\n",
    "# ax[2,1].add_patch(proxy2)\n",
    "# ax[2,1].add_patch(proxy3)\n",
    "ax[2,1].legend(loc=\"lower right\")\n",
    "\n",
    "ax[1,1].hist([i[1] for i in mean_vals], bins=10, alpha=0.5, color=\"lightblue\")\n",
    "ax[1,1].hist([i[1] for i in mean_vals_2], bins=10, alpha=0.5, color=\"rosybrown\")\n",
    "ax[2,2].hist([i[2] for i in mean_vals], bins=10, alpha=0.5, orientation=\"horizontal\", color=\"lightblue\")\n",
    "ax[2,2].hist([i[2] for i in mean_vals_2], bins=10, alpha=0.5, orientation=\"horizontal\", color=\"rosybrown\")\n",
    "\n",
    "cnt = ax[2,1].contourf(midpoints(hists[1].edges[1]), midpoints(hists[1].edges[2]), broadcast(x-> x>1 ? x : NaN, sum_weights), \n",
    "    levels=range(minimum(sum_weights), maximum(sum_weights), length=9)[2:end], #corner_mask= true,\n",
    "    cmap=\"Blues\", alpha=0.6, antialiased=true) \n",
    "\n",
    "cnt = ax[2,1].contourf(midpoints(hists_2[1].edges[1]), midpoints(hists_2[1].edges[2]), broadcast(x-> x>1 ? x : NaN, sum_weights_2), \n",
    "    levels=range(minimum(sum_weights_2), maximum(sum_weights_2), length=9)[2:end], #corner_mask= true,\n",
    "    cmap=\"Reds\", alpha=0.6, antialiased=true) \n",
    "\n",
    "ax[1,1].set_ylim(bottom=0.0)\n",
    "ax[2,2].set_xlim(left=0.0)\n",
    "\n",
    "ax[1,2].set_visible(false)\n",
    "\n",
    "ax[1,1].set_xticks([])\n",
    "ax[2,2].set_yticks([])\n",
    "\n",
    "ax[2,1].set_xlim(0.8, 6.2 )\n",
    "ax[1,1].set_xlim(0.8, 6.2)\n",
    "ax[2,1].set_ylim(2, 7.2)\n",
    "ax[2,2].set_ylim(2, 7.2)\n",
    "\n",
    "ax[2,1].set_xlabel(L\"\\sigma'_x \\; (\\mathrm{10^{-5} \\cdot rad})\")\n",
    "ax[2,2].set_xlabel(L\"\\mathrm{\\# Events}\")\n",
    "ax[2,1].set_ylabel(L\"\\sigma'_y \\; (\\mathrm{10^{-5} \\cdot rad})\")\n",
    "ax[1,1].set_ylabel(L\"\\mathrm{\\# Events}\")"
   ]
  },
  {
   "cell_type": "code",
   "execution_count": null,
   "metadata": {},
   "outputs": [],
   "source": []
  },
  {
   "cell_type": "markdown",
   "metadata": {},
   "source": [
    "## Plot #3"
   ]
  },
  {
   "cell_type": "code",
   "execution_count": null,
   "metadata": {},
   "outputs": [],
   "source": [
    "hist1d_1 = [hist_1d(i, 11, nbins=50) for i in fnames]\n",
    "mean_vals = [marg_mean(i, 11,11) for i in fnames];"
   ]
  },
  {
   "cell_type": "code",
   "execution_count": null,
   "metadata": {},
   "outputs": [],
   "source": [
    "fig, ax= plt.subplots(1,1, figsize=(6,4), )\n",
    "\n",
    "x_range = range(2.7, stop=3.3, length=100)\n",
    "ax.fill_between(x_range, pdf.(Normal(2.9, 0.03), x_range), color=plt.cm.bone_r(0.3), label=\"Prior\", alpha=0.5)\n",
    "\n",
    "for i in eachindex(hists)  \n",
    "    ax.plot(midpoints(hist1d_1[i].edges[1]), hist1d_1[i].weights, color=plt.cm.OrRd(charges_n[i]), alpha=0.7, lw=1)\n",
    "end\n",
    "\n",
    "cb = ax.scatter(charges_n, charges_n, s=0.0, c=charges, cmap=\"OrRd\")\n",
    "ax_ins_3 = fig.add_axes([0.15,0.67,0.02,0.2])\n",
    "fig.colorbar(cb, spacing=\"proportional\", label=\"Population\", cax=ax_ins_3)\n",
    "\n",
    "ax.axvline([2.9], color=plt.cm.bone_r(0.3), ls=\"--\", label=\"Mean Prior\")\n",
    "ax.axvline(mean([i[2] for i in mean_vals]), color=\"red\", ls=\"--\", label=\"Mean Sampled\")\n",
    "\n",
    "ax.set_ylim(bottom=0.0,)\n",
    "ax.set_xlim(2.75, 3.15)\n",
    "\n",
    "ax.set_xlabel(L\"\\mathrm{Waist \\; (m)}\")\n",
    "ax.set_ylabel(\"Counts\")\n",
    "ax.legend()"
   ]
  },
  {
   "cell_type": "code",
   "execution_count": null,
   "metadata": {},
   "outputs": [],
   "source": []
  },
  {
   "cell_type": "code",
   "execution_count": null,
   "metadata": {},
   "outputs": [],
   "source": []
  },
  {
   "cell_type": "code",
   "execution_count": null,
   "metadata": {},
   "outputs": [],
   "source": [
    "xmin, xmax = 2.7, 3.3\n",
    "xrange=range(xmin, stop = xmax,length=100)\n",
    "yrange=range(1, stop = 30, length=100)\n",
    "xvals = [pdf(Normal(2.9, 0.03), x) for x in xrange]\n",
    "yvals = [1  for y in yrange]\n",
    "z = xvals*yvals';"
   ]
  },
  {
   "cell_type": "code",
   "execution_count": null,
   "metadata": {},
   "outputs": [],
   "source": [
    "mean_vals = [marg_mean(i, 10,11) for i in fnames];\n",
    "std_vals = [marg_std(i, 10,11) for i in fnames];"
   ]
  },
  {
   "cell_type": "code",
   "execution_count": null,
   "metadata": {},
   "outputs": [],
   "source": [
    "fig, ax = plt.subplots(2,1, figsize=(6,4), )\n",
    "fig.subplots_adjust(hspace=0.0, wspace=0.0)\n",
    "\n",
    "ax[1].pcolormesh(xrange, yrange, z', cmap=\"bone_r\", alpha=0.4, rasterized=true) \n",
    "ax[2].pcolormesh(xrange, yrange, z', cmap=\"bone_r\", alpha=0.4, rasterized=true) \n",
    "\n",
    "label_1 = \"Data (Halo)\"\n",
    "label_2 = \"Data (Core)\"\n",
    "\n",
    "label_1 = \"Data (Halo)\"\n",
    "label_2 = \"Data (Core)\"\n",
    "for i in eachindex(mean_vals)    \n",
    "    \n",
    "    ax[1].errorbar(mean_vals[i][1], charges[i], xerr=std_vals[i][1],  \n",
    "        color=\"k\", \n",
    "        fmt=\"o\", markersize=4, \n",
    "        mfc=\"steelblue\", #red\n",
    "        markeredgecolor = \"k\", markeredgewidth=0.5,\n",
    "        capsize=2, ecolor=\"k\", elinewidth=0.5, label=label_1)\n",
    "    label_1 = \"\"\n",
    "    \n",
    "    ax[1].errorbar(mean_vals_2[i][2], charges[i], xerr=std_vals_2[i][2], \n",
    "        color=\"k\", \n",
    "        fmt=\"s\", markersize=4, \n",
    "        mfc=\"salmon\", #red\n",
    "        markeredgecolor = \"k\", markeredgewidth=0.5,\n",
    "        capsize=2, ecolor=\"k\", elinewidth=0.5, label=label_2)\n",
    "    label_2 = \"\"\n",
    "    \n",
    "    ax[2].errorbar(mean_vals[i][1], charges[i], xerr=std_vals[i][1],  \n",
    "        color=\"k\", \n",
    "        fmt=\"o\", markersize=4, \n",
    "        mfc=\"steelblue\", #red\n",
    "        markeredgecolor = \"k\", markeredgewidth=0.5,\n",
    "        capsize=2, ecolor=\"k\", elinewidth=0.5, label=label_1)\n",
    "    \n",
    "    ax[2].errorbar(mean_vals_2[i][2], charges[i], xerr=std_vals_2[i][2], \n",
    "        color=\"k\", \n",
    "        fmt=\"s\", markersize=4, \n",
    "        mfc=\"salmon\", #red\n",
    "        markeredgecolor = \"k\", markeredgewidth=0.5,\n",
    "        capsize=2, ecolor=\"k\", elinewidth=0.5, label=label_2)\n",
    "end\n",
    "\n",
    "ax[1].set_ylim(22,29)\n",
    "ax[2].set_ylim(7,10.5)\n",
    "\n",
    "ax[1].legend()\n",
    "\n",
    "ax[2].set_xlabel(L\"\\mathrm{Waist \\; (m)}\")\n",
    "fig.text(0.04, 0.5, \"Population\", va=\"center\", rotation=\"vertical\")"
   ]
  },
  {
   "cell_type": "code",
   "execution_count": null,
   "metadata": {},
   "outputs": [],
   "source": []
  },
  {
   "cell_type": "code",
   "execution_count": null,
   "metadata": {},
   "outputs": [],
   "source": []
  },
  {
   "cell_type": "code",
   "execution_count": null,
   "metadata": {},
   "outputs": [],
   "source": [
    "hists = [hist_2d(i, 23,24, axmin=[2,2], axmax=[7,7]) for i in fnames];\n",
    "mean_vals = [marg_mean(i, 23,24) for i in fnames];\n",
    "std_vals = [marg_std(i, 23,24) for i in fnames];"
   ]
  },
  {
   "cell_type": "code",
   "execution_count": null,
   "metadata": {},
   "outputs": [],
   "source": [
    "xmin, xmax = 1, 7\n",
    "xrange=range(xmin, stop = xmax,length=300)\n",
    "yrange=range(xmin, stop = xmax,length=300)\n",
    "xvals = [pdf(truncated(Normal(3, 1.5), 0, Inf), x) for x in xrange]\n",
    "yvals = [pdf(truncated(Normal(3, 1.5), 0, Inf), y)  for y in yrange]\n",
    "z = xvals*yvals';"
   ]
  },
  {
   "cell_type": "code",
   "execution_count": null,
   "metadata": {},
   "outputs": [],
   "source": [
    "fig, ax= plt.subplots(1,1, figsize=(5,5),)\n",
    "\n",
    "ax.contourf(xrange, yrange, z, levels=range(0.6*maximum(z), 1.4*maximum(z), length=50)[1:end], cmap=\"bone_r\", alpha=0.7, antialiased=true) \n",
    "\n",
    "label = \"Data Event\"\n",
    "for i in eachindex(hists)    \n",
    "    ax.errorbar(mean_vals[i][1], mean_vals[i][2], xerr=std_vals[i][1], yerr=std_vals[i][2], \n",
    "        color=\"k\", \n",
    "        fmt=\"o\", \n",
    "        mfc=plt.cm.OrRd(charges_n[i]), #red\n",
    "        markeredgecolor = \"k\", markeredgewidth=0.5,\n",
    "        capsize=2, ecolor=\"k\", elinewidth=0.5, label=label)\n",
    "    label = \"\"\n",
    "end\n",
    "\n",
    "cb = ax.scatter(charges_n, charges_n, s=0.0, c=charges, cmap=\"OrRd\")\n",
    "ax_ins_3 = fig.add_axes([0.15,0.65,0.02,0.2])\n",
    "fig.colorbar(cb, spacing=\"proportional\", label=\"Population\", cax=ax_ins_3)\n",
    "\n",
    "ax.set_xlabel(\"Res. x (px)\")\n",
    "ax.set_ylabel(\"Res. y (px)\")\n",
    "\n",
    "ax.set_xlim(1,7)\n",
    "ax.set_ylim(1,7)"
   ]
  },
  {
   "cell_type": "code",
   "execution_count": null,
   "metadata": {},
   "outputs": [],
   "source": []
  },
  {
   "cell_type": "code",
   "execution_count": null,
   "metadata": {},
   "outputs": [],
   "source": []
  },
  {
   "cell_type": "code",
   "execution_count": null,
   "metadata": {},
   "outputs": [],
   "source": []
  },
  {
   "cell_type": "code",
   "execution_count": null,
   "metadata": {},
   "outputs": [],
   "source": []
  },
  {
   "cell_type": "code",
   "execution_count": null,
   "metadata": {},
   "outputs": [],
   "source": []
  }
 ],
 "metadata": {
  "kernelspec": {
   "display_name": "Julia 1.5.2",
   "language": "julia",
   "name": "julia-1.5"
  },
  "language_info": {
   "file_extension": ".jl",
   "mimetype": "application/julia",
   "name": "julia",
   "version": "1.5.2"
  }
 },
 "nbformat": 4,
 "nbformat_minor": 4
}
