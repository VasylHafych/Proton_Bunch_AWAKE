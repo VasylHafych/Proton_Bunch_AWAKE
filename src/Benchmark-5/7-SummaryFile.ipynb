{
 "cells": [
  {
   "cell_type": "code",
   "execution_count": 1,
   "metadata": {},
   "outputs": [],
   "source": [
    "using JLD2\n",
    "using FileIO\n",
    "using PyPlot\n",
    "using Statistics\n",
    "using StatsBase \n",
    "using Distributions\n",
    "using LinearAlgebra\n",
    "using HDF5\n",
    "using IntervalSets\n",
    "using Random, ArraysOfArrays\n",
    "using ValueShapes\n",
    "using Measurements\n",
    "using BAT\n",
    "using DSP\n",
    "using ForwardDiff"
   ]
  },
  {
   "cell_type": "code",
   "execution_count": 2,
   "metadata": {},
   "outputs": [
    {
     "data": {
      "text/plain": [
       "get_emmitance_core (generic function with 1 method)"
      ]
     },
     "execution_count": 2,
     "metadata": {},
     "output_type": "execute_result"
    }
   ],
   "source": [
    "FPATH = \"../../data/sampling_results/Benchmark-5/\"\n",
    "\n",
    "function marg_mean_shaped(name)\n",
    "    smpl_tmp = bat_read(FPATH*name)\n",
    "    smpl_tmp = varshape(prior).(smpl_tmp)\n",
    "    smpl_tmp = mean(smpl_tmp)\n",
    "    return smpl_tmp\n",
    "end\n",
    "\n",
    "function marg_std_shaped(name)\n",
    "    smpl_tmp = bat_read(FPATH*name)\n",
    "    smpl_tmp = varshape(prior).(smpl_tmp)\n",
    "    smpl_tmp = std(smpl_tmp)\n",
    "    return smpl_tmp\n",
    "end\n",
    "\n",
    "function get_emmitance_halo(name, proj)\n",
    "    # proj  1 / 2 \n",
    "    smpl_tmp = bat_read(FPATH*name)\n",
    "    smpl_tmp = varshape(prior).(smpl_tmp)\n",
    "    smpl_tmp, smpl_w = flatview(unshaped.(smpl_tmp.v)), smpl_tmp.weight\n",
    "    emm = smpl_tmp[proj,:].*smpl_tmp[4+proj,:].*10^-5 .* 1000 .* 426.0\n",
    "    μ = mean(emm, FrequencyWeights(smpl_w))\n",
    "    σ = std(emm, FrequencyWeights(smpl_w)) \n",
    "    return (mean = μ, std = σ)\n",
    "end\n",
    "\n",
    "function get_emmitance_core(name, proj)\n",
    "    # proj  1 / 2 \n",
    "    smpl_tmp = bat_read(FPATH*name)\n",
    "    smpl_tmp = varshape(prior).(smpl_tmp)\n",
    "    smpl_tmp, smpl_w = flatview(unshaped.(smpl_tmp.v)), smpl_tmp.weight\n",
    "    emm = smpl_tmp[2+proj,:].*smpl_tmp[6+proj,:].*10^-5 .* 1000 .* 426.0\n",
    "    μ = mean(emm, FrequencyWeights(smpl_w))\n",
    "    σ = std(emm, FrequencyWeights(smpl_w)) \n",
    "    return (mean = μ, std = σ)\n",
    "end"
   ]
  },
  {
   "cell_type": "code",
   "execution_count": 3,
   "metadata": {},
   "outputs": [],
   "source": [
    "β1 = 0.015\n",
    "β2 = 0.0077\n",
    "β3 = 0.0058\n",
    "\n",
    "# flat prior for the pixel size\n",
    "prior = NamedTupleDist(\n",
    "        tr_size = [truncated(Normal(0.2, 0.04), 0.06, 0.19), truncated(Normal(0.2, 0.04), 0.06, 0.19)],\n",
    "        tr_size_2 = [truncated(Normal(0.2, 0.04), 0.06, 0.19), truncated(Normal(0.2, 0.04), 0.06, 0.19)],\n",
    "        ang_spr = [truncated(Normal(4.0, 2.0), 4.0, 7.0), truncated(Normal(4.0, 2.0), 4.0, 7.0)],\n",
    "        ang_spr_2 = [truncated(Normal(4.0, 2.0), 1.0, 4.0), truncated(Normal(4.0, 2.0), 1.0, 4.0)],\n",
    "        mixt_pow =  0.50 .. 1.0 ,\n",
    "        waist = [truncated(Normal(2.9, 0.03), 2.65, 3.5)],\n",
    "        waist_2 = [truncated(Normal(2.9, 0.03), 2.65, 3.5)], # 11\n",
    "        algmx = [23.0 .. 48, 23.0 .. 48.0, 10.0 .. 30.0, 23.0 .. 48.0],\n",
    "        algmy = [23.0 .. 48, 23.0 .. 48.0, 10.0 .. 30.0, 23.0 .. 48.0],\n",
    "        cam4_ped = 4.0 .. 40.0,\n",
    "        cam4_light_fluct = 1.0 .. 3.0,\n",
    "        cam4_light_amp = 1.6 .. 9.9, \n",
    "        resx = [1, 1, 1], # 23, 24, 25, \n",
    "        resy = [1, 1, 1], # 26,27, 28, \n",
    "        cam4_resx = truncated(Normal(3, 1.5), 0, Inf),\n",
    "        cam4_resy = truncated(Normal(3, 1.5), 0, Inf), \n",
    "        psx = [27.1, 21.6, 114.0], # 31, 32, 33\n",
    "        psy = [30.5, 23.4, 125.0], # 34, 35, 36\n",
    "        cam4_psx = 121.8, # 37\n",
    "        cam4_psy = 120.0, # 38\n",
    "        light_amp  = [1.0 .. 13.0 , 1.0 .. 17.0, 1.0 .. 5.0], # 1.0 .. 5.0\n",
    "        s_cam = [0.0, 1.478, 15.026, 23.1150],\n",
    "    )\n",
    "\n",
    "\n",
    "labels = [L\"\\sigma_x\", L\"\\sigma_y\", L\"\\sigma_x\", L\"\\sigma_y\", L\"\\sigma'_x\", L\"\\sigma'_y\", L\"\\sigma'_x\", L\"\\sigma'_y\", L\"\\alpha\", L\"s\", L\"s\", \n",
    "    L\"\\mu_x\", L\"\\mu_x\", L\"\\mu_x\", L\"\\mu_x\", L\"\\mu_y\", L\"\\mu_y\", L\"\\mu_y\", L\"\\mu_y\", \n",
    "    \"ped\", \"lf\", \"a\", \"res x\", \"res y\", \"la\", \"la\", \"la\"];"
   ]
  },
  {
   "cell_type": "code",
   "execution_count": 4,
   "metadata": {},
   "outputs": [],
   "source": [
    "smpl_tmp = bat_read(FPATH*\"hc-2.hdf5\")\n",
    "smpl_tmp = varshape(prior).(smpl_tmp);"
   ]
  },
  {
   "cell_type": "code",
   "execution_count": 5,
   "metadata": {},
   "outputs": [],
   "source": [
    "filenames = readdir(\"../../data/sampling_results/Benchmark-5/\")\n",
    "images = load(\"../../data/experiment/dataset_2/m2/images-satur.jld2\")\n",
    "hc_mask = [i[1:3] == \"hc-\" for i in filenames]\n",
    "hc_fnames = filenames[hc_mask]\n",
    "hc_eind = parse.(Int64, [i[4:end-5] for i in hc_fnames])\n",
    "hc_charge = images[\"charge\"][hc_eind]\n",
    "hc_runind = images[\"ev_ind\"][hc_eind];"
   ]
  },
  {
   "cell_type": "code",
   "execution_count": 6,
   "metadata": {},
   "outputs": [],
   "source": [
    "filenames = readdir(\"../../data/sampling_results/Benchmark-5/\")\n",
    "images = load(\"../../data/experiment/dataset_2/m1/images-satur.jld2\")\n",
    "lc_mask = [i[1:3] == \"lc-\" for i in filenames]\n",
    "lc_fnames = filenames[lc_mask]\n",
    "lc_eind = parse.(Int64, [i[4:end-5] for i in lc_fnames])\n",
    "lc_charge = images[\"charge\"][lc_eind]\n",
    "lc_runind = images[\"ev_ind\"][lc_eind];"
   ]
  },
  {
   "cell_type": "code",
   "execution_count": 7,
   "metadata": {},
   "outputs": [],
   "source": [
    "fnames = [lc_fnames; hc_fnames]\n",
    "charges = Float64[lc_charge; hc_charge]\n",
    "runind = Int64[lc_runind ; hc_runind]\n",
    "charges_n = charges ./ maximum(charges)\n",
    "runind_n = runind ./ maximum(runind);"
   ]
  },
  {
   "cell_type": "code",
   "execution_count": 8,
   "metadata": {},
   "outputs": [],
   "source": [
    "mean_params =  [marg_mean_shaped(i) for i in fnames];\n",
    "std_params =  [marg_std_shaped(i) for i in fnames];"
   ]
  },
  {
   "cell_type": "code",
   "execution_count": null,
   "metadata": {},
   "outputs": [],
   "source": []
  },
  {
   "cell_type": "markdown",
   "metadata": {},
   "source": [
    "### Alignment: "
   ]
  },
  {
   "cell_type": "code",
   "execution_count": 9,
   "metadata": {},
   "outputs": [],
   "source": [
    "zc_x = [minimum([i.algmx[j] for i in mean_params]) for j in 1:4]; # find min position at each camera \n",
    "zc_y = [minimum([i.algmy[j] for i in mean_params]) for j in 1:4]; # find min position at each camera "
   ]
  },
  {
   "cell_type": "code",
   "execution_count": 10,
   "metadata": {},
   "outputs": [],
   "source": [
    "x_event = Array{Float64,1}[]\n",
    "y_event = Array{Float64,1}[]\n",
    "x_event_std = Array{Float64,1}[]\n",
    "y_event_std = Array{Float64,1}[]\n",
    "\n",
    "for i in eachindex(mean_params) \n",
    "    push!(x_event, (mean_params[i].algmx .- zc_x) .* [mean_params[i].psx ; mean_params[i].cam4_psx] .+ 1.0 )\n",
    "    push!(y_event, (mean_params[i].algmy .- zc_y) .* [mean_params[i].psy ; mean_params[i].cam4_psy] .+ 1.0 )\n",
    "    \n",
    "    push!(x_event_std, std_params[i].algmx .* [mean_params[i].psx ; mean_params[i].cam4_psx])\n",
    "    push!(y_event_std, std_params[i].algmy .* [mean_params[i].psy ; mean_params[i].cam4_psy])\n",
    "     \n",
    "end"
   ]
  },
  {
   "cell_type": "markdown",
   "metadata": {},
   "source": [
    "### Emittance: "
   ]
  },
  {
   "cell_type": "code",
   "execution_count": 11,
   "metadata": {},
   "outputs": [],
   "source": [
    "emm_tmp_1 = [get_emmitance_halo(i, 1) for i in fnames]\n",
    "emm_tmp_2 = [get_emmitance_halo(i, 2) for i in fnames];"
   ]
  },
  {
   "cell_type": "code",
   "execution_count": 12,
   "metadata": {},
   "outputs": [],
   "source": [
    "emm_tmp_21 = [get_emmitance_core(i, 1) for i in fnames]\n",
    "emm_tmp_22 = [get_emmitance_core(i, 2) for i in fnames];"
   ]
  },
  {
   "cell_type": "markdown",
   "metadata": {},
   "source": [
    "### Summary File: "
   ]
  },
  {
   "cell_type": "code",
   "execution_count": 13,
   "metadata": {},
   "outputs": [],
   "source": [
    "summary_data = (\n",
    "    \n",
    "    ev_index = runind,\n",
    "    ev_charge = charges,\n",
    "    mode = [i > 15 ? \"LP\" : \"SP\" for i in charges],\n",
    "    \n",
    "    #fnames = fnames,\n",
    "    \n",
    "    μx_trsz_halo = Float64[i.tr_size[1] for i in mean_params],\n",
    "    μy_trsz_halo = Float64[i.tr_size[2] for i in mean_params],\n",
    "    \n",
    "    μx_trsz_core = Float64[i.tr_size_2[1] for i in mean_params],\n",
    "    μy_trsz_core = Float64[i.tr_size_2[2] for i in mean_params],\n",
    "    \n",
    "    μx_angspr_halo = Float64[i.ang_spr[1] for i in mean_params],\n",
    "    μy_angspr_halo = Float64[i.ang_spr[2] for i in mean_params],\n",
    "    \n",
    "    μx_angspr_core = Float64[i.ang_spr_2[1] for i in mean_params],\n",
    "    μy_angspr_core = Float64[i.ang_spr_2[2] for i in mean_params],\n",
    "    \n",
    "    μ_waist_halo = Float64[i.waist[1] for i in mean_params],\n",
    "    μ_waist_core = Float64[i.waist_2[1] for i in mean_params],\n",
    "    \n",
    "    μx_emitt_halo = Float64[i.mean for i in emm_tmp_1],\n",
    "    μy_emitt_halo = Float64[i.mean for i in emm_tmp_2],\n",
    "    \n",
    "    μx_emitt_core = Float64[i.mean for i in emm_tmp_21],\n",
    "    μy_emitt_core = Float64[i.mean for i in emm_tmp_22],\n",
    "    \n",
    "    μmixt_pow = Float64[i.mixt_pow[1] for i in mean_params],\n",
    "    \n",
    "    μx_align = x_event,\n",
    "    μy_align = y_event,\n",
    "    \n",
    "    σx_trsz_halo = Float64[i.tr_size[1] for i in std_params],\n",
    "    σy_trsz_halo = Float64[i.tr_size[2] for i in std_params],\n",
    "    \n",
    "    σx_trsz_core = Float64[i.tr_size_2[1] for i in std_params],\n",
    "    σy_trsz_core = Float64[i.tr_size_2[2] for i in std_params],\n",
    "    \n",
    "    σx_angspr_halo = Float64[i.ang_spr[1] for i in std_params],\n",
    "    σy_angspr_halo = Float64[i.ang_spr[2] for i in std_params],\n",
    "    \n",
    "    σx_angspr_core = Float64[i.ang_spr_2[1] for i in std_params],\n",
    "    σy_angspr_core = Float64[i.ang_spr_2[2] for i in std_params],\n",
    "        \n",
    "    σ_waist_halo = Float64[i.waist[1] for i in std_params],\n",
    "    σ_waist_core = Float64[i.waist_2[1] for i in std_params],\n",
    "    \n",
    "    σx_emitt_halo = Float64[i.std for i in emm_tmp_1],\n",
    "    σy_emitt_halo = Float64[i.std for i in emm_tmp_2],\n",
    "    \n",
    "    σx_emitt_core = Float64[i.std for i in emm_tmp_21],\n",
    "    σy_emitt_core = Float64[i.std for i in emm_tmp_22],\n",
    "    \n",
    "    σx_align = x_event_std,\n",
    "    σy_align = y_event_std,\n",
    ");\n",
    "\n"
   ]
  },
  {
   "cell_type": "code",
   "execution_count": null,
   "metadata": {},
   "outputs": [],
   "source": []
  },
  {
   "cell_type": "markdown",
   "metadata": {},
   "source": [
    "# Mean event SP:"
   ]
  },
  {
   "cell_type": "code",
   "execution_count": 14,
   "metadata": {},
   "outputs": [
    {
     "data": {
      "text/plain": [
       "std_estim (generic function with 1 method)"
      ]
     },
     "execution_count": 14,
     "metadata": {},
     "output_type": "execute_result"
    }
   ],
   "source": [
    "std_estim(x) = sqrt(1/sum(1 ./ (x.^2)))"
   ]
  },
  {
   "cell_type": "code",
   "execution_count": 15,
   "metadata": {
    "jupyter": {
     "source_hidden": true
    }
   },
   "outputs": [],
   "source": [
    "# Estimator does not include uncertanity. \n",
    "\n",
    "# mask_tmp = summary_data.mode .== \"SP\"\n",
    "\n",
    "# mean_event_sp = (\n",
    "#     ev_charge = mean(summary_data.ev_charge[mask_tmp]),\n",
    "    \n",
    "#     μx_trsz_halo = mean(summary_data.μx_trsz_halo[mask_tmp]),\n",
    "#     μy_trsz_halo = mean(summary_data.μy_trsz_halo[mask_tmp]),\n",
    "    \n",
    "#     μx_trsz_core = mean(summary_data.μx_trsz_core[mask_tmp]),\n",
    "#     μy_trsz_core = mean(summary_data.μy_trsz_core[mask_tmp]),\n",
    "    \n",
    "#     μx_angspr_halo = mean(summary_data.μx_angspr_halo[mask_tmp]),\n",
    "#     μy_angspr_halo = mean(summary_data.μy_angspr_halo[mask_tmp]),\n",
    "    \n",
    "#     μx_angspr_core = mean(summary_data.μx_angspr_core[mask_tmp]),\n",
    "#     μy_angspr_core = mean(summary_data.μy_angspr_core[mask_tmp]),\n",
    "    \n",
    "#     μ_waist_halo = mean(summary_data.μ_waist_halo[mask_tmp]),\n",
    "#     μ_waist_core = mean(summary_data.μ_waist_core[mask_tmp]),\n",
    "    \n",
    "#     μx_emitt_halo = mean(summary_data.μx_emitt_halo[mask_tmp]),\n",
    "#     μy_emitt_halo = mean(summary_data.μy_emitt_halo[mask_tmp]),\n",
    "    \n",
    "#     μx_emitt_core = mean(summary_data.μx_emitt_core[mask_tmp]),\n",
    "#     μy_emitt_core = mean(summary_data.μy_emitt_core[mask_tmp]),\n",
    "    \n",
    "#     μmixt_pow = mean(summary_data.μmixt_pow[mask_tmp]),\n",
    "    \n",
    "#     μx_align = mean(summary_data.μx_align[mask_tmp]),\n",
    "#     μy_align = mean(summary_data.μy_align[mask_tmp]),\n",
    "    \n",
    "#     σx_trsz_halo = mean(summary_data.σx_trsz_halo[mask_tmp]),\n",
    "#     σy_trsz_halo = mean(summary_data.σy_trsz_halo[mask_tmp]),\n",
    "    \n",
    "#     σx_trsz_core = mean(summary_data.σx_trsz_core[mask_tmp]),\n",
    "#     σy_trsz_core = mean(summary_data.σy_trsz_core[mask_tmp]),\n",
    "    \n",
    "#     σx_angspr_halo = mean(summary_data.σx_angspr_halo[mask_tmp]),\n",
    "#     σy_angspr_halo = mean(summary_data.σy_angspr_halo[mask_tmp]),\n",
    "    \n",
    "#     σx_angspr_core = mean(summary_data.σx_angspr_core[mask_tmp]),\n",
    "#     σy_angspr_core = mean(summary_data.σy_angspr_core[mask_tmp]),\n",
    "        \n",
    "#     σ_waist_halo = mean(summary_data.σ_waist_halo[mask_tmp]),\n",
    "#     σ_waist_core = mean(summary_data.σ_waist_core[mask_tmp]),\n",
    "    \n",
    "#     σx_emitt_halo = mean(summary_data.σx_emitt_halo[mask_tmp]),\n",
    "#     σy_emitt_halo = mean(summary_data.σy_emitt_halo[mask_tmp]),\n",
    "    \n",
    "#     σx_emitt_core = mean(summary_data.σx_emitt_core[mask_tmp]),\n",
    "#     σy_emitt_core = mean(summary_data.σy_emitt_core[mask_tmp]),\n",
    "    \n",
    "#     σx_align = mean(summary_data.σx_align[mask_tmp]),\n",
    "#     σy_align = mean(summary_data.σy_align[mask_tmp]),\n",
    "# )"
   ]
  },
  {
   "cell_type": "code",
   "execution_count": 16,
   "metadata": {},
   "outputs": [
    {
     "data": {
      "text/plain": [
       "(ev_charge = 9.086499189176868, μx_trsz_halo = 0.048908705143001455, μy_trsz_halo = 0.10460314914394772, μx_trsz_core = 0.09748949359375889, μy_trsz_core = 0.10731343109590981, μx_angspr_halo = 6.479574073386949, μy_angspr_halo = 5.926542564892638, μx_angspr_core = 2.2908598552101718, μy_angspr_core = 2.2034432113384232, μ_waist_halo = 3.075684822358103, μ_waist_core = 2.847222068552377, μx_emitt_halo = 1.348390188619861, μy_emitt_halo = 2.6285837136560706, μx_emitt_core = 0.9487932867988684, μy_emitt_core = 1.0062905776091253, μmixt_pow = 0.5449362640943097, μx_align = [101.02326376736367, 99.33257125730495, 131.79626176900786, 161.08697504951732], μy_align = [54.207512939831375, 34.965382036753375, 89.6215459910073, 113.68959531114922], σx_trsz_halo = 0.00021431594743678546, σy_trsz_halo = 0.00012209552318633764, σx_trsz_core = 6.768974140769887e-5, σy_trsz_core = 8.842372423305061e-5, σx_angspr_halo = 0.0033021108609901364, σy_angspr_halo = 0.003203869928811664, σx_angspr_core = 0.003056893710999103, σy_angspr_core = 0.0026840569124081883, σ_waist_halo = 0.0013798148684655142, σ_waist_core = 0.001851950189457152, σx_emitt_halo = 0.005669497024409789, σy_emitt_halo = 0.002936483419782091, σx_emitt_core = 0.0012516921317621483, σy_emitt_core = 0.0013330105888958534, σx_align = [0.7783465349577022, 0.5471725394150636, 4.832733594314427, 3.0280545301031774], σy_align = [0.8165617415899449, 0.5311886167959595, 4.056870121407346, 2.7877434177332376])"
      ]
     },
     "execution_count": 16,
     "metadata": {},
     "output_type": "execute_result"
    }
   ],
   "source": [
    "mask_tmp = summary_data.mode .== \"SP\"\n",
    "\n",
    "mean_event_sp = (\n",
    "    ev_charge = mean(summary_data.ev_charge[mask_tmp]),\n",
    "    \n",
    "    μx_trsz_halo = mean(summary_data.μx_trsz_halo[mask_tmp], weights(1 ./summary_data.σx_trsz_halo[mask_tmp])),\n",
    "    μy_trsz_halo = mean(summary_data.μy_trsz_halo[mask_tmp], weights(1 ./summary_data.σy_trsz_halo[mask_tmp])),\n",
    "    \n",
    "    μx_trsz_core = mean(summary_data.μx_trsz_core[mask_tmp], weights(1 ./summary_data.σx_trsz_core[mask_tmp])),\n",
    "    μy_trsz_core = mean(summary_data.μy_trsz_core[mask_tmp], weights(1 ./summary_data.σx_trsz_core[mask_tmp])),\n",
    "    \n",
    "    μx_angspr_halo = mean(summary_data.μx_angspr_halo[mask_tmp], weights(1 ./summary_data.σx_angspr_halo[mask_tmp])),\n",
    "    μy_angspr_halo = mean(summary_data.μy_angspr_halo[mask_tmp], weights(1 ./summary_data.σy_angspr_halo[mask_tmp])),\n",
    "    \n",
    "    μx_angspr_core = mean(summary_data.μx_angspr_core[mask_tmp], weights(1 ./summary_data.σx_angspr_core[mask_tmp])),\n",
    "    μy_angspr_core = mean(summary_data.μy_angspr_core[mask_tmp], weights(1 ./summary_data.σy_angspr_core[mask_tmp])),\n",
    "    \n",
    "    μ_waist_halo = mean(summary_data.μ_waist_halo[mask_tmp], weights(1 ./summary_data.σ_waist_halo[mask_tmp])),\n",
    "    μ_waist_core = mean(summary_data.μ_waist_core[mask_tmp], weights(1 ./summary_data.σ_waist_core[mask_tmp])),\n",
    "    \n",
    "    μx_emitt_halo = mean(summary_data.μx_emitt_halo[mask_tmp], weights(1 ./summary_data.σx_emitt_halo[mask_tmp])),\n",
    "    μy_emitt_halo = mean(summary_data.μy_emitt_halo[mask_tmp], weights(1 ./summary_data.σy_emitt_halo[mask_tmp])),\n",
    "    \n",
    "    μx_emitt_core = mean(summary_data.μx_emitt_core[mask_tmp], weights(1 ./summary_data.σx_emitt_core[mask_tmp])),\n",
    "    μy_emitt_core = mean(summary_data.μy_emitt_core[mask_tmp], weights(1 ./summary_data.σy_emitt_core[mask_tmp])),\n",
    "    \n",
    "    μmixt_pow = mean(summary_data.μmixt_pow[mask_tmp]),\n",
    "    \n",
    "    μx_align = mean(summary_data.μx_align[mask_tmp], ),\n",
    "    μy_align = mean(summary_data.μy_align[mask_tmp], ),\n",
    "    \n",
    "    σx_trsz_halo = std_estim(summary_data.σx_trsz_halo[mask_tmp]),\n",
    "    σy_trsz_halo = std_estim(summary_data.σy_trsz_halo[mask_tmp]),\n",
    "    \n",
    "    σx_trsz_core = std_estim(summary_data.σx_trsz_core[mask_tmp]),\n",
    "    σy_trsz_core = std_estim(summary_data.σy_trsz_core[mask_tmp]),\n",
    "    \n",
    "    σx_angspr_halo = std_estim(summary_data.σx_angspr_halo[mask_tmp]),\n",
    "    σy_angspr_halo = std_estim(summary_data.σy_angspr_halo[mask_tmp]),\n",
    "    \n",
    "    σx_angspr_core = std_estim(summary_data.σx_angspr_core[mask_tmp]),\n",
    "    σy_angspr_core = std_estim(summary_data.σy_angspr_core[mask_tmp]),\n",
    "        \n",
    "    σ_waist_halo = std_estim(summary_data.σ_waist_halo[mask_tmp]),\n",
    "    σ_waist_core = std_estim(summary_data.σ_waist_core[mask_tmp]),\n",
    "    \n",
    "    σx_emitt_halo = std_estim(summary_data.σx_emitt_halo[mask_tmp]),\n",
    "    σy_emitt_halo = std_estim(summary_data.σy_emitt_halo[mask_tmp]),\n",
    "    \n",
    "    σx_emitt_core = std_estim(summary_data.σx_emitt_core[mask_tmp]),\n",
    "    σy_emitt_core = std_estim(summary_data.σy_emitt_core[mask_tmp]),\n",
    "    \n",
    "    σx_align = mean(summary_data.σx_align[mask_tmp]),\n",
    "    σy_align = mean(summary_data.σy_align[mask_tmp]),\n",
    ")"
   ]
  },
  {
   "cell_type": "markdown",
   "metadata": {},
   "source": [
    "# Mean event LP:"
   ]
  },
  {
   "cell_type": "code",
   "execution_count": 17,
   "metadata": {
    "jupyter": {
     "source_hidden": true
    }
   },
   "outputs": [],
   "source": [
    "# mask_tmp = summary_data.mode .== \"LP\"\n",
    "\n",
    "# mean_event_lp = (\n",
    "#     ev_charge = mean(summary_data.ev_charge[mask_tmp]),\n",
    "    \n",
    "#     μx_trsz_halo = mean(summary_data.μx_trsz_halo[mask_tmp]),\n",
    "#     μy_trsz_halo = mean(summary_data.μy_trsz_halo[mask_tmp]),\n",
    "    \n",
    "#     μx_trsz_core = mean(summary_data.μx_trsz_core[mask_tmp]),\n",
    "#     μy_trsz_core = mean(summary_data.μy_trsz_core[mask_tmp]),\n",
    "    \n",
    "#     μx_angspr_halo = mean(summary_data.μx_angspr_halo[mask_tmp]),\n",
    "#     μy_angspr_halo = mean(summary_data.μy_angspr_halo[mask_tmp]),\n",
    "    \n",
    "#     μx_angspr_core = mean(summary_data.μx_angspr_core[mask_tmp]),\n",
    "#     μy_angspr_core = mean(summary_data.μy_angspr_core[mask_tmp]),\n",
    "    \n",
    "#     μ_waist_halo = mean(summary_data.μ_waist_halo[mask_tmp]),\n",
    "#     μ_waist_core = mean(summary_data.μ_waist_core[mask_tmp]),\n",
    "    \n",
    "#     μx_emitt_halo = mean(summary_data.μx_emitt_halo[mask_tmp]),\n",
    "#     μy_emitt_halo = mean(summary_data.μy_emitt_halo[mask_tmp]),\n",
    "    \n",
    "#     μx_emitt_core = mean(summary_data.μx_emitt_core[mask_tmp]),\n",
    "#     μy_emitt_core = mean(summary_data.μy_emitt_core[mask_tmp]),\n",
    "    \n",
    "#     μmixt_pow = mean(summary_data.μmixt_pow[mask_tmp]),\n",
    "    \n",
    "#     μx_align = mean(summary_data.μx_align[mask_tmp]),\n",
    "#     μy_align = mean(summary_data.μy_align[mask_tmp]),\n",
    "    \n",
    "#     σx_trsz_halo = mean(summary_data.σx_trsz_halo[mask_tmp]),\n",
    "#     σy_trsz_halo = mean(summary_data.σy_trsz_halo[mask_tmp]),\n",
    "    \n",
    "#     σx_trsz_core = mean(summary_data.σx_trsz_core[mask_tmp]),\n",
    "#     σy_trsz_core = mean(summary_data.σy_trsz_core[mask_tmp]),\n",
    "    \n",
    "#     σx_angspr_halo = mean(summary_data.σx_angspr_halo[mask_tmp]),\n",
    "#     σy_angspr_halo = mean(summary_data.σy_angspr_halo[mask_tmp]),\n",
    "    \n",
    "#     σx_angspr_core = mean(summary_data.σx_angspr_core[mask_tmp]),\n",
    "#     σy_angspr_core = mean(summary_data.σy_angspr_core[mask_tmp]),\n",
    "        \n",
    "#     σ_waist_halo = mean(summary_data.σ_waist_halo[mask_tmp]),\n",
    "#     σ_waist_core = mean(summary_data.σ_waist_core[mask_tmp]),\n",
    "    \n",
    "#     σx_emitt_halo = mean(summary_data.σx_emitt_halo[mask_tmp]),\n",
    "#     σy_emitt_halo = mean(summary_data.σy_emitt_halo[mask_tmp]),\n",
    "    \n",
    "#     σx_emitt_core = mean(summary_data.σx_emitt_core[mask_tmp]),\n",
    "#     σy_emitt_core = mean(summary_data.σy_emitt_core[mask_tmp]),\n",
    "    \n",
    "#     σx_align = mean(summary_data.σx_align[mask_tmp]),\n",
    "#     σy_align = mean(summary_data.σy_align[mask_tmp]),\n",
    "# )"
   ]
  },
  {
   "cell_type": "code",
   "execution_count": 18,
   "metadata": {},
   "outputs": [
    {
     "data": {
      "text/plain": [
       "(ev_charge = 25.98544526550005, μx_trsz_halo = 0.0824600140689406, μy_trsz_halo = 0.12759300921039823, μx_trsz_core = 0.1258224389672421, μy_trsz_core = 0.13904070825809298, μx_angspr_halo = 5.977719674828502, μy_angspr_halo = 5.605715152838421, μx_angspr_core = 2.408841427676607, μy_angspr_core = 2.2597394468902743, μ_waist_halo = 3.197940919762776, μ_waist_core = 2.8584269030684712, μx_emitt_halo = 2.1007787208559354, μy_emitt_halo = 3.0273745687543983, μx_emitt_core = 1.2897947208495684, μy_emitt_core = 1.3309072432079916, μmixt_pow = 0.6934016992723405, μx_align = [103.86092945139087, 103.71440763621897, 130.24337486983129, 120.70303183703186], μy_align = [58.788280611339665, 40.25052493172735, 100.26116988603188, 117.04959546849187], σx_trsz_halo = 0.0001244386436118994, σy_trsz_halo = 0.00010595385197504555, σx_trsz_core = 8.177395241178028e-5, σy_trsz_core = 0.000136065557360728, σx_angspr_halo = 0.002448156978555436, σy_angspr_halo = 0.0023246372004402656, σx_angspr_core = 0.004016929121066727, σy_angspr_core = 0.003746355449951167, σ_waist_halo = 0.0013473174507993772, σ_waist_core = 0.0020358262434270386, σx_emitt_halo = 0.0030689725701310423, σy_emitt_halo = 0.0024167261735749657, σx_emitt_core = 0.0021278613589379063, σy_emitt_core = 0.0024825013076238316, σx_align = [0.5965530259856842, 0.642328731124423, 4.35667710363015, 2.4660692199738348], σy_align = [0.6309635734173781, 0.5147372256517674, 4.217489118297462, 2.3730840291466695])"
      ]
     },
     "execution_count": 18,
     "metadata": {},
     "output_type": "execute_result"
    }
   ],
   "source": [
    "mask_tmp = summary_data.mode .== \"LP\"\n",
    "\n",
    "mean_event_lp = (\n",
    "    ev_charge = mean(summary_data.ev_charge[mask_tmp]),\n",
    "    \n",
    "    μx_trsz_halo = mean(summary_data.μx_trsz_halo[mask_tmp], weights(1 ./summary_data.σx_trsz_halo[mask_tmp])),\n",
    "    μy_trsz_halo = mean(summary_data.μy_trsz_halo[mask_tmp], weights(1 ./summary_data.σy_trsz_halo[mask_tmp])),\n",
    "    \n",
    "    μx_trsz_core = mean(summary_data.μx_trsz_core[mask_tmp], weights(1 ./summary_data.σx_trsz_core[mask_tmp])),\n",
    "    μy_trsz_core = mean(summary_data.μy_trsz_core[mask_tmp], weights(1 ./summary_data.σx_trsz_core[mask_tmp])),\n",
    "    \n",
    "    μx_angspr_halo = mean(summary_data.μx_angspr_halo[mask_tmp], weights(1 ./summary_data.σx_angspr_halo[mask_tmp])),\n",
    "    μy_angspr_halo = mean(summary_data.μy_angspr_halo[mask_tmp], weights(1 ./summary_data.σy_angspr_halo[mask_tmp])),\n",
    "    \n",
    "    μx_angspr_core = mean(summary_data.μx_angspr_core[mask_tmp], weights(1 ./summary_data.σx_angspr_core[mask_tmp])),\n",
    "    μy_angspr_core = mean(summary_data.μy_angspr_core[mask_tmp], weights(1 ./summary_data.σy_angspr_core[mask_tmp])),\n",
    "    \n",
    "    μ_waist_halo = mean(summary_data.μ_waist_halo[mask_tmp], weights(1 ./summary_data.σ_waist_halo[mask_tmp])),\n",
    "    μ_waist_core = mean(summary_data.μ_waist_core[mask_tmp], weights(1 ./summary_data.σ_waist_core[mask_tmp])),\n",
    "    \n",
    "    μx_emitt_halo = mean(summary_data.μx_emitt_halo[mask_tmp], weights(1 ./summary_data.σx_emitt_halo[mask_tmp])),\n",
    "    μy_emitt_halo = mean(summary_data.μy_emitt_halo[mask_tmp], weights(1 ./summary_data.σy_emitt_halo[mask_tmp])),\n",
    "    \n",
    "    μx_emitt_core = mean(summary_data.μx_emitt_core[mask_tmp], weights(1 ./summary_data.σx_emitt_core[mask_tmp])),\n",
    "    μy_emitt_core = mean(summary_data.μy_emitt_core[mask_tmp], weights(1 ./summary_data.σy_emitt_core[mask_tmp])),\n",
    "    \n",
    "    μmixt_pow = mean(summary_data.μmixt_pow[mask_tmp]),\n",
    "    \n",
    "    μx_align = mean(summary_data.μx_align[mask_tmp], ),\n",
    "    μy_align = mean(summary_data.μy_align[mask_tmp], ),\n",
    "    \n",
    "    σx_trsz_halo = std_estim(summary_data.σx_trsz_halo[mask_tmp]),\n",
    "    σy_trsz_halo = std_estim(summary_data.σy_trsz_halo[mask_tmp]),\n",
    "    \n",
    "    σx_trsz_core = std_estim(summary_data.σx_trsz_core[mask_tmp]),\n",
    "    σy_trsz_core = std_estim(summary_data.σy_trsz_core[mask_tmp]),\n",
    "    \n",
    "    σx_angspr_halo = std_estim(summary_data.σx_angspr_halo[mask_tmp]),\n",
    "    σy_angspr_halo = std_estim(summary_data.σy_angspr_halo[mask_tmp]),\n",
    "    \n",
    "    σx_angspr_core = std_estim(summary_data.σx_angspr_core[mask_tmp]),\n",
    "    σy_angspr_core = std_estim(summary_data.σy_angspr_core[mask_tmp]),\n",
    "        \n",
    "    σ_waist_halo = std_estim(summary_data.σ_waist_halo[mask_tmp]),\n",
    "    σ_waist_core = std_estim(summary_data.σ_waist_core[mask_tmp]),\n",
    "    \n",
    "    σx_emitt_halo = std_estim(summary_data.σx_emitt_halo[mask_tmp]),\n",
    "    σy_emitt_halo = std_estim(summary_data.σy_emitt_halo[mask_tmp]),\n",
    "    \n",
    "    σx_emitt_core = std_estim(summary_data.σx_emitt_core[mask_tmp]),\n",
    "    σy_emitt_core = std_estim(summary_data.σy_emitt_core[mask_tmp]),\n",
    "    \n",
    "    σx_align = mean(summary_data.σx_align[mask_tmp]),\n",
    "    σy_align = mean(summary_data.σy_align[mask_tmp]),\n",
    ")"
   ]
  },
  {
   "cell_type": "markdown",
   "metadata": {},
   "source": [
    "## Save data: "
   ]
  },
  {
   "cell_type": "code",
   "execution_count": 19,
   "metadata": {},
   "outputs": [],
   "source": [
    "# Save data: \n",
    "\n",
    "data_save = (summary_data, mean_event_sp, mean_event_lp);\n",
    "\n",
    "# @save \"../../src/Benchmark-5/mcmc-summary-data-tmp.jld\" data_save"
   ]
  },
  {
   "cell_type": "code",
   "execution_count": 20,
   "metadata": {},
   "outputs": [],
   "source": [
    "# Load file to update angles:  \n",
    "\n",
    "# To do: How to average correctly measurements with uns. \n",
    "\n",
    "# @load \"../../src/Benchmark-5/mcmc-summary-data-tmp.jld\" data_save\n",
    "# (summary_data, mean_event_sp, mean_event_lp) = data_save ;"
   ]
  },
  {
   "cell_type": "code",
   "execution_count": 21,
   "metadata": {},
   "outputs": [
    {
     "data": {
      "image/png": "[encoded data removed]",
      "text/plain": [
       "Figure(PyObject <Figure size 1000x500 with 2 Axes>)"
      ]
     },
     "metadata": {},
     "output_type": "display_data"
    },
    {
     "data": {
      "text/plain": [
       "PyObject <matplotlib.legend.Legend object at 0x7f7548f9d910>"
      ]
     },
     "execution_count": 21,
     "metadata": {},
     "output_type": "execute_result"
    }
   ],
   "source": [
    "fig, ax= plt.subplots(1,2, figsize=(10,5))\n",
    "\n",
    "ax[1].scatter(summary_data.μx_trsz_core, summary_data.μy_trsz_core, color=\"peachpuff\", label=\"Core: All Ev.\")\n",
    "ax[2].scatter(summary_data.μx_emitt_core, summary_data.μy_emitt_core, color=\"peachpuff\")\n",
    "\n",
    "ax[1].scatter(summary_data.μx_trsz_halo, summary_data.μy_trsz_halo, color=\"lightblue\", label=\"Halo: All Ev.\")\n",
    "ax[2].scatter(summary_data.μx_emitt_halo, summary_data.μy_emitt_halo, color=\"lightblue\")\n",
    "\n",
    "ax[1].errorbar(\n",
    "    mean_event_sp.μx_trsz_core, \n",
    "    mean_event_sp.μy_trsz_core,\n",
    "    xerr=mean_event_sp.σx_trsz_core,\n",
    "    yerr=mean_event_sp.σy_trsz_core,\n",
    "    color=\"k\", \n",
    "    fmt=\"o\", markersize=4,  markeredgewidth=0.5,\n",
    "    mfc=\"red\", capsize=4, ecolor=\"k\", elinewidth=0.5, label=\"Small Pop.:Mean Ev. \")\n",
    "\n",
    "ax[1].errorbar(\n",
    "    mean_event_lp.μx_trsz_core, \n",
    "    mean_event_lp.μy_trsz_core,\n",
    "    xerr=mean_event_lp.σx_trsz_core,\n",
    "    yerr=mean_event_lp.σy_trsz_core,\n",
    "    color=\"k\", \n",
    "    fmt=\"o\", markersize=4,  markeredgewidth=0.5,\n",
    "    mfc=\"blue\", capsize=4, ecolor=\"k\", elinewidth=0.5, label=\"Large Pop.:Mean Ev. \")\n",
    "\n",
    "ax[1].errorbar(\n",
    "    mean_event_sp.μx_trsz_halo, \n",
    "    mean_event_sp.μy_trsz_halo,\n",
    "    xerr=mean_event_sp.σx_trsz_halo,\n",
    "    yerr=mean_event_sp.σy_trsz_halo,\n",
    "    color=\"k\", \n",
    "    fmt=\"o\", markersize=4,  markeredgewidth=0.5,\n",
    "    mfc=\"red\", capsize=4, ecolor=\"k\", elinewidth=0.5)\n",
    "\n",
    "ax[1].errorbar(\n",
    "    mean_event_lp.μx_trsz_halo, \n",
    "    mean_event_lp.μy_trsz_halo,\n",
    "    xerr=mean_event_lp.σx_trsz_halo,\n",
    "    yerr=mean_event_lp.σy_trsz_halo,\n",
    "    color=\"k\", \n",
    "    fmt=\"o\", markersize=4,  markeredgewidth=0.5,\n",
    "    mfc=\"blue\", capsize=4, ecolor=\"k\", elinewidth=0.5)\n",
    "\n",
    "\n",
    "ax[2].errorbar(\n",
    "    mean_event_sp.μx_emitt_core, \n",
    "    mean_event_sp.μy_emitt_core,\n",
    "    xerr=mean_event_sp.σx_emitt_core,\n",
    "    yerr=mean_event_sp.σy_emitt_core,\n",
    "    color=\"k\", \n",
    "    fmt=\"o\", markersize=4,  markeredgewidth=0.5,\n",
    "    mfc=\"red\", capsize=4, ecolor=\"k\", elinewidth=0.5, label=\"Small Pop.:Mean Ev. \")\n",
    "\n",
    "ax[2].errorbar(\n",
    "    mean_event_lp.μx_emitt_core, \n",
    "    mean_event_lp.μy_emitt_core,\n",
    "    xerr=mean_event_lp.σx_emitt_core,\n",
    "    yerr=mean_event_lp.σy_emitt_core,\n",
    "    color=\"k\", \n",
    "    fmt=\"o\", markersize=4,  markeredgewidth=0.5,\n",
    "    mfc=\"blue\", capsize=4, ecolor=\"k\", elinewidth=0.5, label=\"Small Pop.:Mean Ev. \")\n",
    "\n",
    "ax[2].errorbar(\n",
    "    mean_event_sp.μx_emitt_halo, \n",
    "    mean_event_sp.μy_emitt_halo,\n",
    "    xerr=mean_event_sp.σx_emitt_halo,\n",
    "    yerr=mean_event_sp.σy_emitt_halo,\n",
    "    color=\"k\", \n",
    "    fmt=\"o\", markersize=4,  markeredgewidth=0.5,\n",
    "    mfc=\"red\", capsize=4, ecolor=\"k\", elinewidth=0.5, label=\"Small Pop.:Mean Ev. \")\n",
    "\n",
    "ax[2].errorbar(\n",
    "    mean_event_lp.μx_emitt_halo, \n",
    "    mean_event_lp.μy_emitt_halo,\n",
    "    xerr=mean_event_lp.σx_emitt_halo,\n",
    "    yerr=mean_event_lp.σy_emitt_halo,\n",
    "    color=\"k\", \n",
    "    fmt=\"o\", markersize=4,  markeredgewidth=0.5,\n",
    "    mfc=\"blue\", capsize=4, ecolor=\"k\", elinewidth=0.5, label=\"Small Pop.:Mean Ev. \")\n",
    "\n",
    "\n",
    "\n",
    "ax[1].set_title(\"Transversal Size\")\n",
    "ax[2].set_title(\"Emittance\")\n",
    "\n",
    "ax[1].set_xlabel(L\"\\sigma_x \\; (\\mathrm{mm})\")\n",
    "ax[1].set_ylabel(L\"\\sigma_y \\; (\\mathrm{mm})\")\n",
    "\n",
    "ax[2].set_xlabel(L\"\\epsilon_x \\; (\\mathrm{mm \\cdot mrad})\")\n",
    "ax[2].set_ylabel(L\"\\epsilon_y \\; (\\mathrm{mm \\cdot mrad})\")\n",
    "\n",
    "ax[1].legend()"
   ]
  },
  {
   "cell_type": "code",
   "execution_count": null,
   "metadata": {},
   "outputs": [],
   "source": []
  },
  {
   "cell_type": "code",
   "execution_count": null,
   "metadata": {},
   "outputs": [],
   "source": []
  },
  {
   "cell_type": "code",
   "execution_count": null,
   "metadata": {},
   "outputs": [],
   "source": []
  }
 ],
 "metadata": {
  "kernelspec": {
   "display_name": "Julia 1.5.3",
   "language": "julia",
   "name": "julia-1.5"
  },
  "language_info": {
   "file_extension": ".jl",
   "mimetype": "application/julia",
   "name": "julia",
   "version": "1.5.3"
  }
 },
 "nbformat": 4,
 "nbformat_minor": 4
}
