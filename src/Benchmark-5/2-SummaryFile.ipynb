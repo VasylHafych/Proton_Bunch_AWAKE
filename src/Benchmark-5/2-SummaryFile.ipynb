{
 "cells": [
  {
   "cell_type": "code",
   "execution_count": 1,
   "metadata": {},
   "outputs": [],
   "source": [
    "using JLD2\n",
    "using FileIO\n",
    "using PyPlot\n",
    "using Statistics\n",
    "using StatsBase \n",
    "using Distributions\n",
    "using LinearAlgebra\n",
    "using HDF5\n",
    "using IntervalSets\n",
    "using Random, ArraysOfArrays\n",
    "using ValueShapes\n",
    "using Measurements\n",
    "using BAT\n",
    "using DSP\n",
    "using ForwardDiff"
   ]
  },
  {
   "cell_type": "code",
   "execution_count": 2,
   "metadata": {},
   "outputs": [
    {
     "data": {
      "text/plain": [
       "get_emmitance_core (generic function with 1 method)"
      ]
     },
     "execution_count": 2,
     "metadata": {},
     "output_type": "execute_result"
    }
   ],
   "source": [
    "FPATH = \"../../data/sampling_results/Benchmark-5/\"\n",
    "\n",
    "function marg_mean_shaped(name)\n",
    "    smpl_tmp = bat_read(FPATH*name)\n",
    "    smpl_tmp = varshape(prior).(smpl_tmp)\n",
    "    smpl_tmp = mean(smpl_tmp)\n",
    "    return smpl_tmp\n",
    "end\n",
    "\n",
    "function marg_std_shaped(name)\n",
    "    smpl_tmp = bat_read(FPATH*name)\n",
    "    smpl_tmp = varshape(prior).(smpl_tmp)\n",
    "    smpl_tmp = std(smpl_tmp)\n",
    "    return smpl_tmp\n",
    "end\n",
    "\n",
    "function get_emmitance_halo(name, proj)\n",
    "    # proj  1 / 2 \n",
    "    smpl_tmp = bat_read(FPATH*name)\n",
    "    smpl_tmp = varshape(prior).(smpl_tmp)\n",
    "    smpl_tmp, smpl_w = flatview(unshaped.(smpl_tmp.v)), smpl_tmp.weight\n",
    "    emm = smpl_tmp[proj,:].*smpl_tmp[4+proj,:].*10^-5 .* 1000 .* 426.0\n",
    "    μ = mean(emm, FrequencyWeights(smpl_w))\n",
    "    σ = std(emm, FrequencyWeights(smpl_w)) \n",
    "    return (mean = μ, std = σ)\n",
    "end\n",
    "\n",
    "function get_emmitance_core(name, proj)\n",
    "    # proj  1 / 2 \n",
    "    smpl_tmp = bat_read(FPATH*name)\n",
    "    smpl_tmp = varshape(prior).(smpl_tmp)\n",
    "    smpl_tmp, smpl_w = flatview(unshaped.(smpl_tmp.v)), smpl_tmp.weight\n",
    "    emm = smpl_tmp[2+proj,:].*smpl_tmp[6+proj,:].*10^-5 .* 1000 .* 426.0\n",
    "    μ = mean(emm, FrequencyWeights(smpl_w))\n",
    "    σ = std(emm, FrequencyWeights(smpl_w)) \n",
    "    return (mean = μ, std = σ)\n",
    "end"
   ]
  },
  {
   "cell_type": "code",
   "execution_count": 3,
   "metadata": {},
   "outputs": [],
   "source": [
    "β1 = 0.015\n",
    "β2 = 0.0077\n",
    "β3 = 0.0058\n",
    "\n",
    "# flat prior for the pixel size\n",
    "prior = NamedTupleDist(\n",
    "        tr_size = [truncated(Normal(0.2, 0.04), 0.06, 0.19), truncated(Normal(0.2, 0.04), 0.06, 0.19)],\n",
    "        tr_size_2 = [truncated(Normal(0.2, 0.04), 0.06, 0.19), truncated(Normal(0.2, 0.04), 0.06, 0.19)],\n",
    "        ang_spr = [truncated(Normal(4.0, 2.0), 4.0, 7.0), truncated(Normal(4.0, 2.0), 4.0, 7.0)],\n",
    "        ang_spr_2 = [truncated(Normal(4.0, 2.0), 1.0, 4.0), truncated(Normal(4.0, 2.0), 1.0, 4.0)],\n",
    "        mixt_pow =  0.50 .. 1.0 ,\n",
    "        waist = [truncated(Normal(2.9, 0.03), 2.65, 3.5)],\n",
    "        waist_2 = [truncated(Normal(2.9, 0.03), 2.65, 3.5)], # 11\n",
    "        algmx = [23.0 .. 48, 23.0 .. 48.0, 10.0 .. 30.0, 23.0 .. 48.0],\n",
    "        algmy = [23.0 .. 48, 23.0 .. 48.0, 10.0 .. 30.0, 23.0 .. 48.0],\n",
    "        cam4_ped = 4.0 .. 40.0,\n",
    "        cam4_light_fluct = 1.0 .. 3.0,\n",
    "        cam4_light_amp = 1.6 .. 9.9, \n",
    "        resx = [1, 1, 1], # 23, 24, 25, \n",
    "        resy = [1, 1, 1], # 26,27, 28, \n",
    "        cam4_resx = truncated(Normal(3, 1.5), 0, Inf),\n",
    "        cam4_resy = truncated(Normal(3, 1.5), 0, Inf), \n",
    "        psx = [27.1, 21.6, 114.0], # 31, 32, 33\n",
    "        psy = [30.5, 23.4, 125.0], # 34, 35, 36\n",
    "        cam4_psx = 121.8, # 37\n",
    "        cam4_psy = 120.0, # 38\n",
    "        light_amp  = [1.0 .. 13.0 , 1.0 .. 17.0, 1.0 .. 5.0], # 1.0 .. 5.0\n",
    "        s_cam = [0.0, 1.478, 15.026, 23.1150],\n",
    "    )\n",
    "\n",
    "\n",
    "labels = [L\"\\sigma_x\", L\"\\sigma_y\", L\"\\sigma_x\", L\"\\sigma_y\", L\"\\sigma'_x\", L\"\\sigma'_y\", L\"\\sigma'_x\", L\"\\sigma'_y\", L\"\\alpha\", L\"s\", L\"s\", \n",
    "    L\"\\mu_x\", L\"\\mu_x\", L\"\\mu_x\", L\"\\mu_x\", L\"\\mu_y\", L\"\\mu_y\", L\"\\mu_y\", L\"\\mu_y\", \n",
    "    \"ped\", \"lf\", \"a\", \"res x\", \"res y\", \"la\", \"la\", \"la\"];"
   ]
  },
  {
   "cell_type": "code",
   "execution_count": 4,
   "metadata": {},
   "outputs": [],
   "source": [
    "smpl_tmp = bat_read(FPATH*\"hc-2.hdf5\")\n",
    "smpl_tmp = varshape(prior).(smpl_tmp);"
   ]
  },
  {
   "cell_type": "code",
   "execution_count": 5,
   "metadata": {},
   "outputs": [],
   "source": [
    "filenames = readdir(\"../../data/sampling_results/Benchmark-5/\")\n",
    "images = load(\"../../data/experiment/dataset_2/m2/images-satur.jld2\")\n",
    "hc_mask = [i[1:3] == \"hc-\" for i in filenames]\n",
    "hc_fnames = filenames[hc_mask]\n",
    "hc_eind = parse.(Int64, [i[4:end-5] for i in hc_fnames])\n",
    "hc_charge = images[\"charge\"][hc_eind]\n",
    "hc_runind = images[\"ev_ind\"][hc_eind];"
   ]
  },
  {
   "cell_type": "code",
   "execution_count": 6,
   "metadata": {},
   "outputs": [],
   "source": [
    "filenames = readdir(\"../../data/sampling_results/Benchmark-5/\")\n",
    "images = load(\"../../data/experiment/dataset_2/m1/images-satur.jld2\")\n",
    "lc_mask = [i[1:3] == \"lc-\" for i in filenames]\n",
    "lc_fnames = filenames[lc_mask]\n",
    "lc_eind = parse.(Int64, [i[4:end-5] for i in lc_fnames])\n",
    "lc_charge = images[\"charge\"][lc_eind]\n",
    "lc_runind = images[\"ev_ind\"][lc_eind];"
   ]
  },
  {
   "cell_type": "code",
   "execution_count": 7,
   "metadata": {},
   "outputs": [],
   "source": [
    "fnames = [lc_fnames; hc_fnames]\n",
    "charges = Float64[lc_charge; hc_charge]\n",
    "runind = Int64[lc_runind ; hc_runind]\n",
    "charges_n = charges ./ maximum(charges)\n",
    "runind_n = runind ./ maximum(runind);"
   ]
  },
  {
   "cell_type": "code",
   "execution_count": 8,
   "metadata": {},
   "outputs": [],
   "source": [
    "mean_params =  [marg_mean_shaped(i) for i in fnames];\n",
    "std_params =  [marg_std_shaped(i) for i in fnames];"
   ]
  },
  {
   "cell_type": "code",
   "execution_count": 9,
   "metadata": {},
   "outputs": [
    {
     "data": {
      "text/plain": [
       "600"
      ]
     },
     "execution_count": 9,
     "metadata": {},
     "output_type": "execute_result"
    }
   ],
   "source": [
    "length(fnames)"
   ]
  },
  {
   "cell_type": "markdown",
   "metadata": {},
   "source": [
    "### Alignment: "
   ]
  },
  {
   "cell_type": "code",
   "execution_count": 10,
   "metadata": {},
   "outputs": [],
   "source": [
    "zc_x = [minimum([i.algmx[j] for i in mean_params]) for j in 1:4]; # find min position at each camera \n",
    "zc_y = [minimum([i.algmy[j] for i in mean_params]) for j in 1:4]; # find min position at each camera "
   ]
  },
  {
   "cell_type": "code",
   "execution_count": 11,
   "metadata": {},
   "outputs": [],
   "source": [
    "x_event = Array{Float64,1}[]\n",
    "y_event = Array{Float64,1}[]\n",
    "x_event_std = Array{Float64,1}[]\n",
    "y_event_std = Array{Float64,1}[]\n",
    "\n",
    "for i in eachindex(mean_params) \n",
    "    push!(x_event, (mean_params[i].algmx .- zc_x) .* [mean_params[i].psx ; mean_params[i].cam4_psx] .+ 1.0 )\n",
    "    push!(y_event, (mean_params[i].algmy .- zc_y) .* [mean_params[i].psy ; mean_params[i].cam4_psy] .+ 1.0 )\n",
    "    \n",
    "    push!(x_event_std, std_params[i].algmx .* [mean_params[i].psx ; mean_params[i].cam4_psx])\n",
    "    push!(y_event_std, std_params[i].algmy .* [mean_params[i].psy ; mean_params[i].cam4_psy])\n",
    "     \n",
    "end"
   ]
  },
  {
   "cell_type": "markdown",
   "metadata": {},
   "source": [
    "### Emittance: "
   ]
  },
  {
   "cell_type": "code",
   "execution_count": 12,
   "metadata": {},
   "outputs": [],
   "source": [
    "emm_tmp_1 = [get_emmitance_halo(i, 1) for i in fnames]\n",
    "emm_tmp_2 = [get_emmitance_halo(i, 2) for i in fnames];"
   ]
  },
  {
   "cell_type": "code",
   "execution_count": 13,
   "metadata": {},
   "outputs": [],
   "source": [
    "emm_tmp_21 = [get_emmitance_core(i, 1) for i in fnames]\n",
    "emm_tmp_22 = [get_emmitance_core(i, 2) for i in fnames];"
   ]
  },
  {
   "cell_type": "markdown",
   "metadata": {},
   "source": [
    "### Summary File: "
   ]
  },
  {
   "cell_type": "markdown",
   "metadata": {},
   "source": [
    "    Info: \n",
    "    \n",
    "    all-events.csv : Each row of the table represents one event. Each column of the table represents the mean model parameter and its standard deviation obtained from MCMC run. Description of parameters: \n",
    "    \n",
    "    - ev_index : Index of the event. \n",
    "    - ev_charge : Bunch population of the event (e10 p+). \n",
    "    \n",
    "    - μx_trsz_halo / μy_trsz_halo : Transversal size of the halo component in the waist position along x/y dimension (mm).\n",
    "    - μx_trsz_core / μy_trsz_core : Transversal size of the core component in the waist position along x/y dimension (mm).\n",
    "    - μx_angspr_halo / μy_angspr_halo : Angular spread of the halo component along x/y dimension (rad*e-5).\n",
    "    - μx_angspr_core / μy_angspr_core : Angular spread of the core component along x/y dimension (rad*e-5).\n",
    "    - μ_waist_halo / μ_waist_core : Waist position of the halo/core component (m). Counted from the position of the first camera (BTV50).\n",
    "    - μx_emitt_halo / μy_emitt_halo : Emittance of the halo component along x/y dimension (mm*mrad).\n",
    "    - μx_emitt_core / μy_emitt_core : Emittance of the core component along x/y dimension (mm*mrad).\n",
    "    - μmixt_pow : A parameter that controls the importance of the halo/core component:  I_total = μmixt_pow*I_halo + (1-μmixt_pow)*I_core. μmixt_pow is in a range [0.5, 1]. \n",
    "    - μx_align / μy_align : Positions of the bunch center on the screens (microns). Alignment of cameras is not applied. \n",
    "    - mode : Categorical indication of the dataset. \"LP\" => large bunch  population, \"SP\" => small bunch population. \n",
    "    \n",
    "    All the other columns represent standard deviations of corresponding parameters. In their names, the letter \"mu\" is replaced with \"sigma\". \n",
    "    \n",
    "    ***\n",
    "    \n",
    "    sp-mean.csv / lp-mean.csv : Two files contain average model parameters for the datasets with large and small bunch populations. Parameter names share the same meaning as described above. \n",
    "    "
   ]
  },
  {
   "cell_type": "code",
   "execution_count": 14,
   "metadata": {},
   "outputs": [],
   "source": [
    "summary_data = (\n",
    "    \n",
    "    ev_index = runind,\n",
    "    ev_charge = charges,\n",
    "    mode = [i > 15 ? \"LP\" : \"SP\" for i in charges],\n",
    "    \n",
    "    #fnames = fnames,\n",
    "    \n",
    "    μx_trsz_halo = Float64[i.tr_size[1] for i in mean_params],\n",
    "    μy_trsz_halo = Float64[i.tr_size[2] for i in mean_params],\n",
    "    \n",
    "    μx_trsz_core = Float64[i.tr_size_2[1] for i in mean_params],\n",
    "    μy_trsz_core = Float64[i.tr_size_2[2] for i in mean_params],\n",
    "    \n",
    "    μx_angspr_halo = Float64[i.ang_spr[1] for i in mean_params],\n",
    "    μy_angspr_halo = Float64[i.ang_spr[2] for i in mean_params],\n",
    "    \n",
    "    μx_angspr_core = Float64[i.ang_spr_2[1] for i in mean_params],\n",
    "    μy_angspr_core = Float64[i.ang_spr_2[2] for i in mean_params],\n",
    "    \n",
    "    μ_waist_halo = Float64[i.waist[1] for i in mean_params],\n",
    "    μ_waist_core = Float64[i.waist_2[1] for i in mean_params],\n",
    "    \n",
    "    μx_emitt_halo = Float64[i.mean for i in emm_tmp_1],\n",
    "    μy_emitt_halo = Float64[i.mean for i in emm_tmp_2],\n",
    "    \n",
    "    μx_emitt_core = Float64[i.mean for i in emm_tmp_21],\n",
    "    μy_emitt_core = Float64[i.mean for i in emm_tmp_22],\n",
    "    \n",
    "    μmixt_pow = Float64[i.mixt_pow[1] for i in mean_params],\n",
    "    \n",
    "    μx_align = x_event,\n",
    "    μy_align = y_event,\n",
    "    \n",
    "    σx_trsz_halo = Float64[i.tr_size[1] for i in std_params],\n",
    "    σy_trsz_halo = Float64[i.tr_size[2] for i in std_params],\n",
    "    \n",
    "    σx_trsz_core = Float64[i.tr_size_2[1] for i in std_params],\n",
    "    σy_trsz_core = Float64[i.tr_size_2[2] for i in std_params],\n",
    "    \n",
    "    σx_angspr_halo = Float64[i.ang_spr[1] for i in std_params],\n",
    "    σy_angspr_halo = Float64[i.ang_spr[2] for i in std_params],\n",
    "    \n",
    "    σx_angspr_core = Float64[i.ang_spr_2[1] for i in std_params],\n",
    "    σy_angspr_core = Float64[i.ang_spr_2[2] for i in std_params],\n",
    "        \n",
    "    σ_waist_halo = Float64[i.waist[1] for i in std_params],\n",
    "    σ_waist_core = Float64[i.waist_2[1] for i in std_params],\n",
    "    \n",
    "    σx_emitt_halo = Float64[i.std for i in emm_tmp_1],\n",
    "    σy_emitt_halo = Float64[i.std for i in emm_tmp_2],\n",
    "    \n",
    "    σx_emitt_core = Float64[i.std for i in emm_tmp_21],\n",
    "    σy_emitt_core = Float64[i.std for i in emm_tmp_22],\n",
    "    \n",
    "    σx_align = x_event_std,\n",
    "    σy_align = y_event_std,\n",
    ");\n",
    "\n"
   ]
  },
  {
   "cell_type": "markdown",
   "metadata": {},
   "source": [
    "# Mean event SP:"
   ]
  },
  {
   "cell_type": "code",
   "execution_count": 15,
   "metadata": {},
   "outputs": [
    {
     "data": {
      "text/plain": [
       "std_estim (generic function with 1 method)"
      ]
     },
     "execution_count": 15,
     "metadata": {},
     "output_type": "execute_result"
    }
   ],
   "source": [
    "std_estim(x) = sqrt(1/sum(1 ./ (x.^2)))"
   ]
  },
  {
   "cell_type": "code",
   "execution_count": 16,
   "metadata": {
    "jupyter": {
     "source_hidden": true
    }
   },
   "outputs": [],
   "source": [
    "# Estimator does not include uncertanity. \n",
    "\n",
    "# mask_tmp = summary_data.mode .== \"SP\"\n",
    "\n",
    "# mean_event_sp = (\n",
    "#     ev_charge = mean(summary_data.ev_charge[mask_tmp]),\n",
    "    \n",
    "#     μx_trsz_halo = mean(summary_data.μx_trsz_halo[mask_tmp]),\n",
    "#     μy_trsz_halo = mean(summary_data.μy_trsz_halo[mask_tmp]),\n",
    "    \n",
    "#     μx_trsz_core = mean(summary_data.μx_trsz_core[mask_tmp]),\n",
    "#     μy_trsz_core = mean(summary_data.μy_trsz_core[mask_tmp]),\n",
    "    \n",
    "#     μx_angspr_halo = mean(summary_data.μx_angspr_halo[mask_tmp]),\n",
    "#     μy_angspr_halo = mean(summary_data.μy_angspr_halo[mask_tmp]),\n",
    "    \n",
    "#     μx_angspr_core = mean(summary_data.μx_angspr_core[mask_tmp]),\n",
    "#     μy_angspr_core = mean(summary_data.μy_angspr_core[mask_tmp]),\n",
    "    \n",
    "#     μ_waist_halo = mean(summary_data.μ_waist_halo[mask_tmp]),\n",
    "#     μ_waist_core = mean(summary_data.μ_waist_core[mask_tmp]),\n",
    "    \n",
    "#     μx_emitt_halo = mean(summary_data.μx_emitt_halo[mask_tmp]),\n",
    "#     μy_emitt_halo = mean(summary_data.μy_emitt_halo[mask_tmp]),\n",
    "    \n",
    "#     μx_emitt_core = mean(summary_data.μx_emitt_core[mask_tmp]),\n",
    "#     μy_emitt_core = mean(summary_data.μy_emitt_core[mask_tmp]),\n",
    "    \n",
    "#     μmixt_pow = mean(summary_data.μmixt_pow[mask_tmp]),\n",
    "    \n",
    "#     μx_align = mean(summary_data.μx_align[mask_tmp]),\n",
    "#     μy_align = mean(summary_data.μy_align[mask_tmp]),\n",
    "    \n",
    "#     σx_trsz_halo = mean(summary_data.σx_trsz_halo[mask_tmp]),\n",
    "#     σy_trsz_halo = mean(summary_data.σy_trsz_halo[mask_tmp]),\n",
    "    \n",
    "#     σx_trsz_core = mean(summary_data.σx_trsz_core[mask_tmp]),\n",
    "#     σy_trsz_core = mean(summary_data.σy_trsz_core[mask_tmp]),\n",
    "    \n",
    "#     σx_angspr_halo = mean(summary_data.σx_angspr_halo[mask_tmp]),\n",
    "#     σy_angspr_halo = mean(summary_data.σy_angspr_halo[mask_tmp]),\n",
    "    \n",
    "#     σx_angspr_core = mean(summary_data.σx_angspr_core[mask_tmp]),\n",
    "#     σy_angspr_core = mean(summary_data.σy_angspr_core[mask_tmp]),\n",
    "        \n",
    "#     σ_waist_halo = mean(summary_data.σ_waist_halo[mask_tmp]),\n",
    "#     σ_waist_core = mean(summary_data.σ_waist_core[mask_tmp]),\n",
    "    \n",
    "#     σx_emitt_halo = mean(summary_data.σx_emitt_halo[mask_tmp]),\n",
    "#     σy_emitt_halo = mean(summary_data.σy_emitt_halo[mask_tmp]),\n",
    "    \n",
    "#     σx_emitt_core = mean(summary_data.σx_emitt_core[mask_tmp]),\n",
    "#     σy_emitt_core = mean(summary_data.σy_emitt_core[mask_tmp]),\n",
    "    \n",
    "#     σx_align = mean(summary_data.σx_align[mask_tmp]),\n",
    "#     σy_align = mean(summary_data.σy_align[mask_tmp]),\n",
    "# )"
   ]
  },
  {
   "cell_type": "code",
   "execution_count": 17,
   "metadata": {},
   "outputs": [
    {
     "data": {
      "text/plain": [
       "(ev_charge = [9.09441014950092], μx_trsz_halo = [0.0491981556601214], μy_trsz_halo = [0.1050101835383964], μx_trsz_core = [0.09758169948232105], μy_trsz_core = [0.10733320359123844], μx_angspr_halo = [6.464703024473865], μy_angspr_halo = [5.907860727304558], μx_angspr_core = [2.2863880160088237], μy_angspr_core = [2.202179124394189], μ_waist_halo = [3.0789772952450485], μ_waist_core = [2.8476265349632843], μx_emitt_halo = [1.3538099182687355], μy_emitt_halo = [2.6299120860526646], μx_emitt_core = [0.9479383461887305], μy_emitt_core = [1.00561351157727], μmixt_pow = [0.5466862188702799], μx_align = [[100.83349375712712, 99.10001721688266, 131.95414480578583, 170.54023037071363]], μy_align = [[53.670096106688874, 36.40374598768864, 90.65082218696908, 113.83787643439656]], σx_trsz_halo = [0.0001884759727457399], σy_trsz_halo = [0.00010481630066493079], σx_trsz_core = [5.935030642065828e-5], σy_trsz_core = [7.728859198244566e-5], σx_angspr_halo = [0.0029359053186074255], σy_angspr_halo = [0.0028068151273262314], σx_angspr_core = [0.0026924119037899596], σy_angspr_core = [0.0023616814761481942], σ_waist_halo = [0.0012082944302377423], σ_waist_core = [0.0016179209393984537], σx_emitt_halo = [0.0049778338314412805], σy_emitt_halo = [0.002520654277862785], σx_emitt_core = [0.0011063344683522906], σy_emitt_core = [0.0011766171405574377], σx_align = [[0.7795368964320745, 0.5492273563206233, 4.830329337958499, 3.0304504645604164]], σy_align = [[0.8163735349427668, 0.5316052074828285, 4.061562272521675, 2.788000073902329]])"
      ]
     },
     "execution_count": 17,
     "metadata": {},
     "output_type": "execute_result"
    }
   ],
   "source": [
    "mask_tmp = summary_data.mode .== \"SP\"\n",
    "\n",
    "mean_event_sp = (\n",
    "    ev_charge = [mean(summary_data.ev_charge[mask_tmp])],\n",
    "    \n",
    "    μx_trsz_halo = [mean(summary_data.μx_trsz_halo[mask_tmp], weights(1 ./summary_data.σx_trsz_halo[mask_tmp]))],\n",
    "    μy_trsz_halo = [mean(summary_data.μy_trsz_halo[mask_tmp], weights(1 ./summary_data.σy_trsz_halo[mask_tmp]))],\n",
    "    \n",
    "    μx_trsz_core = [mean(summary_data.μx_trsz_core[mask_tmp], weights(1 ./summary_data.σx_trsz_core[mask_tmp]))],\n",
    "    μy_trsz_core = [mean(summary_data.μy_trsz_core[mask_tmp], weights(1 ./summary_data.σx_trsz_core[mask_tmp]))],\n",
    "    \n",
    "    μx_angspr_halo = [mean(summary_data.μx_angspr_halo[mask_tmp], weights(1 ./summary_data.σx_angspr_halo[mask_tmp]))],\n",
    "    μy_angspr_halo = [mean(summary_data.μy_angspr_halo[mask_tmp], weights(1 ./summary_data.σy_angspr_halo[mask_tmp]))],\n",
    "    \n",
    "    μx_angspr_core = [mean(summary_data.μx_angspr_core[mask_tmp], weights(1 ./summary_data.σx_angspr_core[mask_tmp]))],\n",
    "    μy_angspr_core = [mean(summary_data.μy_angspr_core[mask_tmp], weights(1 ./summary_data.σy_angspr_core[mask_tmp]))],\n",
    "    \n",
    "    μ_waist_halo = [mean(summary_data.μ_waist_halo[mask_tmp], weights(1 ./summary_data.σ_waist_halo[mask_tmp]))],\n",
    "    μ_waist_core = [mean(summary_data.μ_waist_core[mask_tmp], weights(1 ./summary_data.σ_waist_core[mask_tmp]))],\n",
    "    \n",
    "    μx_emitt_halo = [mean(summary_data.μx_emitt_halo[mask_tmp], weights(1 ./summary_data.σx_emitt_halo[mask_tmp]))],\n",
    "    μy_emitt_halo = [mean(summary_data.μy_emitt_halo[mask_tmp], weights(1 ./summary_data.σy_emitt_halo[mask_tmp]))],\n",
    "    \n",
    "    μx_emitt_core = [mean(summary_data.μx_emitt_core[mask_tmp], weights(1 ./summary_data.σx_emitt_core[mask_tmp]))],\n",
    "    μy_emitt_core = [mean(summary_data.μy_emitt_core[mask_tmp], weights(1 ./summary_data.σy_emitt_core[mask_tmp]))],\n",
    "    \n",
    "    μmixt_pow = [mean(summary_data.μmixt_pow[mask_tmp])],\n",
    "    \n",
    "    μx_align = [mean(summary_data.μx_align[mask_tmp], )],\n",
    "    μy_align = [mean(summary_data.μy_align[mask_tmp], )],\n",
    "    \n",
    "    σx_trsz_halo = [std_estim(summary_data.σx_trsz_halo[mask_tmp])],\n",
    "    σy_trsz_halo = [std_estim(summary_data.σy_trsz_halo[mask_tmp])],\n",
    "    \n",
    "    σx_trsz_core = [std_estim(summary_data.σx_trsz_core[mask_tmp])],\n",
    "    σy_trsz_core = [std_estim(summary_data.σy_trsz_core[mask_tmp])],\n",
    "    \n",
    "    σx_angspr_halo = [std_estim(summary_data.σx_angspr_halo[mask_tmp])],\n",
    "    σy_angspr_halo = [std_estim(summary_data.σy_angspr_halo[mask_tmp])],\n",
    "    \n",
    "    σx_angspr_core = [std_estim(summary_data.σx_angspr_core[mask_tmp])],\n",
    "    σy_angspr_core = [std_estim(summary_data.σy_angspr_core[mask_tmp])],\n",
    "        \n",
    "    σ_waist_halo = [std_estim(summary_data.σ_waist_halo[mask_tmp])],\n",
    "    σ_waist_core = [std_estim(summary_data.σ_waist_core[mask_tmp])],\n",
    "    \n",
    "    σx_emitt_halo = [std_estim(summary_data.σx_emitt_halo[mask_tmp])],\n",
    "    σy_emitt_halo = [std_estim(summary_data.σy_emitt_halo[mask_tmp])],\n",
    "    \n",
    "    σx_emitt_core = [std_estim(summary_data.σx_emitt_core[mask_tmp])],\n",
    "    σy_emitt_core = [std_estim(summary_data.σy_emitt_core[mask_tmp])],\n",
    "    \n",
    "    σx_align = [mean(summary_data.σx_align[mask_tmp])],\n",
    "    σy_align = [mean(summary_data.σy_align[mask_tmp])],\n",
    ")"
   ]
  },
  {
   "cell_type": "markdown",
   "metadata": {},
   "source": [
    "# Mean event LP:"
   ]
  },
  {
   "cell_type": "code",
   "execution_count": 18,
   "metadata": {
    "jupyter": {
     "source_hidden": true
    }
   },
   "outputs": [],
   "source": [
    "# mask_tmp = summary_data.mode .== \"LP\"\n",
    "\n",
    "# mean_event_lp = (\n",
    "#     ev_charge = mean(summary_data.ev_charge[mask_tmp]),\n",
    "    \n",
    "#     μx_trsz_halo = mean(summary_data.μx_trsz_halo[mask_tmp]),\n",
    "#     μy_trsz_halo = mean(summary_data.μy_trsz_halo[mask_tmp]),\n",
    "    \n",
    "#     μx_trsz_core = mean(summary_data.μx_trsz_core[mask_tmp]),\n",
    "#     μy_trsz_core = mean(summary_data.μy_trsz_core[mask_tmp]),\n",
    "    \n",
    "#     μx_angspr_halo = mean(summary_data.μx_angspr_halo[mask_tmp]),\n",
    "#     μy_angspr_halo = mean(summary_data.μy_angspr_halo[mask_tmp]),\n",
    "    \n",
    "#     μx_angspr_core = mean(summary_data.μx_angspr_core[mask_tmp]),\n",
    "#     μy_angspr_core = mean(summary_data.μy_angspr_core[mask_tmp]),\n",
    "    \n",
    "#     μ_waist_halo = mean(summary_data.μ_waist_halo[mask_tmp]),\n",
    "#     μ_waist_core = mean(summary_data.μ_waist_core[mask_tmp]),\n",
    "    \n",
    "#     μx_emitt_halo = mean(summary_data.μx_emitt_halo[mask_tmp]),\n",
    "#     μy_emitt_halo = mean(summary_data.μy_emitt_halo[mask_tmp]),\n",
    "    \n",
    "#     μx_emitt_core = mean(summary_data.μx_emitt_core[mask_tmp]),\n",
    "#     μy_emitt_core = mean(summary_data.μy_emitt_core[mask_tmp]),\n",
    "    \n",
    "#     μmixt_pow = mean(summary_data.μmixt_pow[mask_tmp]),\n",
    "    \n",
    "#     μx_align = mean(summary_data.μx_align[mask_tmp]),\n",
    "#     μy_align = mean(summary_data.μy_align[mask_tmp]),\n",
    "    \n",
    "#     σx_trsz_halo = mean(summary_data.σx_trsz_halo[mask_tmp]),\n",
    "#     σy_trsz_halo = mean(summary_data.σy_trsz_halo[mask_tmp]),\n",
    "    \n",
    "#     σx_trsz_core = mean(summary_data.σx_trsz_core[mask_tmp]),\n",
    "#     σy_trsz_core = mean(summary_data.σy_trsz_core[mask_tmp]),\n",
    "    \n",
    "#     σx_angspr_halo = mean(summary_data.σx_angspr_halo[mask_tmp]),\n",
    "#     σy_angspr_halo = mean(summary_data.σy_angspr_halo[mask_tmp]),\n",
    "    \n",
    "#     σx_angspr_core = mean(summary_data.σx_angspr_core[mask_tmp]),\n",
    "#     σy_angspr_core = mean(summary_data.σy_angspr_core[mask_tmp]),\n",
    "        \n",
    "#     σ_waist_halo = mean(summary_data.σ_waist_halo[mask_tmp]),\n",
    "#     σ_waist_core = mean(summary_data.σ_waist_core[mask_tmp]),\n",
    "    \n",
    "#     σx_emitt_halo = mean(summary_data.σx_emitt_halo[mask_tmp]),\n",
    "#     σy_emitt_halo = mean(summary_data.σy_emitt_halo[mask_tmp]),\n",
    "    \n",
    "#     σx_emitt_core = mean(summary_data.σx_emitt_core[mask_tmp]),\n",
    "#     σy_emitt_core = mean(summary_data.σy_emitt_core[mask_tmp]),\n",
    "    \n",
    "#     σx_align = mean(summary_data.σx_align[mask_tmp]),\n",
    "#     σy_align = mean(summary_data.σy_align[mask_tmp]),\n",
    "# )"
   ]
  },
  {
   "cell_type": "code",
   "execution_count": 19,
   "metadata": {},
   "outputs": [
    {
     "data": {
      "text/plain": [
       "(ev_charge = [25.98485633156516], μx_trsz_halo = [0.08291331406030618], μy_trsz_halo = [0.1274219853699626], μx_trsz_core = [0.12574144277933003], μy_trsz_core = [0.13934484710096853], μx_angspr_halo = [5.971996051173955], μy_angspr_halo = [5.603429544376335], μx_angspr_core = [2.4245115342567196], μy_angspr_core = [2.2728800454514997], μ_waist_halo = [3.1934647833283334], μ_waist_core = [2.8588291596840034], μx_emitt_halo = [2.1084481923216547], μy_emitt_halo = [3.022379035110323], μx_emitt_core = [1.2982492287991623], μy_emitt_core = [1.3428199654761255], μmixt_pow = [0.6915333010563312], μx_align = [[105.54606344254937, 105.59352629570395, 133.60285924108882, 124.91844531397301]], μy_align = [[55.398693911069145, 39.80956982173046, 104.33986271347626, 122.66211976198392]], σx_trsz_halo = [0.00011096538541004029], σy_trsz_halo = [9.293114827935904e-5], σx_trsz_core = [7.126575275242513e-5], σy_trsz_core = [0.00011716801025925112], σx_angspr_halo = [0.002138882720609094], σy_angspr_halo = [0.002031259468412787], σx_angspr_core = [0.0034707184627275197], σy_angspr_core = [0.003242325397920486], σ_waist_halo = [0.001187022039263705], σ_waist_core = [0.0017879791184563594], σx_emitt_halo = [0.002711438867609783], σy_emitt_halo = [0.002116500218784546], σx_emitt_core = [0.0018351425081878565], σy_emitt_core = [0.002152300222411764], σx_align = [[0.5938217656104757, 0.610100200965531, 4.265730946081633, 2.4608218522410317]], σy_align = [[0.6081946416034111, 0.504871058487422, 4.060978761039136, 2.3274896429568774]])"
      ]
     },
     "execution_count": 19,
     "metadata": {},
     "output_type": "execute_result"
    }
   ],
   "source": [
    "mask_tmp = summary_data.mode .== \"LP\"\n",
    "\n",
    "mean_event_lp = (\n",
    "    ev_charge = [mean(summary_data.ev_charge[mask_tmp])],\n",
    "    \n",
    "    μx_trsz_halo = [mean(summary_data.μx_trsz_halo[mask_tmp], weights(1 ./summary_data.σx_trsz_halo[mask_tmp]))],\n",
    "    μy_trsz_halo = [mean(summary_data.μy_trsz_halo[mask_tmp], weights(1 ./summary_data.σy_trsz_halo[mask_tmp]))],\n",
    "    \n",
    "    μx_trsz_core = [mean(summary_data.μx_trsz_core[mask_tmp], weights(1 ./summary_data.σx_trsz_core[mask_tmp]))],\n",
    "    μy_trsz_core = [mean(summary_data.μy_trsz_core[mask_tmp], weights(1 ./summary_data.σx_trsz_core[mask_tmp]))],\n",
    "    \n",
    "    μx_angspr_halo = [mean(summary_data.μx_angspr_halo[mask_tmp], weights(1 ./summary_data.σx_angspr_halo[mask_tmp]))],\n",
    "    μy_angspr_halo = [mean(summary_data.μy_angspr_halo[mask_tmp], weights(1 ./summary_data.σy_angspr_halo[mask_tmp]))],\n",
    "    \n",
    "    μx_angspr_core = [mean(summary_data.μx_angspr_core[mask_tmp], weights(1 ./summary_data.σx_angspr_core[mask_tmp]))],\n",
    "    μy_angspr_core = [mean(summary_data.μy_angspr_core[mask_tmp], weights(1 ./summary_data.σy_angspr_core[mask_tmp]))],\n",
    "    \n",
    "    μ_waist_halo = [mean(summary_data.μ_waist_halo[mask_tmp], weights(1 ./summary_data.σ_waist_halo[mask_tmp]))],\n",
    "    μ_waist_core = [mean(summary_data.μ_waist_core[mask_tmp], weights(1 ./summary_data.σ_waist_core[mask_tmp]))],\n",
    "    \n",
    "    μx_emitt_halo = [mean(summary_data.μx_emitt_halo[mask_tmp], weights(1 ./summary_data.σx_emitt_halo[mask_tmp]))],\n",
    "    μy_emitt_halo = [mean(summary_data.μy_emitt_halo[mask_tmp], weights(1 ./summary_data.σy_emitt_halo[mask_tmp]))],\n",
    "    \n",
    "    μx_emitt_core = [mean(summary_data.μx_emitt_core[mask_tmp], weights(1 ./summary_data.σx_emitt_core[mask_tmp]))],\n",
    "    μy_emitt_core = [mean(summary_data.μy_emitt_core[mask_tmp], weights(1 ./summary_data.σy_emitt_core[mask_tmp]))],\n",
    "    \n",
    "    μmixt_pow = [mean(summary_data.μmixt_pow[mask_tmp])],\n",
    "    \n",
    "    μx_align = [mean(summary_data.μx_align[mask_tmp], )],\n",
    "    μy_align = [mean(summary_data.μy_align[mask_tmp], )],\n",
    "    \n",
    "    σx_trsz_halo = [std_estim(summary_data.σx_trsz_halo[mask_tmp])],\n",
    "    σy_trsz_halo = [std_estim(summary_data.σy_trsz_halo[mask_tmp])],\n",
    "    \n",
    "    σx_trsz_core = [std_estim(summary_data.σx_trsz_core[mask_tmp])],\n",
    "    σy_trsz_core = [std_estim(summary_data.σy_trsz_core[mask_tmp])],\n",
    "    \n",
    "    σx_angspr_halo = [std_estim(summary_data.σx_angspr_halo[mask_tmp])],\n",
    "    σy_angspr_halo = [std_estim(summary_data.σy_angspr_halo[mask_tmp])],\n",
    "    \n",
    "    σx_angspr_core = [std_estim(summary_data.σx_angspr_core[mask_tmp])],\n",
    "    σy_angspr_core = [std_estim(summary_data.σy_angspr_core[mask_tmp])],\n",
    "        \n",
    "    σ_waist_halo = [std_estim(summary_data.σ_waist_halo[mask_tmp])],\n",
    "    σ_waist_core = [std_estim(summary_data.σ_waist_core[mask_tmp])],\n",
    "    \n",
    "    σx_emitt_halo = [std_estim(summary_data.σx_emitt_halo[mask_tmp])],\n",
    "    σy_emitt_halo = [std_estim(summary_data.σy_emitt_halo[mask_tmp])],\n",
    "    \n",
    "    σx_emitt_core = [std_estim(summary_data.σx_emitt_core[mask_tmp])],\n",
    "    σy_emitt_core = [std_estim(summary_data.σy_emitt_core[mask_tmp])],\n",
    "    \n",
    "    σx_align = [mean(summary_data.σx_align[mask_tmp])],\n",
    "    σy_align = [mean(summary_data.σy_align[mask_tmp])],\n",
    ")"
   ]
  },
  {
   "cell_type": "markdown",
   "metadata": {},
   "source": [
    "## Save data: "
   ]
  },
  {
   "cell_type": "code",
   "execution_count": 20,
   "metadata": {},
   "outputs": [],
   "source": [
    "# Save data: \n",
    "\n",
    "data_save = (summary_data, mean_event_sp, mean_event_lp);\n",
    "\n",
    "# @save \"../../data/sampling_results/Benchmark-5/mcmc-summary-data.jld\" data_save"
   ]
  },
  {
   "cell_type": "code",
   "execution_count": 21,
   "metadata": {},
   "outputs": [],
   "source": [
    "# Load file to update angles:  \n",
    "\n",
    "# To do: How to average correctly measurements with uns. \n",
    "\n",
    "# @load \"../../src/Benchmark-5/mcmc-summary-data-tmp.jld\" data_save\n",
    "# (summary_data, mean_event_sp, mean_event_lp) = data_save ;"
   ]
  },
  {
   "cell_type": "code",
   "execution_count": 22,
   "metadata": {},
   "outputs": [
    {
     "data": {
      "image/png": "[encoded data removed]",
      "text/plain": [
       "Figure(PyObject <Figure size 1000x500 with 2 Axes>)"
      ]
     },
     "metadata": {},
     "output_type": "display_data"
    },
    {
     "data": {
      "text/plain": [
       "PyObject <matplotlib.legend.Legend object at 0x7fc8e3790820>"
      ]
     },
     "execution_count": 22,
     "metadata": {},
     "output_type": "execute_result"
    }
   ],
   "source": [
    "fig, ax= plt.subplots(1,2, figsize=(10,5))\n",
    "\n",
    "ax[1].scatter(summary_data.μx_trsz_core, summary_data.μy_trsz_core, color=\"peachpuff\", label=\"Core: All Ev.\")\n",
    "ax[2].scatter(summary_data.μx_emitt_core, summary_data.μy_emitt_core, color=\"peachpuff\")\n",
    "\n",
    "ax[1].scatter(summary_data.μx_trsz_halo, summary_data.μy_trsz_halo, color=\"lightblue\", label=\"Halo: All Ev.\")\n",
    "ax[2].scatter(summary_data.μx_emitt_halo, summary_data.μy_emitt_halo, color=\"lightblue\")\n",
    "\n",
    "ax[1].errorbar(\n",
    "    mean_event_sp.μx_trsz_core, \n",
    "    mean_event_sp.μy_trsz_core,\n",
    "    xerr=mean_event_sp.σx_trsz_core,\n",
    "    yerr=mean_event_sp.σy_trsz_core,\n",
    "    color=\"k\", \n",
    "    fmt=\"o\", markersize=4,  markeredgewidth=0.5,\n",
    "    mfc=\"red\", capsize=4, ecolor=\"k\", elinewidth=0.5, label=\"Small Pop.:Mean Ev. \")\n",
    "\n",
    "ax[1].errorbar(\n",
    "    mean_event_lp.μx_trsz_core, \n",
    "    mean_event_lp.μy_trsz_core,\n",
    "    xerr=mean_event_lp.σx_trsz_core,\n",
    "    yerr=mean_event_lp.σy_trsz_core,\n",
    "    color=\"k\", \n",
    "    fmt=\"o\", markersize=4,  markeredgewidth=0.5,\n",
    "    mfc=\"blue\", capsize=4, ecolor=\"k\", elinewidth=0.5, label=\"Large Pop.:Mean Ev. \")\n",
    "\n",
    "ax[1].errorbar(\n",
    "    mean_event_sp.μx_trsz_halo, \n",
    "    mean_event_sp.μy_trsz_halo,\n",
    "    xerr=mean_event_sp.σx_trsz_halo,\n",
    "    yerr=mean_event_sp.σy_trsz_halo,\n",
    "    color=\"k\", \n",
    "    fmt=\"o\", markersize=4,  markeredgewidth=0.5,\n",
    "    mfc=\"red\", capsize=4, ecolor=\"k\", elinewidth=0.5)\n",
    "\n",
    "ax[1].errorbar(\n",
    "    mean_event_lp.μx_trsz_halo, \n",
    "    mean_event_lp.μy_trsz_halo,\n",
    "    xerr=mean_event_lp.σx_trsz_halo,\n",
    "    yerr=mean_event_lp.σy_trsz_halo,\n",
    "    color=\"k\", \n",
    "    fmt=\"o\", markersize=4,  markeredgewidth=0.5,\n",
    "    mfc=\"blue\", capsize=4, ecolor=\"k\", elinewidth=0.5)\n",
    "\n",
    "\n",
    "ax[2].errorbar(\n",
    "    mean_event_sp.μx_emitt_core, \n",
    "    mean_event_sp.μy_emitt_core,\n",
    "    xerr=mean_event_sp.σx_emitt_core,\n",
    "    yerr=mean_event_sp.σy_emitt_core,\n",
    "    color=\"k\", \n",
    "    fmt=\"o\", markersize=4,  markeredgewidth=0.5,\n",
    "    mfc=\"red\", capsize=4, ecolor=\"k\", elinewidth=0.5, label=\"Small Pop.:Mean Ev. \")\n",
    "\n",
    "ax[2].errorbar(\n",
    "    mean_event_lp.μx_emitt_core, \n",
    "    mean_event_lp.μy_emitt_core,\n",
    "    xerr=mean_event_lp.σx_emitt_core,\n",
    "    yerr=mean_event_lp.σy_emitt_core,\n",
    "    color=\"k\", \n",
    "    fmt=\"o\", markersize=4,  markeredgewidth=0.5,\n",
    "    mfc=\"blue\", capsize=4, ecolor=\"k\", elinewidth=0.5, label=\"Small Pop.:Mean Ev. \")\n",
    "\n",
    "ax[2].errorbar(\n",
    "    mean_event_sp.μx_emitt_halo, \n",
    "    mean_event_sp.μy_emitt_halo,\n",
    "    xerr=mean_event_sp.σx_emitt_halo,\n",
    "    yerr=mean_event_sp.σy_emitt_halo,\n",
    "    color=\"k\", \n",
    "    fmt=\"o\", markersize=4,  markeredgewidth=0.5,\n",
    "    mfc=\"red\", capsize=4, ecolor=\"k\", elinewidth=0.5, label=\"Small Pop.:Mean Ev. \")\n",
    "\n",
    "ax[2].errorbar(\n",
    "    mean_event_lp.μx_emitt_halo, \n",
    "    mean_event_lp.μy_emitt_halo,\n",
    "    xerr=mean_event_lp.σx_emitt_halo,\n",
    "    yerr=mean_event_lp.σy_emitt_halo,\n",
    "    color=\"k\", \n",
    "    fmt=\"o\", markersize=4,  markeredgewidth=0.5,\n",
    "    mfc=\"blue\", capsize=4, ecolor=\"k\", elinewidth=0.5, label=\"Small Pop.:Mean Ev. \")\n",
    "\n",
    "\n",
    "\n",
    "ax[1].set_title(\"Transversal Size\")\n",
    "ax[2].set_title(\"Emittance\")\n",
    "\n",
    "ax[1].set_xlabel(L\"\\sigma_x \\; (\\mathrm{mm})\")\n",
    "ax[1].set_ylabel(L\"\\sigma_y \\; (\\mathrm{mm})\")\n",
    "\n",
    "ax[2].set_xlabel(L\"\\epsilon_x \\; (\\mathrm{mm \\cdot mrad})\")\n",
    "ax[2].set_ylabel(L\"\\epsilon_y \\; (\\mathrm{mm \\cdot mrad})\")\n",
    "\n",
    "ax[1].legend()"
   ]
  },
  {
   "cell_type": "code",
   "execution_count": null,
   "metadata": {},
   "outputs": [],
   "source": []
  },
  {
   "cell_type": "code",
   "execution_count": null,
   "metadata": {},
   "outputs": [],
   "source": []
  },
  {
   "cell_type": "code",
   "execution_count": 23,
   "metadata": {},
   "outputs": [],
   "source": [
    "# using DataFrames, CSV\n",
    "\n",
    "# df = DataFrame(summary_data)\n",
    "# df_sp = DataFrame(mean_event_sp)\n",
    "# df_lp = DataFrame(mean_event_lp)\n",
    "\n",
    "# CSV.write(\"all-events.csv\", df)\n",
    "# CSV.write(\"sp-mean.csv\", df_sp)\n",
    "# CSV.write(\"lp-mean.csv\", df_lp)"
   ]
  }
 ],
 "metadata": {
  "kernelspec": {
   "display_name": "Julia 1.5.3",
   "language": "julia",
   "name": "julia-1.5"
  },
  "language_info": {
   "file_extension": ".jl",
   "mimetype": "application/julia",
   "name": "julia",
   "version": "1.5.3"
  }
 },
 "nbformat": 4,
 "nbformat_minor": 4
}
