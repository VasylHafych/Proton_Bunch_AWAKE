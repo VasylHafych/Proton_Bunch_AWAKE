{
 "cells": [
  {
   "cell_type": "code",
   "execution_count": 1,
   "metadata": {},
   "outputs": [],
   "source": [
    "using JLD2\n",
    "using FileIO\n",
    "using PyPlot\n",
    "using Statistics\n",
    "using StatsBase \n",
    "using Distributions\n",
    "using LinearAlgebra\n",
    "using HDF5\n",
    "using IntervalSets\n",
    "using Random, ArraysOfArrays\n",
    "using ValueShapes\n",
    "using Measurements\n",
    "using BAT\n",
    "using DSP\n",
    "using ForwardDiff"
   ]
  },
  {
   "cell_type": "code",
   "execution_count": 2,
   "metadata": {},
   "outputs": [
    {
     "data": {
      "text/plain": [
       "get_emmitance_core (generic function with 1 method)"
      ]
     },
     "execution_count": 2,
     "metadata": {},
     "output_type": "execute_result"
    }
   ],
   "source": [
    "FPATH = \"../../data/sampling_results/Benchmark-5/\"\n",
    "\n",
    "function marg_mean_shaped(name)\n",
    "    smpl_tmp = bat_read(FPATH*name).result\n",
    "    smpl_tmp = varshape(prior).(smpl_tmp)\n",
    "    smpl_tmp = mean(smpl_tmp)\n",
    "    return smpl_tmp\n",
    "end\n",
    "\n",
    "function marg_std_shaped(name)\n",
    "    smpl_tmp = bat_read(FPATH*name).result\n",
    "    smpl_tmp = varshape(prior).(smpl_tmp)\n",
    "    smpl_tmp = std(smpl_tmp)\n",
    "    return smpl_tmp\n",
    "end\n",
    "\n",
    "function get_emmitance_halo(name, proj)\n",
    "    # proj  1 / 2 \n",
    "    smpl_tmp = bat_read(FPATH*name).result\n",
    "    smpl_tmp = varshape(prior).(smpl_tmp)\n",
    "    smpl_tmp, smpl_w = flatview(unshaped.(smpl_tmp.v)), smpl_tmp.weight\n",
    "    emm = smpl_tmp[proj,:].*smpl_tmp[4+proj,:].*10^-5 .* 1000 .* 426.0\n",
    "    μ = mean(emm, FrequencyWeights(smpl_w))\n",
    "    σ = std(emm, FrequencyWeights(smpl_w)) \n",
    "    return (mean = μ, std = σ)\n",
    "end\n",
    "\n",
    "function get_emmitance_core(name, proj)\n",
    "    # proj  1 / 2 \n",
    "    smpl_tmp = bat_read(FPATH*name).result\n",
    "    smpl_tmp = varshape(prior).(smpl_tmp)\n",
    "    smpl_tmp, smpl_w = flatview(unshaped.(smpl_tmp.v)), smpl_tmp.weight\n",
    "    emm = smpl_tmp[2+proj,:].*smpl_tmp[6+proj,:].*10^-5 .* 1000 .* 426.0\n",
    "    μ = mean(emm, FrequencyWeights(smpl_w))\n",
    "    σ = std(emm, FrequencyWeights(smpl_w)) \n",
    "    return (mean = μ, std = σ)\n",
    "end"
   ]
  },
  {
   "cell_type": "code",
   "execution_count": 3,
   "metadata": {},
   "outputs": [],
   "source": [
    "β1 = 0.015\n",
    "β2 = 0.0077\n",
    "β3 = 0.0058\n",
    "\n",
    "# flat prior for the pixel size\n",
    "prior = NamedTupleDist(\n",
    "        tr_size = [truncated(Normal(0.2, 0.04), 0.03, 0.19), truncated(Normal(0.2, 0.04), 0.03, 0.19)],\n",
    "        tr_size_2 = [truncated(Normal(0.2, 0.04), 0.03, 0.19), truncated(Normal(0.2, 0.04), 0.03, 0.19)],\n",
    "        ang_spr = [truncated(Normal(4.0, 2.0), 1.0, 8.0), truncated(Normal(4.0, 2.0), 1.0, 8.0)],\n",
    "        ang_spr_2 = [truncated(Normal(4.0, 2.0), 1.0, 4.0), truncated(Normal(4.0, 2.0), 1.0, 4.0)],\n",
    "        mixt_pow =  0.35 .. 1.0, \n",
    "        waist = [truncated(Normal(2.774, 0.03), 2.5, 3.6)],\n",
    "        waist_2 = [truncated(Normal(2.774, 0.03), 2.5, 3.6)],\n",
    "        algmx = [23.0 .. 48, 23.0 .. 48.0, 10.0 .. 30.0, 23.0 .. 48.0],\n",
    "        algmy = [23.0 .. 48, 23.0 .. 48.0, 10.0 .. 30.0, 23.0 .. 48.0],\n",
    "        cam4_ped = 4.0 .. 40.0,\n",
    "        cam4_light_fluct = 1.0 .. 3.0,\n",
    "        cam4_light_amp = 1.6 .. 9.9, \n",
    "        resx = [1, 1, 1], # 23, 24, 25, \n",
    "        resy = [1, 1, 1], # 26,27, 28, \n",
    "        cam4_resx = truncated(Normal(3, 1.5), 0, Inf),\n",
    "        cam4_resy = truncated(Normal(3, 1.5), 0, Inf), \n",
    "        psx = [27.1, 21.6, 114.0], # 31, 32, 33\n",
    "        psy = [30.5, 23.4, 125.0], # 34, 35, 36\n",
    "        cam4_psx = 121.8, # 37\n",
    "        cam4_psy = 120.0, # 38\n",
    "        light_amp  = [1.0 .. 13.0 , 1.0 .. 17.0, 1.0 .. 5.0], # 1.0 .. 5.0\n",
    "        s_cam = [0.0, 1.47799, 15.025999, 23.1644],\n",
    "); \n",
    "\n",
    "\n",
    "labels = [L\"\\sigma_x\", L\"\\sigma_y\", L\"\\sigma_x\", L\"\\sigma_y\", L\"\\sigma'_x\", L\"\\sigma'_y\", L\"\\sigma'_x\", L\"\\sigma'_y\", L\"\\alpha\", L\"s\", L\"s\", \n",
    "    L\"\\mu_x\", L\"\\mu_x\", L\"\\mu_x\", L\"\\mu_x\", L\"\\mu_y\", L\"\\mu_y\", L\"\\mu_y\", L\"\\mu_y\", \n",
    "    \"ped\", \"lf\", \"a\", \"res x\", \"res y\", \"la\", \"la\", \"la\"];"
   ]
  },
  {
   "cell_type": "code",
   "execution_count": 4,
   "metadata": {},
   "outputs": [],
   "source": [
    "smpl_tmp = bat_read(FPATH*\"hc-2.hdf5\").result\n",
    "smpl_tmp = varshape(prior).(smpl_tmp);"
   ]
  },
  {
   "cell_type": "code",
   "execution_count": 5,
   "metadata": {},
   "outputs": [],
   "source": [
    "filenames = readdir(\"../../data/sampling_results/Benchmark-5/\")\n",
    "images = load(\"../../data/experiment/dataset_2/m2/images-satur.jld2\")\n",
    "hc_mask = [i[1:3] == \"hc-\" for i in filenames]\n",
    "hc_fnames = filenames[hc_mask]\n",
    "hc_eind = parse.(Int64, [i[4:end-5] for i in hc_fnames])\n",
    "hc_charge = images[\"charge\"][hc_eind]\n",
    "hc_runind = images[\"ev_ind\"][hc_eind];"
   ]
  },
  {
   "cell_type": "code",
   "execution_count": 6,
   "metadata": {},
   "outputs": [],
   "source": [
    "filenames = readdir(\"../../data/sampling_results/Benchmark-5/\")\n",
    "images = load(\"../../data/experiment/dataset_2/m1/images-satur.jld2\")\n",
    "lc_mask = [i[1:3] == \"lc-\" for i in filenames]\n",
    "lc_fnames = filenames[lc_mask]\n",
    "lc_eind = parse.(Int64, [i[4:end-5] for i in lc_fnames])\n",
    "lc_charge = images[\"charge\"][lc_eind]\n",
    "lc_runind = images[\"ev_ind\"][lc_eind];"
   ]
  },
  {
   "cell_type": "code",
   "execution_count": 7,
   "metadata": {},
   "outputs": [],
   "source": [
    "fnames = [lc_fnames; hc_fnames]\n",
    "charges = Float64[lc_charge; hc_charge]\n",
    "runind = Int64[lc_runind ; hc_runind]\n",
    "charges_n = charges ./ maximum(charges)\n",
    "runind_n = runind ./ maximum(runind);"
   ]
  },
  {
   "cell_type": "code",
   "execution_count": 8,
   "metadata": {},
   "outputs": [
    {
     "data": {
      "text/plain": [
       "112"
      ]
     },
     "execution_count": 8,
     "metadata": {},
     "output_type": "execute_result"
    }
   ],
   "source": [
    "length(fnames)"
   ]
  },
  {
   "cell_type": "code",
   "execution_count": 9,
   "metadata": {},
   "outputs": [],
   "source": [
    "mean_params =  [marg_mean_shaped(i) for i in fnames];\n",
    "std_params =  [marg_std_shaped(i) for i in fnames];"
   ]
  },
  {
   "cell_type": "markdown",
   "metadata": {},
   "source": [
    "### Alignment: "
   ]
  },
  {
   "cell_type": "code",
   "execution_count": 10,
   "metadata": {},
   "outputs": [],
   "source": [
    "zc_x = [minimum([i.algmx[j] for i in mean_params]) for j in 1:4]; # find min position at each camera \n",
    "zc_y = [minimum([i.algmy[j] for i in mean_params]) for j in 1:4]; # find min position at each camera "
   ]
  },
  {
   "cell_type": "code",
   "execution_count": 11,
   "metadata": {},
   "outputs": [],
   "source": [
    "x_event = Array{Float64,1}[]\n",
    "y_event = Array{Float64,1}[]\n",
    "x_event_std = Array{Float64,1}[]\n",
    "y_event_std = Array{Float64,1}[]\n",
    "\n",
    "for i in eachindex(mean_params) \n",
    "    push!(x_event, (mean_params[i].algmx .- zc_x) .* [mean_params[i].psx ; mean_params[i].cam4_psx] .+ 1.0 )\n",
    "    push!(y_event, (mean_params[i].algmy .- zc_y) .* [mean_params[i].psy ; mean_params[i].cam4_psy] .+ 1.0 )\n",
    "    \n",
    "    push!(x_event_std, std_params[i].algmx .* [mean_params[i].psx ; mean_params[i].cam4_psx])\n",
    "    push!(y_event_std, std_params[i].algmy .* [mean_params[i].psy ; mean_params[i].cam4_psy])\n",
    "     \n",
    "end"
   ]
  },
  {
   "cell_type": "markdown",
   "metadata": {},
   "source": [
    "### Emittance: "
   ]
  },
  {
   "cell_type": "code",
   "execution_count": 12,
   "metadata": {},
   "outputs": [],
   "source": [
    "emm_tmp_1 = [get_emmitance_halo(i, 1) for i in fnames]\n",
    "emm_tmp_2 = [get_emmitance_halo(i, 2) for i in fnames];"
   ]
  },
  {
   "cell_type": "code",
   "execution_count": 13,
   "metadata": {},
   "outputs": [],
   "source": [
    "emm_tmp_21 = [get_emmitance_core(i, 1) for i in fnames]\n",
    "emm_tmp_22 = [get_emmitance_core(i, 2) for i in fnames];"
   ]
  },
  {
   "cell_type": "markdown",
   "metadata": {},
   "source": [
    "### Summary File: "
   ]
  },
  {
   "cell_type": "code",
   "execution_count": 14,
   "metadata": {},
   "outputs": [],
   "source": [
    "summary_data = (\n",
    "    \n",
    "    ev_index = runind,\n",
    "    ev_charge = charges,\n",
    "    mode = [i > 15 ? \"LP\" : \"SP\" for i in charges],\n",
    "    \n",
    "    #fnames = fnames,\n",
    "    \n",
    "    μx_trsz_halo = Float64[i.tr_size[1] for i in mean_params],\n",
    "    μy_trsz_halo = Float64[i.tr_size[2] for i in mean_params],\n",
    "    \n",
    "    μx_trsz_core = Float64[i.tr_size_2[1] for i in mean_params],\n",
    "    μy_trsz_core = Float64[i.tr_size_2[2] for i in mean_params],\n",
    "    \n",
    "    μx_angspr_halo = Float64[i.ang_spr[1] for i in mean_params],\n",
    "    μy_angspr_halo = Float64[i.ang_spr[2] for i in mean_params],\n",
    "    \n",
    "    μx_angspr_core = Float64[i.ang_spr_2[1] for i in mean_params],\n",
    "    μy_angspr_core = Float64[i.ang_spr_2[2] for i in mean_params],\n",
    "    \n",
    "    μ_waist_halo = Float64[i.waist[1] for i in mean_params],\n",
    "    μ_waist_core = Float64[i.waist_2[1] for i in mean_params],\n",
    "    \n",
    "    μx_emitt_halo = Float64[i.mean for i in emm_tmp_1],\n",
    "    μy_emitt_halo = Float64[i.mean for i in emm_tmp_2],\n",
    "    \n",
    "    μx_emitt_core = Float64[i.mean for i in emm_tmp_21],\n",
    "    μy_emitt_core = Float64[i.mean for i in emm_tmp_22],\n",
    "    \n",
    "    μmixt_pow = Float64[i.mixt_pow[1] for i in mean_params],\n",
    "    \n",
    "    μx_align = x_event,\n",
    "    μy_align = y_event,\n",
    "    \n",
    "    σx_trsz_halo = Float64[i.tr_size[1] for i in std_params],\n",
    "    σy_trsz_halo = Float64[i.tr_size[2] for i in std_params],\n",
    "    \n",
    "    σx_trsz_core = Float64[i.tr_size_2[1] for i in std_params],\n",
    "    σy_trsz_core = Float64[i.tr_size_2[2] for i in std_params],\n",
    "    \n",
    "    σx_angspr_halo = Float64[i.ang_spr[1] for i in std_params],\n",
    "    σy_angspr_halo = Float64[i.ang_spr[2] for i in std_params],\n",
    "    \n",
    "    σx_angspr_core = Float64[i.ang_spr_2[1] for i in std_params],\n",
    "    σy_angspr_core = Float64[i.ang_spr_2[2] for i in std_params],\n",
    "        \n",
    "    σ_waist_halo = Float64[i.waist[1] for i in std_params],\n",
    "    σ_waist_core = Float64[i.waist_2[1] for i in std_params],\n",
    "    \n",
    "    σx_emitt_halo = Float64[i.std for i in emm_tmp_1],\n",
    "    σy_emitt_halo = Float64[i.std for i in emm_tmp_2],\n",
    "    \n",
    "    σx_emitt_core = Float64[i.std for i in emm_tmp_21],\n",
    "    σy_emitt_core = Float64[i.std for i in emm_tmp_22],\n",
    "    \n",
    "    σx_align = x_event_std,\n",
    "    σy_align = y_event_std,\n",
    "    \n",
    "    σmixt_pow =  Float64[i.mixt_pow[1] for i in std_params],\n",
    ");\n",
    "\n"
   ]
  },
  {
   "cell_type": "markdown",
   "metadata": {},
   "source": [
    "# Mean event SP:"
   ]
  },
  {
   "cell_type": "code",
   "execution_count": 15,
   "metadata": {},
   "outputs": [
    {
     "data": {
      "text/plain": [
       "(ev_charge = [9.118154543096368], μx_trsz_halo = [0.05620465177422206], μy_trsz_halo = [0.10739238252036111], μx_trsz_core = [0.09882061938648569], μy_trsz_core = [0.10895347009377784], μx_angspr_halo = [6.5013706324204215], μy_angspr_halo = [5.947391487421397], μx_angspr_core = [2.309810690318816], μy_angspr_core = [2.2087461992110407], μ_waist_halo = [3.001344127129685], μ_waist_core = [2.734052148907184], μx_emitt_halo = [1.5375388418204932], μy_emitt_halo = [2.71508648314991], μx_emitt_core = [0.9727096836130495], μy_emitt_core = [1.027191145263017], μmixt_pow = [0.5344719991100663], μx_align = [[95.65640943667366, 88.62265178091835, 92.85766809054874, 155.33286985923522]], μy_align = [[55.06539913701567, 34.68537187552237, 71.96605067155667, 99.0928522447726]], σx_trsz_halo = [0.0039034267869977046], σy_trsz_halo = [0.0020608392964409764], σx_trsz_core = [0.00110302555672191], σy_trsz_core = [0.001653492394620361], σx_angspr_halo = [0.0969218021722133], σy_angspr_halo = [0.09073586519294354], σx_angspr_core = [0.06512537049543088], σy_angspr_core = [0.06010255947204033], σ_waist_halo = [0.025423050746320855], σ_waist_core = [0.030539614766925863], σx_emitt_halo = [0.1016084796027037], σy_emitt_halo = [0.06250641327405831], σx_emitt_core = [0.029185888348816157], σy_emitt_core = [0.03471618309185892], σx_align = [[0.7770333404347454, 0.5604754846972351, 4.730990529356626, 3.117514027526997]], σy_align = [[0.8120487240227849, 0.5320125364318595, 4.058921106894532, 2.895499525226484]], σmixt_pow = [0.010869198767677002])"
      ]
     },
     "execution_count": 15,
     "metadata": {},
     "output_type": "execute_result"
    }
   ],
   "source": [
    "mask_tmp = summary_data.mode .== \"SP\"\n",
    "\n",
    "mean_event_sp = (\n",
    "    ev_charge = [mean(summary_data.ev_charge[mask_tmp])],\n",
    "    \n",
    "    μx_trsz_halo = [mean(summary_data.μx_trsz_halo[mask_tmp])],\n",
    "    μy_trsz_halo = [mean(summary_data.μy_trsz_halo[mask_tmp])],\n",
    "    \n",
    "    μx_trsz_core = [mean(summary_data.μx_trsz_core[mask_tmp])],\n",
    "    μy_trsz_core = [mean(summary_data.μy_trsz_core[mask_tmp])],\n",
    "    \n",
    "    μx_angspr_halo = [mean(summary_data.μx_angspr_halo[mask_tmp])],\n",
    "    μy_angspr_halo = [mean(summary_data.μy_angspr_halo[mask_tmp])],\n",
    "    \n",
    "    μx_angspr_core = [mean(summary_data.μx_angspr_core[mask_tmp])],\n",
    "    μy_angspr_core = [mean(summary_data.μy_angspr_core[mask_tmp])],\n",
    "    \n",
    "    μ_waist_halo = [mean(summary_data.μ_waist_halo[mask_tmp])],\n",
    "    μ_waist_core = [mean(summary_data.μ_waist_core[mask_tmp])],\n",
    "    \n",
    "    μx_emitt_halo = [mean(summary_data.μx_emitt_halo[mask_tmp])],\n",
    "    μy_emitt_halo = [mean(summary_data.μy_emitt_halo[mask_tmp])],\n",
    "    \n",
    "    μx_emitt_core = [mean(summary_data.μx_emitt_core[mask_tmp])],\n",
    "    μy_emitt_core = [mean(summary_data.μy_emitt_core[mask_tmp])],\n",
    "    \n",
    "    μmixt_pow = [mean(summary_data.μmixt_pow[mask_tmp])],\n",
    "    \n",
    "    μx_align = [mean(summary_data.μx_align[mask_tmp], )],\n",
    "    μy_align = [mean(summary_data.μy_align[mask_tmp], )],\n",
    "    \n",
    "    σx_trsz_halo = [mean(summary_data.σx_trsz_halo[mask_tmp])],\n",
    "    σy_trsz_halo = [mean(summary_data.σy_trsz_halo[mask_tmp])],\n",
    "    \n",
    "    σx_trsz_core = [mean(summary_data.σx_trsz_core[mask_tmp])],\n",
    "    σy_trsz_core = [mean(summary_data.σy_trsz_core[mask_tmp])],\n",
    "    \n",
    "    σx_angspr_halo = [mean(summary_data.σx_angspr_halo[mask_tmp])],\n",
    "    σy_angspr_halo = [mean(summary_data.σy_angspr_halo[mask_tmp])],\n",
    "    \n",
    "    σx_angspr_core = [mean(summary_data.σx_angspr_core[mask_tmp])],\n",
    "    σy_angspr_core = [mean(summary_data.σy_angspr_core[mask_tmp])],\n",
    "        \n",
    "    σ_waist_halo = [mean(summary_data.σ_waist_halo[mask_tmp])],\n",
    "    σ_waist_core = [mean(summary_data.σ_waist_core[mask_tmp])],\n",
    "    \n",
    "    σx_emitt_halo = [mean(summary_data.σx_emitt_halo[mask_tmp])],\n",
    "    σy_emitt_halo = [mean(summary_data.σy_emitt_halo[mask_tmp])],\n",
    "    \n",
    "    σx_emitt_core = [mean(summary_data.σx_emitt_core[mask_tmp])],\n",
    "    σy_emitt_core = [mean(summary_data.σy_emitt_core[mask_tmp])],\n",
    "    \n",
    "    σx_align = [mean(summary_data.σx_align[mask_tmp])],\n",
    "    σy_align = [mean(summary_data.σy_align[mask_tmp])],\n",
    "    \n",
    "    σmixt_pow =   [mean(summary_data.σmixt_pow[mask_tmp])],\n",
    ")"
   ]
  },
  {
   "cell_type": "markdown",
   "metadata": {},
   "source": [
    "# Mean event LP:"
   ]
  },
  {
   "cell_type": "code",
   "execution_count": 16,
   "metadata": {},
   "outputs": [
    {
     "data": {
      "text/plain": [
       "(ev_charge = [25.9170437528376], μx_trsz_halo = [0.08586454572790488], μy_trsz_halo = [0.12987094773515856], μx_trsz_core = [0.12722956298538027], μy_trsz_core = [0.14009827137482309], μx_angspr_halo = [6.052831471727123], μy_angspr_halo = [5.615480881612314], μx_angspr_core = [2.4318616234351413], μy_angspr_core = [2.288412215654709], μ_waist_halo = [3.141009966355866], μ_waist_core = [2.7410968281819423], μx_emitt_halo = [2.2091369243717933], μy_emitt_halo = [3.1042545880849257], μx_emitt_core = [1.3198247290366036], μy_emitt_core = [1.370254140052546], μmixt_pow = [0.678047837275652], μx_align = [[92.96523212531375, 88.99212003440184, 94.14901572179978, 101.06290215304507]], μy_align = [[54.93853360650623, 38.617677122086036, 86.09885737846209, 108.38407450446878]], σx_trsz_halo = [0.0021172907761359662], σy_trsz_halo = [0.0016442747099477716], σx_trsz_core = [0.001140176669504334], σy_trsz_core = [0.002003473835777273], σx_angspr_halo = [0.036440129101893745], σy_angspr_halo = [0.035370019602122486], σx_angspr_core = [0.05653052383737994], σy_angspr_core = [0.052148105306223096], σ_waist_halo = [0.020521979600541508], σ_waist_core = [0.029596168457899967], σx_emitt_halo = [0.05155787544225859], σy_emitt_halo = [0.03693902744800333], σx_emitt_core = [0.03071813118721076], σy_emitt_core = [0.03564726059534838], σx_align = [[0.5898500556040966, 0.5814844152094606, 4.2602351199891295, 2.379520576494425]], σy_align = [[0.6039492661410418, 0.48991835564582165, 4.033088742387787, 2.242304535555022]], σmixt_pow = [0.00801803087884475])"
      ]
     },
     "execution_count": 16,
     "metadata": {},
     "output_type": "execute_result"
    }
   ],
   "source": [
    "mask_tmp = summary_data.mode .== \"LP\"\n",
    "\n",
    "mean_event_lp = (\n",
    "    ev_charge = [mean(summary_data.ev_charge[mask_tmp])],\n",
    "    \n",
    "    μx_trsz_halo = [mean(summary_data.μx_trsz_halo[mask_tmp])],\n",
    "    μy_trsz_halo = [mean(summary_data.μy_trsz_halo[mask_tmp])],\n",
    "    \n",
    "    μx_trsz_core = [mean(summary_data.μx_trsz_core[mask_tmp])],\n",
    "    μy_trsz_core = [mean(summary_data.μy_trsz_core[mask_tmp])],\n",
    "    \n",
    "    μx_angspr_halo = [mean(summary_data.μx_angspr_halo[mask_tmp])],\n",
    "    μy_angspr_halo = [mean(summary_data.μy_angspr_halo[mask_tmp])],\n",
    "    \n",
    "    μx_angspr_core = [mean(summary_data.μx_angspr_core[mask_tmp])],\n",
    "    μy_angspr_core = [mean(summary_data.μy_angspr_core[mask_tmp])],\n",
    "    \n",
    "    μ_waist_halo = [mean(summary_data.μ_waist_halo[mask_tmp])],\n",
    "    μ_waist_core = [mean(summary_data.μ_waist_core[mask_tmp])],\n",
    "    \n",
    "    μx_emitt_halo = [mean(summary_data.μx_emitt_halo[mask_tmp])],\n",
    "    μy_emitt_halo = [mean(summary_data.μy_emitt_halo[mask_tmp])],\n",
    "    \n",
    "    μx_emitt_core = [mean(summary_data.μx_emitt_core[mask_tmp])],\n",
    "    μy_emitt_core = [mean(summary_data.μy_emitt_core[mask_tmp])],\n",
    "    \n",
    "    μmixt_pow = [mean(summary_data.μmixt_pow[mask_tmp])],\n",
    "    \n",
    "    μx_align = [mean(summary_data.μx_align[mask_tmp], )],\n",
    "    μy_align = [mean(summary_data.μy_align[mask_tmp], )],\n",
    "    \n",
    "    σx_trsz_halo = [mean(summary_data.σx_trsz_halo[mask_tmp])],\n",
    "    σy_trsz_halo = [mean(summary_data.σy_trsz_halo[mask_tmp])],\n",
    "    \n",
    "    σx_trsz_core = [mean(summary_data.σx_trsz_core[mask_tmp])],\n",
    "    σy_trsz_core = [mean(summary_data.σy_trsz_core[mask_tmp])],\n",
    "    \n",
    "    σx_angspr_halo = [mean(summary_data.σx_angspr_halo[mask_tmp])],\n",
    "    σy_angspr_halo = [mean(summary_data.σy_angspr_halo[mask_tmp])],\n",
    "    \n",
    "    σx_angspr_core = [mean(summary_data.σx_angspr_core[mask_tmp])],\n",
    "    σy_angspr_core = [mean(summary_data.σy_angspr_core[mask_tmp])],\n",
    "        \n",
    "    σ_waist_halo = [mean(summary_data.σ_waist_halo[mask_tmp])],\n",
    "    σ_waist_core = [mean(summary_data.σ_waist_core[mask_tmp])],\n",
    "    \n",
    "    σx_emitt_halo = [mean(summary_data.σx_emitt_halo[mask_tmp])],\n",
    "    σy_emitt_halo = [mean(summary_data.σy_emitt_halo[mask_tmp])],\n",
    "    \n",
    "    σx_emitt_core = [mean(summary_data.σx_emitt_core[mask_tmp])],\n",
    "    σy_emitt_core = [mean(summary_data.σy_emitt_core[mask_tmp])],\n",
    "    \n",
    "    σx_align = [mean(summary_data.σx_align[mask_tmp])],\n",
    "    σy_align = [mean(summary_data.σy_align[mask_tmp])],\n",
    "    \n",
    "    σmixt_pow =   [mean(summary_data.σmixt_pow[mask_tmp])],\n",
    ")"
   ]
  },
  {
   "cell_type": "markdown",
   "metadata": {},
   "source": [
    "## Save data: "
   ]
  },
  {
   "cell_type": "code",
   "execution_count": 21,
   "metadata": {},
   "outputs": [],
   "source": [
    "# Save data: \n",
    "\n",
    "data_save = (summary_data, mean_event_sp, mean_event_lp);\n",
    "\n",
    "@save \"../../data/sampling_results/Benchmark-5/mcmc-summary-data.jld\" data_save"
   ]
  },
  {
   "cell_type": "code",
   "execution_count": 18,
   "metadata": {},
   "outputs": [],
   "source": [
    "# Load file to update angles:  \n",
    "\n",
    "# To do: How to average correctly measurements with uns. \n",
    "\n",
    "# @load \"../../src/Benchmark-5/mcmc-summary-data-tmp.jld\" data_save\n",
    "# (summary_data, mean_event_sp, mean_event_lp) = data_save ;"
   ]
  },
  {
   "cell_type": "code",
   "execution_count": 19,
   "metadata": {},
   "outputs": [
    {
     "data": {
      "image/png": "[encoded data removed]",
      "text/plain": [
       "Figure(PyObject <Figure size 1000x500 with 2 Axes>)"
      ]
     },
     "metadata": {},
     "output_type": "display_data"
    },
    {
     "data": {
      "text/plain": [
       "PyObject <matplotlib.legend.Legend object at 0x7f484012e970>"
      ]
     },
     "execution_count": 19,
     "metadata": {},
     "output_type": "execute_result"
    }
   ],
   "source": [
    "fig, ax= plt.subplots(1,2, figsize=(10,5))\n",
    "\n",
    "ax[1].scatter(summary_data.μx_trsz_core, summary_data.μy_trsz_core, color=\"peachpuff\", label=\"Core: All Ev.\")\n",
    "ax[2].scatter(summary_data.μx_emitt_core, summary_data.μy_emitt_core, color=\"peachpuff\")\n",
    "\n",
    "ax[1].scatter(summary_data.μx_trsz_halo, summary_data.μy_trsz_halo, color=\"lightblue\", label=\"Halo: All Ev.\")\n",
    "ax[2].scatter(summary_data.μx_emitt_halo, summary_data.μy_emitt_halo, color=\"lightblue\")\n",
    "\n",
    "ax[1].errorbar(\n",
    "    mean_event_sp.μx_trsz_core, \n",
    "    mean_event_sp.μy_trsz_core,\n",
    "    xerr=mean_event_sp.σx_trsz_core,\n",
    "    yerr=mean_event_sp.σy_trsz_core,\n",
    "    color=\"k\", \n",
    "    fmt=\"o\", markersize=4,  markeredgewidth=0.5,\n",
    "    mfc=\"red\", capsize=4, ecolor=\"k\", elinewidth=0.5, label=\"Small Pop.:Mean Ev. \")\n",
    "\n",
    "ax[1].errorbar(\n",
    "    mean_event_lp.μx_trsz_core, \n",
    "    mean_event_lp.μy_trsz_core,\n",
    "    xerr=mean_event_lp.σx_trsz_core,\n",
    "    yerr=mean_event_lp.σy_trsz_core,\n",
    "    color=\"k\", \n",
    "    fmt=\"o\", markersize=4,  markeredgewidth=0.5,\n",
    "    mfc=\"blue\", capsize=4, ecolor=\"k\", elinewidth=0.5, label=\"Large Pop.:Mean Ev. \")\n",
    "\n",
    "ax[1].errorbar(\n",
    "    mean_event_sp.μx_trsz_halo, \n",
    "    mean_event_sp.μy_trsz_halo,\n",
    "    xerr=mean_event_sp.σx_trsz_halo,\n",
    "    yerr=mean_event_sp.σy_trsz_halo,\n",
    "    color=\"k\", \n",
    "    fmt=\"o\", markersize=4,  markeredgewidth=0.5,\n",
    "    mfc=\"red\", capsize=4, ecolor=\"k\", elinewidth=0.5)\n",
    "\n",
    "ax[1].errorbar(\n",
    "    mean_event_lp.μx_trsz_halo, \n",
    "    mean_event_lp.μy_trsz_halo,\n",
    "    xerr=mean_event_lp.σx_trsz_halo,\n",
    "    yerr=mean_event_lp.σy_trsz_halo,\n",
    "    color=\"k\", \n",
    "    fmt=\"o\", markersize=4,  markeredgewidth=0.5,\n",
    "    mfc=\"blue\", capsize=4, ecolor=\"k\", elinewidth=0.5)\n",
    "\n",
    "\n",
    "ax[2].errorbar(\n",
    "    mean_event_sp.μx_emitt_core, \n",
    "    mean_event_sp.μy_emitt_core,\n",
    "    xerr=mean_event_sp.σx_emitt_core,\n",
    "    yerr=mean_event_sp.σy_emitt_core,\n",
    "    color=\"k\", \n",
    "    fmt=\"o\", markersize=4,  markeredgewidth=0.5,\n",
    "    mfc=\"red\", capsize=4, ecolor=\"k\", elinewidth=0.5, label=\"Small Pop.:Mean Ev. \")\n",
    "\n",
    "ax[2].errorbar(\n",
    "    mean_event_lp.μx_emitt_core, \n",
    "    mean_event_lp.μy_emitt_core,\n",
    "    xerr=mean_event_lp.σx_emitt_core,\n",
    "    yerr=mean_event_lp.σy_emitt_core,\n",
    "    color=\"k\", \n",
    "    fmt=\"o\", markersize=4,  markeredgewidth=0.5,\n",
    "    mfc=\"blue\", capsize=4, ecolor=\"k\", elinewidth=0.5, label=\"Small Pop.:Mean Ev. \")\n",
    "\n",
    "ax[2].errorbar(\n",
    "    mean_event_sp.μx_emitt_halo, \n",
    "    mean_event_sp.μy_emitt_halo,\n",
    "    xerr=mean_event_sp.σx_emitt_halo,\n",
    "    yerr=mean_event_sp.σy_emitt_halo,\n",
    "    color=\"k\", \n",
    "    fmt=\"o\", markersize=4,  markeredgewidth=0.5,\n",
    "    mfc=\"red\", capsize=4, ecolor=\"k\", elinewidth=0.5, label=\"Small Pop.:Mean Ev. \")\n",
    "\n",
    "ax[2].errorbar(\n",
    "    mean_event_lp.μx_emitt_halo, \n",
    "    mean_event_lp.μy_emitt_halo,\n",
    "    xerr=mean_event_lp.σx_emitt_halo,\n",
    "    yerr=mean_event_lp.σy_emitt_halo,\n",
    "    color=\"k\", \n",
    "    fmt=\"o\", markersize=4,  markeredgewidth=0.5,\n",
    "    mfc=\"blue\", capsize=4, ecolor=\"k\", elinewidth=0.5, label=\"Small Pop.:Mean Ev. \")\n",
    "\n",
    "\n",
    "\n",
    "ax[1].set_title(\"Transversal Size\")\n",
    "ax[2].set_title(\"Emittance\")\n",
    "\n",
    "ax[1].set_xlabel(L\"\\sigma_x \\; (\\mathrm{mm})\")\n",
    "ax[1].set_ylabel(L\"\\sigma_y \\; (\\mathrm{mm})\")\n",
    "\n",
    "ax[2].set_xlabel(L\"\\epsilon_x \\; (\\mathrm{mm \\cdot mrad})\")\n",
    "ax[2].set_ylabel(L\"\\epsilon_y \\; (\\mathrm{mm \\cdot mrad})\")\n",
    "\n",
    "ax[1].legend()"
   ]
  },
  {
   "cell_type": "code",
   "execution_count": null,
   "metadata": {},
   "outputs": [],
   "source": []
  },
  {
   "cell_type": "code",
   "execution_count": null,
   "metadata": {},
   "outputs": [],
   "source": []
  },
  {
   "cell_type": "code",
   "execution_count": 20,
   "metadata": {},
   "outputs": [],
   "source": [
    "# using DataFrames, CSV\n",
    "\n",
    "# df = DataFrame(summary_data)\n",
    "# df_sp = DataFrame(mean_event_sp)\n",
    "# df_lp = DataFrame(mean_event_lp)\n",
    "\n",
    "# CSV.write(\"all-events.csv\", df)\n",
    "# CSV.write(\"sp-mean.csv\", df_sp)\n",
    "# CSV.write(\"lp-mean.csv\", df_lp)"
   ]
  }
 ],
 "metadata": {
  "kernelspec": {
   "display_name": "Julia 1.5.3",
   "language": "julia",
   "name": "julia-1.5"
  },
  "language_info": {
   "file_extension": ".jl",
   "mimetype": "application/julia",
   "name": "julia",
   "version": "1.5.3"
  }
 },
 "nbformat": 4,
 "nbformat_minor": 4
}
