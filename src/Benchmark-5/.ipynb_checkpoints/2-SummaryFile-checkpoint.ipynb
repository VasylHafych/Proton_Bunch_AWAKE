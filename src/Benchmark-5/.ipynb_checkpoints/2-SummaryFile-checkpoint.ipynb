{
 "cells": [
  {
   "cell_type": "code",
   "execution_count": 1,
   "metadata": {},
   "outputs": [],
   "source": [
    "using JLD2\n",
    "using FileIO\n",
    "using PyPlot\n",
    "using Statistics\n",
    "using StatsBase \n",
    "using Distributions\n",
    "using LinearAlgebra\n",
    "using HDF5\n",
    "using IntervalSets\n",
    "using Random, ArraysOfArrays\n",
    "using ValueShapes\n",
    "using Measurements\n",
    "using BAT\n",
    "using DSP\n",
    "using ForwardDiff"
   ]
  },
  {
   "cell_type": "code",
   "execution_count": 2,
   "metadata": {},
   "outputs": [
    {
     "data": {
      "text/plain": [
       "get_emmitance_core (generic function with 1 method)"
      ]
     },
     "execution_count": 2,
     "metadata": {},
     "output_type": "execute_result"
    }
   ],
   "source": [
    "FPATH = \"../../data/sampling_results/Benchmark-5/\"\n",
    "\n",
    "function marg_mean_shaped(name)\n",
    "    smpl_tmp = bat_read(FPATH*name).result\n",
    "    smpl_tmp = varshape(prior).(smpl_tmp)\n",
    "    smpl_tmp = mean(smpl_tmp)\n",
    "    return smpl_tmp\n",
    "end\n",
    "\n",
    "function marg_std_shaped(name)\n",
    "    smpl_tmp = bat_read(FPATH*name).result\n",
    "    smpl_tmp = varshape(prior).(smpl_tmp)\n",
    "    smpl_tmp = std(smpl_tmp)\n",
    "    return smpl_tmp\n",
    "end\n",
    "\n",
    "function get_emmitance_halo(name, proj)\n",
    "    # proj  1 / 2 \n",
    "    smpl_tmp = bat_read(FPATH*name).result\n",
    "    smpl_tmp = varshape(prior).(smpl_tmp)\n",
    "    smpl_tmp, smpl_w = flatview(unshaped.(smpl_tmp.v)), smpl_tmp.weight\n",
    "    emm = smpl_tmp[proj,:].*smpl_tmp[4+proj,:].*10^-5 .* 1000 .* 426.0\n",
    "    μ = mean(emm, FrequencyWeights(smpl_w))\n",
    "    σ = std(emm, FrequencyWeights(smpl_w)) \n",
    "    return (mean = μ, std = σ)\n",
    "end\n",
    "\n",
    "function get_emmitance_core(name, proj)\n",
    "    # proj  1 / 2 \n",
    "    smpl_tmp = bat_read(FPATH*name).result\n",
    "    smpl_tmp = varshape(prior).(smpl_tmp)\n",
    "    smpl_tmp, smpl_w = flatview(unshaped.(smpl_tmp.v)), smpl_tmp.weight\n",
    "    emm = smpl_tmp[2+proj,:].*smpl_tmp[6+proj,:].*10^-5 .* 1000 .* 426.0\n",
    "    μ = mean(emm, FrequencyWeights(smpl_w))\n",
    "    σ = std(emm, FrequencyWeights(smpl_w)) \n",
    "    return (mean = μ, std = σ)\n",
    "end"
   ]
  },
  {
   "cell_type": "code",
   "execution_count": 3,
   "metadata": {},
   "outputs": [],
   "source": [
    "β1 = 0.015\n",
    "β2 = 0.0077\n",
    "β3 = 0.0058\n",
    "\n",
    "# flat prior for the pixel size\n",
    "prior = NamedTupleDist(\n",
    "        tr_size = [truncated(Normal(0.2, 0.04), 0.03, 0.19), truncated(Normal(0.2, 0.04), 0.03, 0.19)],\n",
    "        tr_size_2 = [truncated(Normal(0.2, 0.04), 0.03, 0.19), truncated(Normal(0.2, 0.04), 0.03, 0.19)],\n",
    "        ang_spr = [truncated(Normal(4.0, 2.0), 1.0, 8.0), truncated(Normal(4.0, 2.0), 1.0, 8.0)],\n",
    "        ang_spr_2 = [truncated(Normal(4.0, 2.0), 1.0, 4.0), truncated(Normal(4.0, 2.0), 1.0, 4.0)],\n",
    "        mixt_pow =  0.35 .. 1.0, \n",
    "        waist = [truncated(Normal(2.774, 0.03), 2.5, 3.6)],\n",
    "        waist_2 = [truncated(Normal(2.774, 0.03), 2.5, 3.6)],\n",
    "        algmx = [23.0 .. 48, 23.0 .. 48.0, 10.0 .. 30.0, 23.0 .. 48.0],\n",
    "        algmy = [23.0 .. 48, 23.0 .. 48.0, 10.0 .. 30.0, 23.0 .. 48.0],\n",
    "        cam4_ped = 4.0 .. 40.0,\n",
    "        cam4_light_fluct = 1.0 .. 3.0,\n",
    "        cam4_light_amp = 1.6 .. 9.9, \n",
    "        resx = [1, 1, 1], # 23, 24, 25, \n",
    "        resy = [1, 1, 1], # 26,27, 28, \n",
    "        cam4_resx = truncated(Normal(3, 1.5), 0, Inf),\n",
    "        cam4_resy = truncated(Normal(3, 1.5), 0, Inf), \n",
    "        psx = [27.1, 21.6, 114.0], # 31, 32, 33\n",
    "        psy = [30.5, 23.4, 125.0], # 34, 35, 36\n",
    "        cam4_psx = 121.8, # 37\n",
    "        cam4_psy = 120.0, # 38\n",
    "        light_amp  = [1.0 .. 13.0 , 1.0 .. 17.0, 1.0 .. 5.0], # 1.0 .. 5.0\n",
    "        s_cam = [0.0, 1.47799, 15.025999, 23.1644],\n",
    "); \n",
    "\n",
    "\n",
    "labels = [L\"\\sigma_x\", L\"\\sigma_y\", L\"\\sigma_x\", L\"\\sigma_y\", L\"\\sigma'_x\", L\"\\sigma'_y\", L\"\\sigma'_x\", L\"\\sigma'_y\", L\"\\alpha\", L\"s\", L\"s\", \n",
    "    L\"\\mu_x\", L\"\\mu_x\", L\"\\mu_x\", L\"\\mu_x\", L\"\\mu_y\", L\"\\mu_y\", L\"\\mu_y\", L\"\\mu_y\", \n",
    "    \"ped\", \"lf\", \"a\", \"res x\", \"res y\", \"la\", \"la\", \"la\"];"
   ]
  },
  {
   "cell_type": "code",
   "execution_count": 4,
   "metadata": {},
   "outputs": [],
   "source": [
    "smpl_tmp = bat_read(FPATH*\"hc-2.hdf5\").result\n",
    "smpl_tmp = varshape(prior).(smpl_tmp);"
   ]
  },
  {
   "cell_type": "code",
   "execution_count": 5,
   "metadata": {},
   "outputs": [],
   "source": [
    "filenames = readdir(\"../../data/sampling_results/Benchmark-5/\")\n",
    "images = load(\"../../data/experiment/dataset_2/m2/images-satur.jld2\")\n",
    "hc_mask = [i[1:3] == \"hc-\" for i in filenames]\n",
    "hc_fnames = filenames[hc_mask]\n",
    "hc_eind = parse.(Int64, [i[4:end-5] for i in hc_fnames])\n",
    "hc_charge = images[\"charge\"][hc_eind]\n",
    "hc_runind = images[\"ev_ind\"][hc_eind];"
   ]
  },
  {
   "cell_type": "code",
   "execution_count": 6,
   "metadata": {},
   "outputs": [],
   "source": [
    "filenames = readdir(\"../../data/sampling_results/Benchmark-5/\")\n",
    "images = load(\"../../data/experiment/dataset_2/m1/images-satur.jld2\")\n",
    "lc_mask = [i[1:3] == \"lc-\" for i in filenames]\n",
    "lc_fnames = filenames[lc_mask]\n",
    "lc_eind = parse.(Int64, [i[4:end-5] for i in lc_fnames])\n",
    "lc_charge = images[\"charge\"][lc_eind]\n",
    "lc_runind = images[\"ev_ind\"][lc_eind];"
   ]
  },
  {
   "cell_type": "code",
   "execution_count": 7,
   "metadata": {},
   "outputs": [],
   "source": [
    "fnames = [lc_fnames; hc_fnames]\n",
    "charges = Float64[lc_charge; hc_charge]\n",
    "runind = Int64[lc_runind ; hc_runind]\n",
    "charges_n = charges ./ maximum(charges)\n",
    "runind_n = runind ./ maximum(runind);"
   ]
  },
  {
   "cell_type": "code",
   "execution_count": 8,
   "metadata": {},
   "outputs": [
    {
     "data": {
      "text/plain": [
       "672"
      ]
     },
     "execution_count": 8,
     "metadata": {},
     "output_type": "execute_result"
    }
   ],
   "source": [
    "length(fnames)"
   ]
  },
  {
   "cell_type": "code",
   "execution_count": null,
   "metadata": {},
   "outputs": [],
   "source": [
    "mean_params =  [marg_mean_shaped(i) for i in fnames];\n",
    "std_params =  [marg_std_shaped(i) for i in fnames];"
   ]
  },
  {
   "cell_type": "markdown",
   "metadata": {},
   "source": [
    "### Alignment: "
   ]
  },
  {
   "cell_type": "code",
   "execution_count": null,
   "metadata": {},
   "outputs": [],
   "source": [
    "zc_x = [minimum([i.algmx[j] for i in mean_params]) for j in 1:4]; # find min position at each camera \n",
    "zc_y = [minimum([i.algmy[j] for i in mean_params]) for j in 1:4]; # find min position at each camera "
   ]
  },
  {
   "cell_type": "code",
   "execution_count": null,
   "metadata": {},
   "outputs": [],
   "source": [
    "x_event = Array{Float64,1}[]\n",
    "y_event = Array{Float64,1}[]\n",
    "x_event_std = Array{Float64,1}[]\n",
    "y_event_std = Array{Float64,1}[]\n",
    "\n",
    "for i in eachindex(mean_params) \n",
    "    push!(x_event, (mean_params[i].algmx .- zc_x) .* [mean_params[i].psx ; mean_params[i].cam4_psx] .+ 1.0 )\n",
    "    push!(y_event, (mean_params[i].algmy .- zc_y) .* [mean_params[i].psy ; mean_params[i].cam4_psy] .+ 1.0 )\n",
    "    \n",
    "    push!(x_event_std, std_params[i].algmx .* [mean_params[i].psx ; mean_params[i].cam4_psx])\n",
    "    push!(y_event_std, std_params[i].algmy .* [mean_params[i].psy ; mean_params[i].cam4_psy])\n",
    "     \n",
    "end"
   ]
  },
  {
   "cell_type": "markdown",
   "metadata": {},
   "source": [
    "### Emittance: "
   ]
  },
  {
   "cell_type": "code",
   "execution_count": null,
   "metadata": {},
   "outputs": [],
   "source": [
    "emm_tmp_1 = [get_emmitance_halo(i, 1) for i in fnames]\n",
    "emm_tmp_2 = [get_emmitance_halo(i, 2) for i in fnames];"
   ]
  },
  {
   "cell_type": "code",
   "execution_count": null,
   "metadata": {},
   "outputs": [],
   "source": [
    "emm_tmp_21 = [get_emmitance_core(i, 1) for i in fnames]\n",
    "emm_tmp_22 = [get_emmitance_core(i, 2) for i in fnames];"
   ]
  },
  {
   "cell_type": "markdown",
   "metadata": {},
   "source": [
    "### Summary File: "
   ]
  },
  {
   "cell_type": "code",
   "execution_count": 18,
   "metadata": {},
   "outputs": [
    {
     "data": {
      "text/plain": [
       "672-element Vector{Float64}:\n",
       " 4.752341850512539\n",
       " 4.592792377606499\n",
       " 5.076191589355419\n",
       " 4.5144676488602595\n",
       " 4.829457752139221\n",
       " 4.853866344534546\n",
       " 4.54403229682911\n",
       " 4.624927009053934\n",
       " 4.474923479914123\n",
       " 4.601481484230851\n",
       " 4.4774188055143656\n",
       " 4.575254896266892\n",
       " 4.684032536725724\n",
       " ⋮\n",
       " 4.891250400964896\n",
       " 4.574006454291444\n",
       " 4.450975305708914\n",
       " 5.040414416576766\n",
       " 4.492993746490262\n",
       " 4.69317453737886\n",
       " 4.5302508214139765\n",
       " 4.785263212424894\n",
       " 4.973701165318306\n",
       " 4.8194221325672455\n",
       " 5.912566329035211\n",
       " 4.514809586700798"
      ]
     },
     "execution_count": 18,
     "metadata": {},
     "output_type": "execute_result"
    }
   ],
   "source": [
    "Float64[i.cam4_resx[1] for i in mean_params]"
   ]
  },
  {
   "cell_type": "code",
   "execution_count": 19,
   "metadata": {},
   "outputs": [],
   "source": [
    "summary_data = (\n",
    "    \n",
    "    ev_index = runind,\n",
    "    ev_charge = charges,\n",
    "    mode = [i > 15 ? \"LP\" : \"SP\" for i in charges],\n",
    "    \n",
    "    #fnames = fnames,\n",
    "    \n",
    "    μx_trsz_halo = Float64[i.tr_size[1] for i in mean_params],\n",
    "    μy_trsz_halo = Float64[i.tr_size[2] for i in mean_params],\n",
    "    \n",
    "    μx_trsz_core = Float64[i.tr_size_2[1] for i in mean_params],\n",
    "    μy_trsz_core = Float64[i.tr_size_2[2] for i in mean_params],\n",
    "    \n",
    "    μx_angspr_halo = Float64[i.ang_spr[1] for i in mean_params],\n",
    "    μy_angspr_halo = Float64[i.ang_spr[2] for i in mean_params],\n",
    "    \n",
    "    μx_angspr_core = Float64[i.ang_spr_2[1] for i in mean_params],\n",
    "    μy_angspr_core = Float64[i.ang_spr_2[2] for i in mean_params],\n",
    "    \n",
    "    μ_waist_halo = Float64[i.waist[1] for i in mean_params],\n",
    "    μ_waist_core = Float64[i.waist_2[1] for i in mean_params],\n",
    "    \n",
    "    μx_emitt_halo = Float64[i.mean for i in emm_tmp_1],\n",
    "    μy_emitt_halo = Float64[i.mean for i in emm_tmp_2],\n",
    "    \n",
    "    μx_emitt_core = Float64[i.mean for i in emm_tmp_21],\n",
    "    μy_emitt_core = Float64[i.mean for i in emm_tmp_22],\n",
    "    \n",
    "    μmixt_pow = Float64[i.mixt_pow[1] for i in mean_params],\n",
    "    \n",
    "    μx_cam4_res = Float64[i.cam4_resx[1] for i in mean_params],\n",
    "    μy_cam4_res = Float64[i.cam4_resy[1] for i in mean_params],\n",
    "    \n",
    "    μx_align = x_event,\n",
    "    μy_align = y_event,\n",
    "    \n",
    "    σx_trsz_halo = Float64[i.tr_size[1] for i in std_params],\n",
    "    σy_trsz_halo = Float64[i.tr_size[2] for i in std_params],\n",
    "    \n",
    "    σx_trsz_core = Float64[i.tr_size_2[1] for i in std_params],\n",
    "    σy_trsz_core = Float64[i.tr_size_2[2] for i in std_params],\n",
    "    \n",
    "    σx_angspr_halo = Float64[i.ang_spr[1] for i in std_params],\n",
    "    σy_angspr_halo = Float64[i.ang_spr[2] for i in std_params],\n",
    "    \n",
    "    σx_angspr_core = Float64[i.ang_spr_2[1] for i in std_params],\n",
    "    σy_angspr_core = Float64[i.ang_spr_2[2] for i in std_params],\n",
    "        \n",
    "    σ_waist_halo = Float64[i.waist[1] for i in std_params],\n",
    "    σ_waist_core = Float64[i.waist_2[1] for i in std_params],\n",
    "    \n",
    "    σx_emitt_halo = Float64[i.std for i in emm_tmp_1],\n",
    "    σy_emitt_halo = Float64[i.std for i in emm_tmp_2],\n",
    "    \n",
    "    σx_emitt_core = Float64[i.std for i in emm_tmp_21],\n",
    "    σy_emitt_core = Float64[i.std for i in emm_tmp_22],\n",
    "    \n",
    "    σx_align = x_event_std,\n",
    "    σy_align = y_event_std,\n",
    "    \n",
    "    σmixt_pow =  Float64[i.mixt_pow[1] for i in std_params],\n",
    "    \n",
    "    σx_cam4_res = Float64[i.cam4_resx[1] for i in std_params],\n",
    "    σy_cam4_res = Float64[i.cam4_resy[1] for i in std_params],\n",
    "    \n",
    ");\n",
    "\n"
   ]
  },
  {
   "cell_type": "markdown",
   "metadata": {},
   "source": [
    "# Mean event SP:"
   ]
  },
  {
   "cell_type": "code",
   "execution_count": 21,
   "metadata": {},
   "outputs": [
    {
     "data": {
      "text/plain": [
       "(ev_charge = [9.085699421219811], μx_trsz_halo = [0.0558726014371123], μy_trsz_halo = [0.10729271658455802], μx_trsz_core = [0.09895680295475644], μy_trsz_core = [0.10875319339121538], μx_angspr_halo = [6.500535496747923], μy_angspr_halo = [5.945908161499302], μx_angspr_core = [2.2839166823049784], μy_angspr_core = [2.194465456521226], μ_waist_halo = [3.008294872514197], μ_waist_core = [2.732953390762656], μx_emitt_halo = [1.5378468644730705], μy_emitt_halo = [2.7130843338357975], μx_emitt_core = [0.9629652041320705], μy_emitt_core = [1.0173915692050362], μmixt_pow = [0.5402637232050241], μx_cam4_res = [4.593275688761733], μy_cam4_res = [4.119230221305995], μx_align = [[108.13521227916115, 104.04738597343014, 116.96455768623859, 202.13740900309207]], μy_align = [[53.21791391094072, 37.68716587979919, 91.2276842207029, 108.55255644771876]], σx_trsz_halo = [0.003765295412322321], σy_trsz_halo = [0.002023884281896779], σx_trsz_core = [0.0010642968039131628], σy_trsz_core = [0.0014493027480441474], σx_angspr_halo = [0.0656264868554439], σy_angspr_halo = [0.05897622465727748], σx_angspr_core = [0.05172054778463411], σy_angspr_core = [0.04460243275262307], σ_waist_halo = [0.023369360260593344], σ_waist_core = [0.02911861982796876], σx_emitt_halo = [0.09950191937319908], σy_emitt_halo = [0.04857702810301656], σx_emitt_core = [0.022360771926141276], σy_emitt_core = [0.02352967736380121], σx_align = [[0.7776613129042084, 0.5528230953773337, 4.815261780742017, 2.9954174748957048]], σy_align = [[0.8130750904763797, 0.5329604881891139, 4.096016546577311, 2.7522721977184346]], σmixt_pow = [0.00884010934184484], σx_cam4_res = [0.06943686192597995], σy_cam4_res = [0.07282727748719645])"
      ]
     },
     "execution_count": 21,
     "metadata": {},
     "output_type": "execute_result"
    }
   ],
   "source": [
    "mask_tmp = summary_data.mode .== \"SP\"\n",
    "\n",
    "mean_event_sp = (\n",
    "    ev_charge = [mean(summary_data.ev_charge[mask_tmp])],\n",
    "    \n",
    "    μx_trsz_halo = [mean(summary_data.μx_trsz_halo[mask_tmp])],\n",
    "    μy_trsz_halo = [mean(summary_data.μy_trsz_halo[mask_tmp])],\n",
    "    \n",
    "    μx_trsz_core = [mean(summary_data.μx_trsz_core[mask_tmp])],\n",
    "    μy_trsz_core = [mean(summary_data.μy_trsz_core[mask_tmp])],\n",
    "    \n",
    "    μx_angspr_halo = [mean(summary_data.μx_angspr_halo[mask_tmp])],\n",
    "    μy_angspr_halo = [mean(summary_data.μy_angspr_halo[mask_tmp])],\n",
    "    \n",
    "    μx_angspr_core = [mean(summary_data.μx_angspr_core[mask_tmp])],\n",
    "    μy_angspr_core = [mean(summary_data.μy_angspr_core[mask_tmp])],\n",
    "    \n",
    "    μ_waist_halo = [mean(summary_data.μ_waist_halo[mask_tmp])],\n",
    "    μ_waist_core = [mean(summary_data.μ_waist_core[mask_tmp])],\n",
    "    \n",
    "    μx_emitt_halo = [mean(summary_data.μx_emitt_halo[mask_tmp])],\n",
    "    μy_emitt_halo = [mean(summary_data.μy_emitt_halo[mask_tmp])],\n",
    "    \n",
    "    μx_emitt_core = [mean(summary_data.μx_emitt_core[mask_tmp])],\n",
    "    μy_emitt_core = [mean(summary_data.μy_emitt_core[mask_tmp])],\n",
    "    \n",
    "    μmixt_pow = [mean(summary_data.μmixt_pow[mask_tmp])],\n",
    "    \n",
    "    μx_cam4_res = [mean(summary_data.μx_cam4_res[mask_tmp])],  \n",
    "    μy_cam4_res = [mean(summary_data.μy_cam4_res[mask_tmp])], \n",
    "    \n",
    "    μx_align = [mean(summary_data.μx_align[mask_tmp], )],\n",
    "    μy_align = [mean(summary_data.μy_align[mask_tmp], )],\n",
    "    \n",
    "    σx_trsz_halo = [mean(summary_data.σx_trsz_halo[mask_tmp])],\n",
    "    σy_trsz_halo = [mean(summary_data.σy_trsz_halo[mask_tmp])],\n",
    "    \n",
    "    σx_trsz_core = [mean(summary_data.σx_trsz_core[mask_tmp])],\n",
    "    σy_trsz_core = [mean(summary_data.σy_trsz_core[mask_tmp])],\n",
    "    \n",
    "    σx_angspr_halo = [mean(summary_data.σx_angspr_halo[mask_tmp])],\n",
    "    σy_angspr_halo = [mean(summary_data.σy_angspr_halo[mask_tmp])],\n",
    "    \n",
    "    σx_angspr_core = [mean(summary_data.σx_angspr_core[mask_tmp])],\n",
    "    σy_angspr_core = [mean(summary_data.σy_angspr_core[mask_tmp])],\n",
    "        \n",
    "    σ_waist_halo = [mean(summary_data.σ_waist_halo[mask_tmp])],\n",
    "    σ_waist_core = [mean(summary_data.σ_waist_core[mask_tmp])],\n",
    "    \n",
    "    σx_emitt_halo = [mean(summary_data.σx_emitt_halo[mask_tmp])],\n",
    "    σy_emitt_halo = [mean(summary_data.σy_emitt_halo[mask_tmp])],\n",
    "    \n",
    "    σx_emitt_core = [mean(summary_data.σx_emitt_core[mask_tmp])],\n",
    "    σy_emitt_core = [mean(summary_data.σy_emitt_core[mask_tmp])],\n",
    "    \n",
    "    σx_align = [mean(summary_data.σx_align[mask_tmp])],\n",
    "    σy_align = [mean(summary_data.σy_align[mask_tmp])],\n",
    "    \n",
    "    σmixt_pow =   [mean(summary_data.σmixt_pow[mask_tmp])],\n",
    "    \n",
    "    σx_cam4_res = [mean(summary_data.σx_cam4_res[mask_tmp])],  \n",
    "    σy_cam4_res = [mean(summary_data.σy_cam4_res[mask_tmp])], \n",
    ")"
   ]
  },
  {
   "cell_type": "markdown",
   "metadata": {},
   "source": [
    "# Mean event LP:"
   ]
  },
  {
   "cell_type": "code",
   "execution_count": 22,
   "metadata": {},
   "outputs": [
    {
     "data": {
      "text/plain": [
       "(ev_charge = [25.97273535598801], μx_trsz_halo = [0.08638750874840821], μy_trsz_halo = [0.12940107804852882], μx_trsz_core = [0.12732847740508957], μy_trsz_core = [0.1406277633875077], μx_angspr_halo = [5.988979565975158], μy_angspr_halo = [5.601307957431759], μx_angspr_core = [2.405516473871141], μy_angspr_core = [2.2518531333064504], μ_waist_halo = [3.144560817562138], μ_waist_core = [2.740682791870824], μx_emitt_halo = [2.1994958993368603], μy_emitt_halo = [3.085609434047354], μx_emitt_core = [1.306331326624568], μy_emitt_core = [1.351735058680085], μmixt_pow = [0.6896618764811097], μx_cam4_res = [4.734184804471114], μy_cam4_res = [4.515046355948624], μx_align = [[117.78591996634005, 115.7776711406246, 123.22414299165646, 153.3809871110768]], μy_align = [[51.93421612250038, 38.98538260692291, 105.9275892220799, 121.1890165332607]], σx_trsz_halo = [0.0021008678160939], σy_trsz_halo = [0.001626512713412009], σx_trsz_core = [0.0011768218232910028], σy_trsz_core = [0.002053362723340025], σx_angspr_halo = [0.037295315823634205], σy_angspr_halo = [0.03491819034161961], σx_angspr_core = [0.058363721817484386], σy_angspr_core = [0.05484934361614489], σ_waist_halo = [0.020452107379739164], σ_waist_core = [0.029614188492331578], σx_emitt_halo = [0.05042315310793058], σy_emitt_halo = [0.03657832176401386], σx_emitt_core = [0.03181392055991], σy_emitt_core = [0.037357472103277216], σx_align = [[0.59269048711502, 0.6055942775244874, 4.244605259234473, 2.426273506603905]], σy_align = [[0.6064273007738017, 0.5054152064034183, 4.065993200960892, 2.291669487742828]], σmixt_pow = [0.008213956194665698], σx_cam4_res = [0.06821386601618452], σy_cam4_res = [0.06939592637188233])"
      ]
     },
     "execution_count": 22,
     "metadata": {},
     "output_type": "execute_result"
    }
   ],
   "source": [
    "mask_tmp = summary_data.mode .== \"LP\"\n",
    "\n",
    "mean_event_lp = (\n",
    "    ev_charge = [mean(summary_data.ev_charge[mask_tmp])],\n",
    "    \n",
    "    μx_trsz_halo = [mean(summary_data.μx_trsz_halo[mask_tmp])],\n",
    "    μy_trsz_halo = [mean(summary_data.μy_trsz_halo[mask_tmp])],\n",
    "    \n",
    "    μx_trsz_core = [mean(summary_data.μx_trsz_core[mask_tmp])],\n",
    "    μy_trsz_core = [mean(summary_data.μy_trsz_core[mask_tmp])],\n",
    "    \n",
    "    μx_angspr_halo = [mean(summary_data.μx_angspr_halo[mask_tmp])],\n",
    "    μy_angspr_halo = [mean(summary_data.μy_angspr_halo[mask_tmp])],\n",
    "    \n",
    "    μx_angspr_core = [mean(summary_data.μx_angspr_core[mask_tmp])],\n",
    "    μy_angspr_core = [mean(summary_data.μy_angspr_core[mask_tmp])],\n",
    "    \n",
    "    μ_waist_halo = [mean(summary_data.μ_waist_halo[mask_tmp])],\n",
    "    μ_waist_core = [mean(summary_data.μ_waist_core[mask_tmp])],\n",
    "    \n",
    "    μx_emitt_halo = [mean(summary_data.μx_emitt_halo[mask_tmp])],\n",
    "    μy_emitt_halo = [mean(summary_data.μy_emitt_halo[mask_tmp])],\n",
    "    \n",
    "    μx_emitt_core = [mean(summary_data.μx_emitt_core[mask_tmp])],\n",
    "    μy_emitt_core = [mean(summary_data.μy_emitt_core[mask_tmp])],\n",
    "    \n",
    "    μmixt_pow = [mean(summary_data.μmixt_pow[mask_tmp])],\n",
    "    \n",
    "    μx_cam4_res = [mean(summary_data.μx_cam4_res[mask_tmp])],  \n",
    "    μy_cam4_res = [mean(summary_data.μy_cam4_res[mask_tmp])], \n",
    "    \n",
    "    μx_align = [mean(summary_data.μx_align[mask_tmp], )],\n",
    "    μy_align = [mean(summary_data.μy_align[mask_tmp], )],\n",
    "    \n",
    "    σx_trsz_halo = [mean(summary_data.σx_trsz_halo[mask_tmp])],\n",
    "    σy_trsz_halo = [mean(summary_data.σy_trsz_halo[mask_tmp])],\n",
    "    \n",
    "    σx_trsz_core = [mean(summary_data.σx_trsz_core[mask_tmp])],\n",
    "    σy_trsz_core = [mean(summary_data.σy_trsz_core[mask_tmp])],\n",
    "    \n",
    "    σx_angspr_halo = [mean(summary_data.σx_angspr_halo[mask_tmp])],\n",
    "    σy_angspr_halo = [mean(summary_data.σy_angspr_halo[mask_tmp])],\n",
    "    \n",
    "    σx_angspr_core = [mean(summary_data.σx_angspr_core[mask_tmp])],\n",
    "    σy_angspr_core = [mean(summary_data.σy_angspr_core[mask_tmp])],\n",
    "        \n",
    "    σ_waist_halo = [mean(summary_data.σ_waist_halo[mask_tmp])],\n",
    "    σ_waist_core = [mean(summary_data.σ_waist_core[mask_tmp])],\n",
    "    \n",
    "    σx_emitt_halo = [mean(summary_data.σx_emitt_halo[mask_tmp])],\n",
    "    σy_emitt_halo = [mean(summary_data.σy_emitt_halo[mask_tmp])],\n",
    "    \n",
    "    σx_emitt_core = [mean(summary_data.σx_emitt_core[mask_tmp])],\n",
    "    σy_emitt_core = [mean(summary_data.σy_emitt_core[mask_tmp])],\n",
    "    \n",
    "    σx_align = [mean(summary_data.σx_align[mask_tmp])],\n",
    "    σy_align = [mean(summary_data.σy_align[mask_tmp])],\n",
    "    \n",
    "    σmixt_pow =   [mean(summary_data.σmixt_pow[mask_tmp])],\n",
    "    \n",
    "    σx_cam4_res = [mean(summary_data.σx_cam4_res[mask_tmp])],  \n",
    "    σy_cam4_res = [mean(summary_data.σy_cam4_res[mask_tmp])], \n",
    ")"
   ]
  },
  {
   "cell_type": "markdown",
   "metadata": {},
   "source": [
    "## Save data: "
   ]
  },
  {
   "cell_type": "code",
   "execution_count": 23,
   "metadata": {},
   "outputs": [],
   "source": [
    "# Save data: \n",
    "\n",
    "data_save = (summary_data, mean_event_sp, mean_event_lp);\n",
    "\n",
    "# @save \"../../data/sampling_results/Benchmark-5/mcmc-summary-data.jld\" data_save"
   ]
  },
  {
   "cell_type": "code",
   "execution_count": null,
   "metadata": {},
   "outputs": [],
   "source": [
    "# Load file to update angles:  \n",
    "\n",
    "# To do: How to average correctly measurements with uns. \n",
    "\n",
    "# @load \"../../data/sampling_results/Benchmark-5/mcmc-summary-data.jld\" data_save\n",
    "# (summary_data, mean_event_sp, mean_event_lp) = data_save ;"
   ]
  },
  {
   "cell_type": "code",
   "execution_count": null,
   "metadata": {},
   "outputs": [],
   "source": [
    "# sort_ind = sortperm(summary_data.σy_angspr_halo, rev=true)[1:25];\n",
    "# summary_data.σy_angspr_halo[sort_ind]\n",
    "# fnames[sort_ind]"
   ]
  },
  {
   "cell_type": "code",
   "execution_count": 24,
   "metadata": {},
   "outputs": [
    {
     "data": {
      "image/png": "[encoded data removed]",
      "text/plain": [
       "Figure(PyObject <Figure size 1000x500 with 2 Axes>)"
      ]
     },
     "metadata": {},
     "output_type": "display_data"
    },
    {
     "data": {
      "text/plain": [
       "PyObject <matplotlib.legend.Legend object at 0x7f26fc020d30>"
      ]
     },
     "execution_count": 24,
     "metadata": {},
     "output_type": "execute_result"
    }
   ],
   "source": [
    "fig, ax= plt.subplots(1,2, figsize=(10,5))\n",
    "\n",
    "ax[1].scatter(summary_data.μx_trsz_core, summary_data.μy_trsz_core, color=\"peachpuff\", label=\"Core: All Ev.\")\n",
    "ax[2].scatter(summary_data.μx_emitt_core, summary_data.μy_emitt_core, color=\"peachpuff\")\n",
    "\n",
    "ax[1].scatter(summary_data.μx_trsz_halo, summary_data.μy_trsz_halo, color=\"lightblue\", label=\"Halo: All Ev.\")\n",
    "ax[2].scatter(summary_data.μx_emitt_halo, summary_data.μy_emitt_halo, color=\"lightblue\")\n",
    "\n",
    "ax[1].errorbar(\n",
    "    mean_event_sp.μx_trsz_core, \n",
    "    mean_event_sp.μy_trsz_core,\n",
    "    xerr=mean_event_sp.σx_trsz_core,\n",
    "    yerr=mean_event_sp.σy_trsz_core,\n",
    "    color=\"k\", \n",
    "    fmt=\"o\", markersize=4,  markeredgewidth=0.5,\n",
    "    mfc=\"red\", capsize=4, ecolor=\"k\", elinewidth=0.5, label=\"Small Pop.:Mean Ev. \")\n",
    "\n",
    "ax[1].errorbar(\n",
    "    mean_event_lp.μx_trsz_core, \n",
    "    mean_event_lp.μy_trsz_core,\n",
    "    xerr=mean_event_lp.σx_trsz_core,\n",
    "    yerr=mean_event_lp.σy_trsz_core,\n",
    "    color=\"k\", \n",
    "    fmt=\"o\", markersize=4,  markeredgewidth=0.5,\n",
    "    mfc=\"blue\", capsize=4, ecolor=\"k\", elinewidth=0.5, label=\"Large Pop.:Mean Ev. \")\n",
    "\n",
    "ax[1].errorbar(\n",
    "    mean_event_sp.μx_trsz_halo, \n",
    "    mean_event_sp.μy_trsz_halo,\n",
    "    xerr=mean_event_sp.σx_trsz_halo,\n",
    "    yerr=mean_event_sp.σy_trsz_halo,\n",
    "    color=\"k\", \n",
    "    fmt=\"o\", markersize=4,  markeredgewidth=0.5,\n",
    "    mfc=\"red\", capsize=4, ecolor=\"k\", elinewidth=0.5)\n",
    "\n",
    "ax[1].errorbar(\n",
    "    mean_event_lp.μx_trsz_halo, \n",
    "    mean_event_lp.μy_trsz_halo,\n",
    "    xerr=mean_event_lp.σx_trsz_halo,\n",
    "    yerr=mean_event_lp.σy_trsz_halo,\n",
    "    color=\"k\", \n",
    "    fmt=\"o\", markersize=4,  markeredgewidth=0.5,\n",
    "    mfc=\"blue\", capsize=4, ecolor=\"k\", elinewidth=0.5)\n",
    "\n",
    "\n",
    "ax[2].errorbar(\n",
    "    mean_event_sp.μx_emitt_core, \n",
    "    mean_event_sp.μy_emitt_core,\n",
    "    xerr=mean_event_sp.σx_emitt_core,\n",
    "    yerr=mean_event_sp.σy_emitt_core,\n",
    "    color=\"k\", \n",
    "    fmt=\"o\", markersize=4,  markeredgewidth=0.5,\n",
    "    mfc=\"red\", capsize=4, ecolor=\"k\", elinewidth=0.5, label=\"Small Pop.:Mean Ev. \")\n",
    "\n",
    "ax[2].errorbar(\n",
    "    mean_event_lp.μx_emitt_core, \n",
    "    mean_event_lp.μy_emitt_core,\n",
    "    xerr=mean_event_lp.σx_emitt_core,\n",
    "    yerr=mean_event_lp.σy_emitt_core,\n",
    "    color=\"k\", \n",
    "    fmt=\"o\", markersize=4,  markeredgewidth=0.5,\n",
    "    mfc=\"blue\", capsize=4, ecolor=\"k\", elinewidth=0.5, label=\"Small Pop.:Mean Ev. \")\n",
    "\n",
    "ax[2].errorbar(\n",
    "    mean_event_sp.μx_emitt_halo, \n",
    "    mean_event_sp.μy_emitt_halo,\n",
    "    xerr=mean_event_sp.σx_emitt_halo,\n",
    "    yerr=mean_event_sp.σy_emitt_halo,\n",
    "    color=\"k\", \n",
    "    fmt=\"o\", markersize=4,  markeredgewidth=0.5,\n",
    "    mfc=\"red\", capsize=4, ecolor=\"k\", elinewidth=0.5, label=\"Small Pop.:Mean Ev. \")\n",
    "\n",
    "ax[2].errorbar(\n",
    "    mean_event_lp.μx_emitt_halo, \n",
    "    mean_event_lp.μy_emitt_halo,\n",
    "    xerr=mean_event_lp.σx_emitt_halo,\n",
    "    yerr=mean_event_lp.σy_emitt_halo,\n",
    "    color=\"k\", \n",
    "    fmt=\"o\", markersize=4,  markeredgewidth=0.5,\n",
    "    mfc=\"blue\", capsize=4, ecolor=\"k\", elinewidth=0.5, label=\"Small Pop.:Mean Ev. \")\n",
    "\n",
    "\n",
    "\n",
    "ax[1].set_title(\"Transversal Size\")\n",
    "ax[2].set_title(\"Emittance\")\n",
    "\n",
    "ax[1].set_xlabel(L\"\\sigma_x \\; (\\mathrm{mm})\")\n",
    "ax[1].set_ylabel(L\"\\sigma_y \\; (\\mathrm{mm})\")\n",
    "\n",
    "ax[2].set_xlabel(L\"\\epsilon_x \\; (\\mathrm{mm \\cdot mrad})\")\n",
    "ax[2].set_ylabel(L\"\\epsilon_y \\; (\\mathrm{mm \\cdot mrad})\")\n",
    "\n",
    "ax[1].legend()"
   ]
  },
  {
   "cell_type": "code",
   "execution_count": null,
   "metadata": {},
   "outputs": [],
   "source": []
  },
  {
   "cell_type": "code",
   "execution_count": null,
   "metadata": {},
   "outputs": [],
   "source": []
  },
  {
   "cell_type": "code",
   "execution_count": null,
   "metadata": {},
   "outputs": [],
   "source": [
    "# using DataFrames, CSV\n",
    "\n",
    "# df = DataFrame(summary_data)\n",
    "# df_sp = DataFrame(mean_event_sp)\n",
    "# df_lp = DataFrame(mean_event_lp)\n",
    "\n",
    "# CSV.write(\"all-events.csv\", df)\n",
    "# CSV.write(\"sp-mean.csv\", df_sp)\n",
    "# CSV.write(\"lp-mean.csv\", df_lp)"
   ]
  },
  {
   "cell_type": "code",
   "execution_count": null,
   "metadata": {},
   "outputs": [],
   "source": []
  },
  {
   "cell_type": "code",
   "execution_count": null,
   "metadata": {},
   "outputs": [],
   "source": []
  },
  {
   "cell_type": "code",
   "execution_count": null,
   "metadata": {},
   "outputs": [],
   "source": []
  }
 ],
 "metadata": {
  "kernelspec": {
   "display_name": "Julia 1.6.0-rc1",
   "language": "julia",
   "name": "julia-1.6"
  },
  "language_info": {
   "file_extension": ".jl",
   "mimetype": "application/julia",
   "name": "julia",
   "version": "1.6.0"
  }
 },
 "nbformat": 4,
 "nbformat_minor": 4
}
