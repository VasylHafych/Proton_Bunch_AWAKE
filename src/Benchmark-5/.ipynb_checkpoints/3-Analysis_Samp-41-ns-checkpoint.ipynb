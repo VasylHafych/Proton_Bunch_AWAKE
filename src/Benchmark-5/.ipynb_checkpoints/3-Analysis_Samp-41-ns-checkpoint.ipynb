{
 "cells": [
  {
   "cell_type": "code",
   "execution_count": 1,
   "metadata": {},
   "outputs": [],
   "source": [
    "using JLD2\n",
    "using FileIO\n",
    "using PyPlot\n",
    "using Statistics\n",
    "using StatsBase \n",
    "using Distributions\n",
    "using LinearAlgebra\n",
    "using HDF5\n",
    "using IntervalSets\n",
    "using Random, ArraysOfArrays\n",
    "using ValueShapes\n",
    "using Measurements\n",
    "using BAT\n",
    "using DSP"
   ]
  },
  {
   "cell_type": "code",
   "execution_count": 2,
   "metadata": {},
   "outputs": [],
   "source": [
    "FPATH = \"../../data/sampling_results/Benchmark-5/\"\n",
    "\n",
    "@load FPATH*\"mcmc-summary-data.jld\" data_save\n",
    "data = data_save[1];"
   ]
  },
  {
   "cell_type": "code",
   "execution_count": 3,
   "metadata": {},
   "outputs": [],
   "source": [
    "charges_n = data.ev_charge ./ maximum(data.ev_charge)\n",
    "runind_n = data.ev_index ./ maximum(data.ev_index);"
   ]
  },
  {
   "cell_type": "code",
   "execution_count": 4,
   "metadata": {},
   "outputs": [
    {
     "data": {
      "text/plain": [
       "1:112"
      ]
     },
     "execution_count": 4,
     "metadata": {},
     "output_type": "execute_result"
    }
   ],
   "source": [
    "rind = 1:length(data.ev_charge)"
   ]
  },
  {
   "cell_type": "code",
   "execution_count": 5,
   "metadata": {},
   "outputs": [],
   "source": [
    "charges_n[sortperm(charges_n)] .= 1:length(charges_n)\n",
    "charges_n = charges_n ./ maximum(charges_n);\n",
    "charges = data.ev_charge;"
   ]
  },
  {
   "cell_type": "markdown",
   "metadata": {},
   "source": [
    "## Transversal Size: "
   ]
  },
  {
   "cell_type": "code",
   "execution_count": 6,
   "metadata": {},
   "outputs": [],
   "source": [
    "σ_x_halo = data.μx_trsz_halo\n",
    "σ_y_halo = data.μy_trsz_halo\n",
    "σ_x_core = data.μx_trsz_core\n",
    "σ_y_core = data.μy_trsz_core\n",
    "\n",
    "std_x_halo = data.σx_trsz_halo\n",
    "std_y_halo = data.σy_trsz_halo\n",
    "std_x_core = data.σx_trsz_core\n",
    "std_y_core = data.σy_trsz_core;"
   ]
  },
  {
   "cell_type": "code",
   "execution_count": 7,
   "metadata": {},
   "outputs": [],
   "source": [
    "xmin, xmax = 0.02, 0.24\n",
    "xrange=range(xmin, stop = xmax,length=100)\n",
    "yrange=range(xmin, stop = xmax,length=100)\n",
    "xvals = [pdf(truncated(Normal(0.2, 0.04), 0.02, 0.25), x) for x in xrange]\n",
    "yvals = [pdf(truncated(Normal(0.2, 0.04), 0.02, 0.25), y)  for y in yrange]\n",
    "z = xvals*yvals';"
   ]
  },
  {
   "cell_type": "code",
   "execution_count": null,
   "metadata": {},
   "outputs": [],
   "source": [
    "fig, ax= plt.subplots(2,2, figsize=(7,7), gridspec_kw=Dict(\"width_ratios\"=>[6,1], \"height_ratios\"=>[1,6]))\n",
    "fig.subplots_adjust(hspace=0.0, wspace=0.0)\n",
    "\n",
    "range_tmp = range(0, stop=maximum(z), length=12)[2:end]\n",
    "colors_tmp = [plt.cm.bone_r(i) for i in range(0, stop=0.4, length=length(range_tmp))[2:end]]\n",
    "ax[2,1].contourf(xrange, yrange, z, levels=range_tmp, colors=colors_tmp, alpha=0.4, antialiased=true) \n",
    "\n",
    "\n",
    "label_1 = \"Data (Halo)\"\n",
    "label_2 = \"Data (Core)\"\n",
    "\n",
    "errorbar_ind = rind[1]:3:rind[end]\n",
    "for i in rind[end:-1:1]\n",
    "    x_err = i in errorbar_ind ? std_x_halo[i] : false\n",
    "    y_err = i in errorbar_ind ? std_y_halo[i] : false\n",
    "    ax[2,1].errorbar(σ_x_halo[i], σ_y_halo[i], xerr=x_err, yerr=y_err, \n",
    "        color=\"k\", alpha=0.9,\n",
    "        fmt=\"o\", markersize=4, \n",
    "        mfc=plt.cm.OrRd(charges_n[i]), #red\n",
    "        markeredgecolor = \"k\", markeredgewidth=0.4,\n",
    "        capsize=1.5, ecolor=\"k\", elinewidth=0.4, label=label_1)\n",
    "    label_1 = \"\"\n",
    "    x_err = i in errorbar_ind ? std_x_core[i] : false\n",
    "    y_err = i in errorbar_ind ? std_y_core[i] : false\n",
    "    ax[2,1].errorbar(σ_x_core[i], σ_y_core[i], xerr=x_err, yerr=y_err, \n",
    "        color=\"k\", alpha=0.9,\n",
    "        fmt=\"o\", markersize=4,\n",
    "        mfc=plt.cm.GnBu(charges_n[i]), #red\n",
    "        markeredgecolor = \"k\", markeredgewidth=0.4, \n",
    "        capsize=1.5, ecolor=\"k\", elinewidth=0.4, label=label_2)\n",
    "    label_2 = \"\"\n",
    "end\n",
    "\n",
    "cb = ax[2,1].scatter(charges_n, charges_n, s=0.0, c=charges, cmap=\"OrRd\")\n",
    "cb2 = ax[2,1].scatter(charges_n, charges_n, s=0.0, c=charges, cmap=\"GnBu\")\n",
    "ax_ins_3 = fig.add_axes([0.19,0.62,0.02,0.12])\n",
    "ax_ins_2 = fig.add_axes([0.15,0.62,0.02,0.12])\n",
    "cbar = fig.colorbar(cb, spacing=\"proportional\", label=\"Population\", ticks = [10, 25], cax=ax_ins_3)\n",
    "cbar.ax.set_yticklabels([\"small\", \"large\"], rotation=90, verticalalignment=\"center\")  # horizontal colorbar\n",
    "fig.colorbar(cb2, spacing=\"proportional\", ticks=[], cax=ax_ins_2)\n",
    "\n",
    "proxy = plt.Rectangle((10, 10), 1, 1, fc=plt.cm.bone_r(0.17), label=\"Prior\")\n",
    "# proxy2 = plt.Rectangle((10, 10), 1, 1, fc=plt.cm.Blues(0.57), label=\"Posterior\")\n",
    "ax[2,1].add_patch(proxy)\n",
    "# ax[2,1].add_patch(proxy2)\n",
    "ax[2,1].legend(loc=\"lower right\")\n",
    "\n",
    "bins_tmp = range(0.02, stop=0.165, length=50)\n",
    "ax[1,1].hist(σ_x_halo, bins=bins_tmp, color=plt.cm.OrRd(1.), alpha=0.20)\n",
    "ax[2,2].hist(σ_y_halo, bins=bins_tmp, orientation=\"horizontal\", color=plt.cm.OrRd(1.), alpha=0.2)\n",
    "ax[1,1].hist(σ_x_core, bins=bins_tmp, color=plt.cm.GnBu(1.), alpha=0.20)\n",
    "ax[2,2].hist(σ_y_core, bins=bins_tmp, orientation=\"horizontal\", color=plt.cm.GnBu(1.), alpha=0.20)\n",
    "\n",
    "ax[1,1].set_ylim(bottom=0.0)\n",
    "ax[2,2].set_xlim(left=0.0)\n",
    "\n",
    "ax[1,2].set_visible(false)\n",
    "\n",
    "ax[1,1].set_xticks([])\n",
    "ax[2,2].set_yticks([])\n",
    "\n",
    "ax[2,1].set_xlim(0.02, 0.175)\n",
    "ax[1,1].set_xlim(0.02, 0.175)\n",
    "ax[2,1].set_ylim(0.07, 0.175)\n",
    "ax[2,2].set_ylim(0.07, 0.175)\n",
    "\n",
    "ax[2,1].set_xlabel(L\"\\sigma_x \\; (\\mathrm{mm})\")\n",
    "ax[2,2].set_xlabel(L\"\\mathrm{\\# Events}\")\n",
    "ax[2,1].set_ylabel(L\"\\sigma_y \\; (\\mathrm{mm})\")\n",
    "ax[1,1].set_ylabel(L\"\\mathrm{\\# Events}\")"
   ]
  },
  {
   "cell_type": "markdown",
   "metadata": {},
   "source": [
    "## Angular Spread: "
   ]
  },
  {
   "cell_type": "code",
   "execution_count": null,
   "metadata": {},
   "outputs": [],
   "source": [
    "σ_x_halo = data.μx_angspr_halo\n",
    "σ_y_halo = data.μy_angspr_halo\n",
    "σ_x_core = data.μx_angspr_core\n",
    "σ_y_core = data.μy_angspr_core\n",
    "\n",
    "std_x_halo = data.σx_angspr_halo\n",
    "std_y_halo = data.σy_angspr_halo\n",
    "std_x_core = data.σx_angspr_core\n",
    "std_y_core = data.σy_angspr_core;"
   ]
  },
  {
   "cell_type": "code",
   "execution_count": null,
   "metadata": {},
   "outputs": [],
   "source": [
    "xmin, xmax = 0, 10\n",
    "xrange=range(xmin, stop = xmax,length=300)\n",
    "yrange=range(xmin, stop = xmax,length=300)\n",
    "xvals = [pdf(Normal(4, 2), x) for x in xrange]\n",
    "yvals = [pdf(Normal(4, 2), y)  for y in yrange]\n",
    "z = xvals*yvals';"
   ]
  },
  {
   "cell_type": "code",
   "execution_count": null,
   "metadata": {},
   "outputs": [],
   "source": [
    "fig, ax= plt.subplots(2,2, figsize=(6,6), gridspec_kw=Dict(\"width_ratios\"=>[6,1], \"height_ratios\"=>[1,6]))\n",
    "fig.subplots_adjust(hspace=0.0, wspace=0.0)\n",
    "\n",
    "# ax[2,1].contourf(xrange, yrange, z, levels=range(0.6*maximum(z), 1.4*maximum(z), length=50)[1:end], cmap=\"bone_r\", alpha=0.7, antialiased=true)\n",
    "range_tmp = range(0, stop=maximum(z), length=8)[2:end]\n",
    "colors_tmp = [plt.cm.bone_r(i) for i in range(0, stop=0.4, length=length(range_tmp))[2:end]]\n",
    "ax[2,1].contourf(xrange, yrange, z, levels=range_tmp, colors=colors_tmp, alpha=0.4, antialiased=true) \n",
    "\n",
    "\n",
    "label_1 = \"Data (Halo)\"\n",
    "label_2 = \"Data (Core)\"\n",
    "\n",
    "errorbar_ind = rind[1]:3:rind[end]\n",
    "for i in rind[end:-1:1]\n",
    "    x_err = i in errorbar_ind ? std_x_halo[i] : false\n",
    "    y_err = i in errorbar_ind ? std_y_halo[i] : false\n",
    "    ax[2,1].errorbar(σ_x_halo[i], σ_y_halo[i], xerr=x_err, yerr=y_err, \n",
    "        color=\"k\", alpha=0.9,\n",
    "        fmt=\"o\", markersize=4, \n",
    "        mfc=plt.cm.OrRd(charges_n[i]), #red\n",
    "        markeredgecolor = \"k\", markeredgewidth=0.4,\n",
    "        capsize=1.5, ecolor=\"k\", elinewidth=0.4, label=label_1)\n",
    "    label_1 = \"\"\n",
    "    x_err = i in errorbar_ind ? std_x_core[i] : false\n",
    "    y_err = i in errorbar_ind ? std_y_core[i] : false\n",
    "    ax[2,1].errorbar(σ_x_core[i], σ_y_core[i], xerr=x_err, yerr=y_err, \n",
    "        color=\"k\", alpha=0.9,\n",
    "        fmt=\"o\", markersize=4,\n",
    "        mfc=plt.cm.GnBu(charges_n[i]), #red\n",
    "        markeredgecolor = \"k\", markeredgewidth=0.4, \n",
    "        capsize=1.5, ecolor=\"k\", elinewidth=0.4, label=label_2)\n",
    "    label_2 = \"\"\n",
    "end\n",
    "\n",
    "cb = ax[2,1].scatter(charges_n, charges_n, s=0.0, c=charges, cmap=\"OrRd\")\n",
    "cb2 = ax[2,1].scatter(charges_n, charges_n, s=0.0, c=charges, cmap=\"GnBu\")\n",
    "ax_ins_3 = fig.add_axes([0.19,0.62,0.02,0.12])\n",
    "ax_ins_2 = fig.add_axes([0.15,0.62,0.02,0.12])\n",
    "cbar = fig.colorbar(cb, spacing=\"proportional\", label=\"Population\", ticks = [10, 25], cax=ax_ins_3)\n",
    "cbar.ax.set_yticklabels([\"small\", \"large\"], rotation=90, verticalalignment=\"center\")  # horizontal colorbar\n",
    "fig.colorbar(cb2, spacing=\"proportional\", ticks=[], cax=ax_ins_2)\n",
    "\n",
    "proxy = plt.Rectangle((10, 10), 1, 1, fc=plt.cm.bone_r(0.17), label=\"Prior\")\n",
    "# proxy2 = plt.Rectangle((10, 10), 1, 1, fc=plt.cm.Blues(0.57), label=\"Posterior LC\")\n",
    "# proxy3 = plt.Rectangle((10, 10), 1, 1, fc=plt.cm.Greens(0.57), label=\"Posterior SC\")\n",
    "ax[2,1].add_patch(proxy)\n",
    "# ax[2,1].add_patch(proxy2)\n",
    "# ax[2,1].add_patch(proxy3)\n",
    "ax[2,1].legend(loc=\"lower right\")\n",
    "\n",
    "bins_tmp = range(0.8, stop=7.2, length=50)\n",
    "ax[1,1].hist(σ_x_halo, bins=bins_tmp, color=plt.cm.OrRd(1.), alpha=0.20)\n",
    "ax[2,2].hist(σ_y_halo, bins=bins_tmp, orientation=\"horizontal\", color=plt.cm.OrRd(1.), alpha=0.2)\n",
    "ax[1,1].hist(σ_x_core, bins=bins_tmp, color=plt.cm.GnBu(1.), alpha=0.20)\n",
    "ax[2,2].hist(σ_y_core, bins=bins_tmp, orientation=\"horizontal\", color=plt.cm.GnBu(1.), alpha=0.20)\n",
    "\n",
    "\n",
    "ax[1,1].set_ylim(bottom=0.0)\n",
    "ax[2,2].set_xlim(left=0.0)\n",
    "\n",
    "ax[1,2].set_visible(false)\n",
    "\n",
    "ax[1,1].set_xticks([])\n",
    "ax[2,2].set_yticks([])\n",
    "\n",
    "ax[2,1].set_xlim(0.8, 7.2)\n",
    "ax[1,1].set_xlim(0.8, 7.2)\n",
    "ax[2,1].set_ylim(0.8, 7.2)\n",
    "ax[2,2].set_ylim(0.8, 7.2)\n",
    "\n",
    "ax[2,1].set_xlabel(L\"\\sigma'_x \\; (\\mathrm{10^{-5} \\cdot rad})\")\n",
    "ax[2,2].set_xlabel(L\"\\mathrm{\\# Events}\")\n",
    "ax[2,1].set_ylabel(L\"\\sigma'_y \\; (\\mathrm{10^{-5} \\cdot rad})\")\n",
    "ax[1,1].set_ylabel(L\"\\mathrm{\\# Events}\")"
   ]
  },
  {
   "cell_type": "code",
   "execution_count": null,
   "metadata": {},
   "outputs": [],
   "source": []
  },
  {
   "cell_type": "markdown",
   "metadata": {},
   "source": [
    "## Waist Positions: "
   ]
  },
  {
   "cell_type": "code",
   "execution_count": null,
   "metadata": {},
   "outputs": [],
   "source": [
    "halo_waist = data.μ_waist_halo\n",
    "core_waist = data.μ_waist_core\n",
    "\n",
    "halo_std = data.σ_waist_halo\n",
    "core_std = data.σ_waist_core;"
   ]
  },
  {
   "cell_type": "code",
   "execution_count": null,
   "metadata": {},
   "outputs": [],
   "source": [
    "xmin, xmax = 2.7, 3.44\n",
    "xrange=range(xmin, stop = xmax,length=300)\n",
    "yrange=range(xmin, stop = xmax,length=300)\n",
    "xvals = [pdf(Normal(2.9, 0.03), x) for x in xrange]\n",
    "yvals = [pdf(Normal(2.9, 0.03), y)  for y in yrange]\n",
    "z = xvals*yvals';"
   ]
  },
  {
   "cell_type": "code",
   "execution_count": null,
   "metadata": {},
   "outputs": [],
   "source": [
    "fig, ax= plt.subplots(2,2, figsize=(6,6), gridspec_kw=Dict(\"width_ratios\"=>[6,1], \"height_ratios\"=>[1,6]))\n",
    "fig.subplots_adjust(hspace=0.0, wspace=0.0)\n",
    "\n",
    "range_tmp = range(0, stop=maximum(z), length=8)[2:end]\n",
    "colors_tmp = [plt.cm.bone_r(i) for i in range(0, stop=0.4, length=length(range_tmp))[2:end]]\n",
    "ax[2,1].contourf(xrange, yrange, z, levels=range_tmp, colors=colors_tmp, alpha=0.6, antialiased=true) \n",
    "\n",
    "label_1 = \"Data\"\n",
    "\n",
    "errorbar_ind = rind[1]:4:rind[end]\n",
    "for i in rind[end:-1:1]\n",
    "    x_err = i in errorbar_ind ? halo_std[i] : false\n",
    "    y_err = i in errorbar_ind ? core_std[i] : false\n",
    "    ax[2,1].errorbar(halo_waist[i], core_waist[i], xerr=x_err, yerr=y_err, \n",
    "        color=\"k\", alpha=0.9,\n",
    "        fmt=\"o\", markersize=4, \n",
    "        mfc=plt.cm.OrRd(charges_n[i]), #red\n",
    "        markeredgecolor = \"k\", markeredgewidth=0.4,\n",
    "        capsize=1.5, ecolor=\"k\", elinewidth=0.4, label=label_1)\n",
    "    label_1 = \"\"\n",
    "\n",
    "end\n",
    "\n",
    "cb = ax[2,1].scatter(charges_n, charges_n, s=0.0, c=charges, cmap=\"OrRd\")\n",
    "ax_ins_3 = fig.add_axes([0.15,0.62,0.02,0.12])\n",
    "cbar = fig.colorbar(cb, spacing=\"proportional\", label=\"Population\", ticks = [10, 25], cax=ax_ins_3)\n",
    "cbar.ax.set_yticklabels([\"small\", \"large\"], rotation=90, verticalalignment=\"center\")  # horizontal colorbar\n",
    "\n",
    "proxy = plt.Rectangle((10, 10), 1, 1, fc=plt.cm.bone_r(0.17), label=\"Prior\")\n",
    "ax[2,1].add_patch(proxy)\n",
    "ax[2,1].legend(loc=\"lower right\")\n",
    "\n",
    "bins_tmp = range(2.7, stop=3.6, length=50)\n",
    "ax[1,1].hist(halo_waist, bins=bins_tmp, color=plt.cm.OrRd(1.), alpha=0.20)\n",
    "ax[2,2].hist(core_waist, bins=bins_tmp, orientation=\"horizontal\", color=plt.cm.OrRd(1.), alpha=0.2)\n",
    "\n",
    "\n",
    "ax[1,1].set_ylim(bottom=0.0)\n",
    "ax[2,2].set_xlim(left=0.0)\n",
    "\n",
    "ax[1,2].set_visible(false)\n",
    "\n",
    "ax[1,1].set_xticks([])\n",
    "ax[2,2].set_yticks([])\n",
    "\n",
    "ax[2,1].set_xlim(xmin, xmax)\n",
    "ax[1,1].set_xlim(xmin, xmax)\n",
    "ax[2,1].set_ylim(xmin, 3.12)\n",
    "ax[2,2].set_ylim(xmin, 3.12)\n",
    "\n",
    "ax[2,1].set_xlabel(\"Waist Halo (m)\")\n",
    "ax[2,2].set_xlabel(L\"\\mathrm{\\# Events}\")\n",
    "ax[2,1].set_ylabel(\"Waist Core (m)\")\n",
    "ax[1,1].set_ylabel(L\"\\mathrm{\\# Events}\")"
   ]
  },
  {
   "cell_type": "code",
   "execution_count": null,
   "metadata": {},
   "outputs": [],
   "source": []
  },
  {
   "cell_type": "code",
   "execution_count": null,
   "metadata": {},
   "outputs": [],
   "source": []
  },
  {
   "cell_type": "code",
   "execution_count": null,
   "metadata": {},
   "outputs": [],
   "source": []
  },
  {
   "cell_type": "markdown",
   "metadata": {},
   "source": [
    "## Emittance: "
   ]
  },
  {
   "cell_type": "code",
   "execution_count": null,
   "metadata": {},
   "outputs": [],
   "source": [
    "em_x_halo = data.μx_emitt_halo\n",
    "em_y_halo = data.μy_emitt_halo\n",
    "em_x_core = data.μx_emitt_core\n",
    "em_y_core = data.μy_emitt_core\n",
    "\n",
    "std_x_halo = data.σx_emitt_halo\n",
    "std_y_halo = data.σy_emitt_halo\n",
    "std_x_core = data.σx_emitt_core\n",
    "std_y_core = data.σy_emitt_core;"
   ]
  },
  {
   "cell_type": "code",
   "execution_count": null,
   "metadata": {},
   "outputs": [],
   "source": [
    "prior_emmitance_x = rand(Normal(0.2, 0.04), 3*10^6) .* rand(Normal(4, 2), 3*10^6) .* 10^-5 .* 1000 .* 426.0\n",
    "prior_emmitance_y = rand(Normal(0.2, 0.04), 3*10^6) .* rand(Normal(4, 2), 3*10^6) .* 10^-5 .* 1000 .* 426.0\n",
    "\n",
    "hist_em_tmp = fit(Histogram, (prior_emmitance_x,prior_emmitance_y),nbins=50)\n",
    "hist_em_tmp = normalize(hist_em_tmp, mode=:pdf);\n",
    "\n",
    "range_tmp = range(1.2*minimum(hist_em_tmp.weights), stop=maximum(hist_em_tmp.weights), length=10)[2:end]\n",
    "colors_tmp = [plt.cm.bone_r(i) for i in range(0, stop=0.4, length=length(range_tmp))[2:end]];"
   ]
  },
  {
   "cell_type": "code",
   "execution_count": null,
   "metadata": {},
   "outputs": [],
   "source": [
    "fig, ax= plt.subplots(2,2, figsize=(7,7), gridspec_kw=Dict(\"width_ratios\"=>[6,1], \"height_ratios\"=>[1,6]))\n",
    "fig.subplots_adjust(hspace=0.0, wspace=0.0)\n",
    "\n",
    "ax[2,1].contourf(midpoints(hist_em_tmp.edges[1]), midpoints(hist_em_tmp.edges[2]), hist_em_tmp.weights', levels=range_tmp, colors=colors_tmp, alpha=0.3, antialiased=true) \n",
    "\n",
    "label_1 = \"Data (Halo)\"\n",
    "label_2 = \"Data (Core)\"\n",
    "\n",
    "errorbar_ind = rind[1]:3:rind[end]\n",
    "for i in rind[end:-1:1]\n",
    "    x_err = i in errorbar_ind ? std_x_halo[i] : false\n",
    "    y_err = i in errorbar_ind ? std_y_halo[i] : false\n",
    "    ax[2,1].errorbar(em_x_halo[i], em_y_halo[i], xerr=x_err, yerr=y_err, \n",
    "        color=\"k\", alpha=0.9,\n",
    "        fmt=\"o\", markersize=4, \n",
    "        mfc=plt.cm.OrRd(charges_n[i]), #red\n",
    "        markeredgecolor = \"k\", markeredgewidth=0.4,\n",
    "        capsize=1.5, ecolor=\"k\", elinewidth=0.4, label=label_1)\n",
    "    label_1 = \"\"\n",
    "    x_err = i in errorbar_ind ? std_x_core[i] : false\n",
    "    y_err = i in errorbar_ind ? std_y_core[i] : false\n",
    "    ax[2,1].errorbar(em_x_core[i], em_y_core[i], xerr=x_err, yerr=y_err, \n",
    "        color=\"k\", alpha=0.9,\n",
    "        fmt=\"o\", markersize=4,\n",
    "        mfc=plt.cm.GnBu(charges_n[i]), #red\n",
    "        markeredgecolor = \"k\", markeredgewidth=0.4, \n",
    "        capsize=1.5, ecolor=\"k\", elinewidth=0.4, label=label_2)\n",
    "    label_2 = \"\"\n",
    "end\n",
    "\n",
    "cb = ax[2,1].scatter(charges_n, charges_n, s=0.0, c=charges, cmap=\"OrRd\")\n",
    "cb2 = ax[2,1].scatter(charges_n, charges_n, s=0.0, c=charges, cmap=\"GnBu\")\n",
    "ax_ins_3 = fig.add_axes([0.67,0.25,0.02,0.12])\n",
    "ax_ins_2 = fig.add_axes([0.63,0.25,0.02,0.12])\n",
    "cbar = fig.colorbar(cb, spacing=\"proportional\", label=\"Population\", ticks = [10, 25], cax=ax_ins_3)\n",
    "cbar.ax.set_yticklabels([\"small\", \"large\"], rotation=90, verticalalignment=\"center\")  # horizontal colorbar\n",
    "fig.colorbar(cb2, spacing=\"proportional\", ticks=[], cax=ax_ins_2)\n",
    "\n",
    "proxy = plt.Rectangle((10, 10), 1, 1, fc=plt.cm.bone_r(0.17), label=\"Prior\")\n",
    "# proxy2 = plt.Rectangle((10, 10), 1, 1, fc=plt.cm.Blues(0.57), label=\"Posterior\")\n",
    "ax[2,1].add_patch(proxy)\n",
    "# ax[2,1].add_patch(proxy2)\n",
    "ax[2,1].legend(loc=\"lower right\")\n",
    "\n",
    "bins_tmp = range(0.7, stop=3.5, length=50)\n",
    "ax[1,1].hist(em_x_core, bins=bins_tmp, color=plt.cm.GnBu(1.0), alpha=0.20)\n",
    "ax[2,2].hist(em_y_core, bins=bins_tmp, orientation=\"horizontal\", color=plt.cm.GnBu(1.0), alpha=0.20)\n",
    "ax[1,1].hist(em_x_halo, bins=bins_tmp, color=plt.cm.OrRd(1.0), alpha=0.20)\n",
    "ax[2,2].hist(em_y_halo, bins=bins_tmp, orientation=\"horizontal\", color=plt.cm.OrRd(1.0), alpha=0.20)\n",
    "\n",
    "ax[1,1].set_ylim(bottom=0.0)\n",
    "ax[2,2].set_xlim(left=0.0)\n",
    "\n",
    "ax[1,2].set_visible(false)\n",
    "\n",
    "ax[1,1].set_xticks([])\n",
    "ax[2,2].set_yticks([])\n",
    "\n",
    "ax[2,1].set_xlim(0.62, 3.55)\n",
    "ax[1,1].set_xlim(0.62, 3.55)\n",
    "ax[2,1].set_ylim(0.62, 3.55)\n",
    "ax[2,2].set_ylim(0.62, 3.55)\n",
    "\n",
    "ax[2,1].set_xlabel(L\"\\epsilon_x \\; (\\mathrm{mm \\cdot mrad})\")\n",
    "ax[2,2].set_xlabel(L\"\\mathrm{\\# Events}\")\n",
    "ax[2,1].set_ylabel(L\"\\epsilon_y \\; (\\mathrm{mm \\cdot mrad})\")\n",
    "ax[1,1].set_ylabel(L\"\\mathrm{\\# Events}\")"
   ]
  },
  {
   "cell_type": "code",
   "execution_count": null,
   "metadata": {},
   "outputs": [],
   "source": []
  },
  {
   "cell_type": "code",
   "execution_count": null,
   "metadata": {},
   "outputs": [],
   "source": []
  },
  {
   "cell_type": "markdown",
   "metadata": {},
   "source": [
    "## Alignment: "
   ]
  },
  {
   "cell_type": "code",
   "execution_count": null,
   "metadata": {},
   "outputs": [],
   "source": [
    "μx = data.μx_align\n",
    "μy = data.μy_align;"
   ]
  },
  {
   "cell_type": "code",
   "execution_count": null,
   "metadata": {},
   "outputs": [],
   "source": [
    "fig, ax= plt.subplots(2,2, figsize=(6,6),)\n",
    "fig.subplots_adjust(hspace=0.07, wspace=0.07)\n",
    "\n",
    "label = \"Mean + Std\"\n",
    "\n",
    "ax[1,1].scatter([μ[1] for μ in μx], [μ[1] for μ in μy], c=plt.cm.OrRd(runind_n), marker=\"o\", s = 20, edgecolors=\"k\", linewidths=0.5, label=label)\n",
    "ax[1,2].scatter([μ[2] for μ in μx], [μ[2] for μ in μy], c=plt.cm.OrRd(runind_n), marker=\"o\", s = 20, edgecolors=\"k\", linewidths=0.5, )\n",
    "ax[2,1].scatter([μ[3] for μ in μx], [μ[3] for μ in μy], c=plt.cm.OrRd(runind_n), marker=\"o\", s = 20, edgecolors=\"k\", linewidths=0.5, )\n",
    "ax[2,2].scatter([μ[4] for μ in μx], [μ[4] for μ in μy], c=plt.cm.OrRd(runind_n), marker=\"o\", s = 20, edgecolors=\"k\", linewidths=0.5, )\n",
    "\n",
    "cb = ax[3].scatter(charges_n, charges_n, s=0.0, c=data.ev_index, cmap=\"OrRd\")\n",
    "ax_ins_3 = fig.add_axes([0.79,0.77,0.01,0.1])\n",
    "fig.colorbar(cb, spacing=\"proportional\", label=\"Event #\", cax=ax_ins_3)\n",
    "\n",
    "ax[1,1].xaxis.tick_top()\n",
    "ax[1,1].xaxis.set_ticks_position(\"top\")\n",
    "\n",
    "ax[1,2].xaxis.tick_top()\n",
    "ax[1,2].xaxis.set_ticks_position(\"top\")\n",
    "ax[1,2].yaxis.tick_right()\n",
    "ax[1,2].yaxis.set_ticks_position(\"right\")\n",
    "\n",
    "ax[2,2].yaxis.tick_right()\n",
    "ax[2,2].yaxis.set_ticks_position(\"right\")\n",
    "\n",
    "ax[1,1].text(0.04,0.91,\"Cam. #1\", transform=ax[1,1].transAxes)\n",
    "ax[1,2].text(0.04,0.91,\"Cam. #2\", transform=ax[1,2].transAxes)\n",
    "ax[2,1].text(0.04,0.91,\"Cam. #3\", transform=ax[2,1].transAxes)\n",
    "ax[2,2].text(0.04,0.91,\"Cam. #4\", transform=ax[2,2].transAxes)\n",
    "\n",
    "ax[1,1].set_xlim(-5,310)\n",
    "ax[1,1].set_ylim(-5,310)\n",
    "\n",
    "ax[1,2].set_xlim(-5,310)\n",
    "ax[1,2].set_ylim(-5,310)\n",
    "\n",
    "ax[2,1].set_xlim(-5,310)\n",
    "ax[2,1].set_ylim(-5,310)\n",
    "\n",
    "ax[2,2].set_xlim(-5,310)\n",
    "ax[2,2].set_ylim(-5,310)\n",
    "# ax[2,2].set_ylim(34.2,37)\n",
    "\n",
    "ax[2,2].set_xlabel(L\"\\mu_x \\; \\mathrm{(\\mu m)}\")\n",
    "ax[2,1].set_xlabel(L\"\\mu_x \\; \\mathrm{(\\mu m)}\")\n",
    "\n",
    "ax[1,1].set_ylabel(L\"\\mu_y \\; \\mathrm{(\\mu m)}\")\n",
    "ax[2,1].set_ylabel(L\"\\mu_y \\; \\mathrm{(\\mu m)}\")"
   ]
  },
  {
   "cell_type": "code",
   "execution_count": null,
   "metadata": {},
   "outputs": [],
   "source": []
  },
  {
   "cell_type": "code",
   "execution_count": null,
   "metadata": {},
   "outputs": [],
   "source": [
    "fig, (ax, ax2) = plt.subplots(1,2, figsize=(10,5),)\n",
    "\n",
    "ax.errorbar(data.ev_charge[data.mode .== \"SP\"], data.μmixt_pow[data.mode .== \"SP\"], yerr=data.σmixt_pow[data.mode .== \"SP\"],  color=\"k\", alpha=0.9,\n",
    "        fmt=\"o\", markersize=4, \n",
    "        markeredgecolor = \"k\", markeredgewidth=0.4,\n",
    "        capsize=1.5, ecolor=\"k\", elinewidth=0.4) \n",
    "\n",
    "ax2.errorbar(data.ev_charge[data.mode .== \"LP\"], data.μmixt_pow[data.mode .== \"LP\"], yerr=data.σmixt_pow[data.mode .== \"LP\"],  color=\"k\", alpha=0.9,\n",
    "        fmt=\"o\", markersize=4, \n",
    "        markeredgecolor = \"k\", markeredgewidth=0.4,\n",
    "        capsize=1.5, ecolor=\"k\", elinewidth=0.4) \n",
    "\n",
    "ax.set_xlabel(\"Bunch Population\")\n",
    "ax.set_ylabel(L\"\\alpha\")\n",
    "ax2.set_xlabel(\"Bunch Population\")"
   ]
  },
  {
   "cell_type": "markdown",
   "metadata": {},
   "source": [
    "## Covariance: "
   ]
  },
  {
   "cell_type": "code",
   "execution_count": null,
   "metadata": {},
   "outputs": [],
   "source": [
    "ind = [1,2,4,5,6,7,8,9,10,11,12,13,14,15, 16,17,18]\n",
    "mat_data = hcat([data[i] for i in ind]...)'\n",
    "mat_data = mat_data ./ std(mat_data, dims=2)\n",
    "cv = mat_data .- mean(mat_data, dims=2)\n",
    "cv = cov(cv');"
   ]
  },
  {
   "cell_type": "code",
   "execution_count": null,
   "metadata": {},
   "outputs": [],
   "source": [
    "fig, (ax, ax2) = plt.subplots(1,2, figsize=(7,7), gridspec_kw=Dict(\"width_ratios\"=>[15,1]))\n",
    "\n",
    "max = maximum(abs.(cv))\n",
    "\n",
    "cb = ax.imshow(cv,  origin=\"upper\", cmap=\"Blues\", aspect=\"equal\") \n",
    "fig.colorbar(cb, spacing=\"proportional\", label=\"Log Covariance\", cax=ax2)\n",
    "\n",
    "# ax.set_yticks(0:26)\n",
    "# ax.set_yticklabels(labels)\n",
    "\n",
    "# ax.set_xticks(0:26)\n",
    "# ax.set_xticklabels(labels, rotation = 90);"
   ]
  },
  {
   "cell_type": "code",
   "execution_count": null,
   "metadata": {},
   "outputs": [],
   "source": []
  },
  {
   "cell_type": "code",
   "execution_count": null,
   "metadata": {},
   "outputs": [],
   "source": []
  },
  {
   "cell_type": "code",
   "execution_count": null,
   "metadata": {},
   "outputs": [],
   "source": []
  }
 ],
 "metadata": {
  "kernelspec": {
   "display_name": "Julia 1.5.3",
   "language": "julia",
   "name": "julia-1.5"
  },
  "language_info": {
   "file_extension": ".jl",
   "mimetype": "application/julia",
   "name": "julia",
   "version": "1.5.3"
  }
 },
 "nbformat": 4,
 "nbformat_minor": 4
}
