{
 "cells": [
  {
   "cell_type": "code",
   "execution_count": 1,
   "metadata": {},
   "outputs": [
    {
     "data": {
      "text/html": [
       "<script>\n",
       "// Immediately-invoked-function-expression to avoid global variables.\n",
       "(function() {\n",
       "    var warning_div = document.getElementById(\"webio-warning-2183513603959340494\");\n",
       "    var hide = function () {\n",
       "        var script = document.getElementById(\"webio-setup-16010038319717741918\");\n",
       "        var parent = script && script.parentElement;\n",
       "        var grandparent = parent && parent.parentElement;\n",
       "        if (grandparent) {\n",
       "            grandparent.style.display = \"none\";\n",
       "        }\n",
       "        warning_div.style.display = \"none\";\n",
       "    };\n",
       "    if (typeof Jupyter !== \"undefined\") {\n",
       "        console.log(\"WebIO detected Jupyter notebook environment.\");\n",
       "        // Jupyter notebook.\n",
       "        var extensions = (\n",
       "            Jupyter\n",
       "            && Jupyter.notebook.config.data\n",
       "            && Jupyter.notebook.config.data.load_extensions\n",
       "        );\n",
       "        if (extensions && extensions[\"webio-jupyter-notebook\"]) {\n",
       "            // Extension already loaded.\n",
       "            console.log(\"Jupyter WebIO nbextension detected; not loading ad-hoc.\");\n",
       "            hide();\n",
       "            return;\n",
       "        }\n",
       "    } else if (window.location.pathname.includes(\"/lab\")) {\n",
       "        // Guessing JupyterLa\n",
       "        console.log(\"Jupyter Lab detected; make sure the @webio/jupyter-lab-provider labextension is installed.\");\n",
       "        hide();\n",
       "        return;\n",
       "    }\n",
       "})();\n",
       "\n",
       "</script>\n",
       "<p\n",
       "    id=\"webio-warning-2183513603959340494\"\n",
       "    class=\"output_text output_stderr\"\n",
       "    style=\"padding: 1em; font-weight: bold;\"\n",
       ">\n",
       "    Unable to load WebIO. Please make sure WebIO works for your Jupyter client.\n",
       "    For troubleshooting, please see <a href=\"https://juliagizmos.github.io/WebIO.jl/latest/providers/ijulia/\">\n",
       "    the WebIO/IJulia documentation</a>.\n",
       "    <!-- TODO: link to installation docs. -->\n",
       "</p>\n"
      ],
      "text/plain": [
       "HTML{String}(\"<script>\\n// Immediately-invoked-function-expression to avoid global variables.\\n(function() {\\n    var warning_div = document.getElementById(\\\"webio-warning-2183513603959340494\\\");\\n    var hide = function () {\\n        var script = document.getElementById(\\\"webio-setup-16010038319717741918\\\");\\n        var parent = script && script.parentElement;\\n        var grandparent = parent && parent.parentElement;\\n        if (grandparent) {\\n            grandparent.style.display = \\\"none\\\";\\n        }\\n        warning_div.style.display = \\\"none\\\";\\n    };\\n    if (typeof Jupyter !== \\\"undefined\\\") {\\n        console.log(\\\"WebIO detected Jupyter notebook environment.\\\");\\n        // Jupyter notebook.\\n        var extensions = (\\n            Jupyter\\n            && Jupyter.notebook.config.data\\n            && Jupyter.notebook.config.data.load_extensions\\n        );\\n        if (extensions && extensions[\\\"webio-jupyter-notebook\\\"]) {\\n            // Extension already loaded.\\n            console.log(\\\"Jupyter WebIO nbextension detected; not loading ad-hoc.\\\");\\n            hide();\\n            return;\\n        }\\n    } else if (window.location.pathname.includes(\\\"/lab\\\")) {\\n        // Guessing JupyterLa\\n        console.log(\\\"Jupyter Lab detected; make sure the @webio/jupyter-lab-provider labextension is installed.\\\");\\n        hide();\\n        return;\\n    }\\n})();\\n\\n</script>\\n<p\\n    id=\\\"webio-warning-2183513603959340494\\\"\\n    class=\\\"output_text output_stderr\\\"\\n    style=\\\"padding: 1em; font-weight: bold;\\\"\\n>\\n    Unable to load WebIO. Please make sure WebIO works for your Jupyter client.\\n    For troubleshooting, please see <a href=\\\"https://juliagizmos.github.io/WebIO.jl/latest/providers/ijulia/\\\">\\n    the WebIO/IJulia documentation</a>.\\n    <!-- TODO: link to installation docs. -->\\n</p>\\n\")"
      ]
     },
     "metadata": {},
     "output_type": "display_data"
    }
   ],
   "source": [
    "using PlotlyJS, DataFrames, RDatasets, Colors, Distributions, LinearAlgebra"
   ]
  },
  {
   "cell_type": "code",
   "execution_count": 39,
   "metadata": {},
   "outputs": [],
   "source": [
    "using LaTeXStrings"
   ]
  },
  {
   "cell_type": "code",
   "execution_count": 2,
   "metadata": {},
   "outputs": [],
   "source": [
    "using JLD2"
   ]
  },
  {
   "cell_type": "code",
   "execution_count": 5,
   "metadata": {},
   "outputs": [
    {
     "data": {
      "text/plain": [
       "1-element Array{Symbol,1}:\n",
       " :merg_data"
      ]
     },
     "execution_count": 5,
     "metadata": {},
     "output_type": "execute_result"
    }
   ],
   "source": [
    "@load \"../../data/sampling_results/Benchmark-5/alignment/alignment-data.jld\" merg_data"
   ]
  },
  {
   "cell_type": "code",
   "execution_count": 7,
   "metadata": {},
   "outputs": [],
   "source": [
    "merg_data;"
   ]
  },
  {
   "cell_type": "code",
   "execution_count": 102,
   "metadata": {},
   "outputs": [
    {
     "data": {
      "text/plain": [
       "plot_trajectories (generic function with 1 method)"
      ]
     },
     "execution_count": 102,
     "metadata": {},
     "output_type": "execute_result"
    }
   ],
   "source": [
    "function plot_trajectories(data)\n",
    "    \n",
    "    smax = 24\n",
    "    theta = range(0, stop = 2*pi, length=2)\n",
    "    z = range(0, stop = smax, length = 15)\n",
    "    \n",
    "    plots_array = GenericTrace[]\n",
    "    \n",
    "    n_events = length(data[1])\n",
    "    trace = 0.0\n",
    "    \n",
    "    colors = [\"hsl($i, 50%, 50%)\" for i in range(0, stop=360, length=n_events)][sortperm(data.q)]\n",
    "    \n",
    "    for i in 1:n_events\n",
    "        \n",
    "        x_expected = cos(data.α[i])*tan(data.θ[i])*smax*10^3\n",
    "        y_expected = sin(data.α[i])*tan(data.θ[i])*smax*10^3\n",
    "        \n",
    "        x = [data.x[i], data.x[i] + x_expected]*1000\n",
    "        y = [data.y[i], data.y[i] + y_expected]*1000\n",
    "        z = [0.0, smax]\n",
    "        \n",
    "        trace = scatter3d(;x=z,y=x, z=y, mode=\"lines\", line=attr(color=colors[i], width=5), showlegend=false , opacity=0.9, )\n",
    "        push!(plots_array, trace)\n",
    "    end\n",
    "    \n",
    "    trace11 = surface(x=[0 0; 0 0], y=[-500 500; -500 500], z=[-500 -500; 500 500], opacity=0.2, surfacecolor=[0 0; 0 0], colorscale=\"Grays\", showscale = false)\n",
    "    push!(plots_array, trace11)\n",
    "    \n",
    "    trace11 = surface(x=[1.478 1.478; 1.478 1.478], y=[-500 500; -500 500], z=[-500 -500; 500 500], opacity=0.2, surfacecolor=[0 0; 0 0], colorscale=\"Grays\", showscale = false)\n",
    "    push!(plots_array, trace11)\n",
    "    \n",
    "    trace11 = surface(x=[15.026 15.026; 15.026 15.026], y=[-500 500; -500 500], z=[-500 -500; 500 500], opacity=0.2, surfacecolor=[0 0; 0 0], colorscale=\"Grays\", showscale = false)\n",
    "    push!(plots_array, trace11)\n",
    "    \n",
    "    trace11 = surface(x=[23.1150 23.1150; 23.1150 23.1150], y=[-500 500; -500 500], z=[-500 -500; 500 500], opacity=0.2, surfacecolor=[0 0; 0 0], colorscale=\"Grays\", showscale = false)\n",
    "    push!(plots_array, trace11)\n",
    "    \n",
    "    trace3 = scatter3d(;x=[0, smax],y=[0, 0], z=[0, 0], mode=\"lines\", line_dash=\"dot\",  showscale = false, line=attr(color=\"gray\", width=10) , showlegend=false ,)\n",
    "    push!(plots_array, trace3)\n",
    "    \n",
    "    layout = Layout(\n",
    "        autosize=false, width=1500, height=800,\n",
    "        margin=attr(l=0, r=0, b=0, t=65),\n",
    "        scene=attr(xaxis=attr(gridcolor=\"rgb(255, 255, 255)\",\n",
    "                                          zerolinecolor=\"rgb(255, 255, 255)\",\n",
    "                                          showbackground=false,\n",
    "                                          backgroundcolor=\"rgb(230, 230,230)\"),\n",
    "                               yaxis=attr(gridcolor=\"rgb(255, 255, 255)\",\n",
    "                                           zerolinecolor=\"rgb(255, 255, 255)\",\n",
    "                                           showbackground=false, \n",
    "                                           backgroundcolor=\"rgb(230, 230,230)\"),\n",
    "                               zaxis=attr(gridcolor=\"rgb(255, 255, 255)\",\n",
    "                                           zerolinecolor=\"rgb(255, 255, 255)\",\n",
    "                                           showbackground=false,\n",
    "                                           backgroundcolor=\"rgb(230, 230,230)\"),\n",
    "                               aspectratio=attr(x=3, y=1, z=1),\n",
    "                               xaxis_title=\"Position\",\n",
    "                               yaxis_title=\"x (μm)\",\n",
    "                               zaxis_title=\"y (μm)\",\n",
    "                               aspectmode = \"manual\")\n",
    "    )\n",
    "    \n",
    "    \n",
    "    \n",
    "    \n",
    "    plot(plots_array, layout)\n",
    "    \n",
    "end\n",
    "\n",
    "# plot_trajectories(merg_data)"
   ]
  },
  {
   "cell_type": "code",
   "execution_count": null,
   "metadata": {},
   "outputs": [],
   "source": []
  },
  {
   "cell_type": "code",
   "execution_count": null,
   "metadata": {},
   "outputs": [],
   "source": []
  },
  {
   "cell_type": "code",
   "execution_count": null,
   "metadata": {},
   "outputs": [],
   "source": []
  },
  {
   "cell_type": "code",
   "execution_count": 101,
   "metadata": {},
   "outputs": [
    {
     "data": {
      "text/plain": [
       "plot_trajectories (generic function with 1 method)"
      ]
     },
     "execution_count": 101,
     "metadata": {},
     "output_type": "execute_result"
    }
   ],
   "source": [
    "function plot_trajectories(data)\n",
    "    \n",
    "    smax = 24\n",
    "    \n",
    "    theta = range(0, stop = 2*pi, length=15)\n",
    "    z = range(0, stop = smax, length = 15)\n",
    "    \n",
    "#     theta_grid = theta * ones(length(z))'\n",
    "    theta_grid = ones(length(z)) * theta'\n",
    "    z_grid = z * ones(length(theta))'\n",
    "    \n",
    "    plots_array = GenericTrace[]\n",
    "    \n",
    "    n_events = length(data[1])\n",
    "    trace = 0.0\n",
    "    \n",
    "    colors = [\"hsl($i, 50%, 50%)\" for i in range(0, stop=360, length=n_events)][sortperm(data.q)]\n",
    "    \n",
    "    for i in 1:1\n",
    "        \n",
    "        x_expected = cos(data.α[i]).*tan(data.θ[i]).*z_grid.*10^3\n",
    "        y_expected = sin(data.α[i]).*tan(data.θ[i]).*z_grid.*10^3\n",
    "        \n",
    "        x_grid = 1000 .* x_expected .+ 1000 .* sqrt.(merg_data.tr_1_x[i]^2 .+ 10^-4 .* merg_data.as_1_x[i].^2 .* (merg_data.w_1[i] .- z_grid).^2) .* cos.(theta_grid)\n",
    "        y_grid = 1000 .* y_expected .+ 1000 .* sqrt.(merg_data.tr_1_y[i]^2 .+ 10^-4 .* merg_data.as_1_y[i].^2 .* (merg_data.w_1[i] .- z_grid).^2) .* sin.(theta_grid)\n",
    "        \n",
    "        x_grid_2 = 1000 .* x_expected .+ 1000 .* sqrt.(merg_data.tr_2_x[i]^2 .+ 10^-4 .* merg_data.as_2_x[i].^2 .* (merg_data.w_2[i] .- z_grid).^2) .* cos.(theta_grid)\n",
    "        y_grid_2 = 1000 .* y_expected .+ 1000 .* sqrt.(merg_data.tr_2_y[i]^2 .+ 10^-4 .* merg_data.as_2_y[i].^2 .* (merg_data.w_2[i] .- z_grid).^2) .* sin.(theta_grid)\n",
    "        \n",
    "        \n",
    "        surfacecolor = sqrt.(x_grid .^2 + y_grid .^ 2)\n",
    "        surfacecolor_2 = sqrt.(x_grid_2 .^2 + y_grid_2 .^ 2)\n",
    "        \n",
    "        trace1 = surface(x=z_grid, y=y_grid, z=x_grid, opacity=0.5, colorscale=\"Blues\", surfacecolor=surfacecolor, showscale = false)\n",
    "        trace2 = surface(x=z_grid, y=y_grid_2, z=x_grid_2, opacity=0.5, colorscale=\"Reds\", surfacecolor=surfacecolor_2, showscale = false)\n",
    "\n",
    "        push!(plots_array, trace1)\n",
    "        push!(plots_array, trace2)\n",
    "    end\n",
    "    \n",
    "    trace11 = surface(x=[0 0; 0 0], y=[-500 500; -500 500], z=[-500 -500; 500 500], opacity=0.3, surfacecolor=[0 0; 0 0], colorscale=\"Grays\", showscale = false)\n",
    "    push!(plots_array, trace11)\n",
    "    \n",
    "    trace11 = surface(x=[1.478 1.478; 1.478 1.478], y=[-500 500; -500 500], z=[-500 -500; 500 500], opacity=0.3, surfacecolor=[0 0; 0 0], colorscale=\"Grays\", showscale = false)\n",
    "    push!(plots_array, trace11)\n",
    "    \n",
    "    trace11 = surface(x=[15.026 15.026; 15.026 15.026], y=[-2500 2500; -2500 2500], z=[-2500 -2500; 2500 2500], opacity=0.3, surfacecolor=[0 0; 0 0], colorscale=\"Grays\", showscale = false)\n",
    "    push!(plots_array, trace11)\n",
    "    \n",
    "    trace11 = surface(x=[23.1150 23.1150; 23.1150 23.1150],  y=[-2500 2500; -2500 2500], z=[-2500 -2500; 2500 2500], opacity=0.3, surfacecolor=[0 0; 0 0], colorscale=\"Grays\", showscale = false)\n",
    "    push!(plots_array, trace11)\n",
    "    \n",
    "    trace3 = scatter3d(;x=[0, smax],y=[0, 0], z=[0, 0], mode=\"lines\", line=attr(color=\"gray\", width=5) ) # line_dash=\"dot\", \n",
    "    push!(plots_array, trace3)\n",
    "    \n",
    "    layout = Layout(\n",
    "        autosize=true, width=1500, height=800,\n",
    "        margin=attr(l=0, r=0, b=0, t=65),\n",
    "        scene=attr(xaxis=attr(gridcolor=\"rgb(255, 255, 255)\",\n",
    "                                          zerolinecolor=\"rgb(255, 255, 255)\",\n",
    "                                          showbackground=false,\n",
    "                                          backgroundcolor=\"rgb(230, 230,230)\"),\n",
    "                               yaxis=attr(gridcolor=\"rgb(255, 255, 255)\",\n",
    "                                           zerolinecolor=\"rgb(255, 255, 255)\",\n",
    "                                           showbackground=false, \n",
    "                                           backgroundcolor=\"rgb(230, 230,230)\"),\n",
    "                               zaxis=attr(gridcolor=\"rgb(255, 255, 255)\",\n",
    "                                           zerolinecolor=\"rgb(255, 255, 255)\",\n",
    "                                           showbackground=false,\n",
    "                                           backgroundcolor=\"rgb(230, 230,230)\"),\n",
    "                               aspectratio=attr(x=3, y=1, z=1),\n",
    "                               xaxis_title=\"Position\",\n",
    "                               yaxis_title=\"x (μm)\",\n",
    "                               zaxis_title=\"y (μm)\",\n",
    "                               aspectmode = \"manual\")\n",
    "    )\n",
    "    \n",
    "    \n",
    "    \n",
    "    \n",
    "    plot(plots_array, layout)\n",
    "    \n",
    "end\n",
    "\n",
    "# plot_trajectories(merg_data)"
   ]
  },
  {
   "cell_type": "code",
   "execution_count": null,
   "metadata": {},
   "outputs": [],
   "source": []
  },
  {
   "cell_type": "code",
   "execution_count": null,
   "metadata": {},
   "outputs": [],
   "source": []
  }
 ],
 "metadata": {
  "kernelspec": {
   "display_name": "Julia 1.5.0",
   "language": "julia",
   "name": "julia-1.5"
  },
  "language_info": {
   "file_extension": ".jl",
   "mimetype": "application/julia",
   "name": "julia",
   "version": "1.5.0"
  }
 },
 "nbformat": 4,
 "nbformat_minor": 4
}
