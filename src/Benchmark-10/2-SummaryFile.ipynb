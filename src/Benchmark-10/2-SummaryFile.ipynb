{
 "cells": [
  {
   "cell_type": "code",
   "execution_count": 1,
   "metadata": {},
   "outputs": [],
   "source": [
    "using JLD2\n",
    "using FileIO\n",
    "using PyPlot\n",
    "using Statistics\n",
    "using StatsBase \n",
    "using Distributions\n",
    "using LinearAlgebra\n",
    "using HDF5\n",
    "using IntervalSets\n",
    "using Random, ArraysOfArrays\n",
    "using ValueShapes\n",
    "using Measurements\n",
    "using BAT\n",
    "using DSP\n",
    "using ForwardDiff"
   ]
  },
  {
   "cell_type": "code",
   "execution_count": 2,
   "metadata": {},
   "outputs": [
    {
     "data": {
      "text/plain": [
       "get_emmitance (generic function with 1 method)"
      ]
     },
     "execution_count": 2,
     "metadata": {},
     "output_type": "execute_result"
    }
   ],
   "source": [
    "FPATH = \"../../data/sampling_results/Benchmark-10/\"\n",
    "\n",
    "function marg_mean_shaped(name)\n",
    "    smpl_tmp = bat_read(FPATH*name)\n",
    "    smpl_tmp = varshape(prior).(smpl_tmp)\n",
    "    smpl_tmp = mean(smpl_tmp)\n",
    "    return smpl_tmp\n",
    "end\n",
    "\n",
    "function marg_std_shaped(name)\n",
    "    smpl_tmp = bat_read(FPATH*name)\n",
    "    smpl_tmp = varshape(prior).(smpl_tmp)\n",
    "    smpl_tmp = std(smpl_tmp)\n",
    "    return smpl_tmp\n",
    "end\n",
    "\n",
    "function get_emmitance(name, proj)\n",
    "    # proj  1 / 2 \n",
    "    smpl_tmp = bat_read(FPATH*name)\n",
    "    smpl_tmp = varshape(prior).(smpl_tmp)\n",
    "    smpl_tmp, smpl_w = flatview(unshaped.(smpl_tmp.v)), smpl_tmp.weight\n",
    "    emm = smpl_tmp[proj,:].*smpl_tmp[2+proj,:].*10^-5 .* 1000 .* 426.0\n",
    "    μ = mean(emm, FrequencyWeights(smpl_w))\n",
    "    σ = std(emm, FrequencyWeights(smpl_w)) \n",
    "    return (mean = μ, std = σ)\n",
    "end"
   ]
  },
  {
   "cell_type": "code",
   "execution_count": 3,
   "metadata": {},
   "outputs": [],
   "source": [
    "β1 = 0.015\n",
    "β2 = 0.0077\n",
    "β3 = 0.0058\n",
    "\n",
    "# flat prior for the pixel size\n",
    "prior = NamedTupleDist(\n",
    "        tr_size = [truncated(Normal(0.2, 0.04), 0.03, 0.20), truncated(Normal(0.2, 0.04), 0.03, 0.20)],\n",
    "        ang_spr = [truncated(Normal(4.0, 2.0), 2.0, 7.0), truncated(Normal(4.0, 2.0), 2.0, 7.0)],\n",
    "        waist = [Normal(2.9, 0.03)],\n",
    "        algmx = [23.0 .. 48, 23.0 .. 48.0, 10.0 .. 30.0, 23.0 .. 48.0],\n",
    "        algmy = [23.0 .. 48, 23.0 .. 48.0, 10.0 .. 30.0, 23.0 .. 48.0],\n",
    "        cam4_ped = 4.0 .. 40.0,\n",
    "        cam4_light_fluct = 1.0 .. 3.0,\n",
    "        cam4_light_amp = 1.6 .. 9.9, \n",
    "        resx = [1.0, 1.0, 1.0], \n",
    "        resy = [1.0, 1.0, 1.0], \n",
    "        cam4_resx = truncated(Normal(3, 1.5), 0, Inf),\n",
    "        cam4_resy = truncated(Normal(3, 1.5), 0, Inf),\n",
    "        psx = [27.1, 21.6, 114.0], # 31, 32, 33\n",
    "        psy = [30.5, 23.4, 125.0], # 34, 35, 36\n",
    "        cam4_psx = 121.8, # 37\n",
    "        cam4_psy = 120.0, # 38\n",
    "        light_amp  = [1.0 .. 13.0 , 1.0 .. 17.0, 1.0 .. 5.0], # 1.0 .. 5.0\n",
    "        s_cam = [0.0, 1.478, 15.026, 23.1150],\n",
    "    );\n"
   ]
  },
  {
   "cell_type": "code",
   "execution_count": 4,
   "metadata": {},
   "outputs": [],
   "source": [
    "smpl_tmp = bat_read(FPATH*\"hc-124.hdf5\")\n",
    "smpl_tmp = varshape(prior).(smpl_tmp);"
   ]
  },
  {
   "cell_type": "code",
   "execution_count": 5,
   "metadata": {},
   "outputs": [],
   "source": [
    "filenames = readdir(\"../../data/sampling_results/Benchmark-10/\")\n",
    "images = load(\"../../data/experiment/dataset_2/m2/images-satur.jld2\")\n",
    "hc_mask = [i[1:3] == \"hc-\" for i in filenames]\n",
    "hc_fnames = filenames[hc_mask]\n",
    "hc_eind = parse.(Int64, [i[4:end-5] for i in hc_fnames])\n",
    "hc_charge = images[\"charge\"][hc_eind]\n",
    "hc_runind = images[\"ev_ind\"][hc_eind];"
   ]
  },
  {
   "cell_type": "code",
   "execution_count": 6,
   "metadata": {},
   "outputs": [],
   "source": [
    "filenames = readdir(\"../../data/sampling_results/Benchmark-10/\")\n",
    "images = load(\"../../data/experiment/dataset_2/m1/images-satur.jld2\")\n",
    "lc_mask = [i[1:3] == \"lc-\" for i in filenames]\n",
    "lc_fnames = filenames[lc_mask]\n",
    "lc_eind = parse.(Int64, [i[4:end-5] for i in lc_fnames])\n",
    "lc_charge = images[\"charge\"][lc_eind]\n",
    "lc_runind = images[\"ev_ind\"][lc_eind];"
   ]
  },
  {
   "cell_type": "code",
   "execution_count": 7,
   "metadata": {},
   "outputs": [],
   "source": [
    "fnames = [lc_fnames; hc_fnames]\n",
    "charges = Float64[lc_charge; hc_charge]\n",
    "runind = Int64[lc_runind ; hc_runind]\n",
    "charges_n = charges ./ maximum(charges)\n",
    "runind_n = runind ./ maximum(runind);"
   ]
  },
  {
   "cell_type": "code",
   "execution_count": 8,
   "metadata": {},
   "outputs": [],
   "source": [
    "mean_params =  [marg_mean_shaped(i) for i in fnames];\n",
    "std_params =  [marg_std_shaped(i) for i in fnames];"
   ]
  },
  {
   "cell_type": "code",
   "execution_count": 10,
   "metadata": {},
   "outputs": [
    {
     "data": {
      "text/plain": [
       "241"
      ]
     },
     "execution_count": 10,
     "metadata": {},
     "output_type": "execute_result"
    }
   ],
   "source": [
    "length(fnames)"
   ]
  },
  {
   "cell_type": "markdown",
   "metadata": {},
   "source": [
    "### Alignment: "
   ]
  },
  {
   "cell_type": "code",
   "execution_count": 11,
   "metadata": {},
   "outputs": [],
   "source": [
    "# fnames[sortperm(Float64[i.tr_size[1] for i in std_params], rev=true)]"
   ]
  },
  {
   "cell_type": "code",
   "execution_count": 12,
   "metadata": {},
   "outputs": [],
   "source": [
    "zc_x = [minimum([i.algmx[j] for i in mean_params]) for j in 1:4]; # find min position at each camera \n",
    "zc_y = [minimum([i.algmy[j] for i in mean_params]) for j in 1:4]; # find min position at each camera "
   ]
  },
  {
   "cell_type": "code",
   "execution_count": 13,
   "metadata": {},
   "outputs": [],
   "source": [
    "x_event = Array{Float64,1}[]\n",
    "y_event = Array{Float64,1}[]\n",
    "x_event_std = Array{Float64,1}[]\n",
    "y_event_std = Array{Float64,1}[]\n",
    "\n",
    "for i in eachindex(mean_params) \n",
    "    push!(x_event, (mean_params[i].algmx .- zc_x) .* [mean_params[i].psx ; mean_params[i].cam4_psx] .+ 1.0 )\n",
    "    push!(y_event, (mean_params[i].algmy .- zc_y) .* [mean_params[i].psy ; mean_params[i].cam4_psy] .+ 1.0 )\n",
    "    \n",
    "    push!(x_event_std, std_params[i].algmx .* [mean_params[i].psx ; mean_params[i].cam4_psx])\n",
    "    push!(y_event_std, std_params[i].algmy .* [mean_params[i].psy ; mean_params[i].cam4_psy])\n",
    "     \n",
    "end"
   ]
  },
  {
   "cell_type": "markdown",
   "metadata": {},
   "source": [
    "### Emittance: "
   ]
  },
  {
   "cell_type": "code",
   "execution_count": 14,
   "metadata": {},
   "outputs": [],
   "source": [
    "emm_tmp_1 = [get_emmitance(i, 1) for i in fnames]\n",
    "emm_tmp_2 = [get_emmitance(i, 2) for i in fnames];"
   ]
  },
  {
   "cell_type": "markdown",
   "metadata": {},
   "source": [
    "### Summary File: "
   ]
  },
  {
   "cell_type": "code",
   "execution_count": 15,
   "metadata": {},
   "outputs": [],
   "source": [
    "summary_data = (\n",
    "    \n",
    "    ev_index = runind,\n",
    "    ev_charge = charges,\n",
    "    mode = [i > 15 ? \"LP\" : \"SP\" for i in charges],\n",
    "    \n",
    "    μx_trsz = Float64[i.tr_size[1] for i in mean_params],\n",
    "    μy_trsz = Float64[i.tr_size[2] for i in mean_params],\n",
    "    \n",
    "    μx_angspr = Float64[i.ang_spr[1] for i in mean_params],\n",
    "    μy_angspr = Float64[i.ang_spr[2] for i in mean_params],\n",
    "    \n",
    "    μ_waist = Float64[i.waist[1] for i in mean_params],\n",
    "\n",
    "    μx_emitt = Float64[i.mean for i in emm_tmp_1],\n",
    "    μy_emitt = Float64[i.mean for i in emm_tmp_2],\n",
    "    \n",
    "    μx_align = x_event,\n",
    "    μy_align = y_event,\n",
    "    \n",
    "    σx_trsz = Float64[i.tr_size[1] for i in std_params],\n",
    "    σy_trsz = Float64[i.tr_size[2] for i in std_params],\n",
    "    \n",
    "    σx_angspr = Float64[i.ang_spr[1] for i in std_params],\n",
    "    σy_angspr = Float64[i.ang_spr[2] for i in std_params],\n",
    "        \n",
    "    σ_waist = Float64[i.waist[1] for i in std_params],\n",
    "    \n",
    "    σx_emitt = Float64[i.std for i in emm_tmp_1],\n",
    "    σy_emitt = Float64[i.std for i in emm_tmp_2],\n",
    "    \n",
    "    σx_align = x_event_std,\n",
    "    σy_align = y_event_std,\n",
    ");\n",
    "\n"
   ]
  },
  {
   "cell_type": "markdown",
   "metadata": {},
   "source": [
    "# Mean event SP:"
   ]
  },
  {
   "cell_type": "code",
   "execution_count": 16,
   "metadata": {},
   "outputs": [],
   "source": [
    "mask_tmp = summary_data.mode .== \"SP\"\n",
    "\n",
    "mean_event_sp = (\n",
    "    ev_charge = [mean(summary_data.ev_charge[mask_tmp])],\n",
    "    \n",
    "    μx_trsz = [mean(summary_data.μx_trsz[mask_tmp])],\n",
    "    μy_trsz = [mean(summary_data.μy_trsz[mask_tmp])],\n",
    "    \n",
    "    μx_angspr = [mean(summary_data.μx_angspr[mask_tmp])],\n",
    "    μy_angspr = [mean(summary_data.μy_angspr[mask_tmp])],\n",
    "    \n",
    "    μ_waist = [mean(summary_data.μ_waist[mask_tmp])],\n",
    "\n",
    "    μx_emitt = [mean(summary_data.μx_emitt[mask_tmp])],\n",
    "    μy_emitt = [mean(summary_data.μy_emitt[mask_tmp])],\n",
    "    \n",
    "    μx_align = [mean(summary_data.μx_align[mask_tmp], )],\n",
    "    μy_align = [mean(summary_data.μy_align[mask_tmp], )],\n",
    "    \n",
    "    σx_trsz = [mean(summary_data.σx_trsz[mask_tmp])],\n",
    "    σy_trsz = [mean(summary_data.σy_trsz[mask_tmp])],\n",
    "    \n",
    "    σx_angspr = [mean(summary_data.σx_angspr[mask_tmp])],\n",
    "    σy_angspr = [mean(summary_data.σy_angspr[mask_tmp])],\n",
    "    \n",
    "    σ_waist = [mean(summary_data.σ_waist[mask_tmp])],\n",
    "    \n",
    "    σx_emitt = [mean(summary_data.σx_emitt[mask_tmp])],\n",
    "    σy_emitt = [mean(summary_data.σy_emitt[mask_tmp])],\n",
    "    \n",
    "    σx_align = [mean(summary_data.σx_align[mask_tmp])],\n",
    "    σy_align = [mean(summary_data.σy_align[mask_tmp])],\n",
    ");"
   ]
  },
  {
   "cell_type": "markdown",
   "metadata": {},
   "source": [
    "# Mean event LP:"
   ]
  },
  {
   "cell_type": "code",
   "execution_count": 17,
   "metadata": {},
   "outputs": [],
   "source": [
    "mask_tmp = summary_data.mode .== \"LP\"\n",
    "\n",
    "mean_event_lp = (\n",
    "    ev_charge = [mean(summary_data.ev_charge[mask_tmp])],\n",
    "    \n",
    "    μx_trsz = [mean(summary_data.μx_trsz[mask_tmp])],\n",
    "    μy_trsz = [mean(summary_data.μy_trsz[mask_tmp])],\n",
    "    \n",
    "    μx_angspr = [mean(summary_data.μx_angspr[mask_tmp])],\n",
    "    μy_angspr = [mean(summary_data.μy_angspr[mask_tmp])],\n",
    "    \n",
    "    μ_waist = [mean(summary_data.μ_waist[mask_tmp])],\n",
    "\n",
    "    μx_emitt = [mean(summary_data.μx_emitt[mask_tmp])],\n",
    "    μy_emitt = [mean(summary_data.μy_emitt[mask_tmp])],\n",
    "    \n",
    "    μx_align = [mean(summary_data.μx_align[mask_tmp], )],\n",
    "    μy_align = [mean(summary_data.μy_align[mask_tmp], )],\n",
    "    \n",
    "    σx_trsz = [mean(summary_data.σx_trsz[mask_tmp])],\n",
    "    σy_trsz = [mean(summary_data.σy_trsz[mask_tmp])],\n",
    "    \n",
    "    σx_angspr = [mean(summary_data.σx_angspr[mask_tmp])],\n",
    "    σy_angspr = [mean(summary_data.σy_angspr[mask_tmp])],\n",
    "    \n",
    "    σ_waist = [mean(summary_data.σ_waist[mask_tmp])],\n",
    "    \n",
    "    σx_emitt = [mean(summary_data.σx_emitt[mask_tmp])],\n",
    "    σy_emitt = [mean(summary_data.σy_emitt[mask_tmp])],\n",
    "    \n",
    "    σx_align = [mean(summary_data.σx_align[mask_tmp])],\n",
    "    σy_align = [mean(summary_data.σy_align[mask_tmp])],\n",
    ");"
   ]
  },
  {
   "cell_type": "markdown",
   "metadata": {},
   "source": [
    "## Save data: "
   ]
  },
  {
   "cell_type": "code",
   "execution_count": 18,
   "metadata": {},
   "outputs": [],
   "source": [
    "# Save data: \n",
    "\n",
    "data_save = (summary_data, mean_event_sp, mean_event_lp);\n",
    "\n",
    "# @save \"../../data/sampling_results/Benchmark-10/mcmc-summary-data.jld\" data_save"
   ]
  },
  {
   "cell_type": "code",
   "execution_count": 19,
   "metadata": {},
   "outputs": [],
   "source": [
    "# Load file to update angles:  \n",
    "\n",
    "# To do: How to average correctly measurements with uns. \n",
    "\n",
    "# @load \"../../src/Benchmark-5/mcmc-summary-data-tmp.jld\" data_save\n",
    "# (summary_data, mean_event_sp, mean_event_lp) = data_save ;"
   ]
  },
  {
   "cell_type": "code",
   "execution_count": 20,
   "metadata": {},
   "outputs": [
    {
     "data": {
      "image/png": "[encoded data removed]",
      "text/plain": [
       "Figure(PyObject <Figure size 1000x500 with 2 Axes>)"
      ]
     },
     "metadata": {},
     "output_type": "display_data"
    },
    {
     "data": {
      "text/plain": [
       "PyObject <matplotlib.legend.Legend object at 0x7f937533c760>"
      ]
     },
     "execution_count": 20,
     "metadata": {},
     "output_type": "execute_result"
    }
   ],
   "source": [
    "fig, ax= plt.subplots(1,2, figsize=(10,5))\n",
    "\n",
    "ax[1].scatter(summary_data.μx_trsz, summary_data.μy_trsz, color=\"lightblue\", label=\"Halo: All Ev.\")\n",
    "ax[2].scatter(summary_data.μx_emitt, summary_data.μy_emitt, color=\"lightblue\")\n",
    "\n",
    "\n",
    "ax[1].errorbar(\n",
    "    mean_event_sp.μx_trsz, \n",
    "    mean_event_sp.μy_trsz,\n",
    "    xerr=mean_event_sp.σx_trsz,\n",
    "    yerr=mean_event_sp.σy_trsz,\n",
    "    color=\"k\", \n",
    "    fmt=\"o\", markersize=4,  markeredgewidth=0.5,\n",
    "    mfc=\"red\", capsize=4, ecolor=\"k\", elinewidth=0.5)\n",
    "\n",
    "ax[1].errorbar(\n",
    "    mean_event_lp.μx_trsz, \n",
    "    mean_event_lp.μy_trsz,\n",
    "    xerr=mean_event_lp.σx_trsz,\n",
    "    yerr=mean_event_lp.σy_trsz,\n",
    "    color=\"k\", \n",
    "    fmt=\"o\", markersize=4,  markeredgewidth=0.5,\n",
    "    mfc=\"blue\", capsize=4, ecolor=\"k\", elinewidth=0.5)\n",
    "\n",
    "ax[2].errorbar(\n",
    "    mean_event_sp.μx_emitt, \n",
    "    mean_event_sp.μy_emitt,\n",
    "    xerr=mean_event_sp.σx_emitt,\n",
    "    yerr=mean_event_sp.σy_emitt,\n",
    "    color=\"k\", \n",
    "    fmt=\"o\", markersize=4,  markeredgewidth=0.5,\n",
    "    mfc=\"red\", capsize=4, ecolor=\"k\", elinewidth=0.5, label=\"Small Pop.:Mean Ev. \")\n",
    "\n",
    "ax[2].errorbar(\n",
    "    mean_event_lp.μx_emitt, \n",
    "    mean_event_lp.μy_emitt,\n",
    "    xerr=mean_event_lp.σx_emitt,\n",
    "    yerr=mean_event_lp.σy_emitt,\n",
    "    color=\"k\", \n",
    "    fmt=\"o\", markersize=4,  markeredgewidth=0.5,\n",
    "    mfc=\"blue\", capsize=4, ecolor=\"k\", elinewidth=0.5, label=\"Small Pop.:Mean Ev. \")\n",
    "\n",
    "\n",
    "ax[1].set_title(\"Transversal Size\")\n",
    "ax[2].set_title(\"Emittance\")\n",
    "\n",
    "ax[1].set_xlabel(L\"\\sigma_x \\; (\\mathrm{mm})\")\n",
    "ax[1].set_ylabel(L\"\\sigma_y \\; (\\mathrm{mm})\")\n",
    "\n",
    "ax[2].set_xlabel(L\"\\epsilon_x \\; (\\mathrm{mm \\cdot mrad})\")\n",
    "ax[2].set_ylabel(L\"\\epsilon_y \\; (\\mathrm{mm \\cdot mrad})\")\n",
    "\n",
    "ax[1].legend()"
   ]
  },
  {
   "cell_type": "code",
   "execution_count": null,
   "metadata": {},
   "outputs": [],
   "source": []
  },
  {
   "cell_type": "code",
   "execution_count": null,
   "metadata": {},
   "outputs": [],
   "source": []
  },
  {
   "cell_type": "code",
   "execution_count": null,
   "metadata": {},
   "outputs": [],
   "source": []
  },
  {
   "cell_type": "code",
   "execution_count": 21,
   "metadata": {},
   "outputs": [],
   "source": [
    "# using DataFrames, CSV\n",
    "\n",
    "# df = DataFrame(summary_data)\n",
    "# df_sp = DataFrame(mean_event_sp)\n",
    "# df_lp = DataFrame(mean_event_lp)\n",
    "\n",
    "# CSV.write(\"all-events.csv\", df)\n",
    "# CSV.write(\"sp-mean.csv\", df_sp)\n",
    "# CSV.write(\"lp-mean.csv\", df_lp)"
   ]
  }
 ],
 "metadata": {
  "kernelspec": {
   "display_name": "Julia 1.5.3",
   "language": "julia",
   "name": "julia-1.5"
  },
  "language_info": {
   "file_extension": ".jl",
   "mimetype": "application/julia",
   "name": "julia",
   "version": "1.5.3"
  }
 },
 "nbformat": 4,
 "nbformat_minor": 4
}
